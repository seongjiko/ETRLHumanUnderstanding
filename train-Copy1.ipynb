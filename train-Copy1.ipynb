{
 "cells": [
  {
   "cell_type": "code",
   "execution_count": 35,
   "metadata": {},
   "outputs": [],
   "source": [
    "import os\n",
    "import re\n",
    "import csv\n",
    "import random\n",
    "from glob import glob\n",
    "\n",
    "import numpy as np\n",
    "import pandas as pd\n",
    "\n",
    "from PIL import Image\n",
    "\n",
    "import torch\n",
    "import torch.nn as nn\n",
    "import torch.optim as optim\n",
    "from torch.utils.data import DataLoader, Dataset\n",
    "\n",
    "import torchvision.transforms as v2\n",
    "import timm\n",
    "import albumentations as A\n",
    "from albumentations.pytorch import ToTensorV2\n",
    "\n",
    "from sklearn.metrics import accuracy_score, f1_score, roc_auc_score\n",
    "from sklearn.model_selection import train_test_split, KFold\n",
    "from sklearn.preprocessing import LabelEncoder\n",
    "\n",
    "import matplotlib.pyplot as plt\n",
    "import seaborn as sns\n",
    "\n",
    "from tqdm.cli import tqdm\n",
    "\n",
    "import warnings\n",
    "warnings.filterwarnings('ignore')\n"
   ]
  },
  {
   "cell_type": "code",
   "execution_count": 36,
   "metadata": {},
   "outputs": [],
   "source": [
    "def seed_everything(seed=42):\n",
    "    random.seed(seed)  # Python 내장 random 모듈\n",
    "    os.environ['PYTHONHASHSEED'] = str(seed)  # 환경변수 설정\n",
    "    np.random.seed(seed)  # NumPy\n",
    "    torch.manual_seed(seed)  # PyTorch CPU 시드 고정\n",
    "    torch.cuda.manual_seed(seed)  # PyTorch GPU 시드 고정\n",
    "    torch.cuda.manual_seed_all(seed)  # 멀티 GPU 환경에서도 시드 고정\n",
    "    torch.backends.cudnn.deterministic = True  # CuDNN 관련 설정\n",
    "    torch.backends.cudnn.benchmark = False  # 동일한 입력 크기의 데이터가 반복될 경우 속도 향상을 위한 벤치마크 모드 비활성화\n",
    "\n",
    "# 사용 예시\n",
    "seed_everything(seed=42)"
   ]
  },
  {
   "cell_type": "markdown",
   "metadata": {},
   "source": [
    "이미지 경로 포함"
   ]
  },
  {
   "cell_type": "code",
   "execution_count": null,
   "metadata": {},
   "outputs": [],
   "source": []
  },
  {
   "cell_type": "code",
   "execution_count": 15,
   "metadata": {},
   "outputs": [],
   "source": [
    "valid_df = pd.read_csv('datasets/val_label.csv')\n",
    "valid_df['data_path'] = valid_df.apply(lambda row: f\"temp/temp{row['subject_id']}_{row['date']}.png\", axis=1)"
   ]
  },
  {
   "cell_type": "code",
   "execution_count": 16,
   "metadata": {},
   "outputs": [
    {
     "data": {
      "text/html": [
       "<div>\n",
       "<style scoped>\n",
       "    .dataframe tbody tr th:only-of-type {\n",
       "        vertical-align: middle;\n",
       "    }\n",
       "\n",
       "    .dataframe tbody tr th {\n",
       "        vertical-align: top;\n",
       "    }\n",
       "\n",
       "    .dataframe thead th {\n",
       "        text-align: right;\n",
       "    }\n",
       "</style>\n",
       "<table border=\"1\" class=\"dataframe\">\n",
       "  <thead>\n",
       "    <tr style=\"text-align: right;\">\n",
       "      <th></th>\n",
       "      <th>subject_id</th>\n",
       "      <th>date</th>\n",
       "      <th>Q1</th>\n",
       "      <th>Q2</th>\n",
       "      <th>Q3</th>\n",
       "      <th>S1</th>\n",
       "      <th>S2</th>\n",
       "      <th>S3</th>\n",
       "      <th>S4</th>\n",
       "      <th>data_path</th>\n",
       "    </tr>\n",
       "  </thead>\n",
       "  <tbody>\n",
       "    <tr>\n",
       "      <th>0</th>\n",
       "      <td>1</td>\n",
       "      <td>2023-08-20</td>\n",
       "      <td>1</td>\n",
       "      <td>1</td>\n",
       "      <td>1</td>\n",
       "      <td>0</td>\n",
       "      <td>0</td>\n",
       "      <td>0</td>\n",
       "      <td>0</td>\n",
       "      <td>temp/temp1_2023-08-20.png</td>\n",
       "    </tr>\n",
       "    <tr>\n",
       "      <th>1</th>\n",
       "      <td>1</td>\n",
       "      <td>2023-08-21</td>\n",
       "      <td>1</td>\n",
       "      <td>1</td>\n",
       "      <td>1</td>\n",
       "      <td>0</td>\n",
       "      <td>0</td>\n",
       "      <td>1</td>\n",
       "      <td>0</td>\n",
       "      <td>temp/temp1_2023-08-21.png</td>\n",
       "    </tr>\n",
       "    <tr>\n",
       "      <th>2</th>\n",
       "      <td>1</td>\n",
       "      <td>2023-08-22</td>\n",
       "      <td>0</td>\n",
       "      <td>1</td>\n",
       "      <td>1</td>\n",
       "      <td>0</td>\n",
       "      <td>1</td>\n",
       "      <td>1</td>\n",
       "      <td>0</td>\n",
       "      <td>temp/temp1_2023-08-22.png</td>\n",
       "    </tr>\n",
       "    <tr>\n",
       "      <th>3</th>\n",
       "      <td>1</td>\n",
       "      <td>2023-08-23</td>\n",
       "      <td>0</td>\n",
       "      <td>1</td>\n",
       "      <td>1</td>\n",
       "      <td>0</td>\n",
       "      <td>0</td>\n",
       "      <td>1</td>\n",
       "      <td>0</td>\n",
       "      <td>temp/temp1_2023-08-23.png</td>\n",
       "    </tr>\n",
       "    <tr>\n",
       "      <th>4</th>\n",
       "      <td>1</td>\n",
       "      <td>2023-08-24</td>\n",
       "      <td>1</td>\n",
       "      <td>1</td>\n",
       "      <td>1</td>\n",
       "      <td>0</td>\n",
       "      <td>0</td>\n",
       "      <td>1</td>\n",
       "      <td>0</td>\n",
       "      <td>temp/temp1_2023-08-24.png</td>\n",
       "    </tr>\n",
       "  </tbody>\n",
       "</table>\n",
       "</div>"
      ],
      "text/plain": [
       "   subject_id        date  Q1  Q2  Q3  S1  S2  S3  S4  \\\n",
       "0           1  2023-08-20   1   1   1   0   0   0   0   \n",
       "1           1  2023-08-21   1   1   1   0   0   1   0   \n",
       "2           1  2023-08-22   0   1   1   0   1   1   0   \n",
       "3           1  2023-08-23   0   1   1   0   0   1   0   \n",
       "4           1  2023-08-24   1   1   1   0   0   1   0   \n",
       "\n",
       "                   data_path  \n",
       "0  temp/temp1_2023-08-20.png  \n",
       "1  temp/temp1_2023-08-21.png  \n",
       "2  temp/temp1_2023-08-22.png  \n",
       "3  temp/temp1_2023-08-23.png  \n",
       "4  temp/temp1_2023-08-24.png  "
      ]
     },
     "execution_count": 16,
     "metadata": {},
     "output_type": "execute_result"
    }
   ],
   "source": [
    "valid_df.head()"
   ]
  },
  {
   "cell_type": "code",
   "execution_count": 17,
   "metadata": {},
   "outputs": [],
   "source": [
    "class CustomDataset(Dataset):\n",
    "    def __init__(self, df, transforms):\n",
    "        self.path = df['data_path'].values\n",
    "        self.class_ = df[['Q1', 'Q2', 'Q3', 'S1', 'S2', 'S3', 'S4']].values\n",
    "        self.transform = transforms\n",
    "\n",
    "    def __getitem__(self, idx):\n",
    "        try:\n",
    "            img = np.array(Image.open(self.path[idx]).convert('RGB'))\n",
    "        except FileNotFoundError:\n",
    "            return self.__getitem__((idx + 1) % len(self))\n",
    "        \n",
    "        img = self.transform(image=img)['image']\n",
    "        img = torch.tensor(img, dtype=torch.float)  # Explicitly specify the type as float\n",
    "        y = self.class_[idx]\n",
    "        \n",
    "        return img, y\n",
    "    \n",
    "    def __len__(self):\n",
    "        return len(self.path)"
   ]
  },
  {
   "cell_type": "markdown",
   "metadata": {},
   "source": [
    "### 데이터 mean, std 계산"
   ]
  },
  {
   "cell_type": "code",
   "execution_count": 19,
   "metadata": {},
   "outputs": [],
   "source": [
    "import numpy as np\n",
    "import albumentations as A\n",
    "from albumentations.core.transforms_interface import ImageOnlyTransform\n",
    "from albumentations.pytorch import ToTensorV2\n",
    "\n",
    "# 기존의 train_transforms에 새로운 증강 기법 추가\n",
    "train_transforms = A.Compose([\n",
    "    A.Resize(always_apply = True, p=1.0, height=224, width=224),\n",
    "    A.Normalize(p=1.0),\n",
    "    ToTensorV2()\n",
    "])\n",
    "\n",
    "\n",
    "test_transforms = A.Compose([\n",
    "    A.Resize(always_apply = True, p=1.0, height=224, width=224),\n",
    "    A.Normalize(p=1.0),\n",
    "    ToTensorV2()\n",
    "])"
   ]
  },
  {
   "cell_type": "code",
   "execution_count": 20,
   "metadata": {},
   "outputs": [],
   "source": [
    "epochs = 200"
   ]
  },
  {
   "cell_type": "code",
   "execution_count": 31,
   "metadata": {},
   "outputs": [],
   "source": [
    "from collections import deque\n",
    "\n",
    "def run_model(model, loader, loss_fn=None, optimizer=None, is_training=False, epoch=None):\n",
    "    targets = []\n",
    "    preds = []\n",
    "    smooth_loss_queue = deque(maxlen=50)  # 최근 50개의 손실을 저장할 큐\n",
    "\n",
    "    if is_training:\n",
    "        model.train()\n",
    "        mode = 'Train'\n",
    "    else:\n",
    "        model.eval()\n",
    "        mode = 'Valid/Test'\n",
    "\n",
    "    running_loss = 0.0\n",
    "    bar = tqdm(loader, ascii=True, leave=False)\n",
    "    for cnt, (data, target) in enumerate(bar):\n",
    "        data = data.to('cuda')\n",
    "        target = target.to('cuda')\n",
    "        if is_training:\n",
    "            optimizer.zero_grad()\n",
    "\n",
    "        outputs = torch.sigmoid(model(data))\n",
    "        total_loss = loss_fn(outputs, target.float())\n",
    "        running_loss += total_loss.item()\n",
    "        smooth_loss_queue.append(total_loss.item())  # 현재 손실을 큐에 추가\n",
    "        smooth_loss = sum(smooth_loss_queue) / len(smooth_loss_queue)  # 큐에 있는 손실의 평균 계산\n",
    "\n",
    "        predicted = (outputs > 0.5).float()\n",
    "        preds.extend(predicted.detach().cpu().tolist())\n",
    "        targets.extend(target.detach().cpu().tolist())\n",
    "\n",
    "        if is_training:\n",
    "            total_loss.backward()\n",
    "            optimizer.step()\n",
    "\n",
    "        # 에폭 정보와 함께 배치별 손실 평균 및 smooth loss 출력\n",
    "        bar.set_description(f'Epoch {epoch} {mode} - Loss: {total_loss:.4f}, Smooth Loss: {smooth_loss:.4f}')\n",
    "\n",
    "    f1_score_ = f1_score(np.array(targets), np.array(preds), average='macro')\n",
    "    acc_score = accuracy_score(np.array(targets).reshape(-1), np.array(preds).reshape(-1))\n",
    "\n",
    "    return running_loss / len(loader), acc_score, f1_score_\n"
   ]
  },
  {
   "cell_type": "code",
   "execution_count": 32,
   "metadata": {},
   "outputs": [],
   "source": [
    "full_df = pd.read_csv('datasets/val_label.csv')\n",
    "full_df['data_path'] = full_df.apply(lambda row: f\"datasets/image_datasets/valid_images/user{row['subject_id']}_{row['date']}_org.png\", axis=1)"
   ]
  },
  {
   "cell_type": "code",
   "execution_count": 33,
   "metadata": {},
   "outputs": [
    {
     "name": "stderr",
     "output_type": "stream",
     "text": [
      "                                                                                         \r"
     ]
    },
    {
     "name": "stdout",
     "output_type": "stream",
     "text": [
      "Epoch 1: Train Loss: 0.664333, Train Acc: 0.598639, Train F1: 0.535600, Valid Loss: 0.639699, Valid Acc: 0.612245, Valid F1: 0.490150\n"
     ]
    },
    {
     "name": "stderr",
     "output_type": "stream",
     "text": [
      "                                                                                         \r"
     ]
    },
    {
     "name": "stdout",
     "output_type": "stream",
     "text": [
      "Epoch 2: Train Loss: 0.494915, Train Acc: 0.860544, Train F1: 0.793136, Valid Loss: 0.595950, Valid Acc: 0.700680, Valid F1: 0.484976\n"
     ]
    },
    {
     "name": "stderr",
     "output_type": "stream",
     "text": [
      "                                                                                         \r"
     ]
    },
    {
     "name": "stdout",
     "output_type": "stream",
     "text": [
      "Epoch 3: Train Loss: 0.366654, Train Acc: 0.935374, Train F1: 0.892581, Valid Loss: 0.568097, Valid Acc: 0.714286, Valid F1: 0.479742\n"
     ]
    },
    {
     "name": "stderr",
     "output_type": "stream",
     "text": [
      "                                                                                         \r"
     ]
    },
    {
     "name": "stdout",
     "output_type": "stream",
     "text": [
      "Epoch 4: Train Loss: 0.268805, Train Acc: 0.964286, Train F1: 0.944017, Valid Loss: 0.483221, Valid Acc: 0.727891, Valid F1: 0.484378\n"
     ]
    },
    {
     "name": "stderr",
     "output_type": "stream",
     "text": [
      "                                                                                         \r"
     ]
    },
    {
     "name": "stdout",
     "output_type": "stream",
     "text": [
      "Epoch 5: Train Loss: 0.205410, Train Acc: 0.982993, Train F1: 0.976263, Valid Loss: 0.523295, Valid Acc: 0.761905, Valid F1: 0.542935\n"
     ]
    },
    {
     "name": "stderr",
     "output_type": "stream",
     "text": [
      "                                                                                         \r"
     ]
    },
    {
     "name": "stdout",
     "output_type": "stream",
     "text": [
      "Epoch 6: Train Loss: 0.149239, Train Acc: 0.993197, Train F1: 0.992115, Valid Loss: 0.598949, Valid Acc: 0.721088, Valid F1: 0.550144\n"
     ]
    },
    {
     "name": "stderr",
     "output_type": "stream",
     "text": [
      "                                                                                         \r"
     ]
    },
    {
     "name": "stdout",
     "output_type": "stream",
     "text": [
      "Epoch 7: Train Loss: 0.125207, Train Acc: 0.996599, Train F1: 0.994898, Valid Loss: 0.542557, Valid Acc: 0.707483, Valid F1: 0.511303\n"
     ]
    },
    {
     "name": "stderr",
     "output_type": "stream",
     "text": [
      "                                                                                         \r"
     ]
    },
    {
     "name": "stdout",
     "output_type": "stream",
     "text": [
      "Epoch 8: Train Loss: 0.125047, Train Acc: 0.991497, Train F1: 0.985204, Valid Loss: 0.509302, Valid Acc: 0.741497, Valid F1: 0.573894\n"
     ]
    },
    {
     "name": "stderr",
     "output_type": "stream",
     "text": [
      "                                                                                         \r"
     ]
    },
    {
     "name": "stdout",
     "output_type": "stream",
     "text": [
      "Epoch 9: Train Loss: 0.094311, Train Acc: 0.993197, Train F1: 0.994121, Valid Loss: 0.605473, Valid Acc: 0.741497, Valid F1: 0.556422\n"
     ]
    },
    {
     "name": "stderr",
     "output_type": "stream",
     "text": [
      "                                                                                         \r"
     ]
    },
    {
     "name": "stdout",
     "output_type": "stream",
     "text": [
      "Epoch 10: Train Loss: 0.075992, Train Acc: 1.000000, Train F1: 1.000000, Valid Loss: 0.680855, Valid Acc: 0.666667, Valid F1: 0.439081\n"
     ]
    },
    {
     "name": "stderr",
     "output_type": "stream",
     "text": [
      "                                                                                          \r"
     ]
    },
    {
     "name": "stdout",
     "output_type": "stream",
     "text": [
      "Epoch 11: Train Loss: 0.101460, Train Acc: 0.994898, Train F1: 0.995681, Valid Loss: 0.599872, Valid Acc: 0.721088, Valid F1: 0.551448\n"
     ]
    },
    {
     "name": "stderr",
     "output_type": "stream",
     "text": [
      "                                                                                          \r"
     ]
    },
    {
     "name": "stdout",
     "output_type": "stream",
     "text": [
      "Epoch 12: Train Loss: 0.082335, Train Acc: 0.994898, Train F1: 0.994462, Valid Loss: 0.563155, Valid Acc: 0.721088, Valid F1: 0.557117\n"
     ]
    },
    {
     "name": "stderr",
     "output_type": "stream",
     "text": [
      "                                                                                          \r"
     ]
    },
    {
     "name": "stdout",
     "output_type": "stream",
     "text": [
      "Epoch 13: Train Loss: 0.054955, Train Acc: 0.998299, Train F1: 0.998689, Valid Loss: 0.647589, Valid Acc: 0.721088, Valid F1: 0.518729\n"
     ]
    },
    {
     "name": "stderr",
     "output_type": "stream",
     "text": [
      "                                                                                          \r"
     ]
    },
    {
     "name": "stdout",
     "output_type": "stream",
     "text": [
      "Epoch 14: Train Loss: 0.076842, Train Acc: 0.994898, Train F1: 0.993917, Valid Loss: 0.643340, Valid Acc: 0.721088, Valid F1: 0.522989\n"
     ]
    },
    {
     "name": "stderr",
     "output_type": "stream",
     "text": [
      "                                                                                          \r"
     ]
    },
    {
     "name": "stdout",
     "output_type": "stream",
     "text": [
      "Epoch 15: Train Loss: 0.073972, Train Acc: 0.991497, Train F1: 0.991586, Valid Loss: 0.682621, Valid Acc: 0.673469, Valid F1: 0.541636\n"
     ]
    },
    {
     "name": "stderr",
     "output_type": "stream",
     "text": [
      "                                                                                          \r"
     ]
    },
    {
     "name": "stdout",
     "output_type": "stream",
     "text": [
      "Epoch 16: Train Loss: 0.061501, Train Acc: 0.993197, Train F1: 0.992288, Valid Loss: 0.624449, Valid Acc: 0.721088, Valid F1: 0.559490\n"
     ]
    },
    {
     "name": "stderr",
     "output_type": "stream",
     "text": [
      "                                                                                          \r"
     ]
    },
    {
     "name": "stdout",
     "output_type": "stream",
     "text": [
      "Epoch 17: Train Loss: 0.048107, Train Acc: 0.998299, Train F1: 0.998779, Valid Loss: 0.617012, Valid Acc: 0.734694, Valid F1: 0.579797\n"
     ]
    },
    {
     "name": "stderr",
     "output_type": "stream",
     "text": [
      "                                                                                          \r"
     ]
    },
    {
     "name": "stdout",
     "output_type": "stream",
     "text": [
      "Epoch 18: Train Loss: 0.047776, Train Acc: 0.998299, Train F1: 0.997494, Valid Loss: 0.523025, Valid Acc: 0.775510, Valid F1: 0.608810\n"
     ]
    },
    {
     "name": "stderr",
     "output_type": "stream",
     "text": [
      "                                                                                          \r"
     ]
    },
    {
     "name": "stdout",
     "output_type": "stream",
     "text": [
      "Epoch 19: Train Loss: 0.034316, Train Acc: 1.000000, Train F1: 1.000000, Valid Loss: 0.490095, Valid Acc: 0.775510, Valid F1: 0.613095\n"
     ]
    },
    {
     "name": "stderr",
     "output_type": "stream",
     "text": [
      "                                                                                          \r"
     ]
    },
    {
     "name": "stdout",
     "output_type": "stream",
     "text": [
      "Epoch 20: Train Loss: 0.035428, Train Acc: 0.998299, Train F1: 0.997494, Valid Loss: 0.561551, Valid Acc: 0.775510, Valid F1: 0.613537\n"
     ]
    },
    {
     "name": "stderr",
     "output_type": "stream",
     "text": [
      "                                                                                          \r"
     ]
    },
    {
     "name": "stdout",
     "output_type": "stream",
     "text": [
      "Epoch 21: Train Loss: 0.045241, Train Acc: 0.996599, Train F1: 0.996292, Valid Loss: 0.548480, Valid Acc: 0.714286, Valid F1: 0.581984\n"
     ]
    },
    {
     "name": "stderr",
     "output_type": "stream",
     "text": [
      "                                                                                          \r"
     ]
    },
    {
     "name": "stdout",
     "output_type": "stream",
     "text": [
      "Epoch 22: Train Loss: 0.038619, Train Acc: 0.998299, Train F1: 0.998319, Valid Loss: 0.585714, Valid Acc: 0.707483, Valid F1: 0.554313\n"
     ]
    },
    {
     "name": "stderr",
     "output_type": "stream",
     "text": [
      "                                                                                          \r"
     ]
    },
    {
     "name": "stdout",
     "output_type": "stream",
     "text": [
      "Epoch 23: Train Loss: 0.048664, Train Acc: 0.996599, Train F1: 0.995685, Valid Loss: 0.527678, Valid Acc: 0.755102, Valid F1: 0.582249\n"
     ]
    },
    {
     "name": "stderr",
     "output_type": "stream",
     "text": [
      "                                                                                          \r"
     ]
    },
    {
     "name": "stdout",
     "output_type": "stream",
     "text": [
      "Epoch 24: Train Loss: 0.040013, Train Acc: 0.998299, Train F1: 0.998145, Valid Loss: 0.559787, Valid Acc: 0.761905, Valid F1: 0.594653\n"
     ]
    },
    {
     "name": "stderr",
     "output_type": "stream",
     "text": [
      "                                                                                          \r"
     ]
    },
    {
     "name": "stdout",
     "output_type": "stream",
     "text": [
      "Epoch 25: Train Loss: 0.043424, Train Acc: 0.996599, Train F1: 0.996641, Valid Loss: 0.544908, Valid Acc: 0.755102, Valid F1: 0.612205\n"
     ]
    },
    {
     "name": "stderr",
     "output_type": "stream",
     "text": [
      "                                                                                          \r"
     ]
    },
    {
     "name": "stdout",
     "output_type": "stream",
     "text": [
      "Epoch 26: Train Loss: 0.035615, Train Acc: 0.996599, Train F1: 0.996688, Valid Loss: 0.601304, Valid Acc: 0.755102, Valid F1: 0.601116\n"
     ]
    },
    {
     "name": "stderr",
     "output_type": "stream",
     "text": [
      "                                                                                          \r"
     ]
    },
    {
     "name": "stdout",
     "output_type": "stream",
     "text": [
      "Epoch 27: Train Loss: 0.042738, Train Acc: 0.996599, Train F1: 0.997306, Valid Loss: 0.524400, Valid Acc: 0.734694, Valid F1: 0.597320\n"
     ]
    },
    {
     "name": "stderr",
     "output_type": "stream",
     "text": [
      "                                                                                          \r"
     ]
    },
    {
     "name": "stdout",
     "output_type": "stream",
     "text": [
      "Epoch 28: Train Loss: 0.059702, Train Acc: 0.993197, Train F1: 0.994497, Valid Loss: 0.568068, Valid Acc: 0.768707, Valid F1: 0.606725\n"
     ]
    },
    {
     "name": "stderr",
     "output_type": "stream",
     "text": [
      "                                                                                          \r"
     ]
    },
    {
     "name": "stdout",
     "output_type": "stream",
     "text": [
      "Epoch 29: Train Loss: 0.039664, Train Acc: 0.998299, Train F1: 0.996139, Valid Loss: 0.589507, Valid Acc: 0.707483, Valid F1: 0.555439\n"
     ]
    },
    {
     "name": "stderr",
     "output_type": "stream",
     "text": [
      "                                                                                          \r"
     ]
    },
    {
     "name": "stdout",
     "output_type": "stream",
     "text": [
      "Epoch 30: Train Loss: 0.039706, Train Acc: 0.996599, Train F1: 0.996273, Valid Loss: 0.626223, Valid Acc: 0.721088, Valid F1: 0.562303\n"
     ]
    },
    {
     "name": "stderr",
     "output_type": "stream",
     "text": [
      "                                                                                          \r"
     ]
    },
    {
     "name": "stdout",
     "output_type": "stream",
     "text": [
      "Epoch 31: Train Loss: 0.083089, Train Acc: 0.988095, Train F1: 0.987891, Valid Loss: 0.569122, Valid Acc: 0.741497, Valid F1: 0.584244\n"
     ]
    },
    {
     "name": "stderr",
     "output_type": "stream",
     "text": [
      "                                                                                          \r"
     ]
    },
    {
     "name": "stdout",
     "output_type": "stream",
     "text": [
      "Epoch 32: Train Loss: 0.064066, Train Acc: 0.984694, Train F1: 0.981148, Valid Loss: 0.716376, Valid Acc: 0.707483, Valid F1: 0.541081\n"
     ]
    },
    {
     "name": "stderr",
     "output_type": "stream",
     "text": [
      "                                                                                          \r"
     ]
    },
    {
     "name": "stdout",
     "output_type": "stream",
     "text": [
      "Epoch 33: Train Loss: 0.067035, Train Acc: 0.994898, Train F1: 0.994790, Valid Loss: 0.599278, Valid Acc: 0.687075, Valid F1: 0.554712\n"
     ]
    },
    {
     "name": "stderr",
     "output_type": "stream",
     "text": [
      "                                                                                          \r"
     ]
    },
    {
     "name": "stdout",
     "output_type": "stream",
     "text": [
      "Epoch 34: Train Loss: 0.051867, Train Acc: 0.991497, Train F1: 0.988942, Valid Loss: 0.618569, Valid Acc: 0.714286, Valid F1: 0.542613\n"
     ]
    },
    {
     "name": "stderr",
     "output_type": "stream",
     "text": [
      "                                                                                          \r"
     ]
    },
    {
     "name": "stdout",
     "output_type": "stream",
     "text": [
      "Epoch 35: Train Loss: 0.051186, Train Acc: 0.996599, Train F1: 0.995723, Valid Loss: 0.649780, Valid Acc: 0.734694, Valid F1: 0.532370\n"
     ]
    },
    {
     "name": "stderr",
     "output_type": "stream",
     "text": [
      "                                                                                          \r"
     ]
    },
    {
     "name": "stdout",
     "output_type": "stream",
     "text": [
      "Epoch 36: Train Loss: 0.062282, Train Acc: 0.993197, Train F1: 0.993397, Valid Loss: 0.601460, Valid Acc: 0.727891, Valid F1: 0.551309\n"
     ]
    },
    {
     "name": "stderr",
     "output_type": "stream",
     "text": [
      "                                                                                          \r"
     ]
    },
    {
     "name": "stdout",
     "output_type": "stream",
     "text": [
      "Epoch 37: Train Loss: 0.054914, Train Acc: 0.996599, Train F1: 0.996902, Valid Loss: 0.568193, Valid Acc: 0.741497, Valid F1: 0.576630\n"
     ]
    },
    {
     "name": "stderr",
     "output_type": "stream",
     "text": [
      "                                                                                          \r"
     ]
    },
    {
     "name": "stdout",
     "output_type": "stream",
     "text": [
      "Epoch 38: Train Loss: 0.051032, Train Acc: 0.994898, Train F1: 0.994092, Valid Loss: 0.669680, Valid Acc: 0.734694, Valid F1: 0.567161\n"
     ]
    },
    {
     "name": "stderr",
     "output_type": "stream",
     "text": [
      "                                                                                          \r"
     ]
    },
    {
     "name": "stdout",
     "output_type": "stream",
     "text": [
      "Epoch 39: Train Loss: 0.075254, Train Acc: 0.989796, Train F1: 0.989649, Valid Loss: 0.587727, Valid Acc: 0.721088, Valid F1: 0.561555\n"
     ]
    },
    {
     "name": "stderr",
     "output_type": "stream",
     "text": [
      "                                                                                          \r"
     ]
    },
    {
     "name": "stdout",
     "output_type": "stream",
     "text": [
      "Epoch 40: Train Loss: 0.054603, Train Acc: 0.994898, Train F1: 0.994920, Valid Loss: 0.612697, Valid Acc: 0.673469, Valid F1: 0.548364\n"
     ]
    },
    {
     "name": "stderr",
     "output_type": "stream",
     "text": [
      "                                                                                          \r"
     ]
    },
    {
     "name": "stdout",
     "output_type": "stream",
     "text": [
      "Epoch 41: Train Loss: 0.053766, Train Acc: 0.989796, Train F1: 0.990020, Valid Loss: 0.632254, Valid Acc: 0.625850, Valid F1: 0.527652\n"
     ]
    },
    {
     "name": "stderr",
     "output_type": "stream",
     "text": [
      "                                                                                          \r"
     ]
    },
    {
     "name": "stdout",
     "output_type": "stream",
     "text": [
      "Epoch 42: Train Loss: 0.034043, Train Acc: 0.994898, Train F1: 0.992610, Valid Loss: 0.616991, Valid Acc: 0.653061, Valid F1: 0.535905\n"
     ]
    },
    {
     "name": "stderr",
     "output_type": "stream",
     "text": [
      "                                                                                          \r"
     ]
    },
    {
     "name": "stdout",
     "output_type": "stream",
     "text": [
      "Epoch 43: Train Loss: 0.026921, Train Acc: 1.000000, Train F1: 1.000000, Valid Loss: 0.580823, Valid Acc: 0.700680, Valid F1: 0.537728\n"
     ]
    },
    {
     "name": "stderr",
     "output_type": "stream",
     "text": [
      "                                                                                          \r"
     ]
    },
    {
     "name": "stdout",
     "output_type": "stream",
     "text": [
      "Epoch 44: Train Loss: 0.030598, Train Acc: 0.998299, Train F1: 0.998496, Valid Loss: 0.583624, Valid Acc: 0.741497, Valid F1: 0.572971\n"
     ]
    },
    {
     "name": "stderr",
     "output_type": "stream",
     "text": [
      "                                                                                          \r"
     ]
    },
    {
     "name": "stdout",
     "output_type": "stream",
     "text": [
      "Epoch 45: Train Loss: 0.040675, Train Acc: 0.996599, Train F1: 0.997085, Valid Loss: 0.543192, Valid Acc: 0.761905, Valid F1: 0.607051\n"
     ]
    },
    {
     "name": "stderr",
     "output_type": "stream",
     "text": [
      "                                                                                          \r"
     ]
    },
    {
     "name": "stdout",
     "output_type": "stream",
     "text": [
      "Epoch 46: Train Loss: 0.038111, Train Acc: 0.996599, Train F1: 0.997254, Valid Loss: 0.636687, Valid Acc: 0.761905, Valid F1: 0.597355\n"
     ]
    },
    {
     "name": "stderr",
     "output_type": "stream",
     "text": [
      "                                                                                          \r"
     ]
    },
    {
     "name": "stdout",
     "output_type": "stream",
     "text": [
      "Epoch 47: Train Loss: 0.035161, Train Acc: 0.996599, Train F1: 0.997085, Valid Loss: 0.559542, Valid Acc: 0.768707, Valid F1: 0.581817\n"
     ]
    },
    {
     "name": "stderr",
     "output_type": "stream",
     "text": [
      "                                                                                          \r"
     ]
    },
    {
     "name": "stdout",
     "output_type": "stream",
     "text": [
      "Epoch 48: Train Loss: 0.019691, Train Acc: 1.000000, Train F1: 1.000000, Valid Loss: 0.587064, Valid Acc: 0.748299, Valid F1: 0.562175\n"
     ]
    },
    {
     "name": "stderr",
     "output_type": "stream",
     "text": [
      "                                                                                          \r"
     ]
    },
    {
     "name": "stdout",
     "output_type": "stream",
     "text": [
      "Epoch 49: Train Loss: 0.053859, Train Acc: 0.994898, Train F1: 0.995451, Valid Loss: 0.499896, Valid Acc: 0.761905, Valid F1: 0.570668\n"
     ]
    },
    {
     "name": "stderr",
     "output_type": "stream",
     "text": [
      "                                                                                          \r"
     ]
    },
    {
     "name": "stdout",
     "output_type": "stream",
     "text": [
      "Epoch 50: Train Loss: 0.019613, Train Acc: 1.000000, Train F1: 1.000000, Valid Loss: 0.553939, Valid Acc: 0.755102, Valid F1: 0.578169\n"
     ]
    },
    {
     "name": "stderr",
     "output_type": "stream",
     "text": [
      "                                                                                          \r"
     ]
    },
    {
     "name": "stdout",
     "output_type": "stream",
     "text": [
      "Epoch 51: Train Loss: 0.030901, Train Acc: 0.998299, Train F1: 0.998779, Valid Loss: 0.571538, Valid Acc: 0.714286, Valid F1: 0.565694\n"
     ]
    },
    {
     "name": "stderr",
     "output_type": "stream",
     "text": [
      "                                                                                          \r"
     ]
    },
    {
     "name": "stdout",
     "output_type": "stream",
     "text": [
      "Epoch 52: Train Loss: 0.028731, Train Acc: 0.996599, Train F1: 0.994918, Valid Loss: 0.594245, Valid Acc: 0.727891, Valid F1: 0.559774\n"
     ]
    },
    {
     "name": "stderr",
     "output_type": "stream",
     "text": [
      "                                                                                          \r"
     ]
    },
    {
     "name": "stdout",
     "output_type": "stream",
     "text": [
      "Epoch 53: Train Loss: 0.019372, Train Acc: 1.000000, Train F1: 1.000000, Valid Loss: 0.620011, Valid Acc: 0.707483, Valid F1: 0.535233\n"
     ]
    },
    {
     "name": "stderr",
     "output_type": "stream",
     "text": [
      "                                                                                          \r"
     ]
    },
    {
     "name": "stdout",
     "output_type": "stream",
     "text": [
      "Epoch 54: Train Loss: 0.018645, Train Acc: 1.000000, Train F1: 1.000000, Valid Loss: 0.588196, Valid Acc: 0.700680, Valid F1: 0.525989\n"
     ]
    },
    {
     "name": "stderr",
     "output_type": "stream",
     "text": [
      "                                                                                          \r"
     ]
    },
    {
     "name": "stdout",
     "output_type": "stream",
     "text": [
      "Epoch 55: Train Loss: 0.054880, Train Acc: 0.994898, Train F1: 0.995181, Valid Loss: 0.616767, Valid Acc: 0.721088, Valid F1: 0.562616\n"
     ]
    },
    {
     "name": "stderr",
     "output_type": "stream",
     "text": [
      "                                                                                          \r"
     ]
    },
    {
     "name": "stdout",
     "output_type": "stream",
     "text": [
      "Epoch 56: Train Loss: 0.019064, Train Acc: 1.000000, Train F1: 1.000000, Valid Loss: 0.702256, Valid Acc: 0.591837, Valid F1: 0.451454\n"
     ]
    },
    {
     "name": "stderr",
     "output_type": "stream",
     "text": [
      "                                                                                          \r"
     ]
    },
    {
     "name": "stdout",
     "output_type": "stream",
     "text": [
      "Epoch 57: Train Loss: 0.031194, Train Acc: 0.994898, Train F1: 0.994637, Valid Loss: 0.629026, Valid Acc: 0.625850, Valid F1: 0.436958\n"
     ]
    },
    {
     "name": "stderr",
     "output_type": "stream",
     "text": [
      "                                                                                          \r"
     ]
    },
    {
     "name": "stdout",
     "output_type": "stream",
     "text": [
      "Epoch 58: Train Loss: 0.022807, Train Acc: 0.998299, Train F1: 0.998192, Valid Loss: 0.727934, Valid Acc: 0.659864, Valid F1: 0.493432\n"
     ]
    },
    {
     "name": "stderr",
     "output_type": "stream",
     "text": [
      "                                                                                          \r"
     ]
    },
    {
     "name": "stdout",
     "output_type": "stream",
     "text": [
      "Epoch 59: Train Loss: 0.017339, Train Acc: 1.000000, Train F1: 1.000000, Valid Loss: 0.642251, Valid Acc: 0.639456, Valid F1: 0.500333\n"
     ]
    },
    {
     "name": "stderr",
     "output_type": "stream",
     "text": [
      "                                                                                          \r"
     ]
    },
    {
     "name": "stdout",
     "output_type": "stream",
     "text": [
      "Epoch 60: Train Loss: 0.029517, Train Acc: 0.996599, Train F1: 0.993633, Valid Loss: 0.740127, Valid Acc: 0.591837, Valid F1: 0.473433\n"
     ]
    },
    {
     "name": "stderr",
     "output_type": "stream",
     "text": [
      "                                                                                          \r"
     ]
    },
    {
     "name": "stdout",
     "output_type": "stream",
     "text": [
      "Epoch 61: Train Loss: 0.019282, Train Acc: 1.000000, Train F1: 1.000000, Valid Loss: 0.685738, Valid Acc: 0.625850, Valid F1: 0.534712\n"
     ]
    },
    {
     "name": "stderr",
     "output_type": "stream",
     "text": [
      "                                                                                          \r"
     ]
    },
    {
     "name": "stdout",
     "output_type": "stream",
     "text": [
      "Epoch 62: Train Loss: 0.044577, Train Acc: 0.988095, Train F1: 0.985188, Valid Loss: 0.595125, Valid Acc: 0.619048, Valid F1: 0.478621\n"
     ]
    },
    {
     "name": "stderr",
     "output_type": "stream",
     "text": [
      "                                                                                          \r"
     ]
    },
    {
     "name": "stdout",
     "output_type": "stream",
     "text": [
      "Epoch 63: Train Loss: 0.035812, Train Acc: 0.993197, Train F1: 0.992828, Valid Loss: 0.645528, Valid Acc: 0.659864, Valid F1: 0.549072\n"
     ]
    },
    {
     "name": "stderr",
     "output_type": "stream",
     "text": [
      "                                                                                          \r"
     ]
    },
    {
     "name": "stdout",
     "output_type": "stream",
     "text": [
      "Epoch 64: Train Loss: 0.069635, Train Acc: 0.991497, Train F1: 0.992169, Valid Loss: 0.664859, Valid Acc: 0.680272, Valid F1: 0.555556\n"
     ]
    },
    {
     "name": "stderr",
     "output_type": "stream",
     "text": [
      "                                                                                          \r"
     ]
    },
    {
     "name": "stdout",
     "output_type": "stream",
     "text": [
      "Epoch 65: Train Loss: 0.031912, Train Acc: 0.998299, Train F1: 0.996337, Valid Loss: 0.621209, Valid Acc: 0.714286, Valid F1: 0.513867\n"
     ]
    },
    {
     "name": "stderr",
     "output_type": "stream",
     "text": [
      "                                                                                          \r"
     ]
    },
    {
     "name": "stdout",
     "output_type": "stream",
     "text": [
      "Epoch 66: Train Loss: 0.051186, Train Acc: 0.989796, Train F1: 0.987919, Valid Loss: 0.588645, Valid Acc: 0.721088, Valid F1: 0.538888\n"
     ]
    },
    {
     "name": "stderr",
     "output_type": "stream",
     "text": [
      "                                                                                          \r"
     ]
    },
    {
     "name": "stdout",
     "output_type": "stream",
     "text": [
      "Epoch 67: Train Loss: 0.029185, Train Acc: 0.993197, Train F1: 0.990987, Valid Loss: 0.604170, Valid Acc: 0.707483, Valid F1: 0.578728\n"
     ]
    },
    {
     "name": "stderr",
     "output_type": "stream",
     "text": [
      "                                                                                          \r"
     ]
    },
    {
     "name": "stdout",
     "output_type": "stream",
     "text": [
      "Epoch 68: Train Loss: 0.034766, Train Acc: 0.994898, Train F1: 0.991171, Valid Loss: 0.703826, Valid Acc: 0.734694, Valid F1: 0.591457\n"
     ]
    },
    {
     "name": "stderr",
     "output_type": "stream",
     "text": [
      "                                                                                          \r"
     ]
    },
    {
     "name": "stdout",
     "output_type": "stream",
     "text": [
      "Epoch 69: Train Loss: 0.019497, Train Acc: 1.000000, Train F1: 1.000000, Valid Loss: 0.669023, Valid Acc: 0.748299, Valid F1: 0.605683\n"
     ]
    },
    {
     "name": "stderr",
     "output_type": "stream",
     "text": [
      "                                                                                          \r"
     ]
    },
    {
     "name": "stdout",
     "output_type": "stream",
     "text": [
      "Epoch 70: Train Loss: 0.013530, Train Acc: 1.000000, Train F1: 1.000000, Valid Loss: 0.716725, Valid Acc: 0.727891, Valid F1: 0.590494\n"
     ]
    },
    {
     "name": "stderr",
     "output_type": "stream",
     "text": [
      "                                                                                          \r"
     ]
    },
    {
     "name": "stdout",
     "output_type": "stream",
     "text": [
      "Epoch 71: Train Loss: 0.017156, Train Acc: 0.998299, Train F1: 0.996139, Valid Loss: 0.655549, Valid Acc: 0.755102, Valid F1: 0.624030\n"
     ]
    },
    {
     "name": "stderr",
     "output_type": "stream",
     "text": [
      "                                                                                          \r"
     ]
    },
    {
     "name": "stdout",
     "output_type": "stream",
     "text": [
      "Epoch 72: Train Loss: 0.012797, Train Acc: 1.000000, Train F1: 1.000000, Valid Loss: 0.632648, Valid Acc: 0.734694, Valid F1: 0.584928\n"
     ]
    },
    {
     "name": "stderr",
     "output_type": "stream",
     "text": [
      "                                                                                          \r"
     ]
    },
    {
     "name": "stdout",
     "output_type": "stream",
     "text": [
      "Epoch 73: Train Loss: 0.014434, Train Acc: 1.000000, Train F1: 1.000000, Valid Loss: 0.556989, Valid Acc: 0.721088, Valid F1: 0.596332\n"
     ]
    },
    {
     "name": "stderr",
     "output_type": "stream",
     "text": [
      "                                                                                          \r"
     ]
    },
    {
     "name": "stdout",
     "output_type": "stream",
     "text": [
      "Epoch 74: Train Loss: 0.011361, Train Acc: 1.000000, Train F1: 1.000000, Valid Loss: 0.562611, Valid Acc: 0.721088, Valid F1: 0.577540\n"
     ]
    },
    {
     "name": "stderr",
     "output_type": "stream",
     "text": [
      "                                                                                          \r"
     ]
    },
    {
     "name": "stdout",
     "output_type": "stream",
     "text": [
      "Epoch 75: Train Loss: 0.072100, Train Acc: 0.993197, Train F1: 0.990254, Valid Loss: 0.585422, Valid Acc: 0.727891, Valid F1: 0.589774\n"
     ]
    },
    {
     "name": "stderr",
     "output_type": "stream",
     "text": [
      "                                                                                          \r"
     ]
    },
    {
     "name": "stdout",
     "output_type": "stream",
     "text": [
      "Epoch 76: Train Loss: 0.032531, Train Acc: 0.996599, Train F1: 0.995116, Valid Loss: 0.771323, Valid Acc: 0.721088, Valid F1: 0.564910\n"
     ]
    },
    {
     "name": "stderr",
     "output_type": "stream",
     "text": [
      "                                                                                          \r"
     ]
    },
    {
     "name": "stdout",
     "output_type": "stream",
     "text": [
      "Epoch 77: Train Loss: 0.016338, Train Acc: 0.998299, Train F1: 0.998689, Valid Loss: 0.558811, Valid Acc: 0.768707, Valid F1: 0.587588\n"
     ]
    },
    {
     "name": "stderr",
     "output_type": "stream",
     "text": [
      "                                                                                          \r"
     ]
    },
    {
     "name": "stdout",
     "output_type": "stream",
     "text": [
      "Epoch 78: Train Loss: 0.034152, Train Acc: 0.998299, Train F1: 0.998527, Valid Loss: 0.539056, Valid Acc: 0.748299, Valid F1: 0.585574\n"
     ]
    },
    {
     "name": "stderr",
     "output_type": "stream",
     "text": [
      "                                                                                          \r"
     ]
    },
    {
     "name": "stdout",
     "output_type": "stream",
     "text": [
      "Epoch 79: Train Loss: 0.034231, Train Acc: 0.994898, Train F1: 0.993588, Valid Loss: 0.561186, Valid Acc: 0.734694, Valid F1: 0.548550\n"
     ]
    },
    {
     "name": "stderr",
     "output_type": "stream",
     "text": [
      "                                                                                          \r"
     ]
    },
    {
     "name": "stdout",
     "output_type": "stream",
     "text": [
      "Epoch 80: Train Loss: 0.013904, Train Acc: 1.000000, Train F1: 1.000000, Valid Loss: 0.557150, Valid Acc: 0.734694, Valid F1: 0.563579\n"
     ]
    },
    {
     "name": "stderr",
     "output_type": "stream",
     "text": [
      "                                                                                          \r"
     ]
    },
    {
     "name": "stdout",
     "output_type": "stream",
     "text": [
      "Epoch 81: Train Loss: 0.025033, Train Acc: 0.998299, Train F1: 0.998758, Valid Loss: 0.531951, Valid Acc: 0.714286, Valid F1: 0.541051\n"
     ]
    },
    {
     "name": "stderr",
     "output_type": "stream",
     "text": [
      "                                                                                          \r"
     ]
    },
    {
     "name": "stdout",
     "output_type": "stream",
     "text": [
      "Epoch 82: Train Loss: 0.015547, Train Acc: 1.000000, Train F1: 1.000000, Valid Loss: 0.510009, Valid Acc: 0.768707, Valid F1: 0.595753\n"
     ]
    },
    {
     "name": "stderr",
     "output_type": "stream",
     "text": [
      "                                                                                          \r"
     ]
    },
    {
     "name": "stdout",
     "output_type": "stream",
     "text": [
      "Epoch 83: Train Loss: 0.019342, Train Acc: 0.998299, Train F1: 0.998713, Valid Loss: 0.592975, Valid Acc: 0.755102, Valid F1: 0.571592\n"
     ]
    },
    {
     "name": "stderr",
     "output_type": "stream",
     "text": [
      "                                                                                          \r"
     ]
    },
    {
     "name": "stdout",
     "output_type": "stream",
     "text": [
      "Epoch 84: Train Loss: 0.036153, Train Acc: 0.994898, Train F1: 0.994135, Valid Loss: 0.623297, Valid Acc: 0.741497, Valid F1: 0.561407\n"
     ]
    },
    {
     "name": "stderr",
     "output_type": "stream",
     "text": [
      "                                                                                          \r"
     ]
    },
    {
     "name": "stdout",
     "output_type": "stream",
     "text": [
      "Epoch 85: Train Loss: 0.018630, Train Acc: 0.996599, Train F1: 0.996719, Valid Loss: 0.810250, Valid Acc: 0.734694, Valid F1: 0.576751\n"
     ]
    },
    {
     "name": "stderr",
     "output_type": "stream",
     "text": [
      "                                                                                          \r"
     ]
    },
    {
     "name": "stdout",
     "output_type": "stream",
     "text": [
      "Epoch 86: Train Loss: 0.058421, Train Acc: 0.993197, Train F1: 0.993979, Valid Loss: 0.621704, Valid Acc: 0.727891, Valid F1: 0.533109\n"
     ]
    },
    {
     "name": "stderr",
     "output_type": "stream",
     "text": [
      "                                                                                          \r"
     ]
    },
    {
     "name": "stdout",
     "output_type": "stream",
     "text": [
      "Epoch 87: Train Loss: 0.021388, Train Acc: 1.000000, Train F1: 1.000000, Valid Loss: 0.620902, Valid Acc: 0.775510, Valid F1: 0.596247\n"
     ]
    },
    {
     "name": "stderr",
     "output_type": "stream",
     "text": [
      "                                                                                          \r"
     ]
    },
    {
     "name": "stdout",
     "output_type": "stream",
     "text": [
      "Epoch 88: Train Loss: 0.028326, Train Acc: 0.998299, Train F1: 0.998496, Valid Loss: 0.557590, Valid Acc: 0.782313, Valid F1: 0.599223\n"
     ]
    },
    {
     "name": "stderr",
     "output_type": "stream",
     "text": [
      "                                                                                          \r"
     ]
    },
    {
     "name": "stdout",
     "output_type": "stream",
     "text": [
      "Epoch 89: Train Loss: 0.020512, Train Acc: 0.998299, Train F1: 0.998713, Valid Loss: 0.567114, Valid Acc: 0.768707, Valid F1: 0.572047\n"
     ]
    },
    {
     "name": "stderr",
     "output_type": "stream",
     "text": [
      "                                                                                          \r"
     ]
    },
    {
     "name": "stdout",
     "output_type": "stream",
     "text": [
      "Epoch 90: Train Loss: 0.013623, Train Acc: 1.000000, Train F1: 1.000000, Valid Loss: 0.571578, Valid Acc: 0.714286, Valid F1: 0.515699\n"
     ]
    },
    {
     "name": "stderr",
     "output_type": "stream",
     "text": [
      "                                                                                          \r"
     ]
    },
    {
     "name": "stdout",
     "output_type": "stream",
     "text": [
      "Epoch 91: Train Loss: 0.017710, Train Acc: 0.998299, Train F1: 0.996337, Valid Loss: 0.614692, Valid Acc: 0.693878, Valid F1: 0.497789\n"
     ]
    },
    {
     "name": "stderr",
     "output_type": "stream",
     "text": [
      "                                                                                          \r"
     ]
    },
    {
     "name": "stdout",
     "output_type": "stream",
     "text": [
      "Epoch 92: Train Loss: 0.015169, Train Acc: 0.998299, Train F1: 0.998779, Valid Loss: 0.591609, Valid Acc: 0.714286, Valid F1: 0.531870\n"
     ]
    },
    {
     "name": "stderr",
     "output_type": "stream",
     "text": [
      "                                                                                          \r"
     ]
    },
    {
     "name": "stdout",
     "output_type": "stream",
     "text": [
      "Epoch 93: Train Loss: 0.013626, Train Acc: 0.998299, Train F1: 0.996337, Valid Loss: 0.580516, Valid Acc: 0.700680, Valid F1: 0.527188\n"
     ]
    },
    {
     "name": "stderr",
     "output_type": "stream",
     "text": [
      "                                                                                          \r"
     ]
    },
    {
     "name": "stdout",
     "output_type": "stream",
     "text": [
      "Epoch 94: Train Loss: 0.013400, Train Acc: 1.000000, Train F1: 1.000000, Valid Loss: 0.604197, Valid Acc: 0.727891, Valid F1: 0.545612\n"
     ]
    },
    {
     "name": "stderr",
     "output_type": "stream",
     "text": [
      "                                                                                          \r"
     ]
    },
    {
     "name": "stdout",
     "output_type": "stream",
     "text": [
      "Epoch 95: Train Loss: 0.013072, Train Acc: 1.000000, Train F1: 1.000000, Valid Loss: 0.552530, Valid Acc: 0.721088, Valid F1: 0.532135\n"
     ]
    },
    {
     "name": "stderr",
     "output_type": "stream",
     "text": [
      "                                                                                          \r"
     ]
    },
    {
     "name": "stdout",
     "output_type": "stream",
     "text": [
      "Epoch 96: Train Loss: 0.018222, Train Acc: 0.998299, Train F1: 0.998713, Valid Loss: 0.594457, Valid Acc: 0.755102, Valid F1: 0.537936\n"
     ]
    },
    {
     "name": "stderr",
     "output_type": "stream",
     "text": [
      "                                                                                          \r"
     ]
    },
    {
     "name": "stdout",
     "output_type": "stream",
     "text": [
      "Epoch 97: Train Loss: 0.012415, Train Acc: 1.000000, Train F1: 1.000000, Valid Loss: 0.552103, Valid Acc: 0.741497, Valid F1: 0.545266\n"
     ]
    },
    {
     "name": "stderr",
     "output_type": "stream",
     "text": [
      "                                                                                          \r"
     ]
    },
    {
     "name": "stdout",
     "output_type": "stream",
     "text": [
      "Epoch 98: Train Loss: 0.012733, Train Acc: 1.000000, Train F1: 1.000000, Valid Loss: 0.572392, Valid Acc: 0.721088, Valid F1: 0.529146\n"
     ]
    },
    {
     "name": "stderr",
     "output_type": "stream",
     "text": [
      "                                                                                          \r"
     ]
    },
    {
     "name": "stdout",
     "output_type": "stream",
     "text": [
      "Epoch 99: Train Loss: 0.008530, Train Acc: 0.998299, Train F1: 0.998713, Valid Loss: 0.611988, Valid Acc: 0.721088, Valid F1: 0.515943\n"
     ]
    },
    {
     "name": "stderr",
     "output_type": "stream",
     "text": [
      "                                                                                          \r"
     ]
    },
    {
     "name": "stdout",
     "output_type": "stream",
     "text": [
      "Epoch 100: Train Loss: 0.014694, Train Acc: 1.000000, Train F1: 1.000000, Valid Loss: 0.695814, Valid Acc: 0.707483, Valid F1: 0.524244\n"
     ]
    },
    {
     "name": "stderr",
     "output_type": "stream",
     "text": [
      "                                                                                           \r"
     ]
    },
    {
     "name": "stdout",
     "output_type": "stream",
     "text": [
      "Epoch 101: Train Loss: 0.007757, Train Acc: 1.000000, Train F1: 1.000000, Valid Loss: 0.631903, Valid Acc: 0.700680, Valid F1: 0.500324\n"
     ]
    },
    {
     "name": "stderr",
     "output_type": "stream",
     "text": [
      "                                                                                           \r"
     ]
    },
    {
     "name": "stdout",
     "output_type": "stream",
     "text": [
      "Epoch 102: Train Loss: 0.009266, Train Acc: 1.000000, Train F1: 1.000000, Valid Loss: 0.577882, Valid Acc: 0.734694, Valid F1: 0.574768\n"
     ]
    },
    {
     "name": "stderr",
     "output_type": "stream",
     "text": [
      "                                                                                           \r"
     ]
    },
    {
     "name": "stdout",
     "output_type": "stream",
     "text": [
      "Epoch 103: Train Loss: 0.006064, Train Acc: 1.000000, Train F1: 1.000000, Valid Loss: 0.642980, Valid Acc: 0.741497, Valid F1: 0.577149\n"
     ]
    },
    {
     "name": "stderr",
     "output_type": "stream",
     "text": [
      "                                                                                           \r"
     ]
    },
    {
     "name": "stdout",
     "output_type": "stream",
     "text": [
      "Epoch 104: Train Loss: 0.004783, Train Acc: 1.000000, Train F1: 1.000000, Valid Loss: 0.579560, Valid Acc: 0.748299, Valid F1: 0.565793\n"
     ]
    },
    {
     "name": "stderr",
     "output_type": "stream",
     "text": [
      "                                                                                           \r"
     ]
    },
    {
     "name": "stdout",
     "output_type": "stream",
     "text": [
      "Epoch 105: Train Loss: 0.006714, Train Acc: 1.000000, Train F1: 1.000000, Valid Loss: 0.583623, Valid Acc: 0.734694, Valid F1: 0.539629\n"
     ]
    },
    {
     "name": "stderr",
     "output_type": "stream",
     "text": [
      "                                                                                           \r"
     ]
    },
    {
     "name": "stdout",
     "output_type": "stream",
     "text": [
      "Epoch 106: Train Loss: 0.008697, Train Acc: 1.000000, Train F1: 1.000000, Valid Loss: 0.569708, Valid Acc: 0.748299, Valid F1: 0.578744\n"
     ]
    },
    {
     "name": "stderr",
     "output_type": "stream",
     "text": [
      "                                                                                           \r"
     ]
    },
    {
     "name": "stdout",
     "output_type": "stream",
     "text": [
      "Epoch 107: Train Loss: 0.008482, Train Acc: 1.000000, Train F1: 1.000000, Valid Loss: 0.599848, Valid Acc: 0.748299, Valid F1: 0.545071\n"
     ]
    },
    {
     "name": "stderr",
     "output_type": "stream",
     "text": [
      "                                                                                           \r"
     ]
    },
    {
     "name": "stdout",
     "output_type": "stream",
     "text": [
      "Epoch 108: Train Loss: 0.004940, Train Acc: 1.000000, Train F1: 1.000000, Valid Loss: 0.557480, Valid Acc: 0.741497, Valid F1: 0.523426\n"
     ]
    },
    {
     "name": "stderr",
     "output_type": "stream",
     "text": [
      "                                                                                           \r"
     ]
    },
    {
     "name": "stdout",
     "output_type": "stream",
     "text": [
      "Epoch 109: Train Loss: 0.007582, Train Acc: 1.000000, Train F1: 1.000000, Valid Loss: 0.581255, Valid Acc: 0.734694, Valid F1: 0.534758\n"
     ]
    },
    {
     "name": "stderr",
     "output_type": "stream",
     "text": [
      "                                                                                           \r"
     ]
    },
    {
     "name": "stdout",
     "output_type": "stream",
     "text": [
      "Epoch 110: Train Loss: 0.017001, Train Acc: 0.998299, Train F1: 0.997494, Valid Loss: 0.594358, Valid Acc: 0.727891, Valid F1: 0.492582\n"
     ]
    },
    {
     "name": "stderr",
     "output_type": "stream",
     "text": [
      "                                                                                           \r"
     ]
    },
    {
     "name": "stdout",
     "output_type": "stream",
     "text": [
      "Epoch 111: Train Loss: 0.010802, Train Acc: 0.998299, Train F1: 0.997579, Valid Loss: 0.586308, Valid Acc: 0.748299, Valid F1: 0.522544\n"
     ]
    },
    {
     "name": "stderr",
     "output_type": "stream",
     "text": [
      "                                                                                           \r"
     ]
    },
    {
     "name": "stdout",
     "output_type": "stream",
     "text": [
      "Epoch 112: Train Loss: 0.024530, Train Acc: 0.998299, Train F1: 0.998713, Valid Loss: 0.588973, Valid Acc: 0.761905, Valid F1: 0.540584\n"
     ]
    },
    {
     "name": "stderr",
     "output_type": "stream",
     "text": [
      "                                                                                           \r"
     ]
    },
    {
     "name": "stdout",
     "output_type": "stream",
     "text": [
      "Epoch 113: Train Loss: 0.015332, Train Acc: 0.998299, Train F1: 0.997494, Valid Loss: 0.590893, Valid Acc: 0.741497, Valid F1: 0.507511\n"
     ]
    },
    {
     "name": "stderr",
     "output_type": "stream",
     "text": [
      "                                                                                           \r"
     ]
    },
    {
     "name": "stdout",
     "output_type": "stream",
     "text": [
      "Epoch 114: Train Loss: 0.018794, Train Acc: 0.998299, Train F1: 0.998689, Valid Loss: 0.572207, Valid Acc: 0.755102, Valid F1: 0.547318\n"
     ]
    },
    {
     "name": "stderr",
     "output_type": "stream",
     "text": [
      "                                                                                           \r"
     ]
    },
    {
     "name": "stdout",
     "output_type": "stream",
     "text": [
      "Epoch 115: Train Loss: 0.006189, Train Acc: 1.000000, Train F1: 1.000000, Valid Loss: 0.594997, Valid Acc: 0.761905, Valid F1: 0.563884\n"
     ]
    },
    {
     "name": "stderr",
     "output_type": "stream",
     "text": [
      "                                                                                           \r"
     ]
    },
    {
     "name": "stdout",
     "output_type": "stream",
     "text": [
      "Epoch 116: Train Loss: 0.008316, Train Acc: 1.000000, Train F1: 1.000000, Valid Loss: 0.593399, Valid Acc: 0.741497, Valid F1: 0.532351\n"
     ]
    },
    {
     "name": "stderr",
     "output_type": "stream",
     "text": [
      "                                                                                           \r"
     ]
    },
    {
     "name": "stdout",
     "output_type": "stream",
     "text": [
      "Epoch 117: Train Loss: 0.005539, Train Acc: 1.000000, Train F1: 1.000000, Valid Loss: 0.578565, Valid Acc: 0.748299, Valid F1: 0.553541\n"
     ]
    },
    {
     "name": "stderr",
     "output_type": "stream",
     "text": [
      "                                                                                           \r"
     ]
    },
    {
     "name": "stdout",
     "output_type": "stream",
     "text": [
      "Epoch 118: Train Loss: 0.013348, Train Acc: 1.000000, Train F1: 1.000000, Valid Loss: 0.609473, Valid Acc: 0.741497, Valid F1: 0.510507\n"
     ]
    },
    {
     "name": "stderr",
     "output_type": "stream",
     "text": [
      "                                                                                           \r"
     ]
    },
    {
     "name": "stdout",
     "output_type": "stream",
     "text": [
      "Epoch 119: Train Loss: 0.012425, Train Acc: 0.998299, Train F1: 0.998527, Valid Loss: 0.594151, Valid Acc: 0.727891, Valid F1: 0.542641\n"
     ]
    },
    {
     "name": "stderr",
     "output_type": "stream",
     "text": [
      "                                                                                           \r"
     ]
    },
    {
     "name": "stdout",
     "output_type": "stream",
     "text": [
      "Epoch 120: Train Loss: 0.006735, Train Acc: 1.000000, Train F1: 1.000000, Valid Loss: 0.838726, Valid Acc: 0.693878, Valid F1: 0.491946\n"
     ]
    },
    {
     "name": "stderr",
     "output_type": "stream",
     "text": [
      "                                                                                           \r"
     ]
    },
    {
     "name": "stdout",
     "output_type": "stream",
     "text": [
      "Epoch 121: Train Loss: 0.012123, Train Acc: 1.000000, Train F1: 1.000000, Valid Loss: 0.724782, Valid Acc: 0.700680, Valid F1: 0.498594\n"
     ]
    },
    {
     "name": "stderr",
     "output_type": "stream",
     "text": [
      "                                                                                           \r"
     ]
    },
    {
     "name": "stdout",
     "output_type": "stream",
     "text": [
      "Epoch 122: Train Loss: 0.015009, Train Acc: 1.000000, Train F1: 1.000000, Valid Loss: 0.694272, Valid Acc: 0.721088, Valid F1: 0.546434\n"
     ]
    },
    {
     "name": "stderr",
     "output_type": "stream",
     "text": [
      "                                                                                           \r"
     ]
    },
    {
     "name": "stdout",
     "output_type": "stream",
     "text": [
      "Epoch 123: Train Loss: 0.007505, Train Acc: 1.000000, Train F1: 1.000000, Valid Loss: 1.062594, Valid Acc: 0.666667, Valid F1: 0.491990\n"
     ]
    },
    {
     "name": "stderr",
     "output_type": "stream",
     "text": [
      "                                                                                           \r"
     ]
    },
    {
     "name": "stdout",
     "output_type": "stream",
     "text": [
      "Epoch 124: Train Loss: 0.016737, Train Acc: 1.000000, Train F1: 1.000000, Valid Loss: 1.024002, Valid Acc: 0.659864, Valid F1: 0.482149\n"
     ]
    },
    {
     "name": "stderr",
     "output_type": "stream",
     "text": [
      "                                                                                           \r"
     ]
    },
    {
     "name": "stdout",
     "output_type": "stream",
     "text": [
      "Epoch 125: Train Loss: 0.014341, Train Acc: 1.000000, Train F1: 1.000000, Valid Loss: 1.029697, Valid Acc: 0.639456, Valid F1: 0.449117\n"
     ]
    },
    {
     "name": "stderr",
     "output_type": "stream",
     "text": [
      "                                                                                           \r"
     ]
    },
    {
     "name": "stdout",
     "output_type": "stream",
     "text": [
      "Epoch 126: Train Loss: 0.006626, Train Acc: 1.000000, Train F1: 1.000000, Valid Loss: 1.162088, Valid Acc: 0.666667, Valid F1: 0.473436\n"
     ]
    },
    {
     "name": "stderr",
     "output_type": "stream",
     "text": [
      "                                                                                           \r"
     ]
    },
    {
     "name": "stdout",
     "output_type": "stream",
     "text": [
      "Epoch 127: Train Loss: 0.005304, Train Acc: 1.000000, Train F1: 1.000000, Valid Loss: 0.957413, Valid Acc: 0.646259, Valid F1: 0.463403\n"
     ]
    },
    {
     "name": "stderr",
     "output_type": "stream",
     "text": [
      "                                                                                           \r"
     ]
    },
    {
     "name": "stdout",
     "output_type": "stream",
     "text": [
      "Epoch 128: Train Loss: 0.006744, Train Acc: 1.000000, Train F1: 1.000000, Valid Loss: 0.883417, Valid Acc: 0.659864, Valid F1: 0.496313\n"
     ]
    },
    {
     "name": "stderr",
     "output_type": "stream",
     "text": [
      "                                                                                           \r"
     ]
    },
    {
     "name": "stdout",
     "output_type": "stream",
     "text": [
      "Epoch 129: Train Loss: 0.011267, Train Acc: 1.000000, Train F1: 1.000000, Valid Loss: 0.916442, Valid Acc: 0.666667, Valid F1: 0.476974\n"
     ]
    },
    {
     "name": "stderr",
     "output_type": "stream",
     "text": [
      "                                                                                           \r"
     ]
    },
    {
     "name": "stdout",
     "output_type": "stream",
     "text": [
      "Epoch 130: Train Loss: 0.004768, Train Acc: 1.000000, Train F1: 1.000000, Valid Loss: 0.764762, Valid Acc: 0.666667, Valid F1: 0.497672\n"
     ]
    },
    {
     "name": "stderr",
     "output_type": "stream",
     "text": [
      "                                                                                           \r"
     ]
    },
    {
     "name": "stdout",
     "output_type": "stream",
     "text": [
      "Epoch 131: Train Loss: 0.005673, Train Acc: 1.000000, Train F1: 1.000000, Valid Loss: 0.759657, Valid Acc: 0.700680, Valid F1: 0.510370\n"
     ]
    },
    {
     "name": "stderr",
     "output_type": "stream",
     "text": [
      "                                                                                           \r"
     ]
    },
    {
     "name": "stdout",
     "output_type": "stream",
     "text": [
      "Epoch 132: Train Loss: 0.004179, Train Acc: 1.000000, Train F1: 1.000000, Valid Loss: 0.681761, Valid Acc: 0.673469, Valid F1: 0.498758\n"
     ]
    },
    {
     "name": "stderr",
     "output_type": "stream",
     "text": [
      "                                                                                           \r"
     ]
    },
    {
     "name": "stdout",
     "output_type": "stream",
     "text": [
      "Epoch 133: Train Loss: 0.003725, Train Acc: 1.000000, Train F1: 1.000000, Valid Loss: 0.787308, Valid Acc: 0.693878, Valid F1: 0.506912\n"
     ]
    },
    {
     "name": "stderr",
     "output_type": "stream",
     "text": [
      "                                                                                           \r"
     ]
    },
    {
     "name": "stdout",
     "output_type": "stream",
     "text": [
      "Epoch 134: Train Loss: 0.002947, Train Acc: 1.000000, Train F1: 1.000000, Valid Loss: 0.773646, Valid Acc: 0.693878, Valid F1: 0.515076\n"
     ]
    },
    {
     "name": "stderr",
     "output_type": "stream",
     "text": [
      "                                                                                           \r"
     ]
    },
    {
     "name": "stdout",
     "output_type": "stream",
     "text": [
      "Epoch 135: Train Loss: 0.008308, Train Acc: 1.000000, Train F1: 1.000000, Valid Loss: 0.680068, Valid Acc: 0.707483, Valid F1: 0.533355\n"
     ]
    },
    {
     "name": "stderr",
     "output_type": "stream",
     "text": [
      "                                                                                           \r"
     ]
    },
    {
     "name": "stdout",
     "output_type": "stream",
     "text": [
      "Epoch 136: Train Loss: 0.011045, Train Acc: 1.000000, Train F1: 1.000000, Valid Loss: 0.650882, Valid Acc: 0.659864, Valid F1: 0.490773\n"
     ]
    },
    {
     "name": "stderr",
     "output_type": "stream",
     "text": [
      "                                                                                           \r"
     ]
    },
    {
     "name": "stdout",
     "output_type": "stream",
     "text": [
      "Epoch 137: Train Loss: 0.005593, Train Acc: 1.000000, Train F1: 1.000000, Valid Loss: 0.622558, Valid Acc: 0.666667, Valid F1: 0.480569\n"
     ]
    },
    {
     "name": "stderr",
     "output_type": "stream",
     "text": [
      "                                                                                           \r"
     ]
    },
    {
     "name": "stdout",
     "output_type": "stream",
     "text": [
      "Epoch 138: Train Loss: 0.005793, Train Acc: 1.000000, Train F1: 1.000000, Valid Loss: 0.653985, Valid Acc: 0.680272, Valid F1: 0.474387\n"
     ]
    },
    {
     "name": "stderr",
     "output_type": "stream",
     "text": [
      "                                                                                           \r"
     ]
    },
    {
     "name": "stdout",
     "output_type": "stream",
     "text": [
      "Epoch 139: Train Loss: 0.011002, Train Acc: 0.998299, Train F1: 0.997579, Valid Loss: 0.676030, Valid Acc: 0.680272, Valid F1: 0.482323\n"
     ]
    },
    {
     "name": "stderr",
     "output_type": "stream",
     "text": [
      "                                                                                           \r"
     ]
    },
    {
     "name": "stdout",
     "output_type": "stream",
     "text": [
      "Epoch 140: Train Loss: 0.004138, Train Acc: 1.000000, Train F1: 1.000000, Valid Loss: 0.662524, Valid Acc: 0.646259, Valid F1: 0.436777\n"
     ]
    },
    {
     "name": "stderr",
     "output_type": "stream",
     "text": [
      "                                                                                           \r"
     ]
    },
    {
     "name": "stdout",
     "output_type": "stream",
     "text": [
      "Epoch 141: Train Loss: 0.004437, Train Acc: 1.000000, Train F1: 1.000000, Valid Loss: 0.633331, Valid Acc: 0.659864, Valid F1: 0.448321\n"
     ]
    },
    {
     "name": "stderr",
     "output_type": "stream",
     "text": [
      "                                                                                           \r"
     ]
    },
    {
     "name": "stdout",
     "output_type": "stream",
     "text": [
      "Epoch 142: Train Loss: 0.012704, Train Acc: 1.000000, Train F1: 1.000000, Valid Loss: 0.609307, Valid Acc: 0.666667, Valid F1: 0.458586\n"
     ]
    },
    {
     "name": "stderr",
     "output_type": "stream",
     "text": [
      "                                                                                           \r"
     ]
    },
    {
     "name": "stdout",
     "output_type": "stream",
     "text": [
      "Epoch 143: Train Loss: 0.004654, Train Acc: 1.000000, Train F1: 1.000000, Valid Loss: 0.616142, Valid Acc: 0.700680, Valid F1: 0.499664\n"
     ]
    },
    {
     "name": "stderr",
     "output_type": "stream",
     "text": [
      "                                                                                           \r"
     ]
    },
    {
     "name": "stdout",
     "output_type": "stream",
     "text": [
      "Epoch 144: Train Loss: 0.004227, Train Acc: 1.000000, Train F1: 1.000000, Valid Loss: 0.647355, Valid Acc: 0.659864, Valid F1: 0.505811\n"
     ]
    },
    {
     "name": "stderr",
     "output_type": "stream",
     "text": [
      "                                                                                           \r"
     ]
    },
    {
     "name": "stdout",
     "output_type": "stream",
     "text": [
      "Epoch 145: Train Loss: 0.005854, Train Acc: 1.000000, Train F1: 1.000000, Valid Loss: 0.659100, Valid Acc: 0.673469, Valid F1: 0.481249\n"
     ]
    },
    {
     "name": "stderr",
     "output_type": "stream",
     "text": [
      "                                                                                           \r"
     ]
    },
    {
     "name": "stdout",
     "output_type": "stream",
     "text": [
      "Epoch 146: Train Loss: 0.005246, Train Acc: 1.000000, Train F1: 1.000000, Valid Loss: 0.622776, Valid Acc: 0.639456, Valid F1: 0.470648\n"
     ]
    },
    {
     "name": "stderr",
     "output_type": "stream",
     "text": [
      "                                                                                           \r"
     ]
    },
    {
     "name": "stdout",
     "output_type": "stream",
     "text": [
      "Epoch 147: Train Loss: 0.008029, Train Acc: 1.000000, Train F1: 1.000000, Valid Loss: 0.622676, Valid Acc: 0.700680, Valid F1: 0.509489\n"
     ]
    },
    {
     "name": "stderr",
     "output_type": "stream",
     "text": [
      "                                                                                           \r"
     ]
    },
    {
     "name": "stdout",
     "output_type": "stream",
     "text": [
      "Epoch 148: Train Loss: 0.003361, Train Acc: 1.000000, Train F1: 1.000000, Valid Loss: 0.645821, Valid Acc: 0.666667, Valid F1: 0.477586\n"
     ]
    },
    {
     "name": "stderr",
     "output_type": "stream",
     "text": [
      "                                                                                           \r"
     ]
    },
    {
     "name": "stdout",
     "output_type": "stream",
     "text": [
      "Epoch 149: Train Loss: 0.005275, Train Acc: 1.000000, Train F1: 1.000000, Valid Loss: 0.641651, Valid Acc: 0.673469, Valid F1: 0.472453\n"
     ]
    },
    {
     "name": "stderr",
     "output_type": "stream",
     "text": [
      "                                                                                           \r"
     ]
    },
    {
     "name": "stdout",
     "output_type": "stream",
     "text": [
      "Epoch 150: Train Loss: 0.005695, Train Acc: 1.000000, Train F1: 1.000000, Valid Loss: 0.636345, Valid Acc: 0.666667, Valid F1: 0.472453\n"
     ]
    },
    {
     "name": "stderr",
     "output_type": "stream",
     "text": [
      "                                                                                           \r"
     ]
    },
    {
     "name": "stdout",
     "output_type": "stream",
     "text": [
      "Epoch 151: Train Loss: 0.003743, Train Acc: 1.000000, Train F1: 1.000000, Valid Loss: 0.645827, Valid Acc: 0.707483, Valid F1: 0.496262\n"
     ]
    },
    {
     "name": "stderr",
     "output_type": "stream",
     "text": [
      "                                                                                           \r"
     ]
    },
    {
     "name": "stdout",
     "output_type": "stream",
     "text": [
      "Epoch 152: Train Loss: 0.006996, Train Acc: 1.000000, Train F1: 1.000000, Valid Loss: 0.639408, Valid Acc: 0.693878, Valid F1: 0.509534\n"
     ]
    },
    {
     "name": "stderr",
     "output_type": "stream",
     "text": [
      "                                                                                           \r"
     ]
    },
    {
     "name": "stdout",
     "output_type": "stream",
     "text": [
      "Epoch 153: Train Loss: 0.003271, Train Acc: 1.000000, Train F1: 1.000000, Valid Loss: 0.617408, Valid Acc: 0.721088, Valid F1: 0.515012\n"
     ]
    },
    {
     "name": "stderr",
     "output_type": "stream",
     "text": [
      "                                                                                           \r"
     ]
    },
    {
     "name": "stdout",
     "output_type": "stream",
     "text": [
      "Epoch 154: Train Loss: 0.009679, Train Acc: 1.000000, Train F1: 1.000000, Valid Loss: 0.604759, Valid Acc: 0.741497, Valid F1: 0.527639\n"
     ]
    },
    {
     "name": "stderr",
     "output_type": "stream",
     "text": [
      "                                                                                           \r"
     ]
    },
    {
     "name": "stdout",
     "output_type": "stream",
     "text": [
      "Epoch 155: Train Loss: 0.015579, Train Acc: 0.998299, Train F1: 0.998527, Valid Loss: 0.642342, Valid Acc: 0.727891, Valid F1: 0.541734\n"
     ]
    },
    {
     "name": "stderr",
     "output_type": "stream",
     "text": [
      "                                                                                           \r"
     ]
    },
    {
     "name": "stdout",
     "output_type": "stream",
     "text": [
      "Epoch 156: Train Loss: 0.004170, Train Acc: 1.000000, Train F1: 1.000000, Valid Loss: 0.686884, Valid Acc: 0.700680, Valid F1: 0.500001\n"
     ]
    },
    {
     "name": "stderr",
     "output_type": "stream",
     "text": [
      "                                                                                           \r"
     ]
    },
    {
     "name": "stdout",
     "output_type": "stream",
     "text": [
      "Epoch 157: Train Loss: 0.005675, Train Acc: 1.000000, Train F1: 1.000000, Valid Loss: 0.669385, Valid Acc: 0.693878, Valid F1: 0.472717\n"
     ]
    },
    {
     "name": "stderr",
     "output_type": "stream",
     "text": [
      "                                                                                           \r"
     ]
    },
    {
     "name": "stdout",
     "output_type": "stream",
     "text": [
      "Epoch 158: Train Loss: 0.005059, Train Acc: 1.000000, Train F1: 1.000000, Valid Loss: 0.692238, Valid Acc: 0.693878, Valid F1: 0.475540\n"
     ]
    },
    {
     "name": "stderr",
     "output_type": "stream",
     "text": [
      "                                                                                           \r"
     ]
    },
    {
     "name": "stdout",
     "output_type": "stream",
     "text": [
      "Epoch 159: Train Loss: 0.007252, Train Acc: 1.000000, Train F1: 1.000000, Valid Loss: 0.660803, Valid Acc: 0.693878, Valid F1: 0.491806\n"
     ]
    },
    {
     "name": "stderr",
     "output_type": "stream",
     "text": [
      "                                                                                           \r"
     ]
    },
    {
     "name": "stdout",
     "output_type": "stream",
     "text": [
      "Epoch 160: Train Loss: 0.006450, Train Acc: 1.000000, Train F1: 1.000000, Valid Loss: 0.665945, Valid Acc: 0.700680, Valid F1: 0.509037\n"
     ]
    },
    {
     "name": "stderr",
     "output_type": "stream",
     "text": [
      "                                                                                           \r"
     ]
    },
    {
     "name": "stdout",
     "output_type": "stream",
     "text": [
      "Epoch 161: Train Loss: 0.002630, Train Acc: 1.000000, Train F1: 1.000000, Valid Loss: 0.677219, Valid Acc: 0.707483, Valid F1: 0.506550\n"
     ]
    },
    {
     "name": "stderr",
     "output_type": "stream",
     "text": [
      "                                                                                           \r"
     ]
    },
    {
     "name": "stdout",
     "output_type": "stream",
     "text": [
      "Epoch 162: Train Loss: 0.010535, Train Acc: 1.000000, Train F1: 1.000000, Valid Loss: 0.646418, Valid Acc: 0.741497, Valid F1: 0.556052\n"
     ]
    },
    {
     "name": "stderr",
     "output_type": "stream",
     "text": [
      "                                                                                           \r"
     ]
    },
    {
     "name": "stdout",
     "output_type": "stream",
     "text": [
      "Epoch 163: Train Loss: 0.004928, Train Acc: 1.000000, Train F1: 1.000000, Valid Loss: 0.657844, Valid Acc: 0.734694, Valid F1: 0.552466\n"
     ]
    },
    {
     "name": "stderr",
     "output_type": "stream",
     "text": [
      "                                                                                           \r"
     ]
    },
    {
     "name": "stdout",
     "output_type": "stream",
     "text": [
      "Epoch 164: Train Loss: 0.007356, Train Acc: 1.000000, Train F1: 1.000000, Valid Loss: 0.618829, Valid Acc: 0.755102, Valid F1: 0.568092\n"
     ]
    },
    {
     "name": "stderr",
     "output_type": "stream",
     "text": [
      "                                                                                           \r"
     ]
    },
    {
     "name": "stdout",
     "output_type": "stream",
     "text": [
      "Epoch 165: Train Loss: 0.003597, Train Acc: 1.000000, Train F1: 1.000000, Valid Loss: 0.618749, Valid Acc: 0.721088, Valid F1: 0.533006\n"
     ]
    },
    {
     "name": "stderr",
     "output_type": "stream",
     "text": [
      "                                                                                           \r"
     ]
    },
    {
     "name": "stdout",
     "output_type": "stream",
     "text": [
      "Epoch 166: Train Loss: 0.004609, Train Acc: 0.998299, Train F1: 0.998689, Valid Loss: 0.646100, Valid Acc: 0.721088, Valid F1: 0.526309\n"
     ]
    },
    {
     "name": "stderr",
     "output_type": "stream",
     "text": [
      "                                                                                           \r"
     ]
    },
    {
     "name": "stdout",
     "output_type": "stream",
     "text": [
      "Epoch 167: Train Loss: 0.004026, Train Acc: 1.000000, Train F1: 1.000000, Valid Loss: 0.660087, Valid Acc: 0.734694, Valid F1: 0.542956\n"
     ]
    },
    {
     "name": "stderr",
     "output_type": "stream",
     "text": [
      "                                                                                           \r"
     ]
    },
    {
     "name": "stdout",
     "output_type": "stream",
     "text": [
      "Epoch 168: Train Loss: 0.008317, Train Acc: 0.998299, Train F1: 0.998779, Valid Loss: 0.638005, Valid Acc: 0.714286, Valid F1: 0.527920\n"
     ]
    },
    {
     "name": "stderr",
     "output_type": "stream",
     "text": [
      "                                                                                           \r"
     ]
    },
    {
     "name": "stdout",
     "output_type": "stream",
     "text": [
      "Epoch 169: Train Loss: 0.002640, Train Acc: 1.000000, Train F1: 1.000000, Valid Loss: 0.675409, Valid Acc: 0.707483, Valid F1: 0.513933\n"
     ]
    },
    {
     "name": "stderr",
     "output_type": "stream",
     "text": [
      "                                                                                           \r"
     ]
    },
    {
     "name": "stdout",
     "output_type": "stream",
     "text": [
      "Epoch 170: Train Loss: 0.014586, Train Acc: 0.998299, Train F1: 0.998496, Valid Loss: 0.613991, Valid Acc: 0.714286, Valid F1: 0.508855\n"
     ]
    },
    {
     "name": "stderr",
     "output_type": "stream",
     "text": [
      "                                                                                           \r"
     ]
    },
    {
     "name": "stdout",
     "output_type": "stream",
     "text": [
      "Epoch 171: Train Loss: 0.003624, Train Acc: 1.000000, Train F1: 1.000000, Valid Loss: 0.635398, Valid Acc: 0.700680, Valid F1: 0.500181\n"
     ]
    },
    {
     "name": "stderr",
     "output_type": "stream",
     "text": [
      "                                                                                           \r"
     ]
    },
    {
     "name": "stdout",
     "output_type": "stream",
     "text": [
      "Epoch 172: Train Loss: 0.003304, Train Acc: 1.000000, Train F1: 1.000000, Valid Loss: 0.685565, Valid Acc: 0.700680, Valid F1: 0.516893\n"
     ]
    },
    {
     "name": "stderr",
     "output_type": "stream",
     "text": [
      "                                                                                           \r"
     ]
    },
    {
     "name": "stdout",
     "output_type": "stream",
     "text": [
      "Epoch 173: Train Loss: 0.004715, Train Acc: 1.000000, Train F1: 1.000000, Valid Loss: 0.649825, Valid Acc: 0.666667, Valid F1: 0.496775\n"
     ]
    },
    {
     "name": "stderr",
     "output_type": "stream",
     "text": [
      "                                                                                           \r"
     ]
    },
    {
     "name": "stdout",
     "output_type": "stream",
     "text": [
      "Epoch 174: Train Loss: 0.007223, Train Acc: 1.000000, Train F1: 1.000000, Valid Loss: 0.637168, Valid Acc: 0.700680, Valid F1: 0.540281\n"
     ]
    },
    {
     "name": "stderr",
     "output_type": "stream",
     "text": [
      "                                                                                           \r"
     ]
    },
    {
     "name": "stdout",
     "output_type": "stream",
     "text": [
      "Epoch 175: Train Loss: 0.004105, Train Acc: 1.000000, Train F1: 1.000000, Valid Loss: 0.619879, Valid Acc: 0.727891, Valid F1: 0.539901\n"
     ]
    },
    {
     "name": "stderr",
     "output_type": "stream",
     "text": [
      "                                                                                           \r"
     ]
    },
    {
     "name": "stdout",
     "output_type": "stream",
     "text": [
      "Epoch 176: Train Loss: 0.003581, Train Acc: 1.000000, Train F1: 1.000000, Valid Loss: 0.644631, Valid Acc: 0.693878, Valid F1: 0.508873\n"
     ]
    },
    {
     "name": "stderr",
     "output_type": "stream",
     "text": [
      "                                                                                           \r"
     ]
    },
    {
     "name": "stdout",
     "output_type": "stream",
     "text": [
      "Epoch 177: Train Loss: 0.003812, Train Acc: 1.000000, Train F1: 1.000000, Valid Loss: 0.647338, Valid Acc: 0.687075, Valid F1: 0.505780\n"
     ]
    },
    {
     "name": "stderr",
     "output_type": "stream",
     "text": [
      "                                                                                           \r"
     ]
    },
    {
     "name": "stdout",
     "output_type": "stream",
     "text": [
      "Epoch 178: Train Loss: 0.002651, Train Acc: 1.000000, Train F1: 1.000000, Valid Loss: 0.612737, Valid Acc: 0.714286, Valid F1: 0.521476\n"
     ]
    },
    {
     "name": "stderr",
     "output_type": "stream",
     "text": [
      "                                                                                           \r"
     ]
    },
    {
     "name": "stdout",
     "output_type": "stream",
     "text": [
      "Epoch 179: Train Loss: 0.003597, Train Acc: 1.000000, Train F1: 1.000000, Valid Loss: 0.577852, Valid Acc: 0.721088, Valid F1: 0.523552\n"
     ]
    },
    {
     "name": "stderr",
     "output_type": "stream",
     "text": [
      "                                                                                           \r"
     ]
    },
    {
     "name": "stdout",
     "output_type": "stream",
     "text": [
      "Epoch 180: Train Loss: 0.005717, Train Acc: 1.000000, Train F1: 1.000000, Valid Loss: 0.614878, Valid Acc: 0.714286, Valid F1: 0.517791\n"
     ]
    },
    {
     "name": "stderr",
     "output_type": "stream",
     "text": [
      "                                                                                           \r"
     ]
    },
    {
     "name": "stdout",
     "output_type": "stream",
     "text": [
      "Epoch 181: Train Loss: 0.003671, Train Acc: 1.000000, Train F1: 1.000000, Valid Loss: 0.657775, Valid Acc: 0.687075, Valid F1: 0.479064\n"
     ]
    },
    {
     "name": "stderr",
     "output_type": "stream",
     "text": [
      "                                                                                           \r"
     ]
    },
    {
     "name": "stdout",
     "output_type": "stream",
     "text": [
      "Epoch 182: Train Loss: 0.004592, Train Acc: 1.000000, Train F1: 1.000000, Valid Loss: 0.665035, Valid Acc: 0.666667, Valid F1: 0.463513\n"
     ]
    },
    {
     "name": "stderr",
     "output_type": "stream",
     "text": [
      "                                                                                           \r"
     ]
    },
    {
     "name": "stdout",
     "output_type": "stream",
     "text": [
      "Epoch 183: Train Loss: 0.004751, Train Acc: 1.000000, Train F1: 1.000000, Valid Loss: 0.603333, Valid Acc: 0.700680, Valid F1: 0.524291\n"
     ]
    },
    {
     "name": "stderr",
     "output_type": "stream",
     "text": [
      "                                                                                           \r"
     ]
    },
    {
     "name": "stdout",
     "output_type": "stream",
     "text": [
      "Epoch 184: Train Loss: 0.002207, Train Acc: 1.000000, Train F1: 1.000000, Valid Loss: 0.650189, Valid Acc: 0.721088, Valid F1: 0.537846\n"
     ]
    },
    {
     "name": "stderr",
     "output_type": "stream",
     "text": [
      "                                                                                           \r"
     ]
    },
    {
     "name": "stdout",
     "output_type": "stream",
     "text": [
      "Epoch 185: Train Loss: 0.010006, Train Acc: 1.000000, Train F1: 1.000000, Valid Loss: 0.610937, Valid Acc: 0.714286, Valid F1: 0.542504\n"
     ]
    },
    {
     "name": "stderr",
     "output_type": "stream",
     "text": [
      "                                                                                           \r"
     ]
    },
    {
     "name": "stdout",
     "output_type": "stream",
     "text": [
      "Epoch 186: Train Loss: 0.002400, Train Acc: 1.000000, Train F1: 1.000000, Valid Loss: 0.605388, Valid Acc: 0.714286, Valid F1: 0.533086\n"
     ]
    },
    {
     "name": "stderr",
     "output_type": "stream",
     "text": [
      "                                                                                           \r"
     ]
    },
    {
     "name": "stdout",
     "output_type": "stream",
     "text": [
      "Epoch 187: Train Loss: 0.010456, Train Acc: 1.000000, Train F1: 1.000000, Valid Loss: 0.582293, Valid Acc: 0.707483, Valid F1: 0.525541\n"
     ]
    },
    {
     "name": "stderr",
     "output_type": "stream",
     "text": [
      "                                                                                           \r"
     ]
    },
    {
     "name": "stdout",
     "output_type": "stream",
     "text": [
      "Epoch 188: Train Loss: 0.003040, Train Acc: 1.000000, Train F1: 1.000000, Valid Loss: 0.621114, Valid Acc: 0.714286, Valid F1: 0.528591\n"
     ]
    },
    {
     "name": "stderr",
     "output_type": "stream",
     "text": [
      "                                                                                           \r"
     ]
    },
    {
     "name": "stdout",
     "output_type": "stream",
     "text": [
      "Epoch 189: Train Loss: 0.004831, Train Acc: 1.000000, Train F1: 1.000000, Valid Loss: 0.590437, Valid Acc: 0.707483, Valid F1: 0.527726\n"
     ]
    },
    {
     "name": "stderr",
     "output_type": "stream",
     "text": [
      "                                                                                           \r"
     ]
    },
    {
     "name": "stdout",
     "output_type": "stream",
     "text": [
      "Epoch 190: Train Loss: 0.013422, Train Acc: 0.998299, Train F1: 0.998527, Valid Loss: 0.616500, Valid Acc: 0.741497, Valid F1: 0.551518\n"
     ]
    },
    {
     "name": "stderr",
     "output_type": "stream",
     "text": [
      "                                                                                           \r"
     ]
    },
    {
     "name": "stdout",
     "output_type": "stream",
     "text": [
      "Epoch 191: Train Loss: 0.003122, Train Acc: 1.000000, Train F1: 1.000000, Valid Loss: 0.649715, Valid Acc: 0.707483, Valid F1: 0.529313\n"
     ]
    },
    {
     "name": "stderr",
     "output_type": "stream",
     "text": [
      "                                                                                           \r"
     ]
    },
    {
     "name": "stdout",
     "output_type": "stream",
     "text": [
      "Epoch 192: Train Loss: 0.003034, Train Acc: 1.000000, Train F1: 1.000000, Valid Loss: 0.624779, Valid Acc: 0.700680, Valid F1: 0.522151\n"
     ]
    },
    {
     "name": "stderr",
     "output_type": "stream",
     "text": [
      "                                                                                           \r"
     ]
    },
    {
     "name": "stdout",
     "output_type": "stream",
     "text": [
      "Epoch 193: Train Loss: 0.007663, Train Acc: 1.000000, Train F1: 1.000000, Valid Loss: 0.644714, Valid Acc: 0.693878, Valid F1: 0.518749\n"
     ]
    },
    {
     "name": "stderr",
     "output_type": "stream",
     "text": [
      "                                                                                           \r"
     ]
    },
    {
     "name": "stdout",
     "output_type": "stream",
     "text": [
      "Epoch 194: Train Loss: 0.006979, Train Acc: 1.000000, Train F1: 1.000000, Valid Loss: 0.689705, Valid Acc: 0.707483, Valid F1: 0.539386\n"
     ]
    },
    {
     "name": "stderr",
     "output_type": "stream",
     "text": [
      "                                                                                           \r"
     ]
    },
    {
     "name": "stdout",
     "output_type": "stream",
     "text": [
      "Epoch 195: Train Loss: 0.004030, Train Acc: 1.000000, Train F1: 1.000000, Valid Loss: 0.688065, Valid Acc: 0.700680, Valid F1: 0.546429\n"
     ]
    },
    {
     "name": "stderr",
     "output_type": "stream",
     "text": [
      "                                                                                           \r"
     ]
    },
    {
     "name": "stdout",
     "output_type": "stream",
     "text": [
      "Epoch 196: Train Loss: 0.003389, Train Acc: 1.000000, Train F1: 1.000000, Valid Loss: 0.631668, Valid Acc: 0.714286, Valid F1: 0.546429\n"
     ]
    },
    {
     "name": "stderr",
     "output_type": "stream",
     "text": [
      "                                                                                           \r"
     ]
    },
    {
     "name": "stdout",
     "output_type": "stream",
     "text": [
      "Epoch 197: Train Loss: 0.008007, Train Acc: 1.000000, Train F1: 1.000000, Valid Loss: 0.639323, Valid Acc: 0.707483, Valid F1: 0.549114\n"
     ]
    },
    {
     "name": "stderr",
     "output_type": "stream",
     "text": [
      "                                                                                           \r"
     ]
    },
    {
     "name": "stdout",
     "output_type": "stream",
     "text": [
      "Epoch 198: Train Loss: 0.003497, Train Acc: 1.000000, Train F1: 1.000000, Valid Loss: 0.589574, Valid Acc: 0.714286, Valid F1: 0.552266\n"
     ]
    },
    {
     "name": "stderr",
     "output_type": "stream",
     "text": [
      "                                                                                           \r"
     ]
    },
    {
     "name": "stdout",
     "output_type": "stream",
     "text": [
      "Epoch 199: Train Loss: 0.004986, Train Acc: 1.000000, Train F1: 1.000000, Valid Loss: 0.653176, Valid Acc: 0.714286, Valid F1: 0.545563\n"
     ]
    },
    {
     "name": "stderr",
     "output_type": "stream",
     "text": [
      "                                                                                           \r"
     ]
    },
    {
     "name": "stdout",
     "output_type": "stream",
     "text": [
      "Epoch 200: Train Loss: 0.003336, Train Acc: 1.000000, Train F1: 1.000000, Valid Loss: 0.587663, Valid Acc: 0.714286, Valid F1: 0.535714\n"
     ]
    },
    {
     "name": "stderr",
     "output_type": "stream",
     "text": [
      "                                                                                         \r"
     ]
    },
    {
     "name": "stdout",
     "output_type": "stream",
     "text": [
      "Epoch 1: Train Loss: 0.676976, Train Acc: 0.547619, Train F1: 0.498687, Valid Loss: 0.692462, Valid Acc: 0.551020, Valid F1: 0.398078\n"
     ]
    },
    {
     "name": "stderr",
     "output_type": "stream",
     "text": [
      "                                                                                         \r"
     ]
    },
    {
     "name": "stdout",
     "output_type": "stream",
     "text": [
      "Epoch 2: Train Loss: 0.511361, Train Acc: 0.880952, Train F1: 0.820970, Valid Loss: 0.662727, Valid Acc: 0.646259, Valid F1: 0.482313\n"
     ]
    },
    {
     "name": "stderr",
     "output_type": "stream",
     "text": [
      "                                                                                         \r"
     ]
    },
    {
     "name": "stdout",
     "output_type": "stream",
     "text": [
      "Epoch 3: Train Loss: 0.364258, Train Acc: 0.942177, Train F1: 0.922926, Valid Loss: 0.581216, Valid Acc: 0.693878, Valid F1: 0.513671\n"
     ]
    },
    {
     "name": "stderr",
     "output_type": "stream",
     "text": [
      "                                                                                         \r"
     ]
    },
    {
     "name": "stdout",
     "output_type": "stream",
     "text": [
      "Epoch 4: Train Loss: 0.273638, Train Acc: 0.976190, Train F1: 0.960686, Valid Loss: 0.533901, Valid Acc: 0.714286, Valid F1: 0.564747\n"
     ]
    },
    {
     "name": "stderr",
     "output_type": "stream",
     "text": [
      "                                                                                         \r"
     ]
    },
    {
     "name": "stdout",
     "output_type": "stream",
     "text": [
      "Epoch 5: Train Loss: 0.186000, Train Acc: 0.996599, Train F1: 0.996746, Valid Loss: 0.587280, Valid Acc: 0.734694, Valid F1: 0.585689\n"
     ]
    },
    {
     "name": "stderr",
     "output_type": "stream",
     "text": [
      "                                                                                         \r"
     ]
    },
    {
     "name": "stdout",
     "output_type": "stream",
     "text": [
      "Epoch 6: Train Loss: 0.149374, Train Acc: 0.993197, Train F1: 0.991875, Valid Loss: 0.597386, Valid Acc: 0.727891, Valid F1: 0.579934\n"
     ]
    },
    {
     "name": "stderr",
     "output_type": "stream",
     "text": [
      "                                                                                         \r"
     ]
    },
    {
     "name": "stdout",
     "output_type": "stream",
     "text": [
      "Epoch 7: Train Loss: 0.119192, Train Acc: 0.996599, Train F1: 0.993810, Valid Loss: 0.713160, Valid Acc: 0.700680, Valid F1: 0.557504\n"
     ]
    },
    {
     "name": "stderr",
     "output_type": "stream",
     "text": [
      "                                                                                         \r"
     ]
    },
    {
     "name": "stdout",
     "output_type": "stream",
     "text": [
      "Epoch 8: Train Loss: 0.116582, Train Acc: 0.991497, Train F1: 0.989751, Valid Loss: 0.700047, Valid Acc: 0.721088, Valid F1: 0.577518\n"
     ]
    },
    {
     "name": "stderr",
     "output_type": "stream",
     "text": [
      "                                                                                         \r"
     ]
    },
    {
     "name": "stdout",
     "output_type": "stream",
     "text": [
      "Epoch 9: Train Loss: 0.079754, Train Acc: 1.000000, Train F1: 1.000000, Valid Loss: 0.666092, Valid Acc: 0.700680, Valid F1: 0.575314\n"
     ]
    },
    {
     "name": "stderr",
     "output_type": "stream",
     "text": [
      "                                                                                         \r"
     ]
    },
    {
     "name": "stdout",
     "output_type": "stream",
     "text": [
      "Epoch 10: Train Loss: 0.066136, Train Acc: 0.998299, Train F1: 0.997988, Valid Loss: 0.645714, Valid Acc: 0.687075, Valid F1: 0.558481\n"
     ]
    },
    {
     "name": "stderr",
     "output_type": "stream",
     "text": [
      "                                                                                          \r"
     ]
    },
    {
     "name": "stdout",
     "output_type": "stream",
     "text": [
      "Epoch 11: Train Loss: 0.065500, Train Acc: 1.000000, Train F1: 1.000000, Valid Loss: 0.720013, Valid Acc: 0.714286, Valid F1: 0.577385\n"
     ]
    },
    {
     "name": "stderr",
     "output_type": "stream",
     "text": [
      "                                                                                          \r"
     ]
    },
    {
     "name": "stdout",
     "output_type": "stream",
     "text": [
      "Epoch 12: Train Loss: 0.051013, Train Acc: 0.998299, Train F1: 0.998527, Valid Loss: 0.739908, Valid Acc: 0.714286, Valid F1: 0.617351\n"
     ]
    },
    {
     "name": "stderr",
     "output_type": "stream",
     "text": [
      "                                                                                          \r"
     ]
    },
    {
     "name": "stdout",
     "output_type": "stream",
     "text": [
      "Epoch 13: Train Loss: 0.045085, Train Acc: 1.000000, Train F1: 1.000000, Valid Loss: 0.668198, Valid Acc: 0.727891, Valid F1: 0.625418\n"
     ]
    },
    {
     "name": "stderr",
     "output_type": "stream",
     "text": [
      "                                                                                          \r"
     ]
    },
    {
     "name": "stdout",
     "output_type": "stream",
     "text": [
      "Epoch 14: Train Loss: 0.046907, Train Acc: 0.998299, Train F1: 0.998496, Valid Loss: 0.600173, Valid Acc: 0.741497, Valid F1: 0.632370\n"
     ]
    },
    {
     "name": "stderr",
     "output_type": "stream",
     "text": [
      "                                                                                          \r"
     ]
    },
    {
     "name": "stdout",
     "output_type": "stream",
     "text": [
      "Epoch 15: Train Loss: 0.053231, Train Acc: 0.996599, Train F1: 0.997240, Valid Loss: 0.751304, Valid Acc: 0.727891, Valid F1: 0.638193\n"
     ]
    },
    {
     "name": "stderr",
     "output_type": "stream",
     "text": [
      "                                                                                          \r"
     ]
    },
    {
     "name": "stdout",
     "output_type": "stream",
     "text": [
      "Epoch 16: Train Loss: 0.042526, Train Acc: 0.996599, Train F1: 0.997285, Valid Loss: 0.659791, Valid Acc: 0.734694, Valid F1: 0.599387\n"
     ]
    },
    {
     "name": "stderr",
     "output_type": "stream",
     "text": [
      "                                                                                          \r"
     ]
    },
    {
     "name": "stdout",
     "output_type": "stream",
     "text": [
      "Epoch 17: Train Loss: 0.050290, Train Acc: 0.994898, Train F1: 0.988323, Valid Loss: 0.726154, Valid Acc: 0.748299, Valid F1: 0.600154\n"
     ]
    },
    {
     "name": "stderr",
     "output_type": "stream",
     "text": [
      "                                                                                          \r"
     ]
    },
    {
     "name": "stdout",
     "output_type": "stream",
     "text": [
      "Epoch 18: Train Loss: 0.042758, Train Acc: 0.998299, Train F1: 0.997579, Valid Loss: 0.691374, Valid Acc: 0.761905, Valid F1: 0.646632\n"
     ]
    },
    {
     "name": "stderr",
     "output_type": "stream",
     "text": [
      "                                                                                          \r"
     ]
    },
    {
     "name": "stdout",
     "output_type": "stream",
     "text": [
      "Epoch 19: Train Loss: 0.050092, Train Acc: 0.998299, Train F1: 0.997579, Valid Loss: 0.702332, Valid Acc: 0.741497, Valid F1: 0.642859\n"
     ]
    },
    {
     "name": "stderr",
     "output_type": "stream",
     "text": [
      "                                                                                          \r"
     ]
    },
    {
     "name": "stdout",
     "output_type": "stream",
     "text": [
      "Epoch 20: Train Loss: 0.038329, Train Acc: 1.000000, Train F1: 1.000000, Valid Loss: 0.717745, Valid Acc: 0.714286, Valid F1: 0.573622\n"
     ]
    },
    {
     "name": "stderr",
     "output_type": "stream",
     "text": [
      "                                                                                          \r"
     ]
    },
    {
     "name": "stdout",
     "output_type": "stream",
     "text": [
      "Epoch 21: Train Loss: 0.053903, Train Acc: 0.994898, Train F1: 0.987375, Valid Loss: 0.690061, Valid Acc: 0.693878, Valid F1: 0.553259\n"
     ]
    },
    {
     "name": "stderr",
     "output_type": "stream",
     "text": [
      "                                                                                          \r"
     ]
    },
    {
     "name": "stdout",
     "output_type": "stream",
     "text": [
      "Epoch 22: Train Loss: 0.046515, Train Acc: 0.996599, Train F1: 0.996701, Valid Loss: 0.668171, Valid Acc: 0.625850, Valid F1: 0.553838\n"
     ]
    },
    {
     "name": "stderr",
     "output_type": "stream",
     "text": [
      "                                                                                          \r"
     ]
    },
    {
     "name": "stdout",
     "output_type": "stream",
     "text": [
      "Epoch 23: Train Loss: 0.049934, Train Acc: 0.996599, Train F1: 0.993536, Valid Loss: 0.757512, Valid Acc: 0.659864, Valid F1: 0.591276\n"
     ]
    },
    {
     "name": "stderr",
     "output_type": "stream",
     "text": [
      "                                                                                          \r"
     ]
    },
    {
     "name": "stdout",
     "output_type": "stream",
     "text": [
      "Epoch 24: Train Loss: 0.077537, Train Acc: 0.993197, Train F1: 0.991954, Valid Loss: 0.698648, Valid Acc: 0.680272, Valid F1: 0.541268\n"
     ]
    },
    {
     "name": "stderr",
     "output_type": "stream",
     "text": [
      "                                                                                          \r"
     ]
    },
    {
     "name": "stdout",
     "output_type": "stream",
     "text": [
      "Epoch 25: Train Loss: 0.056133, Train Acc: 0.991497, Train F1: 0.991641, Valid Loss: 0.707658, Valid Acc: 0.659864, Valid F1: 0.525486\n"
     ]
    },
    {
     "name": "stderr",
     "output_type": "stream",
     "text": [
      "                                                                                          \r"
     ]
    },
    {
     "name": "stdout",
     "output_type": "stream",
     "text": [
      "Epoch 26: Train Loss: 0.038022, Train Acc: 0.998299, Train F1: 0.997579, Valid Loss: 0.581237, Valid Acc: 0.673469, Valid F1: 0.542369\n"
     ]
    },
    {
     "name": "stderr",
     "output_type": "stream",
     "text": [
      "                                                                                          \r"
     ]
    },
    {
     "name": "stdout",
     "output_type": "stream",
     "text": [
      "Epoch 27: Train Loss: 0.032347, Train Acc: 1.000000, Train F1: 1.000000, Valid Loss: 0.712981, Valid Acc: 0.687075, Valid F1: 0.557753\n"
     ]
    },
    {
     "name": "stderr",
     "output_type": "stream",
     "text": [
      "                                                                                          \r"
     ]
    },
    {
     "name": "stdout",
     "output_type": "stream",
     "text": [
      "Epoch 28: Train Loss: 0.060242, Train Acc: 0.991497, Train F1: 0.990455, Valid Loss: 0.691984, Valid Acc: 0.721088, Valid F1: 0.573805\n"
     ]
    },
    {
     "name": "stderr",
     "output_type": "stream",
     "text": [
      "                                                                                          \r"
     ]
    },
    {
     "name": "stdout",
     "output_type": "stream",
     "text": [
      "Epoch 29: Train Loss: 0.042170, Train Acc: 0.991497, Train F1: 0.988297, Valid Loss: 0.781352, Valid Acc: 0.707483, Valid F1: 0.582825\n"
     ]
    },
    {
     "name": "stderr",
     "output_type": "stream",
     "text": [
      "                                                                                          \r"
     ]
    },
    {
     "name": "stdout",
     "output_type": "stream",
     "text": [
      "Epoch 30: Train Loss: 0.034133, Train Acc: 0.993197, Train F1: 0.992799, Valid Loss: 0.729311, Valid Acc: 0.714286, Valid F1: 0.649439\n"
     ]
    },
    {
     "name": "stderr",
     "output_type": "stream",
     "text": [
      "                                                                                          \r"
     ]
    },
    {
     "name": "stdout",
     "output_type": "stream",
     "text": [
      "Epoch 31: Train Loss: 0.055445, Train Acc: 0.993197, Train F1: 0.994209, Valid Loss: 0.749428, Valid Acc: 0.700680, Valid F1: 0.664508\n"
     ]
    },
    {
     "name": "stderr",
     "output_type": "stream",
     "text": [
      "                                                                                          \r"
     ]
    },
    {
     "name": "stdout",
     "output_type": "stream",
     "text": [
      "Epoch 32: Train Loss: 0.044770, Train Acc: 0.996599, Train F1: 0.996902, Valid Loss: 0.753415, Valid Acc: 0.707483, Valid F1: 0.588696\n"
     ]
    },
    {
     "name": "stderr",
     "output_type": "stream",
     "text": [
      "                                                                                          \r"
     ]
    },
    {
     "name": "stdout",
     "output_type": "stream",
     "text": [
      "Epoch 33: Train Loss: 0.029711, Train Acc: 0.998299, Train F1: 0.997988, Valid Loss: 0.686399, Valid Acc: 0.693878, Valid F1: 0.575880\n"
     ]
    },
    {
     "name": "stderr",
     "output_type": "stream",
     "text": [
      "                                                                                          \r"
     ]
    },
    {
     "name": "stdout",
     "output_type": "stream",
     "text": [
      "Epoch 34: Train Loss: 0.049944, Train Acc: 0.994898, Train F1: 0.995696, Valid Loss: 0.632852, Valid Acc: 0.700680, Valid F1: 0.562252\n"
     ]
    },
    {
     "name": "stderr",
     "output_type": "stream",
     "text": [
      "                                                                                          \r"
     ]
    },
    {
     "name": "stdout",
     "output_type": "stream",
     "text": [
      "Epoch 35: Train Loss: 0.032698, Train Acc: 0.998299, Train F1: 0.998095, Valid Loss: 0.683578, Valid Acc: 0.693878, Valid F1: 0.553994\n"
     ]
    },
    {
     "name": "stderr",
     "output_type": "stream",
     "text": [
      "                                                                                          \r"
     ]
    },
    {
     "name": "stdout",
     "output_type": "stream",
     "text": [
      "Epoch 36: Train Loss: 0.072027, Train Acc: 0.986395, Train F1: 0.986717, Valid Loss: 0.668743, Valid Acc: 0.727891, Valid F1: 0.609965\n"
     ]
    },
    {
     "name": "stderr",
     "output_type": "stream",
     "text": [
      "                                                                                          \r"
     ]
    },
    {
     "name": "stdout",
     "output_type": "stream",
     "text": [
      "Epoch 37: Train Loss: 0.035967, Train Acc: 0.998299, Train F1: 0.998527, Valid Loss: 0.696882, Valid Acc: 0.687075, Valid F1: 0.572410\n"
     ]
    },
    {
     "name": "stderr",
     "output_type": "stream",
     "text": [
      "                                                                                          \r"
     ]
    },
    {
     "name": "stdout",
     "output_type": "stream",
     "text": [
      "Epoch 38: Train Loss: 0.068261, Train Acc: 0.991497, Train F1: 0.989636, Valid Loss: 0.626056, Valid Acc: 0.680272, Valid F1: 0.594045\n"
     ]
    },
    {
     "name": "stderr",
     "output_type": "stream",
     "text": [
      "                                                                                          \r"
     ]
    },
    {
     "name": "stdout",
     "output_type": "stream",
     "text": [
      "Epoch 39: Train Loss: 0.030289, Train Acc: 0.998299, Train F1: 0.998527, Valid Loss: 0.595302, Valid Acc: 0.653061, Valid F1: 0.576283\n"
     ]
    },
    {
     "name": "stderr",
     "output_type": "stream",
     "text": [
      "                                                                                          \r"
     ]
    },
    {
     "name": "stdout",
     "output_type": "stream",
     "text": [
      "Epoch 40: Train Loss: 0.054209, Train Acc: 0.989796, Train F1: 0.988935, Valid Loss: 0.652249, Valid Acc: 0.673469, Valid F1: 0.554445\n"
     ]
    },
    {
     "name": "stderr",
     "output_type": "stream",
     "text": [
      "                                                                                          \r"
     ]
    },
    {
     "name": "stdout",
     "output_type": "stream",
     "text": [
      "Epoch 41: Train Loss: 0.036320, Train Acc: 0.996599, Train F1: 0.997085, Valid Loss: 0.679436, Valid Acc: 0.653061, Valid F1: 0.534461\n"
     ]
    },
    {
     "name": "stderr",
     "output_type": "stream",
     "text": [
      "                                                                                          \r"
     ]
    },
    {
     "name": "stdout",
     "output_type": "stream",
     "text": [
      "Epoch 42: Train Loss: 0.057370, Train Acc: 0.991497, Train F1: 0.992588, Valid Loss: 0.735690, Valid Acc: 0.639456, Valid F1: 0.518281\n"
     ]
    },
    {
     "name": "stderr",
     "output_type": "stream",
     "text": [
      "                                                                                          \r"
     ]
    },
    {
     "name": "stdout",
     "output_type": "stream",
     "text": [
      "Epoch 43: Train Loss: 0.030265, Train Acc: 0.993197, Train F1: 0.994113, Valid Loss: 0.733236, Valid Acc: 0.687075, Valid F1: 0.559064\n"
     ]
    },
    {
     "name": "stderr",
     "output_type": "stream",
     "text": [
      "                                                                                          \r"
     ]
    },
    {
     "name": "stdout",
     "output_type": "stream",
     "text": [
      "Epoch 44: Train Loss: 0.049909, Train Acc: 0.993197, Train F1: 0.994418, Valid Loss: 0.684946, Valid Acc: 0.693878, Valid F1: 0.558503\n"
     ]
    },
    {
     "name": "stderr",
     "output_type": "stream",
     "text": [
      "                                                                                          \r"
     ]
    },
    {
     "name": "stdout",
     "output_type": "stream",
     "text": [
      "Epoch 45: Train Loss: 0.074125, Train Acc: 0.993197, Train F1: 0.992316, Valid Loss: 0.680500, Valid Acc: 0.714286, Valid F1: 0.556678\n"
     ]
    },
    {
     "name": "stderr",
     "output_type": "stream",
     "text": [
      "                                                                                          \r"
     ]
    },
    {
     "name": "stdout",
     "output_type": "stream",
     "text": [
      "Epoch 46: Train Loss: 0.039397, Train Acc: 0.996599, Train F1: 0.996371, Valid Loss: 0.762279, Valid Acc: 0.673469, Valid F1: 0.551675\n"
     ]
    },
    {
     "name": "stderr",
     "output_type": "stream",
     "text": [
      "                                                                                          \r"
     ]
    },
    {
     "name": "stdout",
     "output_type": "stream",
     "text": [
      "Epoch 47: Train Loss: 0.049362, Train Acc: 0.994898, Train F1: 0.994201, Valid Loss: 0.768650, Valid Acc: 0.659864, Valid F1: 0.575136\n"
     ]
    },
    {
     "name": "stderr",
     "output_type": "stream",
     "text": [
      "                                                                                          \r"
     ]
    },
    {
     "name": "stdout",
     "output_type": "stream",
     "text": [
      "Epoch 48: Train Loss: 0.041592, Train Acc: 0.996599, Train F1: 0.996701, Valid Loss: 0.640406, Valid Acc: 0.666667, Valid F1: 0.573061\n"
     ]
    },
    {
     "name": "stderr",
     "output_type": "stream",
     "text": [
      "                                                                                          \r"
     ]
    },
    {
     "name": "stdout",
     "output_type": "stream",
     "text": [
      "Epoch 49: Train Loss: 0.048036, Train Acc: 0.998299, Train F1: 0.998758, Valid Loss: 0.670976, Valid Acc: 0.727891, Valid F1: 0.616753\n"
     ]
    },
    {
     "name": "stderr",
     "output_type": "stream",
     "text": [
      "                                                                                          \r"
     ]
    },
    {
     "name": "stdout",
     "output_type": "stream",
     "text": [
      "Epoch 50: Train Loss: 0.056850, Train Acc: 0.991497, Train F1: 0.981621, Valid Loss: 0.656496, Valid Acc: 0.714286, Valid F1: 0.603663\n"
     ]
    },
    {
     "name": "stderr",
     "output_type": "stream",
     "text": [
      "                                                                                          \r"
     ]
    },
    {
     "name": "stdout",
     "output_type": "stream",
     "text": [
      "Epoch 51: Train Loss: 0.043129, Train Acc: 0.991497, Train F1: 0.990184, Valid Loss: 0.626033, Valid Acc: 0.707483, Valid F1: 0.611057\n"
     ]
    },
    {
     "name": "stderr",
     "output_type": "stream",
     "text": [
      "                                                                                          \r"
     ]
    },
    {
     "name": "stdout",
     "output_type": "stream",
     "text": [
      "Epoch 52: Train Loss: 0.023644, Train Acc: 0.998299, Train F1: 0.997579, Valid Loss: 0.711181, Valid Acc: 0.673469, Valid F1: 0.579707\n"
     ]
    },
    {
     "name": "stderr",
     "output_type": "stream",
     "text": [
      "                                                                                          \r"
     ]
    },
    {
     "name": "stdout",
     "output_type": "stream",
     "text": [
      "Epoch 53: Train Loss: 0.028290, Train Acc: 0.998299, Train F1: 0.998145, Valid Loss: 0.759011, Valid Acc: 0.700680, Valid F1: 0.601259\n"
     ]
    },
    {
     "name": "stderr",
     "output_type": "stream",
     "text": [
      "                                                                                          \r"
     ]
    },
    {
     "name": "stdout",
     "output_type": "stream",
     "text": [
      "Epoch 54: Train Loss: 0.042451, Train Acc: 0.994898, Train F1: 0.995459, Valid Loss: 0.847775, Valid Acc: 0.639456, Valid F1: 0.579151\n"
     ]
    },
    {
     "name": "stderr",
     "output_type": "stream",
     "text": [
      "                                                                                          \r"
     ]
    },
    {
     "name": "stdout",
     "output_type": "stream",
     "text": [
      "Epoch 55: Train Loss: 0.052393, Train Acc: 0.993197, Train F1: 0.991212, Valid Loss: 0.841785, Valid Acc: 0.619048, Valid F1: 0.552282\n"
     ]
    },
    {
     "name": "stderr",
     "output_type": "stream",
     "text": [
      "                                                                                          \r"
     ]
    },
    {
     "name": "stdout",
     "output_type": "stream",
     "text": [
      "Epoch 56: Train Loss: 0.061648, Train Acc: 0.989796, Train F1: 0.986178, Valid Loss: 0.735750, Valid Acc: 0.707483, Valid F1: 0.546374\n"
     ]
    },
    {
     "name": "stderr",
     "output_type": "stream",
     "text": [
      "                                                                                          \r"
     ]
    },
    {
     "name": "stdout",
     "output_type": "stream",
     "text": [
      "Epoch 57: Train Loss: 0.100623, Train Acc: 0.988095, Train F1: 0.985779, Valid Loss: 0.750862, Valid Acc: 0.666667, Valid F1: 0.510405\n"
     ]
    },
    {
     "name": "stderr",
     "output_type": "stream",
     "text": [
      "                                                                                          \r"
     ]
    },
    {
     "name": "stdout",
     "output_type": "stream",
     "text": [
      "Epoch 58: Train Loss: 0.070016, Train Acc: 0.988095, Train F1: 0.989270, Valid Loss: 0.701129, Valid Acc: 0.673469, Valid F1: 0.574415\n"
     ]
    },
    {
     "name": "stderr",
     "output_type": "stream",
     "text": [
      "                                                                                          \r"
     ]
    },
    {
     "name": "stdout",
     "output_type": "stream",
     "text": [
      "Epoch 59: Train Loss: 0.050742, Train Acc: 0.998299, Train F1: 0.998713, Valid Loss: 0.681724, Valid Acc: 0.659864, Valid F1: 0.559559\n"
     ]
    },
    {
     "name": "stderr",
     "output_type": "stream",
     "text": [
      "                                                                                          \r"
     ]
    },
    {
     "name": "stdout",
     "output_type": "stream",
     "text": [
      "Epoch 60: Train Loss: 0.058757, Train Acc: 0.993197, Train F1: 0.992453, Valid Loss: 0.718792, Valid Acc: 0.673469, Valid F1: 0.566855\n"
     ]
    },
    {
     "name": "stderr",
     "output_type": "stream",
     "text": [
      "                                                                                          \r"
     ]
    },
    {
     "name": "stdout",
     "output_type": "stream",
     "text": [
      "Epoch 61: Train Loss: 0.028212, Train Acc: 1.000000, Train F1: 1.000000, Valid Loss: 0.715623, Valid Acc: 0.680272, Valid F1: 0.581384\n"
     ]
    },
    {
     "name": "stderr",
     "output_type": "stream",
     "text": [
      "                                                                                          \r"
     ]
    },
    {
     "name": "stdout",
     "output_type": "stream",
     "text": [
      "Epoch 62: Train Loss: 0.029580, Train Acc: 0.998299, Train F1: 0.995074, Valid Loss: 0.768535, Valid Acc: 0.666667, Valid F1: 0.579069\n"
     ]
    },
    {
     "name": "stderr",
     "output_type": "stream",
     "text": [
      "                                                                                          \r"
     ]
    },
    {
     "name": "stdout",
     "output_type": "stream",
     "text": [
      "Epoch 63: Train Loss: 0.027019, Train Acc: 0.998299, Train F1: 0.997658, Valid Loss: 0.714031, Valid Acc: 0.714286, Valid F1: 0.612472\n"
     ]
    },
    {
     "name": "stderr",
     "output_type": "stream",
     "text": [
      "                                                                                          \r"
     ]
    },
    {
     "name": "stdout",
     "output_type": "stream",
     "text": [
      "Epoch 64: Train Loss: 0.020734, Train Acc: 1.000000, Train F1: 1.000000, Valid Loss: 0.960275, Valid Acc: 0.721088, Valid F1: 0.606212\n"
     ]
    },
    {
     "name": "stderr",
     "output_type": "stream",
     "text": [
      "                                                                                          \r"
     ]
    },
    {
     "name": "stdout",
     "output_type": "stream",
     "text": [
      "Epoch 65: Train Loss: 0.015024, Train Acc: 1.000000, Train F1: 1.000000, Valid Loss: 0.874922, Valid Acc: 0.707483, Valid F1: 0.585480\n"
     ]
    },
    {
     "name": "stderr",
     "output_type": "stream",
     "text": [
      "                                                                                          \r"
     ]
    },
    {
     "name": "stdout",
     "output_type": "stream",
     "text": [
      "Epoch 66: Train Loss: 0.026881, Train Acc: 1.000000, Train F1: 1.000000, Valid Loss: 0.905521, Valid Acc: 0.707483, Valid F1: 0.595276\n"
     ]
    },
    {
     "name": "stderr",
     "output_type": "stream",
     "text": [
      "                                                                                          \r"
     ]
    },
    {
     "name": "stdout",
     "output_type": "stream",
     "text": [
      "Epoch 67: Train Loss: 0.015625, Train Acc: 1.000000, Train F1: 1.000000, Valid Loss: 0.769091, Valid Acc: 0.714286, Valid F1: 0.585312\n"
     ]
    },
    {
     "name": "stderr",
     "output_type": "stream",
     "text": [
      "                                                                                          \r"
     ]
    },
    {
     "name": "stdout",
     "output_type": "stream",
     "text": [
      "Epoch 68: Train Loss: 0.015457, Train Acc: 1.000000, Train F1: 1.000000, Valid Loss: 0.783344, Valid Acc: 0.707483, Valid F1: 0.600361\n"
     ]
    },
    {
     "name": "stderr",
     "output_type": "stream",
     "text": [
      "                                                                                          \r"
     ]
    },
    {
     "name": "stdout",
     "output_type": "stream",
     "text": [
      "Epoch 69: Train Loss: 0.029013, Train Acc: 0.994898, Train F1: 0.993789, Valid Loss: 0.711207, Valid Acc: 0.700680, Valid F1: 0.601837\n"
     ]
    },
    {
     "name": "stderr",
     "output_type": "stream",
     "text": [
      "                                                                                          \r"
     ]
    },
    {
     "name": "stdout",
     "output_type": "stream",
     "text": [
      "Epoch 70: Train Loss: 0.013790, Train Acc: 1.000000, Train F1: 1.000000, Valid Loss: 0.681571, Valid Acc: 0.693878, Valid F1: 0.592434\n"
     ]
    },
    {
     "name": "stderr",
     "output_type": "stream",
     "text": [
      "                                                                                          \r"
     ]
    },
    {
     "name": "stdout",
     "output_type": "stream",
     "text": [
      "Epoch 71: Train Loss: 0.025172, Train Acc: 0.996599, Train F1: 0.996515, Valid Loss: 0.743746, Valid Acc: 0.693878, Valid F1: 0.595362\n"
     ]
    },
    {
     "name": "stderr",
     "output_type": "stream",
     "text": [
      "                                                                                          \r"
     ]
    },
    {
     "name": "stdout",
     "output_type": "stream",
     "text": [
      "Epoch 72: Train Loss: 0.027244, Train Acc: 0.996599, Train F1: 0.996075, Valid Loss: 0.696947, Valid Acc: 0.666667, Valid F1: 0.562304\n"
     ]
    },
    {
     "name": "stderr",
     "output_type": "stream",
     "text": [
      "                                                                                          \r"
     ]
    },
    {
     "name": "stdout",
     "output_type": "stream",
     "text": [
      "Epoch 73: Train Loss: 0.043222, Train Acc: 0.993197, Train F1: 0.992329, Valid Loss: 0.691219, Valid Acc: 0.653061, Valid F1: 0.530226\n"
     ]
    },
    {
     "name": "stderr",
     "output_type": "stream",
     "text": [
      "                                                                                          \r"
     ]
    },
    {
     "name": "stdout",
     "output_type": "stream",
     "text": [
      "Epoch 74: Train Loss: 0.016746, Train Acc: 0.998299, Train F1: 0.997658, Valid Loss: 0.751014, Valid Acc: 0.653061, Valid F1: 0.540284\n"
     ]
    },
    {
     "name": "stderr",
     "output_type": "stream",
     "text": [
      "                                                                                          \r"
     ]
    },
    {
     "name": "stdout",
     "output_type": "stream",
     "text": [
      "Epoch 75: Train Loss: 0.015726, Train Acc: 1.000000, Train F1: 1.000000, Valid Loss: 0.891780, Valid Acc: 0.659864, Valid F1: 0.534877\n"
     ]
    },
    {
     "name": "stderr",
     "output_type": "stream",
     "text": [
      "                                                                                          \r"
     ]
    },
    {
     "name": "stdout",
     "output_type": "stream",
     "text": [
      "Epoch 76: Train Loss: 0.017701, Train Acc: 1.000000, Train F1: 1.000000, Valid Loss: 0.811325, Valid Acc: 0.653061, Valid F1: 0.533480\n"
     ]
    },
    {
     "name": "stderr",
     "output_type": "stream",
     "text": [
      "                                                                                          \r"
     ]
    },
    {
     "name": "stdout",
     "output_type": "stream",
     "text": [
      "Epoch 77: Train Loss: 0.019699, Train Acc: 0.994898, Train F1: 0.992306, Valid Loss: 0.743850, Valid Acc: 0.666667, Valid F1: 0.544796\n"
     ]
    },
    {
     "name": "stderr",
     "output_type": "stream",
     "text": [
      "                                                                                          \r"
     ]
    },
    {
     "name": "stdout",
     "output_type": "stream",
     "text": [
      "Epoch 78: Train Loss: 0.038371, Train Acc: 0.996599, Train F1: 0.997285, Valid Loss: 0.735064, Valid Acc: 0.680272, Valid F1: 0.557418\n"
     ]
    },
    {
     "name": "stderr",
     "output_type": "stream",
     "text": [
      "                                                                                          \r"
     ]
    },
    {
     "name": "stdout",
     "output_type": "stream",
     "text": [
      "Epoch 79: Train Loss: 0.028473, Train Acc: 0.994898, Train F1: 0.995380, Valid Loss: 0.666684, Valid Acc: 0.673469, Valid F1: 0.557131\n"
     ]
    },
    {
     "name": "stderr",
     "output_type": "stream",
     "text": [
      "                                                                                          \r"
     ]
    },
    {
     "name": "stdout",
     "output_type": "stream",
     "text": [
      "Epoch 80: Train Loss: 0.055669, Train Acc: 0.993197, Train F1: 0.994801, Valid Loss: 0.701852, Valid Acc: 0.673469, Valid F1: 0.514761\n"
     ]
    },
    {
     "name": "stderr",
     "output_type": "stream",
     "text": [
      "                                                                                          \r"
     ]
    },
    {
     "name": "stdout",
     "output_type": "stream",
     "text": [
      "Epoch 81: Train Loss: 0.018437, Train Acc: 0.998299, Train F1: 0.998736, Valid Loss: 0.729353, Valid Acc: 0.659864, Valid F1: 0.487588\n"
     ]
    },
    {
     "name": "stderr",
     "output_type": "stream",
     "text": [
      "                                                                                          \r"
     ]
    },
    {
     "name": "stdout",
     "output_type": "stream",
     "text": [
      "Epoch 82: Train Loss: 0.016242, Train Acc: 0.998299, Train F1: 0.998713, Valid Loss: 0.712543, Valid Acc: 0.646259, Valid F1: 0.473174\n"
     ]
    },
    {
     "name": "stderr",
     "output_type": "stream",
     "text": [
      "                                                                                          \r"
     ]
    },
    {
     "name": "stdout",
     "output_type": "stream",
     "text": [
      "Epoch 83: Train Loss: 0.012398, Train Acc: 1.000000, Train F1: 1.000000, Valid Loss: 0.710907, Valid Acc: 0.653061, Valid F1: 0.516468\n"
     ]
    },
    {
     "name": "stderr",
     "output_type": "stream",
     "text": [
      "                                                                                          \r"
     ]
    },
    {
     "name": "stdout",
     "output_type": "stream",
     "text": [
      "Epoch 84: Train Loss: 0.042294, Train Acc: 0.994898, Train F1: 0.995945, Valid Loss: 0.687367, Valid Acc: 0.632653, Valid F1: 0.470060\n"
     ]
    },
    {
     "name": "stderr",
     "output_type": "stream",
     "text": [
      "                                                                                          \r"
     ]
    },
    {
     "name": "stdout",
     "output_type": "stream",
     "text": [
      "Epoch 85: Train Loss: 0.011568, Train Acc: 1.000000, Train F1: 1.000000, Valid Loss: 0.646446, Valid Acc: 0.700680, Valid F1: 0.534279\n"
     ]
    },
    {
     "name": "stderr",
     "output_type": "stream",
     "text": [
      "                                                                                          \r"
     ]
    },
    {
     "name": "stdout",
     "output_type": "stream",
     "text": [
      "Epoch 86: Train Loss: 0.014156, Train Acc: 1.000000, Train F1: 1.000000, Valid Loss: 0.691742, Valid Acc: 0.687075, Valid F1: 0.527602\n"
     ]
    },
    {
     "name": "stderr",
     "output_type": "stream",
     "text": [
      "                                                                                          \r"
     ]
    },
    {
     "name": "stdout",
     "output_type": "stream",
     "text": [
      "Epoch 87: Train Loss: 0.015749, Train Acc: 0.998299, Train F1: 0.998713, Valid Loss: 0.660393, Valid Acc: 0.707483, Valid F1: 0.544622\n"
     ]
    },
    {
     "name": "stderr",
     "output_type": "stream",
     "text": [
      "                                                                                          \r"
     ]
    },
    {
     "name": "stdout",
     "output_type": "stream",
     "text": [
      "Epoch 88: Train Loss: 0.015172, Train Acc: 1.000000, Train F1: 1.000000, Valid Loss: 0.629849, Valid Acc: 0.693878, Valid F1: 0.535266\n"
     ]
    },
    {
     "name": "stderr",
     "output_type": "stream",
     "text": [
      "                                                                                          \r"
     ]
    },
    {
     "name": "stdout",
     "output_type": "stream",
     "text": [
      "Epoch 89: Train Loss: 0.010244, Train Acc: 1.000000, Train F1: 1.000000, Valid Loss: 0.685964, Valid Acc: 0.693878, Valid F1: 0.540214\n"
     ]
    },
    {
     "name": "stderr",
     "output_type": "stream",
     "text": [
      "                                                                                          \r"
     ]
    },
    {
     "name": "stdout",
     "output_type": "stream",
     "text": [
      "Epoch 90: Train Loss: 0.008809, Train Acc: 1.000000, Train F1: 1.000000, Valid Loss: 0.622784, Valid Acc: 0.693878, Valid F1: 0.536410\n"
     ]
    },
    {
     "name": "stderr",
     "output_type": "stream",
     "text": [
      "                                                                                          \r"
     ]
    },
    {
     "name": "stdout",
     "output_type": "stream",
     "text": [
      "Epoch 91: Train Loss: 0.008663, Train Acc: 1.000000, Train F1: 1.000000, Valid Loss: 0.612054, Valid Acc: 0.693878, Valid F1: 0.537631\n"
     ]
    },
    {
     "name": "stderr",
     "output_type": "stream",
     "text": [
      "                                                                                          \r"
     ]
    },
    {
     "name": "stdout",
     "output_type": "stream",
     "text": [
      "Epoch 92: Train Loss: 0.025744, Train Acc: 0.996599, Train F1: 0.996185, Valid Loss: 0.637454, Valid Acc: 0.700680, Valid F1: 0.543736\n"
     ]
    },
    {
     "name": "stderr",
     "output_type": "stream",
     "text": [
      "                                                                                          \r"
     ]
    },
    {
     "name": "stdout",
     "output_type": "stream",
     "text": [
      "Epoch 93: Train Loss: 0.010510, Train Acc: 1.000000, Train F1: 1.000000, Valid Loss: 0.666164, Valid Acc: 0.693878, Valid F1: 0.515195\n"
     ]
    },
    {
     "name": "stderr",
     "output_type": "stream",
     "text": [
      "                                                                                          \r"
     ]
    },
    {
     "name": "stdout",
     "output_type": "stream",
     "text": [
      "Epoch 94: Train Loss: 0.008351, Train Acc: 1.000000, Train F1: 1.000000, Valid Loss: 0.734397, Valid Acc: 0.680272, Valid F1: 0.499979\n"
     ]
    },
    {
     "name": "stderr",
     "output_type": "stream",
     "text": [
      "                                                                                          \r"
     ]
    },
    {
     "name": "stdout",
     "output_type": "stream",
     "text": [
      "Epoch 95: Train Loss: 0.014302, Train Acc: 1.000000, Train F1: 1.000000, Valid Loss: 0.717816, Valid Acc: 0.693878, Valid F1: 0.510317\n"
     ]
    },
    {
     "name": "stderr",
     "output_type": "stream",
     "text": [
      "                                                                                          \r"
     ]
    },
    {
     "name": "stdout",
     "output_type": "stream",
     "text": [
      "Epoch 96: Train Loss: 0.005942, Train Acc: 1.000000, Train F1: 1.000000, Valid Loss: 0.696616, Valid Acc: 0.680272, Valid F1: 0.499979\n"
     ]
    },
    {
     "name": "stderr",
     "output_type": "stream",
     "text": [
      "                                                                                          \r"
     ]
    },
    {
     "name": "stdout",
     "output_type": "stream",
     "text": [
      "Epoch 97: Train Loss: 0.010094, Train Acc: 1.000000, Train F1: 1.000000, Valid Loss: 0.638784, Valid Acc: 0.680272, Valid F1: 0.498193\n"
     ]
    },
    {
     "name": "stderr",
     "output_type": "stream",
     "text": [
      "                                                                                          \r"
     ]
    },
    {
     "name": "stdout",
     "output_type": "stream",
     "text": [
      "Epoch 98: Train Loss: 0.007558, Train Acc: 1.000000, Train F1: 1.000000, Valid Loss: 0.657351, Valid Acc: 0.680272, Valid F1: 0.526765\n"
     ]
    },
    {
     "name": "stderr",
     "output_type": "stream",
     "text": [
      "                                                                                          \r"
     ]
    },
    {
     "name": "stdout",
     "output_type": "stream",
     "text": [
      "Epoch 99: Train Loss: 0.007532, Train Acc: 1.000000, Train F1: 1.000000, Valid Loss: 0.820872, Valid Acc: 0.659864, Valid F1: 0.488738\n"
     ]
    },
    {
     "name": "stderr",
     "output_type": "stream",
     "text": [
      "                                                                                          \r"
     ]
    },
    {
     "name": "stdout",
     "output_type": "stream",
     "text": [
      "Epoch 100: Train Loss: 0.007037, Train Acc: 1.000000, Train F1: 1.000000, Valid Loss: 0.789559, Valid Acc: 0.680272, Valid F1: 0.508579\n"
     ]
    },
    {
     "name": "stderr",
     "output_type": "stream",
     "text": [
      "                                                                                           \r"
     ]
    },
    {
     "name": "stdout",
     "output_type": "stream",
     "text": [
      "Epoch 101: Train Loss: 0.009231, Train Acc: 1.000000, Train F1: 1.000000, Valid Loss: 0.656886, Valid Acc: 0.680272, Valid F1: 0.515005\n"
     ]
    },
    {
     "name": "stderr",
     "output_type": "stream",
     "text": [
      "                                                                                           \r"
     ]
    },
    {
     "name": "stdout",
     "output_type": "stream",
     "text": [
      "Epoch 102: Train Loss: 0.007343, Train Acc: 1.000000, Train F1: 1.000000, Valid Loss: 0.732830, Valid Acc: 0.700680, Valid F1: 0.529924\n"
     ]
    },
    {
     "name": "stderr",
     "output_type": "stream",
     "text": [
      "                                                                                           \r"
     ]
    },
    {
     "name": "stdout",
     "output_type": "stream",
     "text": [
      "Epoch 103: Train Loss: 0.005365, Train Acc: 1.000000, Train F1: 1.000000, Valid Loss: 0.716193, Valid Acc: 0.687075, Valid F1: 0.507205\n"
     ]
    },
    {
     "name": "stderr",
     "output_type": "stream",
     "text": [
      "                                                                                           \r"
     ]
    },
    {
     "name": "stdout",
     "output_type": "stream",
     "text": [
      "Epoch 104: Train Loss: 0.006310, Train Acc: 1.000000, Train F1: 1.000000, Valid Loss: 0.664976, Valid Acc: 0.673469, Valid F1: 0.504316\n"
     ]
    },
    {
     "name": "stderr",
     "output_type": "stream",
     "text": [
      "                                                                                           \r"
     ]
    },
    {
     "name": "stdout",
     "output_type": "stream",
     "text": [
      "Epoch 105: Train Loss: 0.005381, Train Acc: 1.000000, Train F1: 1.000000, Valid Loss: 0.650581, Valid Acc: 0.680272, Valid F1: 0.510870\n"
     ]
    },
    {
     "name": "stderr",
     "output_type": "stream",
     "text": [
      "                                                                                           \r"
     ]
    },
    {
     "name": "stdout",
     "output_type": "stream",
     "text": [
      "Epoch 106: Train Loss: 0.005569, Train Acc: 1.000000, Train F1: 1.000000, Valid Loss: 0.649628, Valid Acc: 0.680272, Valid F1: 0.511044\n"
     ]
    },
    {
     "name": "stderr",
     "output_type": "stream",
     "text": [
      "                                                                                           \r"
     ]
    },
    {
     "name": "stdout",
     "output_type": "stream",
     "text": [
      "Epoch 107: Train Loss: 0.004593, Train Acc: 1.000000, Train F1: 1.000000, Valid Loss: 0.694468, Valid Acc: 0.673469, Valid F1: 0.497949\n"
     ]
    },
    {
     "name": "stderr",
     "output_type": "stream",
     "text": [
      "                                                                                           \r"
     ]
    },
    {
     "name": "stdout",
     "output_type": "stream",
     "text": [
      "Epoch 108: Train Loss: 0.005924, Train Acc: 1.000000, Train F1: 1.000000, Valid Loss: 0.652022, Valid Acc: 0.687075, Valid F1: 0.512690\n"
     ]
    },
    {
     "name": "stderr",
     "output_type": "stream",
     "text": [
      "                                                                                           \r"
     ]
    },
    {
     "name": "stdout",
     "output_type": "stream",
     "text": [
      "Epoch 109: Train Loss: 0.052859, Train Acc: 0.994898, Train F1: 0.994924, Valid Loss: 0.627717, Valid Acc: 0.693878, Valid F1: 0.522251\n"
     ]
    },
    {
     "name": "stderr",
     "output_type": "stream",
     "text": [
      "                                                                                           \r"
     ]
    },
    {
     "name": "stdout",
     "output_type": "stream",
     "text": [
      "Epoch 110: Train Loss: 0.024055, Train Acc: 0.993197, Train F1: 0.993019, Valid Loss: 0.588552, Valid Acc: 0.693878, Valid F1: 0.561060\n"
     ]
    },
    {
     "name": "stderr",
     "output_type": "stream",
     "text": [
      "                                                                                           \r"
     ]
    },
    {
     "name": "stdout",
     "output_type": "stream",
     "text": [
      "Epoch 111: Train Loss: 0.027355, Train Acc: 0.994898, Train F1: 0.994284, Valid Loss: 0.625118, Valid Acc: 0.721088, Valid F1: 0.614504\n"
     ]
    },
    {
     "name": "stderr",
     "output_type": "stream",
     "text": [
      "                                                                                           \r"
     ]
    },
    {
     "name": "stdout",
     "output_type": "stream",
     "text": [
      "Epoch 112: Train Loss: 0.011446, Train Acc: 0.996599, Train F1: 0.995392, Valid Loss: 0.615240, Valid Acc: 0.666667, Valid F1: 0.542437\n"
     ]
    },
    {
     "name": "stderr",
     "output_type": "stream",
     "text": [
      "                                                                                           \r"
     ]
    },
    {
     "name": "stdout",
     "output_type": "stream",
     "text": [
      "Epoch 113: Train Loss: 0.047075, Train Acc: 0.996599, Train F1: 0.995074, Valid Loss: 0.633191, Valid Acc: 0.632653, Valid F1: 0.480911\n"
     ]
    },
    {
     "name": "stderr",
     "output_type": "stream",
     "text": [
      "                                                                                           \r"
     ]
    },
    {
     "name": "stdout",
     "output_type": "stream",
     "text": [
      "Epoch 114: Train Loss: 0.022296, Train Acc: 1.000000, Train F1: 1.000000, Valid Loss: 0.668228, Valid Acc: 0.659864, Valid F1: 0.513892\n"
     ]
    },
    {
     "name": "stderr",
     "output_type": "stream",
     "text": [
      "                                                                                           \r"
     ]
    },
    {
     "name": "stdout",
     "output_type": "stream",
     "text": [
      "Epoch 115: Train Loss: 0.013343, Train Acc: 1.000000, Train F1: 1.000000, Valid Loss: 0.954201, Valid Acc: 0.659864, Valid F1: 0.560642\n"
     ]
    },
    {
     "name": "stderr",
     "output_type": "stream",
     "text": [
      "                                                                                           \r"
     ]
    },
    {
     "name": "stdout",
     "output_type": "stream",
     "text": [
      "Epoch 116: Train Loss: 0.014580, Train Acc: 1.000000, Train F1: 1.000000, Valid Loss: 0.922636, Valid Acc: 0.693878, Valid F1: 0.601214\n"
     ]
    },
    {
     "name": "stderr",
     "output_type": "stream",
     "text": [
      "                                                                                           \r"
     ]
    },
    {
     "name": "stdout",
     "output_type": "stream",
     "text": [
      "Epoch 117: Train Loss: 0.009511, Train Acc: 1.000000, Train F1: 1.000000, Valid Loss: 0.713058, Valid Acc: 0.707483, Valid F1: 0.655093\n"
     ]
    },
    {
     "name": "stderr",
     "output_type": "stream",
     "text": [
      "                                                                                           \r"
     ]
    },
    {
     "name": "stdout",
     "output_type": "stream",
     "text": [
      "Epoch 118: Train Loss: 0.012064, Train Acc: 0.998299, Train F1: 0.997658, Valid Loss: 0.847857, Valid Acc: 0.693878, Valid F1: 0.633084\n"
     ]
    },
    {
     "name": "stderr",
     "output_type": "stream",
     "text": [
      "                                                                                           \r"
     ]
    },
    {
     "name": "stdout",
     "output_type": "stream",
     "text": [
      "Epoch 119: Train Loss: 0.005370, Train Acc: 1.000000, Train F1: 1.000000, Valid Loss: 0.911961, Valid Acc: 0.673469, Valid F1: 0.584732\n"
     ]
    },
    {
     "name": "stderr",
     "output_type": "stream",
     "text": [
      "                                                                                           \r"
     ]
    },
    {
     "name": "stdout",
     "output_type": "stream",
     "text": [
      "Epoch 120: Train Loss: 0.008219, Train Acc: 1.000000, Train F1: 1.000000, Valid Loss: 0.916498, Valid Acc: 0.659864, Valid F1: 0.575558\n"
     ]
    },
    {
     "name": "stderr",
     "output_type": "stream",
     "text": [
      "                                                                                           \r"
     ]
    },
    {
     "name": "stdout",
     "output_type": "stream",
     "text": [
      "Epoch 121: Train Loss: 0.018278, Train Acc: 0.998299, Train F1: 0.995074, Valid Loss: 0.935546, Valid Acc: 0.666667, Valid F1: 0.592903\n"
     ]
    },
    {
     "name": "stderr",
     "output_type": "stream",
     "text": [
      "                                                                                           \r"
     ]
    },
    {
     "name": "stdout",
     "output_type": "stream",
     "text": [
      "Epoch 122: Train Loss: 0.008964, Train Acc: 1.000000, Train F1: 1.000000, Valid Loss: 0.963383, Valid Acc: 0.625850, Valid F1: 0.544133\n"
     ]
    },
    {
     "name": "stderr",
     "output_type": "stream",
     "text": [
      "                                                                                           \r"
     ]
    },
    {
     "name": "stdout",
     "output_type": "stream",
     "text": [
      "Epoch 123: Train Loss: 0.026856, Train Acc: 0.996599, Train F1: 0.997403, Valid Loss: 0.859474, Valid Acc: 0.625850, Valid F1: 0.548947\n"
     ]
    },
    {
     "name": "stderr",
     "output_type": "stream",
     "text": [
      "                                                                                           \r"
     ]
    },
    {
     "name": "stdout",
     "output_type": "stream",
     "text": [
      "Epoch 124: Train Loss: 0.058367, Train Acc: 0.991497, Train F1: 0.987675, Valid Loss: 0.947986, Valid Acc: 0.646259, Valid F1: 0.584198\n"
     ]
    },
    {
     "name": "stderr",
     "output_type": "stream",
     "text": [
      "                                                                                           \r"
     ]
    },
    {
     "name": "stdout",
     "output_type": "stream",
     "text": [
      "Epoch 125: Train Loss: 0.081931, Train Acc: 0.986395, Train F1: 0.983598, Valid Loss: 0.802014, Valid Acc: 0.612245, Valid F1: 0.541333\n"
     ]
    },
    {
     "name": "stderr",
     "output_type": "stream",
     "text": [
      "                                                                                           \r"
     ]
    },
    {
     "name": "stdout",
     "output_type": "stream",
     "text": [
      "Epoch 126: Train Loss: 0.013840, Train Acc: 0.998299, Train F1: 0.997988, Valid Loss: 0.727503, Valid Acc: 0.700680, Valid F1: 0.649889\n"
     ]
    },
    {
     "name": "stderr",
     "output_type": "stream",
     "text": [
      "                                                                                           \r"
     ]
    },
    {
     "name": "stdout",
     "output_type": "stream",
     "text": [
      "Epoch 127: Train Loss: 0.032387, Train Acc: 0.988095, Train F1: 0.983081, Valid Loss: 0.677480, Valid Acc: 0.653061, Valid F1: 0.577083\n"
     ]
    },
    {
     "name": "stderr",
     "output_type": "stream",
     "text": [
      "                                                                                           \r"
     ]
    },
    {
     "name": "stdout",
     "output_type": "stream",
     "text": [
      "Epoch 128: Train Loss: 0.028653, Train Acc: 0.994898, Train F1: 0.992840, Valid Loss: 0.675715, Valid Acc: 0.700680, Valid F1: 0.604250\n"
     ]
    },
    {
     "name": "stderr",
     "output_type": "stream",
     "text": [
      "                                                                                           \r"
     ]
    },
    {
     "name": "stdout",
     "output_type": "stream",
     "text": [
      "Epoch 129: Train Loss: 0.012855, Train Acc: 1.000000, Train F1: 1.000000, Valid Loss: 0.708490, Valid Acc: 0.646259, Valid F1: 0.502090\n"
     ]
    },
    {
     "name": "stderr",
     "output_type": "stream",
     "text": [
      "                                                                                           \r"
     ]
    },
    {
     "name": "stdout",
     "output_type": "stream",
     "text": [
      "Epoch 130: Train Loss: 0.013107, Train Acc: 0.998299, Train F1: 0.995074, Valid Loss: 0.759676, Valid Acc: 0.612245, Valid F1: 0.471572\n"
     ]
    },
    {
     "name": "stderr",
     "output_type": "stream",
     "text": [
      "                                                                                           \r"
     ]
    },
    {
     "name": "stdout",
     "output_type": "stream",
     "text": [
      "Epoch 131: Train Loss: 0.028794, Train Acc: 0.996599, Train F1: 0.996188, Valid Loss: 0.695335, Valid Acc: 0.680272, Valid F1: 0.574790\n"
     ]
    },
    {
     "name": "stderr",
     "output_type": "stream",
     "text": [
      "                                                                                           \r"
     ]
    },
    {
     "name": "stdout",
     "output_type": "stream",
     "text": [
      "Epoch 132: Train Loss: 0.014363, Train Acc: 0.998299, Train F1: 0.998496, Valid Loss: 0.900529, Valid Acc: 0.700680, Valid F1: 0.564223\n"
     ]
    },
    {
     "name": "stderr",
     "output_type": "stream",
     "text": [
      "                                                                                           \r"
     ]
    },
    {
     "name": "stdout",
     "output_type": "stream",
     "text": [
      "Epoch 133: Train Loss: 0.041354, Train Acc: 0.991497, Train F1: 0.990204, Valid Loss: 0.676795, Valid Acc: 0.673469, Valid F1: 0.587766\n"
     ]
    },
    {
     "name": "stderr",
     "output_type": "stream",
     "text": [
      "                                                                                           \r"
     ]
    },
    {
     "name": "stdout",
     "output_type": "stream",
     "text": [
      "Epoch 134: Train Loss: 0.013011, Train Acc: 1.000000, Train F1: 1.000000, Valid Loss: 1.867813, Valid Acc: 0.557823, Valid F1: 0.526150\n"
     ]
    },
    {
     "name": "stderr",
     "output_type": "stream",
     "text": [
      "                                                                                           \r"
     ]
    },
    {
     "name": "stdout",
     "output_type": "stream",
     "text": [
      "Epoch 135: Train Loss: 0.077475, Train Acc: 0.986395, Train F1: 0.982196, Valid Loss: 0.659498, Valid Acc: 0.653061, Valid F1: 0.469940\n"
     ]
    },
    {
     "name": "stderr",
     "output_type": "stream",
     "text": [
      "                                                                                           \r"
     ]
    },
    {
     "name": "stdout",
     "output_type": "stream",
     "text": [
      "Epoch 136: Train Loss: 0.049600, Train Acc: 0.993197, Train F1: 0.978022, Valid Loss: 0.741563, Valid Acc: 0.680272, Valid F1: 0.547675\n"
     ]
    },
    {
     "name": "stderr",
     "output_type": "stream",
     "text": [
      "                                                                                           \r"
     ]
    },
    {
     "name": "stdout",
     "output_type": "stream",
     "text": [
      "Epoch 137: Train Loss: 0.021255, Train Acc: 0.996599, Train F1: 0.993380, Valid Loss: 0.817200, Valid Acc: 0.673469, Valid F1: 0.579627\n"
     ]
    },
    {
     "name": "stderr",
     "output_type": "stream",
     "text": [
      "                                                                                           \r"
     ]
    },
    {
     "name": "stdout",
     "output_type": "stream",
     "text": [
      "Epoch 138: Train Loss: 0.018947, Train Acc: 1.000000, Train F1: 1.000000, Valid Loss: 0.893617, Valid Acc: 0.673469, Valid F1: 0.553026\n"
     ]
    },
    {
     "name": "stderr",
     "output_type": "stream",
     "text": [
      "                                                                                           \r"
     ]
    },
    {
     "name": "stdout",
     "output_type": "stream",
     "text": [
      "Epoch 139: Train Loss: 0.024184, Train Acc: 0.998299, Train F1: 0.998095, Valid Loss: 0.982578, Valid Acc: 0.680272, Valid F1: 0.547104\n"
     ]
    },
    {
     "name": "stderr",
     "output_type": "stream",
     "text": [
      "                                                                                           \r"
     ]
    },
    {
     "name": "stdout",
     "output_type": "stream",
     "text": [
      "Epoch 140: Train Loss: 0.009939, Train Acc: 1.000000, Train F1: 1.000000, Valid Loss: 0.787185, Valid Acc: 0.680272, Valid F1: 0.529321\n"
     ]
    },
    {
     "name": "stderr",
     "output_type": "stream",
     "text": [
      "                                                                                           \r"
     ]
    },
    {
     "name": "stdout",
     "output_type": "stream",
     "text": [
      "Epoch 141: Train Loss: 0.014995, Train Acc: 1.000000, Train F1: 1.000000, Valid Loss: 0.773100, Valid Acc: 0.659864, Valid F1: 0.490216\n"
     ]
    },
    {
     "name": "stderr",
     "output_type": "stream",
     "text": [
      "                                                                                           \r"
     ]
    },
    {
     "name": "stdout",
     "output_type": "stream",
     "text": [
      "Epoch 142: Train Loss: 0.014360, Train Acc: 0.998299, Train F1: 0.997988, Valid Loss: 0.760647, Valid Acc: 0.653061, Valid F1: 0.472039\n"
     ]
    },
    {
     "name": "stderr",
     "output_type": "stream",
     "text": [
      "                                                                                           \r"
     ]
    },
    {
     "name": "stdout",
     "output_type": "stream",
     "text": [
      "Epoch 143: Train Loss: 0.017151, Train Acc: 0.998299, Train F1: 0.997579, Valid Loss: 0.786499, Valid Acc: 0.700680, Valid F1: 0.556166\n"
     ]
    },
    {
     "name": "stderr",
     "output_type": "stream",
     "text": [
      "                                                                                           \r"
     ]
    },
    {
     "name": "stdout",
     "output_type": "stream",
     "text": [
      "Epoch 144: Train Loss: 0.006688, Train Acc: 1.000000, Train F1: 1.000000, Valid Loss: 0.764508, Valid Acc: 0.700680, Valid F1: 0.586229\n"
     ]
    },
    {
     "name": "stderr",
     "output_type": "stream",
     "text": [
      "                                                                                           \r"
     ]
    },
    {
     "name": "stdout",
     "output_type": "stream",
     "text": [
      "Epoch 145: Train Loss: 0.008426, Train Acc: 1.000000, Train F1: 1.000000, Valid Loss: 0.753872, Valid Acc: 0.659864, Valid F1: 0.557276\n"
     ]
    },
    {
     "name": "stderr",
     "output_type": "stream",
     "text": [
      "                                                                                           \r"
     ]
    },
    {
     "name": "stdout",
     "output_type": "stream",
     "text": [
      "Epoch 146: Train Loss: 0.010250, Train Acc: 1.000000, Train F1: 1.000000, Valid Loss: 0.934555, Valid Acc: 0.673469, Valid F1: 0.547940\n"
     ]
    },
    {
     "name": "stderr",
     "output_type": "stream",
     "text": [
      "                                                                                           \r"
     ]
    },
    {
     "name": "stdout",
     "output_type": "stream",
     "text": [
      "Epoch 147: Train Loss: 0.010830, Train Acc: 1.000000, Train F1: 1.000000, Valid Loss: 0.859905, Valid Acc: 0.687075, Valid F1: 0.578832\n"
     ]
    },
    {
     "name": "stderr",
     "output_type": "stream",
     "text": [
      "                                                                                           \r"
     ]
    },
    {
     "name": "stdout",
     "output_type": "stream",
     "text": [
      "Epoch 148: Train Loss: 0.005646, Train Acc: 1.000000, Train F1: 1.000000, Valid Loss: 1.012190, Valid Acc: 0.666667, Valid F1: 0.550778\n"
     ]
    },
    {
     "name": "stderr",
     "output_type": "stream",
     "text": [
      "                                                                                           \r"
     ]
    },
    {
     "name": "stdout",
     "output_type": "stream",
     "text": [
      "Epoch 149: Train Loss: 0.008823, Train Acc: 1.000000, Train F1: 1.000000, Valid Loss: 1.009584, Valid Acc: 0.653061, Valid F1: 0.511504\n"
     ]
    },
    {
     "name": "stderr",
     "output_type": "stream",
     "text": [
      "                                                                                           \r"
     ]
    },
    {
     "name": "stdout",
     "output_type": "stream",
     "text": [
      "Epoch 150: Train Loss: 0.011548, Train Acc: 0.998299, Train F1: 0.998736, Valid Loss: 1.027041, Valid Acc: 0.666667, Valid F1: 0.535289\n"
     ]
    },
    {
     "name": "stderr",
     "output_type": "stream",
     "text": [
      "                                                                                           \r"
     ]
    },
    {
     "name": "stdout",
     "output_type": "stream",
     "text": [
      "Epoch 151: Train Loss: 0.003892, Train Acc: 1.000000, Train F1: 1.000000, Valid Loss: 1.051874, Valid Acc: 0.646259, Valid F1: 0.524328\n"
     ]
    },
    {
     "name": "stderr",
     "output_type": "stream",
     "text": [
      "                                                                                           \r"
     ]
    },
    {
     "name": "stdout",
     "output_type": "stream",
     "text": [
      "Epoch 152: Train Loss: 0.005761, Train Acc: 1.000000, Train F1: 1.000000, Valid Loss: 0.949787, Valid Acc: 0.653061, Valid F1: 0.535606\n"
     ]
    },
    {
     "name": "stderr",
     "output_type": "stream",
     "text": [
      "                                                                                           \r"
     ]
    },
    {
     "name": "stdout",
     "output_type": "stream",
     "text": [
      "Epoch 153: Train Loss: 0.012922, Train Acc: 1.000000, Train F1: 1.000000, Valid Loss: 1.013787, Valid Acc: 0.653061, Valid F1: 0.541774\n"
     ]
    },
    {
     "name": "stderr",
     "output_type": "stream",
     "text": [
      "                                                                                           \r"
     ]
    },
    {
     "name": "stdout",
     "output_type": "stream",
     "text": [
      "Epoch 154: Train Loss: 0.008274, Train Acc: 1.000000, Train F1: 1.000000, Valid Loss: 0.799577, Valid Acc: 0.625850, Valid F1: 0.513237\n"
     ]
    },
    {
     "name": "stderr",
     "output_type": "stream",
     "text": [
      "                                                                                           \r"
     ]
    },
    {
     "name": "stdout",
     "output_type": "stream",
     "text": [
      "Epoch 155: Train Loss: 0.008606, Train Acc: 1.000000, Train F1: 1.000000, Valid Loss: 0.912588, Valid Acc: 0.646259, Valid F1: 0.541408\n"
     ]
    },
    {
     "name": "stderr",
     "output_type": "stream",
     "text": [
      "                                                                                           \r"
     ]
    },
    {
     "name": "stdout",
     "output_type": "stream",
     "text": [
      "Epoch 156: Train Loss: 0.005627, Train Acc: 1.000000, Train F1: 1.000000, Valid Loss: 0.779434, Valid Acc: 0.653061, Valid F1: 0.568874\n"
     ]
    },
    {
     "name": "stderr",
     "output_type": "stream",
     "text": [
      "                                                                                           \r"
     ]
    },
    {
     "name": "stdout",
     "output_type": "stream",
     "text": [
      "Epoch 157: Train Loss: 0.013869, Train Acc: 1.000000, Train F1: 1.000000, Valid Loss: 0.831812, Valid Acc: 0.653061, Valid F1: 0.570498\n"
     ]
    },
    {
     "name": "stderr",
     "output_type": "stream",
     "text": [
      "                                                                                           \r"
     ]
    },
    {
     "name": "stdout",
     "output_type": "stream",
     "text": [
      "Epoch 158: Train Loss: 0.012695, Train Acc: 0.998299, Train F1: 0.998496, Valid Loss: 0.837939, Valid Acc: 0.673469, Valid F1: 0.584178\n"
     ]
    },
    {
     "name": "stderr",
     "output_type": "stream",
     "text": [
      "                                                                                           \r"
     ]
    },
    {
     "name": "stdout",
     "output_type": "stream",
     "text": [
      "Epoch 159: Train Loss: 0.005743, Train Acc: 1.000000, Train F1: 1.000000, Valid Loss: 0.835468, Valid Acc: 0.666667, Valid F1: 0.577476\n"
     ]
    },
    {
     "name": "stderr",
     "output_type": "stream",
     "text": [
      "                                                                                           \r"
     ]
    },
    {
     "name": "stdout",
     "output_type": "stream",
     "text": [
      "Epoch 160: Train Loss: 0.006972, Train Acc: 0.998299, Train F1: 0.997579, Valid Loss: 0.727639, Valid Acc: 0.653061, Valid F1: 0.537936\n"
     ]
    },
    {
     "name": "stderr",
     "output_type": "stream",
     "text": [
      "                                                                                           \r"
     ]
    },
    {
     "name": "stdout",
     "output_type": "stream",
     "text": [
      "Epoch 161: Train Loss: 0.009096, Train Acc: 1.000000, Train F1: 1.000000, Valid Loss: 0.769429, Valid Acc: 0.646259, Valid F1: 0.534420\n"
     ]
    },
    {
     "name": "stderr",
     "output_type": "stream",
     "text": [
      "                                                                                           \r"
     ]
    },
    {
     "name": "stdout",
     "output_type": "stream",
     "text": [
      "Epoch 162: Train Loss: 0.005403, Train Acc: 1.000000, Train F1: 1.000000, Valid Loss: 0.924639, Valid Acc: 0.666667, Valid F1: 0.566148\n"
     ]
    },
    {
     "name": "stderr",
     "output_type": "stream",
     "text": [
      "                                                                                           \r"
     ]
    },
    {
     "name": "stdout",
     "output_type": "stream",
     "text": [
      "Epoch 163: Train Loss: 0.005271, Train Acc: 1.000000, Train F1: 1.000000, Valid Loss: 0.728899, Valid Acc: 0.673469, Valid F1: 0.574974\n"
     ]
    },
    {
     "name": "stderr",
     "output_type": "stream",
     "text": [
      "                                                                                           \r"
     ]
    },
    {
     "name": "stdout",
     "output_type": "stream",
     "text": [
      "Epoch 164: Train Loss: 0.003850, Train Acc: 1.000000, Train F1: 1.000000, Valid Loss: 0.756884, Valid Acc: 0.666667, Valid F1: 0.568869\n"
     ]
    },
    {
     "name": "stderr",
     "output_type": "stream",
     "text": [
      "                                                                                           \r"
     ]
    },
    {
     "name": "stdout",
     "output_type": "stream",
     "text": [
      "Epoch 165: Train Loss: 0.009692, Train Acc: 1.000000, Train F1: 1.000000, Valid Loss: 0.714530, Valid Acc: 0.659864, Valid F1: 0.536999\n"
     ]
    },
    {
     "name": "stderr",
     "output_type": "stream",
     "text": [
      "                                                                                           \r"
     ]
    },
    {
     "name": "stdout",
     "output_type": "stream",
     "text": [
      "Epoch 166: Train Loss: 0.005711, Train Acc: 1.000000, Train F1: 1.000000, Valid Loss: 0.845015, Valid Acc: 0.673469, Valid F1: 0.544325\n"
     ]
    },
    {
     "name": "stderr",
     "output_type": "stream",
     "text": [
      "                                                                                           \r"
     ]
    },
    {
     "name": "stdout",
     "output_type": "stream",
     "text": [
      "Epoch 167: Train Loss: 0.024953, Train Acc: 0.996599, Train F1: 0.997537, Valid Loss: 0.737914, Valid Acc: 0.666667, Valid F1: 0.546212\n"
     ]
    },
    {
     "name": "stderr",
     "output_type": "stream",
     "text": [
      "                                                                                           \r"
     ]
    },
    {
     "name": "stdout",
     "output_type": "stream",
     "text": [
      "Epoch 168: Train Loss: 0.004985, Train Acc: 1.000000, Train F1: 1.000000, Valid Loss: 0.735574, Valid Acc: 0.639456, Valid F1: 0.508758\n"
     ]
    },
    {
     "name": "stderr",
     "output_type": "stream",
     "text": [
      "                                                                                           \r"
     ]
    },
    {
     "name": "stdout",
     "output_type": "stream",
     "text": [
      "Epoch 169: Train Loss: 0.010714, Train Acc: 1.000000, Train F1: 1.000000, Valid Loss: 0.945455, Valid Acc: 0.632653, Valid F1: 0.468859\n"
     ]
    },
    {
     "name": "stderr",
     "output_type": "stream",
     "text": [
      "                                                                                           \r"
     ]
    },
    {
     "name": "stdout",
     "output_type": "stream",
     "text": [
      "Epoch 170: Train Loss: 0.011763, Train Acc: 1.000000, Train F1: 1.000000, Valid Loss: 0.847287, Valid Acc: 0.625850, Valid F1: 0.473593\n"
     ]
    },
    {
     "name": "stderr",
     "output_type": "stream",
     "text": [
      "                                                                                           \r"
     ]
    },
    {
     "name": "stdout",
     "output_type": "stream",
     "text": [
      "Epoch 171: Train Loss: 0.005179, Train Acc: 1.000000, Train F1: 1.000000, Valid Loss: 1.040555, Valid Acc: 0.639456, Valid F1: 0.498722\n"
     ]
    },
    {
     "name": "stderr",
     "output_type": "stream",
     "text": [
      "                                                                                           \r"
     ]
    },
    {
     "name": "stdout",
     "output_type": "stream",
     "text": [
      "Epoch 172: Train Loss: 0.005201, Train Acc: 1.000000, Train F1: 1.000000, Valid Loss: 0.798248, Valid Acc: 0.632653, Valid F1: 0.503301\n"
     ]
    },
    {
     "name": "stderr",
     "output_type": "stream",
     "text": [
      "                                                                                           \r"
     ]
    },
    {
     "name": "stdout",
     "output_type": "stream",
     "text": [
      "Epoch 173: Train Loss: 0.003150, Train Acc: 1.000000, Train F1: 1.000000, Valid Loss: 0.786678, Valid Acc: 0.632653, Valid F1: 0.531035\n"
     ]
    },
    {
     "name": "stderr",
     "output_type": "stream",
     "text": [
      "                                                                                           \r"
     ]
    },
    {
     "name": "stdout",
     "output_type": "stream",
     "text": [
      "Epoch 174: Train Loss: 0.010001, Train Acc: 1.000000, Train F1: 1.000000, Valid Loss: 0.807961, Valid Acc: 0.639456, Valid F1: 0.510627\n"
     ]
    },
    {
     "name": "stderr",
     "output_type": "stream",
     "text": [
      "                                                                                           \r"
     ]
    },
    {
     "name": "stdout",
     "output_type": "stream",
     "text": [
      "Epoch 175: Train Loss: 0.006191, Train Acc: 1.000000, Train F1: 1.000000, Valid Loss: 0.786615, Valid Acc: 0.639456, Valid F1: 0.528117\n"
     ]
    },
    {
     "name": "stderr",
     "output_type": "stream",
     "text": [
      "                                                                                           \r"
     ]
    },
    {
     "name": "stdout",
     "output_type": "stream",
     "text": [
      "Epoch 176: Train Loss: 0.004879, Train Acc: 1.000000, Train F1: 1.000000, Valid Loss: 1.000062, Valid Acc: 0.625850, Valid F1: 0.522426\n"
     ]
    },
    {
     "name": "stderr",
     "output_type": "stream",
     "text": [
      "                                                                                           \r"
     ]
    },
    {
     "name": "stdout",
     "output_type": "stream",
     "text": [
      "Epoch 177: Train Loss: 0.006804, Train Acc: 0.998299, Train F1: 0.998736, Valid Loss: 0.960307, Valid Acc: 0.632653, Valid F1: 0.527414\n"
     ]
    },
    {
     "name": "stderr",
     "output_type": "stream",
     "text": [
      "                                                                                           \r"
     ]
    },
    {
     "name": "stdout",
     "output_type": "stream",
     "text": [
      "Epoch 178: Train Loss: 0.003178, Train Acc: 1.000000, Train F1: 1.000000, Valid Loss: 0.890882, Valid Acc: 0.653061, Valid F1: 0.515985\n"
     ]
    },
    {
     "name": "stderr",
     "output_type": "stream",
     "text": [
      "                                                                                           \r"
     ]
    },
    {
     "name": "stdout",
     "output_type": "stream",
     "text": [
      "Epoch 179: Train Loss: 0.003171, Train Acc: 1.000000, Train F1: 1.000000, Valid Loss: 0.857255, Valid Acc: 0.646259, Valid F1: 0.531858\n"
     ]
    },
    {
     "name": "stderr",
     "output_type": "stream",
     "text": [
      "                                                                                           \r"
     ]
    },
    {
     "name": "stdout",
     "output_type": "stream",
     "text": [
      "Epoch 180: Train Loss: 0.003603, Train Acc: 1.000000, Train F1: 1.000000, Valid Loss: 1.069484, Valid Acc: 0.639456, Valid F1: 0.528766\n"
     ]
    },
    {
     "name": "stderr",
     "output_type": "stream",
     "text": [
      "                                                                                           \r"
     ]
    },
    {
     "name": "stdout",
     "output_type": "stream",
     "text": [
      "Epoch 181: Train Loss: 0.019056, Train Acc: 0.998299, Train F1: 0.995074, Valid Loss: 0.787026, Valid Acc: 0.659864, Valid F1: 0.563630\n"
     ]
    },
    {
     "name": "stderr",
     "output_type": "stream",
     "text": [
      "                                                                                           \r"
     ]
    },
    {
     "name": "stdout",
     "output_type": "stream",
     "text": [
      "Epoch 182: Train Loss: 0.003069, Train Acc: 1.000000, Train F1: 1.000000, Valid Loss: 0.691129, Valid Acc: 0.673469, Valid F1: 0.606231\n"
     ]
    },
    {
     "name": "stderr",
     "output_type": "stream",
     "text": [
      "                                                                                           \r"
     ]
    },
    {
     "name": "stdout",
     "output_type": "stream",
     "text": [
      "Epoch 183: Train Loss: 0.004655, Train Acc: 1.000000, Train F1: 1.000000, Valid Loss: 0.721478, Valid Acc: 0.646259, Valid F1: 0.586722\n"
     ]
    },
    {
     "name": "stderr",
     "output_type": "stream",
     "text": [
      "                                                                                           \r"
     ]
    },
    {
     "name": "stdout",
     "output_type": "stream",
     "text": [
      "Epoch 184: Train Loss: 0.003854, Train Acc: 1.000000, Train F1: 1.000000, Valid Loss: 0.765862, Valid Acc: 0.659864, Valid F1: 0.601793\n"
     ]
    },
    {
     "name": "stderr",
     "output_type": "stream",
     "text": [
      "                                                                                           \r"
     ]
    },
    {
     "name": "stdout",
     "output_type": "stream",
     "text": [
      "Epoch 185: Train Loss: 0.003489, Train Acc: 1.000000, Train F1: 1.000000, Valid Loss: 0.756262, Valid Acc: 0.673469, Valid F1: 0.611936\n"
     ]
    },
    {
     "name": "stderr",
     "output_type": "stream",
     "text": [
      "                                                                                           \r"
     ]
    },
    {
     "name": "stdout",
     "output_type": "stream",
     "text": [
      "Epoch 186: Train Loss: 0.002893, Train Acc: 1.000000, Train F1: 1.000000, Valid Loss: 0.862296, Valid Acc: 0.687075, Valid F1: 0.617520\n"
     ]
    },
    {
     "name": "stderr",
     "output_type": "stream",
     "text": [
      "                                                                                           \r"
     ]
    },
    {
     "name": "stdout",
     "output_type": "stream",
     "text": [
      "Epoch 187: Train Loss: 0.004289, Train Acc: 1.000000, Train F1: 1.000000, Valid Loss: 0.863499, Valid Acc: 0.666667, Valid F1: 0.583597\n"
     ]
    },
    {
     "name": "stderr",
     "output_type": "stream",
     "text": [
      "                                                                                           \r"
     ]
    },
    {
     "name": "stdout",
     "output_type": "stream",
     "text": [
      "Epoch 188: Train Loss: 0.003904, Train Acc: 1.000000, Train F1: 1.000000, Valid Loss: 0.804646, Valid Acc: 0.666667, Valid F1: 0.577512\n"
     ]
    },
    {
     "name": "stderr",
     "output_type": "stream",
     "text": [
      "                                                                                           \r"
     ]
    },
    {
     "name": "stdout",
     "output_type": "stream",
     "text": [
      "Epoch 189: Train Loss: 0.004960, Train Acc: 1.000000, Train F1: 1.000000, Valid Loss: 0.788677, Valid Acc: 0.680272, Valid F1: 0.602768\n"
     ]
    },
    {
     "name": "stderr",
     "output_type": "stream",
     "text": [
      "                                                                                           \r"
     ]
    },
    {
     "name": "stdout",
     "output_type": "stream",
     "text": [
      "Epoch 190: Train Loss: 0.003925, Train Acc: 1.000000, Train F1: 1.000000, Valid Loss: 0.757794, Valid Acc: 0.673469, Valid F1: 0.599725\n"
     ]
    },
    {
     "name": "stderr",
     "output_type": "stream",
     "text": [
      "                                                                                           \r"
     ]
    },
    {
     "name": "stdout",
     "output_type": "stream",
     "text": [
      "Epoch 191: Train Loss: 0.001722, Train Acc: 1.000000, Train F1: 1.000000, Valid Loss: 1.052362, Valid Acc: 0.659864, Valid F1: 0.589485\n"
     ]
    },
    {
     "name": "stderr",
     "output_type": "stream",
     "text": [
      "                                                                                           \r"
     ]
    },
    {
     "name": "stdout",
     "output_type": "stream",
     "text": [
      "Epoch 192: Train Loss: 0.003507, Train Acc: 1.000000, Train F1: 1.000000, Valid Loss: 0.788441, Valid Acc: 0.646259, Valid F1: 0.584862\n"
     ]
    },
    {
     "name": "stderr",
     "output_type": "stream",
     "text": [
      "                                                                                           \r"
     ]
    },
    {
     "name": "stdout",
     "output_type": "stream",
     "text": [
      "Epoch 193: Train Loss: 0.002944, Train Acc: 1.000000, Train F1: 1.000000, Valid Loss: 0.823252, Valid Acc: 0.653061, Valid F1: 0.582293\n"
     ]
    },
    {
     "name": "stderr",
     "output_type": "stream",
     "text": [
      "                                                                                           \r"
     ]
    },
    {
     "name": "stdout",
     "output_type": "stream",
     "text": [
      "Epoch 194: Train Loss: 0.006466, Train Acc: 1.000000, Train F1: 1.000000, Valid Loss: 0.768513, Valid Acc: 0.673469, Valid F1: 0.589246\n"
     ]
    },
    {
     "name": "stderr",
     "output_type": "stream",
     "text": [
      "                                                                                           \r"
     ]
    },
    {
     "name": "stdout",
     "output_type": "stream",
     "text": [
      "Epoch 195: Train Loss: 0.003375, Train Acc: 1.000000, Train F1: 1.000000, Valid Loss: 0.845657, Valid Acc: 0.680272, Valid F1: 0.582836\n"
     ]
    },
    {
     "name": "stderr",
     "output_type": "stream",
     "text": [
      "                                                                                           \r"
     ]
    },
    {
     "name": "stdout",
     "output_type": "stream",
     "text": [
      "Epoch 196: Train Loss: 0.003788, Train Acc: 1.000000, Train F1: 1.000000, Valid Loss: 0.719666, Valid Acc: 0.673469, Valid F1: 0.598069\n"
     ]
    },
    {
     "name": "stderr",
     "output_type": "stream",
     "text": [
      "                                                                                           \r"
     ]
    },
    {
     "name": "stdout",
     "output_type": "stream",
     "text": [
      "Epoch 197: Train Loss: 0.003399, Train Acc: 1.000000, Train F1: 1.000000, Valid Loss: 0.719644, Valid Acc: 0.659864, Valid F1: 0.579375\n"
     ]
    },
    {
     "name": "stderr",
     "output_type": "stream",
     "text": [
      "                                                                                           \r"
     ]
    },
    {
     "name": "stdout",
     "output_type": "stream",
     "text": [
      "Epoch 198: Train Loss: 0.002914, Train Acc: 1.000000, Train F1: 1.000000, Valid Loss: 0.792191, Valid Acc: 0.693878, Valid F1: 0.600008\n"
     ]
    },
    {
     "name": "stderr",
     "output_type": "stream",
     "text": [
      "                                                                                           \r"
     ]
    },
    {
     "name": "stdout",
     "output_type": "stream",
     "text": [
      "Epoch 199: Train Loss: 0.002480, Train Acc: 1.000000, Train F1: 1.000000, Valid Loss: 1.048679, Valid Acc: 0.680272, Valid F1: 0.589019\n"
     ]
    },
    {
     "name": "stderr",
     "output_type": "stream",
     "text": [
      "                                                                                           \r"
     ]
    },
    {
     "name": "stdout",
     "output_type": "stream",
     "text": [
      "Epoch 200: Train Loss: 0.002597, Train Acc: 1.000000, Train F1: 1.000000, Valid Loss: 0.825871, Valid Acc: 0.673469, Valid F1: 0.605375\n"
     ]
    },
    {
     "name": "stderr",
     "output_type": "stream",
     "text": [
      "                                                                                         \r"
     ]
    },
    {
     "name": "stdout",
     "output_type": "stream",
     "text": [
      "Epoch 1: Train Loss: 0.676843, Train Acc: 0.600340, Train F1: 0.506613, Valid Loss: 0.665523, Valid Acc: 0.612245, Valid F1: 0.423189\n"
     ]
    },
    {
     "name": "stderr",
     "output_type": "stream",
     "text": [
      "                                                                                         \r"
     ]
    },
    {
     "name": "stdout",
     "output_type": "stream",
     "text": [
      "Epoch 2: Train Loss: 0.475805, Train Acc: 0.904762, Train F1: 0.869123, Valid Loss: 0.684360, Valid Acc: 0.673469, Valid F1: 0.558466\n"
     ]
    },
    {
     "name": "stderr",
     "output_type": "stream",
     "text": [
      "                                                                                         \r"
     ]
    },
    {
     "name": "stdout",
     "output_type": "stream",
     "text": [
      "Epoch 3: Train Loss: 0.348979, Train Acc: 0.947279, Train F1: 0.926191, Valid Loss: 0.673159, Valid Acc: 0.673469, Valid F1: 0.555958\n"
     ]
    },
    {
     "name": "stderr",
     "output_type": "stream",
     "text": [
      "                                                                                         \r"
     ]
    },
    {
     "name": "stdout",
     "output_type": "stream",
     "text": [
      "Epoch 4: Train Loss: 0.249074, Train Acc: 0.976190, Train F1: 0.967069, Valid Loss: 0.679413, Valid Acc: 0.673469, Valid F1: 0.547351\n"
     ]
    },
    {
     "name": "stderr",
     "output_type": "stream",
     "text": [
      "                                                                                         \r"
     ]
    },
    {
     "name": "stdout",
     "output_type": "stream",
     "text": [
      "Epoch 5: Train Loss: 0.191415, Train Acc: 0.986395, Train F1: 0.981419, Valid Loss: 0.677637, Valid Acc: 0.693878, Valid F1: 0.552643\n"
     ]
    },
    {
     "name": "stderr",
     "output_type": "stream",
     "text": [
      "                                                                                         \r"
     ]
    },
    {
     "name": "stdout",
     "output_type": "stream",
     "text": [
      "Epoch 6: Train Loss: 0.128820, Train Acc: 0.994898, Train F1: 0.994705, Valid Loss: 0.760449, Valid Acc: 0.693878, Valid F1: 0.567053\n"
     ]
    },
    {
     "name": "stderr",
     "output_type": "stream",
     "text": [
      "                                                                                         \r"
     ]
    },
    {
     "name": "stdout",
     "output_type": "stream",
     "text": [
      "Epoch 7: Train Loss: 0.104398, Train Acc: 0.998299, Train F1: 0.998464, Valid Loss: 0.781639, Valid Acc: 0.687075, Valid F1: 0.563539\n"
     ]
    },
    {
     "name": "stderr",
     "output_type": "stream",
     "text": [
      "                                                                                         \r"
     ]
    },
    {
     "name": "stdout",
     "output_type": "stream",
     "text": [
      "Epoch 8: Train Loss: 0.110791, Train Acc: 0.993197, Train F1: 0.993596, Valid Loss: 0.811993, Valid Acc: 0.693878, Valid F1: 0.561094\n"
     ]
    },
    {
     "name": "stderr",
     "output_type": "stream",
     "text": [
      "                                                                                         \r"
     ]
    },
    {
     "name": "stdout",
     "output_type": "stream",
     "text": [
      "Epoch 9: Train Loss: 0.085223, Train Acc: 0.998299, Train F1: 0.997802, Valid Loss: 0.840180, Valid Acc: 0.666667, Valid F1: 0.506705\n"
     ]
    },
    {
     "name": "stderr",
     "output_type": "stream",
     "text": [
      "                                                                                         \r"
     ]
    },
    {
     "name": "stdout",
     "output_type": "stream",
     "text": [
      "Epoch 10: Train Loss: 0.064829, Train Acc: 0.998299, Train F1: 0.997802, Valid Loss: 0.914083, Valid Acc: 0.639456, Valid F1: 0.486065\n"
     ]
    },
    {
     "name": "stderr",
     "output_type": "stream",
     "text": [
      "                                                                                          \r"
     ]
    },
    {
     "name": "stdout",
     "output_type": "stream",
     "text": [
      "Epoch 11: Train Loss: 0.061427, Train Acc: 0.998299, Train F1: 0.997802, Valid Loss: 1.021025, Valid Acc: 0.673469, Valid F1: 0.533075\n"
     ]
    },
    {
     "name": "stderr",
     "output_type": "stream",
     "text": [
      "                                                                                          \r"
     ]
    },
    {
     "name": "stdout",
     "output_type": "stream",
     "text": [
      "Epoch 12: Train Loss: 0.053085, Train Acc: 0.998299, Train F1: 0.998779, Valid Loss: 0.882681, Valid Acc: 0.659864, Valid F1: 0.529954\n"
     ]
    },
    {
     "name": "stderr",
     "output_type": "stream",
     "text": [
      "                                                                                          \r"
     ]
    },
    {
     "name": "stdout",
     "output_type": "stream",
     "text": [
      "Epoch 13: Train Loss: 0.061819, Train Acc: 0.994898, Train F1: 0.990424, Valid Loss: 0.798943, Valid Acc: 0.666667, Valid F1: 0.539714\n"
     ]
    },
    {
     "name": "stderr",
     "output_type": "stream",
     "text": [
      "                                                                                          \r"
     ]
    },
    {
     "name": "stdout",
     "output_type": "stream",
     "text": [
      "Epoch 14: Train Loss: 0.102524, Train Acc: 0.993197, Train F1: 0.993313, Valid Loss: 0.815852, Valid Acc: 0.639456, Valid F1: 0.563593\n"
     ]
    },
    {
     "name": "stderr",
     "output_type": "stream",
     "text": [
      "                                                                                          \r"
     ]
    },
    {
     "name": "stdout",
     "output_type": "stream",
     "text": [
      "Epoch 15: Train Loss: 0.069417, Train Acc: 0.989796, Train F1: 0.990329, Valid Loss: 0.800077, Valid Acc: 0.639456, Valid F1: 0.536080\n"
     ]
    },
    {
     "name": "stderr",
     "output_type": "stream",
     "text": [
      "                                                                                          \r"
     ]
    },
    {
     "name": "stdout",
     "output_type": "stream",
     "text": [
      "Epoch 16: Train Loss: 0.057969, Train Acc: 0.994898, Train F1: 0.993263, Valid Loss: 0.792509, Valid Acc: 0.646259, Valid F1: 0.516041\n"
     ]
    },
    {
     "name": "stderr",
     "output_type": "stream",
     "text": [
      "                                                                                          \r"
     ]
    },
    {
     "name": "stdout",
     "output_type": "stream",
     "text": [
      "Epoch 17: Train Loss: 0.052422, Train Acc: 1.000000, Train F1: 1.000000, Valid Loss: 0.798158, Valid Acc: 0.673469, Valid F1: 0.547990\n"
     ]
    },
    {
     "name": "stderr",
     "output_type": "stream",
     "text": [
      "                                                                                          \r"
     ]
    },
    {
     "name": "stdout",
     "output_type": "stream",
     "text": [
      "Epoch 18: Train Loss: 0.045123, Train Acc: 1.000000, Train F1: 1.000000, Valid Loss: 0.756933, Valid Acc: 0.653061, Valid F1: 0.516146\n"
     ]
    },
    {
     "name": "stderr",
     "output_type": "stream",
     "text": [
      "                                                                                          \r"
     ]
    },
    {
     "name": "stdout",
     "output_type": "stream",
     "text": [
      "Epoch 19: Train Loss: 0.047168, Train Acc: 0.996599, Train F1: 0.997579, Valid Loss: 0.763681, Valid Acc: 0.666667, Valid F1: 0.538269\n"
     ]
    },
    {
     "name": "stderr",
     "output_type": "stream",
     "text": [
      "                                                                                          \r"
     ]
    },
    {
     "name": "stdout",
     "output_type": "stream",
     "text": [
      "Epoch 20: Train Loss: 0.053893, Train Acc: 0.993197, Train F1: 0.985792, Valid Loss: 0.707912, Valid Acc: 0.673469, Valid F1: 0.513668\n"
     ]
    },
    {
     "name": "stderr",
     "output_type": "stream",
     "text": [
      "                                                                                          \r"
     ]
    },
    {
     "name": "stdout",
     "output_type": "stream",
     "text": [
      "Epoch 21: Train Loss: 0.049917, Train Acc: 0.993197, Train F1: 0.993201, Valid Loss: 0.657372, Valid Acc: 0.673469, Valid F1: 0.490584\n"
     ]
    },
    {
     "name": "stderr",
     "output_type": "stream",
     "text": [
      "                                                                                          \r"
     ]
    },
    {
     "name": "stdout",
     "output_type": "stream",
     "text": [
      "Epoch 22: Train Loss: 0.048310, Train Acc: 0.994898, Train F1: 0.993263, Valid Loss: 0.828647, Valid Acc: 0.653061, Valid F1: 0.489116\n"
     ]
    },
    {
     "name": "stderr",
     "output_type": "stream",
     "text": [
      "                                                                                          \r"
     ]
    },
    {
     "name": "stdout",
     "output_type": "stream",
     "text": [
      "Epoch 23: Train Loss: 0.043339, Train Acc: 0.996599, Train F1: 0.994415, Valid Loss: 0.808444, Valid Acc: 0.653061, Valid F1: 0.526795\n"
     ]
    },
    {
     "name": "stderr",
     "output_type": "stream",
     "text": [
      "                                                                                          \r"
     ]
    },
    {
     "name": "stdout",
     "output_type": "stream",
     "text": [
      "Epoch 24: Train Loss: 0.073587, Train Acc: 0.994898, Train F1: 0.996399, Valid Loss: 0.833260, Valid Acc: 0.646259, Valid F1: 0.512782\n"
     ]
    },
    {
     "name": "stderr",
     "output_type": "stream",
     "text": [
      "                                                                                          \r"
     ]
    },
    {
     "name": "stdout",
     "output_type": "stream",
     "text": [
      "Epoch 25: Train Loss: 0.086232, Train Acc: 0.988095, Train F1: 0.984747, Valid Loss: 0.796396, Valid Acc: 0.646259, Valid F1: 0.493357\n"
     ]
    },
    {
     "name": "stderr",
     "output_type": "stream",
     "text": [
      "                                                                                          \r"
     ]
    },
    {
     "name": "stdout",
     "output_type": "stream",
     "text": [
      "Epoch 26: Train Loss: 0.052568, Train Acc: 0.994898, Train F1: 0.994199, Valid Loss: 0.593527, Valid Acc: 0.700680, Valid F1: 0.648384\n"
     ]
    },
    {
     "name": "stderr",
     "output_type": "stream",
     "text": [
      "                                                                                          \r"
     ]
    },
    {
     "name": "stdout",
     "output_type": "stream",
     "text": [
      "Epoch 27: Train Loss: 0.041039, Train Acc: 1.000000, Train F1: 1.000000, Valid Loss: 0.635087, Valid Acc: 0.721088, Valid F1: 0.692384\n"
     ]
    },
    {
     "name": "stderr",
     "output_type": "stream",
     "text": [
      "                                                                                          \r"
     ]
    },
    {
     "name": "stdout",
     "output_type": "stream",
     "text": [
      "Epoch 28: Train Loss: 0.060017, Train Acc: 0.989796, Train F1: 0.988871, Valid Loss: 0.620055, Valid Acc: 0.707483, Valid F1: 0.660947\n"
     ]
    },
    {
     "name": "stderr",
     "output_type": "stream",
     "text": [
      "                                                                                          \r"
     ]
    },
    {
     "name": "stdout",
     "output_type": "stream",
     "text": [
      "Epoch 29: Train Loss: 0.042909, Train Acc: 0.998299, Train F1: 0.998145, Valid Loss: 0.639723, Valid Acc: 0.727891, Valid F1: 0.680395\n"
     ]
    },
    {
     "name": "stderr",
     "output_type": "stream",
     "text": [
      "                                                                                          \r"
     ]
    },
    {
     "name": "stdout",
     "output_type": "stream",
     "text": [
      "Epoch 30: Train Loss: 0.071325, Train Acc: 0.989796, Train F1: 0.987020, Valid Loss: 0.686461, Valid Acc: 0.666667, Valid F1: 0.604745\n"
     ]
    },
    {
     "name": "stderr",
     "output_type": "stream",
     "text": [
      "                                                                                          \r"
     ]
    },
    {
     "name": "stdout",
     "output_type": "stream",
     "text": [
      "Epoch 31: Train Loss: 0.035207, Train Acc: 0.998299, Train F1: 0.998496, Valid Loss: 0.711196, Valid Acc: 0.687075, Valid F1: 0.645161\n"
     ]
    },
    {
     "name": "stderr",
     "output_type": "stream",
     "text": [
      "                                                                                          \r"
     ]
    },
    {
     "name": "stdout",
     "output_type": "stream",
     "text": [
      "Epoch 32: Train Loss: 0.043392, Train Acc: 0.993197, Train F1: 0.991828, Valid Loss: 0.753110, Valid Acc: 0.680272, Valid F1: 0.577318\n"
     ]
    },
    {
     "name": "stderr",
     "output_type": "stream",
     "text": [
      "                                                                                          \r"
     ]
    },
    {
     "name": "stdout",
     "output_type": "stream",
     "text": [
      "Epoch 33: Train Loss: 0.026572, Train Acc: 1.000000, Train F1: 1.000000, Valid Loss: 0.666149, Valid Acc: 0.714286, Valid F1: 0.647805\n"
     ]
    },
    {
     "name": "stderr",
     "output_type": "stream",
     "text": [
      "                                                                                          \r"
     ]
    },
    {
     "name": "stdout",
     "output_type": "stream",
     "text": [
      "Epoch 34: Train Loss: 0.027861, Train Acc: 1.000000, Train F1: 1.000000, Valid Loss: 0.737411, Valid Acc: 0.687075, Valid F1: 0.613887\n"
     ]
    },
    {
     "name": "stderr",
     "output_type": "stream",
     "text": [
      "                                                                                          \r"
     ]
    },
    {
     "name": "stdout",
     "output_type": "stream",
     "text": [
      "Epoch 35: Train Loss: 0.035896, Train Acc: 0.996599, Train F1: 0.996241, Valid Loss: 0.677787, Valid Acc: 0.693878, Valid F1: 0.606115\n"
     ]
    },
    {
     "name": "stderr",
     "output_type": "stream",
     "text": [
      "                                                                                          \r"
     ]
    },
    {
     "name": "stdout",
     "output_type": "stream",
     "text": [
      "Epoch 36: Train Loss: 0.034613, Train Acc: 0.996599, Train F1: 0.995547, Valid Loss: 0.858673, Valid Acc: 0.673469, Valid F1: 0.615596\n"
     ]
    },
    {
     "name": "stderr",
     "output_type": "stream",
     "text": [
      "                                                                                          \r"
     ]
    },
    {
     "name": "stdout",
     "output_type": "stream",
     "text": [
      "Epoch 37: Train Loss: 0.030575, Train Acc: 0.998299, Train F1: 0.998145, Valid Loss: 0.682141, Valid Acc: 0.659864, Valid F1: 0.582432\n"
     ]
    },
    {
     "name": "stderr",
     "output_type": "stream",
     "text": [
      "                                                                                          \r"
     ]
    },
    {
     "name": "stdout",
     "output_type": "stream",
     "text": [
      "Epoch 38: Train Loss: 0.029620, Train Acc: 0.998299, Train F1: 0.998758, Valid Loss: 0.823939, Valid Acc: 0.666667, Valid F1: 0.605080\n"
     ]
    },
    {
     "name": "stderr",
     "output_type": "stream",
     "text": [
      "                                                                                          \r"
     ]
    },
    {
     "name": "stdout",
     "output_type": "stream",
     "text": [
      "Epoch 39: Train Loss: 0.016224, Train Acc: 1.000000, Train F1: 1.000000, Valid Loss: 0.676693, Valid Acc: 0.653061, Valid F1: 0.581190\n"
     ]
    },
    {
     "name": "stderr",
     "output_type": "stream",
     "text": [
      "                                                                                          \r"
     ]
    },
    {
     "name": "stdout",
     "output_type": "stream",
     "text": [
      "Epoch 40: Train Loss: 0.048734, Train Acc: 0.994898, Train F1: 0.995215, Valid Loss: 0.827017, Valid Acc: 0.666667, Valid F1: 0.609315\n"
     ]
    },
    {
     "name": "stderr",
     "output_type": "stream",
     "text": [
      "                                                                                          \r"
     ]
    },
    {
     "name": "stdout",
     "output_type": "stream",
     "text": [
      "Epoch 41: Train Loss: 0.046964, Train Acc: 0.996599, Train F1: 0.995768, Valid Loss: 0.756184, Valid Acc: 0.646259, Valid F1: 0.580665\n"
     ]
    },
    {
     "name": "stderr",
     "output_type": "stream",
     "text": [
      "                                                                                          \r"
     ]
    },
    {
     "name": "stdout",
     "output_type": "stream",
     "text": [
      "Epoch 42: Train Loss: 0.026994, Train Acc: 0.998299, Train F1: 0.998779, Valid Loss: 0.711006, Valid Acc: 0.700680, Valid F1: 0.641202\n"
     ]
    },
    {
     "name": "stderr",
     "output_type": "stream",
     "text": [
      "                                                                                          \r"
     ]
    },
    {
     "name": "stdout",
     "output_type": "stream",
     "text": [
      "Epoch 43: Train Loss: 0.031031, Train Acc: 0.998299, Train F1: 0.998779, Valid Loss: 0.664124, Valid Acc: 0.700680, Valid F1: 0.649189\n"
     ]
    },
    {
     "name": "stderr",
     "output_type": "stream",
     "text": [
      "                                                                                          \r"
     ]
    },
    {
     "name": "stdout",
     "output_type": "stream",
     "text": [
      "Epoch 44: Train Loss: 0.045050, Train Acc: 0.994898, Train F1: 0.995957, Valid Loss: 0.599022, Valid Acc: 0.673469, Valid F1: 0.598529\n"
     ]
    },
    {
     "name": "stderr",
     "output_type": "stream",
     "text": [
      "                                                                                          \r"
     ]
    },
    {
     "name": "stdout",
     "output_type": "stream",
     "text": [
      "Epoch 45: Train Loss: 0.031430, Train Acc: 0.998299, Train F1: 0.997403, Valid Loss: 0.873398, Valid Acc: 0.680272, Valid F1: 0.620166\n"
     ]
    },
    {
     "name": "stderr",
     "output_type": "stream",
     "text": [
      "                                                                                          \r"
     ]
    },
    {
     "name": "stdout",
     "output_type": "stream",
     "text": [
      "Epoch 46: Train Loss: 0.051633, Train Acc: 0.991497, Train F1: 0.992941, Valid Loss: 0.788904, Valid Acc: 0.673469, Valid F1: 0.587164\n"
     ]
    },
    {
     "name": "stderr",
     "output_type": "stream",
     "text": [
      "                                                                                          \r"
     ]
    },
    {
     "name": "stdout",
     "output_type": "stream",
     "text": [
      "Epoch 47: Train Loss: 0.039234, Train Acc: 0.996599, Train F1: 0.995496, Valid Loss: 0.664256, Valid Acc: 0.673469, Valid F1: 0.584057\n"
     ]
    },
    {
     "name": "stderr",
     "output_type": "stream",
     "text": [
      "                                                                                          \r"
     ]
    },
    {
     "name": "stdout",
     "output_type": "stream",
     "text": [
      "Epoch 48: Train Loss: 0.035229, Train Acc: 0.996599, Train F1: 0.996647, Valid Loss: 0.674580, Valid Acc: 0.659864, Valid F1: 0.572219\n"
     ]
    },
    {
     "name": "stderr",
     "output_type": "stream",
     "text": [
      "                                                                                          \r"
     ]
    },
    {
     "name": "stdout",
     "output_type": "stream",
     "text": [
      "Epoch 49: Train Loss: 0.055594, Train Acc: 0.991497, Train F1: 0.988300, Valid Loss: 0.668379, Valid Acc: 0.646259, Valid F1: 0.564070\n"
     ]
    },
    {
     "name": "stderr",
     "output_type": "stream",
     "text": [
      "                                                                                          \r"
     ]
    },
    {
     "name": "stdout",
     "output_type": "stream",
     "text": [
      "Epoch 50: Train Loss: 0.026118, Train Acc: 0.998299, Train F1: 0.998736, Valid Loss: 0.702518, Valid Acc: 0.625850, Valid F1: 0.558578\n"
     ]
    },
    {
     "name": "stderr",
     "output_type": "stream",
     "text": [
      "                                                                                          \r"
     ]
    },
    {
     "name": "stdout",
     "output_type": "stream",
     "text": [
      "Epoch 51: Train Loss: 0.023623, Train Acc: 0.998299, Train F1: 0.998758, Valid Loss: 0.730820, Valid Acc: 0.612245, Valid F1: 0.524737\n"
     ]
    },
    {
     "name": "stderr",
     "output_type": "stream",
     "text": [
      "                                                                                          \r"
     ]
    },
    {
     "name": "stdout",
     "output_type": "stream",
     "text": [
      "Epoch 52: Train Loss: 0.029724, Train Acc: 1.000000, Train F1: 1.000000, Valid Loss: 0.705714, Valid Acc: 0.659864, Valid F1: 0.545137\n"
     ]
    },
    {
     "name": "stderr",
     "output_type": "stream",
     "text": [
      "                                                                                          \r"
     ]
    },
    {
     "name": "stdout",
     "output_type": "stream",
     "text": [
      "Epoch 53: Train Loss: 0.025305, Train Acc: 0.998299, Train F1: 0.998736, Valid Loss: 0.650230, Valid Acc: 0.639456, Valid F1: 0.558712\n"
     ]
    },
    {
     "name": "stderr",
     "output_type": "stream",
     "text": [
      "                                                                                          \r"
     ]
    },
    {
     "name": "stdout",
     "output_type": "stream",
     "text": [
      "Epoch 54: Train Loss: 0.034141, Train Acc: 0.994898, Train F1: 0.993019, Valid Loss: 0.750566, Valid Acc: 0.632653, Valid F1: 0.515378\n"
     ]
    },
    {
     "name": "stderr",
     "output_type": "stream",
     "text": [
      "                                                                                          \r"
     ]
    },
    {
     "name": "stdout",
     "output_type": "stream",
     "text": [
      "Epoch 55: Train Loss: 0.036030, Train Acc: 0.994898, Train F1: 0.995377, Valid Loss: 0.731445, Valid Acc: 0.632653, Valid F1: 0.520884\n"
     ]
    },
    {
     "name": "stderr",
     "output_type": "stream",
     "text": [
      "                                                                                          \r"
     ]
    },
    {
     "name": "stdout",
     "output_type": "stream",
     "text": [
      "Epoch 56: Train Loss: 0.026459, Train Acc: 0.994898, Train F1: 0.995729, Valid Loss: 0.680676, Valid Acc: 0.673469, Valid F1: 0.515514\n"
     ]
    },
    {
     "name": "stderr",
     "output_type": "stream",
     "text": [
      "                                                                                          \r"
     ]
    },
    {
     "name": "stdout",
     "output_type": "stream",
     "text": [
      "Epoch 57: Train Loss: 0.047638, Train Acc: 0.996599, Train F1: 0.996609, Valid Loss: 0.664113, Valid Acc: 0.673469, Valid F1: 0.512444\n"
     ]
    },
    {
     "name": "stderr",
     "output_type": "stream",
     "text": [
      "                                                                                          \r"
     ]
    },
    {
     "name": "stdout",
     "output_type": "stream",
     "text": [
      "Epoch 58: Train Loss: 0.035085, Train Acc: 0.994898, Train F1: 0.995366, Valid Loss: 0.840852, Valid Acc: 0.639456, Valid F1: 0.517593\n"
     ]
    },
    {
     "name": "stderr",
     "output_type": "stream",
     "text": [
      "                                                                                          \r"
     ]
    },
    {
     "name": "stdout",
     "output_type": "stream",
     "text": [
      "Epoch 59: Train Loss: 0.028260, Train Acc: 0.994898, Train F1: 0.994833, Valid Loss: 0.875762, Valid Acc: 0.673469, Valid F1: 0.543335\n"
     ]
    },
    {
     "name": "stderr",
     "output_type": "stream",
     "text": [
      "                                                                                          \r"
     ]
    },
    {
     "name": "stdout",
     "output_type": "stream",
     "text": [
      "Epoch 60: Train Loss: 0.040995, Train Acc: 0.994898, Train F1: 0.994678, Valid Loss: 0.945996, Valid Acc: 0.673469, Valid F1: 0.513665\n"
     ]
    },
    {
     "name": "stderr",
     "output_type": "stream",
     "text": [
      "                                                                                          \r"
     ]
    },
    {
     "name": "stdout",
     "output_type": "stream",
     "text": [
      "Epoch 61: Train Loss: 0.021006, Train Acc: 0.998299, Train F1: 0.998192, Valid Loss: 0.732232, Valid Acc: 0.646259, Valid F1: 0.503157\n"
     ]
    },
    {
     "name": "stderr",
     "output_type": "stream",
     "text": [
      "                                                                                          \r"
     ]
    },
    {
     "name": "stdout",
     "output_type": "stream",
     "text": [
      "Epoch 62: Train Loss: 0.023136, Train Acc: 0.998299, Train F1: 0.998192, Valid Loss: 0.684228, Valid Acc: 0.673469, Valid F1: 0.522768\n"
     ]
    },
    {
     "name": "stderr",
     "output_type": "stream",
     "text": [
      "                                                                                          \r"
     ]
    },
    {
     "name": "stdout",
     "output_type": "stream",
     "text": [
      "Epoch 63: Train Loss: 0.023980, Train Acc: 0.998299, Train F1: 0.998464, Valid Loss: 0.629715, Valid Acc: 0.687075, Valid F1: 0.529000\n"
     ]
    },
    {
     "name": "stderr",
     "output_type": "stream",
     "text": [
      "                                                                                          \r"
     ]
    },
    {
     "name": "stdout",
     "output_type": "stream",
     "text": [
      "Epoch 64: Train Loss: 0.024319, Train Acc: 0.998299, Train F1: 0.998496, Valid Loss: 0.660475, Valid Acc: 0.659864, Valid F1: 0.525314\n"
     ]
    },
    {
     "name": "stderr",
     "output_type": "stream",
     "text": [
      "                                                                                          \r"
     ]
    },
    {
     "name": "stdout",
     "output_type": "stream",
     "text": [
      "Epoch 65: Train Loss: 0.026717, Train Acc: 0.996599, Train F1: 0.995768, Valid Loss: 0.822094, Valid Acc: 0.673469, Valid F1: 0.531438\n"
     ]
    },
    {
     "name": "stderr",
     "output_type": "stream",
     "text": [
      "                                                                                          \r"
     ]
    },
    {
     "name": "stdout",
     "output_type": "stream",
     "text": [
      "Epoch 66: Train Loss: 0.036794, Train Acc: 0.996599, Train F1: 0.995947, Valid Loss: 0.855450, Valid Acc: 0.666667, Valid F1: 0.526531\n"
     ]
    },
    {
     "name": "stderr",
     "output_type": "stream",
     "text": [
      "                                                                                          \r"
     ]
    },
    {
     "name": "stdout",
     "output_type": "stream",
     "text": [
      "Epoch 67: Train Loss: 0.019768, Train Acc: 0.998299, Train F1: 0.998464, Valid Loss: 0.764672, Valid Acc: 0.619048, Valid F1: 0.505801\n"
     ]
    },
    {
     "name": "stderr",
     "output_type": "stream",
     "text": [
      "                                                                                          \r"
     ]
    },
    {
     "name": "stdout",
     "output_type": "stream",
     "text": [
      "Epoch 68: Train Loss: 0.016409, Train Acc: 1.000000, Train F1: 1.000000, Valid Loss: 0.820087, Valid Acc: 0.639456, Valid F1: 0.558399\n"
     ]
    },
    {
     "name": "stderr",
     "output_type": "stream",
     "text": [
      "                                                                                          \r"
     ]
    },
    {
     "name": "stdout",
     "output_type": "stream",
     "text": [
      "Epoch 69: Train Loss: 0.012552, Train Acc: 1.000000, Train F1: 1.000000, Valid Loss: 0.809079, Valid Acc: 0.605442, Valid F1: 0.535218\n"
     ]
    },
    {
     "name": "stderr",
     "output_type": "stream",
     "text": [
      "                                                                                          \r"
     ]
    },
    {
     "name": "stdout",
     "output_type": "stream",
     "text": [
      "Epoch 70: Train Loss: 0.026374, Train Acc: 0.996599, Train F1: 0.995801, Valid Loss: 0.782223, Valid Acc: 0.639456, Valid F1: 0.520024\n"
     ]
    },
    {
     "name": "stderr",
     "output_type": "stream",
     "text": [
      "                                                                                          \r"
     ]
    },
    {
     "name": "stdout",
     "output_type": "stream",
     "text": [
      "Epoch 71: Train Loss: 0.012380, Train Acc: 1.000000, Train F1: 1.000000, Valid Loss: 0.781596, Valid Acc: 0.646259, Valid F1: 0.526793\n"
     ]
    },
    {
     "name": "stderr",
     "output_type": "stream",
     "text": [
      "                                                                                          \r"
     ]
    },
    {
     "name": "stdout",
     "output_type": "stream",
     "text": [
      "Epoch 72: Train Loss: 0.023430, Train Acc: 0.998299, Train F1: 0.995918, Valid Loss: 0.951045, Valid Acc: 0.659864, Valid F1: 0.522780\n"
     ]
    },
    {
     "name": "stderr",
     "output_type": "stream",
     "text": [
      "                                                                                          \r"
     ]
    },
    {
     "name": "stdout",
     "output_type": "stream",
     "text": [
      "Epoch 73: Train Loss: 0.013307, Train Acc: 1.000000, Train F1: 1.000000, Valid Loss: 1.105555, Valid Acc: 0.646259, Valid F1: 0.509451\n"
     ]
    },
    {
     "name": "stderr",
     "output_type": "stream",
     "text": [
      "                                                                                          \r"
     ]
    },
    {
     "name": "stdout",
     "output_type": "stream",
     "text": [
      "Epoch 74: Train Loss: 0.009137, Train Acc: 1.000000, Train F1: 1.000000, Valid Loss: 0.750334, Valid Acc: 0.646259, Valid F1: 0.511547\n"
     ]
    },
    {
     "name": "stderr",
     "output_type": "stream",
     "text": [
      "                                                                                          \r"
     ]
    },
    {
     "name": "stdout",
     "output_type": "stream",
     "text": [
      "Epoch 75: Train Loss: 0.023112, Train Acc: 0.996599, Train F1: 0.997537, Valid Loss: 0.781456, Valid Acc: 0.625850, Valid F1: 0.497730\n"
     ]
    },
    {
     "name": "stderr",
     "output_type": "stream",
     "text": [
      "                                                                                          \r"
     ]
    },
    {
     "name": "stdout",
     "output_type": "stream",
     "text": [
      "Epoch 76: Train Loss: 0.013600, Train Acc: 1.000000, Train F1: 1.000000, Valid Loss: 0.910026, Valid Acc: 0.659864, Valid F1: 0.529660\n"
     ]
    },
    {
     "name": "stderr",
     "output_type": "stream",
     "text": [
      "                                                                                          \r"
     ]
    },
    {
     "name": "stdout",
     "output_type": "stream",
     "text": [
      "Epoch 77: Train Loss: 0.018961, Train Acc: 1.000000, Train F1: 1.000000, Valid Loss: 0.816041, Valid Acc: 0.666667, Valid F1: 0.507792\n"
     ]
    },
    {
     "name": "stderr",
     "output_type": "stream",
     "text": [
      "                                                                                          \r"
     ]
    },
    {
     "name": "stdout",
     "output_type": "stream",
     "text": [
      "Epoch 78: Train Loss: 0.009828, Train Acc: 1.000000, Train F1: 1.000000, Valid Loss: 0.686655, Valid Acc: 0.659864, Valid F1: 0.499725\n"
     ]
    },
    {
     "name": "stderr",
     "output_type": "stream",
     "text": [
      "                                                                                          \r"
     ]
    },
    {
     "name": "stdout",
     "output_type": "stream",
     "text": [
      "Epoch 79: Train Loss: 0.021708, Train Acc: 0.994898, Train F1: 0.992544, Valid Loss: 0.858817, Valid Acc: 0.659864, Valid F1: 0.532749\n"
     ]
    },
    {
     "name": "stderr",
     "output_type": "stream",
     "text": [
      "                                                                                          \r"
     ]
    },
    {
     "name": "stdout",
     "output_type": "stream",
     "text": [
      "Epoch 80: Train Loss: 0.026865, Train Acc: 0.994898, Train F1: 0.995803, Valid Loss: 1.014678, Valid Acc: 0.687075, Valid F1: 0.569198\n"
     ]
    },
    {
     "name": "stderr",
     "output_type": "stream",
     "text": [
      "                                                                                          \r"
     ]
    },
    {
     "name": "stdout",
     "output_type": "stream",
     "text": [
      "Epoch 81: Train Loss: 0.010396, Train Acc: 1.000000, Train F1: 1.000000, Valid Loss: 0.693762, Valid Acc: 0.659864, Valid F1: 0.520731\n"
     ]
    },
    {
     "name": "stderr",
     "output_type": "stream",
     "text": [
      "                                                                                          \r"
     ]
    },
    {
     "name": "stdout",
     "output_type": "stream",
     "text": [
      "Epoch 82: Train Loss: 0.017325, Train Acc: 1.000000, Train F1: 1.000000, Valid Loss: 0.699085, Valid Acc: 0.632653, Valid F1: 0.496833\n"
     ]
    },
    {
     "name": "stderr",
     "output_type": "stream",
     "text": [
      "                                                                                          \r"
     ]
    },
    {
     "name": "stdout",
     "output_type": "stream",
     "text": [
      "Epoch 83: Train Loss: 0.011796, Train Acc: 1.000000, Train F1: 1.000000, Valid Loss: 0.671821, Valid Acc: 0.632653, Valid F1: 0.498854\n"
     ]
    },
    {
     "name": "stderr",
     "output_type": "stream",
     "text": [
      "                                                                                          \r"
     ]
    },
    {
     "name": "stdout",
     "output_type": "stream",
     "text": [
      "Epoch 84: Train Loss: 0.010347, Train Acc: 1.000000, Train F1: 1.000000, Valid Loss: 0.696050, Valid Acc: 0.653061, Valid F1: 0.532229\n"
     ]
    },
    {
     "name": "stderr",
     "output_type": "stream",
     "text": [
      "                                                                                          \r"
     ]
    },
    {
     "name": "stdout",
     "output_type": "stream",
     "text": [
      "Epoch 85: Train Loss: 0.008070, Train Acc: 1.000000, Train F1: 1.000000, Valid Loss: 0.885817, Valid Acc: 0.673469, Valid F1: 0.547802\n"
     ]
    },
    {
     "name": "stderr",
     "output_type": "stream",
     "text": [
      "                                                                                          \r"
     ]
    },
    {
     "name": "stdout",
     "output_type": "stream",
     "text": [
      "Epoch 86: Train Loss: 0.013397, Train Acc: 1.000000, Train F1: 1.000000, Valid Loss: 0.676871, Valid Acc: 0.673469, Valid F1: 0.546881\n"
     ]
    },
    {
     "name": "stderr",
     "output_type": "stream",
     "text": [
      "                                                                                          \r"
     ]
    },
    {
     "name": "stdout",
     "output_type": "stream",
     "text": [
      "Epoch 87: Train Loss: 0.006221, Train Acc: 1.000000, Train F1: 1.000000, Valid Loss: 0.690804, Valid Acc: 0.659864, Valid F1: 0.534060\n"
     ]
    },
    {
     "name": "stderr",
     "output_type": "stream",
     "text": [
      "                                                                                          \r"
     ]
    },
    {
     "name": "stdout",
     "output_type": "stream",
     "text": [
      "Epoch 88: Train Loss: 0.008807, Train Acc: 1.000000, Train F1: 1.000000, Valid Loss: 0.721052, Valid Acc: 0.680272, Valid F1: 0.553014\n"
     ]
    },
    {
     "name": "stderr",
     "output_type": "stream",
     "text": [
      "                                                                                          \r"
     ]
    },
    {
     "name": "stdout",
     "output_type": "stream",
     "text": [
      "Epoch 89: Train Loss: 0.008931, Train Acc: 1.000000, Train F1: 1.000000, Valid Loss: 0.726858, Valid Acc: 0.673469, Valid F1: 0.545232\n"
     ]
    },
    {
     "name": "stderr",
     "output_type": "stream",
     "text": [
      "                                                                                          \r"
     ]
    },
    {
     "name": "stdout",
     "output_type": "stream",
     "text": [
      "Epoch 90: Train Loss: 0.005639, Train Acc: 1.000000, Train F1: 1.000000, Valid Loss: 0.788456, Valid Acc: 0.653061, Valid F1: 0.524223\n"
     ]
    },
    {
     "name": "stderr",
     "output_type": "stream",
     "text": [
      "                                                                                          \r"
     ]
    },
    {
     "name": "stdout",
     "output_type": "stream",
     "text": [
      "Epoch 91: Train Loss: 0.006146, Train Acc: 1.000000, Train F1: 1.000000, Valid Loss: 0.654533, Valid Acc: 0.666667, Valid F1: 0.527847\n"
     ]
    },
    {
     "name": "stderr",
     "output_type": "stream",
     "text": [
      "                                                                                          \r"
     ]
    },
    {
     "name": "stdout",
     "output_type": "stream",
     "text": [
      "Epoch 92: Train Loss: 0.005772, Train Acc: 1.000000, Train F1: 1.000000, Valid Loss: 0.713877, Valid Acc: 0.666667, Valid F1: 0.532083\n"
     ]
    },
    {
     "name": "stderr",
     "output_type": "stream",
     "text": [
      "                                                                                          \r"
     ]
    },
    {
     "name": "stdout",
     "output_type": "stream",
     "text": [
      "Epoch 93: Train Loss: 0.021324, Train Acc: 0.998299, Train F1: 0.998464, Valid Loss: 0.690297, Valid Acc: 0.659864, Valid F1: 0.527572\n"
     ]
    },
    {
     "name": "stderr",
     "output_type": "stream",
     "text": [
      "                                                                                          \r"
     ]
    },
    {
     "name": "stdout",
     "output_type": "stream",
     "text": [
      "Epoch 94: Train Loss: 0.017868, Train Acc: 0.998299, Train F1: 0.995918, Valid Loss: 0.684529, Valid Acc: 0.680272, Valid F1: 0.558542\n"
     ]
    },
    {
     "name": "stderr",
     "output_type": "stream",
     "text": [
      "                                                                                          \r"
     ]
    },
    {
     "name": "stdout",
     "output_type": "stream",
     "text": [
      "Epoch 95: Train Loss: 0.005926, Train Acc: 1.000000, Train F1: 1.000000, Valid Loss: 0.741334, Valid Acc: 0.680272, Valid F1: 0.611906\n"
     ]
    },
    {
     "name": "stderr",
     "output_type": "stream",
     "text": [
      "                                                                                          \r"
     ]
    },
    {
     "name": "stdout",
     "output_type": "stream",
     "text": [
      "Epoch 96: Train Loss: 0.025340, Train Acc: 0.998299, Train F1: 0.998192, Valid Loss: 0.783004, Valid Acc: 0.687075, Valid F1: 0.616458\n"
     ]
    },
    {
     "name": "stderr",
     "output_type": "stream",
     "text": [
      "                                                                                          \r"
     ]
    },
    {
     "name": "stdout",
     "output_type": "stream",
     "text": [
      "Epoch 97: Train Loss: 0.012022, Train Acc: 1.000000, Train F1: 1.000000, Valid Loss: 0.707705, Valid Acc: 0.680272, Valid F1: 0.628374\n"
     ]
    },
    {
     "name": "stderr",
     "output_type": "stream",
     "text": [
      "                                                                                          \r"
     ]
    },
    {
     "name": "stdout",
     "output_type": "stream",
     "text": [
      "Epoch 98: Train Loss: 0.030970, Train Acc: 0.996599, Train F1: 0.996298, Valid Loss: 0.708904, Valid Acc: 0.707483, Valid F1: 0.663932\n"
     ]
    },
    {
     "name": "stderr",
     "output_type": "stream",
     "text": [
      "                                                                                          \r"
     ]
    },
    {
     "name": "stdout",
     "output_type": "stream",
     "text": [
      "Epoch 99: Train Loss: 0.011743, Train Acc: 1.000000, Train F1: 1.000000, Valid Loss: 0.887097, Valid Acc: 0.687075, Valid F1: 0.590798\n"
     ]
    },
    {
     "name": "stderr",
     "output_type": "stream",
     "text": [
      "                                                                                          \r"
     ]
    },
    {
     "name": "stdout",
     "output_type": "stream",
     "text": [
      "Epoch 100: Train Loss: 0.010641, Train Acc: 1.000000, Train F1: 1.000000, Valid Loss: 0.891554, Valid Acc: 0.625850, Valid F1: 0.527476\n"
     ]
    },
    {
     "name": "stderr",
     "output_type": "stream",
     "text": [
      "                                                                                           \r"
     ]
    },
    {
     "name": "stdout",
     "output_type": "stream",
     "text": [
      "Epoch 101: Train Loss: 0.026213, Train Acc: 0.998299, Train F1: 0.998758, Valid Loss: 0.751976, Valid Acc: 0.653061, Valid F1: 0.539236\n"
     ]
    },
    {
     "name": "stderr",
     "output_type": "stream",
     "text": [
      "                                                                                           \r"
     ]
    },
    {
     "name": "stdout",
     "output_type": "stream",
     "text": [
      "Epoch 102: Train Loss: 0.010627, Train Acc: 1.000000, Train F1: 1.000000, Valid Loss: 0.879850, Valid Acc: 0.612245, Valid F1: 0.445491\n"
     ]
    },
    {
     "name": "stderr",
     "output_type": "stream",
     "text": [
      "                                                                                           \r"
     ]
    },
    {
     "name": "stdout",
     "output_type": "stream",
     "text": [
      "Epoch 103: Train Loss: 0.039947, Train Acc: 0.994898, Train F1: 0.995251, Valid Loss: 0.725999, Valid Acc: 0.653061, Valid F1: 0.557646\n"
     ]
    },
    {
     "name": "stderr",
     "output_type": "stream",
     "text": [
      "                                                                                           \r"
     ]
    },
    {
     "name": "stdout",
     "output_type": "stream",
     "text": [
      "Epoch 104: Train Loss: 0.067369, Train Acc: 0.981293, Train F1: 0.981159, Valid Loss: 0.769766, Valid Acc: 0.646259, Valid F1: 0.565268\n"
     ]
    },
    {
     "name": "stderr",
     "output_type": "stream",
     "text": [
      "                                                                                           \r"
     ]
    },
    {
     "name": "stdout",
     "output_type": "stream",
     "text": [
      "Epoch 105: Train Loss: 0.042719, Train Acc: 0.989796, Train F1: 0.989989, Valid Loss: 0.689412, Valid Acc: 0.673469, Valid F1: 0.552946\n"
     ]
    },
    {
     "name": "stderr",
     "output_type": "stream",
     "text": [
      "                                                                                           \r"
     ]
    },
    {
     "name": "stdout",
     "output_type": "stream",
     "text": [
      "Epoch 106: Train Loss: 0.054538, Train Acc: 0.989796, Train F1: 0.987846, Valid Loss: 0.690611, Valid Acc: 0.673469, Valid F1: 0.594392\n"
     ]
    },
    {
     "name": "stderr",
     "output_type": "stream",
     "text": [
      "                                                                                           \r"
     ]
    },
    {
     "name": "stdout",
     "output_type": "stream",
     "text": [
      "Epoch 107: Train Loss: 0.183719, Train Acc: 0.979592, Train F1: 0.970364, Valid Loss: 1.169804, Valid Acc: 0.653061, Valid F1: 0.548766\n"
     ]
    },
    {
     "name": "stderr",
     "output_type": "stream",
     "text": [
      "                                                                                           \r"
     ]
    },
    {
     "name": "stdout",
     "output_type": "stream",
     "text": [
      "Epoch 108: Train Loss: 0.071267, Train Acc: 0.981293, Train F1: 0.975757, Valid Loss: 1.272945, Valid Acc: 0.625850, Valid F1: 0.521245\n"
     ]
    },
    {
     "name": "stderr",
     "output_type": "stream",
     "text": [
      "                                                                                           \r"
     ]
    },
    {
     "name": "stdout",
     "output_type": "stream",
     "text": [
      "Epoch 109: Train Loss: 0.118798, Train Acc: 0.988095, Train F1: 0.985021, Valid Loss: 0.831422, Valid Acc: 0.673469, Valid F1: 0.603686\n"
     ]
    },
    {
     "name": "stderr",
     "output_type": "stream",
     "text": [
      "                                                                                           \r"
     ]
    },
    {
     "name": "stdout",
     "output_type": "stream",
     "text": [
      "Epoch 110: Train Loss: 0.060839, Train Acc: 0.981293, Train F1: 0.976330, Valid Loss: 1.173951, Valid Acc: 0.544218, Valid F1: 0.546737\n"
     ]
    },
    {
     "name": "stderr",
     "output_type": "stream",
     "text": [
      "                                                                                           \r"
     ]
    },
    {
     "name": "stdout",
     "output_type": "stream",
     "text": [
      "Epoch 111: Train Loss: 0.082121, Train Acc: 0.977891, Train F1: 0.973056, Valid Loss: 0.842358, Valid Acc: 0.632653, Valid F1: 0.516255\n"
     ]
    },
    {
     "name": "stderr",
     "output_type": "stream",
     "text": [
      "                                                                                           \r"
     ]
    },
    {
     "name": "stdout",
     "output_type": "stream",
     "text": [
      "Epoch 112: Train Loss: 0.086791, Train Acc: 0.967687, Train F1: 0.961297, Valid Loss: 0.995337, Valid Acc: 0.619048, Valid F1: 0.439549\n"
     ]
    },
    {
     "name": "stderr",
     "output_type": "stream",
     "text": [
      "                                                                                           \r"
     ]
    },
    {
     "name": "stdout",
     "output_type": "stream",
     "text": [
      "Epoch 113: Train Loss: 0.073811, Train Acc: 0.984694, Train F1: 0.983541, Valid Loss: 0.825883, Valid Acc: 0.646259, Valid F1: 0.499928\n"
     ]
    },
    {
     "name": "stderr",
     "output_type": "stream",
     "text": [
      "                                                                                           \r"
     ]
    },
    {
     "name": "stdout",
     "output_type": "stream",
     "text": [
      "Epoch 114: Train Loss: 0.070054, Train Acc: 0.976190, Train F1: 0.970347, Valid Loss: 0.743163, Valid Acc: 0.612245, Valid F1: 0.483695\n"
     ]
    },
    {
     "name": "stderr",
     "output_type": "stream",
     "text": [
      "                                                                                           \r"
     ]
    },
    {
     "name": "stdout",
     "output_type": "stream",
     "text": [
      "Epoch 115: Train Loss: 0.032267, Train Acc: 0.994898, Train F1: 0.992100, Valid Loss: 0.789098, Valid Acc: 0.639456, Valid F1: 0.507563\n"
     ]
    },
    {
     "name": "stderr",
     "output_type": "stream",
     "text": [
      "                                                                                           \r"
     ]
    },
    {
     "name": "stdout",
     "output_type": "stream",
     "text": [
      "Epoch 116: Train Loss: 0.031763, Train Acc: 0.994898, Train F1: 0.991717, Valid Loss: 0.971308, Valid Acc: 0.646259, Valid F1: 0.562023\n"
     ]
    },
    {
     "name": "stderr",
     "output_type": "stream",
     "text": [
      "                                                                                           \r"
     ]
    },
    {
     "name": "stdout",
     "output_type": "stream",
     "text": [
      "Epoch 117: Train Loss: 0.027517, Train Acc: 0.996599, Train F1: 0.996062, Valid Loss: 1.168463, Valid Acc: 0.646259, Valid F1: 0.560668\n"
     ]
    },
    {
     "name": "stderr",
     "output_type": "stream",
     "text": [
      "                                                                                           \r"
     ]
    },
    {
     "name": "stdout",
     "output_type": "stream",
     "text": [
      "Epoch 118: Train Loss: 0.021751, Train Acc: 0.998299, Train F1: 0.998496, Valid Loss: 1.014042, Valid Acc: 0.632653, Valid F1: 0.555139\n"
     ]
    },
    {
     "name": "stderr",
     "output_type": "stream",
     "text": [
      "                                                                                           \r"
     ]
    },
    {
     "name": "stdout",
     "output_type": "stream",
     "text": [
      "Epoch 119: Train Loss: 0.015421, Train Acc: 1.000000, Train F1: 1.000000, Valid Loss: 0.791816, Valid Acc: 0.646259, Valid F1: 0.583501\n"
     ]
    },
    {
     "name": "stderr",
     "output_type": "stream",
     "text": [
      "                                                                                           \r"
     ]
    },
    {
     "name": "stdout",
     "output_type": "stream",
     "text": [
      "Epoch 120: Train Loss: 0.015863, Train Acc: 0.998299, Train F1: 0.998758, Valid Loss: 0.674570, Valid Acc: 0.653061, Valid F1: 0.591971\n"
     ]
    },
    {
     "name": "stderr",
     "output_type": "stream",
     "text": [
      "                                                                                           \r"
     ]
    },
    {
     "name": "stdout",
     "output_type": "stream",
     "text": [
      "Epoch 121: Train Loss: 0.011780, Train Acc: 1.000000, Train F1: 1.000000, Valid Loss: 0.696827, Valid Acc: 0.653061, Valid F1: 0.525513\n"
     ]
    },
    {
     "name": "stderr",
     "output_type": "stream",
     "text": [
      "                                                                                           \r"
     ]
    },
    {
     "name": "stdout",
     "output_type": "stream",
     "text": [
      "Epoch 122: Train Loss: 0.007086, Train Acc: 1.000000, Train F1: 1.000000, Valid Loss: 0.681183, Valid Acc: 0.659864, Valid F1: 0.584035\n"
     ]
    },
    {
     "name": "stderr",
     "output_type": "stream",
     "text": [
      "                                                                                           \r"
     ]
    },
    {
     "name": "stdout",
     "output_type": "stream",
     "text": [
      "Epoch 123: Train Loss: 0.006417, Train Acc: 1.000000, Train F1: 1.000000, Valid Loss: 0.762504, Valid Acc: 0.659864, Valid F1: 0.584035\n"
     ]
    },
    {
     "name": "stderr",
     "output_type": "stream",
     "text": [
      "                                                                                           \r"
     ]
    },
    {
     "name": "stdout",
     "output_type": "stream",
     "text": [
      "Epoch 124: Train Loss: 0.010451, Train Acc: 1.000000, Train F1: 1.000000, Valid Loss: 0.654327, Valid Acc: 0.673469, Valid F1: 0.611274\n"
     ]
    },
    {
     "name": "stderr",
     "output_type": "stream",
     "text": [
      "                                                                                           \r"
     ]
    },
    {
     "name": "stdout",
     "output_type": "stream",
     "text": [
      "Epoch 125: Train Loss: 0.010009, Train Acc: 1.000000, Train F1: 1.000000, Valid Loss: 0.700236, Valid Acc: 0.659864, Valid F1: 0.580514\n"
     ]
    },
    {
     "name": "stderr",
     "output_type": "stream",
     "text": [
      "                                                                                           \r"
     ]
    },
    {
     "name": "stdout",
     "output_type": "stream",
     "text": [
      "Epoch 126: Train Loss: 0.007569, Train Acc: 1.000000, Train F1: 1.000000, Valid Loss: 0.643864, Valid Acc: 0.653061, Valid F1: 0.560810\n"
     ]
    },
    {
     "name": "stderr",
     "output_type": "stream",
     "text": [
      "                                                                                           \r"
     ]
    },
    {
     "name": "stdout",
     "output_type": "stream",
     "text": [
      "Epoch 127: Train Loss: 0.005819, Train Acc: 1.000000, Train F1: 1.000000, Valid Loss: 0.733234, Valid Acc: 0.646259, Valid F1: 0.580281\n"
     ]
    },
    {
     "name": "stderr",
     "output_type": "stream",
     "text": [
      "                                                                                           \r"
     ]
    },
    {
     "name": "stdout",
     "output_type": "stream",
     "text": [
      "Epoch 128: Train Loss: 0.017910, Train Acc: 0.998299, Train F1: 0.998464, Valid Loss: 0.700305, Valid Acc: 0.632653, Valid F1: 0.560844\n"
     ]
    },
    {
     "name": "stderr",
     "output_type": "stream",
     "text": [
      "                                                                                           \r"
     ]
    },
    {
     "name": "stdout",
     "output_type": "stream",
     "text": [
      "Epoch 129: Train Loss: 0.013619, Train Acc: 0.998299, Train F1: 0.998779, Valid Loss: 0.681836, Valid Acc: 0.625850, Valid F1: 0.563180\n"
     ]
    },
    {
     "name": "stderr",
     "output_type": "stream",
     "text": [
      "                                                                                           \r"
     ]
    },
    {
     "name": "stdout",
     "output_type": "stream",
     "text": [
      "Epoch 130: Train Loss: 0.007037, Train Acc: 1.000000, Train F1: 1.000000, Valid Loss: 0.666539, Valid Acc: 0.639456, Valid F1: 0.566423\n"
     ]
    },
    {
     "name": "stderr",
     "output_type": "stream",
     "text": [
      "                                                                                           \r"
     ]
    },
    {
     "name": "stdout",
     "output_type": "stream",
     "text": [
      "Epoch 131: Train Loss: 0.017287, Train Acc: 0.993197, Train F1: 0.993818, Valid Loss: 0.643564, Valid Acc: 0.619048, Valid F1: 0.482173\n"
     ]
    },
    {
     "name": "stderr",
     "output_type": "stream",
     "text": [
      "                                                                                           \r"
     ]
    },
    {
     "name": "stdout",
     "output_type": "stream",
     "text": [
      "Epoch 132: Train Loss: 0.028056, Train Acc: 0.996599, Train F1: 0.997516, Valid Loss: 0.625531, Valid Acc: 0.653061, Valid F1: 0.573089\n"
     ]
    },
    {
     "name": "stderr",
     "output_type": "stream",
     "text": [
      "                                                                                           \r"
     ]
    },
    {
     "name": "stdout",
     "output_type": "stream",
     "text": [
      "Epoch 133: Train Loss: 0.013069, Train Acc: 1.000000, Train F1: 1.000000, Valid Loss: 0.619344, Valid Acc: 0.680272, Valid F1: 0.607434\n"
     ]
    },
    {
     "name": "stderr",
     "output_type": "stream",
     "text": [
      "                                                                                           \r"
     ]
    },
    {
     "name": "stdout",
     "output_type": "stream",
     "text": [
      "Epoch 134: Train Loss: 0.023670, Train Acc: 0.994898, Train F1: 0.994293, Valid Loss: 0.639776, Valid Acc: 0.666667, Valid F1: 0.604736\n"
     ]
    },
    {
     "name": "stderr",
     "output_type": "stream",
     "text": [
      "                                                                                           \r"
     ]
    },
    {
     "name": "stdout",
     "output_type": "stream",
     "text": [
      "Epoch 135: Train Loss: 0.007101, Train Acc: 1.000000, Train F1: 1.000000, Valid Loss: 0.670394, Valid Acc: 0.632653, Valid F1: 0.550626\n"
     ]
    },
    {
     "name": "stderr",
     "output_type": "stream",
     "text": [
      "                                                                                           \r"
     ]
    },
    {
     "name": "stdout",
     "output_type": "stream",
     "text": [
      "Epoch 136: Train Loss: 0.009583, Train Acc: 1.000000, Train F1: 1.000000, Valid Loss: 0.665963, Valid Acc: 0.619048, Valid F1: 0.489027\n"
     ]
    },
    {
     "name": "stderr",
     "output_type": "stream",
     "text": [
      "                                                                                           \r"
     ]
    },
    {
     "name": "stdout",
     "output_type": "stream",
     "text": [
      "Epoch 137: Train Loss: 0.006222, Train Acc: 1.000000, Train F1: 1.000000, Valid Loss: 0.683102, Valid Acc: 0.646259, Valid F1: 0.557067\n"
     ]
    },
    {
     "name": "stderr",
     "output_type": "stream",
     "text": [
      "                                                                                           \r"
     ]
    },
    {
     "name": "stdout",
     "output_type": "stream",
     "text": [
      "Epoch 138: Train Loss: 0.006691, Train Acc: 1.000000, Train F1: 1.000000, Valid Loss: 0.697335, Valid Acc: 0.632653, Valid F1: 0.495595\n"
     ]
    },
    {
     "name": "stderr",
     "output_type": "stream",
     "text": [
      "                                                                                           \r"
     ]
    },
    {
     "name": "stdout",
     "output_type": "stream",
     "text": [
      "Epoch 139: Train Loss: 0.007879, Train Acc: 1.000000, Train F1: 1.000000, Valid Loss: 0.674739, Valid Acc: 0.666667, Valid F1: 0.581437\n"
     ]
    },
    {
     "name": "stderr",
     "output_type": "stream",
     "text": [
      "                                                                                           \r"
     ]
    },
    {
     "name": "stdout",
     "output_type": "stream",
     "text": [
      "Epoch 140: Train Loss: 0.008503, Train Acc: 1.000000, Train F1: 1.000000, Valid Loss: 0.664682, Valid Acc: 0.653061, Valid F1: 0.571412\n"
     ]
    },
    {
     "name": "stderr",
     "output_type": "stream",
     "text": [
      "                                                                                           \r"
     ]
    },
    {
     "name": "stdout",
     "output_type": "stream",
     "text": [
      "Epoch 141: Train Loss: 0.004662, Train Acc: 1.000000, Train F1: 1.000000, Valid Loss: 0.652932, Valid Acc: 0.646259, Valid F1: 0.557352\n"
     ]
    },
    {
     "name": "stderr",
     "output_type": "stream",
     "text": [
      "                                                                                           \r"
     ]
    },
    {
     "name": "stdout",
     "output_type": "stream",
     "text": [
      "Epoch 142: Train Loss: 0.016176, Train Acc: 0.998299, Train F1: 0.997868, Valid Loss: 0.653177, Valid Acc: 0.639456, Valid F1: 0.557559\n"
     ]
    },
    {
     "name": "stderr",
     "output_type": "stream",
     "text": [
      "                                                                                           \r"
     ]
    },
    {
     "name": "stdout",
     "output_type": "stream",
     "text": [
      "Epoch 143: Train Loss: 0.007595, Train Acc: 1.000000, Train F1: 1.000000, Valid Loss: 0.666030, Valid Acc: 0.625850, Valid F1: 0.502947\n"
     ]
    },
    {
     "name": "stderr",
     "output_type": "stream",
     "text": [
      "                                                                                           \r"
     ]
    },
    {
     "name": "stdout",
     "output_type": "stream",
     "text": [
      "Epoch 144: Train Loss: 0.010355, Train Acc: 0.998299, Train F1: 0.997868, Valid Loss: 0.649423, Valid Acc: 0.585034, Valid F1: 0.482068\n"
     ]
    },
    {
     "name": "stderr",
     "output_type": "stream",
     "text": [
      "                                                                                           \r"
     ]
    },
    {
     "name": "stdout",
     "output_type": "stream",
     "text": [
      "Epoch 145: Train Loss: 0.007660, Train Acc: 1.000000, Train F1: 1.000000, Valid Loss: 0.669342, Valid Acc: 0.612245, Valid F1: 0.505159\n"
     ]
    },
    {
     "name": "stderr",
     "output_type": "stream",
     "text": [
      "                                                                                           \r"
     ]
    },
    {
     "name": "stdout",
     "output_type": "stream",
     "text": [
      "Epoch 146: Train Loss: 0.005895, Train Acc: 1.000000, Train F1: 1.000000, Valid Loss: 0.642099, Valid Acc: 0.612245, Valid F1: 0.511398\n"
     ]
    },
    {
     "name": "stderr",
     "output_type": "stream",
     "text": [
      "                                                                                           \r"
     ]
    },
    {
     "name": "stdout",
     "output_type": "stream",
     "text": [
      "Epoch 147: Train Loss: 0.015762, Train Acc: 0.998299, Train F1: 0.997305, Valid Loss: 0.666714, Valid Acc: 0.605442, Valid F1: 0.492844\n"
     ]
    },
    {
     "name": "stderr",
     "output_type": "stream",
     "text": [
      "                                                                                           \r"
     ]
    },
    {
     "name": "stdout",
     "output_type": "stream",
     "text": [
      "Epoch 148: Train Loss: 0.005039, Train Acc: 1.000000, Train F1: 1.000000, Valid Loss: 0.681061, Valid Acc: 0.625850, Valid F1: 0.513151\n"
     ]
    },
    {
     "name": "stderr",
     "output_type": "stream",
     "text": [
      "                                                                                           \r"
     ]
    },
    {
     "name": "stdout",
     "output_type": "stream",
     "text": [
      "Epoch 149: Train Loss: 0.006120, Train Acc: 1.000000, Train F1: 1.000000, Valid Loss: 0.644460, Valid Acc: 0.639456, Valid F1: 0.525227\n"
     ]
    },
    {
     "name": "stderr",
     "output_type": "stream",
     "text": [
      "                                                                                           \r"
     ]
    },
    {
     "name": "stdout",
     "output_type": "stream",
     "text": [
      "Epoch 150: Train Loss: 0.009244, Train Acc: 1.000000, Train F1: 1.000000, Valid Loss: 0.631283, Valid Acc: 0.666667, Valid F1: 0.544617\n"
     ]
    },
    {
     "name": "stderr",
     "output_type": "stream",
     "text": [
      "                                                                                           \r"
     ]
    },
    {
     "name": "stdout",
     "output_type": "stream",
     "text": [
      "Epoch 151: Train Loss: 0.004547, Train Acc: 1.000000, Train F1: 1.000000, Valid Loss: 0.660795, Valid Acc: 0.646259, Valid F1: 0.535721\n"
     ]
    },
    {
     "name": "stderr",
     "output_type": "stream",
     "text": [
      "                                                                                           \r"
     ]
    },
    {
     "name": "stdout",
     "output_type": "stream",
     "text": [
      "Epoch 152: Train Loss: 0.011721, Train Acc: 1.000000, Train F1: 1.000000, Valid Loss: 0.629616, Valid Acc: 0.639456, Valid F1: 0.529843\n"
     ]
    },
    {
     "name": "stderr",
     "output_type": "stream",
     "text": [
      "                                                                                           \r"
     ]
    },
    {
     "name": "stdout",
     "output_type": "stream",
     "text": [
      "Epoch 153: Train Loss: 0.007116, Train Acc: 0.998299, Train F1: 0.998464, Valid Loss: 0.684176, Valid Acc: 0.680272, Valid F1: 0.549106\n"
     ]
    },
    {
     "name": "stderr",
     "output_type": "stream",
     "text": [
      "                                                                                           \r"
     ]
    },
    {
     "name": "stdout",
     "output_type": "stream",
     "text": [
      "Epoch 154: Train Loss: 0.004932, Train Acc: 1.000000, Train F1: 1.000000, Valid Loss: 0.693795, Valid Acc: 0.673469, Valid F1: 0.539081\n"
     ]
    },
    {
     "name": "stderr",
     "output_type": "stream",
     "text": [
      "                                                                                           \r"
     ]
    },
    {
     "name": "stdout",
     "output_type": "stream",
     "text": [
      "Epoch 155: Train Loss: 0.005031, Train Acc: 1.000000, Train F1: 1.000000, Valid Loss: 0.764461, Valid Acc: 0.687075, Valid F1: 0.553184\n"
     ]
    },
    {
     "name": "stderr",
     "output_type": "stream",
     "text": [
      "                                                                                           \r"
     ]
    },
    {
     "name": "stdout",
     "output_type": "stream",
     "text": [
      "Epoch 156: Train Loss: 0.016944, Train Acc: 0.998299, Train F1: 0.998779, Valid Loss: 0.784779, Valid Acc: 0.700680, Valid F1: 0.577667\n"
     ]
    },
    {
     "name": "stderr",
     "output_type": "stream",
     "text": [
      "                                                                                           \r"
     ]
    },
    {
     "name": "stdout",
     "output_type": "stream",
     "text": [
      "Epoch 157: Train Loss: 0.008353, Train Acc: 1.000000, Train F1: 1.000000, Valid Loss: 0.752782, Valid Acc: 0.687075, Valid F1: 0.553184\n"
     ]
    },
    {
     "name": "stderr",
     "output_type": "stream",
     "text": [
      "                                                                                           \r"
     ]
    },
    {
     "name": "stdout",
     "output_type": "stream",
     "text": [
      "Epoch 158: Train Loss: 0.011364, Train Acc: 1.000000, Train F1: 1.000000, Valid Loss: 0.752507, Valid Acc: 0.680272, Valid F1: 0.543660\n"
     ]
    },
    {
     "name": "stderr",
     "output_type": "stream",
     "text": [
      "                                                                                           \r"
     ]
    },
    {
     "name": "stdout",
     "output_type": "stream",
     "text": [
      "Epoch 159: Train Loss: 0.004412, Train Acc: 1.000000, Train F1: 1.000000, Valid Loss: 0.721312, Valid Acc: 0.680272, Valid F1: 0.556267\n"
     ]
    },
    {
     "name": "stderr",
     "output_type": "stream",
     "text": [
      "                                                                                           \r"
     ]
    },
    {
     "name": "stdout",
     "output_type": "stream",
     "text": [
      "Epoch 160: Train Loss: 0.005895, Train Acc: 1.000000, Train F1: 1.000000, Valid Loss: 0.641273, Valid Acc: 0.693878, Valid F1: 0.585661\n"
     ]
    },
    {
     "name": "stderr",
     "output_type": "stream",
     "text": [
      "                                                                                           \r"
     ]
    },
    {
     "name": "stdout",
     "output_type": "stream",
     "text": [
      "Epoch 161: Train Loss: 0.004087, Train Acc: 1.000000, Train F1: 1.000000, Valid Loss: 0.714339, Valid Acc: 0.680272, Valid F1: 0.552396\n"
     ]
    },
    {
     "name": "stderr",
     "output_type": "stream",
     "text": [
      "                                                                                           \r"
     ]
    },
    {
     "name": "stdout",
     "output_type": "stream",
     "text": [
      "Epoch 162: Train Loss: 0.012913, Train Acc: 1.000000, Train F1: 1.000000, Valid Loss: 0.707291, Valid Acc: 0.680272, Valid F1: 0.565099\n"
     ]
    },
    {
     "name": "stderr",
     "output_type": "stream",
     "text": [
      "                                                                                           \r"
     ]
    },
    {
     "name": "stdout",
     "output_type": "stream",
     "text": [
      "Epoch 163: Train Loss: 0.007461, Train Acc: 1.000000, Train F1: 1.000000, Valid Loss: 0.707657, Valid Acc: 0.666667, Valid F1: 0.572156\n"
     ]
    },
    {
     "name": "stderr",
     "output_type": "stream",
     "text": [
      "                                                                                           \r"
     ]
    },
    {
     "name": "stdout",
     "output_type": "stream",
     "text": [
      "Epoch 164: Train Loss: 0.009331, Train Acc: 1.000000, Train F1: 1.000000, Valid Loss: 0.685969, Valid Acc: 0.666667, Valid F1: 0.549622\n"
     ]
    },
    {
     "name": "stderr",
     "output_type": "stream",
     "text": [
      "                                                                                           \r"
     ]
    },
    {
     "name": "stdout",
     "output_type": "stream",
     "text": [
      "Epoch 165: Train Loss: 0.005245, Train Acc: 0.998299, Train F1: 0.997305, Valid Loss: 0.617934, Valid Acc: 0.659864, Valid F1: 0.558651\n"
     ]
    },
    {
     "name": "stderr",
     "output_type": "stream",
     "text": [
      "                                                                                           \r"
     ]
    },
    {
     "name": "stdout",
     "output_type": "stream",
     "text": [
      "Epoch 166: Train Loss: 0.005427, Train Acc: 1.000000, Train F1: 1.000000, Valid Loss: 0.601683, Valid Acc: 0.673469, Valid F1: 0.549102\n"
     ]
    },
    {
     "name": "stderr",
     "output_type": "stream",
     "text": [
      "                                                                                           \r"
     ]
    },
    {
     "name": "stdout",
     "output_type": "stream",
     "text": [
      "Epoch 167: Train Loss: 0.004730, Train Acc: 1.000000, Train F1: 1.000000, Valid Loss: 0.618754, Valid Acc: 0.680272, Valid F1: 0.563375\n"
     ]
    },
    {
     "name": "stderr",
     "output_type": "stream",
     "text": [
      "                                                                                           \r"
     ]
    },
    {
     "name": "stdout",
     "output_type": "stream",
     "text": [
      "Epoch 168: Train Loss: 0.002700, Train Acc: 1.000000, Train F1: 1.000000, Valid Loss: 0.582775, Valid Acc: 0.653061, Valid F1: 0.539363\n"
     ]
    },
    {
     "name": "stderr",
     "output_type": "stream",
     "text": [
      "                                                                                           \r"
     ]
    },
    {
     "name": "stdout",
     "output_type": "stream",
     "text": [
      "Epoch 169: Train Loss: 0.007619, Train Acc: 1.000000, Train F1: 1.000000, Valid Loss: 0.669656, Valid Acc: 0.666667, Valid F1: 0.552392\n"
     ]
    },
    {
     "name": "stderr",
     "output_type": "stream",
     "text": [
      "                                                                                           \r"
     ]
    },
    {
     "name": "stdout",
     "output_type": "stream",
     "text": [
      "Epoch 170: Train Loss: 0.004266, Train Acc: 1.000000, Train F1: 1.000000, Valid Loss: 0.714126, Valid Acc: 0.653061, Valid F1: 0.559761\n"
     ]
    },
    {
     "name": "stderr",
     "output_type": "stream",
     "text": [
      "                                                                                           \r"
     ]
    },
    {
     "name": "stdout",
     "output_type": "stream",
     "text": [
      "Epoch 171: Train Loss: 0.003426, Train Acc: 1.000000, Train F1: 1.000000, Valid Loss: 0.708157, Valid Acc: 0.673469, Valid F1: 0.567461\n"
     ]
    },
    {
     "name": "stderr",
     "output_type": "stream",
     "text": [
      "                                                                                           \r"
     ]
    },
    {
     "name": "stdout",
     "output_type": "stream",
     "text": [
      "Epoch 172: Train Loss: 0.008521, Train Acc: 1.000000, Train F1: 1.000000, Valid Loss: 0.648778, Valid Acc: 0.653061, Valid F1: 0.542074\n"
     ]
    },
    {
     "name": "stderr",
     "output_type": "stream",
     "text": [
      "                                                                                           \r"
     ]
    },
    {
     "name": "stdout",
     "output_type": "stream",
     "text": [
      "Epoch 173: Train Loss: 0.005455, Train Acc: 1.000000, Train F1: 1.000000, Valid Loss: 0.642371, Valid Acc: 0.673469, Valid F1: 0.557825\n"
     ]
    },
    {
     "name": "stderr",
     "output_type": "stream",
     "text": [
      "                                                                                           \r"
     ]
    },
    {
     "name": "stdout",
     "output_type": "stream",
     "text": [
      "Epoch 174: Train Loss: 0.002655, Train Acc: 1.000000, Train F1: 1.000000, Valid Loss: 0.609926, Valid Acc: 0.687075, Valid F1: 0.561336\n"
     ]
    },
    {
     "name": "stderr",
     "output_type": "stream",
     "text": [
      "                                                                                           \r"
     ]
    },
    {
     "name": "stdout",
     "output_type": "stream",
     "text": [
      "Epoch 175: Train Loss: 0.002862, Train Acc: 1.000000, Train F1: 1.000000, Valid Loss: 0.623065, Valid Acc: 0.687075, Valid F1: 0.563821\n"
     ]
    },
    {
     "name": "stderr",
     "output_type": "stream",
     "text": [
      "                                                                                           \r"
     ]
    },
    {
     "name": "stdout",
     "output_type": "stream",
     "text": [
      "Epoch 176: Train Loss: 0.006395, Train Acc: 1.000000, Train F1: 1.000000, Valid Loss: 0.593471, Valid Acc: 0.673469, Valid F1: 0.621019\n"
     ]
    },
    {
     "name": "stderr",
     "output_type": "stream",
     "text": [
      "                                                                                           \r"
     ]
    },
    {
     "name": "stdout",
     "output_type": "stream",
     "text": [
      "Epoch 177: Train Loss: 0.004722, Train Acc: 1.000000, Train F1: 1.000000, Valid Loss: 0.635770, Valid Acc: 0.659864, Valid F1: 0.613932\n"
     ]
    },
    {
     "name": "stderr",
     "output_type": "stream",
     "text": [
      "                                                                                           \r"
     ]
    },
    {
     "name": "stdout",
     "output_type": "stream",
     "text": [
      "Epoch 178: Train Loss: 0.004743, Train Acc: 1.000000, Train F1: 1.000000, Valid Loss: 0.634509, Valid Acc: 0.687075, Valid F1: 0.632339\n"
     ]
    },
    {
     "name": "stderr",
     "output_type": "stream",
     "text": [
      "                                                                                           \r"
     ]
    },
    {
     "name": "stdout",
     "output_type": "stream",
     "text": [
      "Epoch 179: Train Loss: 0.002157, Train Acc: 1.000000, Train F1: 1.000000, Valid Loss: 0.612955, Valid Acc: 0.666667, Valid F1: 0.628331\n"
     ]
    },
    {
     "name": "stderr",
     "output_type": "stream",
     "text": [
      "                                                                                           \r"
     ]
    },
    {
     "name": "stdout",
     "output_type": "stream",
     "text": [
      "Epoch 180: Train Loss: 0.003202, Train Acc: 1.000000, Train F1: 1.000000, Valid Loss: 0.638932, Valid Acc: 0.666667, Valid F1: 0.560712\n"
     ]
    },
    {
     "name": "stderr",
     "output_type": "stream",
     "text": [
      "                                                                                           \r"
     ]
    },
    {
     "name": "stdout",
     "output_type": "stream",
     "text": [
      "Epoch 181: Train Loss: 0.007436, Train Acc: 1.000000, Train F1: 1.000000, Valid Loss: 0.640381, Valid Acc: 0.646259, Valid F1: 0.534877\n"
     ]
    },
    {
     "name": "stderr",
     "output_type": "stream",
     "text": [
      "                                                                                           \r"
     ]
    },
    {
     "name": "stdout",
     "output_type": "stream",
     "text": [
      "Epoch 182: Train Loss: 0.011690, Train Acc: 0.998299, Train F1: 0.998496, Valid Loss: 0.638781, Valid Acc: 0.646259, Valid F1: 0.538983\n"
     ]
    },
    {
     "name": "stderr",
     "output_type": "stream",
     "text": [
      "                                                                                           \r"
     ]
    },
    {
     "name": "stdout",
     "output_type": "stream",
     "text": [
      "Epoch 183: Train Loss: 0.008152, Train Acc: 1.000000, Train F1: 1.000000, Valid Loss: 0.604408, Valid Acc: 0.673469, Valid F1: 0.553868\n"
     ]
    },
    {
     "name": "stderr",
     "output_type": "stream",
     "text": [
      "                                                                                           \r"
     ]
    },
    {
     "name": "stdout",
     "output_type": "stream",
     "text": [
      "Epoch 184: Train Loss: 0.003377, Train Acc: 1.000000, Train F1: 1.000000, Valid Loss: 0.597108, Valid Acc: 0.673469, Valid F1: 0.554930\n"
     ]
    },
    {
     "name": "stderr",
     "output_type": "stream",
     "text": [
      "                                                                                           \r"
     ]
    },
    {
     "name": "stdout",
     "output_type": "stream",
     "text": [
      "Epoch 185: Train Loss: 0.005419, Train Acc: 1.000000, Train F1: 1.000000, Valid Loss: 0.603970, Valid Acc: 0.673469, Valid F1: 0.552768\n"
     ]
    },
    {
     "name": "stderr",
     "output_type": "stream",
     "text": [
      "                                                                                           \r"
     ]
    },
    {
     "name": "stdout",
     "output_type": "stream",
     "text": [
      "Epoch 186: Train Loss: 0.002671, Train Acc: 1.000000, Train F1: 1.000000, Valid Loss: 0.626599, Valid Acc: 0.680272, Valid F1: 0.556908\n"
     ]
    },
    {
     "name": "stderr",
     "output_type": "stream",
     "text": [
      "                                                                                           \r"
     ]
    },
    {
     "name": "stdout",
     "output_type": "stream",
     "text": [
      "Epoch 187: Train Loss: 0.003697, Train Acc: 1.000000, Train F1: 1.000000, Valid Loss: 0.620719, Valid Acc: 0.673469, Valid F1: 0.552768\n"
     ]
    },
    {
     "name": "stderr",
     "output_type": "stream",
     "text": [
      "                                                                                           \r"
     ]
    },
    {
     "name": "stdout",
     "output_type": "stream",
     "text": [
      "Epoch 188: Train Loss: 0.002849, Train Acc: 1.000000, Train F1: 1.000000, Valid Loss: 0.609133, Valid Acc: 0.673469, Valid F1: 0.552768\n"
     ]
    },
    {
     "name": "stderr",
     "output_type": "stream",
     "text": [
      "                                                                                           \r"
     ]
    },
    {
     "name": "stdout",
     "output_type": "stream",
     "text": [
      "Epoch 189: Train Loss: 0.002489, Train Acc: 1.000000, Train F1: 1.000000, Valid Loss: 0.613747, Valid Acc: 0.673469, Valid F1: 0.620240\n"
     ]
    },
    {
     "name": "stderr",
     "output_type": "stream",
     "text": [
      "                                                                                           \r"
     ]
    },
    {
     "name": "stdout",
     "output_type": "stream",
     "text": [
      "Epoch 190: Train Loss: 0.002694, Train Acc: 1.000000, Train F1: 1.000000, Valid Loss: 0.626048, Valid Acc: 0.666667, Valid F1: 0.548812\n"
     ]
    },
    {
     "name": "stderr",
     "output_type": "stream",
     "text": [
      "                                                                                           \r"
     ]
    },
    {
     "name": "stdout",
     "output_type": "stream",
     "text": [
      "Epoch 191: Train Loss: 0.003967, Train Acc: 1.000000, Train F1: 1.000000, Valid Loss: 0.622541, Valid Acc: 0.673469, Valid F1: 0.620240\n"
     ]
    },
    {
     "name": "stderr",
     "output_type": "stream",
     "text": [
      "                                                                                           \r"
     ]
    },
    {
     "name": "stdout",
     "output_type": "stream",
     "text": [
      "Epoch 192: Train Loss: 0.002329, Train Acc: 1.000000, Train F1: 1.000000, Valid Loss: 0.624314, Valid Acc: 0.659864, Valid F1: 0.542964\n"
     ]
    },
    {
     "name": "stderr",
     "output_type": "stream",
     "text": [
      "                                                                                           \r"
     ]
    },
    {
     "name": "stdout",
     "output_type": "stream",
     "text": [
      "Epoch 193: Train Loss: 0.002679, Train Acc: 1.000000, Train F1: 1.000000, Valid Loss: 0.606590, Valid Acc: 0.673469, Valid F1: 0.549289\n"
     ]
    },
    {
     "name": "stderr",
     "output_type": "stream",
     "text": [
      "                                                                                           \r"
     ]
    },
    {
     "name": "stdout",
     "output_type": "stream",
     "text": [
      "Epoch 194: Train Loss: 0.003048, Train Acc: 1.000000, Train F1: 1.000000, Valid Loss: 0.601858, Valid Acc: 0.680272, Valid F1: 0.549289\n"
     ]
    },
    {
     "name": "stderr",
     "output_type": "stream",
     "text": [
      "                                                                                           \r"
     ]
    },
    {
     "name": "stdout",
     "output_type": "stream",
     "text": [
      "Epoch 195: Train Loss: 0.003037, Train Acc: 1.000000, Train F1: 1.000000, Valid Loss: 0.635539, Valid Acc: 0.653061, Valid F1: 0.535491\n"
     ]
    },
    {
     "name": "stderr",
     "output_type": "stream",
     "text": [
      "                                                                                           \r"
     ]
    },
    {
     "name": "stdout",
     "output_type": "stream",
     "text": [
      "Epoch 196: Train Loss: 0.001597, Train Acc: 1.000000, Train F1: 1.000000, Valid Loss: 0.619804, Valid Acc: 0.659864, Valid F1: 0.541339\n"
     ]
    },
    {
     "name": "stderr",
     "output_type": "stream",
     "text": [
      "                                                                                           \r"
     ]
    },
    {
     "name": "stdout",
     "output_type": "stream",
     "text": [
      "Epoch 197: Train Loss: 0.001584, Train Acc: 1.000000, Train F1: 1.000000, Valid Loss: 0.609453, Valid Acc: 0.687075, Valid F1: 0.561426\n"
     ]
    },
    {
     "name": "stderr",
     "output_type": "stream",
     "text": [
      "                                                                                           \r"
     ]
    },
    {
     "name": "stdout",
     "output_type": "stream",
     "text": [
      "Epoch 198: Train Loss: 0.003158, Train Acc: 1.000000, Train F1: 1.000000, Valid Loss: 0.622332, Valid Acc: 0.693878, Valid F1: 0.562895\n"
     ]
    },
    {
     "name": "stderr",
     "output_type": "stream",
     "text": [
      "                                                                                           \r"
     ]
    },
    {
     "name": "stdout",
     "output_type": "stream",
     "text": [
      "Epoch 199: Train Loss: 0.006233, Train Acc: 1.000000, Train F1: 1.000000, Valid Loss: 0.646729, Valid Acc: 0.659864, Valid F1: 0.611082\n"
     ]
    },
    {
     "name": "stderr",
     "output_type": "stream",
     "text": [
      "                                                                                           \r"
     ]
    },
    {
     "name": "stdout",
     "output_type": "stream",
     "text": [
      "Epoch 200: Train Loss: 0.002388, Train Acc: 1.000000, Train F1: 1.000000, Valid Loss: 0.615227, Valid Acc: 0.680272, Valid F1: 0.627159\n"
     ]
    },
    {
     "name": "stderr",
     "output_type": "stream",
     "text": [
      "                                                                                         \r"
     ]
    },
    {
     "name": "stdout",
     "output_type": "stream",
     "text": [
      "Epoch 1: Train Loss: 0.663914, Train Acc: 0.595238, Train F1: 0.395419, Valid Loss: 0.671171, Valid Acc: 0.585034, Valid F1: 0.345628\n"
     ]
    },
    {
     "name": "stderr",
     "output_type": "stream",
     "text": [
      "                                                                                         \r"
     ]
    },
    {
     "name": "stdout",
     "output_type": "stream",
     "text": [
      "Epoch 2: Train Loss: 0.492703, Train Acc: 0.857143, Train F1: 0.751395, Valid Loss: 0.626608, Valid Acc: 0.605442, Valid F1: 0.439743\n"
     ]
    },
    {
     "name": "stderr",
     "output_type": "stream",
     "text": [
      "                                                                                         \r"
     ]
    },
    {
     "name": "stdout",
     "output_type": "stream",
     "text": [
      "Epoch 3: Train Loss: 0.344530, Train Acc: 0.931973, Train F1: 0.888925, Valid Loss: 0.598639, Valid Acc: 0.680272, Valid F1: 0.558940\n"
     ]
    },
    {
     "name": "stderr",
     "output_type": "stream",
     "text": [
      "                                                                                         \r"
     ]
    },
    {
     "name": "stdout",
     "output_type": "stream",
     "text": [
      "Epoch 4: Train Loss: 0.264987, Train Acc: 0.959184, Train F1: 0.931905, Valid Loss: 0.563827, Valid Acc: 0.727891, Valid F1: 0.593514\n"
     ]
    },
    {
     "name": "stderr",
     "output_type": "stream",
     "text": [
      "                                                                                         \r"
     ]
    },
    {
     "name": "stdout",
     "output_type": "stream",
     "text": [
      "Epoch 5: Train Loss: 0.191028, Train Acc: 0.982993, Train F1: 0.971765, Valid Loss: 0.650143, Valid Acc: 0.748299, Valid F1: 0.597927\n"
     ]
    },
    {
     "name": "stderr",
     "output_type": "stream",
     "text": [
      "                                                                                         \r"
     ]
    },
    {
     "name": "stdout",
     "output_type": "stream",
     "text": [
      "Epoch 6: Train Loss: 0.165140, Train Acc: 0.991497, Train F1: 0.978610, Valid Loss: 0.595257, Valid Acc: 0.741497, Valid F1: 0.590437\n"
     ]
    },
    {
     "name": "stderr",
     "output_type": "stream",
     "text": [
      "                                                                                         \r"
     ]
    },
    {
     "name": "stdout",
     "output_type": "stream",
     "text": [
      "Epoch 7: Train Loss: 0.155388, Train Acc: 0.981293, Train F1: 0.971332, Valid Loss: 0.569318, Valid Acc: 0.741497, Valid F1: 0.603590\n"
     ]
    },
    {
     "name": "stderr",
     "output_type": "stream",
     "text": [
      "                                                                                         \r"
     ]
    },
    {
     "name": "stdout",
     "output_type": "stream",
     "text": [
      "Epoch 8: Train Loss: 0.110277, Train Acc: 0.993197, Train F1: 0.989228, Valid Loss: 0.567315, Valid Acc: 0.761905, Valid F1: 0.600967\n"
     ]
    },
    {
     "name": "stderr",
     "output_type": "stream",
     "text": [
      "                                                                                         \r"
     ]
    },
    {
     "name": "stdout",
     "output_type": "stream",
     "text": [
      "Epoch 9: Train Loss: 0.089783, Train Acc: 0.996599, Train F1: 0.997037, Valid Loss: 0.616500, Valid Acc: 0.714286, Valid F1: 0.575167\n"
     ]
    },
    {
     "name": "stderr",
     "output_type": "stream",
     "text": [
      "                                                                                         \r"
     ]
    },
    {
     "name": "stdout",
     "output_type": "stream",
     "text": [
      "Epoch 10: Train Loss: 0.074500, Train Acc: 0.996599, Train F1: 0.995526, Valid Loss: 0.627726, Valid Acc: 0.714286, Valid F1: 0.570512\n"
     ]
    },
    {
     "name": "stderr",
     "output_type": "stream",
     "text": [
      "                                                                                          \r"
     ]
    },
    {
     "name": "stdout",
     "output_type": "stream",
     "text": [
      "Epoch 11: Train Loss: 0.074136, Train Acc: 0.996599, Train F1: 0.997098, Valid Loss: 0.716477, Valid Acc: 0.734694, Valid F1: 0.591232\n"
     ]
    },
    {
     "name": "stderr",
     "output_type": "stream",
     "text": [
      "                                                                                          \r"
     ]
    },
    {
     "name": "stdout",
     "output_type": "stream",
     "text": [
      "Epoch 12: Train Loss: 0.105741, Train Acc: 0.986395, Train F1: 0.983507, Valid Loss: 0.632149, Valid Acc: 0.748299, Valid F1: 0.593878\n"
     ]
    },
    {
     "name": "stderr",
     "output_type": "stream",
     "text": [
      "                                                                                          \r"
     ]
    },
    {
     "name": "stdout",
     "output_type": "stream",
     "text": [
      "Epoch 13: Train Loss: 0.072267, Train Acc: 0.994898, Train F1: 0.993805, Valid Loss: 0.748701, Valid Acc: 0.734694, Valid F1: 0.571415\n"
     ]
    },
    {
     "name": "stderr",
     "output_type": "stream",
     "text": [
      "                                                                                          \r"
     ]
    },
    {
     "name": "stdout",
     "output_type": "stream",
     "text": [
      "Epoch 14: Train Loss: 0.049245, Train Acc: 1.000000, Train F1: 1.000000, Valid Loss: 0.777326, Valid Acc: 0.707483, Valid F1: 0.572336\n"
     ]
    },
    {
     "name": "stderr",
     "output_type": "stream",
     "text": [
      "                                                                                          \r"
     ]
    },
    {
     "name": "stdout",
     "output_type": "stream",
     "text": [
      "Epoch 15: Train Loss: 0.068431, Train Acc: 0.996599, Train F1: 0.997153, Valid Loss: 0.761281, Valid Acc: 0.693878, Valid F1: 0.563124\n"
     ]
    },
    {
     "name": "stderr",
     "output_type": "stream",
     "text": [
      "                                                                                          \r"
     ]
    },
    {
     "name": "stdout",
     "output_type": "stream",
     "text": [
      "Epoch 16: Train Loss: 0.069601, Train Acc: 0.994898, Train F1: 0.992631, Valid Loss: 0.820726, Valid Acc: 0.680272, Valid F1: 0.547377\n"
     ]
    },
    {
     "name": "stderr",
     "output_type": "stream",
     "text": [
      "                                                                                          \r"
     ]
    },
    {
     "name": "stdout",
     "output_type": "stream",
     "text": [
      "Epoch 17: Train Loss: 0.060187, Train Acc: 0.994898, Train F1: 0.995173, Valid Loss: 0.715034, Valid Acc: 0.687075, Valid F1: 0.548862\n"
     ]
    },
    {
     "name": "stderr",
     "output_type": "stream",
     "text": [
      "                                                                                          \r"
     ]
    },
    {
     "name": "stdout",
     "output_type": "stream",
     "text": [
      "Epoch 18: Train Loss: 0.056730, Train Acc: 0.998299, Train F1: 0.998689, Valid Loss: 0.775168, Valid Acc: 0.680272, Valid F1: 0.545159\n"
     ]
    },
    {
     "name": "stderr",
     "output_type": "stream",
     "text": [
      "                                                                                          \r"
     ]
    },
    {
     "name": "stdout",
     "output_type": "stream",
     "text": [
      "Epoch 19: Train Loss: 0.083869, Train Acc: 0.991497, Train F1: 0.990220, Valid Loss: 0.650737, Valid Acc: 0.734694, Valid F1: 0.596322\n"
     ]
    },
    {
     "name": "stderr",
     "output_type": "stream",
     "text": [
      "                                                                                          \r"
     ]
    },
    {
     "name": "stdout",
     "output_type": "stream",
     "text": [
      "Epoch 20: Train Loss: 0.070845, Train Acc: 0.991497, Train F1: 0.988339, Valid Loss: 0.721716, Valid Acc: 0.700680, Valid F1: 0.545160\n"
     ]
    },
    {
     "name": "stderr",
     "output_type": "stream",
     "text": [
      "                                                                                          \r"
     ]
    },
    {
     "name": "stdout",
     "output_type": "stream",
     "text": [
      "Epoch 21: Train Loss: 0.084416, Train Acc: 0.996599, Train F1: 0.991071, Valid Loss: 0.690969, Valid Acc: 0.693878, Valid F1: 0.564528\n"
     ]
    },
    {
     "name": "stderr",
     "output_type": "stream",
     "text": [
      "                                                                                          \r"
     ]
    },
    {
     "name": "stdout",
     "output_type": "stream",
     "text": [
      "Epoch 22: Train Loss: 0.039386, Train Acc: 0.994898, Train F1: 0.991759, Valid Loss: 0.685953, Valid Acc: 0.700680, Valid F1: 0.630958\n"
     ]
    },
    {
     "name": "stderr",
     "output_type": "stream",
     "text": [
      "                                                                                          \r"
     ]
    },
    {
     "name": "stdout",
     "output_type": "stream",
     "text": [
      "Epoch 23: Train Loss: 0.048024, Train Acc: 0.994898, Train F1: 0.992278, Valid Loss: 0.670023, Valid Acc: 0.714286, Valid F1: 0.604932\n"
     ]
    },
    {
     "name": "stderr",
     "output_type": "stream",
     "text": [
      "                                                                                          \r"
     ]
    },
    {
     "name": "stdout",
     "output_type": "stream",
     "text": [
      "Epoch 24: Train Loss: 0.026830, Train Acc: 1.000000, Train F1: 1.000000, Valid Loss: 0.695802, Valid Acc: 0.721088, Valid F1: 0.605458\n"
     ]
    },
    {
     "name": "stderr",
     "output_type": "stream",
     "text": [
      "                                                                                          \r"
     ]
    },
    {
     "name": "stdout",
     "output_type": "stream",
     "text": [
      "Epoch 25: Train Loss: 0.033247, Train Acc: 1.000000, Train F1: 1.000000, Valid Loss: 0.688120, Valid Acc: 0.721088, Valid F1: 0.602779\n"
     ]
    },
    {
     "name": "stderr",
     "output_type": "stream",
     "text": [
      "                                                                                          \r"
     ]
    },
    {
     "name": "stdout",
     "output_type": "stream",
     "text": [
      "Epoch 26: Train Loss: 0.067372, Train Acc: 0.996599, Train F1: 0.996709, Valid Loss: 0.711343, Valid Acc: 0.755102, Valid F1: 0.619182\n"
     ]
    },
    {
     "name": "stderr",
     "output_type": "stream",
     "text": [
      "                                                                                          \r"
     ]
    },
    {
     "name": "stdout",
     "output_type": "stream",
     "text": [
      "Epoch 27: Train Loss: 0.043983, Train Acc: 0.991497, Train F1: 0.992393, Valid Loss: 0.868057, Valid Acc: 0.707483, Valid F1: 0.563131\n"
     ]
    },
    {
     "name": "stderr",
     "output_type": "stream",
     "text": [
      "                                                                                          \r"
     ]
    },
    {
     "name": "stdout",
     "output_type": "stream",
     "text": [
      "Epoch 28: Train Loss: 0.046770, Train Acc: 0.994898, Train F1: 0.995029, Valid Loss: 0.731331, Valid Acc: 0.707483, Valid F1: 0.546188\n"
     ]
    },
    {
     "name": "stderr",
     "output_type": "stream",
     "text": [
      "                                                                                          \r"
     ]
    },
    {
     "name": "stdout",
     "output_type": "stream",
     "text": [
      "Epoch 29: Train Loss: 0.034799, Train Acc: 0.998299, Train F1: 0.998665, Valid Loss: 0.673480, Valid Acc: 0.721088, Valid F1: 0.579487\n"
     ]
    },
    {
     "name": "stderr",
     "output_type": "stream",
     "text": [
      "                                                                                          \r"
     ]
    },
    {
     "name": "stdout",
     "output_type": "stream",
     "text": [
      "Epoch 30: Train Loss: 0.063820, Train Acc: 0.994898, Train F1: 0.992736, Valid Loss: 0.781499, Valid Acc: 0.714286, Valid F1: 0.575478\n"
     ]
    },
    {
     "name": "stderr",
     "output_type": "stream",
     "text": [
      "                                                                                          \r"
     ]
    },
    {
     "name": "stdout",
     "output_type": "stream",
     "text": [
      "Epoch 31: Train Loss: 0.036339, Train Acc: 0.998299, Train F1: 0.995671, Valid Loss: 0.763962, Valid Acc: 0.687075, Valid F1: 0.555116\n"
     ]
    },
    {
     "name": "stderr",
     "output_type": "stream",
     "text": [
      "                                                                                          \r"
     ]
    },
    {
     "name": "stdout",
     "output_type": "stream",
     "text": [
      "Epoch 32: Train Loss: 0.053259, Train Acc: 0.994898, Train F1: 0.993845, Valid Loss: 0.756280, Valid Acc: 0.693878, Valid F1: 0.581366\n"
     ]
    },
    {
     "name": "stderr",
     "output_type": "stream",
     "text": [
      "                                                                                          \r"
     ]
    },
    {
     "name": "stdout",
     "output_type": "stream",
     "text": [
      "Epoch 33: Train Loss: 0.048090, Train Acc: 0.994898, Train F1: 0.994617, Valid Loss: 0.730351, Valid Acc: 0.687075, Valid F1: 0.557525\n"
     ]
    },
    {
     "name": "stderr",
     "output_type": "stream",
     "text": [
      "                                                                                          \r"
     ]
    },
    {
     "name": "stdout",
     "output_type": "stream",
     "text": [
      "Epoch 34: Train Loss: 0.059413, Train Acc: 0.994898, Train F1: 0.994420, Valid Loss: 0.691677, Valid Acc: 0.680272, Valid F1: 0.561094\n"
     ]
    },
    {
     "name": "stderr",
     "output_type": "stream",
     "text": [
      "                                                                                          \r"
     ]
    },
    {
     "name": "stdout",
     "output_type": "stream",
     "text": [
      "Epoch 35: Train Loss: 0.041351, Train Acc: 0.993197, Train F1: 0.993388, Valid Loss: 0.729113, Valid Acc: 0.680272, Valid F1: 0.558633\n"
     ]
    },
    {
     "name": "stderr",
     "output_type": "stream",
     "text": [
      "                                                                                          \r"
     ]
    },
    {
     "name": "stdout",
     "output_type": "stream",
     "text": [
      "Epoch 36: Train Loss: 0.036541, Train Acc: 0.996599, Train F1: 0.996122, Valid Loss: 0.620103, Valid Acc: 0.646259, Valid F1: 0.531852\n"
     ]
    },
    {
     "name": "stderr",
     "output_type": "stream",
     "text": [
      "                                                                                          \r"
     ]
    },
    {
     "name": "stdout",
     "output_type": "stream",
     "text": [
      "Epoch 37: Train Loss: 0.043895, Train Acc: 0.996599, Train F1: 0.996437, Valid Loss: 0.775841, Valid Acc: 0.659864, Valid F1: 0.551228\n"
     ]
    },
    {
     "name": "stderr",
     "output_type": "stream",
     "text": [
      "                                                                                          \r"
     ]
    },
    {
     "name": "stdout",
     "output_type": "stream",
     "text": [
      "Epoch 38: Train Loss: 0.050939, Train Acc: 0.994898, Train F1: 0.995473, Valid Loss: 0.812649, Valid Acc: 0.659864, Valid F1: 0.555553\n"
     ]
    },
    {
     "name": "stderr",
     "output_type": "stream",
     "text": [
      "                                                                                          \r"
     ]
    },
    {
     "name": "stdout",
     "output_type": "stream",
     "text": [
      "Epoch 39: Train Loss: 0.035674, Train Acc: 0.998299, Train F1: 0.997868, Valid Loss: 0.663132, Valid Acc: 0.700680, Valid F1: 0.577845\n"
     ]
    },
    {
     "name": "stderr",
     "output_type": "stream",
     "text": [
      "                                                                                          \r"
     ]
    },
    {
     "name": "stdout",
     "output_type": "stream",
     "text": [
      "Epoch 40: Train Loss: 0.038934, Train Acc: 0.996599, Train F1: 0.997579, Valid Loss: 0.690199, Valid Acc: 0.700680, Valid F1: 0.560988\n"
     ]
    },
    {
     "name": "stderr",
     "output_type": "stream",
     "text": [
      "                                                                                          \r"
     ]
    },
    {
     "name": "stdout",
     "output_type": "stream",
     "text": [
      "Epoch 41: Train Loss: 0.045373, Train Acc: 0.994898, Train F1: 0.994305, Valid Loss: 0.795972, Valid Acc: 0.673469, Valid F1: 0.526114\n"
     ]
    },
    {
     "name": "stderr",
     "output_type": "stream",
     "text": [
      "                                                                                          \r"
     ]
    },
    {
     "name": "stdout",
     "output_type": "stream",
     "text": [
      "Epoch 42: Train Loss: 0.026750, Train Acc: 1.000000, Train F1: 1.000000, Valid Loss: 0.788966, Valid Acc: 0.700680, Valid F1: 0.558397\n"
     ]
    },
    {
     "name": "stderr",
     "output_type": "stream",
     "text": [
      "                                                                                          \r"
     ]
    },
    {
     "name": "stdout",
     "output_type": "stream",
     "text": [
      "Epoch 43: Train Loss: 0.028737, Train Acc: 0.998299, Train F1: 0.995671, Valid Loss: 0.797077, Valid Acc: 0.687075, Valid F1: 0.565453\n"
     ]
    },
    {
     "name": "stderr",
     "output_type": "stream",
     "text": [
      "                                                                                          \r"
     ]
    },
    {
     "name": "stdout",
     "output_type": "stream",
     "text": [
      "Epoch 44: Train Loss: 0.049069, Train Acc: 0.996599, Train F1: 0.996147, Valid Loss: 0.755270, Valid Acc: 0.646259, Valid F1: 0.541850\n"
     ]
    },
    {
     "name": "stderr",
     "output_type": "stream",
     "text": [
      "                                                                                          \r"
     ]
    },
    {
     "name": "stdout",
     "output_type": "stream",
     "text": [
      "Epoch 45: Train Loss: 0.025782, Train Acc: 1.000000, Train F1: 1.000000, Valid Loss: 0.724700, Valid Acc: 0.646259, Valid F1: 0.566649\n"
     ]
    },
    {
     "name": "stderr",
     "output_type": "stream",
     "text": [
      "                                                                                          \r"
     ]
    },
    {
     "name": "stdout",
     "output_type": "stream",
     "text": [
      "Epoch 46: Train Loss: 0.030128, Train Acc: 0.998299, Train F1: 0.997930, Valid Loss: 0.779370, Valid Acc: 0.639456, Valid F1: 0.547777\n"
     ]
    },
    {
     "name": "stderr",
     "output_type": "stream",
     "text": [
      "                                                                                          \r"
     ]
    },
    {
     "name": "stdout",
     "output_type": "stream",
     "text": [
      "Epoch 47: Train Loss: 0.033683, Train Acc: 0.996599, Train F1: 0.996422, Valid Loss: 0.686889, Valid Acc: 0.653061, Valid F1: 0.557447\n"
     ]
    },
    {
     "name": "stderr",
     "output_type": "stream",
     "text": [
      "                                                                                          \r"
     ]
    },
    {
     "name": "stdout",
     "output_type": "stream",
     "text": [
      "Epoch 48: Train Loss: 0.029136, Train Acc: 1.000000, Train F1: 1.000000, Valid Loss: 0.649252, Valid Acc: 0.646259, Valid F1: 0.541062\n"
     ]
    },
    {
     "name": "stderr",
     "output_type": "stream",
     "text": [
      "                                                                                          \r"
     ]
    },
    {
     "name": "stdout",
     "output_type": "stream",
     "text": [
      "Epoch 49: Train Loss: 0.018338, Train Acc: 1.000000, Train F1: 1.000000, Valid Loss: 0.671611, Valid Acc: 0.666667, Valid F1: 0.560374\n"
     ]
    },
    {
     "name": "stderr",
     "output_type": "stream",
     "text": [
      "                                                                                          \r"
     ]
    },
    {
     "name": "stdout",
     "output_type": "stream",
     "text": [
      "Epoch 50: Train Loss: 0.014898, Train Acc: 1.000000, Train F1: 1.000000, Valid Loss: 0.628393, Valid Acc: 0.680272, Valid F1: 0.574089\n"
     ]
    },
    {
     "name": "stderr",
     "output_type": "stream",
     "text": [
      "                                                                                          \r"
     ]
    },
    {
     "name": "stdout",
     "output_type": "stream",
     "text": [
      "Epoch 51: Train Loss: 0.016975, Train Acc: 1.000000, Train F1: 1.000000, Valid Loss: 0.774086, Valid Acc: 0.700680, Valid F1: 0.585775\n"
     ]
    },
    {
     "name": "stderr",
     "output_type": "stream",
     "text": [
      "                                                                                          \r"
     ]
    },
    {
     "name": "stdout",
     "output_type": "stream",
     "text": [
      "Epoch 52: Train Loss: 0.022636, Train Acc: 0.998299, Train F1: 0.998758, Valid Loss: 0.659995, Valid Acc: 0.700680, Valid F1: 0.587091\n"
     ]
    },
    {
     "name": "stderr",
     "output_type": "stream",
     "text": [
      "                                                                                          \r"
     ]
    },
    {
     "name": "stdout",
     "output_type": "stream",
     "text": [
      "Epoch 53: Train Loss: 0.016116, Train Acc: 1.000000, Train F1: 1.000000, Valid Loss: 0.619617, Valid Acc: 0.693878, Valid F1: 0.599167\n"
     ]
    },
    {
     "name": "stderr",
     "output_type": "stream",
     "text": [
      "                                                                                          \r"
     ]
    },
    {
     "name": "stdout",
     "output_type": "stream",
     "text": [
      "Epoch 54: Train Loss: 0.012766, Train Acc: 1.000000, Train F1: 1.000000, Valid Loss: 0.601521, Valid Acc: 0.687075, Valid F1: 0.577017\n"
     ]
    },
    {
     "name": "stderr",
     "output_type": "stream",
     "text": [
      "                                                                                          \r"
     ]
    },
    {
     "name": "stdout",
     "output_type": "stream",
     "text": [
      "Epoch 55: Train Loss: 0.018965, Train Acc: 0.998299, Train F1: 0.997868, Valid Loss: 0.786289, Valid Acc: 0.680272, Valid F1: 0.574282\n"
     ]
    },
    {
     "name": "stderr",
     "output_type": "stream",
     "text": [
      "                                                                                          \r"
     ]
    },
    {
     "name": "stdout",
     "output_type": "stream",
     "text": [
      "Epoch 56: Train Loss: 0.031845, Train Acc: 0.998299, Train F1: 0.998464, Valid Loss: 0.681422, Valid Acc: 0.693878, Valid F1: 0.580667\n"
     ]
    },
    {
     "name": "stderr",
     "output_type": "stream",
     "text": [
      "                                                                                          \r"
     ]
    },
    {
     "name": "stdout",
     "output_type": "stream",
     "text": [
      "Epoch 57: Train Loss: 0.021718, Train Acc: 1.000000, Train F1: 1.000000, Valid Loss: 0.676801, Valid Acc: 0.680272, Valid F1: 0.577717\n"
     ]
    },
    {
     "name": "stderr",
     "output_type": "stream",
     "text": [
      "                                                                                          \r"
     ]
    },
    {
     "name": "stdout",
     "output_type": "stream",
     "text": [
      "Epoch 58: Train Loss: 0.036683, Train Acc: 0.994898, Train F1: 0.994828, Valid Loss: 0.622736, Valid Acc: 0.707483, Valid F1: 0.584196\n"
     ]
    },
    {
     "name": "stderr",
     "output_type": "stream",
     "text": [
      "                                                                                          \r"
     ]
    },
    {
     "name": "stdout",
     "output_type": "stream",
     "text": [
      "Epoch 59: Train Loss: 0.017785, Train Acc: 0.998299, Train F1: 0.998430, Valid Loss: 0.606776, Valid Acc: 0.693878, Valid F1: 0.569224\n"
     ]
    },
    {
     "name": "stderr",
     "output_type": "stream",
     "text": [
      "                                                                                          \r"
     ]
    },
    {
     "name": "stdout",
     "output_type": "stream",
     "text": [
      "Epoch 60: Train Loss: 0.025139, Train Acc: 0.998299, Train F1: 0.995671, Valid Loss: 0.675913, Valid Acc: 0.700680, Valid F1: 0.573706\n"
     ]
    },
    {
     "name": "stderr",
     "output_type": "stream",
     "text": [
      "                                                                                          \r"
     ]
    },
    {
     "name": "stdout",
     "output_type": "stream",
     "text": [
      "Epoch 61: Train Loss: 0.016577, Train Acc: 1.000000, Train F1: 1.000000, Valid Loss: 0.747200, Valid Acc: 0.687075, Valid F1: 0.588612\n"
     ]
    },
    {
     "name": "stderr",
     "output_type": "stream",
     "text": [
      "                                                                                          \r"
     ]
    },
    {
     "name": "stdout",
     "output_type": "stream",
     "text": [
      "Epoch 62: Train Loss: 0.031241, Train Acc: 0.996599, Train F1: 0.997129, Valid Loss: 0.623733, Valid Acc: 0.680272, Valid F1: 0.586518\n"
     ]
    },
    {
     "name": "stderr",
     "output_type": "stream",
     "text": [
      "                                                                                          \r"
     ]
    },
    {
     "name": "stdout",
     "output_type": "stream",
     "text": [
      "Epoch 63: Train Loss: 0.020775, Train Acc: 1.000000, Train F1: 1.000000, Valid Loss: 0.640051, Valid Acc: 0.707483, Valid F1: 0.599483\n"
     ]
    },
    {
     "name": "stderr",
     "output_type": "stream",
     "text": [
      "                                                                                          \r"
     ]
    },
    {
     "name": "stdout",
     "output_type": "stream",
     "text": [
      "Epoch 64: Train Loss: 0.025260, Train Acc: 0.998299, Train F1: 0.997732, Valid Loss: 0.679526, Valid Acc: 0.748299, Valid F1: 0.609763\n"
     ]
    },
    {
     "name": "stderr",
     "output_type": "stream",
     "text": [
      "                                                                                          \r"
     ]
    },
    {
     "name": "stdout",
     "output_type": "stream",
     "text": [
      "Epoch 65: Train Loss: 0.022419, Train Acc: 0.996599, Train F1: 0.997209, Valid Loss: 0.662428, Valid Acc: 0.734694, Valid F1: 0.588466\n"
     ]
    },
    {
     "name": "stderr",
     "output_type": "stream",
     "text": [
      "                                                                                          \r"
     ]
    },
    {
     "name": "stdout",
     "output_type": "stream",
     "text": [
      "Epoch 66: Train Loss: 0.019142, Train Acc: 0.998299, Train F1: 0.998430, Valid Loss: 0.638771, Valid Acc: 0.721088, Valid F1: 0.592788\n"
     ]
    },
    {
     "name": "stderr",
     "output_type": "stream",
     "text": [
      "                                                                                          \r"
     ]
    },
    {
     "name": "stdout",
     "output_type": "stream",
     "text": [
      "Epoch 67: Train Loss: 0.020738, Train Acc: 1.000000, Train F1: 1.000000, Valid Loss: 0.569144, Valid Acc: 0.721088, Valid F1: 0.600779\n"
     ]
    },
    {
     "name": "stderr",
     "output_type": "stream",
     "text": [
      "                                                                                          \r"
     ]
    },
    {
     "name": "stdout",
     "output_type": "stream",
     "text": [
      "Epoch 68: Train Loss: 0.044720, Train Acc: 0.994898, Train F1: 0.992708, Valid Loss: 0.635314, Valid Acc: 0.727891, Valid F1: 0.609748\n"
     ]
    },
    {
     "name": "stderr",
     "output_type": "stream",
     "text": [
      "                                                                                          \r"
     ]
    },
    {
     "name": "stdout",
     "output_type": "stream",
     "text": [
      "Epoch 69: Train Loss: 0.018551, Train Acc: 0.996599, Train F1: 0.996422, Valid Loss: 0.661346, Valid Acc: 0.666667, Valid F1: 0.597949\n"
     ]
    },
    {
     "name": "stderr",
     "output_type": "stream",
     "text": [
      "                                                                                          \r"
     ]
    },
    {
     "name": "stdout",
     "output_type": "stream",
     "text": [
      "Epoch 70: Train Loss: 0.032505, Train Acc: 0.998299, Train F1: 0.995918, Valid Loss: 0.693196, Valid Acc: 0.666667, Valid F1: 0.596397\n"
     ]
    },
    {
     "name": "stderr",
     "output_type": "stream",
     "text": [
      "                                                                                          \r"
     ]
    },
    {
     "name": "stdout",
     "output_type": "stream",
     "text": [
      "Epoch 71: Train Loss: 0.025023, Train Acc: 0.998299, Train F1: 0.998430, Valid Loss: 0.659405, Valid Acc: 0.727891, Valid F1: 0.628047\n"
     ]
    },
    {
     "name": "stderr",
     "output_type": "stream",
     "text": [
      "                                                                                          \r"
     ]
    },
    {
     "name": "stdout",
     "output_type": "stream",
     "text": [
      "Epoch 72: Train Loss: 0.014370, Train Acc: 1.000000, Train F1: 1.000000, Valid Loss: 0.662370, Valid Acc: 0.721088, Valid F1: 0.616508\n"
     ]
    },
    {
     "name": "stderr",
     "output_type": "stream",
     "text": [
      "                                                                                          \r"
     ]
    },
    {
     "name": "stdout",
     "output_type": "stream",
     "text": [
      "Epoch 73: Train Loss: 0.014767, Train Acc: 1.000000, Train F1: 1.000000, Valid Loss: 0.631040, Valid Acc: 0.734694, Valid F1: 0.627710\n"
     ]
    },
    {
     "name": "stderr",
     "output_type": "stream",
     "text": [
      "                                                                                          \r"
     ]
    },
    {
     "name": "stdout",
     "output_type": "stream",
     "text": [
      "Epoch 74: Train Loss: 0.022878, Train Acc: 0.998299, Train F1: 0.998464, Valid Loss: 0.683664, Valid Acc: 0.714286, Valid F1: 0.607262\n"
     ]
    },
    {
     "name": "stderr",
     "output_type": "stream",
     "text": [
      "                                                                                          \r"
     ]
    },
    {
     "name": "stdout",
     "output_type": "stream",
     "text": [
      "Epoch 75: Train Loss: 0.027838, Train Acc: 0.996599, Train F1: 0.997403, Valid Loss: 0.675526, Valid Acc: 0.714286, Valid F1: 0.599879\n"
     ]
    },
    {
     "name": "stderr",
     "output_type": "stream",
     "text": [
      "                                                                                          \r"
     ]
    },
    {
     "name": "stdout",
     "output_type": "stream",
     "text": [
      "Epoch 76: Train Loss: 0.014492, Train Acc: 0.998299, Train F1: 0.998665, Valid Loss: 0.759026, Valid Acc: 0.673469, Valid F1: 0.562635\n"
     ]
    },
    {
     "name": "stderr",
     "output_type": "stream",
     "text": [
      "                                                                                          \r"
     ]
    },
    {
     "name": "stdout",
     "output_type": "stream",
     "text": [
      "Epoch 77: Train Loss: 0.033087, Train Acc: 0.996599, Train F1: 0.997468, Valid Loss: 0.660829, Valid Acc: 0.727891, Valid F1: 0.606714\n"
     ]
    },
    {
     "name": "stderr",
     "output_type": "stream",
     "text": [
      "                                                                                          \r"
     ]
    },
    {
     "name": "stdout",
     "output_type": "stream",
     "text": [
      "Epoch 78: Train Loss: 0.018651, Train Acc: 0.996599, Train F1: 0.996397, Valid Loss: 0.620133, Valid Acc: 0.768707, Valid F1: 0.649791\n"
     ]
    },
    {
     "name": "stderr",
     "output_type": "stream",
     "text": [
      "                                                                                          \r"
     ]
    },
    {
     "name": "stdout",
     "output_type": "stream",
     "text": [
      "Epoch 79: Train Loss: 0.029095, Train Acc: 0.996599, Train F1: 0.997188, Valid Loss: 0.563966, Valid Acc: 0.761905, Valid F1: 0.630616\n"
     ]
    },
    {
     "name": "stderr",
     "output_type": "stream",
     "text": [
      "                                                                                          \r"
     ]
    },
    {
     "name": "stdout",
     "output_type": "stream",
     "text": [
      "Epoch 80: Train Loss: 0.023314, Train Acc: 1.000000, Train F1: 1.000000, Valid Loss: 0.577631, Valid Acc: 0.761905, Valid F1: 0.640159\n"
     ]
    },
    {
     "name": "stderr",
     "output_type": "stream",
     "text": [
      "                                                                                          \r"
     ]
    },
    {
     "name": "stdout",
     "output_type": "stream",
     "text": [
      "Epoch 81: Train Loss: 0.040542, Train Acc: 0.994898, Train F1: 0.995489, Valid Loss: 0.508513, Valid Acc: 0.748299, Valid F1: 0.633533\n"
     ]
    },
    {
     "name": "stderr",
     "output_type": "stream",
     "text": [
      "                                                                                          \r"
     ]
    },
    {
     "name": "stdout",
     "output_type": "stream",
     "text": [
      "Epoch 82: Train Loss: 0.011068, Train Acc: 1.000000, Train F1: 1.000000, Valid Loss: 0.575693, Valid Acc: 0.741497, Valid F1: 0.615956\n"
     ]
    },
    {
     "name": "stderr",
     "output_type": "stream",
     "text": [
      "                                                                                          \r"
     ]
    },
    {
     "name": "stdout",
     "output_type": "stream",
     "text": [
      "Epoch 83: Train Loss: 0.023913, Train Acc: 0.998299, Train F1: 0.998430, Valid Loss: 0.604192, Valid Acc: 0.748299, Valid F1: 0.613364\n"
     ]
    },
    {
     "name": "stderr",
     "output_type": "stream",
     "text": [
      "                                                                                          \r"
     ]
    },
    {
     "name": "stdout",
     "output_type": "stream",
     "text": [
      "Epoch 84: Train Loss: 0.017219, Train Acc: 0.998299, Train F1: 0.998464, Valid Loss: 0.602247, Valid Acc: 0.748299, Valid F1: 0.623873\n"
     ]
    },
    {
     "name": "stderr",
     "output_type": "stream",
     "text": [
      "                                                                                          \r"
     ]
    },
    {
     "name": "stdout",
     "output_type": "stream",
     "text": [
      "Epoch 85: Train Loss: 0.011319, Train Acc: 1.000000, Train F1: 1.000000, Valid Loss: 0.574006, Valid Acc: 0.761905, Valid F1: 0.639524\n"
     ]
    },
    {
     "name": "stderr",
     "output_type": "stream",
     "text": [
      "                                                                                          \r"
     ]
    },
    {
     "name": "stdout",
     "output_type": "stream",
     "text": [
      "Epoch 86: Train Loss: 0.023167, Train Acc: 0.998299, Train F1: 0.997930, Valid Loss: 0.518124, Valid Acc: 0.768707, Valid F1: 0.640272\n"
     ]
    },
    {
     "name": "stderr",
     "output_type": "stream",
     "text": [
      "                                                                                          \r"
     ]
    },
    {
     "name": "stdout",
     "output_type": "stream",
     "text": [
      "Epoch 87: Train Loss: 0.012531, Train Acc: 0.998299, Train F1: 0.997930, Valid Loss: 0.588497, Valid Acc: 0.748299, Valid F1: 0.609918\n"
     ]
    },
    {
     "name": "stderr",
     "output_type": "stream",
     "text": [
      "                                                                                          \r"
     ]
    },
    {
     "name": "stdout",
     "output_type": "stream",
     "text": [
      "Epoch 88: Train Loss: 0.036236, Train Acc: 0.998299, Train F1: 0.998430, Valid Loss: 0.622434, Valid Acc: 0.734694, Valid F1: 0.620529\n"
     ]
    },
    {
     "name": "stderr",
     "output_type": "stream",
     "text": [
      "                                                                                          \r"
     ]
    },
    {
     "name": "stdout",
     "output_type": "stream",
     "text": [
      "Epoch 89: Train Loss: 0.042866, Train Acc: 0.996599, Train F1: 0.995526, Valid Loss: 0.647662, Valid Acc: 0.707483, Valid F1: 0.575705\n"
     ]
    },
    {
     "name": "stderr",
     "output_type": "stream",
     "text": [
      "                                                                                          \r"
     ]
    },
    {
     "name": "stdout",
     "output_type": "stream",
     "text": [
      "Epoch 90: Train Loss: 0.016335, Train Acc: 0.998299, Train F1: 0.998430, Valid Loss: 0.622225, Valid Acc: 0.666667, Valid F1: 0.569203\n"
     ]
    },
    {
     "name": "stderr",
     "output_type": "stream",
     "text": [
      "                                                                                          \r"
     ]
    },
    {
     "name": "stdout",
     "output_type": "stream",
     "text": [
      "Epoch 91: Train Loss: 0.052672, Train Acc: 0.994898, Train F1: 0.993805, Valid Loss: 0.602798, Valid Acc: 0.721088, Valid F1: 0.611284\n"
     ]
    },
    {
     "name": "stderr",
     "output_type": "stream",
     "text": [
      "                                                                                          \r"
     ]
    },
    {
     "name": "stdout",
     "output_type": "stream",
     "text": [
      "Epoch 92: Train Loss: 0.015616, Train Acc: 1.000000, Train F1: 1.000000, Valid Loss: 0.597145, Valid Acc: 0.687075, Valid F1: 0.593997\n"
     ]
    },
    {
     "name": "stderr",
     "output_type": "stream",
     "text": [
      "                                                                                          \r"
     ]
    },
    {
     "name": "stdout",
     "output_type": "stream",
     "text": [
      "Epoch 93: Train Loss: 0.017272, Train Acc: 1.000000, Train F1: 1.000000, Valid Loss: 0.588783, Valid Acc: 0.693878, Valid F1: 0.576154\n"
     ]
    },
    {
     "name": "stderr",
     "output_type": "stream",
     "text": [
      "                                                                                          \r"
     ]
    },
    {
     "name": "stdout",
     "output_type": "stream",
     "text": [
      "Epoch 94: Train Loss: 0.013880, Train Acc: 1.000000, Train F1: 1.000000, Valid Loss: 0.558350, Valid Acc: 0.748299, Valid F1: 0.611659\n"
     ]
    },
    {
     "name": "stderr",
     "output_type": "stream",
     "text": [
      "                                                                                          \r"
     ]
    },
    {
     "name": "stdout",
     "output_type": "stream",
     "text": [
      "Epoch 95: Train Loss: 0.010470, Train Acc: 1.000000, Train F1: 1.000000, Valid Loss: 0.582847, Valid Acc: 0.734694, Valid F1: 0.592053\n"
     ]
    },
    {
     "name": "stderr",
     "output_type": "stream",
     "text": [
      "                                                                                          \r"
     ]
    },
    {
     "name": "stdout",
     "output_type": "stream",
     "text": [
      "Epoch 96: Train Loss: 0.009965, Train Acc: 1.000000, Train F1: 1.000000, Valid Loss: 0.558789, Valid Acc: 0.714286, Valid F1: 0.571920\n"
     ]
    },
    {
     "name": "stderr",
     "output_type": "stream",
     "text": [
      "                                                                                          \r"
     ]
    },
    {
     "name": "stdout",
     "output_type": "stream",
     "text": [
      "Epoch 97: Train Loss: 0.009603, Train Acc: 1.000000, Train F1: 1.000000, Valid Loss: 0.579220, Valid Acc: 0.734694, Valid F1: 0.600376\n"
     ]
    },
    {
     "name": "stderr",
     "output_type": "stream",
     "text": [
      "                                                                                          \r"
     ]
    },
    {
     "name": "stdout",
     "output_type": "stream",
     "text": [
      "Epoch 98: Train Loss: 0.014937, Train Acc: 1.000000, Train F1: 1.000000, Valid Loss: 0.595291, Valid Acc: 0.707483, Valid F1: 0.585459\n"
     ]
    },
    {
     "name": "stderr",
     "output_type": "stream",
     "text": [
      "                                                                                          \r"
     ]
    },
    {
     "name": "stdout",
     "output_type": "stream",
     "text": [
      "Epoch 99: Train Loss: 0.009683, Train Acc: 1.000000, Train F1: 1.000000, Valid Loss: 0.584909, Valid Acc: 0.707483, Valid F1: 0.588065\n"
     ]
    },
    {
     "name": "stderr",
     "output_type": "stream",
     "text": [
      "                                                                                          \r"
     ]
    },
    {
     "name": "stdout",
     "output_type": "stream",
     "text": [
      "Epoch 100: Train Loss: 0.013173, Train Acc: 1.000000, Train F1: 1.000000, Valid Loss: 0.579150, Valid Acc: 0.741497, Valid F1: 0.608218\n"
     ]
    },
    {
     "name": "stderr",
     "output_type": "stream",
     "text": [
      "                                                                                           \r"
     ]
    },
    {
     "name": "stdout",
     "output_type": "stream",
     "text": [
      "Epoch 101: Train Loss: 0.013357, Train Acc: 1.000000, Train F1: 1.000000, Valid Loss: 0.576670, Valid Acc: 0.714286, Valid F1: 0.595861\n"
     ]
    },
    {
     "name": "stderr",
     "output_type": "stream",
     "text": [
      "                                                                                           \r"
     ]
    },
    {
     "name": "stdout",
     "output_type": "stream",
     "text": [
      "Epoch 102: Train Loss: 0.012316, Train Acc: 1.000000, Train F1: 1.000000, Valid Loss: 0.651155, Valid Acc: 0.748299, Valid F1: 0.611409\n"
     ]
    },
    {
     "name": "stderr",
     "output_type": "stream",
     "text": [
      "                                                                                           \r"
     ]
    },
    {
     "name": "stdout",
     "output_type": "stream",
     "text": [
      "Epoch 103: Train Loss: 0.006869, Train Acc: 1.000000, Train F1: 1.000000, Valid Loss: 0.562782, Valid Acc: 0.755102, Valid F1: 0.624485\n"
     ]
    },
    {
     "name": "stderr",
     "output_type": "stream",
     "text": [
      "                                                                                           \r"
     ]
    },
    {
     "name": "stdout",
     "output_type": "stream",
     "text": [
      "Epoch 104: Train Loss: 0.041765, Train Acc: 0.996599, Train F1: 0.997009, Valid Loss: 0.574817, Valid Acc: 0.755102, Valid F1: 0.605960\n"
     ]
    },
    {
     "name": "stderr",
     "output_type": "stream",
     "text": [
      "                                                                                           \r"
     ]
    },
    {
     "name": "stdout",
     "output_type": "stream",
     "text": [
      "Epoch 105: Train Loss: 0.018528, Train Acc: 0.998299, Train F1: 0.997658, Valid Loss: 0.579731, Valid Acc: 0.761905, Valid F1: 0.654242\n"
     ]
    },
    {
     "name": "stderr",
     "output_type": "stream",
     "text": [
      "                                                                                           \r"
     ]
    },
    {
     "name": "stdout",
     "output_type": "stream",
     "text": [
      "Epoch 106: Train Loss: 0.013662, Train Acc: 1.000000, Train F1: 1.000000, Valid Loss: 0.682599, Valid Acc: 0.700680, Valid F1: 0.639164\n"
     ]
    },
    {
     "name": "stderr",
     "output_type": "stream",
     "text": [
      "                                                                                           \r"
     ]
    },
    {
     "name": "stdout",
     "output_type": "stream",
     "text": [
      "Epoch 107: Train Loss: 0.012353, Train Acc: 1.000000, Train F1: 1.000000, Valid Loss: 0.749979, Valid Acc: 0.693878, Valid F1: 0.613767\n"
     ]
    },
    {
     "name": "stderr",
     "output_type": "stream",
     "text": [
      "                                                                                           \r"
     ]
    },
    {
     "name": "stdout",
     "output_type": "stream",
     "text": [
      "Epoch 108: Train Loss: 0.014944, Train Acc: 1.000000, Train F1: 1.000000, Valid Loss: 0.932424, Valid Acc: 0.687075, Valid F1: 0.613482\n"
     ]
    },
    {
     "name": "stderr",
     "output_type": "stream",
     "text": [
      "                                                                                           \r"
     ]
    },
    {
     "name": "stdout",
     "output_type": "stream",
     "text": [
      "Epoch 109: Train Loss: 0.010874, Train Acc: 1.000000, Train F1: 1.000000, Valid Loss: 0.820164, Valid Acc: 0.700680, Valid F1: 0.587300\n"
     ]
    },
    {
     "name": "stderr",
     "output_type": "stream",
     "text": [
      "                                                                                           \r"
     ]
    },
    {
     "name": "stdout",
     "output_type": "stream",
     "text": [
      "Epoch 110: Train Loss: 0.023308, Train Acc: 0.996599, Train F1: 0.996960, Valid Loss: 0.876925, Valid Acc: 0.714286, Valid F1: 0.623102\n"
     ]
    },
    {
     "name": "stderr",
     "output_type": "stream",
     "text": [
      "                                                                                           \r"
     ]
    },
    {
     "name": "stdout",
     "output_type": "stream",
     "text": [
      "Epoch 111: Train Loss: 0.007502, Train Acc: 1.000000, Train F1: 1.000000, Valid Loss: 0.900176, Valid Acc: 0.727891, Valid F1: 0.581524\n"
     ]
    },
    {
     "name": "stderr",
     "output_type": "stream",
     "text": [
      "                                                                                           \r"
     ]
    },
    {
     "name": "stdout",
     "output_type": "stream",
     "text": [
      "Epoch 112: Train Loss: 0.010515, Train Acc: 1.000000, Train F1: 1.000000, Valid Loss: 0.767353, Valid Acc: 0.700680, Valid F1: 0.603441\n"
     ]
    },
    {
     "name": "stderr",
     "output_type": "stream",
     "text": [
      "                                                                                           \r"
     ]
    },
    {
     "name": "stdout",
     "output_type": "stream",
     "text": [
      "Epoch 113: Train Loss: 0.008361, Train Acc: 1.000000, Train F1: 1.000000, Valid Loss: 0.703755, Valid Acc: 0.700680, Valid F1: 0.617037\n"
     ]
    },
    {
     "name": "stderr",
     "output_type": "stream",
     "text": [
      "                                                                                           \r"
     ]
    },
    {
     "name": "stdout",
     "output_type": "stream",
     "text": [
      "Epoch 114: Train Loss: 0.010763, Train Acc: 1.000000, Train F1: 1.000000, Valid Loss: 0.721507, Valid Acc: 0.687075, Valid F1: 0.609001\n"
     ]
    },
    {
     "name": "stderr",
     "output_type": "stream",
     "text": [
      "                                                                                           \r"
     ]
    },
    {
     "name": "stdout",
     "output_type": "stream",
     "text": [
      "Epoch 115: Train Loss: 0.027640, Train Acc: 0.998299, Train F1: 0.998689, Valid Loss: 0.644424, Valid Acc: 0.700680, Valid F1: 0.623172\n"
     ]
    },
    {
     "name": "stderr",
     "output_type": "stream",
     "text": [
      "                                                                                           \r"
     ]
    },
    {
     "name": "stdout",
     "output_type": "stream",
     "text": [
      "Epoch 116: Train Loss: 0.010551, Train Acc: 0.998299, Train F1: 0.998464, Valid Loss: 0.698685, Valid Acc: 0.700680, Valid F1: 0.604919\n"
     ]
    },
    {
     "name": "stderr",
     "output_type": "stream",
     "text": [
      "                                                                                           \r"
     ]
    },
    {
     "name": "stdout",
     "output_type": "stream",
     "text": [
      "Epoch 117: Train Loss: 0.009671, Train Acc: 0.998299, Train F1: 0.998665, Valid Loss: 0.693679, Valid Acc: 0.714286, Valid F1: 0.617007\n"
     ]
    },
    {
     "name": "stderr",
     "output_type": "stream",
     "text": [
      "                                                                                           \r"
     ]
    },
    {
     "name": "stdout",
     "output_type": "stream",
     "text": [
      "Epoch 118: Train Loss: 0.025912, Train Acc: 0.998299, Train F1: 0.998689, Valid Loss: 0.692908, Valid Acc: 0.693878, Valid F1: 0.588871\n"
     ]
    },
    {
     "name": "stderr",
     "output_type": "stream",
     "text": [
      "                                                                                           \r"
     ]
    },
    {
     "name": "stdout",
     "output_type": "stream",
     "text": [
      "Epoch 119: Train Loss: 0.028544, Train Acc: 0.996599, Train F1: 0.996249, Valid Loss: 0.737900, Valid Acc: 0.659864, Valid F1: 0.552429\n"
     ]
    },
    {
     "name": "stderr",
     "output_type": "stream",
     "text": [
      "                                                                                           \r"
     ]
    },
    {
     "name": "stdout",
     "output_type": "stream",
     "text": [
      "Epoch 120: Train Loss: 0.010460, Train Acc: 1.000000, Train F1: 1.000000, Valid Loss: 0.739312, Valid Acc: 0.659864, Valid F1: 0.544728\n"
     ]
    },
    {
     "name": "stderr",
     "output_type": "stream",
     "text": [
      "                                                                                           \r"
     ]
    },
    {
     "name": "stdout",
     "output_type": "stream",
     "text": [
      "Epoch 121: Train Loss: 0.032006, Train Acc: 0.994898, Train F1: 0.991920, Valid Loss: 0.628571, Valid Acc: 0.714286, Valid F1: 0.647832\n"
     ]
    },
    {
     "name": "stderr",
     "output_type": "stream",
     "text": [
      "                                                                                           \r"
     ]
    },
    {
     "name": "stdout",
     "output_type": "stream",
     "text": [
      "Epoch 122: Train Loss: 0.013767, Train Acc: 1.000000, Train F1: 1.000000, Valid Loss: 0.723735, Valid Acc: 0.727891, Valid F1: 0.638287\n"
     ]
    },
    {
     "name": "stderr",
     "output_type": "stream",
     "text": [
      "                                                                                           \r"
     ]
    },
    {
     "name": "stdout",
     "output_type": "stream",
     "text": [
      "Epoch 123: Train Loss: 0.017962, Train Acc: 0.998299, Train F1: 0.998464, Valid Loss: 0.589069, Valid Acc: 0.761905, Valid F1: 0.672669\n"
     ]
    },
    {
     "name": "stderr",
     "output_type": "stream",
     "text": [
      "                                                                                           \r"
     ]
    },
    {
     "name": "stdout",
     "output_type": "stream",
     "text": [
      "Epoch 124: Train Loss: 0.012084, Train Acc: 1.000000, Train F1: 1.000000, Valid Loss: 0.636855, Valid Acc: 0.782313, Valid F1: 0.717473\n"
     ]
    },
    {
     "name": "stderr",
     "output_type": "stream",
     "text": [
      "                                                                                           \r"
     ]
    },
    {
     "name": "stdout",
     "output_type": "stream",
     "text": [
      "Epoch 125: Train Loss: 0.009091, Train Acc: 0.998299, Train F1: 0.998779, Valid Loss: 0.587314, Valid Acc: 0.775510, Valid F1: 0.714129\n"
     ]
    },
    {
     "name": "stderr",
     "output_type": "stream",
     "text": [
      "                                                                                           \r"
     ]
    },
    {
     "name": "stdout",
     "output_type": "stream",
     "text": [
      "Epoch 126: Train Loss: 0.009680, Train Acc: 1.000000, Train F1: 1.000000, Valid Loss: 0.576314, Valid Acc: 0.789116, Valid F1: 0.727266\n"
     ]
    },
    {
     "name": "stderr",
     "output_type": "stream",
     "text": [
      "                                                                                           \r"
     ]
    },
    {
     "name": "stdout",
     "output_type": "stream",
     "text": [
      "Epoch 127: Train Loss: 0.005872, Train Acc: 1.000000, Train F1: 1.000000, Valid Loss: 0.606827, Valid Acc: 0.789116, Valid F1: 0.726204\n"
     ]
    },
    {
     "name": "stderr",
     "output_type": "stream",
     "text": [
      "                                                                                           \r"
     ]
    },
    {
     "name": "stdout",
     "output_type": "stream",
     "text": [
      "Epoch 128: Train Loss: 0.006526, Train Acc: 1.000000, Train F1: 1.000000, Valid Loss: 0.627489, Valid Acc: 0.789116, Valid F1: 0.726204\n"
     ]
    },
    {
     "name": "stderr",
     "output_type": "stream",
     "text": [
      "                                                                                           \r"
     ]
    },
    {
     "name": "stdout",
     "output_type": "stream",
     "text": [
      "Epoch 129: Train Loss: 0.009963, Train Acc: 1.000000, Train F1: 1.000000, Valid Loss: 0.600915, Valid Acc: 0.782313, Valid F1: 0.719354\n"
     ]
    },
    {
     "name": "stderr",
     "output_type": "stream",
     "text": [
      "                                                                                           \r"
     ]
    },
    {
     "name": "stdout",
     "output_type": "stream",
     "text": [
      "Epoch 130: Train Loss: 0.003763, Train Acc: 1.000000, Train F1: 1.000000, Valid Loss: 0.554290, Valid Acc: 0.775510, Valid F1: 0.715274\n"
     ]
    },
    {
     "name": "stderr",
     "output_type": "stream",
     "text": [
      "                                                                                           \r"
     ]
    },
    {
     "name": "stdout",
     "output_type": "stream",
     "text": [
      "Epoch 131: Train Loss: 0.004201, Train Acc: 1.000000, Train F1: 1.000000, Valid Loss: 0.653557, Valid Acc: 0.782313, Valid F1: 0.732480\n"
     ]
    },
    {
     "name": "stderr",
     "output_type": "stream",
     "text": [
      "                                                                                           \r"
     ]
    },
    {
     "name": "stdout",
     "output_type": "stream",
     "text": [
      "Epoch 132: Train Loss: 0.003463, Train Acc: 1.000000, Train F1: 1.000000, Valid Loss: 0.584472, Valid Acc: 0.789116, Valid F1: 0.725913\n"
     ]
    },
    {
     "name": "stderr",
     "output_type": "stream",
     "text": [
      "                                                                                           \r"
     ]
    },
    {
     "name": "stdout",
     "output_type": "stream",
     "text": [
      "Epoch 133: Train Loss: 0.003467, Train Acc: 1.000000, Train F1: 1.000000, Valid Loss: 0.627098, Valid Acc: 0.789116, Valid F1: 0.725913\n"
     ]
    },
    {
     "name": "stderr",
     "output_type": "stream",
     "text": [
      "                                                                                           \r"
     ]
    },
    {
     "name": "stdout",
     "output_type": "stream",
     "text": [
      "Epoch 134: Train Loss: 0.010083, Train Acc: 1.000000, Train F1: 1.000000, Valid Loss: 0.625919, Valid Acc: 0.802721, Valid F1: 0.730923\n"
     ]
    },
    {
     "name": "stderr",
     "output_type": "stream",
     "text": [
      "                                                                                           \r"
     ]
    },
    {
     "name": "stdout",
     "output_type": "stream",
     "text": [
      "Epoch 135: Train Loss: 0.002534, Train Acc: 1.000000, Train F1: 1.000000, Valid Loss: 0.592288, Valid Acc: 0.789116, Valid F1: 0.721707\n"
     ]
    },
    {
     "name": "stderr",
     "output_type": "stream",
     "text": [
      "                                                                                           \r"
     ]
    },
    {
     "name": "stdout",
     "output_type": "stream",
     "text": [
      "Epoch 136: Train Loss: 0.004811, Train Acc: 1.000000, Train F1: 1.000000, Valid Loss: 0.554224, Valid Acc: 0.775510, Valid F1: 0.698920\n"
     ]
    },
    {
     "name": "stderr",
     "output_type": "stream",
     "text": [
      "                                                                                           \r"
     ]
    },
    {
     "name": "stdout",
     "output_type": "stream",
     "text": [
      "Epoch 137: Train Loss: 0.008251, Train Acc: 1.000000, Train F1: 1.000000, Valid Loss: 0.587033, Valid Acc: 0.782313, Valid F1: 0.712526\n"
     ]
    },
    {
     "name": "stderr",
     "output_type": "stream",
     "text": [
      "                                                                                           \r"
     ]
    },
    {
     "name": "stdout",
     "output_type": "stream",
     "text": [
      "Epoch 138: Train Loss: 0.005247, Train Acc: 1.000000, Train F1: 1.000000, Valid Loss: 0.543714, Valid Acc: 0.768707, Valid F1: 0.689686\n"
     ]
    },
    {
     "name": "stderr",
     "output_type": "stream",
     "text": [
      "                                                                                           \r"
     ]
    },
    {
     "name": "stdout",
     "output_type": "stream",
     "text": [
      "Epoch 139: Train Loss: 0.006373, Train Acc: 1.000000, Train F1: 1.000000, Valid Loss: 0.587904, Valid Acc: 0.775510, Valid F1: 0.684668\n"
     ]
    },
    {
     "name": "stderr",
     "output_type": "stream",
     "text": [
      "                                                                                           \r"
     ]
    },
    {
     "name": "stdout",
     "output_type": "stream",
     "text": [
      "Epoch 140: Train Loss: 0.006599, Train Acc: 1.000000, Train F1: 1.000000, Valid Loss: 0.612475, Valid Acc: 0.741497, Valid F1: 0.666115\n"
     ]
    },
    {
     "name": "stderr",
     "output_type": "stream",
     "text": [
      "                                                                                           \r"
     ]
    },
    {
     "name": "stdout",
     "output_type": "stream",
     "text": [
      "Epoch 141: Train Loss: 0.004444, Train Acc: 1.000000, Train F1: 1.000000, Valid Loss: 0.589302, Valid Acc: 0.768707, Valid F1: 0.703755\n"
     ]
    },
    {
     "name": "stderr",
     "output_type": "stream",
     "text": [
      "                                                                                           \r"
     ]
    },
    {
     "name": "stdout",
     "output_type": "stream",
     "text": [
      "Epoch 142: Train Loss: 0.018588, Train Acc: 1.000000, Train F1: 1.000000, Valid Loss: 0.584778, Valid Acc: 0.768707, Valid F1: 0.703755\n"
     ]
    },
    {
     "name": "stderr",
     "output_type": "stream",
     "text": [
      "                                                                                           \r"
     ]
    },
    {
     "name": "stdout",
     "output_type": "stream",
     "text": [
      "Epoch 143: Train Loss: 0.044175, Train Acc: 0.994898, Train F1: 0.994676, Valid Loss: 0.601416, Valid Acc: 0.755102, Valid F1: 0.686709\n"
     ]
    },
    {
     "name": "stderr",
     "output_type": "stream",
     "text": [
      "                                                                                           \r"
     ]
    },
    {
     "name": "stdout",
     "output_type": "stream",
     "text": [
      "Epoch 144: Train Loss: 0.007129, Train Acc: 1.000000, Train F1: 1.000000, Valid Loss: 0.668337, Valid Acc: 0.707483, Valid F1: 0.634831\n"
     ]
    },
    {
     "name": "stderr",
     "output_type": "stream",
     "text": [
      "                                                                                           \r"
     ]
    },
    {
     "name": "stdout",
     "output_type": "stream",
     "text": [
      "Epoch 145: Train Loss: 0.024689, Train Acc: 0.994898, Train F1: 0.994626, Valid Loss: 0.622662, Valid Acc: 0.734694, Valid F1: 0.672803\n"
     ]
    },
    {
     "name": "stderr",
     "output_type": "stream",
     "text": [
      "                                                                                           \r"
     ]
    },
    {
     "name": "stdout",
     "output_type": "stream",
     "text": [
      "Epoch 146: Train Loss: 0.012706, Train Acc: 1.000000, Train F1: 1.000000, Valid Loss: 0.628305, Valid Acc: 0.748299, Valid F1: 0.696730\n"
     ]
    },
    {
     "name": "stderr",
     "output_type": "stream",
     "text": [
      "                                                                                           \r"
     ]
    },
    {
     "name": "stdout",
     "output_type": "stream",
     "text": [
      "Epoch 147: Train Loss: 0.013915, Train Acc: 1.000000, Train F1: 1.000000, Valid Loss: 0.564748, Valid Acc: 0.734694, Valid F1: 0.685216\n"
     ]
    },
    {
     "name": "stderr",
     "output_type": "stream",
     "text": [
      "                                                                                           \r"
     ]
    },
    {
     "name": "stdout",
     "output_type": "stream",
     "text": [
      "Epoch 148: Train Loss: 0.008191, Train Acc: 1.000000, Train F1: 1.000000, Valid Loss: 0.649300, Valid Acc: 0.734694, Valid F1: 0.675419\n"
     ]
    },
    {
     "name": "stderr",
     "output_type": "stream",
     "text": [
      "                                                                                           \r"
     ]
    },
    {
     "name": "stdout",
     "output_type": "stream",
     "text": [
      "Epoch 149: Train Loss: 0.006732, Train Acc: 1.000000, Train F1: 1.000000, Valid Loss: 0.638572, Valid Acc: 0.707483, Valid F1: 0.621998\n"
     ]
    },
    {
     "name": "stderr",
     "output_type": "stream",
     "text": [
      "                                                                                           \r"
     ]
    },
    {
     "name": "stdout",
     "output_type": "stream",
     "text": [
      "Epoch 150: Train Loss: 0.009781, Train Acc: 1.000000, Train F1: 1.000000, Valid Loss: 0.651822, Valid Acc: 0.700680, Valid F1: 0.613528\n"
     ]
    },
    {
     "name": "stderr",
     "output_type": "stream",
     "text": [
      "                                                                                           \r"
     ]
    },
    {
     "name": "stdout",
     "output_type": "stream",
     "text": [
      "Epoch 151: Train Loss: 0.015621, Train Acc: 0.998299, Train F1: 0.998689, Valid Loss: 0.696265, Valid Acc: 0.693878, Valid F1: 0.631869\n"
     ]
    },
    {
     "name": "stderr",
     "output_type": "stream",
     "text": [
      "                                                                                           \r"
     ]
    },
    {
     "name": "stdout",
     "output_type": "stream",
     "text": [
      "Epoch 152: Train Loss: 0.018597, Train Acc: 0.996599, Train F1: 0.997009, Valid Loss: 0.858363, Valid Acc: 0.721088, Valid F1: 0.602991\n"
     ]
    },
    {
     "name": "stderr",
     "output_type": "stream",
     "text": [
      "                                                                                           \r"
     ]
    },
    {
     "name": "stdout",
     "output_type": "stream",
     "text": [
      "Epoch 153: Train Loss: 0.027599, Train Acc: 0.996599, Train F1: 0.994336, Valid Loss: 0.589760, Valid Acc: 0.748299, Valid F1: 0.633801\n"
     ]
    },
    {
     "name": "stderr",
     "output_type": "stream",
     "text": [
      "                                                                                           \r"
     ]
    },
    {
     "name": "stdout",
     "output_type": "stream",
     "text": [
      "Epoch 154: Train Loss: 0.028037, Train Acc: 0.996599, Train F1: 0.996894, Valid Loss: 0.595209, Valid Acc: 0.727891, Valid F1: 0.619754\n"
     ]
    },
    {
     "name": "stderr",
     "output_type": "stream",
     "text": [
      "                                                                                           \r"
     ]
    },
    {
     "name": "stdout",
     "output_type": "stream",
     "text": [
      "Epoch 155: Train Loss: 0.040271, Train Acc: 0.993197, Train F1: 0.993131, Valid Loss: 0.581416, Valid Acc: 0.727891, Valid F1: 0.595910\n"
     ]
    },
    {
     "name": "stderr",
     "output_type": "stream",
     "text": [
      "                                                                                           \r"
     ]
    },
    {
     "name": "stdout",
     "output_type": "stream",
     "text": [
      "Epoch 156: Train Loss: 0.073896, Train Acc: 0.989796, Train F1: 0.988992, Valid Loss: 0.733047, Valid Acc: 0.646259, Valid F1: 0.569997\n"
     ]
    },
    {
     "name": "stderr",
     "output_type": "stream",
     "text": [
      "                                                                                           \r"
     ]
    },
    {
     "name": "stdout",
     "output_type": "stream",
     "text": [
      "Epoch 157: Train Loss: 0.051254, Train Acc: 0.986395, Train F1: 0.985440, Valid Loss: 0.764133, Valid Acc: 0.659864, Valid F1: 0.537064\n"
     ]
    },
    {
     "name": "stderr",
     "output_type": "stream",
     "text": [
      "                                                                                           \r"
     ]
    },
    {
     "name": "stdout",
     "output_type": "stream",
     "text": [
      "Epoch 158: Train Loss: 0.032290, Train Acc: 0.996599, Train F1: 0.996347, Valid Loss: 0.643879, Valid Acc: 0.741497, Valid F1: 0.657106\n"
     ]
    },
    {
     "name": "stderr",
     "output_type": "stream",
     "text": [
      "                                                                                           \r"
     ]
    },
    {
     "name": "stdout",
     "output_type": "stream",
     "text": [
      "Epoch 159: Train Loss: 0.019781, Train Acc: 1.000000, Train F1: 1.000000, Valid Loss: 0.611127, Valid Acc: 0.721088, Valid F1: 0.573826\n"
     ]
    },
    {
     "name": "stderr",
     "output_type": "stream",
     "text": [
      "                                                                                           \r"
     ]
    },
    {
     "name": "stdout",
     "output_type": "stream",
     "text": [
      "Epoch 160: Train Loss: 0.057052, Train Acc: 0.989796, Train F1: 0.987190, Valid Loss: 0.597134, Valid Acc: 0.707483, Valid F1: 0.627776\n"
     ]
    },
    {
     "name": "stderr",
     "output_type": "stream",
     "text": [
      "                                                                                           \r"
     ]
    },
    {
     "name": "stdout",
     "output_type": "stream",
     "text": [
      "Epoch 161: Train Loss: 0.023896, Train Acc: 0.996599, Train F1: 0.994608, Valid Loss: 1.817862, Valid Acc: 0.517007, Valid F1: 0.530749\n"
     ]
    },
    {
     "name": "stderr",
     "output_type": "stream",
     "text": [
      "                                                                                           \r"
     ]
    },
    {
     "name": "stdout",
     "output_type": "stream",
     "text": [
      "Epoch 162: Train Loss: 0.041392, Train Acc: 0.991497, Train F1: 0.992167, Valid Loss: 0.697585, Valid Acc: 0.673469, Valid F1: 0.597400\n"
     ]
    },
    {
     "name": "stderr",
     "output_type": "stream",
     "text": [
      "                                                                                           \r"
     ]
    },
    {
     "name": "stdout",
     "output_type": "stream",
     "text": [
      "Epoch 163: Train Loss: 0.017233, Train Acc: 0.998299, Train F1: 0.995671, Valid Loss: 0.658212, Valid Acc: 0.693878, Valid F1: 0.601622\n"
     ]
    },
    {
     "name": "stderr",
     "output_type": "stream",
     "text": [
      "                                                                                           \r"
     ]
    },
    {
     "name": "stdout",
     "output_type": "stream",
     "text": [
      "Epoch 164: Train Loss: 0.018604, Train Acc: 0.996599, Train F1: 0.997494, Valid Loss: 0.639015, Valid Acc: 0.700680, Valid F1: 0.607791\n"
     ]
    },
    {
     "name": "stderr",
     "output_type": "stream",
     "text": [
      "                                                                                           \r"
     ]
    },
    {
     "name": "stdout",
     "output_type": "stream",
     "text": [
      "Epoch 165: Train Loss: 0.012431, Train Acc: 0.998299, Train F1: 0.998430, Valid Loss: 0.688051, Valid Acc: 0.659864, Valid F1: 0.580004\n"
     ]
    },
    {
     "name": "stderr",
     "output_type": "stream",
     "text": [
      "                                                                                           \r"
     ]
    },
    {
     "name": "stdout",
     "output_type": "stream",
     "text": [
      "Epoch 166: Train Loss: 0.011728, Train Acc: 1.000000, Train F1: 1.000000, Valid Loss: 0.701943, Valid Acc: 0.714286, Valid F1: 0.648035\n"
     ]
    },
    {
     "name": "stderr",
     "output_type": "stream",
     "text": [
      "                                                                                           \r"
     ]
    },
    {
     "name": "stdout",
     "output_type": "stream",
     "text": [
      "Epoch 167: Train Loss: 0.006240, Train Acc: 1.000000, Train F1: 1.000000, Valid Loss: 0.645099, Valid Acc: 0.707483, Valid F1: 0.634164\n"
     ]
    },
    {
     "name": "stderr",
     "output_type": "stream",
     "text": [
      "                                                                                           \r"
     ]
    },
    {
     "name": "stdout",
     "output_type": "stream",
     "text": [
      "Epoch 168: Train Loss: 0.007185, Train Acc: 0.998299, Train F1: 0.995671, Valid Loss: 0.686541, Valid Acc: 0.687075, Valid F1: 0.596304\n"
     ]
    },
    {
     "name": "stderr",
     "output_type": "stream",
     "text": [
      "                                                                                           \r"
     ]
    },
    {
     "name": "stdout",
     "output_type": "stream",
     "text": [
      "Epoch 169: Train Loss: 0.006631, Train Acc: 1.000000, Train F1: 1.000000, Valid Loss: 0.675200, Valid Acc: 0.687075, Valid F1: 0.614866\n"
     ]
    },
    {
     "name": "stderr",
     "output_type": "stream",
     "text": [
      "                                                                                           \r"
     ]
    },
    {
     "name": "stdout",
     "output_type": "stream",
     "text": [
      "Epoch 170: Train Loss: 0.034347, Train Acc: 0.994898, Train F1: 0.994367, Valid Loss: 0.625703, Valid Acc: 0.721088, Valid F1: 0.626832\n"
     ]
    },
    {
     "name": "stderr",
     "output_type": "stream",
     "text": [
      "                                                                                           \r"
     ]
    },
    {
     "name": "stdout",
     "output_type": "stream",
     "text": [
      "Epoch 171: Train Loss: 0.016162, Train Acc: 0.998299, Train F1: 0.998779, Valid Loss: 0.805690, Valid Acc: 0.632653, Valid F1: 0.500536\n"
     ]
    },
    {
     "name": "stderr",
     "output_type": "stream",
     "text": [
      "                                                                                           \r"
     ]
    },
    {
     "name": "stdout",
     "output_type": "stream",
     "text": [
      "Epoch 172: Train Loss: 0.026527, Train Acc: 0.993197, Train F1: 0.994576, Valid Loss: 0.736648, Valid Acc: 0.666667, Valid F1: 0.527282\n"
     ]
    },
    {
     "name": "stderr",
     "output_type": "stream",
     "text": [
      "                                                                                           \r"
     ]
    },
    {
     "name": "stdout",
     "output_type": "stream",
     "text": [
      "Epoch 173: Train Loss: 0.010584, Train Acc: 1.000000, Train F1: 1.000000, Valid Loss: 0.641805, Valid Acc: 0.673469, Valid F1: 0.542113\n"
     ]
    },
    {
     "name": "stderr",
     "output_type": "stream",
     "text": [
      "                                                                                           \r"
     ]
    },
    {
     "name": "stdout",
     "output_type": "stream",
     "text": [
      "Epoch 174: Train Loss: 0.021737, Train Acc: 0.994898, Train F1: 0.992879, Valid Loss: 0.771060, Valid Acc: 0.714286, Valid F1: 0.627654\n"
     ]
    },
    {
     "name": "stderr",
     "output_type": "stream",
     "text": [
      "                                                                                           \r"
     ]
    },
    {
     "name": "stdout",
     "output_type": "stream",
     "text": [
      "Epoch 175: Train Loss: 0.006984, Train Acc: 1.000000, Train F1: 1.000000, Valid Loss: 0.886935, Valid Acc: 0.693878, Valid F1: 0.550548\n"
     ]
    },
    {
     "name": "stderr",
     "output_type": "stream",
     "text": [
      "                                                                                           \r"
     ]
    },
    {
     "name": "stdout",
     "output_type": "stream",
     "text": [
      "Epoch 176: Train Loss: 0.018863, Train Acc: 0.998299, Train F1: 0.997930, Valid Loss: 0.687390, Valid Acc: 0.680272, Valid F1: 0.543882\n"
     ]
    },
    {
     "name": "stderr",
     "output_type": "stream",
     "text": [
      "                                                                                           \r"
     ]
    },
    {
     "name": "stdout",
     "output_type": "stream",
     "text": [
      "Epoch 177: Train Loss: 0.005548, Train Acc: 1.000000, Train F1: 1.000000, Valid Loss: 0.795642, Valid Acc: 0.680272, Valid F1: 0.600842\n"
     ]
    },
    {
     "name": "stderr",
     "output_type": "stream",
     "text": [
      "                                                                                           \r"
     ]
    },
    {
     "name": "stdout",
     "output_type": "stream",
     "text": [
      "Epoch 178: Train Loss: 0.009756, Train Acc: 0.998299, Train F1: 0.997868, Valid Loss: 0.807762, Valid Acc: 0.693878, Valid F1: 0.563816\n"
     ]
    },
    {
     "name": "stderr",
     "output_type": "stream",
     "text": [
      "                                                                                           \r"
     ]
    },
    {
     "name": "stdout",
     "output_type": "stream",
     "text": [
      "Epoch 179: Train Loss: 0.012897, Train Acc: 1.000000, Train F1: 1.000000, Valid Loss: 0.755485, Valid Acc: 0.687075, Valid F1: 0.614386\n"
     ]
    },
    {
     "name": "stderr",
     "output_type": "stream",
     "text": [
      "                                                                                           \r"
     ]
    },
    {
     "name": "stdout",
     "output_type": "stream",
     "text": [
      "Epoch 180: Train Loss: 0.006601, Train Acc: 0.998299, Train F1: 0.997930, Valid Loss: 0.682305, Valid Acc: 0.693878, Valid F1: 0.558941\n"
     ]
    },
    {
     "name": "stderr",
     "output_type": "stream",
     "text": [
      "                                                                                           \r"
     ]
    },
    {
     "name": "stdout",
     "output_type": "stream",
     "text": [
      "Epoch 181: Train Loss: 0.005224, Train Acc: 1.000000, Train F1: 1.000000, Valid Loss: 0.664069, Valid Acc: 0.659864, Valid F1: 0.526099\n"
     ]
    },
    {
     "name": "stderr",
     "output_type": "stream",
     "text": [
      "                                                                                           \r"
     ]
    },
    {
     "name": "stdout",
     "output_type": "stream",
     "text": [
      "Epoch 182: Train Loss: 0.003991, Train Acc: 1.000000, Train F1: 1.000000, Valid Loss: 0.721033, Valid Acc: 0.680272, Valid F1: 0.551806\n"
     ]
    },
    {
     "name": "stderr",
     "output_type": "stream",
     "text": [
      "                                                                                           \r"
     ]
    },
    {
     "name": "stdout",
     "output_type": "stream",
     "text": [
      "Epoch 183: Train Loss: 0.004931, Train Acc: 1.000000, Train F1: 1.000000, Valid Loss: 0.660757, Valid Acc: 0.680272, Valid F1: 0.551834\n"
     ]
    },
    {
     "name": "stderr",
     "output_type": "stream",
     "text": [
      "                                                                                           \r"
     ]
    },
    {
     "name": "stdout",
     "output_type": "stream",
     "text": [
      "Epoch 184: Train Loss: 0.006911, Train Acc: 1.000000, Train F1: 1.000000, Valid Loss: 0.689598, Valid Acc: 0.673469, Valid F1: 0.544959\n"
     ]
    },
    {
     "name": "stderr",
     "output_type": "stream",
     "text": [
      "                                                                                           \r"
     ]
    },
    {
     "name": "stdout",
     "output_type": "stream",
     "text": [
      "Epoch 185: Train Loss: 0.014943, Train Acc: 0.998299, Train F1: 0.998689, Valid Loss: 0.604687, Valid Acc: 0.700680, Valid F1: 0.553910\n"
     ]
    },
    {
     "name": "stderr",
     "output_type": "stream",
     "text": [
      "                                                                                           \r"
     ]
    },
    {
     "name": "stdout",
     "output_type": "stream",
     "text": [
      "Epoch 186: Train Loss: 0.003487, Train Acc: 1.000000, Train F1: 1.000000, Valid Loss: 0.617923, Valid Acc: 0.659864, Valid F1: 0.510384\n"
     ]
    },
    {
     "name": "stderr",
     "output_type": "stream",
     "text": [
      "                                                                                           \r"
     ]
    },
    {
     "name": "stdout",
     "output_type": "stream",
     "text": [
      "Epoch 187: Train Loss: 0.007883, Train Acc: 0.998299, Train F1: 0.998689, Valid Loss: 0.654735, Valid Acc: 0.673469, Valid F1: 0.520888\n"
     ]
    },
    {
     "name": "stderr",
     "output_type": "stream",
     "text": [
      "                                                                                           \r"
     ]
    },
    {
     "name": "stdout",
     "output_type": "stream",
     "text": [
      "Epoch 188: Train Loss: 0.007090, Train Acc: 1.000000, Train F1: 1.000000, Valid Loss: 0.634934, Valid Acc: 0.734694, Valid F1: 0.641053\n"
     ]
    },
    {
     "name": "stderr",
     "output_type": "stream",
     "text": [
      "                                                                                           \r"
     ]
    },
    {
     "name": "stdout",
     "output_type": "stream",
     "text": [
      "Epoch 189: Train Loss: 0.003242, Train Acc: 1.000000, Train F1: 1.000000, Valid Loss: 0.626539, Valid Acc: 0.714286, Valid F1: 0.617986\n"
     ]
    },
    {
     "name": "stderr",
     "output_type": "stream",
     "text": [
      "                                                                                           \r"
     ]
    },
    {
     "name": "stdout",
     "output_type": "stream",
     "text": [
      "Epoch 190: Train Loss: 0.004219, Train Acc: 1.000000, Train F1: 1.000000, Valid Loss: 0.622657, Valid Acc: 0.700680, Valid F1: 0.601529\n"
     ]
    },
    {
     "name": "stderr",
     "output_type": "stream",
     "text": [
      "                                                                                           \r"
     ]
    },
    {
     "name": "stdout",
     "output_type": "stream",
     "text": [
      "Epoch 191: Train Loss: 0.002786, Train Acc: 1.000000, Train F1: 1.000000, Valid Loss: 0.630513, Valid Acc: 0.707483, Valid F1: 0.619474\n"
     ]
    },
    {
     "name": "stderr",
     "output_type": "stream",
     "text": [
      "                                                                                           \r"
     ]
    },
    {
     "name": "stdout",
     "output_type": "stream",
     "text": [
      "Epoch 192: Train Loss: 0.005896, Train Acc: 1.000000, Train F1: 1.000000, Valid Loss: 0.623049, Valid Acc: 0.707483, Valid F1: 0.617316\n"
     ]
    },
    {
     "name": "stderr",
     "output_type": "stream",
     "text": [
      "                                                                                           \r"
     ]
    },
    {
     "name": "stdout",
     "output_type": "stream",
     "text": [
      "Epoch 193: Train Loss: 0.005544, Train Acc: 1.000000, Train F1: 1.000000, Valid Loss: 0.669613, Valid Acc: 0.687075, Valid F1: 0.602630\n"
     ]
    },
    {
     "name": "stderr",
     "output_type": "stream",
     "text": [
      "                                                                                           \r"
     ]
    },
    {
     "name": "stdout",
     "output_type": "stream",
     "text": [
      "Epoch 194: Train Loss: 0.003632, Train Acc: 1.000000, Train F1: 1.000000, Valid Loss: 0.627714, Valid Acc: 0.687075, Valid F1: 0.587730\n"
     ]
    },
    {
     "name": "stderr",
     "output_type": "stream",
     "text": [
      "                                                                                           \r"
     ]
    },
    {
     "name": "stdout",
     "output_type": "stream",
     "text": [
      "Epoch 195: Train Loss: 0.004580, Train Acc: 1.000000, Train F1: 1.000000, Valid Loss: 0.679958, Valid Acc: 0.693878, Valid F1: 0.598337\n"
     ]
    },
    {
     "name": "stderr",
     "output_type": "stream",
     "text": [
      "                                                                                           \r"
     ]
    },
    {
     "name": "stdout",
     "output_type": "stream",
     "text": [
      "Epoch 196: Train Loss: 0.008238, Train Acc: 1.000000, Train F1: 1.000000, Valid Loss: 0.613540, Valid Acc: 0.673469, Valid F1: 0.582277\n"
     ]
    },
    {
     "name": "stderr",
     "output_type": "stream",
     "text": [
      "                                                                                           \r"
     ]
    },
    {
     "name": "stdout",
     "output_type": "stream",
     "text": [
      "Epoch 197: Train Loss: 0.002450, Train Acc: 1.000000, Train F1: 1.000000, Valid Loss: 0.608419, Valid Acc: 0.700680, Valid F1: 0.603965\n"
     ]
    },
    {
     "name": "stderr",
     "output_type": "stream",
     "text": [
      "                                                                                           \r"
     ]
    },
    {
     "name": "stdout",
     "output_type": "stream",
     "text": [
      "Epoch 198: Train Loss: 0.003147, Train Acc: 1.000000, Train F1: 1.000000, Valid Loss: 0.634647, Valid Acc: 0.714286, Valid F1: 0.614975\n"
     ]
    },
    {
     "name": "stderr",
     "output_type": "stream",
     "text": [
      "                                                                                           \r"
     ]
    },
    {
     "name": "stdout",
     "output_type": "stream",
     "text": [
      "Epoch 199: Train Loss: 0.003859, Train Acc: 1.000000, Train F1: 1.000000, Valid Loss: 0.659769, Valid Acc: 0.707483, Valid F1: 0.608481\n"
     ]
    },
    {
     "name": "stderr",
     "output_type": "stream",
     "text": [
      "                                                                                           \r"
     ]
    },
    {
     "name": "stdout",
     "output_type": "stream",
     "text": [
      "Epoch 200: Train Loss: 0.002839, Train Acc: 1.000000, Train F1: 1.000000, Valid Loss: 0.625377, Valid Acc: 0.707483, Valid F1: 0.601779\n"
     ]
    },
    {
     "name": "stderr",
     "output_type": "stream",
     "text": [
      "                                                                                         \r"
     ]
    },
    {
     "name": "stdout",
     "output_type": "stream",
     "text": [
      "Epoch 1: Train Loss: 0.678349, Train Acc: 0.523810, Train F1: 0.398345, Valid Loss: 0.668255, Valid Acc: 0.680272, Valid F1: 0.578290\n"
     ]
    },
    {
     "name": "stderr",
     "output_type": "stream",
     "text": [
      "                                                                                         \r"
     ]
    },
    {
     "name": "stdout",
     "output_type": "stream",
     "text": [
      "Epoch 2: Train Loss: 0.495979, Train Acc: 0.874150, Train F1: 0.821387, Valid Loss: 0.629708, Valid Acc: 0.666667, Valid F1: 0.528636\n"
     ]
    },
    {
     "name": "stderr",
     "output_type": "stream",
     "text": [
      "                                                                                         \r"
     ]
    },
    {
     "name": "stdout",
     "output_type": "stream",
     "text": [
      "Epoch 3: Train Loss: 0.370327, Train Acc: 0.937075, Train F1: 0.906888, Valid Loss: 0.687262, Valid Acc: 0.666667, Valid F1: 0.528211\n"
     ]
    },
    {
     "name": "stderr",
     "output_type": "stream",
     "text": [
      "                                                                                         \r"
     ]
    },
    {
     "name": "stdout",
     "output_type": "stream",
     "text": [
      "Epoch 4: Train Loss: 0.271130, Train Acc: 0.972789, Train F1: 0.969833, Valid Loss: 0.682819, Valid Acc: 0.646259, Valid F1: 0.546193\n"
     ]
    },
    {
     "name": "stderr",
     "output_type": "stream",
     "text": [
      "                                                                                         \r"
     ]
    },
    {
     "name": "stdout",
     "output_type": "stream",
     "text": [
      "Epoch 5: Train Loss: 0.210852, Train Acc: 0.984694, Train F1: 0.981401, Valid Loss: 0.768774, Valid Acc: 0.687075, Valid F1: 0.607910\n"
     ]
    },
    {
     "name": "stderr",
     "output_type": "stream",
     "text": [
      "                                                                                         \r"
     ]
    },
    {
     "name": "stdout",
     "output_type": "stream",
     "text": [
      "Epoch 6: Train Loss: 0.141433, Train Acc: 0.994898, Train F1: 0.993976, Valid Loss: 0.757690, Valid Acc: 0.653061, Valid F1: 0.555530\n"
     ]
    },
    {
     "name": "stderr",
     "output_type": "stream",
     "text": [
      "                                                                                         \r"
     ]
    },
    {
     "name": "stdout",
     "output_type": "stream",
     "text": [
      "Epoch 7: Train Loss: 0.104801, Train Acc: 0.998299, Train F1: 0.997988, Valid Loss: 0.730475, Valid Acc: 0.666667, Valid F1: 0.567729\n"
     ]
    },
    {
     "name": "stderr",
     "output_type": "stream",
     "text": [
      "                                                                                         \r"
     ]
    },
    {
     "name": "stdout",
     "output_type": "stream",
     "text": [
      "Epoch 8: Train Loss: 0.077351, Train Acc: 0.998299, Train F1: 0.998689, Valid Loss: 0.764865, Valid Acc: 0.687075, Valid F1: 0.603968\n"
     ]
    },
    {
     "name": "stderr",
     "output_type": "stream",
     "text": [
      "                                                                                         \r"
     ]
    },
    {
     "name": "stdout",
     "output_type": "stream",
     "text": [
      "Epoch 9: Train Loss: 0.074014, Train Acc: 0.996599, Train F1: 0.995898, Valid Loss: 0.782211, Valid Acc: 0.659864, Valid F1: 0.598587\n"
     ]
    },
    {
     "name": "stderr",
     "output_type": "stream",
     "text": [
      "                                                                                         \r"
     ]
    },
    {
     "name": "stdout",
     "output_type": "stream",
     "text": [
      "Epoch 10: Train Loss: 0.063906, Train Acc: 0.996599, Train F1: 0.997047, Valid Loss: 0.594264, Valid Acc: 0.687075, Valid F1: 0.635693\n"
     ]
    },
    {
     "name": "stderr",
     "output_type": "stream",
     "text": [
      "                                                                                          \r"
     ]
    },
    {
     "name": "stdout",
     "output_type": "stream",
     "text": [
      "Epoch 11: Train Loss: 0.057159, Train Acc: 0.998299, Train F1: 0.997930, Valid Loss: 0.789408, Valid Acc: 0.666667, Valid F1: 0.619889\n"
     ]
    },
    {
     "name": "stderr",
     "output_type": "stream",
     "text": [
      "                                                                                          \r"
     ]
    },
    {
     "name": "stdout",
     "output_type": "stream",
     "text": [
      "Epoch 12: Train Loss: 0.046903, Train Acc: 1.000000, Train F1: 1.000000, Valid Loss: 0.723716, Valid Acc: 0.673469, Valid F1: 0.629975\n"
     ]
    },
    {
     "name": "stderr",
     "output_type": "stream",
     "text": [
      "                                                                                          \r"
     ]
    },
    {
     "name": "stdout",
     "output_type": "stream",
     "text": [
      "Epoch 13: Train Loss: 0.062176, Train Acc: 0.994898, Train F1: 0.995391, Valid Loss: 0.784119, Valid Acc: 0.673469, Valid F1: 0.586903\n"
     ]
    },
    {
     "name": "stderr",
     "output_type": "stream",
     "text": [
      "                                                                                          \r"
     ]
    },
    {
     "name": "stdout",
     "output_type": "stream",
     "text": [
      "Epoch 14: Train Loss: 0.069136, Train Acc: 0.994898, Train F1: 0.996202, Valid Loss: 0.798606, Valid Acc: 0.687075, Valid F1: 0.637331\n"
     ]
    },
    {
     "name": "stderr",
     "output_type": "stream",
     "text": [
      "                                                                                          \r"
     ]
    },
    {
     "name": "stdout",
     "output_type": "stream",
     "text": [
      "Epoch 15: Train Loss: 0.085928, Train Acc: 0.986395, Train F1: 0.983926, Valid Loss: 0.685491, Valid Acc: 0.653061, Valid F1: 0.603809\n"
     ]
    },
    {
     "name": "stderr",
     "output_type": "stream",
     "text": [
      "                                                                                          \r"
     ]
    },
    {
     "name": "stdout",
     "output_type": "stream",
     "text": [
      "Epoch 16: Train Loss: 0.065383, Train Acc: 0.993197, Train F1: 0.993169, Valid Loss: 0.656500, Valid Acc: 0.687075, Valid F1: 0.623215\n"
     ]
    },
    {
     "name": "stderr",
     "output_type": "stream",
     "text": [
      "                                                                                          \r"
     ]
    },
    {
     "name": "stdout",
     "output_type": "stream",
     "text": [
      "Epoch 17: Train Loss: 0.091710, Train Acc: 0.977891, Train F1: 0.970552, Valid Loss: 0.639606, Valid Acc: 0.687075, Valid F1: 0.626692\n"
     ]
    },
    {
     "name": "stderr",
     "output_type": "stream",
     "text": [
      "                                                                                          \r"
     ]
    },
    {
     "name": "stdout",
     "output_type": "stream",
     "text": [
      "Epoch 18: Train Loss: 0.074972, Train Acc: 0.989796, Train F1: 0.989312, Valid Loss: 0.653161, Valid Acc: 0.646259, Valid F1: 0.626260\n"
     ]
    },
    {
     "name": "stderr",
     "output_type": "stream",
     "text": [
      "                                                                                          \r"
     ]
    },
    {
     "name": "stdout",
     "output_type": "stream",
     "text": [
      "Epoch 19: Train Loss: 0.069908, Train Acc: 0.993197, Train F1: 0.990415, Valid Loss: 0.590492, Valid Acc: 0.659864, Valid F1: 0.632691\n"
     ]
    },
    {
     "name": "stderr",
     "output_type": "stream",
     "text": [
      "                                                                                          \r"
     ]
    },
    {
     "name": "stdout",
     "output_type": "stream",
     "text": [
      "Epoch 20: Train Loss: 0.076128, Train Acc: 0.993197, Train F1: 0.993769, Valid Loss: 0.593369, Valid Acc: 0.693878, Valid F1: 0.653490\n"
     ]
    },
    {
     "name": "stderr",
     "output_type": "stream",
     "text": [
      "                                                                                          \r"
     ]
    },
    {
     "name": "stdout",
     "output_type": "stream",
     "text": [
      "Epoch 21: Train Loss: 0.049329, Train Acc: 0.996599, Train F1: 0.996249, Valid Loss: 0.611601, Valid Acc: 0.673469, Valid F1: 0.598001\n"
     ]
    },
    {
     "name": "stderr",
     "output_type": "stream",
     "text": [
      "                                                                                          \r"
     ]
    },
    {
     "name": "stdout",
     "output_type": "stream",
     "text": [
      "Epoch 22: Train Loss: 0.057139, Train Acc: 0.996599, Train F1: 0.996288, Valid Loss: 0.767073, Valid Acc: 0.646259, Valid F1: 0.571128\n"
     ]
    },
    {
     "name": "stderr",
     "output_type": "stream",
     "text": [
      "                                                                                          \r"
     ]
    },
    {
     "name": "stdout",
     "output_type": "stream",
     "text": [
      "Epoch 23: Train Loss: 0.063499, Train Acc: 0.994898, Train F1: 0.995443, Valid Loss: 0.687244, Valid Acc: 0.693878, Valid F1: 0.632652\n"
     ]
    },
    {
     "name": "stderr",
     "output_type": "stream",
     "text": [
      "                                                                                          \r"
     ]
    },
    {
     "name": "stdout",
     "output_type": "stream",
     "text": [
      "Epoch 24: Train Loss: 0.056735, Train Acc: 0.991497, Train F1: 0.992130, Valid Loss: 0.690225, Valid Acc: 0.680272, Valid F1: 0.610207\n"
     ]
    },
    {
     "name": "stderr",
     "output_type": "stream",
     "text": [
      "                                                                                          \r"
     ]
    },
    {
     "name": "stdout",
     "output_type": "stream",
     "text": [
      "Epoch 25: Train Loss: 0.051078, Train Acc: 0.989796, Train F1: 0.989534, Valid Loss: 0.596687, Valid Acc: 0.659864, Valid F1: 0.612547\n"
     ]
    },
    {
     "name": "stderr",
     "output_type": "stream",
     "text": [
      "                                                                                          \r"
     ]
    },
    {
     "name": "stdout",
     "output_type": "stream",
     "text": [
      "Epoch 26: Train Loss: 0.056843, Train Acc: 0.994898, Train F1: 0.993050, Valid Loss: 0.636660, Valid Acc: 0.639456, Valid F1: 0.546074\n"
     ]
    },
    {
     "name": "stderr",
     "output_type": "stream",
     "text": [
      "                                                                                          \r"
     ]
    },
    {
     "name": "stdout",
     "output_type": "stream",
     "text": [
      "Epoch 27: Train Loss: 0.052409, Train Acc: 0.989796, Train F1: 0.985585, Valid Loss: 0.722437, Valid Acc: 0.659864, Valid F1: 0.600203\n"
     ]
    },
    {
     "name": "stderr",
     "output_type": "stream",
     "text": [
      "                                                                                          \r"
     ]
    },
    {
     "name": "stdout",
     "output_type": "stream",
     "text": [
      "Epoch 28: Train Loss: 0.035393, Train Acc: 0.998299, Train F1: 0.997930, Valid Loss: 0.593696, Valid Acc: 0.653061, Valid F1: 0.607786\n"
     ]
    },
    {
     "name": "stderr",
     "output_type": "stream",
     "text": [
      "                                                                                          \r"
     ]
    },
    {
     "name": "stdout",
     "output_type": "stream",
     "text": [
      "Epoch 29: Train Loss: 0.036149, Train Acc: 0.996599, Train F1: 0.997537, Valid Loss: 0.623921, Valid Acc: 0.687075, Valid F1: 0.639732\n"
     ]
    },
    {
     "name": "stderr",
     "output_type": "stream",
     "text": [
      "                                                                                          \r"
     ]
    },
    {
     "name": "stdout",
     "output_type": "stream",
     "text": [
      "Epoch 30: Train Loss: 0.076602, Train Acc: 0.993197, Train F1: 0.992474, Valid Loss: 0.616086, Valid Acc: 0.707483, Valid F1: 0.669010\n"
     ]
    },
    {
     "name": "stderr",
     "output_type": "stream",
     "text": [
      "                                                                                          \r"
     ]
    },
    {
     "name": "stdout",
     "output_type": "stream",
     "text": [
      "Epoch 31: Train Loss: 0.045804, Train Acc: 0.996599, Train F1: 0.995238, Valid Loss: 0.661726, Valid Acc: 0.673469, Valid F1: 0.619308\n"
     ]
    },
    {
     "name": "stderr",
     "output_type": "stream",
     "text": [
      "                                                                                          \r"
     ]
    },
    {
     "name": "stdout",
     "output_type": "stream",
     "text": [
      "Epoch 32: Train Loss: 0.040838, Train Acc: 0.996599, Train F1: 0.996090, Valid Loss: 0.766476, Valid Acc: 0.605442, Valid F1: 0.552310\n"
     ]
    },
    {
     "name": "stderr",
     "output_type": "stream",
     "text": [
      "                                                                                          \r"
     ]
    },
    {
     "name": "stdout",
     "output_type": "stream",
     "text": [
      "Epoch 33: Train Loss: 0.042056, Train Acc: 0.996599, Train F1: 0.995238, Valid Loss: 0.681726, Valid Acc: 0.666667, Valid F1: 0.635521\n"
     ]
    },
    {
     "name": "stderr",
     "output_type": "stream",
     "text": [
      "                                                                                          \r"
     ]
    },
    {
     "name": "stdout",
     "output_type": "stream",
     "text": [
      "Epoch 34: Train Loss: 0.051095, Train Acc: 0.993197, Train F1: 0.988315, Valid Loss: 0.676235, Valid Acc: 0.673469, Valid F1: 0.660397\n"
     ]
    },
    {
     "name": "stderr",
     "output_type": "stream",
     "text": [
      "                                                                                          \r"
     ]
    },
    {
     "name": "stdout",
     "output_type": "stream",
     "text": [
      "Epoch 35: Train Loss: 0.032873, Train Acc: 0.998299, Train F1: 0.997579, Valid Loss: 0.629533, Valid Acc: 0.659864, Valid F1: 0.665413\n"
     ]
    },
    {
     "name": "stderr",
     "output_type": "stream",
     "text": [
      "                                                                                          \r"
     ]
    },
    {
     "name": "stdout",
     "output_type": "stream",
     "text": [
      "Epoch 36: Train Loss: 0.051399, Train Acc: 0.993197, Train F1: 0.992613, Valid Loss: 0.603781, Valid Acc: 0.687075, Valid F1: 0.685524\n"
     ]
    },
    {
     "name": "stderr",
     "output_type": "stream",
     "text": [
      "                                                                                          \r"
     ]
    },
    {
     "name": "stdout",
     "output_type": "stream",
     "text": [
      "Epoch 37: Train Loss: 0.082357, Train Acc: 0.991497, Train F1: 0.989867, Valid Loss: 0.648579, Valid Acc: 0.653061, Valid F1: 0.570136\n"
     ]
    },
    {
     "name": "stderr",
     "output_type": "stream",
     "text": [
      "                                                                                          \r"
     ]
    },
    {
     "name": "stdout",
     "output_type": "stream",
     "text": [
      "Epoch 38: Train Loss: 0.073780, Train Acc: 0.994898, Train F1: 0.991882, Valid Loss: 0.640201, Valid Acc: 0.680272, Valid F1: 0.618053\n"
     ]
    },
    {
     "name": "stderr",
     "output_type": "stream",
     "text": [
      "                                                                                          \r"
     ]
    },
    {
     "name": "stdout",
     "output_type": "stream",
     "text": [
      "Epoch 39: Train Loss: 0.046131, Train Acc: 0.996599, Train F1: 0.995567, Valid Loss: 0.670249, Valid Acc: 0.673469, Valid F1: 0.615513\n"
     ]
    },
    {
     "name": "stderr",
     "output_type": "stream",
     "text": [
      "                                                                                          \r"
     ]
    },
    {
     "name": "stdout",
     "output_type": "stream",
     "text": [
      "Epoch 40: Train Loss: 0.060129, Train Acc: 0.989796, Train F1: 0.988664, Valid Loss: 0.646063, Valid Acc: 0.646259, Valid F1: 0.581530\n"
     ]
    },
    {
     "name": "stderr",
     "output_type": "stream",
     "text": [
      "                                                                                          \r"
     ]
    },
    {
     "name": "stdout",
     "output_type": "stream",
     "text": [
      "Epoch 41: Train Loss: 0.045032, Train Acc: 0.994898, Train F1: 0.995482, Valid Loss: 0.700535, Valid Acc: 0.646259, Valid F1: 0.615770\n"
     ]
    },
    {
     "name": "stderr",
     "output_type": "stream",
     "text": [
      "                                                                                          \r"
     ]
    },
    {
     "name": "stdout",
     "output_type": "stream",
     "text": [
      "Epoch 42: Train Loss: 0.053346, Train Acc: 0.991497, Train F1: 0.989048, Valid Loss: 0.708225, Valid Acc: 0.653061, Valid F1: 0.607228\n"
     ]
    },
    {
     "name": "stderr",
     "output_type": "stream",
     "text": [
      "                                                                                          \r"
     ]
    },
    {
     "name": "stdout",
     "output_type": "stream",
     "text": [
      "Epoch 43: Train Loss: 0.053875, Train Acc: 0.994898, Train F1: 0.990582, Valid Loss: 0.741340, Valid Acc: 0.673469, Valid F1: 0.597644\n"
     ]
    },
    {
     "name": "stderr",
     "output_type": "stream",
     "text": [
      "                                                                                          \r"
     ]
    },
    {
     "name": "stdout",
     "output_type": "stream",
     "text": [
      "Epoch 44: Train Loss: 0.038077, Train Acc: 0.998299, Train F1: 0.997732, Valid Loss: 0.751071, Valid Acc: 0.653061, Valid F1: 0.587509\n"
     ]
    },
    {
     "name": "stderr",
     "output_type": "stream",
     "text": [
      "                                                                                          \r"
     ]
    },
    {
     "name": "stdout",
     "output_type": "stream",
     "text": [
      "Epoch 45: Train Loss: 0.051305, Train Acc: 0.996599, Train F1: 0.996984, Valid Loss: 0.699125, Valid Acc: 0.646259, Valid F1: 0.577419\n"
     ]
    },
    {
     "name": "stderr",
     "output_type": "stream",
     "text": [
      "                                                                                          \r"
     ]
    },
    {
     "name": "stdout",
     "output_type": "stream",
     "text": [
      "Epoch 46: Train Loss: 0.040729, Train Acc: 0.996599, Train F1: 0.995237, Valid Loss: 0.957886, Valid Acc: 0.680272, Valid F1: 0.628282\n"
     ]
    },
    {
     "name": "stderr",
     "output_type": "stream",
     "text": [
      "                                                                                          \r"
     ]
    },
    {
     "name": "stdout",
     "output_type": "stream",
     "text": [
      "Epoch 47: Train Loss: 0.043881, Train Acc: 0.989796, Train F1: 0.990598, Valid Loss: 0.716929, Valid Acc: 0.680272, Valid F1: 0.611568\n"
     ]
    },
    {
     "name": "stderr",
     "output_type": "stream",
     "text": [
      "                                                                                          \r"
     ]
    },
    {
     "name": "stdout",
     "output_type": "stream",
     "text": [
      "Epoch 48: Train Loss: 0.050001, Train Acc: 0.994898, Train F1: 0.995805, Valid Loss: 0.707984, Valid Acc: 0.632653, Valid F1: 0.543870\n"
     ]
    },
    {
     "name": "stderr",
     "output_type": "stream",
     "text": [
      "                                                                                          \r"
     ]
    },
    {
     "name": "stdout",
     "output_type": "stream",
     "text": [
      "Epoch 49: Train Loss: 0.035928, Train Acc: 0.998299, Train F1: 0.998689, Valid Loss: 0.618760, Valid Acc: 0.653061, Valid F1: 0.584757\n"
     ]
    },
    {
     "name": "stderr",
     "output_type": "stream",
     "text": [
      "                                                                                          \r"
     ]
    },
    {
     "name": "stdout",
     "output_type": "stream",
     "text": [
      "Epoch 50: Train Loss: 0.029597, Train Acc: 1.000000, Train F1: 1.000000, Valid Loss: 0.630787, Valid Acc: 0.666667, Valid F1: 0.602450\n"
     ]
    },
    {
     "name": "stderr",
     "output_type": "stream",
     "text": [
      "                                                                                          \r"
     ]
    },
    {
     "name": "stdout",
     "output_type": "stream",
     "text": [
      "Epoch 51: Train Loss: 0.031600, Train Acc: 0.998299, Train F1: 0.998758, Valid Loss: 0.659928, Valid Acc: 0.659864, Valid F1: 0.596467\n"
     ]
    },
    {
     "name": "stderr",
     "output_type": "stream",
     "text": [
      "                                                                                          \r"
     ]
    },
    {
     "name": "stdout",
     "output_type": "stream",
     "text": [
      "Epoch 52: Train Loss: 0.023285, Train Acc: 0.998299, Train F1: 0.998736, Valid Loss: 0.677356, Valid Acc: 0.646259, Valid F1: 0.593986\n"
     ]
    },
    {
     "name": "stderr",
     "output_type": "stream",
     "text": [
      "                                                                                          \r"
     ]
    },
    {
     "name": "stdout",
     "output_type": "stream",
     "text": [
      "Epoch 53: Train Loss: 0.055968, Train Acc: 0.989796, Train F1: 0.987681, Valid Loss: 0.771731, Valid Acc: 0.673469, Valid F1: 0.629932\n"
     ]
    },
    {
     "name": "stderr",
     "output_type": "stream",
     "text": [
      "                                                                                          \r"
     ]
    },
    {
     "name": "stdout",
     "output_type": "stream",
     "text": [
      "Epoch 54: Train Loss: 0.021202, Train Acc: 1.000000, Train F1: 1.000000, Valid Loss: 0.627556, Valid Acc: 0.727891, Valid F1: 0.715283\n"
     ]
    },
    {
     "name": "stderr",
     "output_type": "stream",
     "text": [
      "                                                                                          \r"
     ]
    },
    {
     "name": "stdout",
     "output_type": "stream",
     "text": [
      "Epoch 55: Train Loss: 0.048770, Train Acc: 0.996599, Train F1: 0.997116, Valid Loss: 0.598226, Valid Acc: 0.721088, Valid F1: 0.703490\n"
     ]
    },
    {
     "name": "stderr",
     "output_type": "stream",
     "text": [
      "                                                                                          \r"
     ]
    },
    {
     "name": "stdout",
     "output_type": "stream",
     "text": [
      "Epoch 56: Train Loss: 0.023925, Train Acc: 0.996599, Train F1: 0.997055, Valid Loss: 0.546523, Valid Acc: 0.687075, Valid F1: 0.680689\n"
     ]
    },
    {
     "name": "stderr",
     "output_type": "stream",
     "text": [
      "                                                                                          \r"
     ]
    },
    {
     "name": "stdout",
     "output_type": "stream",
     "text": [
      "Epoch 57: Train Loss: 0.029365, Train Acc: 0.996599, Train F1: 0.997055, Valid Loss: 0.585071, Valid Acc: 0.700680, Valid F1: 0.668556\n"
     ]
    },
    {
     "name": "stderr",
     "output_type": "stream",
     "text": [
      "                                                                                          \r"
     ]
    },
    {
     "name": "stdout",
     "output_type": "stream",
     "text": [
      "Epoch 58: Train Loss: 0.012440, Train Acc: 1.000000, Train F1: 1.000000, Valid Loss: 0.587104, Valid Acc: 0.680272, Valid F1: 0.616088\n"
     ]
    },
    {
     "name": "stderr",
     "output_type": "stream",
     "text": [
      "                                                                                          \r"
     ]
    },
    {
     "name": "stdout",
     "output_type": "stream",
     "text": [
      "Epoch 59: Train Loss: 0.019186, Train Acc: 1.000000, Train F1: 1.000000, Valid Loss: 0.602240, Valid Acc: 0.687075, Valid F1: 0.630286\n"
     ]
    },
    {
     "name": "stderr",
     "output_type": "stream",
     "text": [
      "                                                                                          \r"
     ]
    },
    {
     "name": "stdout",
     "output_type": "stream",
     "text": [
      "Epoch 60: Train Loss: 0.019394, Train Acc: 0.998299, Train F1: 0.998758, Valid Loss: 0.581084, Valid Acc: 0.700680, Valid F1: 0.642909\n"
     ]
    },
    {
     "name": "stderr",
     "output_type": "stream",
     "text": [
      "                                                                                          \r"
     ]
    },
    {
     "name": "stdout",
     "output_type": "stream",
     "text": [
      "Epoch 61: Train Loss: 0.011991, Train Acc: 1.000000, Train F1: 1.000000, Valid Loss: 0.651490, Valid Acc: 0.693878, Valid F1: 0.629162\n"
     ]
    },
    {
     "name": "stderr",
     "output_type": "stream",
     "text": [
      "                                                                                          \r"
     ]
    },
    {
     "name": "stdout",
     "output_type": "stream",
     "text": [
      "Epoch 62: Train Loss: 0.015221, Train Acc: 1.000000, Train F1: 1.000000, Valid Loss: 0.621570, Valid Acc: 0.666667, Valid F1: 0.599775\n"
     ]
    },
    {
     "name": "stderr",
     "output_type": "stream",
     "text": [
      "                                                                                          \r"
     ]
    },
    {
     "name": "stdout",
     "output_type": "stream",
     "text": [
      "Epoch 63: Train Loss: 0.013743, Train Acc: 1.000000, Train F1: 1.000000, Valid Loss: 0.609777, Valid Acc: 0.673469, Valid F1: 0.597900\n"
     ]
    },
    {
     "name": "stderr",
     "output_type": "stream",
     "text": [
      "                                                                                          \r"
     ]
    },
    {
     "name": "stdout",
     "output_type": "stream",
     "text": [
      "Epoch 64: Train Loss: 0.014497, Train Acc: 1.000000, Train F1: 1.000000, Valid Loss: 0.587138, Valid Acc: 0.659864, Valid F1: 0.576699\n"
     ]
    },
    {
     "name": "stderr",
     "output_type": "stream",
     "text": [
      "                                                                                          \r"
     ]
    },
    {
     "name": "stdout",
     "output_type": "stream",
     "text": [
      "Epoch 65: Train Loss: 0.010870, Train Acc: 1.000000, Train F1: 1.000000, Valid Loss: 0.606184, Valid Acc: 0.673469, Valid F1: 0.630993\n"
     ]
    },
    {
     "name": "stderr",
     "output_type": "stream",
     "text": [
      "                                                                                          \r"
     ]
    },
    {
     "name": "stdout",
     "output_type": "stream",
     "text": [
      "Epoch 66: Train Loss: 0.018911, Train Acc: 0.998299, Train F1: 0.997579, Valid Loss: 0.574036, Valid Acc: 0.639456, Valid F1: 0.561000\n"
     ]
    },
    {
     "name": "stderr",
     "output_type": "stream",
     "text": [
      "                                                                                          \r"
     ]
    },
    {
     "name": "stdout",
     "output_type": "stream",
     "text": [
      "Epoch 67: Train Loss: 0.035609, Train Acc: 0.996599, Train F1: 0.996416, Valid Loss: 0.615347, Valid Acc: 0.639456, Valid F1: 0.564866\n"
     ]
    },
    {
     "name": "stderr",
     "output_type": "stream",
     "text": [
      "                                                                                          \r"
     ]
    },
    {
     "name": "stdout",
     "output_type": "stream",
     "text": [
      "Epoch 68: Train Loss: 0.017589, Train Acc: 0.996599, Train F1: 0.995508, Valid Loss: 0.635759, Valid Acc: 0.632653, Valid F1: 0.574003\n"
     ]
    },
    {
     "name": "stderr",
     "output_type": "stream",
     "text": [
      "                                                                                          \r"
     ]
    },
    {
     "name": "stdout",
     "output_type": "stream",
     "text": [
      "Epoch 69: Train Loss: 0.041778, Train Acc: 0.989796, Train F1: 0.985401, Valid Loss: 0.626379, Valid Acc: 0.646259, Valid F1: 0.610478\n"
     ]
    },
    {
     "name": "stderr",
     "output_type": "stream",
     "text": [
      "                                                                                          \r"
     ]
    },
    {
     "name": "stdout",
     "output_type": "stream",
     "text": [
      "Epoch 70: Train Loss: 0.031092, Train Acc: 0.996599, Train F1: 0.996394, Valid Loss: 0.783032, Valid Acc: 0.619048, Valid F1: 0.535743\n"
     ]
    },
    {
     "name": "stderr",
     "output_type": "stream",
     "text": [
      "                                                                                          \r"
     ]
    },
    {
     "name": "stdout",
     "output_type": "stream",
     "text": [
      "Epoch 71: Train Loss: 0.019859, Train Acc: 0.994898, Train F1: 0.994420, Valid Loss: 0.655071, Valid Acc: 0.612245, Valid F1: 0.585252\n"
     ]
    },
    {
     "name": "stderr",
     "output_type": "stream",
     "text": [
      "                                                                                          \r"
     ]
    },
    {
     "name": "stdout",
     "output_type": "stream",
     "text": [
      "Epoch 72: Train Loss: 0.066449, Train Acc: 0.991497, Train F1: 0.993087, Valid Loss: 0.622748, Valid Acc: 0.612245, Valid F1: 0.579266\n"
     ]
    },
    {
     "name": "stderr",
     "output_type": "stream",
     "text": [
      "                                                                                          \r"
     ]
    },
    {
     "name": "stdout",
     "output_type": "stream",
     "text": [
      "Epoch 73: Train Loss: 0.029576, Train Acc: 0.998299, Train F1: 0.997930, Valid Loss: 0.608368, Valid Acc: 0.585034, Valid F1: 0.547765\n"
     ]
    },
    {
     "name": "stderr",
     "output_type": "stream",
     "text": [
      "                                                                                          \r"
     ]
    },
    {
     "name": "stdout",
     "output_type": "stream",
     "text": [
      "Epoch 74: Train Loss: 0.029344, Train Acc: 0.998299, Train F1: 0.997658, Valid Loss: 0.633732, Valid Acc: 0.639456, Valid F1: 0.596211\n"
     ]
    },
    {
     "name": "stderr",
     "output_type": "stream",
     "text": [
      "                                                                                          \r"
     ]
    },
    {
     "name": "stdout",
     "output_type": "stream",
     "text": [
      "Epoch 75: Train Loss: 0.018190, Train Acc: 1.000000, Train F1: 1.000000, Valid Loss: 0.606487, Valid Acc: 0.687075, Valid F1: 0.640426\n"
     ]
    },
    {
     "name": "stderr",
     "output_type": "stream",
     "text": [
      "                                                                                          \r"
     ]
    },
    {
     "name": "stdout",
     "output_type": "stream",
     "text": [
      "Epoch 76: Train Loss: 0.023082, Train Acc: 0.998299, Train F1: 0.995074, Valid Loss: 0.628077, Valid Acc: 0.632653, Valid F1: 0.567317\n"
     ]
    },
    {
     "name": "stderr",
     "output_type": "stream",
     "text": [
      "                                                                                          \r"
     ]
    },
    {
     "name": "stdout",
     "output_type": "stream",
     "text": [
      "Epoch 77: Train Loss: 0.016618, Train Acc: 1.000000, Train F1: 1.000000, Valid Loss: 0.635920, Valid Acc: 0.639456, Valid F1: 0.609515\n"
     ]
    },
    {
     "name": "stderr",
     "output_type": "stream",
     "text": [
      "                                                                                          \r"
     ]
    },
    {
     "name": "stdout",
     "output_type": "stream",
     "text": [
      "Epoch 78: Train Loss: 0.018902, Train Acc: 1.000000, Train F1: 1.000000, Valid Loss: 0.640759, Valid Acc: 0.653061, Valid F1: 0.624624\n"
     ]
    },
    {
     "name": "stderr",
     "output_type": "stream",
     "text": [
      "                                                                                          \r"
     ]
    },
    {
     "name": "stdout",
     "output_type": "stream",
     "text": [
      "Epoch 79: Train Loss: 0.009234, Train Acc: 1.000000, Train F1: 1.000000, Valid Loss: 0.645001, Valid Acc: 0.646259, Valid F1: 0.628990\n"
     ]
    },
    {
     "name": "stderr",
     "output_type": "stream",
     "text": [
      "                                                                                          \r"
     ]
    },
    {
     "name": "stdout",
     "output_type": "stream",
     "text": [
      "Epoch 80: Train Loss: 0.018113, Train Acc: 0.998299, Train F1: 0.997658, Valid Loss: 0.646622, Valid Acc: 0.639456, Valid F1: 0.620780\n"
     ]
    },
    {
     "name": "stderr",
     "output_type": "stream",
     "text": [
      "                                                                                          \r"
     ]
    },
    {
     "name": "stdout",
     "output_type": "stream",
     "text": [
      "Epoch 81: Train Loss: 0.029028, Train Acc: 0.996599, Train F1: 0.995536, Valid Loss: 0.630200, Valid Acc: 0.639456, Valid F1: 0.604751\n"
     ]
    },
    {
     "name": "stderr",
     "output_type": "stream",
     "text": [
      "                                                                                          \r"
     ]
    },
    {
     "name": "stdout",
     "output_type": "stream",
     "text": [
      "Epoch 82: Train Loss: 0.010745, Train Acc: 1.000000, Train F1: 1.000000, Valid Loss: 0.669078, Valid Acc: 0.680272, Valid F1: 0.600920\n"
     ]
    },
    {
     "name": "stderr",
     "output_type": "stream",
     "text": [
      "                                                                                          \r"
     ]
    },
    {
     "name": "stdout",
     "output_type": "stream",
     "text": [
      "Epoch 83: Train Loss: 0.020022, Train Acc: 0.996599, Train F1: 0.996394, Valid Loss: 0.618151, Valid Acc: 0.632653, Valid F1: 0.547566\n"
     ]
    },
    {
     "name": "stderr",
     "output_type": "stream",
     "text": [
      "                                                                                          \r"
     ]
    },
    {
     "name": "stdout",
     "output_type": "stream",
     "text": [
      "Epoch 84: Train Loss: 0.011559, Train Acc: 1.000000, Train F1: 1.000000, Valid Loss: 0.657272, Valid Acc: 0.632653, Valid F1: 0.574502\n"
     ]
    },
    {
     "name": "stderr",
     "output_type": "stream",
     "text": [
      "                                                                                          \r"
     ]
    },
    {
     "name": "stdout",
     "output_type": "stream",
     "text": [
      "Epoch 85: Train Loss: 0.039526, Train Acc: 0.994898, Train F1: 0.995269, Valid Loss: 0.670670, Valid Acc: 0.646259, Valid F1: 0.613897\n"
     ]
    },
    {
     "name": "stderr",
     "output_type": "stream",
     "text": [
      "                                                                                          \r"
     ]
    },
    {
     "name": "stdout",
     "output_type": "stream",
     "text": [
      "Epoch 86: Train Loss: 0.036106, Train Acc: 0.996599, Train F1: 0.995238, Valid Loss: 0.671910, Valid Acc: 0.632653, Valid F1: 0.532461\n"
     ]
    },
    {
     "name": "stderr",
     "output_type": "stream",
     "text": [
      "                                                                                          \r"
     ]
    },
    {
     "name": "stdout",
     "output_type": "stream",
     "text": [
      "Epoch 87: Train Loss: 0.012500, Train Acc: 1.000000, Train F1: 1.000000, Valid Loss: 0.654590, Valid Acc: 0.646259, Valid F1: 0.552963\n"
     ]
    },
    {
     "name": "stderr",
     "output_type": "stream",
     "text": [
      "                                                                                          \r"
     ]
    },
    {
     "name": "stdout",
     "output_type": "stream",
     "text": [
      "Epoch 88: Train Loss: 0.027450, Train Acc: 0.998299, Train F1: 0.997658, Valid Loss: 0.683482, Valid Acc: 0.639456, Valid F1: 0.604815\n"
     ]
    },
    {
     "name": "stderr",
     "output_type": "stream",
     "text": [
      "                                                                                          \r"
     ]
    },
    {
     "name": "stdout",
     "output_type": "stream",
     "text": [
      "Epoch 89: Train Loss: 0.025571, Train Acc: 0.998299, Train F1: 0.998758, Valid Loss: 0.662938, Valid Acc: 0.639456, Valid F1: 0.605672\n"
     ]
    },
    {
     "name": "stderr",
     "output_type": "stream",
     "text": [
      "                                                                                          \r"
     ]
    },
    {
     "name": "stdout",
     "output_type": "stream",
     "text": [
      "Epoch 90: Train Loss: 0.011414, Train Acc: 1.000000, Train F1: 1.000000, Valid Loss: 0.695952, Valid Acc: 0.612245, Valid F1: 0.556597\n"
     ]
    },
    {
     "name": "stderr",
     "output_type": "stream",
     "text": [
      "                                                                                          \r"
     ]
    },
    {
     "name": "stdout",
     "output_type": "stream",
     "text": [
      "Epoch 91: Train Loss: 0.017659, Train Acc: 0.998299, Train F1: 0.998319, Valid Loss: 0.685508, Valid Acc: 0.632653, Valid F1: 0.573765\n"
     ]
    },
    {
     "name": "stderr",
     "output_type": "stream",
     "text": [
      "                                                                                          \r"
     ]
    },
    {
     "name": "stdout",
     "output_type": "stream",
     "text": [
      "Epoch 92: Train Loss: 0.010866, Train Acc: 1.000000, Train F1: 1.000000, Valid Loss: 0.696528, Valid Acc: 0.646259, Valid F1: 0.596288\n"
     ]
    },
    {
     "name": "stderr",
     "output_type": "stream",
     "text": [
      "                                                                                          \r"
     ]
    },
    {
     "name": "stdout",
     "output_type": "stream",
     "text": [
      "Epoch 93: Train Loss: 0.010088, Train Acc: 1.000000, Train F1: 1.000000, Valid Loss: 0.680688, Valid Acc: 0.659864, Valid F1: 0.622964\n"
     ]
    },
    {
     "name": "stderr",
     "output_type": "stream",
     "text": [
      "                                                                                          \r"
     ]
    },
    {
     "name": "stdout",
     "output_type": "stream",
     "text": [
      "Epoch 94: Train Loss: 0.009746, Train Acc: 1.000000, Train F1: 1.000000, Valid Loss: 0.682703, Valid Acc: 0.666667, Valid F1: 0.621590\n"
     ]
    },
    {
     "name": "stderr",
     "output_type": "stream",
     "text": [
      "                                                                                          \r"
     ]
    },
    {
     "name": "stdout",
     "output_type": "stream",
     "text": [
      "Epoch 95: Train Loss: 0.011576, Train Acc: 1.000000, Train F1: 1.000000, Valid Loss: 0.672268, Valid Acc: 0.625850, Valid F1: 0.592524\n"
     ]
    },
    {
     "name": "stderr",
     "output_type": "stream",
     "text": [
      "                                                                                          \r"
     ]
    },
    {
     "name": "stdout",
     "output_type": "stream",
     "text": [
      "Epoch 96: Train Loss: 0.011783, Train Acc: 1.000000, Train F1: 1.000000, Valid Loss: 0.662155, Valid Acc: 0.625850, Valid F1: 0.570800\n"
     ]
    },
    {
     "name": "stderr",
     "output_type": "stream",
     "text": [
      "                                                                                          \r"
     ]
    },
    {
     "name": "stdout",
     "output_type": "stream",
     "text": [
      "Epoch 97: Train Loss: 0.013916, Train Acc: 1.000000, Train F1: 1.000000, Valid Loss: 0.690619, Valid Acc: 0.659864, Valid F1: 0.614861\n"
     ]
    },
    {
     "name": "stderr",
     "output_type": "stream",
     "text": [
      "                                                                                          \r"
     ]
    },
    {
     "name": "stdout",
     "output_type": "stream",
     "text": [
      "Epoch 98: Train Loss: 0.010931, Train Acc: 1.000000, Train F1: 1.000000, Valid Loss: 0.657193, Valid Acc: 0.653061, Valid F1: 0.595500\n"
     ]
    },
    {
     "name": "stderr",
     "output_type": "stream",
     "text": [
      "                                                                                          \r"
     ]
    },
    {
     "name": "stdout",
     "output_type": "stream",
     "text": [
      "Epoch 99: Train Loss: 0.008495, Train Acc: 1.000000, Train F1: 1.000000, Valid Loss: 0.690253, Valid Acc: 0.653061, Valid F1: 0.625389\n"
     ]
    },
    {
     "name": "stderr",
     "output_type": "stream",
     "text": [
      "                                                                                          \r"
     ]
    },
    {
     "name": "stdout",
     "output_type": "stream",
     "text": [
      "Epoch 100: Train Loss: 0.009616, Train Acc: 0.998299, Train F1: 0.997930, Valid Loss: 0.652127, Valid Acc: 0.659864, Valid F1: 0.630047\n"
     ]
    },
    {
     "name": "stderr",
     "output_type": "stream",
     "text": [
      "                                                                                           \r"
     ]
    },
    {
     "name": "stdout",
     "output_type": "stream",
     "text": [
      "Epoch 101: Train Loss: 0.005167, Train Acc: 1.000000, Train F1: 1.000000, Valid Loss: 0.612572, Valid Acc: 0.646259, Valid F1: 0.616192\n"
     ]
    },
    {
     "name": "stderr",
     "output_type": "stream",
     "text": [
      "                                                                                           \r"
     ]
    },
    {
     "name": "stdout",
     "output_type": "stream",
     "text": [
      "Epoch 102: Train Loss: 0.044735, Train Acc: 0.996599, Train F1: 0.995588, Valid Loss: 0.636033, Valid Acc: 0.666667, Valid F1: 0.624001\n"
     ]
    },
    {
     "name": "stderr",
     "output_type": "stream",
     "text": [
      "                                                                                           \r"
     ]
    },
    {
     "name": "stdout",
     "output_type": "stream",
     "text": [
      "Epoch 103: Train Loss: 0.015532, Train Acc: 0.998299, Train F1: 0.997988, Valid Loss: 0.638992, Valid Acc: 0.673469, Valid F1: 0.649062\n"
     ]
    },
    {
     "name": "stderr",
     "output_type": "stream",
     "text": [
      "                                                                                           \r"
     ]
    },
    {
     "name": "stdout",
     "output_type": "stream",
     "text": [
      "Epoch 104: Train Loss: 0.014534, Train Acc: 0.996599, Train F1: 0.996016, Valid Loss: 0.655603, Valid Acc: 0.659864, Valid F1: 0.601686\n"
     ]
    },
    {
     "name": "stderr",
     "output_type": "stream",
     "text": [
      "                                                                                           \r"
     ]
    },
    {
     "name": "stdout",
     "output_type": "stream",
     "text": [
      "Epoch 105: Train Loss: 0.017510, Train Acc: 1.000000, Train F1: 1.000000, Valid Loss: 0.659336, Valid Acc: 0.632653, Valid F1: 0.557937\n"
     ]
    },
    {
     "name": "stderr",
     "output_type": "stream",
     "text": [
      "                                                                                           \r"
     ]
    },
    {
     "name": "stdout",
     "output_type": "stream",
     "text": [
      "Epoch 106: Train Loss: 0.008117, Train Acc: 1.000000, Train F1: 1.000000, Valid Loss: 0.668333, Valid Acc: 0.632653, Valid F1: 0.550983\n"
     ]
    },
    {
     "name": "stderr",
     "output_type": "stream",
     "text": [
      "                                                                                           \r"
     ]
    },
    {
     "name": "stdout",
     "output_type": "stream",
     "text": [
      "Epoch 107: Train Loss: 0.013653, Train Acc: 1.000000, Train F1: 1.000000, Valid Loss: 0.700927, Valid Acc: 0.619048, Valid F1: 0.564801\n"
     ]
    },
    {
     "name": "stderr",
     "output_type": "stream",
     "text": [
      "                                                                                           \r"
     ]
    },
    {
     "name": "stdout",
     "output_type": "stream",
     "text": [
      "Epoch 108: Train Loss: 0.016400, Train Acc: 0.998299, Train F1: 0.998319, Valid Loss: 0.676172, Valid Acc: 0.653061, Valid F1: 0.588381\n"
     ]
    },
    {
     "name": "stderr",
     "output_type": "stream",
     "text": [
      "                                                                                           \r"
     ]
    },
    {
     "name": "stdout",
     "output_type": "stream",
     "text": [
      "Epoch 109: Train Loss: 0.006502, Train Acc: 1.000000, Train F1: 1.000000, Valid Loss: 0.650629, Valid Acc: 0.687075, Valid F1: 0.654544\n"
     ]
    },
    {
     "name": "stderr",
     "output_type": "stream",
     "text": [
      "                                                                                           \r"
     ]
    },
    {
     "name": "stdout",
     "output_type": "stream",
     "text": [
      "Epoch 110: Train Loss: 0.011915, Train Acc: 1.000000, Train F1: 1.000000, Valid Loss: 0.678238, Valid Acc: 0.673469, Valid F1: 0.635045\n"
     ]
    },
    {
     "name": "stderr",
     "output_type": "stream",
     "text": [
      "                                                                                           \r"
     ]
    },
    {
     "name": "stdout",
     "output_type": "stream",
     "text": [
      "Epoch 111: Train Loss: 0.014491, Train Acc: 1.000000, Train F1: 1.000000, Valid Loss: 0.673867, Valid Acc: 0.619048, Valid F1: 0.558525\n"
     ]
    },
    {
     "name": "stderr",
     "output_type": "stream",
     "text": [
      "                                                                                           \r"
     ]
    },
    {
     "name": "stdout",
     "output_type": "stream",
     "text": [
      "Epoch 112: Train Loss: 0.013182, Train Acc: 1.000000, Train F1: 1.000000, Valid Loss: 0.694115, Valid Acc: 0.612245, Valid F1: 0.547879\n"
     ]
    },
    {
     "name": "stderr",
     "output_type": "stream",
     "text": [
      "                                                                                           \r"
     ]
    },
    {
     "name": "stdout",
     "output_type": "stream",
     "text": [
      "Epoch 113: Train Loss: 0.006685, Train Acc: 1.000000, Train F1: 1.000000, Valid Loss: 0.680615, Valid Acc: 0.619048, Valid F1: 0.553871\n"
     ]
    },
    {
     "name": "stderr",
     "output_type": "stream",
     "text": [
      "                                                                                           \r"
     ]
    },
    {
     "name": "stdout",
     "output_type": "stream",
     "text": [
      "Epoch 114: Train Loss: 0.016487, Train Acc: 1.000000, Train F1: 1.000000, Valid Loss: 0.664322, Valid Acc: 0.632653, Valid F1: 0.567817\n"
     ]
    },
    {
     "name": "stderr",
     "output_type": "stream",
     "text": [
      "                                                                                           \r"
     ]
    },
    {
     "name": "stdout",
     "output_type": "stream",
     "text": [
      "Epoch 115: Train Loss: 0.009865, Train Acc: 1.000000, Train F1: 1.000000, Valid Loss: 0.709557, Valid Acc: 0.632653, Valid F1: 0.580482\n"
     ]
    },
    {
     "name": "stderr",
     "output_type": "stream",
     "text": [
      "                                                                                           \r"
     ]
    },
    {
     "name": "stdout",
     "output_type": "stream",
     "text": [
      "Epoch 116: Train Loss: 0.007176, Train Acc: 1.000000, Train F1: 1.000000, Valid Loss: 0.652981, Valid Acc: 0.653061, Valid F1: 0.600485\n"
     ]
    },
    {
     "name": "stderr",
     "output_type": "stream",
     "text": [
      "                                                                                           \r"
     ]
    },
    {
     "name": "stdout",
     "output_type": "stream",
     "text": [
      "Epoch 117: Train Loss: 0.005454, Train Acc: 1.000000, Train F1: 1.000000, Valid Loss: 0.690728, Valid Acc: 0.673469, Valid F1: 0.618011\n"
     ]
    },
    {
     "name": "stderr",
     "output_type": "stream",
     "text": [
      "                                                                                           \r"
     ]
    },
    {
     "name": "stdout",
     "output_type": "stream",
     "text": [
      "Epoch 118: Train Loss: 0.010265, Train Acc: 0.998299, Train F1: 0.998358, Valid Loss: 0.642985, Valid Acc: 0.625850, Valid F1: 0.545484\n"
     ]
    },
    {
     "name": "stderr",
     "output_type": "stream",
     "text": [
      "                                                                                           \r"
     ]
    },
    {
     "name": "stdout",
     "output_type": "stream",
     "text": [
      "Epoch 119: Train Loss: 0.006143, Train Acc: 1.000000, Train F1: 1.000000, Valid Loss: 0.664863, Valid Acc: 0.612245, Valid F1: 0.560604\n"
     ]
    },
    {
     "name": "stderr",
     "output_type": "stream",
     "text": [
      "                                                                                           \r"
     ]
    },
    {
     "name": "stdout",
     "output_type": "stream",
     "text": [
      "Epoch 120: Train Loss: 0.005564, Train Acc: 1.000000, Train F1: 1.000000, Valid Loss: 0.680764, Valid Acc: 0.612245, Valid F1: 0.567201\n"
     ]
    },
    {
     "name": "stderr",
     "output_type": "stream",
     "text": [
      "                                                                                           \r"
     ]
    },
    {
     "name": "stdout",
     "output_type": "stream",
     "text": [
      "Epoch 121: Train Loss: 0.012816, Train Acc: 0.998299, Train F1: 0.998358, Valid Loss: 0.706139, Valid Acc: 0.619048, Valid F1: 0.600037\n"
     ]
    },
    {
     "name": "stderr",
     "output_type": "stream",
     "text": [
      "                                                                                           \r"
     ]
    },
    {
     "name": "stdout",
     "output_type": "stream",
     "text": [
      "Epoch 122: Train Loss: 0.004772, Train Acc: 1.000000, Train F1: 1.000000, Valid Loss: 0.623592, Valid Acc: 0.632653, Valid F1: 0.608308\n"
     ]
    },
    {
     "name": "stderr",
     "output_type": "stream",
     "text": [
      "                                                                                           \r"
     ]
    },
    {
     "name": "stdout",
     "output_type": "stream",
     "text": [
      "Epoch 123: Train Loss: 0.012459, Train Acc: 0.996599, Train F1: 0.996678, Valid Loss: 0.657313, Valid Acc: 0.653061, Valid F1: 0.609985\n"
     ]
    },
    {
     "name": "stderr",
     "output_type": "stream",
     "text": [
      "                                                                                           \r"
     ]
    },
    {
     "name": "stdout",
     "output_type": "stream",
     "text": [
      "Epoch 124: Train Loss: 0.020505, Train Acc: 0.998299, Train F1: 0.997579, Valid Loss: 0.647985, Valid Acc: 0.646259, Valid F1: 0.605146\n"
     ]
    },
    {
     "name": "stderr",
     "output_type": "stream",
     "text": [
      "                                                                                           \r"
     ]
    },
    {
     "name": "stdout",
     "output_type": "stream",
     "text": [
      "Epoch 125: Train Loss: 0.010541, Train Acc: 1.000000, Train F1: 1.000000, Valid Loss: 0.848085, Valid Acc: 0.653061, Valid F1: 0.620280\n"
     ]
    },
    {
     "name": "stderr",
     "output_type": "stream",
     "text": [
      "                                                                                           \r"
     ]
    },
    {
     "name": "stdout",
     "output_type": "stream",
     "text": [
      "Epoch 126: Train Loss: 0.017418, Train Acc: 0.998299, Train F1: 0.997579, Valid Loss: 0.757074, Valid Acc: 0.653061, Valid F1: 0.638091\n"
     ]
    },
    {
     "name": "stderr",
     "output_type": "stream",
     "text": [
      "                                                                                           \r"
     ]
    },
    {
     "name": "stdout",
     "output_type": "stream",
     "text": [
      "Epoch 127: Train Loss: 0.014072, Train Acc: 0.998299, Train F1: 0.997658, Valid Loss: 0.687316, Valid Acc: 0.632653, Valid F1: 0.626646\n"
     ]
    },
    {
     "name": "stderr",
     "output_type": "stream",
     "text": [
      "                                                                                           \r"
     ]
    },
    {
     "name": "stdout",
     "output_type": "stream",
     "text": [
      "Epoch 128: Train Loss: 0.007690, Train Acc: 1.000000, Train F1: 1.000000, Valid Loss: 0.706451, Valid Acc: 0.632653, Valid F1: 0.615505\n"
     ]
    },
    {
     "name": "stderr",
     "output_type": "stream",
     "text": [
      "                                                                                           \r"
     ]
    },
    {
     "name": "stdout",
     "output_type": "stream",
     "text": [
      "Epoch 129: Train Loss: 0.010972, Train Acc: 0.998299, Train F1: 0.997658, Valid Loss: 0.801284, Valid Acc: 0.639456, Valid F1: 0.598467\n"
     ]
    },
    {
     "name": "stderr",
     "output_type": "stream",
     "text": [
      "                                                                                           \r"
     ]
    },
    {
     "name": "stdout",
     "output_type": "stream",
     "text": [
      "Epoch 130: Train Loss: 0.017372, Train Acc: 0.998299, Train F1: 0.995074, Valid Loss: 0.668709, Valid Acc: 0.680272, Valid F1: 0.624195\n"
     ]
    },
    {
     "name": "stderr",
     "output_type": "stream",
     "text": [
      "                                                                                           \r"
     ]
    },
    {
     "name": "stdout",
     "output_type": "stream",
     "text": [
      "Epoch 131: Train Loss: 0.008963, Train Acc: 1.000000, Train F1: 1.000000, Valid Loss: 0.661596, Valid Acc: 0.680272, Valid F1: 0.634657\n"
     ]
    },
    {
     "name": "stderr",
     "output_type": "stream",
     "text": [
      "                                                                                           \r"
     ]
    },
    {
     "name": "stdout",
     "output_type": "stream",
     "text": [
      "Epoch 132: Train Loss: 0.008773, Train Acc: 1.000000, Train F1: 1.000000, Valid Loss: 0.821911, Valid Acc: 0.680272, Valid F1: 0.649261\n"
     ]
    },
    {
     "name": "stderr",
     "output_type": "stream",
     "text": [
      "                                                                                           \r"
     ]
    },
    {
     "name": "stdout",
     "output_type": "stream",
     "text": [
      "Epoch 133: Train Loss: 0.019228, Train Acc: 0.998299, Train F1: 0.995074, Valid Loss: 0.827979, Valid Acc: 0.673469, Valid F1: 0.623339\n"
     ]
    },
    {
     "name": "stderr",
     "output_type": "stream",
     "text": [
      "                                                                                           \r"
     ]
    },
    {
     "name": "stdout",
     "output_type": "stream",
     "text": [
      "Epoch 134: Train Loss: 0.006507, Train Acc: 1.000000, Train F1: 1.000000, Valid Loss: 0.727171, Valid Acc: 0.632653, Valid F1: 0.621980\n"
     ]
    },
    {
     "name": "stderr",
     "output_type": "stream",
     "text": [
      "                                                                                           \r"
     ]
    },
    {
     "name": "stdout",
     "output_type": "stream",
     "text": [
      "Epoch 135: Train Loss: 0.011691, Train Acc: 1.000000, Train F1: 1.000000, Valid Loss: 0.735427, Valid Acc: 0.591837, Valid F1: 0.597553\n"
     ]
    },
    {
     "name": "stderr",
     "output_type": "stream",
     "text": [
      "                                                                                           \r"
     ]
    },
    {
     "name": "stdout",
     "output_type": "stream",
     "text": [
      "Epoch 136: Train Loss: 0.008257, Train Acc: 1.000000, Train F1: 1.000000, Valid Loss: 0.739091, Valid Acc: 0.605442, Valid F1: 0.598452\n"
     ]
    },
    {
     "name": "stderr",
     "output_type": "stream",
     "text": [
      "                                                                                           \r"
     ]
    },
    {
     "name": "stdout",
     "output_type": "stream",
     "text": [
      "Epoch 137: Train Loss: 0.007045, Train Acc: 1.000000, Train F1: 1.000000, Valid Loss: 0.741448, Valid Acc: 0.612245, Valid F1: 0.602447\n"
     ]
    },
    {
     "name": "stderr",
     "output_type": "stream",
     "text": [
      "                                                                                           \r"
     ]
    },
    {
     "name": "stdout",
     "output_type": "stream",
     "text": [
      "Epoch 138: Train Loss: 0.061115, Train Acc: 0.994898, Train F1: 0.993828, Valid Loss: 0.670972, Valid Acc: 0.625850, Valid F1: 0.613563\n"
     ]
    },
    {
     "name": "stderr",
     "output_type": "stream",
     "text": [
      "                                                                                           \r"
     ]
    },
    {
     "name": "stdout",
     "output_type": "stream",
     "text": [
      "Epoch 139: Train Loss: 0.023440, Train Acc: 0.991497, Train F1: 0.988016, Valid Loss: 0.679691, Valid Acc: 0.625850, Valid F1: 0.622830\n"
     ]
    },
    {
     "name": "stderr",
     "output_type": "stream",
     "text": [
      "                                                                                           \r"
     ]
    },
    {
     "name": "stdout",
     "output_type": "stream",
     "text": [
      "Epoch 140: Train Loss: 0.066960, Train Acc: 0.981293, Train F1: 0.979243, Valid Loss: 0.642193, Valid Acc: 0.646259, Valid F1: 0.638690\n"
     ]
    },
    {
     "name": "stderr",
     "output_type": "stream",
     "text": [
      "                                                                                           \r"
     ]
    },
    {
     "name": "stdout",
     "output_type": "stream",
     "text": [
      "Epoch 141: Train Loss: 0.022027, Train Acc: 0.994898, Train F1: 0.995352, Valid Loss: 0.669621, Valid Acc: 0.659864, Valid F1: 0.655942\n"
     ]
    },
    {
     "name": "stderr",
     "output_type": "stream",
     "text": [
      "                                                                                           \r"
     ]
    },
    {
     "name": "stdout",
     "output_type": "stream",
     "text": [
      "Epoch 142: Train Loss: 0.009014, Train Acc: 1.000000, Train F1: 1.000000, Valid Loss: 0.621940, Valid Acc: 0.653061, Valid F1: 0.619750\n"
     ]
    },
    {
     "name": "stderr",
     "output_type": "stream",
     "text": [
      "                                                                                           \r"
     ]
    },
    {
     "name": "stdout",
     "output_type": "stream",
     "text": [
      "Epoch 143: Train Loss: 0.027144, Train Acc: 0.998299, Train F1: 0.997930, Valid Loss: 0.762099, Valid Acc: 0.666667, Valid F1: 0.631232\n"
     ]
    },
    {
     "name": "stderr",
     "output_type": "stream",
     "text": [
      "                                                                                           \r"
     ]
    },
    {
     "name": "stdout",
     "output_type": "stream",
     "text": [
      "Epoch 144: Train Loss: 0.026940, Train Acc: 0.994898, Train F1: 0.993828, Valid Loss: 0.628394, Valid Acc: 0.666667, Valid F1: 0.636895\n"
     ]
    },
    {
     "name": "stderr",
     "output_type": "stream",
     "text": [
      "                                                                                           \r"
     ]
    },
    {
     "name": "stdout",
     "output_type": "stream",
     "text": [
      "Epoch 145: Train Loss: 0.020785, Train Acc: 0.993197, Train F1: 0.991622, Valid Loss: 0.770056, Valid Acc: 0.653061, Valid F1: 0.643971\n"
     ]
    },
    {
     "name": "stderr",
     "output_type": "stream",
     "text": [
      "                                                                                           \r"
     ]
    },
    {
     "name": "stdout",
     "output_type": "stream",
     "text": [
      "Epoch 146: Train Loss: 0.031571, Train Acc: 0.996599, Train F1: 0.993124, Valid Loss: 0.679662, Valid Acc: 0.639456, Valid F1: 0.636120\n"
     ]
    },
    {
     "name": "stderr",
     "output_type": "stream",
     "text": [
      "                                                                                           \r"
     ]
    },
    {
     "name": "stdout",
     "output_type": "stream",
     "text": [
      "Epoch 147: Train Loss: 0.010527, Train Acc: 0.998299, Train F1: 0.997988, Valid Loss: 0.624216, Valid Acc: 0.666667, Valid F1: 0.640115\n"
     ]
    },
    {
     "name": "stderr",
     "output_type": "stream",
     "text": [
      "                                                                                           \r"
     ]
    },
    {
     "name": "stdout",
     "output_type": "stream",
     "text": [
      "Epoch 148: Train Loss: 0.007630, Train Acc: 1.000000, Train F1: 1.000000, Valid Loss: 0.606775, Valid Acc: 0.687075, Valid F1: 0.635646\n"
     ]
    },
    {
     "name": "stderr",
     "output_type": "stream",
     "text": [
      "                                                                                           \r"
     ]
    },
    {
     "name": "stdout",
     "output_type": "stream",
     "text": [
      "Epoch 149: Train Loss: 0.007890, Train Acc: 0.998299, Train F1: 0.997658, Valid Loss: 0.587391, Valid Acc: 0.666667, Valid F1: 0.617320\n"
     ]
    },
    {
     "name": "stderr",
     "output_type": "stream",
     "text": [
      "                                                                                           \r"
     ]
    },
    {
     "name": "stdout",
     "output_type": "stream",
     "text": [
      "Epoch 150: Train Loss: 0.010044, Train Acc: 1.000000, Train F1: 1.000000, Valid Loss: 0.647957, Valid Acc: 0.659864, Valid F1: 0.630379\n"
     ]
    },
    {
     "name": "stderr",
     "output_type": "stream",
     "text": [
      "                                                                                           \r"
     ]
    },
    {
     "name": "stdout",
     "output_type": "stream",
     "text": [
      "Epoch 151: Train Loss: 0.004991, Train Acc: 1.000000, Train F1: 1.000000, Valid Loss: 0.634108, Valid Acc: 0.653061, Valid F1: 0.611593\n"
     ]
    },
    {
     "name": "stderr",
     "output_type": "stream",
     "text": [
      "                                                                                           \r"
     ]
    },
    {
     "name": "stdout",
     "output_type": "stream",
     "text": [
      "Epoch 152: Train Loss: 0.006556, Train Acc: 1.000000, Train F1: 1.000000, Valid Loss: 0.633888, Valid Acc: 0.639456, Valid F1: 0.613493\n"
     ]
    },
    {
     "name": "stderr",
     "output_type": "stream",
     "text": [
      "                                                                                           \r"
     ]
    },
    {
     "name": "stdout",
     "output_type": "stream",
     "text": [
      "Epoch 153: Train Loss: 0.004724, Train Acc: 1.000000, Train F1: 1.000000, Valid Loss: 0.621532, Valid Acc: 0.646259, Valid F1: 0.627665\n"
     ]
    },
    {
     "name": "stderr",
     "output_type": "stream",
     "text": [
      "                                                                                           \r"
     ]
    },
    {
     "name": "stdout",
     "output_type": "stream",
     "text": [
      "Epoch 154: Train Loss: 0.004371, Train Acc: 1.000000, Train F1: 1.000000, Valid Loss: 0.605006, Valid Acc: 0.653061, Valid F1: 0.623311\n"
     ]
    },
    {
     "name": "stderr",
     "output_type": "stream",
     "text": [
      "                                                                                           \r"
     ]
    },
    {
     "name": "stdout",
     "output_type": "stream",
     "text": [
      "Epoch 155: Train Loss: 0.004713, Train Acc: 1.000000, Train F1: 1.000000, Valid Loss: 0.649349, Valid Acc: 0.653061, Valid F1: 0.636045\n"
     ]
    },
    {
     "name": "stderr",
     "output_type": "stream",
     "text": [
      "                                                                                           \r"
     ]
    },
    {
     "name": "stdout",
     "output_type": "stream",
     "text": [
      "Epoch 156: Train Loss: 0.005136, Train Acc: 1.000000, Train F1: 1.000000, Valid Loss: 0.629364, Valid Acc: 0.666667, Valid F1: 0.628095\n"
     ]
    },
    {
     "name": "stderr",
     "output_type": "stream",
     "text": [
      "                                                                                           \r"
     ]
    },
    {
     "name": "stdout",
     "output_type": "stream",
     "text": [
      "Epoch 157: Train Loss: 0.006958, Train Acc: 1.000000, Train F1: 1.000000, Valid Loss: 0.611176, Valid Acc: 0.646259, Valid F1: 0.619918\n"
     ]
    },
    {
     "name": "stderr",
     "output_type": "stream",
     "text": [
      "                                                                                           \r"
     ]
    },
    {
     "name": "stdout",
     "output_type": "stream",
     "text": [
      "Epoch 158: Train Loss: 0.005343, Train Acc: 1.000000, Train F1: 1.000000, Valid Loss: 0.668367, Valid Acc: 0.659864, Valid F1: 0.637965\n"
     ]
    },
    {
     "name": "stderr",
     "output_type": "stream",
     "text": [
      "                                                                                           \r"
     ]
    },
    {
     "name": "stdout",
     "output_type": "stream",
     "text": [
      "Epoch 159: Train Loss: 0.002846, Train Acc: 1.000000, Train F1: 1.000000, Valid Loss: 0.630064, Valid Acc: 0.659864, Valid F1: 0.622253\n"
     ]
    },
    {
     "name": "stderr",
     "output_type": "stream",
     "text": [
      "                                                                                           \r"
     ]
    },
    {
     "name": "stdout",
     "output_type": "stream",
     "text": [
      "Epoch 160: Train Loss: 0.004540, Train Acc: 1.000000, Train F1: 1.000000, Valid Loss: 0.649743, Valid Acc: 0.673469, Valid F1: 0.643022\n"
     ]
    },
    {
     "name": "stderr",
     "output_type": "stream",
     "text": [
      "                                                                                           \r"
     ]
    },
    {
     "name": "stdout",
     "output_type": "stream",
     "text": [
      "Epoch 161: Train Loss: 0.003902, Train Acc: 1.000000, Train F1: 1.000000, Valid Loss: 0.635755, Valid Acc: 0.673469, Valid F1: 0.626022\n"
     ]
    },
    {
     "name": "stderr",
     "output_type": "stream",
     "text": [
      "                                                                                           \r"
     ]
    },
    {
     "name": "stdout",
     "output_type": "stream",
     "text": [
      "Epoch 162: Train Loss: 0.004182, Train Acc: 1.000000, Train F1: 1.000000, Valid Loss: 0.614460, Valid Acc: 0.659864, Valid F1: 0.617802\n"
     ]
    },
    {
     "name": "stderr",
     "output_type": "stream",
     "text": [
      "                                                                                           \r"
     ]
    },
    {
     "name": "stdout",
     "output_type": "stream",
     "text": [
      "Epoch 163: Train Loss: 0.003503, Train Acc: 1.000000, Train F1: 1.000000, Valid Loss: 0.640299, Valid Acc: 0.666667, Valid F1: 0.621389\n"
     ]
    },
    {
     "name": "stderr",
     "output_type": "stream",
     "text": [
      "                                                                                           \r"
     ]
    },
    {
     "name": "stdout",
     "output_type": "stream",
     "text": [
      "Epoch 164: Train Loss: 0.004461, Train Acc: 1.000000, Train F1: 1.000000, Valid Loss: 0.624552, Valid Acc: 0.680272, Valid F1: 0.611624\n"
     ]
    },
    {
     "name": "stderr",
     "output_type": "stream",
     "text": [
      "                                                                                           \r"
     ]
    },
    {
     "name": "stdout",
     "output_type": "stream",
     "text": [
      "Epoch 165: Train Loss: 0.005098, Train Acc: 1.000000, Train F1: 1.000000, Valid Loss: 0.642614, Valid Acc: 0.673469, Valid F1: 0.596441\n"
     ]
    },
    {
     "name": "stderr",
     "output_type": "stream",
     "text": [
      "                                                                                           \r"
     ]
    },
    {
     "name": "stdout",
     "output_type": "stream",
     "text": [
      "Epoch 166: Train Loss: 0.004070, Train Acc: 1.000000, Train F1: 1.000000, Valid Loss: 0.619468, Valid Acc: 0.653061, Valid F1: 0.557890\n"
     ]
    },
    {
     "name": "stderr",
     "output_type": "stream",
     "text": [
      "                                                                                           \r"
     ]
    },
    {
     "name": "stdout",
     "output_type": "stream",
     "text": [
      "Epoch 167: Train Loss: 0.003179, Train Acc: 1.000000, Train F1: 1.000000, Valid Loss: 0.630061, Valid Acc: 0.673469, Valid F1: 0.602739\n"
     ]
    },
    {
     "name": "stderr",
     "output_type": "stream",
     "text": [
      "                                                                                           \r"
     ]
    },
    {
     "name": "stdout",
     "output_type": "stream",
     "text": [
      "Epoch 168: Train Loss: 0.002265, Train Acc: 1.000000, Train F1: 1.000000, Valid Loss: 0.634861, Valid Acc: 0.693878, Valid F1: 0.605877\n"
     ]
    },
    {
     "name": "stderr",
     "output_type": "stream",
     "text": [
      "                                                                                           \r"
     ]
    },
    {
     "name": "stdout",
     "output_type": "stream",
     "text": [
      "Epoch 169: Train Loss: 0.002976, Train Acc: 1.000000, Train F1: 1.000000, Valid Loss: 0.631192, Valid Acc: 0.700680, Valid F1: 0.638966\n"
     ]
    },
    {
     "name": "stderr",
     "output_type": "stream",
     "text": [
      "                                                                                           \r"
     ]
    },
    {
     "name": "stdout",
     "output_type": "stream",
     "text": [
      "Epoch 170: Train Loss: 0.002130, Train Acc: 1.000000, Train F1: 1.000000, Valid Loss: 0.605938, Valid Acc: 0.700680, Valid F1: 0.647917\n"
     ]
    },
    {
     "name": "stderr",
     "output_type": "stream",
     "text": [
      "                                                                                           \r"
     ]
    },
    {
     "name": "stdout",
     "output_type": "stream",
     "text": [
      "Epoch 171: Train Loss: 0.002623, Train Acc: 1.000000, Train F1: 1.000000, Valid Loss: 0.609826, Valid Acc: 0.653061, Valid F1: 0.604674\n"
     ]
    },
    {
     "name": "stderr",
     "output_type": "stream",
     "text": [
      "                                                                                           \r"
     ]
    },
    {
     "name": "stdout",
     "output_type": "stream",
     "text": [
      "Epoch 172: Train Loss: 0.002060, Train Acc: 1.000000, Train F1: 1.000000, Valid Loss: 0.621786, Valid Acc: 0.659864, Valid F1: 0.609130\n"
     ]
    },
    {
     "name": "stderr",
     "output_type": "stream",
     "text": [
      "                                                                                           \r"
     ]
    },
    {
     "name": "stdout",
     "output_type": "stream",
     "text": [
      "Epoch 173: Train Loss: 0.003510, Train Acc: 1.000000, Train F1: 1.000000, Valid Loss: 0.626632, Valid Acc: 0.666667, Valid F1: 0.596478\n"
     ]
    },
    {
     "name": "stderr",
     "output_type": "stream",
     "text": [
      "                                                                                           \r"
     ]
    },
    {
     "name": "stdout",
     "output_type": "stream",
     "text": [
      "Epoch 174: Train Loss: 0.001708, Train Acc: 1.000000, Train F1: 1.000000, Valid Loss: 0.627685, Valid Acc: 0.639456, Valid F1: 0.569188\n"
     ]
    },
    {
     "name": "stderr",
     "output_type": "stream",
     "text": [
      "                                                                                           \r"
     ]
    },
    {
     "name": "stdout",
     "output_type": "stream",
     "text": [
      "Epoch 175: Train Loss: 0.002124, Train Acc: 1.000000, Train F1: 1.000000, Valid Loss: 0.643434, Valid Acc: 0.632653, Valid F1: 0.592582\n"
     ]
    },
    {
     "name": "stderr",
     "output_type": "stream",
     "text": [
      "                                                                                           \r"
     ]
    },
    {
     "name": "stdout",
     "output_type": "stream",
     "text": [
      "Epoch 176: Train Loss: 0.004806, Train Acc: 1.000000, Train F1: 1.000000, Valid Loss: 0.601652, Valid Acc: 0.659864, Valid F1: 0.614908\n"
     ]
    },
    {
     "name": "stderr",
     "output_type": "stream",
     "text": [
      "                                                                                           \r"
     ]
    },
    {
     "name": "stdout",
     "output_type": "stream",
     "text": [
      "Epoch 177: Train Loss: 0.002135, Train Acc: 1.000000, Train F1: 1.000000, Valid Loss: 0.625720, Valid Acc: 0.646259, Valid F1: 0.605849\n"
     ]
    },
    {
     "name": "stderr",
     "output_type": "stream",
     "text": [
      "                                                                                           \r"
     ]
    },
    {
     "name": "stdout",
     "output_type": "stream",
     "text": [
      "Epoch 178: Train Loss: 0.002035, Train Acc: 1.000000, Train F1: 1.000000, Valid Loss: 0.658579, Valid Acc: 0.659864, Valid F1: 0.616974\n"
     ]
    },
    {
     "name": "stderr",
     "output_type": "stream",
     "text": [
      "                                                                                           \r"
     ]
    },
    {
     "name": "stdout",
     "output_type": "stream",
     "text": [
      "Epoch 179: Train Loss: 0.005091, Train Acc: 1.000000, Train F1: 1.000000, Valid Loss: 0.609334, Valid Acc: 0.653061, Valid F1: 0.609951\n"
     ]
    },
    {
     "name": "stderr",
     "output_type": "stream",
     "text": [
      "                                                                                           \r"
     ]
    },
    {
     "name": "stdout",
     "output_type": "stream",
     "text": [
      "Epoch 180: Train Loss: 0.002279, Train Acc: 1.000000, Train F1: 1.000000, Valid Loss: 0.617019, Valid Acc: 0.666667, Valid F1: 0.623566\n"
     ]
    },
    {
     "name": "stderr",
     "output_type": "stream",
     "text": [
      "                                                                                           \r"
     ]
    },
    {
     "name": "stdout",
     "output_type": "stream",
     "text": [
      "Epoch 181: Train Loss: 0.002987, Train Acc: 1.000000, Train F1: 1.000000, Valid Loss: 0.608448, Valid Acc: 0.666667, Valid F1: 0.622739\n"
     ]
    },
    {
     "name": "stderr",
     "output_type": "stream",
     "text": [
      "                                                                                           \r"
     ]
    },
    {
     "name": "stdout",
     "output_type": "stream",
     "text": [
      "Epoch 182: Train Loss: 0.002188, Train Acc: 1.000000, Train F1: 1.000000, Valid Loss: 0.647016, Valid Acc: 0.653061, Valid F1: 0.607354\n"
     ]
    },
    {
     "name": "stderr",
     "output_type": "stream",
     "text": [
      "                                                                                           \r"
     ]
    },
    {
     "name": "stdout",
     "output_type": "stream",
     "text": [
      "Epoch 183: Train Loss: 0.004693, Train Acc: 1.000000, Train F1: 1.000000, Valid Loss: 0.634377, Valid Acc: 0.639456, Valid F1: 0.600443\n"
     ]
    },
    {
     "name": "stderr",
     "output_type": "stream",
     "text": [
      "                                                                                           \r"
     ]
    },
    {
     "name": "stdout",
     "output_type": "stream",
     "text": [
      "Epoch 184: Train Loss: 0.002073, Train Acc: 1.000000, Train F1: 1.000000, Valid Loss: 0.634961, Valid Acc: 0.653061, Valid F1: 0.611759\n"
     ]
    },
    {
     "name": "stderr",
     "output_type": "stream",
     "text": [
      "                                                                                           \r"
     ]
    },
    {
     "name": "stdout",
     "output_type": "stream",
     "text": [
      "Epoch 185: Train Loss: 0.003347, Train Acc: 1.000000, Train F1: 1.000000, Valid Loss: 0.624431, Valid Acc: 0.625850, Valid F1: 0.588281\n"
     ]
    },
    {
     "name": "stderr",
     "output_type": "stream",
     "text": [
      "                                                                                           \r"
     ]
    },
    {
     "name": "stdout",
     "output_type": "stream",
     "text": [
      "Epoch 186: Train Loss: 0.002363, Train Acc: 1.000000, Train F1: 1.000000, Valid Loss: 0.664652, Valid Acc: 0.639456, Valid F1: 0.610814\n"
     ]
    },
    {
     "name": "stderr",
     "output_type": "stream",
     "text": [
      "                                                                                           \r"
     ]
    },
    {
     "name": "stdout",
     "output_type": "stream",
     "text": [
      "Epoch 187: Train Loss: 0.004114, Train Acc: 1.000000, Train F1: 1.000000, Valid Loss: 0.655798, Valid Acc: 0.619048, Valid F1: 0.577502\n"
     ]
    },
    {
     "name": "stderr",
     "output_type": "stream",
     "text": [
      "                                                                                           \r"
     ]
    },
    {
     "name": "stdout",
     "output_type": "stream",
     "text": [
      "Epoch 188: Train Loss: 0.003940, Train Acc: 1.000000, Train F1: 1.000000, Valid Loss: 0.641179, Valid Acc: 0.653061, Valid F1: 0.607572\n"
     ]
    },
    {
     "name": "stderr",
     "output_type": "stream",
     "text": [
      "                                                                                           \r"
     ]
    },
    {
     "name": "stdout",
     "output_type": "stream",
     "text": [
      "Epoch 189: Train Loss: 0.003044, Train Acc: 1.000000, Train F1: 1.000000, Valid Loss: 0.637455, Valid Acc: 0.639456, Valid F1: 0.601153\n"
     ]
    },
    {
     "name": "stderr",
     "output_type": "stream",
     "text": [
      "                                                                                           \r"
     ]
    },
    {
     "name": "stdout",
     "output_type": "stream",
     "text": [
      "Epoch 190: Train Loss: 0.002217, Train Acc: 1.000000, Train F1: 1.000000, Valid Loss: 0.641678, Valid Acc: 0.625850, Valid F1: 0.589799\n"
     ]
    },
    {
     "name": "stderr",
     "output_type": "stream",
     "text": [
      "                                                                                           \r"
     ]
    },
    {
     "name": "stdout",
     "output_type": "stream",
     "text": [
      "Epoch 191: Train Loss: 0.001675, Train Acc: 1.000000, Train F1: 1.000000, Valid Loss: 0.644863, Valid Acc: 0.625850, Valid F1: 0.585196\n"
     ]
    },
    {
     "name": "stderr",
     "output_type": "stream",
     "text": [
      "                                                                                           \r"
     ]
    },
    {
     "name": "stdout",
     "output_type": "stream",
     "text": [
      "Epoch 192: Train Loss: 0.001513, Train Acc: 1.000000, Train F1: 1.000000, Valid Loss: 0.628437, Valid Acc: 0.632653, Valid F1: 0.599148\n"
     ]
    },
    {
     "name": "stderr",
     "output_type": "stream",
     "text": [
      "                                                                                           \r"
     ]
    },
    {
     "name": "stdout",
     "output_type": "stream",
     "text": [
      "Epoch 193: Train Loss: 0.002477, Train Acc: 1.000000, Train F1: 1.000000, Valid Loss: 0.646304, Valid Acc: 0.653061, Valid F1: 0.619471\n"
     ]
    },
    {
     "name": "stderr",
     "output_type": "stream",
     "text": [
      "                                                                                           \r"
     ]
    },
    {
     "name": "stdout",
     "output_type": "stream",
     "text": [
      "Epoch 194: Train Loss: 0.003350, Train Acc: 1.000000, Train F1: 1.000000, Valid Loss: 0.637237, Valid Acc: 0.639456, Valid F1: 0.599695\n"
     ]
    },
    {
     "name": "stderr",
     "output_type": "stream",
     "text": [
      "                                                                                           \r"
     ]
    },
    {
     "name": "stdout",
     "output_type": "stream",
     "text": [
      "Epoch 195: Train Loss: 0.004871, Train Acc: 1.000000, Train F1: 1.000000, Valid Loss: 0.639575, Valid Acc: 0.625850, Valid F1: 0.591052\n"
     ]
    },
    {
     "name": "stderr",
     "output_type": "stream",
     "text": [
      "                                                                                           \r"
     ]
    },
    {
     "name": "stdout",
     "output_type": "stream",
     "text": [
      "Epoch 196: Train Loss: 0.001979, Train Acc: 1.000000, Train F1: 1.000000, Valid Loss: 0.645052, Valid Acc: 0.632653, Valid F1: 0.574425\n"
     ]
    },
    {
     "name": "stderr",
     "output_type": "stream",
     "text": [
      "                                                                                           \r"
     ]
    },
    {
     "name": "stdout",
     "output_type": "stream",
     "text": [
      "Epoch 197: Train Loss: 0.002498, Train Acc: 1.000000, Train F1: 1.000000, Valid Loss: 0.641017, Valid Acc: 0.653061, Valid F1: 0.545831\n"
     ]
    },
    {
     "name": "stderr",
     "output_type": "stream",
     "text": [
      "                                                                                           \r"
     ]
    },
    {
     "name": "stdout",
     "output_type": "stream",
     "text": [
      "Epoch 198: Train Loss: 0.001628, Train Acc: 1.000000, Train F1: 1.000000, Valid Loss: 0.640113, Valid Acc: 0.687075, Valid F1: 0.620197\n"
     ]
    },
    {
     "name": "stderr",
     "output_type": "stream",
     "text": [
      "                                                                                           \r"
     ]
    },
    {
     "name": "stdout",
     "output_type": "stream",
     "text": [
      "Epoch 199: Train Loss: 0.004471, Train Acc: 1.000000, Train F1: 1.000000, Valid Loss: 0.625859, Valid Acc: 0.673469, Valid F1: 0.562353\n"
     ]
    },
    {
     "name": "stderr",
     "output_type": "stream",
     "text": [
      "                                                                                           "
     ]
    },
    {
     "name": "stdout",
     "output_type": "stream",
     "text": [
      "Epoch 200: Train Loss: 0.002683, Train Acc: 1.000000, Train F1: 1.000000, Valid Loss: 0.612798, Valid Acc: 0.673469, Valid F1: 0.620457\n"
     ]
    },
    {
     "name": "stderr",
     "output_type": "stream",
     "text": [
      "\r"
     ]
    }
   ],
   "source": [
    "import logging\n",
    "import torch\n",
    "import torch.optim as optim\n",
    "from torch.utils.data import DataLoader\n",
    "from torch.nn import BCELoss\n",
    "from torchvision import transforms\n",
    "from sklearn.model_selection import KFold\n",
    "import timm\n",
    "\n",
    "full_dataset = CustomDataset(full_df, train_transforms)  # full_df는 전체 데이터프레임을 나타냅니다.\n",
    "\n",
    "kf = KFold(n_splits=5, shuffle=True, random_state=1020)\n",
    "\n",
    "fold_perf = {}\n",
    "\n",
    "for fold, (train_idx, valid_idx) in enumerate(kf.split(full_dataset)):\n",
    "    logging.info(f\"Starting Fold {fold+1}\")\n",
    "    \n",
    "    # 데이터셋 분할\n",
    "    train_subsampler = torch.utils.data.SubsetRandomSampler(train_idx)\n",
    "    valid_subsampler = torch.utils.data.SubsetRandomSampler(valid_idx)\n",
    "    \n",
    "    # 데이터 로더 설정\n",
    "    train_loader = DataLoader(full_dataset, batch_size=16, sampler=train_subsampler, num_workers=8)\n",
    "    valid_loader = DataLoader(full_dataset, batch_size=16, sampler=valid_subsampler, num_workers=8)\n",
    "    \n",
    "    # 모델 초기화 및 이동\n",
    "    model = timm.create_model('seresnext101_32x4d', pretrained=True, num_classes=7)\n",
    "    model = model.to('cuda')\n",
    "    \n",
    "    # 손실 함수, 최적화, 스케줄러 설정\n",
    "    criterion = BCELoss()\n",
    "    optimizer = optim.AdamW(model.parameters(), lr=1e-4)\n",
    "    scheduler = torch.optim.lr_scheduler.CosineAnnealingWarmRestarts(optimizer, T_0=50, T_mult=1, eta_min=0.00007)\n",
    "    \n",
    "    best_f1 = -float('inf')\n",
    "    best_loss = 0\n",
    "\n",
    "    # 학습 및 검증\n",
    "    for epoch in range(epochs):\n",
    "        train_loss, train_acc, train_f1 = run_model(model, train_loader, criterion, optimizer, is_training=True, epoch=epoch)\n",
    "        valid_loss, valid_acc, valid_f1 = run_model(model, valid_loader, criterion, optimizer, is_training=False, epoch=epoch)\n",
    "        \n",
    "        print(f'Epoch {epoch+1}: Train Loss: {train_loss:.6f}, Train Acc: {train_acc:.6f}, Train F1: {train_f1:.6f}, Valid Loss: {valid_loss:.6f}, Valid Acc: {valid_acc:.6f}, Valid F1: {valid_f1:.6f}')\n",
    "        \n",
    "        if valid_f1 > best_f1:\n",
    "            best_f1 = valid_f1\n",
    "            best_loss = valid_loss\n",
    "            model_path = f'result/fold_{fold}_f1-{best_f1:.3f}_loss-{best_loss:.3f}_S1check.pt'\n",
    "            torch.save(model.state_dict(), model_path)\n",
    "            logging.info(f'New best F1-score {valid_f1:.4f} achieved at epoch {epoch}, model saved at {model_path}')\n",
    "        \n",
    "        scheduler.step()\n",
    "    \n",
    "    # 각 fold의 성능 기록\n",
    "    fold_perf[fold] = {\n",
    "        'train_loss': train_loss,\n",
    "        'train_acc': train_acc,\n",
    "        'train_f1': train_f1,\n",
    "        'valid_loss': valid_loss,\n",
    "        'valid_acc': valid_acc,\n",
    "        'valid_f1': valid_f1\n",
    "    }"
   ]
  },
  {
   "cell_type": "code",
   "execution_count": 34,
   "metadata": {},
   "outputs": [
    {
     "name": "stdout",
     "output_type": "stream",
     "text": [
      "bat_resnext26ts\n",
      "beit_base_patch16_224\n",
      "beit_base_patch16_384\n",
      "beit_large_patch16_224\n",
      "beit_large_patch16_384\n",
      "beit_large_patch16_512\n",
      "beitv2_base_patch16_224\n",
      "beitv2_large_patch16_224\n",
      "botnet26t_256\n",
      "botnet50ts_256\n",
      "caformer_b36\n",
      "caformer_m36\n",
      "caformer_s18\n",
      "caformer_s36\n",
      "cait_m36_384\n",
      "cait_m48_448\n",
      "cait_s24_224\n",
      "cait_s24_384\n",
      "cait_s36_384\n",
      "cait_xs24_384\n",
      "cait_xxs24_224\n",
      "cait_xxs24_384\n",
      "cait_xxs36_224\n",
      "cait_xxs36_384\n",
      "coat_lite_medium\n",
      "coat_lite_medium_384\n",
      "coat_lite_mini\n",
      "coat_lite_small\n",
      "coat_lite_tiny\n",
      "coat_mini\n",
      "coat_small\n",
      "coat_tiny\n",
      "coatnet_0_224\n",
      "coatnet_0_rw_224\n",
      "coatnet_1_224\n",
      "coatnet_1_rw_224\n",
      "coatnet_2_224\n",
      "coatnet_2_rw_224\n",
      "coatnet_3_224\n",
      "coatnet_3_rw_224\n",
      "coatnet_4_224\n",
      "coatnet_5_224\n",
      "coatnet_bn_0_rw_224\n",
      "coatnet_nano_cc_224\n",
      "coatnet_nano_rw_224\n",
      "coatnet_pico_rw_224\n",
      "coatnet_rmlp_0_rw_224\n",
      "coatnet_rmlp_1_rw2_224\n",
      "coatnet_rmlp_1_rw_224\n",
      "coatnet_rmlp_2_rw_224\n",
      "coatnet_rmlp_2_rw_384\n",
      "coatnet_rmlp_3_rw_224\n",
      "coatnet_rmlp_nano_rw_224\n",
      "coatnext_nano_rw_224\n",
      "convformer_b36\n",
      "convformer_m36\n",
      "convformer_s18\n",
      "convformer_s36\n",
      "convit_base\n",
      "convit_small\n",
      "convit_tiny\n",
      "convmixer_768_32\n",
      "convmixer_1024_20_ks9_p14\n",
      "convmixer_1536_20\n",
      "convnext_atto\n",
      "convnext_atto_ols\n",
      "convnext_base\n",
      "convnext_femto\n",
      "convnext_femto_ols\n",
      "convnext_large\n",
      "convnext_large_mlp\n",
      "convnext_nano\n",
      "convnext_nano_ols\n",
      "convnext_pico\n",
      "convnext_pico_ols\n",
      "convnext_small\n",
      "convnext_tiny\n",
      "convnext_tiny_hnf\n",
      "convnext_xlarge\n",
      "convnext_xxlarge\n",
      "convnextv2_atto\n",
      "convnextv2_base\n",
      "convnextv2_femto\n",
      "convnextv2_huge\n",
      "convnextv2_large\n",
      "convnextv2_nano\n",
      "convnextv2_pico\n",
      "convnextv2_small\n",
      "convnextv2_tiny\n",
      "crossvit_9_240\n",
      "crossvit_9_dagger_240\n",
      "crossvit_15_240\n",
      "crossvit_15_dagger_240\n",
      "crossvit_15_dagger_408\n",
      "crossvit_18_240\n",
      "crossvit_18_dagger_240\n",
      "crossvit_18_dagger_408\n",
      "crossvit_base_240\n",
      "crossvit_small_240\n",
      "crossvit_tiny_240\n",
      "cs3darknet_focus_l\n",
      "cs3darknet_focus_m\n",
      "cs3darknet_focus_s\n",
      "cs3darknet_focus_x\n",
      "cs3darknet_l\n",
      "cs3darknet_m\n",
      "cs3darknet_s\n",
      "cs3darknet_x\n",
      "cs3edgenet_x\n",
      "cs3se_edgenet_x\n",
      "cs3sedarknet_l\n",
      "cs3sedarknet_x\n",
      "cs3sedarknet_xdw\n",
      "cspdarknet53\n",
      "cspresnet50\n",
      "cspresnet50d\n",
      "cspresnet50w\n",
      "cspresnext50\n",
      "darknet17\n",
      "darknet21\n",
      "darknet53\n",
      "darknetaa53\n",
      "davit_base\n",
      "davit_giant\n",
      "davit_huge\n",
      "davit_large\n",
      "davit_small\n",
      "davit_tiny\n",
      "deit3_base_patch16_224\n",
      "deit3_base_patch16_384\n",
      "deit3_huge_patch14_224\n",
      "deit3_large_patch16_224\n",
      "deit3_large_patch16_384\n",
      "deit3_medium_patch16_224\n",
      "deit3_small_patch16_224\n",
      "deit3_small_patch16_384\n",
      "deit_base_distilled_patch16_224\n",
      "deit_base_distilled_patch16_384\n",
      "deit_base_patch16_224\n",
      "deit_base_patch16_384\n",
      "deit_small_distilled_patch16_224\n",
      "deit_small_patch16_224\n",
      "deit_tiny_distilled_patch16_224\n",
      "deit_tiny_patch16_224\n",
      "densenet121\n",
      "densenet161\n",
      "densenet169\n",
      "densenet201\n",
      "densenet264d\n",
      "densenetblur121d\n",
      "dla34\n",
      "dla46_c\n",
      "dla46x_c\n",
      "dla60\n",
      "dla60_res2net\n",
      "dla60_res2next\n",
      "dla60x\n",
      "dla60x_c\n",
      "dla102\n",
      "dla102x\n",
      "dla102x2\n",
      "dla169\n",
      "dm_nfnet_f0\n",
      "dm_nfnet_f1\n",
      "dm_nfnet_f2\n",
      "dm_nfnet_f3\n",
      "dm_nfnet_f4\n",
      "dm_nfnet_f5\n",
      "dm_nfnet_f6\n",
      "dpn48b\n",
      "dpn68\n",
      "dpn68b\n",
      "dpn92\n",
      "dpn98\n",
      "dpn107\n",
      "dpn131\n",
      "eca_botnext26ts_256\n",
      "eca_halonext26ts\n",
      "eca_nfnet_l0\n",
      "eca_nfnet_l1\n",
      "eca_nfnet_l2\n",
      "eca_nfnet_l3\n",
      "eca_resnet33ts\n",
      "eca_resnext26ts\n",
      "eca_vovnet39b\n",
      "ecaresnet26t\n",
      "ecaresnet50d\n",
      "ecaresnet50d_pruned\n",
      "ecaresnet50t\n",
      "ecaresnet101d\n",
      "ecaresnet101d_pruned\n",
      "ecaresnet200d\n",
      "ecaresnet269d\n",
      "ecaresnetlight\n",
      "ecaresnext26t_32x4d\n",
      "ecaresnext50t_32x4d\n",
      "edgenext_base\n",
      "edgenext_small\n",
      "edgenext_small_rw\n",
      "edgenext_x_small\n",
      "edgenext_xx_small\n",
      "efficientformer_l1\n",
      "efficientformer_l3\n",
      "efficientformer_l7\n",
      "efficientformerv2_l\n",
      "efficientformerv2_s0\n",
      "efficientformerv2_s1\n",
      "efficientformerv2_s2\n",
      "efficientnet_b0\n",
      "efficientnet_b0_g8_gn\n",
      "efficientnet_b0_g16_evos\n",
      "efficientnet_b0_gn\n",
      "efficientnet_b1\n",
      "efficientnet_b1_pruned\n",
      "efficientnet_b2\n",
      "efficientnet_b2_pruned\n",
      "efficientnet_b3\n",
      "efficientnet_b3_g8_gn\n",
      "efficientnet_b3_gn\n",
      "efficientnet_b3_pruned\n",
      "efficientnet_b4\n",
      "efficientnet_b5\n",
      "efficientnet_b6\n",
      "efficientnet_b7\n",
      "efficientnet_b8\n",
      "efficientnet_cc_b0_4e\n",
      "efficientnet_cc_b0_8e\n",
      "efficientnet_cc_b1_8e\n",
      "efficientnet_el\n",
      "efficientnet_el_pruned\n",
      "efficientnet_em\n",
      "efficientnet_es\n",
      "efficientnet_es_pruned\n",
      "efficientnet_l2\n",
      "efficientnet_lite0\n",
      "efficientnet_lite1\n",
      "efficientnet_lite2\n",
      "efficientnet_lite3\n",
      "efficientnet_lite4\n",
      "efficientnetv2_l\n",
      "efficientnetv2_m\n",
      "efficientnetv2_rw_m\n",
      "efficientnetv2_rw_s\n",
      "efficientnetv2_rw_t\n",
      "efficientnetv2_s\n",
      "efficientnetv2_xl\n",
      "efficientvit_b0\n",
      "efficientvit_b1\n",
      "efficientvit_b2\n",
      "efficientvit_b3\n",
      "efficientvit_l1\n",
      "efficientvit_l2\n",
      "efficientvit_l3\n",
      "efficientvit_m0\n",
      "efficientvit_m1\n",
      "efficientvit_m2\n",
      "efficientvit_m3\n",
      "efficientvit_m4\n",
      "efficientvit_m5\n",
      "ese_vovnet19b_dw\n",
      "ese_vovnet19b_slim\n",
      "ese_vovnet19b_slim_dw\n",
      "ese_vovnet39b\n",
      "ese_vovnet39b_evos\n",
      "ese_vovnet57b\n",
      "ese_vovnet99b\n",
      "eva02_base_patch14_224\n",
      "eva02_base_patch14_448\n",
      "eva02_base_patch16_clip_224\n",
      "eva02_enormous_patch14_clip_224\n",
      "eva02_large_patch14_224\n",
      "eva02_large_patch14_448\n",
      "eva02_large_patch14_clip_224\n",
      "eva02_large_patch14_clip_336\n",
      "eva02_small_patch14_224\n",
      "eva02_small_patch14_336\n",
      "eva02_tiny_patch14_224\n",
      "eva02_tiny_patch14_336\n",
      "eva_giant_patch14_224\n",
      "eva_giant_patch14_336\n",
      "eva_giant_patch14_560\n",
      "eva_giant_patch14_clip_224\n",
      "eva_large_patch14_196\n",
      "eva_large_patch14_336\n",
      "fastvit_ma36\n",
      "fastvit_s12\n",
      "fastvit_sa12\n",
      "fastvit_sa24\n",
      "fastvit_sa36\n",
      "fastvit_t8\n",
      "fastvit_t12\n",
      "fbnetc_100\n",
      "fbnetv3_b\n",
      "fbnetv3_d\n",
      "fbnetv3_g\n",
      "flexivit_base\n",
      "flexivit_large\n",
      "flexivit_small\n",
      "focalnet_base_lrf\n",
      "focalnet_base_srf\n",
      "focalnet_huge_fl3\n",
      "focalnet_huge_fl4\n",
      "focalnet_large_fl3\n",
      "focalnet_large_fl4\n",
      "focalnet_small_lrf\n",
      "focalnet_small_srf\n",
      "focalnet_tiny_lrf\n",
      "focalnet_tiny_srf\n",
      "focalnet_xlarge_fl3\n",
      "focalnet_xlarge_fl4\n",
      "gc_efficientnetv2_rw_t\n",
      "gcresnet33ts\n",
      "gcresnet50t\n",
      "gcresnext26ts\n",
      "gcresnext50ts\n",
      "gcvit_base\n",
      "gcvit_small\n",
      "gcvit_tiny\n",
      "gcvit_xtiny\n",
      "gcvit_xxtiny\n",
      "gernet_l\n",
      "gernet_m\n",
      "gernet_s\n",
      "ghostnet_050\n",
      "ghostnet_100\n",
      "ghostnet_130\n",
      "ghostnetv2_100\n",
      "ghostnetv2_130\n",
      "ghostnetv2_160\n",
      "gmixer_12_224\n",
      "gmixer_24_224\n",
      "gmlp_b16_224\n",
      "gmlp_s16_224\n",
      "gmlp_ti16_224\n",
      "halo2botnet50ts_256\n",
      "halonet26t\n",
      "halonet50ts\n",
      "halonet_h1\n",
      "haloregnetz_b\n",
      "hardcorenas_a\n",
      "hardcorenas_b\n",
      "hardcorenas_c\n",
      "hardcorenas_d\n",
      "hardcorenas_e\n",
      "hardcorenas_f\n",
      "hgnet_base\n",
      "hgnet_small\n",
      "hgnet_tiny\n",
      "hgnetv2_b0\n",
      "hgnetv2_b1\n",
      "hgnetv2_b2\n",
      "hgnetv2_b3\n",
      "hgnetv2_b4\n",
      "hgnetv2_b5\n",
      "hgnetv2_b6\n",
      "hiera_base_224\n",
      "hiera_base_plus_224\n",
      "hiera_huge_224\n",
      "hiera_large_224\n",
      "hiera_small_224\n",
      "hiera_tiny_224\n",
      "hrnet_w18\n",
      "hrnet_w18_small\n",
      "hrnet_w18_small_v2\n",
      "hrnet_w18_ssld\n",
      "hrnet_w30\n",
      "hrnet_w32\n",
      "hrnet_w40\n",
      "hrnet_w44\n",
      "hrnet_w48\n",
      "hrnet_w48_ssld\n",
      "hrnet_w64\n",
      "inception_next_base\n",
      "inception_next_small\n",
      "inception_next_tiny\n",
      "inception_resnet_v2\n",
      "inception_v3\n",
      "inception_v4\n",
      "lambda_resnet26rpt_256\n",
      "lambda_resnet26t\n",
      "lambda_resnet50ts\n",
      "lamhalobotnet50ts_256\n",
      "lcnet_035\n",
      "lcnet_050\n",
      "lcnet_075\n",
      "lcnet_100\n",
      "lcnet_150\n",
      "legacy_senet154\n",
      "legacy_seresnet18\n",
      "legacy_seresnet34\n",
      "legacy_seresnet50\n",
      "legacy_seresnet101\n",
      "legacy_seresnet152\n",
      "legacy_seresnext26_32x4d\n",
      "legacy_seresnext50_32x4d\n",
      "legacy_seresnext101_32x4d\n",
      "legacy_xception\n",
      "levit_128\n",
      "levit_128s\n",
      "levit_192\n",
      "levit_256\n",
      "levit_256d\n",
      "levit_384\n",
      "levit_384_s8\n",
      "levit_512\n",
      "levit_512_s8\n",
      "levit_512d\n",
      "levit_conv_128\n",
      "levit_conv_128s\n",
      "levit_conv_192\n",
      "levit_conv_256\n",
      "levit_conv_256d\n",
      "levit_conv_384\n",
      "levit_conv_384_s8\n",
      "levit_conv_512\n",
      "levit_conv_512_s8\n",
      "levit_conv_512d\n",
      "maxvit_base_tf_224\n",
      "maxvit_base_tf_384\n",
      "maxvit_base_tf_512\n",
      "maxvit_large_tf_224\n",
      "maxvit_large_tf_384\n",
      "maxvit_large_tf_512\n",
      "maxvit_nano_rw_256\n",
      "maxvit_pico_rw_256\n",
      "maxvit_rmlp_base_rw_224\n",
      "maxvit_rmlp_base_rw_384\n",
      "maxvit_rmlp_nano_rw_256\n",
      "maxvit_rmlp_pico_rw_256\n",
      "maxvit_rmlp_small_rw_224\n",
      "maxvit_rmlp_small_rw_256\n",
      "maxvit_rmlp_tiny_rw_256\n",
      "maxvit_small_tf_224\n",
      "maxvit_small_tf_384\n",
      "maxvit_small_tf_512\n",
      "maxvit_tiny_pm_256\n",
      "maxvit_tiny_rw_224\n",
      "maxvit_tiny_rw_256\n",
      "maxvit_tiny_tf_224\n",
      "maxvit_tiny_tf_384\n",
      "maxvit_tiny_tf_512\n",
      "maxvit_xlarge_tf_224\n",
      "maxvit_xlarge_tf_384\n",
      "maxvit_xlarge_tf_512\n",
      "maxxvit_rmlp_nano_rw_256\n",
      "maxxvit_rmlp_small_rw_256\n",
      "maxxvit_rmlp_tiny_rw_256\n",
      "maxxvitv2_nano_rw_256\n",
      "maxxvitv2_rmlp_base_rw_224\n",
      "maxxvitv2_rmlp_base_rw_384\n",
      "maxxvitv2_rmlp_large_rw_224\n",
      "mixer_b16_224\n",
      "mixer_b32_224\n",
      "mixer_l16_224\n",
      "mixer_l32_224\n",
      "mixer_s16_224\n",
      "mixer_s32_224\n",
      "mixnet_l\n",
      "mixnet_m\n",
      "mixnet_s\n",
      "mixnet_xl\n",
      "mixnet_xxl\n",
      "mnasnet_050\n",
      "mnasnet_075\n",
      "mnasnet_100\n",
      "mnasnet_140\n",
      "mnasnet_small\n",
      "mobilenetv2_035\n",
      "mobilenetv2_050\n",
      "mobilenetv2_075\n",
      "mobilenetv2_100\n",
      "mobilenetv2_110d\n",
      "mobilenetv2_120d\n",
      "mobilenetv2_140\n",
      "mobilenetv3_large_075\n",
      "mobilenetv3_large_100\n",
      "mobilenetv3_rw\n",
      "mobilenetv3_small_050\n",
      "mobilenetv3_small_075\n",
      "mobilenetv3_small_100\n",
      "mobileone_s0\n",
      "mobileone_s1\n",
      "mobileone_s2\n",
      "mobileone_s3\n",
      "mobileone_s4\n",
      "mobilevit_s\n",
      "mobilevit_xs\n",
      "mobilevit_xxs\n",
      "mobilevitv2_050\n",
      "mobilevitv2_075\n",
      "mobilevitv2_100\n",
      "mobilevitv2_125\n",
      "mobilevitv2_150\n",
      "mobilevitv2_175\n",
      "mobilevitv2_200\n",
      "mvitv2_base\n",
      "mvitv2_base_cls\n",
      "mvitv2_huge_cls\n",
      "mvitv2_large\n",
      "mvitv2_large_cls\n",
      "mvitv2_small\n",
      "mvitv2_small_cls\n",
      "mvitv2_tiny\n",
      "nasnetalarge\n",
      "nest_base\n",
      "nest_base_jx\n",
      "nest_small\n",
      "nest_small_jx\n",
      "nest_tiny\n",
      "nest_tiny_jx\n",
      "nextvit_base\n",
      "nextvit_large\n",
      "nextvit_small\n",
      "nf_ecaresnet26\n",
      "nf_ecaresnet50\n",
      "nf_ecaresnet101\n",
      "nf_regnet_b0\n",
      "nf_regnet_b1\n",
      "nf_regnet_b2\n",
      "nf_regnet_b3\n",
      "nf_regnet_b4\n",
      "nf_regnet_b5\n",
      "nf_resnet26\n",
      "nf_resnet50\n",
      "nf_resnet101\n",
      "nf_seresnet26\n",
      "nf_seresnet50\n",
      "nf_seresnet101\n",
      "nfnet_f0\n",
      "nfnet_f1\n",
      "nfnet_f2\n",
      "nfnet_f3\n",
      "nfnet_f4\n",
      "nfnet_f5\n",
      "nfnet_f6\n",
      "nfnet_f7\n",
      "nfnet_l0\n",
      "pit_b_224\n",
      "pit_b_distilled_224\n",
      "pit_s_224\n",
      "pit_s_distilled_224\n",
      "pit_ti_224\n",
      "pit_ti_distilled_224\n",
      "pit_xs_224\n",
      "pit_xs_distilled_224\n",
      "pnasnet5large\n",
      "poolformer_m36\n",
      "poolformer_m48\n",
      "poolformer_s12\n",
      "poolformer_s24\n",
      "poolformer_s36\n",
      "poolformerv2_m36\n",
      "poolformerv2_m48\n",
      "poolformerv2_s12\n",
      "poolformerv2_s24\n",
      "poolformerv2_s36\n",
      "pvt_v2_b0\n",
      "pvt_v2_b1\n",
      "pvt_v2_b2\n",
      "pvt_v2_b2_li\n",
      "pvt_v2_b3\n",
      "pvt_v2_b4\n",
      "pvt_v2_b5\n",
      "regnetv_040\n",
      "regnetv_064\n",
      "regnetx_002\n",
      "regnetx_004\n",
      "regnetx_004_tv\n",
      "regnetx_006\n",
      "regnetx_008\n",
      "regnetx_016\n",
      "regnetx_032\n",
      "regnetx_040\n",
      "regnetx_064\n",
      "regnetx_080\n",
      "regnetx_120\n",
      "regnetx_160\n",
      "regnetx_320\n",
      "regnety_002\n",
      "regnety_004\n",
      "regnety_006\n",
      "regnety_008\n",
      "regnety_008_tv\n",
      "regnety_016\n",
      "regnety_032\n",
      "regnety_040\n",
      "regnety_040_sgn\n",
      "regnety_064\n",
      "regnety_080\n",
      "regnety_080_tv\n",
      "regnety_120\n",
      "regnety_160\n",
      "regnety_320\n",
      "regnety_640\n",
      "regnety_1280\n",
      "regnety_2560\n",
      "regnetz_005\n",
      "regnetz_040\n",
      "regnetz_040_h\n",
      "regnetz_b16\n",
      "regnetz_b16_evos\n",
      "regnetz_c16\n",
      "regnetz_c16_evos\n",
      "regnetz_d8\n",
      "regnetz_d8_evos\n",
      "regnetz_d32\n",
      "regnetz_e8\n",
      "repghostnet_050\n",
      "repghostnet_058\n",
      "repghostnet_080\n",
      "repghostnet_100\n",
      "repghostnet_111\n",
      "repghostnet_130\n",
      "repghostnet_150\n",
      "repghostnet_200\n",
      "repvgg_a0\n",
      "repvgg_a1\n",
      "repvgg_a2\n",
      "repvgg_b0\n",
      "repvgg_b1\n",
      "repvgg_b1g4\n",
      "repvgg_b2\n",
      "repvgg_b2g4\n",
      "repvgg_b3\n",
      "repvgg_b3g4\n",
      "repvgg_d2se\n",
      "repvit_m0_9\n",
      "repvit_m1\n",
      "repvit_m1_0\n",
      "repvit_m1_1\n",
      "repvit_m1_5\n",
      "repvit_m2\n",
      "repvit_m2_3\n",
      "repvit_m3\n",
      "res2net50_14w_8s\n",
      "res2net50_26w_4s\n",
      "res2net50_26w_6s\n",
      "res2net50_26w_8s\n",
      "res2net50_48w_2s\n",
      "res2net50d\n",
      "res2net101_26w_4s\n",
      "res2net101d\n",
      "res2next50\n",
      "resmlp_12_224\n",
      "resmlp_24_224\n",
      "resmlp_36_224\n",
      "resmlp_big_24_224\n",
      "resnest14d\n",
      "resnest26d\n",
      "resnest50d\n",
      "resnest50d_1s4x24d\n",
      "resnest50d_4s2x40d\n",
      "resnest101e\n",
      "resnest200e\n",
      "resnest269e\n",
      "resnet10t\n",
      "resnet14t\n",
      "resnet18\n",
      "resnet18d\n",
      "resnet26\n",
      "resnet26d\n",
      "resnet26t\n",
      "resnet32ts\n",
      "resnet33ts\n",
      "resnet34\n",
      "resnet34d\n",
      "resnet50\n",
      "resnet50_gn\n",
      "resnet50c\n",
      "resnet50d\n",
      "resnet50s\n",
      "resnet50t\n",
      "resnet51q\n",
      "resnet61q\n",
      "resnet101\n",
      "resnet101c\n",
      "resnet101d\n",
      "resnet101s\n",
      "resnet152\n",
      "resnet152c\n",
      "resnet152d\n",
      "resnet152s\n",
      "resnet200\n",
      "resnet200d\n",
      "resnetaa34d\n",
      "resnetaa50\n",
      "resnetaa50d\n",
      "resnetaa101d\n",
      "resnetblur18\n",
      "resnetblur50\n",
      "resnetblur50d\n",
      "resnetblur101d\n",
      "resnetrs50\n",
      "resnetrs101\n",
      "resnetrs152\n",
      "resnetrs200\n",
      "resnetrs270\n",
      "resnetrs350\n",
      "resnetrs420\n",
      "resnetv2_50\n",
      "resnetv2_50d\n",
      "resnetv2_50d_evos\n",
      "resnetv2_50d_frn\n",
      "resnetv2_50d_gn\n",
      "resnetv2_50t\n",
      "resnetv2_50x1_bit\n",
      "resnetv2_50x3_bit\n",
      "resnetv2_101\n",
      "resnetv2_101d\n",
      "resnetv2_101x1_bit\n",
      "resnetv2_101x3_bit\n",
      "resnetv2_152\n",
      "resnetv2_152d\n",
      "resnetv2_152x2_bit\n",
      "resnetv2_152x4_bit\n",
      "resnext26ts\n",
      "resnext50_32x4d\n",
      "resnext50d_32x4d\n",
      "resnext101_32x4d\n",
      "resnext101_32x8d\n",
      "resnext101_32x16d\n",
      "resnext101_32x32d\n",
      "resnext101_64x4d\n",
      "rexnet_100\n",
      "rexnet_130\n",
      "rexnet_150\n",
      "rexnet_200\n",
      "rexnet_300\n",
      "rexnetr_100\n",
      "rexnetr_130\n",
      "rexnetr_150\n",
      "rexnetr_200\n",
      "rexnetr_300\n",
      "samvit_base_patch16\n",
      "samvit_base_patch16_224\n",
      "samvit_huge_patch16\n",
      "samvit_large_patch16\n",
      "sebotnet33ts_256\n",
      "sedarknet21\n",
      "sehalonet33ts\n",
      "selecsls42\n",
      "selecsls42b\n",
      "selecsls60\n",
      "selecsls60b\n",
      "selecsls84\n",
      "semnasnet_050\n",
      "semnasnet_075\n",
      "semnasnet_100\n",
      "semnasnet_140\n",
      "senet154\n",
      "sequencer2d_l\n",
      "sequencer2d_m\n",
      "sequencer2d_s\n",
      "seresnet18\n",
      "seresnet33ts\n",
      "seresnet34\n",
      "seresnet50\n",
      "seresnet50t\n",
      "seresnet101\n",
      "seresnet152\n",
      "seresnet152d\n",
      "seresnet200d\n",
      "seresnet269d\n",
      "seresnetaa50d\n",
      "seresnext26d_32x4d\n",
      "seresnext26t_32x4d\n",
      "seresnext26ts\n",
      "seresnext50_32x4d\n",
      "seresnext101_32x4d\n",
      "seresnext101_32x8d\n",
      "seresnext101_64x4d\n",
      "seresnext101d_32x8d\n",
      "seresnextaa101d_32x8d\n",
      "seresnextaa201d_32x8d\n",
      "skresnet18\n",
      "skresnet34\n",
      "skresnet50\n",
      "skresnet50d\n",
      "skresnext50_32x4d\n",
      "spnasnet_100\n",
      "swin_base_patch4_window7_224\n",
      "swin_base_patch4_window12_384\n",
      "swin_large_patch4_window7_224\n",
      "swin_large_patch4_window12_384\n",
      "swin_s3_base_224\n",
      "swin_s3_small_224\n",
      "swin_s3_tiny_224\n",
      "swin_small_patch4_window7_224\n",
      "swin_tiny_patch4_window7_224\n",
      "swinv2_base_window8_256\n",
      "swinv2_base_window12_192\n",
      "swinv2_base_window12to16_192to256\n",
      "swinv2_base_window12to24_192to384\n",
      "swinv2_base_window16_256\n",
      "swinv2_cr_base_224\n",
      "swinv2_cr_base_384\n",
      "swinv2_cr_base_ns_224\n",
      "swinv2_cr_giant_224\n",
      "swinv2_cr_giant_384\n",
      "swinv2_cr_huge_224\n",
      "swinv2_cr_huge_384\n",
      "swinv2_cr_large_224\n",
      "swinv2_cr_large_384\n",
      "swinv2_cr_small_224\n",
      "swinv2_cr_small_384\n",
      "swinv2_cr_small_ns_224\n",
      "swinv2_cr_small_ns_256\n",
      "swinv2_cr_tiny_224\n",
      "swinv2_cr_tiny_384\n",
      "swinv2_cr_tiny_ns_224\n",
      "swinv2_large_window12_192\n",
      "swinv2_large_window12to16_192to256\n",
      "swinv2_large_window12to24_192to384\n",
      "swinv2_small_window8_256\n",
      "swinv2_small_window16_256\n",
      "swinv2_tiny_window8_256\n",
      "swinv2_tiny_window16_256\n",
      "tf_efficientnet_b0\n",
      "tf_efficientnet_b1\n",
      "tf_efficientnet_b2\n",
      "tf_efficientnet_b3\n",
      "tf_efficientnet_b4\n",
      "tf_efficientnet_b5\n",
      "tf_efficientnet_b6\n",
      "tf_efficientnet_b7\n",
      "tf_efficientnet_b8\n",
      "tf_efficientnet_cc_b0_4e\n",
      "tf_efficientnet_cc_b0_8e\n",
      "tf_efficientnet_cc_b1_8e\n",
      "tf_efficientnet_el\n",
      "tf_efficientnet_em\n",
      "tf_efficientnet_es\n",
      "tf_efficientnet_l2\n",
      "tf_efficientnet_lite0\n",
      "tf_efficientnet_lite1\n",
      "tf_efficientnet_lite2\n",
      "tf_efficientnet_lite3\n",
      "tf_efficientnet_lite4\n",
      "tf_efficientnetv2_b0\n",
      "tf_efficientnetv2_b1\n",
      "tf_efficientnetv2_b2\n",
      "tf_efficientnetv2_b3\n",
      "tf_efficientnetv2_l\n",
      "tf_efficientnetv2_m\n",
      "tf_efficientnetv2_s\n",
      "tf_efficientnetv2_xl\n",
      "tf_mixnet_l\n",
      "tf_mixnet_m\n",
      "tf_mixnet_s\n",
      "tf_mobilenetv3_large_075\n",
      "tf_mobilenetv3_large_100\n",
      "tf_mobilenetv3_large_minimal_100\n",
      "tf_mobilenetv3_small_075\n",
      "tf_mobilenetv3_small_100\n",
      "tf_mobilenetv3_small_minimal_100\n",
      "tiny_vit_5m_224\n",
      "tiny_vit_11m_224\n",
      "tiny_vit_21m_224\n",
      "tiny_vit_21m_384\n",
      "tiny_vit_21m_512\n",
      "tinynet_a\n",
      "tinynet_b\n",
      "tinynet_c\n",
      "tinynet_d\n",
      "tinynet_e\n",
      "tnt_b_patch16_224\n",
      "tnt_s_patch16_224\n",
      "tresnet_l\n",
      "tresnet_m\n",
      "tresnet_v2_l\n",
      "tresnet_xl\n",
      "twins_pcpvt_base\n",
      "twins_pcpvt_large\n",
      "twins_pcpvt_small\n",
      "twins_svt_base\n",
      "twins_svt_large\n",
      "twins_svt_small\n",
      "vgg11\n",
      "vgg11_bn\n",
      "vgg13\n",
      "vgg13_bn\n",
      "vgg16\n",
      "vgg16_bn\n",
      "vgg19\n",
      "vgg19_bn\n",
      "visformer_small\n",
      "visformer_tiny\n",
      "vit_base_patch8_224\n",
      "vit_base_patch14_dinov2\n",
      "vit_base_patch14_reg4_dinov2\n",
      "vit_base_patch16_18x2_224\n",
      "vit_base_patch16_224\n",
      "vit_base_patch16_224_miil\n",
      "vit_base_patch16_384\n",
      "vit_base_patch16_clip_224\n",
      "vit_base_patch16_clip_384\n",
      "vit_base_patch16_clip_quickgelu_224\n",
      "vit_base_patch16_gap_224\n",
      "vit_base_patch16_plus_240\n",
      "vit_base_patch16_reg4_gap_256\n",
      "vit_base_patch16_rope_reg1_gap_256\n",
      "vit_base_patch16_rpn_224\n",
      "vit_base_patch16_siglip_224\n",
      "vit_base_patch16_siglip_256\n",
      "vit_base_patch16_siglip_384\n",
      "vit_base_patch16_siglip_512\n",
      "vit_base_patch16_siglip_gap_224\n",
      "vit_base_patch16_siglip_gap_256\n",
      "vit_base_patch16_siglip_gap_384\n",
      "vit_base_patch16_siglip_gap_512\n",
      "vit_base_patch16_xp_224\n",
      "vit_base_patch32_224\n",
      "vit_base_patch32_384\n",
      "vit_base_patch32_clip_224\n",
      "vit_base_patch32_clip_256\n",
      "vit_base_patch32_clip_384\n",
      "vit_base_patch32_clip_448\n",
      "vit_base_patch32_clip_quickgelu_224\n",
      "vit_base_patch32_plus_256\n",
      "vit_base_r26_s32_224\n",
      "vit_base_r50_s16_224\n",
      "vit_base_r50_s16_384\n",
      "vit_base_resnet26d_224\n",
      "vit_base_resnet50d_224\n",
      "vit_betwixt_patch16_gap_256\n",
      "vit_betwixt_patch16_reg1_gap_256\n",
      "vit_betwixt_patch16_reg4_gap_256\n",
      "vit_betwixt_patch16_rope_reg4_gap_256\n",
      "vit_betwixt_patch32_clip_224\n",
      "vit_giant_patch14_224\n",
      "vit_giant_patch14_clip_224\n",
      "vit_giant_patch14_dinov2\n",
      "vit_giant_patch14_reg4_dinov2\n",
      "vit_giant_patch16_gap_224\n",
      "vit_gigantic_patch14_224\n",
      "vit_gigantic_patch14_clip_224\n",
      "vit_huge_patch14_224\n",
      "vit_huge_patch14_clip_224\n",
      "vit_huge_patch14_clip_336\n",
      "vit_huge_patch14_clip_378\n",
      "vit_huge_patch14_clip_quickgelu_224\n",
      "vit_huge_patch14_clip_quickgelu_378\n",
      "vit_huge_patch14_gap_224\n",
      "vit_huge_patch14_xp_224\n",
      "vit_huge_patch16_gap_448\n",
      "vit_large_patch14_224\n",
      "vit_large_patch14_clip_224\n",
      "vit_large_patch14_clip_336\n",
      "vit_large_patch14_clip_quickgelu_224\n",
      "vit_large_patch14_clip_quickgelu_336\n",
      "vit_large_patch14_dinov2\n",
      "vit_large_patch14_reg4_dinov2\n",
      "vit_large_patch14_xp_224\n",
      "vit_large_patch16_224\n",
      "vit_large_patch16_384\n",
      "vit_large_patch16_siglip_256\n",
      "vit_large_patch16_siglip_384\n",
      "vit_large_patch16_siglip_gap_256\n",
      "vit_large_patch16_siglip_gap_384\n",
      "vit_large_patch32_224\n",
      "vit_large_patch32_384\n",
      "vit_large_r50_s32_224\n",
      "vit_large_r50_s32_384\n",
      "vit_little_patch16_reg4_gap_256\n",
      "vit_medium_patch16_clip_224\n",
      "vit_medium_patch16_gap_240\n",
      "vit_medium_patch16_gap_256\n",
      "vit_medium_patch16_gap_384\n",
      "vit_medium_patch16_reg1_gap_256\n",
      "vit_medium_patch16_reg4_gap_256\n",
      "vit_medium_patch16_rope_reg1_gap_256\n",
      "vit_medium_patch32_clip_224\n",
      "vit_mediumd_patch16_reg4_gap_256\n",
      "vit_mediumd_patch16_rope_reg1_gap_256\n",
      "vit_pwee_patch16_reg1_gap_256\n",
      "vit_relpos_base_patch16_224\n",
      "vit_relpos_base_patch16_cls_224\n",
      "vit_relpos_base_patch16_clsgap_224\n",
      "vit_relpos_base_patch16_plus_240\n",
      "vit_relpos_base_patch16_rpn_224\n",
      "vit_relpos_base_patch32_plus_rpn_256\n",
      "vit_relpos_medium_patch16_224\n",
      "vit_relpos_medium_patch16_cls_224\n",
      "vit_relpos_medium_patch16_rpn_224\n",
      "vit_relpos_small_patch16_224\n",
      "vit_relpos_small_patch16_rpn_224\n",
      "vit_small_patch8_224\n",
      "vit_small_patch14_dinov2\n",
      "vit_small_patch14_reg4_dinov2\n",
      "vit_small_patch16_18x2_224\n",
      "vit_small_patch16_36x1_224\n",
      "vit_small_patch16_224\n",
      "vit_small_patch16_384\n",
      "vit_small_patch32_224\n",
      "vit_small_patch32_384\n",
      "vit_small_r26_s32_224\n",
      "vit_small_r26_s32_384\n",
      "vit_small_resnet26d_224\n",
      "vit_small_resnet50d_s16_224\n",
      "vit_so150m_patch16_reg4_gap_256\n",
      "vit_so150m_patch16_reg4_map_256\n",
      "vit_so400m_patch14_siglip_224\n",
      "vit_so400m_patch14_siglip_384\n",
      "vit_so400m_patch14_siglip_gap_224\n",
      "vit_so400m_patch14_siglip_gap_384\n",
      "vit_so400m_patch14_siglip_gap_448\n",
      "vit_so400m_patch14_siglip_gap_896\n",
      "vit_srelpos_medium_patch16_224\n",
      "vit_srelpos_small_patch16_224\n",
      "vit_tiny_patch16_224\n",
      "vit_tiny_patch16_384\n",
      "vit_tiny_r_s16_p8_224\n",
      "vit_tiny_r_s16_p8_384\n",
      "vit_wee_patch16_reg1_gap_256\n",
      "vit_xsmall_patch16_clip_224\n",
      "volo_d1_224\n",
      "volo_d1_384\n",
      "volo_d2_224\n",
      "volo_d2_384\n",
      "volo_d3_224\n",
      "volo_d3_448\n",
      "volo_d4_224\n",
      "volo_d4_448\n",
      "volo_d5_224\n",
      "volo_d5_448\n",
      "volo_d5_512\n",
      "vovnet39a\n",
      "vovnet57a\n",
      "wide_resnet50_2\n",
      "wide_resnet101_2\n",
      "xception41\n",
      "xception41p\n",
      "xception65\n",
      "xception65p\n",
      "xception71\n",
      "xcit_large_24_p8_224\n",
      "xcit_large_24_p8_384\n",
      "xcit_large_24_p16_224\n",
      "xcit_large_24_p16_384\n",
      "xcit_medium_24_p8_224\n",
      "xcit_medium_24_p8_384\n",
      "xcit_medium_24_p16_224\n",
      "xcit_medium_24_p16_384\n",
      "xcit_nano_12_p8_224\n",
      "xcit_nano_12_p8_384\n",
      "xcit_nano_12_p16_224\n",
      "xcit_nano_12_p16_384\n",
      "xcit_small_12_p8_224\n",
      "xcit_small_12_p8_384\n",
      "xcit_small_12_p16_224\n",
      "xcit_small_12_p16_384\n",
      "xcit_small_24_p8_224\n",
      "xcit_small_24_p8_384\n",
      "xcit_small_24_p16_224\n",
      "xcit_small_24_p16_384\n",
      "xcit_tiny_12_p8_224\n",
      "xcit_tiny_12_p8_384\n",
      "xcit_tiny_12_p16_224\n",
      "xcit_tiny_12_p16_384\n",
      "xcit_tiny_24_p8_224\n",
      "xcit_tiny_24_p8_384\n",
      "xcit_tiny_24_p16_224\n",
      "xcit_tiny_24_p16_384\n"
     ]
    }
   ],
   "source": [
    "import timm\n",
    "\n",
    "resnet_models = timm.list_models()\n",
    "\n",
    "for model_name in resnet_models:\n",
    "    print(model_name)"
   ]
  },
  {
   "cell_type": "code",
   "execution_count": null,
   "metadata": {},
   "outputs": [],
   "source": []
  },
  {
   "cell_type": "code",
   "execution_count": null,
   "metadata": {},
   "outputs": [],
   "source": []
  },
  {
   "cell_type": "code",
   "execution_count": null,
   "metadata": {},
   "outputs": [],
   "source": []
  }
 ],
 "metadata": {
  "kernelspec": {
   "display_name": "PyTorch 2.1 (NGC 23.07/Python 3.10) on Backend.AI",
   "language": "python",
   "name": "python3"
  },
  "language_info": {
   "codemirror_mode": {
    "name": "ipython",
    "version": 3
   },
   "file_extension": ".py",
   "mimetype": "text/x-python",
   "name": "python",
   "nbconvert_exporter": "python",
   "pygments_lexer": "ipython3",
   "version": "3.10.6"
  }
 },
 "nbformat": 4,
 "nbformat_minor": 4
}
