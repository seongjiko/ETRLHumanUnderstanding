{
 "cells": [
  {
   "cell_type": "markdown",
   "id": "397ff8d4",
   "metadata": {},
   "source": [
    "# 1. 데이터 로드 및 전처리"
   ]
  },
  {
   "cell_type": "markdown",
   "id": "f6b34843",
   "metadata": {},
   "source": [
    "## 1.1 필요한 라이브러리 불러오기"
   ]
  },
  {
   "cell_type": "code",
   "execution_count": 1,
   "id": "db4146f5",
   "metadata": {},
   "outputs": [],
   "source": [
    "import pandas as pd\n",
    "import numpy as np\n",
    "import os\n",
    "import matplotlib.pyplot as plt\n",
    "from datetime import datetime, timedelta\n",
    "import warnings\n",
    "from tqdm.auto import tqdm\n",
    "warnings.filterwarnings('ignore')\n",
    "# 데이터가 저장된 기본 경로\n",
    "base_path = 'datasets/test_dataset'\n"
   ]
  },
  {
   "cell_type": "markdown",
   "id": "0ac178bf",
   "metadata": {},
   "source": [
    "## 1.2 Parquet 파일 불러오기 및 전처리"
   ]
  },
  {
   "cell_type": "code",
   "execution_count": 2,
   "id": "6aac32f7",
   "metadata": {},
   "outputs": [
    {
     "data": {
      "application/vnd.jupyter.widget-view+json": {
       "model_id": "5f3d9bb9ddb1464ba1e6fdb98afe8a94",
       "version_major": 2,
       "version_minor": 0
      },
      "text/plain": [
       "  0%|          | 0/4 [00:00<?, ?it/s]"
      ]
     },
     "metadata": {},
     "output_type": "display_data"
    },
    {
     "name": "stdout",
     "output_type": "stream",
     "text": [
      "acc load 완료\n",
      "acc reset_index 완료\n",
      "acc date컬럼 추가 완료\n"
     ]
    }
   ],
   "source": [
    "def load_parquet_data():\n",
    "    acc_files = [\n",
    "        'ch2024_test__m_acc_part_5.parquet.gzip',\n",
    "        'ch2024_test__m_acc_part_6.parquet.gzip',\n",
    "        'ch2024_test__m_acc_part_7.parquet.gzip',\n",
    "        'ch2024_test__m_acc_part_8.parquet.gzip'\n",
    "    ]\n",
    "    \n",
    "    acc_data = pd.concat([pd.read_parquet(f'{base_path}/{file}') for file in tqdm(acc_files)])\n",
    "    activity_data = pd.read_parquet(f'{base_path}/ch2024_test_m_activity.parquet.gzip')\n",
    "    hr_data = pd.read_parquet(f'{base_path}/ch2024_test_w_heart_rate.parquet.gzip')\n",
    "    \n",
    "    return acc_data, activity_data, hr_data\n",
    "\n",
    "# 데이터 불러오기\n",
    "acc_data, activity_data, hr_data = load_parquet_data()\n",
    "\n",
    "acc_data = acc_data.reset_index(drop=True)\n",
    "\n",
    "activity_data = activity_data.reset_index(drop=True)\n",
    "hr_data = hr_data.reset_index(drop=True)\n",
    "\n",
    "acc_data['date'] = acc_data['timestamp'].dt.date\n",
    "\n",
    "activity_data['date'] = activity_data['timestamp'].dt.date\n",
    "hr_data['date'] = hr_data['timestamp'].dt.date\n",
    "\n",
    "hr_data['heart_rate'].replace(0, np.nan, inplace=True)"
   ]
  },
  {
   "cell_type": "code",
   "execution_count": null,
   "id": "988244fe",
   "metadata": {},
   "outputs": [],
   "source": [
    "def save_grouped_data(df, file_prefix):\n",
    "    for (subject_id, date), group in df.groupby(['subject_id', 'date']):\n",
    "        directory = f'group_dataset/test/{file_prefix}'\n",
    "        if not os.path.exists(directory):\n",
    "            os.makedirs(directory)\n",
    "        file_path = f'{directory}/user{subject_id}_{date}.parquet'\n",
    "        group.to_parquet(file_path)\n",
    "\n",
    "# Group and save the data\n",
    "save_grouped_data(acc_data, 'acc')\n",
    "save_grouped_data(activity_data, 'activity')\n",
    "save_grouped_data(hr_data, 'hr')"
   ]
  },
  {
   "cell_type": "markdown",
   "id": "ca817d00",
   "metadata": {},
   "source": [
    "# 2. 데이터 병합"
   ]
  },
  {
   "cell_type": "code",
   "execution_count": 4,
   "id": "459e15b3",
   "metadata": {},
   "outputs": [],
   "source": [
    "def make_timestamps_unique(df, timestamp_col='timestamp'):\n",
    "    # 'timestamp' 컬럼을 기준으로 정렬\n",
    "    df = df.sort_values(by=[timestamp_col])\n",
    "    # 각 'timestamp'가 중복된 횟수를 세어 나노초 단위로 증가시킴\n",
    "    df[timestamp_col] = df[timestamp_col] + pd.to_timedelta(df.groupby(timestamp_col).cumcount(), unit='ns')\n",
    "    return df\n"
   ]
  },
  {
   "cell_type": "code",
   "execution_count": 5,
   "id": "b4cff650",
   "metadata": {},
   "outputs": [],
   "source": [
    "import pandas as pd\n",
    "from datetime import datetime, timedelta\n",
    "\n",
    "def make_timestamps_unique(df, timestamp_col='timestamp'):\n",
    "    df = df.sort_values(by=[timestamp_col])\n",
    "    df[timestamp_col] = df[timestamp_col] + pd.to_timedelta(df.groupby(timestamp_col).cumcount(), unit='ns')\n",
    "    return df\n",
    "\n",
    "def merge_data_for_group(user, date):\n",
    "    # 데이터 로드\n",
    "    acc_group = pd.read_parquet(f'group_dataset/test/acc/user{user}_{date}.parquet').reset_index(drop=True)\n",
    "    activity_group = pd.read_parquet(f'group_dataset/test/activity/user{user}_{date}.parquet').reset_index(drop=True)\n",
    "    activity_group['m_activity'] = activity_group['m_activity'].astype('int')\n",
    "    hr_group = pd.read_parquet(f'group_dataset/test/hr/user{user}_{date}.parquet').reset_index(drop=True)\n",
    "\n",
    "    # 'timestamp'를 고유하게 만듦\n",
    "    acc_group = make_timestamps_unique(acc_group)\n",
    "    activity_group = make_timestamps_unique(activity_group)\n",
    "    hr_group = make_timestamps_unique(hr_group)\n",
    "\n",
    "    # 'timestamp'를 인덱스로 설정하고 'subject_id'와 'date' 컬럼 제거\n",
    "    mAcc_data = acc_group.set_index('timestamp').drop(columns=['subject_id', 'date']).resample('S').nearest()\n",
    "    activity_data = activity_group.set_index('timestamp').drop(columns=['subject_id', 'date']).resample('S').nearest()\n",
    "    e4Hr_data = hr_group.set_index('timestamp').drop(columns=['subject_id', 'date']).resample('S').nearest()\n",
    "\n",
    "    # 하루 86400초의 타임스탬프 생성\n",
    "    start_time = datetime.strptime(date, '%Y-%m-%d')\n",
    "    end_time = start_time + timedelta(days=1)\n",
    "    all_timestamps = pd.date_range(start=start_time, end=end_time, freq='S', closed='left')\n",
    "\n",
    "    merged_data = pd.DataFrame(index=all_timestamps)\n",
    "    merged_data.index.name = 'timestamp'\n",
    "\n",
    "    # 데이터 병합\n",
    "    if not mAcc_data.empty:\n",
    "        merged_data = merged_data.join(mAcc_data, how='left')\n",
    "    if not e4Hr_data.empty:\n",
    "        merged_data = merged_data.join(e4Hr_data, how='left')\n",
    "    if not activity_data.empty:\n",
    "        merged_data = merged_data.join(activity_data, how='left')\n",
    "        \n",
    "    # 필요한 컬럼만 유지하고 NaN 값으로 채우기\n",
    "    merged_data = merged_data.reindex(columns=['x', 'y', 'z', 'heart_rate', 'm_activity'])\n",
    "\n",
    "    # 선형 보간 적용\n",
    "    merged_data = merged_data.interpolate(method='time')\n",
    "\n",
    "    # Activity 데이터의 그룹화 적용\n",
    "    activity_mapping = {0: 0, 1: 0, 2: 0, 7: 0, 8: 0, 5: 0, 3: 1, 4: 2}\n",
    "    \n",
    "    merged_data['m_activity'] = merged_data['m_activity'].map(activity_mapping)\n",
    "\n",
    "    # subject_id와 date를 추가\n",
    "    merged_data['subject_id'] = user\n",
    "    merged_data['date'] = date\n",
    "\n",
    "    return merged_data"
   ]
  },
  {
   "cell_type": "markdown",
   "id": "5dfd637f",
   "metadata": {},
   "source": [
    "# 3 시각화"
   ]
  },
  {
   "cell_type": "code",
   "execution_count": 6,
   "id": "d78a1baa",
   "metadata": {},
   "outputs": [],
   "source": [
    "z_bounds = { # train에서 구함\n",
    "    'x': (-11.722133446409169, 12.290493460263638), \n",
    "    'y': (-17.478598143247805, 17.348647714645598),\n",
    "    'z': (-23.299860116868487, 31.917816327191773)\n",
    "}"
   ]
  },
  {
   "cell_type": "code",
   "execution_count": 7,
   "id": "ba11ee9b",
   "metadata": {},
   "outputs": [],
   "source": [
    "def plot_time_series(data, user, date):\n",
    "    # x축을 00:00:00부터 23:59:59까지 고정\n",
    "    total_seconds = 86400\n",
    "    time_range = pd.date_range(start=datetime.strptime(date, '%Y-%m-%d'), periods=total_seconds, freq='S')\n",
    "\n",
    "    # 데이터를 시간 단위로 정렬\n",
    "    data = data.reindex(time_range)\n",
    "\n",
    "    # 시계열 이미지 생성\n",
    "    fig, axes = plt.subplots(5, 1, figsize=(10, 10), sharex=True, facecolor='black')\n",
    "    fig.patch.set_facecolor('black')\n",
    "    \n",
    "    for ax in axes:\n",
    "        ax.set_facecolor('black')\n",
    "#         ax.tick_params(colors='white', which='both')  # x, y axis colors\n",
    "        ax.spines['top'].set_visible(False)           # Hide the top spine\n",
    "        ax.spines['right'].set_visible(False)         # Hide the right spine\n",
    "        ax.spines['left'].set_visible(False)          # Hide the left spine\n",
    "        ax.spines['bottom'].set_visible(False)        # Hide the bottom spine\n",
    "\n",
    "    # 설정한 시간 범위에 맞게 x축 설정\n",
    "    for ax in axes:\n",
    "        ax.set_xlim([time_range[0], time_range[-1]])\n",
    "\n",
    "    if 'x' in data.columns:\n",
    "        axes[0].plot(data.index, data['x'], color='white')\n",
    "        axes[0].set_ylim(z_bounds['x'])\n",
    "    if 'y' in data.columns:\n",
    "        axes[1].plot(data.index, data['y'], color='white')\n",
    "        axes[1].set_ylim(z_bounds['y'])\n",
    "    if 'z' in data.columns:\n",
    "        axes[2].plot(data.index, data['z'], color='white')\n",
    "        axes[2].set_ylim(z_bounds['z'])\n",
    "    if 'heart_rate' in data.columns:\n",
    "        axes[3].plot(data.index, data['heart_rate'], color='white')\n",
    "    if 'm_activity' in data.columns:\n",
    "        axes[4].plot(data.index, data['m_activity'], color='white')\n",
    "    \n",
    "    \n",
    "    plt.tight_layout()  # Make the layout tight\n",
    "    plt.savefig(f'../../new_image_dataset/user{user}_{date}_test_fixedY-axis.png')\n",
    "#     plt.show()\n"
   ]
  },
  {
   "cell_type": "markdown",
   "id": "6e4827ee",
   "metadata": {},
   "source": [
    "# 3. 데이터셋 생성 (tEST)"
   ]
  },
  {
   "cell_type": "markdown",
   "id": "beaee1b6",
   "metadata": {},
   "source": [
    "## 3.1 Test data "
   ]
  },
  {
   "cell_type": "code",
   "execution_count": 8,
   "id": "84f14ad7",
   "metadata": {},
   "outputs": [
    {
     "data": {
      "text/html": [
       "<div>\n",
       "<style scoped>\n",
       "    .dataframe tbody tr th:only-of-type {\n",
       "        vertical-align: middle;\n",
       "    }\n",
       "\n",
       "    .dataframe tbody tr th {\n",
       "        vertical-align: top;\n",
       "    }\n",
       "\n",
       "    .dataframe thead th {\n",
       "        text-align: right;\n",
       "    }\n",
       "</style>\n",
       "<table border=\"1\" class=\"dataframe\">\n",
       "  <thead>\n",
       "    <tr style=\"text-align: right;\">\n",
       "      <th></th>\n",
       "      <th>subject_id</th>\n",
       "      <th>date</th>\n",
       "      <th>Q1</th>\n",
       "      <th>Q2</th>\n",
       "      <th>Q3</th>\n",
       "      <th>S1</th>\n",
       "      <th>S2</th>\n",
       "      <th>S3</th>\n",
       "      <th>S4</th>\n",
       "    </tr>\n",
       "  </thead>\n",
       "  <tbody>\n",
       "    <tr>\n",
       "      <th>0</th>\n",
       "      <td>5</td>\n",
       "      <td>2023-11-05</td>\n",
       "      <td>-1</td>\n",
       "      <td>-1</td>\n",
       "      <td>-1</td>\n",
       "      <td>-1</td>\n",
       "      <td>-1</td>\n",
       "      <td>-1</td>\n",
       "      <td>-1</td>\n",
       "    </tr>\n",
       "    <tr>\n",
       "      <th>1</th>\n",
       "      <td>5</td>\n",
       "      <td>2023-11-06</td>\n",
       "      <td>-1</td>\n",
       "      <td>-1</td>\n",
       "      <td>-1</td>\n",
       "      <td>-1</td>\n",
       "      <td>-1</td>\n",
       "      <td>-1</td>\n",
       "      <td>-1</td>\n",
       "    </tr>\n",
       "    <tr>\n",
       "      <th>2</th>\n",
       "      <td>5</td>\n",
       "      <td>2023-11-07</td>\n",
       "      <td>-1</td>\n",
       "      <td>-1</td>\n",
       "      <td>-1</td>\n",
       "      <td>-1</td>\n",
       "      <td>-1</td>\n",
       "      <td>-1</td>\n",
       "      <td>-1</td>\n",
       "    </tr>\n",
       "    <tr>\n",
       "      <th>3</th>\n",
       "      <td>5</td>\n",
       "      <td>2023-11-08</td>\n",
       "      <td>-1</td>\n",
       "      <td>-1</td>\n",
       "      <td>-1</td>\n",
       "      <td>-1</td>\n",
       "      <td>-1</td>\n",
       "      <td>-1</td>\n",
       "      <td>-1</td>\n",
       "    </tr>\n",
       "    <tr>\n",
       "      <th>4</th>\n",
       "      <td>5</td>\n",
       "      <td>2023-11-09</td>\n",
       "      <td>-1</td>\n",
       "      <td>-1</td>\n",
       "      <td>-1</td>\n",
       "      <td>-1</td>\n",
       "      <td>-1</td>\n",
       "      <td>-1</td>\n",
       "      <td>-1</td>\n",
       "    </tr>\n",
       "    <tr>\n",
       "      <th>...</th>\n",
       "      <td>...</td>\n",
       "      <td>...</td>\n",
       "      <td>...</td>\n",
       "      <td>...</td>\n",
       "      <td>...</td>\n",
       "      <td>...</td>\n",
       "      <td>...</td>\n",
       "      <td>...</td>\n",
       "      <td>...</td>\n",
       "    </tr>\n",
       "    <tr>\n",
       "      <th>110</th>\n",
       "      <td>8</td>\n",
       "      <td>2023-11-05</td>\n",
       "      <td>-1</td>\n",
       "      <td>-1</td>\n",
       "      <td>-1</td>\n",
       "      <td>-1</td>\n",
       "      <td>-1</td>\n",
       "      <td>-1</td>\n",
       "      <td>-1</td>\n",
       "    </tr>\n",
       "    <tr>\n",
       "      <th>111</th>\n",
       "      <td>8</td>\n",
       "      <td>2023-11-06</td>\n",
       "      <td>-1</td>\n",
       "      <td>-1</td>\n",
       "      <td>-1</td>\n",
       "      <td>-1</td>\n",
       "      <td>-1</td>\n",
       "      <td>-1</td>\n",
       "      <td>-1</td>\n",
       "    </tr>\n",
       "    <tr>\n",
       "      <th>112</th>\n",
       "      <td>8</td>\n",
       "      <td>2023-11-07</td>\n",
       "      <td>-1</td>\n",
       "      <td>-1</td>\n",
       "      <td>-1</td>\n",
       "      <td>-1</td>\n",
       "      <td>-1</td>\n",
       "      <td>-1</td>\n",
       "      <td>-1</td>\n",
       "    </tr>\n",
       "    <tr>\n",
       "      <th>113</th>\n",
       "      <td>8</td>\n",
       "      <td>2023-11-08</td>\n",
       "      <td>-1</td>\n",
       "      <td>-1</td>\n",
       "      <td>-1</td>\n",
       "      <td>-1</td>\n",
       "      <td>-1</td>\n",
       "      <td>-1</td>\n",
       "      <td>-1</td>\n",
       "    </tr>\n",
       "    <tr>\n",
       "      <th>114</th>\n",
       "      <td>8</td>\n",
       "      <td>2023-11-09</td>\n",
       "      <td>-1</td>\n",
       "      <td>-1</td>\n",
       "      <td>-1</td>\n",
       "      <td>-1</td>\n",
       "      <td>-1</td>\n",
       "      <td>-1</td>\n",
       "      <td>-1</td>\n",
       "    </tr>\n",
       "  </tbody>\n",
       "</table>\n",
       "<p>115 rows × 9 columns</p>\n",
       "</div>"
      ],
      "text/plain": [
       "     subject_id        date  Q1  Q2  Q3  S1  S2  S3  S4\n",
       "0             5  2023-11-05  -1  -1  -1  -1  -1  -1  -1\n",
       "1             5  2023-11-06  -1  -1  -1  -1  -1  -1  -1\n",
       "2             5  2023-11-07  -1  -1  -1  -1  -1  -1  -1\n",
       "3             5  2023-11-08  -1  -1  -1  -1  -1  -1  -1\n",
       "4             5  2023-11-09  -1  -1  -1  -1  -1  -1  -1\n",
       "..          ...         ...  ..  ..  ..  ..  ..  ..  ..\n",
       "110           8  2023-11-05  -1  -1  -1  -1  -1  -1  -1\n",
       "111           8  2023-11-06  -1  -1  -1  -1  -1  -1  -1\n",
       "112           8  2023-11-07  -1  -1  -1  -1  -1  -1  -1\n",
       "113           8  2023-11-08  -1  -1  -1  -1  -1  -1  -1\n",
       "114           8  2023-11-09  -1  -1  -1  -1  -1  -1  -1\n",
       "\n",
       "[115 rows x 9 columns]"
      ]
     },
     "execution_count": 8,
     "metadata": {},
     "output_type": "execute_result"
    }
   ],
   "source": [
    "val_df = pd.read_csv('../../../../origin_datasets/answer_sample.csv')\n",
    "val_df"
   ]
  },
  {
   "cell_type": "code",
   "execution_count": null,
   "id": "c40bf393",
   "metadata": {},
   "outputs": [
    {
     "data": {
      "application/vnd.jupyter.widget-view+json": {
       "model_id": "657f476fa24f4a2b8520c220c33e59fd",
       "version_major": 2,
       "version_minor": 0
      },
      "text/plain": [
       "  0%|          | 0/115 [00:00<?, ?it/s]"
      ]
     },
     "metadata": {},
     "output_type": "display_data"
    }
   ],
   "source": [
    "from tqdm.auto import tqdm\n",
    "\n",
    "bar = tqdm(range(val_df.shape[0]))\n",
    "\n",
    "for idx in bar:\n",
    "    user, date, *rest = val_df.iloc[idx].values\n",
    "\n",
    "    bar.set_description(f'user: {user}, date: {date}')\n",
    "    # 1-1\n",
    "    merged_data= merge_data_for_group(user, date)\n",
    "#     2-1\n",
    "    plot_time_series(merged_data, user, date)\n",
    "    \n",
    "#     break"
   ]
  },
  {
   "cell_type": "code",
   "execution_count": 12,
   "id": "8433a914",
   "metadata": {},
   "outputs": [
    {
     "data": {
      "image/png": "[encoded data removed]",
      "text/plain": [
       "<Figure size 640x480 with 1 Axes>"
      ]
     },
     "metadata": {},
     "output_type": "display_data"
    }
   ],
   "source": [
    "import os\n",
    "from PIL import Image\n",
    "import numpy as np\n",
    "import matplotlib.pyplot as plt\n",
    "\n",
    "# 이미지 디렉터리 경로\n",
    "image_dir = '../new_image_dataset'\n",
    "\n",
    "# 이미지 파일 목록 가져오기\n",
    "image_files = [f for f in os.listdir(image_dir) if f.endswith('test.png')]\n",
    "\n",
    "# 첫 번째 이미지로 기준 크기 설정\n",
    "first_image_path = os.path.join(image_dir, image_files[0])\n",
    "first_image = Image.open(first_image_path)\n",
    "image_size = first_image.size\n",
    "\n",
    "# 이미지 불러오기 및 배열로 변환\n",
    "images = []\n",
    "for file in image_files:\n",
    "    image_path = os.path.join(image_dir, file)\n",
    "    image = Image.open(image_path).resize(image_size)\n",
    "    images.append(np.array(image))\n",
    "\n",
    "# 평균 이미지 계산\n",
    "average_image = np.mean(images, axis=0).astype(np.uint8)\n",
    "\n",
    "# 평균 이미지 시각화\n",
    "plt.imshow(average_image)\n",
    "plt.axis('off')\n",
    "plt.title('Average Image')\n",
    "plt.show()\n"
   ]
  },
  {
   "cell_type": "code",
   "execution_count": null,
   "id": "e1b0b35f",
   "metadata": {},
   "outputs": [],
   "source": []
  },
  {
   "cell_type": "code",
   "execution_count": null,
   "id": "56b89bc1",
   "metadata": {},
   "outputs": [],
   "source": []
  }
 ],
 "metadata": {
  "kernelspec": {
   "display_name": "PyTorch 2.1 (NGC 23.07/Python 3.10) on Backend.AI",
   "language": "python",
   "name": "python3"
  },
  "language_info": {
   "codemirror_mode": {
    "name": "ipython",
    "version": 3
   },
   "file_extension": ".py",
   "mimetype": "text/x-python",
   "name": "python",
   "nbconvert_exporter": "python",
   "pygments_lexer": "ipython3",
   "version": "3.10.6"
  }
 },
 "nbformat": 4,
 "nbformat_minor": 5
}
