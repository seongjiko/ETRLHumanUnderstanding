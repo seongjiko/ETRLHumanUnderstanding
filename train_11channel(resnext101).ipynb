{
 "cells": [
  {
   "cell_type": "code",
   "execution_count": 1,
   "metadata": {},
   "outputs": [],
   "source": [
    "import os\n",
    "import re\n",
    "import csv\n",
    "import random\n",
    "from glob import glob\n",
    "\n",
    "import numpy as np\n",
    "import pandas as pd\n",
    "\n",
    "from PIL import Image\n",
    "\n",
    "import torch\n",
    "import torch.nn as nn\n",
    "import torch.optim as optim\n",
    "from torch.utils.data import DataLoader, Dataset\n",
    "\n",
    "import torchvision.transforms as v2\n",
    "import timm\n",
    "import albumentations as A\n",
    "from albumentations.pytorch import ToTensorV2\n",
    "\n",
    "from sklearn.metrics import accuracy_score, f1_score, roc_auc_score\n",
    "from sklearn.model_selection import train_test_split, KFold\n",
    "from sklearn.preprocessing import LabelEncoder\n",
    "\n",
    "import matplotlib.pyplot as plt\n",
    "import seaborn as sns\n",
    "\n",
    "from tqdm.cli import tqdm\n",
    "\n",
    "import warnings\n",
    "warnings.filterwarnings('ignore')\n"
   ]
  },
  {
   "cell_type": "code",
   "execution_count": 2,
   "metadata": {},
   "outputs": [],
   "source": [
    "def seed_everything(seed=42):\n",
    "    random.seed(seed)  # Python 내장 random 모듈\n",
    "    os.environ['PYTHONHASHSEED'] = str(seed)  # 환경변수 설정\n",
    "    np.random.seed(seed)  # NumPy\n",
    "    torch.manual_seed(seed)  # PyTorch CPU 시드 고정\n",
    "    torch.cuda.manual_seed(seed)  # PyTorch GPU 시드 고정\n",
    "    torch.cuda.manual_seed_all(seed)  # 멀티 GPU 환경에서도 시드 고정\n",
    "    torch.backends.cudnn.deterministic = True  # CuDNN 관련 설정\n",
    "    torch.backends.cudnn.benchmark = False  # 동일한 입력 크기의 데이터가 반복될 경우 속도 향상을 위한 벤치마크 모드 비활성화\n",
    "\n",
    "# 사용 예시\n",
    "seed_everything(seed=42)"
   ]
  },
  {
   "cell_type": "markdown",
   "metadata": {},
   "source": [
    "이미지 경로 포함"
   ]
  },
  {
   "cell_type": "code",
   "execution_count": 4,
   "metadata": {},
   "outputs": [],
   "source": [
    "valid_df = pd.read_csv('../../../origin_datasets/val_label.csv')\n",
    "valid_df['data_path'] = valid_df.apply(lambda row: f\"../new_image_dataset/user{row['subject_id']}_{row['date']}_valid_fixedY-axis.png\", axis=1)\n",
    "valid_df['subject_id'] = valid_df['subject_id'].apply(lambda x: f'user{str(x).zfill(2)}_valid')"
   ]
  },
  {
   "cell_type": "code",
   "execution_count": 8,
   "metadata": {},
   "outputs": [
    {
     "data": {
      "text/html": [
       "<div>\n",
       "<style scoped>\n",
       "    .dataframe tbody tr th:only-of-type {\n",
       "        vertical-align: middle;\n",
       "    }\n",
       "\n",
       "    .dataframe tbody tr th {\n",
       "        vertical-align: top;\n",
       "    }\n",
       "\n",
       "    .dataframe thead th {\n",
       "        text-align: right;\n",
       "    }\n",
       "</style>\n",
       "<table border=\"1\" class=\"dataframe\">\n",
       "  <thead>\n",
       "    <tr style=\"text-align: right;\">\n",
       "      <th></th>\n",
       "      <th>subject_id</th>\n",
       "      <th>date</th>\n",
       "      <th>Q1</th>\n",
       "      <th>Q2</th>\n",
       "      <th>Q3</th>\n",
       "      <th>S1</th>\n",
       "      <th>S2</th>\n",
       "      <th>S3</th>\n",
       "      <th>S4</th>\n",
       "      <th>data_path</th>\n",
       "    </tr>\n",
       "  </thead>\n",
       "  <tbody>\n",
       "    <tr>\n",
       "      <th>0</th>\n",
       "      <td>user01_valid</td>\n",
       "      <td>2023-08-20</td>\n",
       "      <td>1</td>\n",
       "      <td>1</td>\n",
       "      <td>1</td>\n",
       "      <td>0</td>\n",
       "      <td>0</td>\n",
       "      <td>0</td>\n",
       "      <td>0</td>\n",
       "      <td>../new_image_dataset/user1_2023-08-20_valid_fi...</td>\n",
       "    </tr>\n",
       "    <tr>\n",
       "      <th>1</th>\n",
       "      <td>user01_valid</td>\n",
       "      <td>2023-08-21</td>\n",
       "      <td>1</td>\n",
       "      <td>1</td>\n",
       "      <td>1</td>\n",
       "      <td>0</td>\n",
       "      <td>0</td>\n",
       "      <td>1</td>\n",
       "      <td>0</td>\n",
       "      <td>../new_image_dataset/user1_2023-08-21_valid_fi...</td>\n",
       "    </tr>\n",
       "    <tr>\n",
       "      <th>2</th>\n",
       "      <td>user01_valid</td>\n",
       "      <td>2023-08-22</td>\n",
       "      <td>0</td>\n",
       "      <td>1</td>\n",
       "      <td>1</td>\n",
       "      <td>0</td>\n",
       "      <td>1</td>\n",
       "      <td>1</td>\n",
       "      <td>0</td>\n",
       "      <td>../new_image_dataset/user1_2023-08-22_valid_fi...</td>\n",
       "    </tr>\n",
       "    <tr>\n",
       "      <th>3</th>\n",
       "      <td>user01_valid</td>\n",
       "      <td>2023-08-23</td>\n",
       "      <td>0</td>\n",
       "      <td>1</td>\n",
       "      <td>1</td>\n",
       "      <td>0</td>\n",
       "      <td>0</td>\n",
       "      <td>1</td>\n",
       "      <td>0</td>\n",
       "      <td>../new_image_dataset/user1_2023-08-23_valid_fi...</td>\n",
       "    </tr>\n",
       "    <tr>\n",
       "      <th>4</th>\n",
       "      <td>user01_valid</td>\n",
       "      <td>2023-08-24</td>\n",
       "      <td>1</td>\n",
       "      <td>1</td>\n",
       "      <td>1</td>\n",
       "      <td>0</td>\n",
       "      <td>0</td>\n",
       "      <td>1</td>\n",
       "      <td>0</td>\n",
       "      <td>../new_image_dataset/user1_2023-08-24_valid_fi...</td>\n",
       "    </tr>\n",
       "  </tbody>\n",
       "</table>\n",
       "</div>"
      ],
      "text/plain": [
       "     subject_id        date  Q1  Q2  Q3  S1  S2  S3  S4  \\\n",
       "0  user01_valid  2023-08-20   1   1   1   0   0   0   0   \n",
       "1  user01_valid  2023-08-21   1   1   1   0   0   1   0   \n",
       "2  user01_valid  2023-08-22   0   1   1   0   1   1   0   \n",
       "3  user01_valid  2023-08-23   0   1   1   0   0   1   0   \n",
       "4  user01_valid  2023-08-24   1   1   1   0   0   1   0   \n",
       "\n",
       "                                           data_path  \n",
       "0  ../new_image_dataset/user1_2023-08-20_valid_fi...  \n",
       "1  ../new_image_dataset/user1_2023-08-21_valid_fi...  \n",
       "2  ../new_image_dataset/user1_2023-08-22_valid_fi...  \n",
       "3  ../new_image_dataset/user1_2023-08-23_valid_fi...  \n",
       "4  ../new_image_dataset/user1_2023-08-24_valid_fi...  "
      ]
     },
     "execution_count": 8,
     "metadata": {},
     "output_type": "execute_result"
    }
   ],
   "source": [
    "valid_df.head()"
   ]
  },
  {
   "cell_type": "code",
   "execution_count": 9,
   "metadata": {},
   "outputs": [],
   "source": [
    "from sklearn.model_selection import train_test_split\n",
    "train_df, valid_df = train_test_split(valid_df, test_size = 0.2, random_state=1020)\n",
    "train_df = train_df.sample(frac=1).reset_index(drop=True)"
   ]
  },
  {
   "cell_type": "code",
   "execution_count": 10,
   "metadata": {},
   "outputs": [
    {
     "name": "stdout",
     "output_type": "stream",
     "text": [
      "count >>> train_set: 84, valid_set: 21\n"
     ]
    }
   ],
   "source": [
    "print(f\"count >>> train_set: {len(train_df)}, valid_set: {len(valid_df)}\")"
   ]
  },
  {
   "cell_type": "code",
   "execution_count": 11,
   "metadata": {},
   "outputs": [],
   "source": [
    "class CustomDataset(Dataset):\n",
    "    def __init__(self, df, transforms):\n",
    "        self.path = df['data_path'].values\n",
    "        self.class_ = df[['Q1', 'Q2', 'Q3', 'S1', 'S2', 'S3', 'S4']].values\n",
    "        self.transform = transforms\n",
    "\n",
    "    def __getitem__(self, idx):\n",
    "        try:\n",
    "            img = np.array(Image.open(self.path[idx]).convert('RGB'))\n",
    "        except FileNotFoundError:\n",
    "            return self.__getitem__((idx + 1) % len(self))\n",
    "        \n",
    "        img = self.transform(image=img)['image']\n",
    "        img = torch.tensor(img, dtype=torch.float)  # Explicitly specify the type as float\n",
    "        y = self.class_[idx]\n",
    "        \n",
    "        return img, y\n",
    "    \n",
    "    def __len__(self):\n",
    "        return len(self.path)"
   ]
  },
  {
   "cell_type": "markdown",
   "metadata": {},
   "source": [
    "### 데이터 mean, std 계산"
   ]
  },
  {
   "cell_type": "code",
   "execution_count": 12,
   "metadata": {},
   "outputs": [],
   "source": [
    "# import os\n",
    "# import numpy as np\n",
    "# import cv2\n",
    "# import albumentations as A\n",
    "\n",
    "# # 이미지가 저장된 폴더 경로\n",
    "# folder_path = '../new_image_dataset'\n",
    "\n",
    "# # 이미지 파일 목록 가져오기\n",
    "# image_files = [f for f in os.listdir(folder_path) if os.path.isfile(os.path.join(folder_path, f))]\n",
    "\n",
    "# # 모든 이미지를 읽어 numpy 배열에 저장\n",
    "# images = []\n",
    "# for file in image_files:\n",
    "#     image_path = os.path.join(folder_path, file)\n",
    "#     image = cv2.imread(image_path, cv2.IMREAD_GRAYSCALE)  # 흑백 이미지로 읽기\n",
    "#     if image is not None:\n",
    "#         images.append(image)\n",
    "\n",
    "# # 이미지 배열을 numpy 배열로 변환\n",
    "# images_array = np.array(images)\n",
    "\n",
    "# # 각 픽셀의 평균과 표준편차 계산\n",
    "# mean = np.mean(images_array)\n",
    "# std = np.std(images_array)\n",
    "\n",
    "# # 결과 출력\n",
    "# print(f\"Mean: {mean}, Std: {std}\")\n",
    "\n",
    "mean = 15.359733188267395\n",
    "std = 58.28444875927197\n"
   ]
  },
  {
   "cell_type": "code",
   "execution_count": 13,
   "metadata": {},
   "outputs": [],
   "source": [
    "import numpy as np\n",
    "import albumentations as A\n",
    "from albumentations.core.transforms_interface import ImageOnlyTransform\n",
    "from albumentations.pytorch import ToTensorV2\n",
    "\n",
    "class RandomHorizontalStrips(ImageOnlyTransform):\n",
    "    def __init__(self, num_strips=(1, 3), strip_width=84, always_apply=False, p=0.5):\n",
    "        super(RandomHorizontalStrips, self).__init__(always_apply, p)\n",
    "        self.num_strips = num_strips\n",
    "        self.strip_width = strip_width\n",
    "\n",
    "    def apply(self, img, **params):\n",
    "        h, w = img.shape[:2]\n",
    "        num_strips = np.random.randint(self.num_strips[0], self.num_strips[1] + 1)\n",
    "        for _ in range(num_strips):\n",
    "            x_start = np.random.randint(0, w - self.strip_width)\n",
    "            img[:, x_start:x_start + self.strip_width] = 0\n",
    "        return img\n",
    "\n",
    "    def get_transform_init_args_names(self):\n",
    "        return (\"num_strips\", \"strip_width\")\n",
    "\n",
    "    def get_params(self):\n",
    "        return {\"num_strips\": self.num_strips, \"strip_width\": self.strip_width}\n",
    "\n",
    "# 기존의 train_transforms에 새로운 증강 기법 추가\n",
    "train_transforms = A.Compose([\n",
    "    # RandomHorizontalStrips(p=0.5),\n",
    "    A.Resize(height=224, width=224, p=1),\n",
    "    A.GaussNoise(p=0.5),\n",
    "    A.OneOf([\n",
    "        A.GaussianBlur(p=0.5),\n",
    "        A.Sharpen(p=0.5)\n",
    "    ], p=0.5),\n",
    "    A.Normalize(mean=[mean, mean, mean], std=[std, std, std], p=1.0),\n",
    "    ToTensorV2()\n",
    "])\n",
    "\n",
    "\n",
    "test_transforms = A.Compose([\n",
    "    A.Resize(always_apply = True, p=1.0, height=224, width=224),\n",
    "    A.Normalize(mean=[mean, mean, mean], std=[std, std, std], p=1.0),\n",
    "    ToTensorV2()\n",
    "])"
   ]
  },
  {
   "cell_type": "code",
   "execution_count": 14,
   "metadata": {},
   "outputs": [],
   "source": [
    "train_dataset = CustomDataset(train_df, train_transforms)\n",
    "valid_dataset = CustomDataset(valid_df, test_transforms)"
   ]
  },
  {
   "cell_type": "code",
   "execution_count": 15,
   "metadata": {},
   "outputs": [],
   "source": [
    "train_loader = DataLoader(train_dataset, batch_size=16, shuffle=True)\n",
    "valid_loader = DataLoader(valid_dataset, batch_size=16, shuffle=False)"
   ]
  },
  {
   "cell_type": "code",
   "execution_count": 17,
   "metadata": {},
   "outputs": [],
   "source": [
    "epochs = 500"
   ]
  },
  {
   "cell_type": "code",
   "execution_count": 19,
   "metadata": {},
   "outputs": [],
   "source": [
    "from collections import deque\n",
    "\n",
    "def run_model(model, loader, loss_fn=None, optimizer=None, is_training=False, epoch=None):\n",
    "    targets = []\n",
    "    preds = []\n",
    "    smooth_loss_queue = deque(maxlen=50)  # 최근 50개의 손실을 저장할 큐\n",
    "\n",
    "    if is_training:\n",
    "        model.train()\n",
    "        mode = 'Train'\n",
    "    else:\n",
    "        model.eval()\n",
    "        mode = 'Valid/Test'\n",
    "\n",
    "    running_loss = 0.0\n",
    "    bar = tqdm(loader, ascii=True, leave=False)\n",
    "    for cnt, (data, target) in enumerate(bar):\n",
    "        data = data.to('cuda')\n",
    "        target = target.to('cuda')\n",
    "        if is_training:\n",
    "            optimizer.zero_grad()\n",
    "\n",
    "        outputs = torch.sigmoid(model(data))\n",
    "        total_loss = loss_fn(outputs, target.float())\n",
    "        running_loss += total_loss.item()\n",
    "        smooth_loss_queue.append(total_loss.item())  # 현재 손실을 큐에 추가\n",
    "        smooth_loss = sum(smooth_loss_queue) / len(smooth_loss_queue)  # 큐에 있는 손실의 평균 계산\n",
    "\n",
    "        predicted = (outputs > 0.5).float()\n",
    "        preds.extend(predicted.detach().cpu().tolist())\n",
    "        targets.extend(target.detach().cpu().tolist())\n",
    "\n",
    "        if is_training:\n",
    "            total_loss.backward()\n",
    "            optimizer.step()\n",
    "\n",
    "        # 에폭 정보와 함께 배치별 손실 평균 및 smooth loss 출력\n",
    "        bar.set_description(f'Epoch {epoch} {mode} - Loss: {total_loss:.4f}, Smooth Loss: {smooth_loss:.4f}')\n",
    "\n",
    "    f1_score_ = f1_score(np.array(targets), np.array(preds), average='macro')\n",
    "    acc_score = accuracy_score(np.array(targets).reshape(-1), np.array(preds).reshape(-1))\n",
    "\n",
    "    return running_loss / len(loader), acc_score, f1_score_\n"
   ]
  },
  {
   "cell_type": "markdown",
   "metadata": {},
   "source": []
  },
  {
   "cell_type": "code",
   "execution_count": 21,
   "metadata": {},
   "outputs": [],
   "source": [
    "import math\n",
    "from torch.optim.lr_scheduler import _LRScheduler\n",
    "\n",
    "class CosineAnnealingWarmUpRestarts(_LRScheduler):\n",
    "    def __init__(self, optimizer, T_0, T_mult=1, eta_max=0.1, T_up=0, gamma=1., last_epoch=-1):\n",
    "        if T_0 <= 0 or not isinstance(T_0, int):\n",
    "            raise ValueError(\"Expected positive integer T_0, but got {}\".format(T_0))\n",
    "        if T_mult < 1 or not isinstance(T_mult, int):\n",
    "            raise ValueError(\"Expected integer T_mult >= 1, but got {}\".format(T_mult))\n",
    "        if T_up < 0 or not isinstance(T_up, int):\n",
    "            raise ValueError(\"Expected positive integer T_up, but got {}\".format(T_up))\n",
    "        self.T_0 = T_0\n",
    "        self.T_mult = T_mult\n",
    "        self.base_eta_max = eta_max\n",
    "        self.eta_max = eta_max\n",
    "        self.T_up = T_up\n",
    "        self.T_i = T_0\n",
    "        self.gamma = gamma\n",
    "        self.cycle = 0\n",
    "        self.T_cur = last_epoch\n",
    "        super(CosineAnnealingWarmUpRestarts, self).__init__(optimizer, last_epoch)\n",
    "    \n",
    "    def get_lr(self):\n",
    "        if self.T_cur == -1:\n",
    "            return self.base_lrs\n",
    "        elif self.T_cur < self.T_up:\n",
    "            return [(self.eta_max - base_lr)*self.T_cur / self.T_up + base_lr for base_lr in self.base_lrs]\n",
    "        else:\n",
    "            return [base_lr + (self.eta_max - base_lr) * (1 + math.cos(math.pi * (self.T_cur-self.T_up) / (self.T_i - self.T_up))) / 2\n",
    "                    for base_lr in self.base_lrs]\n",
    "\n",
    "    def step(self, epoch=None):\n",
    "        if epoch is None:\n",
    "            epoch = self.last_epoch + 1\n",
    "            self.T_cur = self.T_cur + 1\n",
    "            if self.T_cur >= self.T_i:\n",
    "                self.cycle += 1\n",
    "                self.T_cur = self.T_cur - self.T_i\n",
    "                self.T_i = (self.T_i - self.T_up) * self.T_mult + self.T_up\n",
    "        else:\n",
    "            if epoch >= self.T_0:\n",
    "                if self.T_mult == 1:\n",
    "                    self.T_cur = epoch % self.T_0\n",
    "                    self.cycle = epoch // self.T_0\n",
    "                else:\n",
    "                    n = int(math.log((epoch / self.T_0 * (self.T_mult - 1) + 1), self.T_mult))\n",
    "                    self.cycle = n\n",
    "                    self.T_cur = epoch - self.T_0 * (self.T_mult ** n - 1) / (self.T_mult - 1)\n",
    "                    self.T_i = self.T_0 * self.T_mult ** (n)\n",
    "            else:\n",
    "                self.T_i = self.T_0\n",
    "                self.T_cur = epoch\n",
    "                \n",
    "        self.eta_max = self.base_eta_max * (self.gamma**self.cycle)\n",
    "        self.last_epoch = math.floor(epoch)\n",
    "        for param_group, lr in zip(self.optimizer.param_groups, self.get_lr()):\n",
    "            param_group['lr'] = lr"
   ]
  },
  {
   "cell_type": "code",
   "execution_count": 22,
   "metadata": {},
   "outputs": [],
   "source": [
    "full_df = pd.read_csv('../../../origin_datasets/val_label.csv')\n",
    "full_df['Q3'] = full_df['Q3'].apply(lambda x: 1 if x == 0 else 0)\n",
    "full_df['data_path'] = full_df.apply(lambda row: f\"../new_image_dataset/user{row['subject_id']}_{row['date']}_valid_all_sensor.png\", axis=1)"
   ]
  },
  {
   "cell_type": "code",
   "execution_count": null,
   "metadata": {},
   "outputs": [],
   "source": []
  },
  {
   "cell_type": "code",
   "execution_count": null,
   "metadata": {},
   "outputs": [
    {
     "name": "stdout",
     "output_type": "stream",
     "text": [
      "Fold 1\n"
     ]
    },
    {
     "name": "stderr",
     "output_type": "stream",
     "text": [
      "                                                                                         \r"
     ]
    },
    {
     "name": "stdout",
     "output_type": "stream",
     "text": [
      "Epoch: 1 | Train Loss: 0.718149 | Train Acc: 0.479592 | Train F1: 0.476848 | Valid Loss: 0.715973 | Valid Acc: 0.544218 | Valid F1: 0.436211 | LR: 0.00e+00\n",
      "Epoch 0: New best F1-score 0.4362 in fold 1, model saved.\n"
     ]
    },
    {
     "name": "stderr",
     "output_type": "stream",
     "text": [
      "                                                                                         \r"
     ]
    },
    {
     "name": "stdout",
     "output_type": "stream",
     "text": [
      "Epoch: 2 | Train Loss: 0.680869 | Train Acc: 0.568027 | Train F1: 0.563089 | Valid Loss: 0.783091 | Valid Acc: 0.408163 | Valid F1: 0.227226 | LR: 5.00e-06\n"
     ]
    },
    {
     "name": "stderr",
     "output_type": "stream",
     "text": [
      "                                                                                         \r"
     ]
    },
    {
     "name": "stdout",
     "output_type": "stream",
     "text": [
      "Epoch: 3 | Train Loss: 0.592503 | Train Acc: 0.688776 | Train F1: 0.665031 | Valid Loss: 1.407294 | Valid Acc: 0.374150 | Valid F1: 0.261035 | LR: 1.00e-05\n"
     ]
    },
    {
     "name": "stderr",
     "output_type": "stream",
     "text": [
      "                                                                                         \r"
     ]
    },
    {
     "name": "stdout",
     "output_type": "stream",
     "text": [
      "Epoch: 4 | Train Loss: 0.503086 | Train Acc: 0.775510 | Train F1: 0.737921 | Valid Loss: 1.577389 | Valid Acc: 0.374150 | Valid F1: 0.261035 | LR: 1.50e-05\n"
     ]
    },
    {
     "name": "stderr",
     "output_type": "stream",
     "text": [
      "                                                                                         \r"
     ]
    },
    {
     "name": "stdout",
     "output_type": "stream",
     "text": [
      "Epoch: 5 | Train Loss: 0.457635 | Train Acc: 0.806122 | Train F1: 0.764842 | Valid Loss: 1.753254 | Valid Acc: 0.374150 | Valid F1: 0.261035 | LR: 2.00e-05\n"
     ]
    },
    {
     "name": "stderr",
     "output_type": "stream",
     "text": [
      "                                                                                         \r"
     ]
    },
    {
     "name": "stdout",
     "output_type": "stream",
     "text": [
      "Epoch: 6 | Train Loss: 0.388548 | Train Acc: 0.845238 | Train F1: 0.837502 | Valid Loss: 1.559062 | Valid Acc: 0.374150 | Valid F1: 0.261035 | LR: 2.50e-05\n"
     ]
    },
    {
     "name": "stderr",
     "output_type": "stream",
     "text": [
      "                                                                                         \r"
     ]
    },
    {
     "name": "stdout",
     "output_type": "stream",
     "text": [
      "Epoch: 7 | Train Loss: 0.333114 | Train Acc: 0.850340 | Train F1: 0.842741 | Valid Loss: 0.949889 | Valid Acc: 0.380952 | Valid F1: 0.281443 | LR: 3.00e-05\n"
     ]
    },
    {
     "name": "stderr",
     "output_type": "stream",
     "text": [
      "                                                                                         \r"
     ]
    },
    {
     "name": "stdout",
     "output_type": "stream",
     "text": [
      "Epoch: 8 | Train Loss: 0.329494 | Train Acc: 0.892857 | Train F1: 0.890918 | Valid Loss: 0.744864 | Valid Acc: 0.510204 | Valid F1: 0.428163 | LR: 3.50e-05\n"
     ]
    },
    {
     "name": "stderr",
     "output_type": "stream",
     "text": [
      "                                                                                         \r"
     ]
    },
    {
     "name": "stdout",
     "output_type": "stream",
     "text": [
      "Epoch: 9 | Train Loss: 0.239675 | Train Acc: 0.925170 | Train F1: 0.927174 | Valid Loss: 0.629938 | Valid Acc: 0.591837 | Valid F1: 0.356980 | LR: 4.00e-05\n"
     ]
    },
    {
     "name": "stderr",
     "output_type": "stream",
     "text": [
      "                                                                                         \r"
     ]
    },
    {
     "name": "stdout",
     "output_type": "stream",
     "text": [
      "Epoch: 10 | Train Loss: 0.189502 | Train Acc: 0.938776 | Train F1: 0.942841 | Valid Loss: 0.845149 | Valid Acc: 0.510204 | Valid F1: 0.428151 | LR: 4.50e-05\n"
     ]
    },
    {
     "name": "stderr",
     "output_type": "stream",
     "text": [
      "                                                                                          \r"
     ]
    },
    {
     "name": "stdout",
     "output_type": "stream",
     "text": [
      "Epoch: 11 | Train Loss: 0.171560 | Train Acc: 0.938776 | Train F1: 0.931328 | Valid Loss: 0.936810 | Valid Acc: 0.537415 | Valid F1: 0.426420 | LR: 5.00e-05\n"
     ]
    },
    {
     "name": "stderr",
     "output_type": "stream",
     "text": [
      "                                                                                          \r"
     ]
    },
    {
     "name": "stdout",
     "output_type": "stream",
     "text": [
      "Epoch: 12 | Train Loss: 0.133188 | Train Acc: 0.945578 | Train F1: 0.943005 | Valid Loss: 1.026507 | Valid Acc: 0.591837 | Valid F1: 0.435087 | LR: 5.00e-05\n"
     ]
    },
    {
     "name": "stderr",
     "output_type": "stream",
     "text": [
      "                                                                                          \r"
     ]
    },
    {
     "name": "stdout",
     "output_type": "stream",
     "text": [
      "Epoch: 13 | Train Loss: 0.195725 | Train Acc: 0.945578 | Train F1: 0.942751 | Valid Loss: 0.966542 | Valid Acc: 0.585034 | Valid F1: 0.470366 | LR: 4.99e-05\n",
      "Epoch 12: New best F1-score 0.4704 in fold 1, model saved.\n"
     ]
    },
    {
     "name": "stderr",
     "output_type": "stream",
     "text": [
      "                                                                                          \r"
     ]
    },
    {
     "name": "stdout",
     "output_type": "stream",
     "text": [
      "Epoch: 14 | Train Loss: 0.119178 | Train Acc: 0.965986 | Train F1: 0.965587 | Valid Loss: 1.087680 | Valid Acc: 0.625850 | Valid F1: 0.583409 | LR: 4.99e-05\n",
      "Epoch 13: New best F1-score 0.5834 in fold 1, model saved.\n"
     ]
    },
    {
     "name": "stderr",
     "output_type": "stream",
     "text": [
      "                                                                                          \r"
     ]
    },
    {
     "name": "stdout",
     "output_type": "stream",
     "text": [
      "Epoch: 15 | Train Loss: 0.159222 | Train Acc: 0.967687 | Train F1: 0.963573 | Valid Loss: 0.851145 | Valid Acc: 0.612245 | Valid F1: 0.510035 | LR: 4.98e-05\n"
     ]
    },
    {
     "name": "stderr",
     "output_type": "stream",
     "text": [
      "                                                                                          \r"
     ]
    },
    {
     "name": "stdout",
     "output_type": "stream",
     "text": [
      "Epoch: 16 | Train Loss: 0.156757 | Train Acc: 0.950680 | Train F1: 0.954694 | Valid Loss: 0.597309 | Valid Acc: 0.707483 | Valid F1: 0.607606 | LR: 4.96e-05\n",
      "Epoch 15: New best F1-score 0.6076 in fold 1, model saved.\n"
     ]
    },
    {
     "name": "stderr",
     "output_type": "stream",
     "text": [
      "                                                                                          \r"
     ]
    },
    {
     "name": "stdout",
     "output_type": "stream",
     "text": [
      "Epoch: 17 | Train Loss: 0.109627 | Train Acc: 0.976190 | Train F1: 0.974864 | Valid Loss: 0.879661 | Valid Acc: 0.680272 | Valid F1: 0.542833 | LR: 4.95e-05\n"
     ]
    },
    {
     "name": "stderr",
     "output_type": "stream",
     "text": [
      "                                                                                          \r"
     ]
    },
    {
     "name": "stdout",
     "output_type": "stream",
     "text": [
      "Epoch: 18 | Train Loss: 0.083197 | Train Acc: 0.991497 | Train F1: 0.990152 | Valid Loss: 0.947535 | Valid Acc: 0.755102 | Valid F1: 0.592026 | LR: 4.93e-05\n"
     ]
    },
    {
     "name": "stderr",
     "output_type": "stream",
     "text": [
      "                                                                                          \r"
     ]
    },
    {
     "name": "stdout",
     "output_type": "stream",
     "text": [
      "Epoch: 19 | Train Loss: 0.138979 | Train Acc: 0.962585 | Train F1: 0.965454 | Valid Loss: 0.755972 | Valid Acc: 0.755102 | Valid F1: 0.581535 | LR: 4.90e-05\n"
     ]
    },
    {
     "name": "stderr",
     "output_type": "stream",
     "text": [
      "                                                                                          \r"
     ]
    },
    {
     "name": "stdout",
     "output_type": "stream",
     "text": [
      "Epoch: 20 | Train Loss: 0.116030 | Train Acc: 0.969388 | Train F1: 0.970778 | Valid Loss: 0.860165 | Valid Acc: 0.782313 | Valid F1: 0.685185 | LR: 4.88e-05\n",
      "Epoch 19: New best F1-score 0.6852 in fold 1, model saved.\n"
     ]
    },
    {
     "name": "stderr",
     "output_type": "stream",
     "text": [
      "                                                                                          \r"
     ]
    },
    {
     "name": "stdout",
     "output_type": "stream",
     "text": [
      "Epoch: 21 | Train Loss: 0.075230 | Train Acc: 0.976190 | Train F1: 0.979337 | Valid Loss: 0.797462 | Valid Acc: 0.727891 | Valid F1: 0.537814 | LR: 4.85e-05\n"
     ]
    },
    {
     "name": "stderr",
     "output_type": "stream",
     "text": [
      "                                                                                          \r"
     ]
    },
    {
     "name": "stdout",
     "output_type": "stream",
     "text": [
      "Epoch: 22 | Train Loss: 0.056098 | Train Acc: 0.993197 | Train F1: 0.989884 | Valid Loss: 0.745440 | Valid Acc: 0.707483 | Valid F1: 0.552355 | LR: 4.82e-05\n"
     ]
    },
    {
     "name": "stderr",
     "output_type": "stream",
     "text": [
      "                                                                                          \r"
     ]
    },
    {
     "name": "stdout",
     "output_type": "stream",
     "text": [
      "Epoch: 23 | Train Loss: 0.084776 | Train Acc: 0.960884 | Train F1: 0.964752 | Valid Loss: 0.881033 | Valid Acc: 0.666667 | Valid F1: 0.558333 | LR: 4.78e-05\n"
     ]
    },
    {
     "name": "stderr",
     "output_type": "stream",
     "text": [
      "                                                                                          \r"
     ]
    },
    {
     "name": "stdout",
     "output_type": "stream",
     "text": [
      "Epoch: 24 | Train Loss: 0.081941 | Train Acc: 0.986395 | Train F1: 0.989029 | Valid Loss: 0.890586 | Valid Acc: 0.687075 | Valid F1: 0.593707 | LR: 4.75e-05\n"
     ]
    },
    {
     "name": "stderr",
     "output_type": "stream",
     "text": [
      "                                                                                          \r"
     ]
    },
    {
     "name": "stdout",
     "output_type": "stream",
     "text": [
      "Epoch: 25 | Train Loss: 0.059580 | Train Acc: 0.989796 | Train F1: 0.991221 | Valid Loss: 0.667999 | Valid Acc: 0.673469 | Valid F1: 0.537721 | LR: 4.71e-05\n"
     ]
    },
    {
     "name": "stderr",
     "output_type": "stream",
     "text": [
      "                                                                                          \r"
     ]
    },
    {
     "name": "stdout",
     "output_type": "stream",
     "text": [
      "Epoch: 26 | Train Loss: 0.059243 | Train Acc: 0.991497 | Train F1: 0.992997 | Valid Loss: 0.696960 | Valid Acc: 0.714286 | Valid F1: 0.543744 | LR: 4.67e-05\n"
     ]
    },
    {
     "name": "stderr",
     "output_type": "stream",
     "text": [
      "                                                                                          \r"
     ]
    },
    {
     "name": "stdout",
     "output_type": "stream",
     "text": [
      "Epoch: 27 | Train Loss: 0.045560 | Train Acc: 0.989796 | Train F1: 0.991571 | Valid Loss: 0.620202 | Valid Acc: 0.741497 | Valid F1: 0.544888 | LR: 4.62e-05\n"
     ]
    },
    {
     "name": "stderr",
     "output_type": "stream",
     "text": [
      "                                                                                          \r"
     ]
    },
    {
     "name": "stdout",
     "output_type": "stream",
     "text": [
      "Epoch: 28 | Train Loss: 0.034632 | Train Acc: 0.994898 | Train F1: 0.995768 | Valid Loss: 0.771649 | Valid Acc: 0.707483 | Valid F1: 0.514018 | LR: 4.57e-05\n"
     ]
    },
    {
     "name": "stderr",
     "output_type": "stream",
     "text": [
      "                                                                                          \r"
     ]
    },
    {
     "name": "stdout",
     "output_type": "stream",
     "text": [
      "Epoch: 29 | Train Loss: 0.040571 | Train Acc: 0.991497 | Train F1: 0.990444 | Valid Loss: 0.851127 | Valid Acc: 0.721088 | Valid F1: 0.523915 | LR: 4.52e-05\n"
     ]
    },
    {
     "name": "stderr",
     "output_type": "stream",
     "text": [
      "                                                                                          \r"
     ]
    },
    {
     "name": "stdout",
     "output_type": "stream",
     "text": [
      "Epoch: 30 | Train Loss: 0.025489 | Train Acc: 0.996599 | Train F1: 0.995026 | Valid Loss: 0.605681 | Valid Acc: 0.748299 | Valid F1: 0.584241 | LR: 4.47e-05\n"
     ]
    },
    {
     "name": "stderr",
     "output_type": "stream",
     "text": [
      "                                                                                          \r"
     ]
    },
    {
     "name": "stdout",
     "output_type": "stream",
     "text": [
      "Epoch: 31 | Train Loss: 0.047223 | Train Acc: 0.989796 | Train F1: 0.991637 | Valid Loss: 0.820681 | Valid Acc: 0.727891 | Valid F1: 0.563597 | LR: 4.42e-05\n"
     ]
    },
    {
     "name": "stderr",
     "output_type": "stream",
     "text": [
      "                                                                                          \r"
     ]
    },
    {
     "name": "stdout",
     "output_type": "stream",
     "text": [
      "Epoch: 32 | Train Loss: 0.059794 | Train Acc: 0.993197 | Train F1: 0.992108 | Valid Loss: 0.808844 | Valid Acc: 0.727891 | Valid F1: 0.560827 | LR: 4.36e-05\n"
     ]
    },
    {
     "name": "stderr",
     "output_type": "stream",
     "text": [
      "                                                                                          \r"
     ]
    },
    {
     "name": "stdout",
     "output_type": "stream",
     "text": [
      "Epoch: 33 | Train Loss: 0.031652 | Train Acc: 0.994898 | Train F1: 0.996183 | Valid Loss: 0.873250 | Valid Acc: 0.693878 | Valid F1: 0.544550 | LR: 4.30e-05\n"
     ]
    },
    {
     "name": "stderr",
     "output_type": "stream",
     "text": [
      "                                                                                          \r"
     ]
    },
    {
     "name": "stdout",
     "output_type": "stream",
     "text": [
      "Epoch: 34 | Train Loss: 0.063424 | Train Acc: 0.986395 | Train F1: 0.981500 | Valid Loss: 0.817849 | Valid Acc: 0.693878 | Valid F1: 0.548111 | LR: 4.24e-05\n"
     ]
    },
    {
     "name": "stderr",
     "output_type": "stream",
     "text": [
      "                                                                                          \r"
     ]
    },
    {
     "name": "stdout",
     "output_type": "stream",
     "text": [
      "Epoch: 35 | Train Loss: 0.068444 | Train Acc: 0.988095 | Train F1: 0.988620 | Valid Loss: 0.849518 | Valid Acc: 0.721088 | Valid F1: 0.557147 | LR: 4.17e-05\n"
     ]
    },
    {
     "name": "stderr",
     "output_type": "stream",
     "text": [
      "                                                                                          \r"
     ]
    },
    {
     "name": "stdout",
     "output_type": "stream",
     "text": [
      "Epoch: 36 | Train Loss: 0.048478 | Train Acc: 0.989796 | Train F1: 0.986381 | Valid Loss: 0.735789 | Valid Acc: 0.707483 | Valid F1: 0.574982 | LR: 4.11e-05\n"
     ]
    },
    {
     "name": "stderr",
     "output_type": "stream",
     "text": [
      "                                                                                          \r"
     ]
    },
    {
     "name": "stdout",
     "output_type": "stream",
     "text": [
      "Epoch: 37 | Train Loss: 0.083763 | Train Acc: 0.979592 | Train F1: 0.981563 | Valid Loss: 0.749416 | Valid Acc: 0.734694 | Valid F1: 0.568759 | LR: 4.04e-05\n"
     ]
    },
    {
     "name": "stderr",
     "output_type": "stream",
     "text": [
      "                                                                                          \r"
     ]
    },
    {
     "name": "stdout",
     "output_type": "stream",
     "text": [
      "Epoch: 38 | Train Loss: 0.030458 | Train Acc: 0.994898 | Train F1: 0.995200 | Valid Loss: 0.804598 | Valid Acc: 0.680272 | Valid F1: 0.545720 | LR: 3.97e-05\n"
     ]
    },
    {
     "name": "stderr",
     "output_type": "stream",
     "text": [
      "                                                                                          \r"
     ]
    },
    {
     "name": "stdout",
     "output_type": "stream",
     "text": [
      "Epoch: 39 | Train Loss: 0.042653 | Train Acc: 0.994898 | Train F1: 0.994743 | Valid Loss: 0.864329 | Valid Acc: 0.673469 | Valid F1: 0.517006 | LR: 3.90e-05\n"
     ]
    },
    {
     "name": "stderr",
     "output_type": "stream",
     "text": [
      "                                                                                          \r"
     ]
    },
    {
     "name": "stdout",
     "output_type": "stream",
     "text": [
      "Epoch: 40 | Train Loss: 0.102837 | Train Acc: 0.981293 | Train F1: 0.982109 | Valid Loss: 0.977017 | Valid Acc: 0.727891 | Valid F1: 0.533443 | LR: 3.82e-05\n"
     ]
    },
    {
     "name": "stderr",
     "output_type": "stream",
     "text": [
      "                                                                                          \r"
     ]
    },
    {
     "name": "stdout",
     "output_type": "stream",
     "text": [
      "Epoch: 41 | Train Loss: 0.059901 | Train Acc: 0.989796 | Train F1: 0.990055 | Valid Loss: 0.806084 | Valid Acc: 0.714286 | Valid F1: 0.570586 | LR: 3.75e-05\n"
     ]
    },
    {
     "name": "stderr",
     "output_type": "stream",
     "text": [
      "                                                                                          \r"
     ]
    },
    {
     "name": "stdout",
     "output_type": "stream",
     "text": [
      "Epoch: 42 | Train Loss: 0.038295 | Train Acc: 0.993197 | Train F1: 0.989153 | Valid Loss: 0.694708 | Valid Acc: 0.727891 | Valid F1: 0.574847 | LR: 3.67e-05\n"
     ]
    },
    {
     "name": "stderr",
     "output_type": "stream",
     "text": [
      "                                                                                          \r"
     ]
    },
    {
     "name": "stdout",
     "output_type": "stream",
     "text": [
      "Epoch: 43 | Train Loss: 0.068632 | Train Acc: 0.986395 | Train F1: 0.988058 | Valid Loss: 0.680703 | Valid Acc: 0.687075 | Valid F1: 0.602481 | LR: 3.60e-05\n"
     ]
    },
    {
     "name": "stderr",
     "output_type": "stream",
     "text": [
      "                                                                                          \r"
     ]
    },
    {
     "name": "stdout",
     "output_type": "stream",
     "text": [
      "Epoch: 44 | Train Loss: 0.047048 | Train Acc: 0.993197 | Train F1: 0.994718 | Valid Loss: 0.680366 | Valid Acc: 0.714286 | Valid F1: 0.639355 | LR: 3.52e-05\n"
     ]
    },
    {
     "name": "stderr",
     "output_type": "stream",
     "text": [
      "                                                                                          \r"
     ]
    },
    {
     "name": "stdout",
     "output_type": "stream",
     "text": [
      "Epoch: 45 | Train Loss: 0.035058 | Train Acc: 0.998299 | Train F1: 0.996139 | Valid Loss: 0.758353 | Valid Acc: 0.687075 | Valid F1: 0.598765 | LR: 3.44e-05\n"
     ]
    },
    {
     "name": "stderr",
     "output_type": "stream",
     "text": [
      "                                                                                          \r"
     ]
    },
    {
     "name": "stdout",
     "output_type": "stream",
     "text": [
      "Epoch: 46 | Train Loss: 0.066509 | Train Acc: 0.988095 | Train F1: 0.990012 | Valid Loss: 0.823561 | Valid Acc: 0.721088 | Valid F1: 0.678622 | LR: 3.36e-05\n"
     ]
    },
    {
     "name": "stderr",
     "output_type": "stream",
     "text": [
      "                                                                                          \r"
     ]
    },
    {
     "name": "stdout",
     "output_type": "stream",
     "text": [
      "Epoch: 47 | Train Loss: 0.035039 | Train Acc: 0.993197 | Train F1: 0.994112 | Valid Loss: 0.825324 | Valid Acc: 0.680272 | Valid F1: 0.527275 | LR: 3.27e-05\n"
     ]
    },
    {
     "name": "stderr",
     "output_type": "stream",
     "text": [
      "                                                                                          \r"
     ]
    },
    {
     "name": "stdout",
     "output_type": "stream",
     "text": [
      "Epoch: 48 | Train Loss: 0.050908 | Train Acc: 0.988095 | Train F1: 0.985522 | Valid Loss: 0.839313 | Valid Acc: 0.653061 | Valid F1: 0.515927 | LR: 3.19e-05\n"
     ]
    },
    {
     "name": "stderr",
     "output_type": "stream",
     "text": [
      "                                                                                          \r"
     ]
    },
    {
     "name": "stdout",
     "output_type": "stream",
     "text": [
      "Epoch: 49 | Train Loss: 0.031927 | Train Acc: 0.993197 | Train F1: 0.994268 | Valid Loss: 1.136221 | Valid Acc: 0.687075 | Valid F1: 0.566321 | LR: 3.10e-05\n"
     ]
    },
    {
     "name": "stderr",
     "output_type": "stream",
     "text": [
      "                                                                                          \r"
     ]
    },
    {
     "name": "stdout",
     "output_type": "stream",
     "text": [
      "Epoch: 50 | Train Loss: 0.069014 | Train Acc: 0.986395 | Train F1: 0.987330 | Valid Loss: 0.972540 | Valid Acc: 0.680272 | Valid F1: 0.561421 | LR: 3.02e-05\n"
     ]
    },
    {
     "name": "stderr",
     "output_type": "stream",
     "text": [
      "                                                                                          \r"
     ]
    },
    {
     "name": "stdout",
     "output_type": "stream",
     "text": [
      "Epoch: 51 | Train Loss: 0.022095 | Train Acc: 0.998299 | Train F1: 0.998496 | Valid Loss: 1.060682 | Valid Acc: 0.680272 | Valid F1: 0.527194 | LR: 2.93e-05\n"
     ]
    },
    {
     "name": "stderr",
     "output_type": "stream",
     "text": [
      "                                                                                          \r"
     ]
    },
    {
     "name": "stdout",
     "output_type": "stream",
     "text": [
      "Epoch: 52 | Train Loss: 0.064471 | Train Acc: 0.993197 | Train F1: 0.994164 | Valid Loss: 0.873013 | Valid Acc: 0.687075 | Valid F1: 0.536846 | LR: 2.85e-05\n"
     ]
    },
    {
     "name": "stderr",
     "output_type": "stream",
     "text": [
      "                                                                                          \r"
     ]
    },
    {
     "name": "stdout",
     "output_type": "stream",
     "text": [
      "Epoch: 53 | Train Loss: 0.038716 | Train Acc: 0.996599 | Train F1: 0.996806 | Valid Loss: 0.812070 | Valid Acc: 0.734694 | Valid F1: 0.579666 | LR: 2.76e-05\n"
     ]
    },
    {
     "name": "stderr",
     "output_type": "stream",
     "text": [
      "                                                                                          \r"
     ]
    },
    {
     "name": "stdout",
     "output_type": "stream",
     "text": [
      "Epoch: 54 | Train Loss: 0.033591 | Train Acc: 0.996599 | Train F1: 0.996881 | Valid Loss: 0.720606 | Valid Acc: 0.714286 | Valid F1: 0.573201 | LR: 2.67e-05\n"
     ]
    },
    {
     "name": "stderr",
     "output_type": "stream",
     "text": [
      "                                                                                          \r"
     ]
    },
    {
     "name": "stdout",
     "output_type": "stream",
     "text": [
      "Epoch: 55 | Train Loss: 0.023510 | Train Acc: 1.000000 | Train F1: 1.000000 | Valid Loss: 0.841535 | Valid Acc: 0.693878 | Valid F1: 0.539216 | LR: 2.59e-05\n"
     ]
    },
    {
     "name": "stderr",
     "output_type": "stream",
     "text": [
      "                                                                                          \r"
     ]
    },
    {
     "name": "stdout",
     "output_type": "stream",
     "text": [
      "Epoch: 56 | Train Loss: 0.050271 | Train Acc: 0.994898 | Train F1: 0.995276 | Valid Loss: 0.879003 | Valid Acc: 0.673469 | Valid F1: 0.535767 | LR: 2.50e-05\n"
     ]
    },
    {
     "name": "stderr",
     "output_type": "stream",
     "text": [
      "                                                                                          \r"
     ]
    },
    {
     "name": "stdout",
     "output_type": "stream",
     "text": [
      "Epoch: 57 | Train Loss: 0.015964 | Train Acc: 1.000000 | Train F1: 1.000000 | Valid Loss: 0.729241 | Valid Acc: 0.734694 | Valid F1: 0.555096 | LR: 2.41e-05\n"
     ]
    },
    {
     "name": "stderr",
     "output_type": "stream",
     "text": [
      "                                                                                          \r"
     ]
    },
    {
     "name": "stdout",
     "output_type": "stream",
     "text": [
      "Epoch: 58 | Train Loss: 0.015553 | Train Acc: 1.000000 | Train F1: 1.000000 | Valid Loss: 0.866421 | Valid Acc: 0.727891 | Valid F1: 0.559168 | LR: 2.33e-05\n"
     ]
    },
    {
     "name": "stderr",
     "output_type": "stream",
     "text": [
      "                                                                                          \r"
     ]
    },
    {
     "name": "stdout",
     "output_type": "stream",
     "text": [
      "Epoch: 59 | Train Loss: 0.011583 | Train Acc: 1.000000 | Train F1: 1.000000 | Valid Loss: 0.943425 | Valid Acc: 0.721088 | Valid F1: 0.555853 | LR: 2.24e-05\n"
     ]
    },
    {
     "name": "stderr",
     "output_type": "stream",
     "text": [
      "                                                                                          \r"
     ]
    },
    {
     "name": "stdout",
     "output_type": "stream",
     "text": [
      "Epoch: 60 | Train Loss: 0.021631 | Train Acc: 0.998299 | Train F1: 0.998319 | Valid Loss: 1.044987 | Valid Acc: 0.707483 | Valid F1: 0.563897 | LR: 2.15e-05\n"
     ]
    },
    {
     "name": "stderr",
     "output_type": "stream",
     "text": [
      "                                                                                          \r"
     ]
    },
    {
     "name": "stdout",
     "output_type": "stream",
     "text": [
      "Epoch: 61 | Train Loss: 0.009629 | Train Acc: 1.000000 | Train F1: 1.000000 | Valid Loss: 0.806789 | Valid Acc: 0.687075 | Valid F1: 0.590660 | LR: 2.07e-05\n"
     ]
    },
    {
     "name": "stderr",
     "output_type": "stream",
     "text": [
      "                                                                                          \r"
     ]
    },
    {
     "name": "stdout",
     "output_type": "stream",
     "text": [
      "Epoch: 62 | Train Loss: 0.015768 | Train Acc: 1.000000 | Train F1: 1.000000 | Valid Loss: 0.850290 | Valid Acc: 0.741497 | Valid F1: 0.571726 | LR: 1.98e-05\n"
     ]
    },
    {
     "name": "stderr",
     "output_type": "stream",
     "text": [
      "                                                                                          \r"
     ]
    },
    {
     "name": "stdout",
     "output_type": "stream",
     "text": [
      "Epoch: 63 | Train Loss: 0.012763 | Train Acc: 1.000000 | Train F1: 1.000000 | Valid Loss: 0.915267 | Valid Acc: 0.734694 | Valid F1: 0.571184 | LR: 1.90e-05\n"
     ]
    },
    {
     "name": "stderr",
     "output_type": "stream",
     "text": [
      "                                                                                          \r"
     ]
    },
    {
     "name": "stdout",
     "output_type": "stream",
     "text": [
      "Epoch: 64 | Train Loss: 0.011922 | Train Acc: 1.000000 | Train F1: 1.000000 | Valid Loss: 0.804168 | Valid Acc: 0.700680 | Valid F1: 0.563719 | LR: 1.81e-05\n"
     ]
    },
    {
     "name": "stderr",
     "output_type": "stream",
     "text": [
      "                                                                                          \r"
     ]
    },
    {
     "name": "stdout",
     "output_type": "stream",
     "text": [
      "Epoch: 65 | Train Loss: 0.006150 | Train Acc: 1.000000 | Train F1: 1.000000 | Valid Loss: 0.787784 | Valid Acc: 0.700680 | Valid F1: 0.542869 | LR: 1.73e-05\n"
     ]
    },
    {
     "name": "stderr",
     "output_type": "stream",
     "text": [
      "                                                                                          \r"
     ]
    },
    {
     "name": "stdout",
     "output_type": "stream",
     "text": [
      "Epoch: 66 | Train Loss: 0.008387 | Train Acc: 1.000000 | Train F1: 1.000000 | Valid Loss: 0.777694 | Valid Acc: 0.714286 | Valid F1: 0.564696 | LR: 1.64e-05\n"
     ]
    },
    {
     "name": "stderr",
     "output_type": "stream",
     "text": [
      "                                                                                          \r"
     ]
    },
    {
     "name": "stdout",
     "output_type": "stream",
     "text": [
      "Epoch: 67 | Train Loss: 0.011751 | Train Acc: 1.000000 | Train F1: 1.000000 | Valid Loss: 0.782799 | Valid Acc: 0.714286 | Valid F1: 0.542510 | LR: 1.56e-05\n"
     ]
    },
    {
     "name": "stderr",
     "output_type": "stream",
     "text": [
      "                                                                                          \r"
     ]
    },
    {
     "name": "stdout",
     "output_type": "stream",
     "text": [
      "Epoch: 68 | Train Loss: 0.008424 | Train Acc: 1.000000 | Train F1: 1.000000 | Valid Loss: 0.805761 | Valid Acc: 0.714286 | Valid F1: 0.570422 | LR: 1.48e-05\n"
     ]
    },
    {
     "name": "stderr",
     "output_type": "stream",
     "text": [
      "                                                                                          \r"
     ]
    },
    {
     "name": "stdout",
     "output_type": "stream",
     "text": [
      "Epoch: 69 | Train Loss: 0.009148 | Train Acc: 1.000000 | Train F1: 1.000000 | Valid Loss: 0.929679 | Valid Acc: 0.707483 | Valid F1: 0.566416 | LR: 1.40e-05\n"
     ]
    },
    {
     "name": "stderr",
     "output_type": "stream",
     "text": [
      "                                                                                          \r"
     ]
    },
    {
     "name": "stdout",
     "output_type": "stream",
     "text": [
      "Epoch: 70 | Train Loss: 0.005507 | Train Acc: 1.000000 | Train F1: 1.000000 | Valid Loss: 0.801448 | Valid Acc: 0.727891 | Valid F1: 0.574123 | LR: 1.33e-05\n"
     ]
    },
    {
     "name": "stderr",
     "output_type": "stream",
     "text": [
      "                                                                                          \r"
     ]
    },
    {
     "name": "stdout",
     "output_type": "stream",
     "text": [
      "Epoch: 71 | Train Loss: 0.009523 | Train Acc: 1.000000 | Train F1: 1.000000 | Valid Loss: 0.861405 | Valid Acc: 0.748299 | Valid F1: 0.589952 | LR: 1.25e-05\n"
     ]
    },
    {
     "name": "stderr",
     "output_type": "stream",
     "text": [
      "                                                                                          \r"
     ]
    },
    {
     "name": "stdout",
     "output_type": "stream",
     "text": [
      "Epoch: 72 | Train Loss: 0.007801 | Train Acc: 1.000000 | Train F1: 1.000000 | Valid Loss: 0.800240 | Valid Acc: 0.721088 | Valid F1: 0.558964 | LR: 1.18e-05\n"
     ]
    },
    {
     "name": "stderr",
     "output_type": "stream",
     "text": [
      "                                                                                          \r"
     ]
    },
    {
     "name": "stdout",
     "output_type": "stream",
     "text": [
      "Epoch: 73 | Train Loss: 0.006039 | Train Acc: 1.000000 | Train F1: 1.000000 | Valid Loss: 0.853627 | Valid Acc: 0.755102 | Valid F1: 0.595006 | LR: 1.10e-05\n"
     ]
    },
    {
     "name": "stderr",
     "output_type": "stream",
     "text": [
      "                                                                                          \r"
     ]
    },
    {
     "name": "stdout",
     "output_type": "stream",
     "text": [
      "Epoch: 74 | Train Loss: 0.017394 | Train Acc: 0.998299 | Train F1: 0.998689 | Valid Loss: 0.983799 | Valid Acc: 0.714286 | Valid F1: 0.559113 | LR: 1.03e-05\n"
     ]
    },
    {
     "name": "stderr",
     "output_type": "stream",
     "text": [
      "                                                                                          \r"
     ]
    },
    {
     "name": "stdout",
     "output_type": "stream",
     "text": [
      "Epoch: 75 | Train Loss: 0.011859 | Train Acc: 1.000000 | Train F1: 1.000000 | Valid Loss: 0.796860 | Valid Acc: 0.727891 | Valid F1: 0.569971 | LR: 9.61e-06\n"
     ]
    },
    {
     "name": "stderr",
     "output_type": "stream",
     "text": [
      "                                                                                          \r"
     ]
    },
    {
     "name": "stdout",
     "output_type": "stream",
     "text": [
      "Epoch: 76 | Train Loss: 0.005021 | Train Acc: 1.000000 | Train F1: 1.000000 | Valid Loss: 0.907362 | Valid Acc: 0.714286 | Valid F1: 0.552310 | LR: 8.93e-06\n"
     ]
    },
    {
     "name": "stderr",
     "output_type": "stream",
     "text": [
      "                                                                                          \r"
     ]
    },
    {
     "name": "stdout",
     "output_type": "stream",
     "text": [
      "Epoch: 77 | Train Loss: 0.012272 | Train Acc: 1.000000 | Train F1: 1.000000 | Valid Loss: 0.908362 | Valid Acc: 0.700680 | Valid F1: 0.545648 | LR: 8.27e-06\n"
     ]
    },
    {
     "name": "stderr",
     "output_type": "stream",
     "text": [
      "                                                                                          \r"
     ]
    },
    {
     "name": "stdout",
     "output_type": "stream",
     "text": [
      "Epoch: 78 | Train Loss: 0.006644 | Train Acc: 1.000000 | Train F1: 1.000000 | Valid Loss: 0.693804 | Valid Acc: 0.721088 | Valid F1: 0.565095 | LR: 7.63e-06\n"
     ]
    },
    {
     "name": "stderr",
     "output_type": "stream",
     "text": [
      "                                                                                          \r"
     ]
    },
    {
     "name": "stdout",
     "output_type": "stream",
     "text": [
      "Epoch: 79 | Train Loss: 0.007309 | Train Acc: 1.000000 | Train F1: 1.000000 | Valid Loss: 0.847737 | Valid Acc: 0.714286 | Valid F1: 0.564655 | LR: 7.02e-06\n"
     ]
    },
    {
     "name": "stderr",
     "output_type": "stream",
     "text": [
      "                                                                                          \r"
     ]
    },
    {
     "name": "stdout",
     "output_type": "stream",
     "text": [
      "Epoch: 80 | Train Loss: 0.025053 | Train Acc: 0.996599 | Train F1: 0.994852 | Valid Loss: 0.913972 | Valid Acc: 0.707483 | Valid F1: 0.565167 | LR: 6.42e-06\n"
     ]
    },
    {
     "name": "stderr",
     "output_type": "stream",
     "text": [
      "                                                                                          \r"
     ]
    },
    {
     "name": "stdout",
     "output_type": "stream",
     "text": [
      "Epoch: 81 | Train Loss: 0.009285 | Train Acc: 1.000000 | Train F1: 1.000000 | Valid Loss: 0.779773 | Valid Acc: 0.721088 | Valid F1: 0.620079 | LR: 5.85e-06\n"
     ]
    },
    {
     "name": "stderr",
     "output_type": "stream",
     "text": [
      "                                                                                          \r"
     ]
    },
    {
     "name": "stdout",
     "output_type": "stream",
     "text": [
      "Epoch: 82 | Train Loss: 0.007352 | Train Acc: 1.000000 | Train F1: 1.000000 | Valid Loss: 0.840901 | Valid Acc: 0.707483 | Valid F1: 0.561330 | LR: 5.30e-06\n"
     ]
    },
    {
     "name": "stderr",
     "output_type": "stream",
     "text": [
      "                                                                                          \r"
     ]
    },
    {
     "name": "stdout",
     "output_type": "stream",
     "text": [
      "Epoch: 83 | Train Loss: 0.012460 | Train Acc: 0.998299 | Train F1: 0.998779 | Valid Loss: 0.883174 | Valid Acc: 0.714286 | Valid F1: 0.577754 | LR: 4.77e-06\n"
     ]
    },
    {
     "name": "stderr",
     "output_type": "stream",
     "text": [
      "                                                                                          \r"
     ]
    },
    {
     "name": "stdout",
     "output_type": "stream",
     "text": [
      "Epoch: 84 | Train Loss: 0.006527 | Train Acc: 1.000000 | Train F1: 1.000000 | Valid Loss: 0.894222 | Valid Acc: 0.714286 | Valid F1: 0.613195 | LR: 4.27e-06\n"
     ]
    },
    {
     "name": "stderr",
     "output_type": "stream",
     "text": [
      "                                                                                          \r"
     ]
    },
    {
     "name": "stdout",
     "output_type": "stream",
     "text": [
      "Epoch: 85 | Train Loss: 0.008975 | Train Acc: 1.000000 | Train F1: 1.000000 | Valid Loss: 0.874081 | Valid Acc: 0.727891 | Valid F1: 0.598560 | LR: 3.80e-06\n"
     ]
    },
    {
     "name": "stderr",
     "output_type": "stream",
     "text": [
      "                                                                                          \r"
     ]
    },
    {
     "name": "stdout",
     "output_type": "stream",
     "text": [
      "Epoch: 86 | Train Loss: 0.006551 | Train Acc: 1.000000 | Train F1: 1.000000 | Valid Loss: 0.869604 | Valid Acc: 0.700680 | Valid F1: 0.548300 | LR: 3.35e-06\n"
     ]
    },
    {
     "name": "stderr",
     "output_type": "stream",
     "text": [
      "                                                                                          \r"
     ]
    },
    {
     "name": "stdout",
     "output_type": "stream",
     "text": [
      "Epoch: 87 | Train Loss: 0.019976 | Train Acc: 0.998299 | Train F1: 0.998713 | Valid Loss: 0.784658 | Valid Acc: 0.700680 | Valid F1: 0.552173 | LR: 2.93e-06\n"
     ]
    },
    {
     "name": "stderr",
     "output_type": "stream",
     "text": [
      "                                                                                          \r"
     ]
    },
    {
     "name": "stdout",
     "output_type": "stream",
     "text": [
      "Epoch: 88 | Train Loss: 0.007902 | Train Acc: 1.000000 | Train F1: 1.000000 | Valid Loss: 0.819132 | Valid Acc: 0.714286 | Valid F1: 0.573403 | LR: 2.53e-06\n"
     ]
    },
    {
     "name": "stderr",
     "output_type": "stream",
     "text": [
      "                                                                                          \r"
     ]
    },
    {
     "name": "stdout",
     "output_type": "stream",
     "text": [
      "Epoch: 89 | Train Loss: 0.006409 | Train Acc: 1.000000 | Train F1: 1.000000 | Valid Loss: 0.868112 | Valid Acc: 0.714286 | Valid F1: 0.564668 | LR: 2.16e-06\n"
     ]
    },
    {
     "name": "stderr",
     "output_type": "stream",
     "text": [
      "                                                                                          \r"
     ]
    },
    {
     "name": "stdout",
     "output_type": "stream",
     "text": [
      "Epoch: 90 | Train Loss: 0.008131 | Train Acc: 1.000000 | Train F1: 1.000000 | Valid Loss: 0.795589 | Valid Acc: 0.693878 | Valid F1: 0.545417 | LR: 1.82e-06\n"
     ]
    },
    {
     "name": "stderr",
     "output_type": "stream",
     "text": [
      "                                                                                          \r"
     ]
    },
    {
     "name": "stdout",
     "output_type": "stream",
     "text": [
      "Epoch: 91 | Train Loss: 0.011307 | Train Acc: 1.000000 | Train F1: 1.000000 | Valid Loss: 0.754377 | Valid Acc: 0.700680 | Valid F1: 0.567255 | LR: 1.51e-06\n"
     ]
    },
    {
     "name": "stderr",
     "output_type": "stream",
     "text": [
      "                                                                                          \r"
     ]
    },
    {
     "name": "stdout",
     "output_type": "stream",
     "text": [
      "Epoch: 92 | Train Loss: 0.004762 | Train Acc: 1.000000 | Train F1: 1.000000 | Valid Loss: 0.821223 | Valid Acc: 0.714286 | Valid F1: 0.565105 | LR: 1.22e-06\n"
     ]
    },
    {
     "name": "stderr",
     "output_type": "stream",
     "text": [
      "                                                                                          \r"
     ]
    },
    {
     "name": "stdout",
     "output_type": "stream",
     "text": [
      "Epoch: 93 | Train Loss: 0.005447 | Train Acc: 1.000000 | Train F1: 1.000000 | Valid Loss: 0.857609 | Valid Acc: 0.714286 | Valid F1: 0.556718 | LR: 9.68e-07\n"
     ]
    },
    {
     "name": "stderr",
     "output_type": "stream",
     "text": [
      "                                                                                          \r"
     ]
    },
    {
     "name": "stdout",
     "output_type": "stream",
     "text": [
      "Epoch: 94 | Train Loss: 0.004749 | Train Acc: 1.000000 | Train F1: 1.000000 | Valid Loss: 0.872014 | Valid Acc: 0.714286 | Valid F1: 0.624335 | LR: 7.43e-07\n"
     ]
    },
    {
     "name": "stderr",
     "output_type": "stream",
     "text": [
      "                                                                                          \r"
     ]
    },
    {
     "name": "stdout",
     "output_type": "stream",
     "text": [
      "Epoch: 95 | Train Loss: 0.005478 | Train Acc: 1.000000 | Train F1: 1.000000 | Valid Loss: 0.781865 | Valid Acc: 0.721088 | Valid F1: 0.634345 | LR: 5.46e-07\n"
     ]
    },
    {
     "name": "stderr",
     "output_type": "stream",
     "text": [
      "                                                                                          \r"
     ]
    },
    {
     "name": "stdout",
     "output_type": "stream",
     "text": [
      "Epoch: 96 | Train Loss: 0.006146 | Train Acc: 1.000000 | Train F1: 1.000000 | Valid Loss: 0.817053 | Valid Acc: 0.693878 | Valid F1: 0.553310 | LR: 3.80e-07\n"
     ]
    },
    {
     "name": "stderr",
     "output_type": "stream",
     "text": [
      "                                                                                          \r"
     ]
    },
    {
     "name": "stdout",
     "output_type": "stream",
     "text": [
      "Epoch: 97 | Train Loss: 0.009835 | Train Acc: 1.000000 | Train F1: 1.000000 | Valid Loss: 0.874944 | Valid Acc: 0.687075 | Valid F1: 0.532881 | LR: 2.43e-07\n"
     ]
    },
    {
     "name": "stderr",
     "output_type": "stream",
     "text": [
      "                                                                                          \r"
     ]
    },
    {
     "name": "stdout",
     "output_type": "stream",
     "text": [
      "Epoch: 98 | Train Loss: 0.012453 | Train Acc: 1.000000 | Train F1: 1.000000 | Valid Loss: 0.852370 | Valid Acc: 0.687075 | Valid F1: 0.546949 | LR: 1.37e-07\n"
     ]
    },
    {
     "name": "stderr",
     "output_type": "stream",
     "text": [
      "                                                                                          \r"
     ]
    },
    {
     "name": "stdout",
     "output_type": "stream",
     "text": [
      "Epoch: 99 | Train Loss: 0.006878 | Train Acc: 1.000000 | Train F1: 1.000000 | Valid Loss: 0.799658 | Valid Acc: 0.707483 | Valid F1: 0.558593 | LR: 6.09e-08\n"
     ]
    },
    {
     "name": "stderr",
     "output_type": "stream",
     "text": [
      "                                                                                          \r"
     ]
    },
    {
     "name": "stdout",
     "output_type": "stream",
     "text": [
      "Epoch: 100 | Train Loss: 0.005428 | Train Acc: 1.000000 | Train F1: 1.000000 | Valid Loss: 0.850681 | Valid Acc: 0.700680 | Valid F1: 0.550611 | LR: 1.52e-08\n"
     ]
    },
    {
     "name": "stderr",
     "output_type": "stream",
     "text": [
      "                                                                                           \r"
     ]
    },
    {
     "name": "stdout",
     "output_type": "stream",
     "text": [
      "Epoch: 101 | Train Loss: 0.006965 | Train Acc: 1.000000 | Train F1: 1.000000 | Valid Loss: 0.782009 | Valid Acc: 0.707483 | Valid F1: 0.561401 | LR: 0.00e+00\n"
     ]
    },
    {
     "name": "stderr",
     "output_type": "stream",
     "text": [
      "                                                                                           \r"
     ]
    },
    {
     "name": "stdout",
     "output_type": "stream",
     "text": [
      "Epoch: 102 | Train Loss: 0.005667 | Train Acc: 1.000000 | Train F1: 1.000000 | Valid Loss: 0.783822 | Valid Acc: 0.714286 | Valid F1: 0.581349 | LR: 2.50e-06\n"
     ]
    },
    {
     "name": "stderr",
     "output_type": "stream",
     "text": [
      "                                                                                           \r"
     ]
    },
    {
     "name": "stdout",
     "output_type": "stream",
     "text": [
      "Epoch: 103 | Train Loss: 0.006386 | Train Acc: 1.000000 | Train F1: 1.000000 | Valid Loss: 0.891632 | Valid Acc: 0.700680 | Valid F1: 0.548717 | LR: 5.00e-06\n"
     ]
    },
    {
     "name": "stderr",
     "output_type": "stream",
     "text": [
      "                                                                                           \r"
     ]
    },
    {
     "name": "stdout",
     "output_type": "stream",
     "text": [
      "Epoch: 104 | Train Loss: 0.006656 | Train Acc: 1.000000 | Train F1: 1.000000 | Valid Loss: 0.873940 | Valid Acc: 0.687075 | Valid F1: 0.539688 | LR: 7.50e-06\n"
     ]
    },
    {
     "name": "stderr",
     "output_type": "stream",
     "text": [
      "                                                                                           \r"
     ]
    },
    {
     "name": "stdout",
     "output_type": "stream",
     "text": [
      "Epoch: 105 | Train Loss: 0.004101 | Train Acc: 1.000000 | Train F1: 1.000000 | Valid Loss: 0.866702 | Valid Acc: 0.721088 | Valid F1: 0.583447 | LR: 1.00e-05\n"
     ]
    },
    {
     "name": "stderr",
     "output_type": "stream",
     "text": [
      "                                                                                           \r"
     ]
    },
    {
     "name": "stdout",
     "output_type": "stream",
     "text": [
      "Epoch: 106 | Train Loss: 0.005004 | Train Acc: 1.000000 | Train F1: 1.000000 | Valid Loss: 0.922284 | Valid Acc: 0.734694 | Valid F1: 0.590423 | LR: 1.25e-05\n"
     ]
    },
    {
     "name": "stderr",
     "output_type": "stream",
     "text": [
      "                                                                                           \r"
     ]
    },
    {
     "name": "stdout",
     "output_type": "stream",
     "text": [
      "Epoch: 107 | Train Loss: 0.004589 | Train Acc: 1.000000 | Train F1: 1.000000 | Valid Loss: 0.785223 | Valid Acc: 0.721088 | Valid F1: 0.563968 | LR: 1.50e-05\n"
     ]
    },
    {
     "name": "stderr",
     "output_type": "stream",
     "text": [
      "                                                                                           \r"
     ]
    },
    {
     "name": "stdout",
     "output_type": "stream",
     "text": [
      "Epoch: 108 | Train Loss: 0.010818 | Train Acc: 0.998299 | Train F1: 0.998713 | Valid Loss: 0.808246 | Valid Acc: 0.714286 | Valid F1: 0.575741 | LR: 1.75e-05\n"
     ]
    },
    {
     "name": "stderr",
     "output_type": "stream",
     "text": [
      "                                                                                           \r"
     ]
    },
    {
     "name": "stdout",
     "output_type": "stream",
     "text": [
      "Epoch: 109 | Train Loss: 0.007148 | Train Acc: 1.000000 | Train F1: 1.000000 | Valid Loss: 0.730987 | Valid Acc: 0.714286 | Valid F1: 0.552592 | LR: 2.00e-05\n"
     ]
    },
    {
     "name": "stderr",
     "output_type": "stream",
     "text": [
      "                                                                                           \r"
     ]
    },
    {
     "name": "stdout",
     "output_type": "stream",
     "text": [
      "Epoch: 110 | Train Loss: 0.013363 | Train Acc: 1.000000 | Train F1: 1.000000 | Valid Loss: 0.681206 | Valid Acc: 0.727891 | Valid F1: 0.577649 | LR: 2.25e-05\n"
     ]
    },
    {
     "name": "stderr",
     "output_type": "stream",
     "text": [
      "                                                                                           \r"
     ]
    },
    {
     "name": "stdout",
     "output_type": "stream",
     "text": [
      "Epoch: 111 | Train Loss: 0.004675 | Train Acc: 1.000000 | Train F1: 1.000000 | Valid Loss: 0.671565 | Valid Acc: 0.775510 | Valid F1: 0.608995 | LR: 2.50e-05\n"
     ]
    },
    {
     "name": "stderr",
     "output_type": "stream",
     "text": [
      "                                                                                           \r"
     ]
    },
    {
     "name": "stdout",
     "output_type": "stream",
     "text": [
      "Epoch: 112 | Train Loss: 0.023297 | Train Acc: 0.998299 | Train F1: 0.998758 | Valid Loss: 0.794484 | Valid Acc: 0.734694 | Valid F1: 0.552974 | LR: 2.50e-05\n"
     ]
    },
    {
     "name": "stderr",
     "output_type": "stream",
     "text": [
      "                                                                                           \r"
     ]
    },
    {
     "name": "stdout",
     "output_type": "stream",
     "text": [
      "Epoch: 113 | Train Loss: 0.019150 | Train Acc: 0.994898 | Train F1: 0.996399 | Valid Loss: 0.821213 | Valid Acc: 0.721088 | Valid F1: 0.568275 | LR: 2.50e-05\n"
     ]
    },
    {
     "name": "stderr",
     "output_type": "stream",
     "text": [
      "                                                                                           \r"
     ]
    },
    {
     "name": "stdout",
     "output_type": "stream",
     "text": [
      "Epoch: 114 | Train Loss: 0.013149 | Train Acc: 1.000000 | Train F1: 1.000000 | Valid Loss: 0.789506 | Valid Acc: 0.727891 | Valid F1: 0.622043 | LR: 2.50e-05\n"
     ]
    },
    {
     "name": "stderr",
     "output_type": "stream",
     "text": [
      "                                                                                           \r"
     ]
    },
    {
     "name": "stdout",
     "output_type": "stream",
     "text": [
      "Epoch: 115 | Train Loss: 0.008217 | Train Acc: 1.000000 | Train F1: 1.000000 | Valid Loss: 0.724985 | Valid Acc: 0.687075 | Valid F1: 0.533870 | LR: 2.50e-05\n"
     ]
    },
    {
     "name": "stderr",
     "output_type": "stream",
     "text": [
      "                                                                                           \r"
     ]
    },
    {
     "name": "stdout",
     "output_type": "stream",
     "text": [
      "Epoch: 116 | Train Loss: 0.014526 | Train Acc: 0.998299 | Train F1: 0.998758 | Valid Loss: 0.800997 | Valid Acc: 0.741497 | Valid F1: 0.584749 | LR: 2.50e-05\n"
     ]
    },
    {
     "name": "stderr",
     "output_type": "stream",
     "text": [
      "                                                                                           \r"
     ]
    },
    {
     "name": "stdout",
     "output_type": "stream",
     "text": [
      "Epoch: 117 | Train Loss: 0.016361 | Train Acc: 0.998299 | Train F1: 0.998779 | Valid Loss: 0.761614 | Valid Acc: 0.734694 | Valid F1: 0.592581 | LR: 2.49e-05\n"
     ]
    },
    {
     "name": "stderr",
     "output_type": "stream",
     "text": [
      "                                                                                           \r"
     ]
    },
    {
     "name": "stdout",
     "output_type": "stream",
     "text": [
      "Epoch: 118 | Train Loss: 0.006062 | Train Acc: 1.000000 | Train F1: 1.000000 | Valid Loss: 0.825664 | Valid Acc: 0.707483 | Valid F1: 0.569855 | LR: 2.49e-05\n"
     ]
    },
    {
     "name": "stderr",
     "output_type": "stream",
     "text": [
      "                                                                                           \r"
     ]
    },
    {
     "name": "stdout",
     "output_type": "stream",
     "text": [
      "Epoch: 119 | Train Loss: 0.016411 | Train Acc: 1.000000 | Train F1: 1.000000 | Valid Loss: 0.947508 | Valid Acc: 0.727891 | Valid F1: 0.576957 | LR: 2.49e-05\n"
     ]
    },
    {
     "name": "stderr",
     "output_type": "stream",
     "text": [
      "                                                                                           \r"
     ]
    },
    {
     "name": "stdout",
     "output_type": "stream",
     "text": [
      "Epoch: 120 | Train Loss: 0.008049 | Train Acc: 1.000000 | Train F1: 1.000000 | Valid Loss: 0.849442 | Valid Acc: 0.707483 | Valid F1: 0.545205 | LR: 2.48e-05\n"
     ]
    },
    {
     "name": "stderr",
     "output_type": "stream",
     "text": [
      "                                                                                           \r"
     ]
    },
    {
     "name": "stdout",
     "output_type": "stream",
     "text": [
      "Epoch: 121 | Train Loss: 0.011040 | Train Acc: 0.998299 | Train F1: 0.998713 | Valid Loss: 0.769005 | Valid Acc: 0.714286 | Valid F1: 0.560407 | LR: 2.48e-05\n"
     ]
    },
    {
     "name": "stderr",
     "output_type": "stream",
     "text": [
      "                                                                                           \r"
     ]
    },
    {
     "name": "stdout",
     "output_type": "stream",
     "text": [
      "Epoch: 122 | Train Loss: 0.009230 | Train Acc: 1.000000 | Train F1: 1.000000 | Valid Loss: 0.801377 | Valid Acc: 0.714286 | Valid F1: 0.559041 | LR: 2.48e-05\n"
     ]
    },
    {
     "name": "stderr",
     "output_type": "stream",
     "text": [
      "                                                                                           \r"
     ]
    },
    {
     "name": "stdout",
     "output_type": "stream",
     "text": [
      "Epoch: 123 | Train Loss: 0.040317 | Train Acc: 0.998299 | Train F1: 0.998713 | Valid Loss: 0.932920 | Valid Acc: 0.707483 | Valid F1: 0.556352 | LR: 2.47e-05\n"
     ]
    },
    {
     "name": "stderr",
     "output_type": "stream",
     "text": [
      "                                                                                           \r"
     ]
    },
    {
     "name": "stdout",
     "output_type": "stream",
     "text": [
      "Epoch: 124 | Train Loss: 0.010464 | Train Acc: 1.000000 | Train F1: 1.000000 | Valid Loss: 0.837760 | Valid Acc: 0.680272 | Valid F1: 0.611034 | LR: 2.47e-05\n"
     ]
    },
    {
     "name": "stderr",
     "output_type": "stream",
     "text": [
      "                                                                                           \r"
     ]
    },
    {
     "name": "stdout",
     "output_type": "stream",
     "text": [
      "Epoch: 125 | Train Loss: 0.026997 | Train Acc: 0.993197 | Train F1: 0.994609 | Valid Loss: 0.718687 | Valid Acc: 0.693878 | Valid F1: 0.565591 | LR: 2.46e-05\n"
     ]
    },
    {
     "name": "stderr",
     "output_type": "stream",
     "text": [
      "                                                                                           \r"
     ]
    },
    {
     "name": "stdout",
     "output_type": "stream",
     "text": [
      "Epoch: 126 | Train Loss: 0.009390 | Train Acc: 1.000000 | Train F1: 1.000000 | Valid Loss: 0.817162 | Valid Acc: 0.734694 | Valid F1: 0.590719 | LR: 2.46e-05\n"
     ]
    },
    {
     "name": "stderr",
     "output_type": "stream",
     "text": [
      "                                                                                           \r"
     ]
    },
    {
     "name": "stdout",
     "output_type": "stream",
     "text": [
      "Epoch: 127 | Train Loss: 0.009324 | Train Acc: 0.998299 | Train F1: 0.998713 | Valid Loss: 0.806786 | Valid Acc: 0.727891 | Valid F1: 0.579912 | LR: 2.45e-05\n"
     ]
    },
    {
     "name": "stderr",
     "output_type": "stream",
     "text": [
      "                                                                                           \r"
     ]
    },
    {
     "name": "stdout",
     "output_type": "stream",
     "text": [
      "Epoch: 128 | Train Loss: 0.015375 | Train Acc: 0.998299 | Train F1: 0.998279 | Valid Loss: 0.821653 | Valid Acc: 0.727891 | Valid F1: 0.568968 | LR: 2.45e-05\n"
     ]
    },
    {
     "name": "stderr",
     "output_type": "stream",
     "text": [
      "                                                                                           \r"
     ]
    },
    {
     "name": "stdout",
     "output_type": "stream",
     "text": [
      "Epoch: 129 | Train Loss: 0.006701 | Train Acc: 1.000000 | Train F1: 1.000000 | Valid Loss: 0.849195 | Valid Acc: 0.700680 | Valid F1: 0.577144 | LR: 2.44e-05\n"
     ]
    },
    {
     "name": "stderr",
     "output_type": "stream",
     "text": [
      "                                                                                           \r"
     ]
    },
    {
     "name": "stdout",
     "output_type": "stream",
     "text": [
      "Epoch: 130 | Train Loss: 0.010244 | Train Acc: 1.000000 | Train F1: 1.000000 | Valid Loss: 1.010587 | Valid Acc: 0.666667 | Valid F1: 0.523518 | LR: 2.43e-05\n"
     ]
    },
    {
     "name": "stderr",
     "output_type": "stream",
     "text": [
      "                                                                                           \r"
     ]
    },
    {
     "name": "stdout",
     "output_type": "stream",
     "text": [
      "Epoch: 131 | Train Loss: 0.009761 | Train Acc: 1.000000 | Train F1: 1.000000 | Valid Loss: 0.875835 | Valid Acc: 0.693878 | Valid F1: 0.553582 | LR: 2.42e-05\n"
     ]
    },
    {
     "name": "stderr",
     "output_type": "stream",
     "text": [
      "                                                                                           \r"
     ]
    },
    {
     "name": "stdout",
     "output_type": "stream",
     "text": [
      "Epoch: 132 | Train Loss: 0.007175 | Train Acc: 1.000000 | Train F1: 1.000000 | Valid Loss: 1.116193 | Valid Acc: 0.721088 | Valid F1: 0.578282 | LR: 2.42e-05\n"
     ]
    },
    {
     "name": "stderr",
     "output_type": "stream",
     "text": [
      "                                                                                           \r"
     ]
    },
    {
     "name": "stdout",
     "output_type": "stream",
     "text": [
      "Epoch: 133 | Train Loss: 0.009099 | Train Acc: 1.000000 | Train F1: 1.000000 | Valid Loss: 0.685430 | Valid Acc: 0.714286 | Valid F1: 0.563765 | LR: 2.41e-05\n"
     ]
    },
    {
     "name": "stderr",
     "output_type": "stream",
     "text": [
      "                                                                                           \r"
     ]
    },
    {
     "name": "stdout",
     "output_type": "stream",
     "text": [
      "Epoch: 134 | Train Loss: 0.006688 | Train Acc: 0.998299 | Train F1: 0.998279 | Valid Loss: 1.042741 | Valid Acc: 0.721088 | Valid F1: 0.579899 | LR: 2.40e-05\n"
     ]
    },
    {
     "name": "stderr",
     "output_type": "stream",
     "text": [
      "                                                                                           \r"
     ]
    },
    {
     "name": "stdout",
     "output_type": "stream",
     "text": [
      "Epoch: 135 | Train Loss: 0.010864 | Train Acc: 0.998299 | Train F1: 0.998279 | Valid Loss: 0.854711 | Valid Acc: 0.734694 | Valid F1: 0.595199 | LR: 2.39e-05\n"
     ]
    },
    {
     "name": "stderr",
     "output_type": "stream",
     "text": [
      "                                                                                           \r"
     ]
    },
    {
     "name": "stdout",
     "output_type": "stream",
     "text": [
      "Epoch: 136 | Train Loss: 0.013971 | Train Acc: 0.998299 | Train F1: 0.998319 | Valid Loss: 0.790050 | Valid Acc: 0.700680 | Valid F1: 0.567840 | LR: 2.38e-05\n"
     ]
    },
    {
     "name": "stderr",
     "output_type": "stream",
     "text": [
      "                                                                                           \r"
     ]
    },
    {
     "name": "stdout",
     "output_type": "stream",
     "text": [
      "Epoch: 137 | Train Loss: 0.008201 | Train Acc: 1.000000 | Train F1: 1.000000 | Valid Loss: 0.695230 | Valid Acc: 0.748299 | Valid F1: 0.592968 | LR: 2.37e-05\n"
     ]
    },
    {
     "name": "stderr",
     "output_type": "stream",
     "text": [
      "                                                                                           \r"
     ]
    },
    {
     "name": "stdout",
     "output_type": "stream",
     "text": [
      "Epoch: 138 | Train Loss: 0.012993 | Train Acc: 0.996599 | Train F1: 0.996719 | Valid Loss: 0.772449 | Valid Acc: 0.782313 | Valid F1: 0.646034 | LR: 2.36e-05\n"
     ]
    },
    {
     "name": "stderr",
     "output_type": "stream",
     "text": [
      "                                                                                           \r"
     ]
    },
    {
     "name": "stdout",
     "output_type": "stream",
     "text": [
      "Epoch: 139 | Train Loss: 0.008579 | Train Acc: 1.000000 | Train F1: 1.000000 | Valid Loss: 0.805981 | Valid Acc: 0.707483 | Valid F1: 0.571498 | LR: 2.35e-05\n"
     ]
    },
    {
     "name": "stderr",
     "output_type": "stream",
     "text": [
      "                                                                                           \r"
     ]
    },
    {
     "name": "stdout",
     "output_type": "stream",
     "text": [
      "Epoch: 140 | Train Loss: 0.019903 | Train Acc: 0.998299 | Train F1: 0.998192 | Valid Loss: 0.733902 | Valid Acc: 0.700680 | Valid F1: 0.574412 | LR: 2.34e-05\n"
     ]
    },
    {
     "name": "stderr",
     "output_type": "stream",
     "text": [
      "                                                                                           \r"
     ]
    },
    {
     "name": "stdout",
     "output_type": "stream",
     "text": [
      "Epoch: 141 | Train Loss: 0.008327 | Train Acc: 1.000000 | Train F1: 1.000000 | Valid Loss: 0.823695 | Valid Acc: 0.673469 | Valid F1: 0.558942 | LR: 2.33e-05\n"
     ]
    },
    {
     "name": "stderr",
     "output_type": "stream",
     "text": [
      "                                                                                           \r"
     ]
    },
    {
     "name": "stdout",
     "output_type": "stream",
     "text": [
      "Epoch: 142 | Train Loss: 0.019871 | Train Acc: 0.993197 | Train F1: 0.991320 | Valid Loss: 0.888444 | Valid Acc: 0.680272 | Valid F1: 0.555527 | LR: 2.32e-05\n"
     ]
    },
    {
     "name": "stderr",
     "output_type": "stream",
     "text": [
      "                                                                                           \r"
     ]
    },
    {
     "name": "stdout",
     "output_type": "stream",
     "text": [
      "Epoch: 143 | Train Loss: 0.005557 | Train Acc: 1.000000 | Train F1: 1.000000 | Valid Loss: 0.938599 | Valid Acc: 0.680272 | Valid F1: 0.606577 | LR: 2.31e-05\n"
     ]
    },
    {
     "name": "stderr",
     "output_type": "stream",
     "text": [
      "                                                                                           \r"
     ]
    },
    {
     "name": "stdout",
     "output_type": "stream",
     "text": [
      "Epoch: 144 | Train Loss: 0.004691 | Train Acc: 1.000000 | Train F1: 1.000000 | Valid Loss: 1.167609 | Valid Acc: 0.653061 | Valid F1: 0.544845 | LR: 2.30e-05\n"
     ]
    },
    {
     "name": "stderr",
     "output_type": "stream",
     "text": [
      "                                                                                           \r"
     ]
    },
    {
     "name": "stdout",
     "output_type": "stream",
     "text": [
      "Epoch: 145 | Train Loss: 0.013099 | Train Acc: 1.000000 | Train F1: 1.000000 | Valid Loss: 1.115869 | Valid Acc: 0.687075 | Valid F1: 0.558222 | LR: 2.29e-05\n"
     ]
    },
    {
     "name": "stderr",
     "output_type": "stream",
     "text": [
      "                                                                                           \r"
     ]
    },
    {
     "name": "stdout",
     "output_type": "stream",
     "text": [
      "Epoch: 146 | Train Loss: 0.008169 | Train Acc: 1.000000 | Train F1: 1.000000 | Valid Loss: 0.931600 | Valid Acc: 0.680272 | Valid F1: 0.593910 | LR: 2.27e-05\n"
     ]
    },
    {
     "name": "stderr",
     "output_type": "stream",
     "text": [
      "                                                                                           \r"
     ]
    },
    {
     "name": "stdout",
     "output_type": "stream",
     "text": [
      "Epoch: 147 | Train Loss: 0.011230 | Train Acc: 0.998299 | Train F1: 0.998496 | Valid Loss: 0.873141 | Valid Acc: 0.727891 | Valid F1: 0.632091 | LR: 2.26e-05\n"
     ]
    },
    {
     "name": "stderr",
     "output_type": "stream",
     "text": [
      "                                                                                           \r"
     ]
    },
    {
     "name": "stdout",
     "output_type": "stream",
     "text": [
      "Epoch: 148 | Train Loss: 0.006481 | Train Acc: 1.000000 | Train F1: 1.000000 | Valid Loss: 0.896253 | Valid Acc: 0.707483 | Valid F1: 0.555627 | LR: 2.25e-05\n"
     ]
    },
    {
     "name": "stderr",
     "output_type": "stream",
     "text": [
      "                                                                                           \r"
     ]
    },
    {
     "name": "stdout",
     "output_type": "stream",
     "text": [
      "Epoch: 149 | Train Loss: 0.024071 | Train Acc: 0.993197 | Train F1: 0.991182 | Valid Loss: 0.952617 | Valid Acc: 0.693878 | Valid F1: 0.562673 | LR: 2.24e-05\n"
     ]
    },
    {
     "name": "stderr",
     "output_type": "stream",
     "text": [
      "                                                                                           \r"
     ]
    },
    {
     "name": "stdout",
     "output_type": "stream",
     "text": [
      "Epoch: 150 | Train Loss: 0.012449 | Train Acc: 1.000000 | Train F1: 1.000000 | Valid Loss: 0.837367 | Valid Acc: 0.673469 | Valid F1: 0.537633 | LR: 2.22e-05\n"
     ]
    },
    {
     "name": "stderr",
     "output_type": "stream",
     "text": [
      "                                                                                           \r"
     ]
    },
    {
     "name": "stdout",
     "output_type": "stream",
     "text": [
      "Epoch: 151 | Train Loss: 0.023613 | Train Acc: 0.994898 | Train F1: 0.993056 | Valid Loss: 0.924632 | Valid Acc: 0.673469 | Valid F1: 0.533776 | LR: 2.21e-05\n"
     ]
    },
    {
     "name": "stderr",
     "output_type": "stream",
     "text": [
      "                                                                                           \r"
     ]
    },
    {
     "name": "stdout",
     "output_type": "stream",
     "text": [
      "Epoch: 152 | Train Loss: 0.024545 | Train Acc: 0.993197 | Train F1: 0.993728 | Valid Loss: 0.609687 | Valid Acc: 0.734694 | Valid F1: 0.554355 | LR: 2.19e-05\n"
     ]
    },
    {
     "name": "stderr",
     "output_type": "stream",
     "text": [
      "                                                                                           \r"
     ]
    },
    {
     "name": "stdout",
     "output_type": "stream",
     "text": [
      "Epoch: 153 | Train Loss: 0.024764 | Train Acc: 0.993197 | Train F1: 0.993384 | Valid Loss: 0.941324 | Valid Acc: 0.687075 | Valid F1: 0.541473 | LR: 2.18e-05\n"
     ]
    },
    {
     "name": "stderr",
     "output_type": "stream",
     "text": [
      "                                                                                           \r"
     ]
    },
    {
     "name": "stdout",
     "output_type": "stream",
     "text": [
      "Epoch: 154 | Train Loss: 0.011539 | Train Acc: 0.994898 | Train F1: 0.995038 | Valid Loss: 0.866432 | Valid Acc: 0.693878 | Valid F1: 0.564009 | LR: 2.16e-05\n"
     ]
    },
    {
     "name": "stderr",
     "output_type": "stream",
     "text": [
      "                                                                                           \r"
     ]
    },
    {
     "name": "stdout",
     "output_type": "stream",
     "text": [
      "Epoch: 155 | Train Loss: 0.007490 | Train Acc: 1.000000 | Train F1: 1.000000 | Valid Loss: 0.815905 | Valid Acc: 0.693878 | Valid F1: 0.546646 | LR: 2.15e-05\n"
     ]
    },
    {
     "name": "stderr",
     "output_type": "stream",
     "text": [
      "                                                                                           \r"
     ]
    },
    {
     "name": "stdout",
     "output_type": "stream",
     "text": [
      "Epoch: 156 | Train Loss: 0.005825 | Train Acc: 1.000000 | Train F1: 1.000000 | Valid Loss: 0.923987 | Valid Acc: 0.666667 | Valid F1: 0.527894 | LR: 2.13e-05\n"
     ]
    },
    {
     "name": "stderr",
     "output_type": "stream",
     "text": [
      "                                                                                           \r"
     ]
    },
    {
     "name": "stdout",
     "output_type": "stream",
     "text": [
      "Epoch: 157 | Train Loss: 0.016509 | Train Acc: 0.998299 | Train F1: 0.998779 | Valid Loss: 0.851178 | Valid Acc: 0.680272 | Valid F1: 0.550555 | LR: 2.12e-05\n"
     ]
    },
    {
     "name": "stderr",
     "output_type": "stream",
     "text": [
      "                                                                                           \r"
     ]
    },
    {
     "name": "stdout",
     "output_type": "stream",
     "text": [
      "Epoch: 158 | Train Loss: 0.004422 | Train Acc: 1.000000 | Train F1: 1.000000 | Valid Loss: 0.905955 | Valid Acc: 0.693878 | Valid F1: 0.578526 | LR: 2.10e-05\n"
     ]
    },
    {
     "name": "stderr",
     "output_type": "stream",
     "text": [
      "                                                                                           \r"
     ]
    },
    {
     "name": "stdout",
     "output_type": "stream",
     "text": [
      "Epoch: 159 | Train Loss: 0.012391 | Train Acc: 0.998299 | Train F1: 0.998689 | Valid Loss: 0.871663 | Valid Acc: 0.721088 | Valid F1: 0.665389 | LR: 2.09e-05\n"
     ]
    },
    {
     "name": "stderr",
     "output_type": "stream",
     "text": [
      "                                                                                           \r"
     ]
    },
    {
     "name": "stdout",
     "output_type": "stream",
     "text": [
      "Epoch: 160 | Train Loss: 0.007940 | Train Acc: 1.000000 | Train F1: 1.000000 | Valid Loss: 0.838857 | Valid Acc: 0.748299 | Valid F1: 0.686389 | LR: 2.07e-05\n",
      "Epoch 159: New best F1-score 0.6864 in fold 1, model saved.\n"
     ]
    },
    {
     "name": "stderr",
     "output_type": "stream",
     "text": [
      "                                                                                           \r"
     ]
    },
    {
     "name": "stdout",
     "output_type": "stream",
     "text": [
      "Epoch: 161 | Train Loss: 0.012102 | Train Acc: 0.998299 | Train F1: 0.998758 | Valid Loss: 0.914159 | Valid Acc: 0.700680 | Valid F1: 0.641812 | LR: 2.05e-05\n"
     ]
    },
    {
     "name": "stderr",
     "output_type": "stream",
     "text": [
      "                                                                                           \r"
     ]
    },
    {
     "name": "stdout",
     "output_type": "stream",
     "text": [
      "Epoch: 162 | Train Loss: 0.003837 | Train Acc: 1.000000 | Train F1: 1.000000 | Valid Loss: 1.051847 | Valid Acc: 0.673469 | Valid F1: 0.602602 | LR: 2.04e-05\n"
     ]
    },
    {
     "name": "stderr",
     "output_type": "stream",
     "text": [
      "                                                                                           \r"
     ]
    },
    {
     "name": "stdout",
     "output_type": "stream",
     "text": [
      "Epoch: 163 | Train Loss: 0.008049 | Train Acc: 0.998299 | Train F1: 0.996337 | Valid Loss: 0.924516 | Valid Acc: 0.666667 | Valid F1: 0.613686 | LR: 2.02e-05\n"
     ]
    },
    {
     "name": "stderr",
     "output_type": "stream",
     "text": [
      "                                                                                           \r"
     ]
    },
    {
     "name": "stdout",
     "output_type": "stream",
     "text": [
      "Epoch: 164 | Train Loss: 0.009998 | Train Acc: 1.000000 | Train F1: 1.000000 | Valid Loss: 0.890900 | Valid Acc: 0.693878 | Valid F1: 0.635089 | LR: 2.00e-05\n"
     ]
    },
    {
     "name": "stderr",
     "output_type": "stream",
     "text": [
      "                                                                                           \r"
     ]
    },
    {
     "name": "stdout",
     "output_type": "stream",
     "text": [
      "Epoch: 165 | Train Loss: 0.005930 | Train Acc: 1.000000 | Train F1: 1.000000 | Valid Loss: 0.980885 | Valid Acc: 0.687075 | Valid F1: 0.611948 | LR: 1.98e-05\n"
     ]
    },
    {
     "name": "stderr",
     "output_type": "stream",
     "text": [
      "                                                                                           \r"
     ]
    },
    {
     "name": "stdout",
     "output_type": "stream",
     "text": [
      "Epoch: 166 | Train Loss: 0.009198 | Train Acc: 1.000000 | Train F1: 1.000000 | Valid Loss: 1.140462 | Valid Acc: 0.680272 | Valid F1: 0.622456 | LR: 1.97e-05\n"
     ]
    },
    {
     "name": "stderr",
     "output_type": "stream",
     "text": [
      "                                                                                           \r"
     ]
    },
    {
     "name": "stdout",
     "output_type": "stream",
     "text": [
      "Epoch: 167 | Train Loss: 0.008963 | Train Acc: 0.998299 | Train F1: 0.996337 | Valid Loss: 1.133442 | Valid Acc: 0.666667 | Valid F1: 0.559458 | LR: 1.95e-05\n"
     ]
    },
    {
     "name": "stderr",
     "output_type": "stream",
     "text": [
      "                                                                                           \r"
     ]
    },
    {
     "name": "stdout",
     "output_type": "stream",
     "text": [
      "Epoch: 168 | Train Loss: 0.004227 | Train Acc: 1.000000 | Train F1: 1.000000 | Valid Loss: 1.048680 | Valid Acc: 0.714286 | Valid F1: 0.648568 | LR: 1.93e-05\n"
     ]
    },
    {
     "name": "stderr",
     "output_type": "stream",
     "text": [
      "                                                                                           \r"
     ]
    },
    {
     "name": "stdout",
     "output_type": "stream",
     "text": [
      "Epoch: 169 | Train Loss: 0.004390 | Train Acc: 1.000000 | Train F1: 1.000000 | Valid Loss: 0.930660 | Valid Acc: 0.707483 | Valid F1: 0.591125 | LR: 1.91e-05\n"
     ]
    },
    {
     "name": "stderr",
     "output_type": "stream",
     "text": [
      "                                                                                           \r"
     ]
    },
    {
     "name": "stdout",
     "output_type": "stream",
     "text": [
      "Epoch: 170 | Train Loss: 0.004592 | Train Acc: 1.000000 | Train F1: 1.000000 | Valid Loss: 0.960324 | Valid Acc: 0.727891 | Valid F1: 0.639475 | LR: 1.89e-05\n"
     ]
    },
    {
     "name": "stderr",
     "output_type": "stream",
     "text": [
      "                                                                                           \r"
     ]
    },
    {
     "name": "stdout",
     "output_type": "stream",
     "text": [
      "Epoch: 171 | Train Loss: 0.003135 | Train Acc: 1.000000 | Train F1: 1.000000 | Valid Loss: 0.796054 | Valid Acc: 0.727891 | Valid F1: 0.659137 | LR: 1.88e-05\n"
     ]
    },
    {
     "name": "stderr",
     "output_type": "stream",
     "text": [
      "                                                                                           \r"
     ]
    },
    {
     "name": "stdout",
     "output_type": "stream",
     "text": [
      "Epoch: 172 | Train Loss: 0.003911 | Train Acc: 1.000000 | Train F1: 1.000000 | Valid Loss: 0.951247 | Valid Acc: 0.734694 | Valid F1: 0.652398 | LR: 1.86e-05\n"
     ]
    },
    {
     "name": "stderr",
     "output_type": "stream",
     "text": [
      "                                                                                           \r"
     ]
    },
    {
     "name": "stdout",
     "output_type": "stream",
     "text": [
      "Epoch: 173 | Train Loss: 0.004218 | Train Acc: 1.000000 | Train F1: 1.000000 | Valid Loss: 0.933836 | Valid Acc: 0.721088 | Valid F1: 0.634901 | LR: 1.84e-05\n"
     ]
    },
    {
     "name": "stderr",
     "output_type": "stream",
     "text": [
      "                                                                                           \r"
     ]
    },
    {
     "name": "stdout",
     "output_type": "stream",
     "text": [
      "Epoch: 174 | Train Loss: 0.002784 | Train Acc: 1.000000 | Train F1: 1.000000 | Valid Loss: 0.872130 | Valid Acc: 0.693878 | Valid F1: 0.607856 | LR: 1.82e-05\n"
     ]
    },
    {
     "name": "stderr",
     "output_type": "stream",
     "text": [
      "                                                                                           \r"
     ]
    },
    {
     "name": "stdout",
     "output_type": "stream",
     "text": [
      "Epoch: 175 | Train Loss: 0.003096 | Train Acc: 1.000000 | Train F1: 1.000000 | Valid Loss: 0.810055 | Valid Acc: 0.721088 | Valid F1: 0.645804 | LR: 1.80e-05\n"
     ]
    },
    {
     "name": "stderr",
     "output_type": "stream",
     "text": [
      "                                                                                           \r"
     ]
    },
    {
     "name": "stdout",
     "output_type": "stream",
     "text": [
      "Epoch: 176 | Train Loss: 0.002088 | Train Acc: 1.000000 | Train F1: 1.000000 | Valid Loss: 0.840862 | Valid Acc: 0.727891 | Valid F1: 0.651474 | LR: 1.78e-05\n"
     ]
    },
    {
     "name": "stderr",
     "output_type": "stream",
     "text": [
      "                                                                                           \r"
     ]
    },
    {
     "name": "stdout",
     "output_type": "stream",
     "text": [
      "Epoch: 177 | Train Loss: 0.002199 | Train Acc: 1.000000 | Train F1: 1.000000 | Valid Loss: 0.909333 | Valid Acc: 0.714286 | Valid F1: 0.578295 | LR: 1.76e-05\n"
     ]
    },
    {
     "name": "stderr",
     "output_type": "stream",
     "text": [
      "                                                                                           \r"
     ]
    },
    {
     "name": "stdout",
     "output_type": "stream",
     "text": [
      "Epoch: 178 | Train Loss: 0.013223 | Train Acc: 0.998299 | Train F1: 0.998713 | Valid Loss: 0.889792 | Valid Acc: 0.721088 | Valid F1: 0.630701 | LR: 1.74e-05\n"
     ]
    },
    {
     "name": "stderr",
     "output_type": "stream",
     "text": [
      "                                                                                           \r"
     ]
    },
    {
     "name": "stdout",
     "output_type": "stream",
     "text": [
      "Epoch: 179 | Train Loss: 0.002548 | Train Acc: 1.000000 | Train F1: 1.000000 | Valid Loss: 0.744727 | Valid Acc: 0.714286 | Valid F1: 0.623611 | LR: 1.72e-05\n"
     ]
    },
    {
     "name": "stderr",
     "output_type": "stream",
     "text": [
      "                                                                                           \r"
     ]
    },
    {
     "name": "stdout",
     "output_type": "stream",
     "text": [
      "Epoch: 180 | Train Loss: 0.004526 | Train Acc: 1.000000 | Train F1: 1.000000 | Valid Loss: 0.937195 | Valid Acc: 0.714286 | Valid F1: 0.632950 | LR: 1.70e-05\n"
     ]
    },
    {
     "name": "stderr",
     "output_type": "stream",
     "text": [
      "                                                                                           \r"
     ]
    },
    {
     "name": "stdout",
     "output_type": "stream",
     "text": [
      "Epoch: 181 | Train Loss: 0.009639 | Train Acc: 0.998299 | Train F1: 0.998145 | Valid Loss: 0.882424 | Valid Acc: 0.707483 | Valid F1: 0.619724 | LR: 1.68e-05\n"
     ]
    },
    {
     "name": "stderr",
     "output_type": "stream",
     "text": [
      "                                                                                           \r"
     ]
    },
    {
     "name": "stdout",
     "output_type": "stream",
     "text": [
      "Epoch: 182 | Train Loss: 0.006826 | Train Acc: 1.000000 | Train F1: 1.000000 | Valid Loss: 0.781845 | Valid Acc: 0.693878 | Valid F1: 0.613396 | LR: 1.66e-05\n"
     ]
    },
    {
     "name": "stderr",
     "output_type": "stream",
     "text": [
      "                                                                                           \r"
     ]
    },
    {
     "name": "stdout",
     "output_type": "stream",
     "text": [
      "Epoch: 183 | Train Loss: 0.006364 | Train Acc: 1.000000 | Train F1: 1.000000 | Valid Loss: 0.823374 | Valid Acc: 0.721088 | Valid F1: 0.637498 | LR: 1.64e-05\n"
     ]
    },
    {
     "name": "stderr",
     "output_type": "stream",
     "text": [
      "                                                                                           \r"
     ]
    },
    {
     "name": "stdout",
     "output_type": "stream",
     "text": [
      "Epoch: 184 | Train Loss: 0.002622 | Train Acc: 1.000000 | Train F1: 1.000000 | Valid Loss: 0.897836 | Valid Acc: 0.721088 | Valid F1: 0.632474 | LR: 1.62e-05\n"
     ]
    },
    {
     "name": "stderr",
     "output_type": "stream",
     "text": [
      "                                                                                           \r"
     ]
    },
    {
     "name": "stdout",
     "output_type": "stream",
     "text": [
      "Epoch: 185 | Train Loss: 0.004027 | Train Acc: 1.000000 | Train F1: 1.000000 | Valid Loss: 0.967220 | Valid Acc: 0.721088 | Valid F1: 0.637506 | LR: 1.59e-05\n"
     ]
    },
    {
     "name": "stderr",
     "output_type": "stream",
     "text": [
      "                                                                                           \r"
     ]
    },
    {
     "name": "stdout",
     "output_type": "stream",
     "text": [
      "Epoch: 186 | Train Loss: 0.002232 | Train Acc: 1.000000 | Train F1: 1.000000 | Valid Loss: 0.946385 | Valid Acc: 0.714286 | Valid F1: 0.628241 | LR: 1.57e-05\n"
     ]
    },
    {
     "name": "stderr",
     "output_type": "stream",
     "text": [
      "                                                                                           \r"
     ]
    },
    {
     "name": "stdout",
     "output_type": "stream",
     "text": [
      "Epoch: 187 | Train Loss: 0.002384 | Train Acc: 1.000000 | Train F1: 1.000000 | Valid Loss: 0.954246 | Valid Acc: 0.700680 | Valid F1: 0.616414 | LR: 1.55e-05\n"
     ]
    },
    {
     "name": "stderr",
     "output_type": "stream",
     "text": [
      "                                                                                           \r"
     ]
    },
    {
     "name": "stdout",
     "output_type": "stream",
     "text": [
      "Epoch: 188 | Train Loss: 0.002326 | Train Acc: 1.000000 | Train F1: 1.000000 | Valid Loss: 0.971627 | Valid Acc: 0.707483 | Valid F1: 0.584354 | LR: 1.53e-05\n"
     ]
    },
    {
     "name": "stderr",
     "output_type": "stream",
     "text": [
      "                                                                                           \r"
     ]
    },
    {
     "name": "stdout",
     "output_type": "stream",
     "text": [
      "Epoch: 189 | Train Loss: 0.004799 | Train Acc: 1.000000 | Train F1: 1.000000 | Valid Loss: 0.848967 | Valid Acc: 0.741497 | Valid F1: 0.602610 | LR: 1.51e-05\n"
     ]
    },
    {
     "name": "stderr",
     "output_type": "stream",
     "text": [
      "                                                                                           \r"
     ]
    },
    {
     "name": "stdout",
     "output_type": "stream",
     "text": [
      "Epoch: 190 | Train Loss: 0.002155 | Train Acc: 1.000000 | Train F1: 1.000000 | Valid Loss: 0.980847 | Valid Acc: 0.727891 | Valid F1: 0.584290 | LR: 1.49e-05\n"
     ]
    },
    {
     "name": "stderr",
     "output_type": "stream",
     "text": [
      "                                                                                           \r"
     ]
    },
    {
     "name": "stdout",
     "output_type": "stream",
     "text": [
      "Epoch: 191 | Train Loss: 0.007683 | Train Acc: 1.000000 | Train F1: 1.000000 | Valid Loss: 0.718839 | Valid Acc: 0.727891 | Valid F1: 0.596807 | LR: 1.47e-05\n"
     ]
    },
    {
     "name": "stderr",
     "output_type": "stream",
     "text": [
      "                                                                                           \r"
     ]
    },
    {
     "name": "stdout",
     "output_type": "stream",
     "text": [
      "Epoch: 192 | Train Loss: 0.002377 | Train Acc: 1.000000 | Train F1: 1.000000 | Valid Loss: 0.849244 | Valid Acc: 0.714286 | Valid F1: 0.588618 | LR: 1.45e-05\n"
     ]
    },
    {
     "name": "stderr",
     "output_type": "stream",
     "text": [
      "                                                                                           \r"
     ]
    },
    {
     "name": "stdout",
     "output_type": "stream",
     "text": [
      "Epoch: 193 | Train Loss: 0.002559 | Train Acc: 1.000000 | Train F1: 1.000000 | Valid Loss: 0.994113 | Valid Acc: 0.734694 | Valid F1: 0.597935 | LR: 1.42e-05\n"
     ]
    },
    {
     "name": "stderr",
     "output_type": "stream",
     "text": [
      "                                                                                           \r"
     ]
    },
    {
     "name": "stdout",
     "output_type": "stream",
     "text": [
      "Epoch: 194 | Train Loss: 0.002897 | Train Acc: 1.000000 | Train F1: 1.000000 | Valid Loss: 0.923260 | Valid Acc: 0.714286 | Valid F1: 0.582090 | LR: 1.40e-05\n"
     ]
    },
    {
     "name": "stderr",
     "output_type": "stream",
     "text": [
      "                                                                                           \r"
     ]
    },
    {
     "name": "stdout",
     "output_type": "stream",
     "text": [
      "Epoch: 195 | Train Loss: 0.002101 | Train Acc: 1.000000 | Train F1: 1.000000 | Valid Loss: 0.904718 | Valid Acc: 0.687075 | Valid F1: 0.573183 | LR: 1.38e-05\n"
     ]
    },
    {
     "name": "stderr",
     "output_type": "stream",
     "text": [
      "                                                                                           \r"
     ]
    },
    {
     "name": "stdout",
     "output_type": "stream",
     "text": [
      "Epoch: 196 | Train Loss: 0.002170 | Train Acc: 1.000000 | Train F1: 1.000000 | Valid Loss: 0.779361 | Valid Acc: 0.721088 | Valid F1: 0.639910 | LR: 1.36e-05\n"
     ]
    },
    {
     "name": "stderr",
     "output_type": "stream",
     "text": [
      "                                                                                           \r"
     ]
    },
    {
     "name": "stdout",
     "output_type": "stream",
     "text": [
      "Epoch: 197 | Train Loss: 0.012564 | Train Acc: 0.998299 | Train F1: 0.996139 | Valid Loss: 0.908739 | Valid Acc: 0.707483 | Valid F1: 0.625684 | LR: 1.34e-05\n"
     ]
    },
    {
     "name": "stderr",
     "output_type": "stream",
     "text": [
      "                                                                                           \r"
     ]
    },
    {
     "name": "stdout",
     "output_type": "stream",
     "text": [
      "Epoch: 198 | Train Loss: 0.002364 | Train Acc: 1.000000 | Train F1: 1.000000 | Valid Loss: 1.066923 | Valid Acc: 0.721088 | Valid F1: 0.628871 | LR: 1.32e-05\n"
     ]
    },
    {
     "name": "stderr",
     "output_type": "stream",
     "text": [
      "                                                                                           \r"
     ]
    },
    {
     "name": "stdout",
     "output_type": "stream",
     "text": [
      "Epoch: 199 | Train Loss: 0.002844 | Train Acc: 1.000000 | Train F1: 1.000000 | Valid Loss: 0.974516 | Valid Acc: 0.721088 | Valid F1: 0.630688 | LR: 1.29e-05\n"
     ]
    },
    {
     "name": "stderr",
     "output_type": "stream",
     "text": [
      "                                                                                           \r"
     ]
    },
    {
     "name": "stdout",
     "output_type": "stream",
     "text": [
      "Epoch: 200 | Train Loss: 0.003272 | Train Acc: 1.000000 | Train F1: 1.000000 | Valid Loss: 0.976721 | Valid Acc: 0.714286 | Valid F1: 0.630114 | LR: 1.27e-05\n"
     ]
    },
    {
     "name": "stderr",
     "output_type": "stream",
     "text": [
      "                                                                                           \r"
     ]
    },
    {
     "name": "stdout",
     "output_type": "stream",
     "text": [
      "Epoch: 201 | Train Loss: 0.005500 | Train Acc: 1.000000 | Train F1: 1.000000 | Valid Loss: 0.857486 | Valid Acc: 0.707483 | Valid F1: 0.624256 | LR: 1.25e-05\n"
     ]
    },
    {
     "name": "stderr",
     "output_type": "stream",
     "text": [
      "                                                                                           \r"
     ]
    },
    {
     "name": "stdout",
     "output_type": "stream",
     "text": [
      "Epoch: 202 | Train Loss: 0.004376 | Train Acc: 1.000000 | Train F1: 1.000000 | Valid Loss: 0.959066 | Valid Acc: 0.707483 | Valid F1: 0.626918 | LR: 1.23e-05\n"
     ]
    },
    {
     "name": "stderr",
     "output_type": "stream",
     "text": [
      "                                                                                           \r"
     ]
    },
    {
     "name": "stdout",
     "output_type": "stream",
     "text": [
      "Epoch: 203 | Train Loss: 0.001879 | Train Acc: 1.000000 | Train F1: 1.000000 | Valid Loss: 0.740058 | Valid Acc: 0.721088 | Valid F1: 0.639633 | LR: 1.21e-05\n"
     ]
    },
    {
     "name": "stderr",
     "output_type": "stream",
     "text": [
      "                                                                                           \r"
     ]
    },
    {
     "name": "stdout",
     "output_type": "stream",
     "text": [
      "Epoch: 204 | Train Loss: 0.002489 | Train Acc: 1.000000 | Train F1: 1.000000 | Valid Loss: 0.882210 | Valid Acc: 0.714286 | Valid F1: 0.580610 | LR: 1.18e-05\n"
     ]
    },
    {
     "name": "stderr",
     "output_type": "stream",
     "text": [
      "                                                                                           \r"
     ]
    },
    {
     "name": "stdout",
     "output_type": "stream",
     "text": [
      "Epoch: 205 | Train Loss: 0.002586 | Train Acc: 1.000000 | Train F1: 1.000000 | Valid Loss: 0.762869 | Valid Acc: 0.714286 | Valid F1: 0.579842 | LR: 1.16e-05\n"
     ]
    },
    {
     "name": "stderr",
     "output_type": "stream",
     "text": [
      "                                                                                           \r"
     ]
    },
    {
     "name": "stdout",
     "output_type": "stream",
     "text": [
      "Epoch: 206 | Train Loss: 0.002063 | Train Acc: 1.000000 | Train F1: 1.000000 | Valid Loss: 1.042564 | Valid Acc: 0.700680 | Valid F1: 0.574412 | LR: 1.14e-05\n"
     ]
    },
    {
     "name": "stderr",
     "output_type": "stream",
     "text": [
      "                                                                                           \r"
     ]
    },
    {
     "name": "stdout",
     "output_type": "stream",
     "text": [
      "Epoch: 207 | Train Loss: 0.001689 | Train Acc: 1.000000 | Train F1: 1.000000 | Valid Loss: 0.911877 | Valid Acc: 0.714286 | Valid F1: 0.583088 | LR: 1.12e-05\n"
     ]
    },
    {
     "name": "stderr",
     "output_type": "stream",
     "text": [
      "                                                                                           \r"
     ]
    },
    {
     "name": "stdout",
     "output_type": "stream",
     "text": [
      "Epoch: 208 | Train Loss: 0.001779 | Train Acc: 1.000000 | Train F1: 1.000000 | Valid Loss: 0.764893 | Valid Acc: 0.714286 | Valid F1: 0.577340 | LR: 1.10e-05\n"
     ]
    },
    {
     "name": "stderr",
     "output_type": "stream",
     "text": [
      "                                                                                           \r"
     ]
    },
    {
     "name": "stdout",
     "output_type": "stream",
     "text": [
      "Epoch: 209 | Train Loss: 0.002180 | Train Acc: 1.000000 | Train F1: 1.000000 | Valid Loss: 0.750857 | Valid Acc: 0.741497 | Valid F1: 0.602883 | LR: 1.08e-05\n"
     ]
    },
    {
     "name": "stderr",
     "output_type": "stream",
     "text": [
      "                                                                                           \r"
     ]
    },
    {
     "name": "stdout",
     "output_type": "stream",
     "text": [
      "Epoch: 210 | Train Loss: 0.002862 | Train Acc: 1.000000 | Train F1: 1.000000 | Valid Loss: 0.847878 | Valid Acc: 0.741497 | Valid F1: 0.666256 | LR: 1.05e-05\n"
     ]
    },
    {
     "name": "stderr",
     "output_type": "stream",
     "text": [
      "                                                                                           \r"
     ]
    },
    {
     "name": "stdout",
     "output_type": "stream",
     "text": [
      "Epoch: 211 | Train Loss: 0.001914 | Train Acc: 1.000000 | Train F1: 1.000000 | Valid Loss: 0.857040 | Valid Acc: 0.748299 | Valid F1: 0.603486 | LR: 1.03e-05\n"
     ]
    },
    {
     "name": "stderr",
     "output_type": "stream",
     "text": [
      "                                                                                           \r"
     ]
    },
    {
     "name": "stdout",
     "output_type": "stream",
     "text": [
      "Epoch: 212 | Train Loss: 0.001170 | Train Acc: 1.000000 | Train F1: 1.000000 | Valid Loss: 0.987923 | Valid Acc: 0.721088 | Valid F1: 0.589935 | LR: 1.01e-05\n"
     ]
    },
    {
     "name": "stderr",
     "output_type": "stream",
     "text": [
      "                                                                                           \r"
     ]
    },
    {
     "name": "stdout",
     "output_type": "stream",
     "text": [
      "Epoch: 213 | Train Loss: 0.001334 | Train Acc: 1.000000 | Train F1: 1.000000 | Valid Loss: 0.968757 | Valid Acc: 0.734694 | Valid F1: 0.645150 | LR: 9.90e-06\n"
     ]
    },
    {
     "name": "stderr",
     "output_type": "stream",
     "text": [
      "                                                                                           \r"
     ]
    },
    {
     "name": "stdout",
     "output_type": "stream",
     "text": [
      "Epoch: 214 | Train Loss: 0.001821 | Train Acc: 1.000000 | Train F1: 1.000000 | Valid Loss: 0.965332 | Valid Acc: 0.714286 | Valid F1: 0.630525 | LR: 9.69e-06\n"
     ]
    },
    {
     "name": "stderr",
     "output_type": "stream",
     "text": [
      "                                                                                           \r"
     ]
    },
    {
     "name": "stdout",
     "output_type": "stream",
     "text": [
      "Epoch: 215 | Train Loss: 0.002699 | Train Acc: 1.000000 | Train F1: 1.000000 | Valid Loss: 0.992215 | Valid Acc: 0.714286 | Valid F1: 0.595130 | LR: 9.48e-06\n"
     ]
    },
    {
     "name": "stderr",
     "output_type": "stream",
     "text": [
      "                                                                                           \r"
     ]
    },
    {
     "name": "stdout",
     "output_type": "stream",
     "text": [
      "Epoch: 216 | Train Loss: 0.002363 | Train Acc: 1.000000 | Train F1: 1.000000 | Valid Loss: 0.956616 | Valid Acc: 0.687075 | Valid F1: 0.559259 | LR: 9.26e-06\n"
     ]
    },
    {
     "name": "stderr",
     "output_type": "stream",
     "text": [
      "                                                                                           \r"
     ]
    },
    {
     "name": "stdout",
     "output_type": "stream",
     "text": [
      "Epoch: 217 | Train Loss: 0.001500 | Train Acc: 1.000000 | Train F1: 1.000000 | Valid Loss: 1.090123 | Valid Acc: 0.714286 | Valid F1: 0.583251 | LR: 9.05e-06\n"
     ]
    },
    {
     "name": "stderr",
     "output_type": "stream",
     "text": [
      "                                                                                           \r"
     ]
    },
    {
     "name": "stdout",
     "output_type": "stream",
     "text": [
      "Epoch: 218 | Train Loss: 0.001705 | Train Acc: 1.000000 | Train F1: 1.000000 | Valid Loss: 0.808257 | Valid Acc: 0.721088 | Valid F1: 0.594613 | LR: 8.85e-06\n"
     ]
    },
    {
     "name": "stderr",
     "output_type": "stream",
     "text": [
      "                                                                                           \r"
     ]
    },
    {
     "name": "stdout",
     "output_type": "stream",
     "text": [
      "Epoch: 219 | Train Loss: 0.001073 | Train Acc: 1.000000 | Train F1: 1.000000 | Valid Loss: 1.044340 | Valid Acc: 0.727891 | Valid F1: 0.603083 | LR: 8.64e-06\n"
     ]
    },
    {
     "name": "stderr",
     "output_type": "stream",
     "text": [
      "                                                                                           \r"
     ]
    },
    {
     "name": "stdout",
     "output_type": "stream",
     "text": [
      "Epoch: 220 | Train Loss: 0.001492 | Train Acc: 1.000000 | Train F1: 1.000000 | Valid Loss: 0.789118 | Valid Acc: 0.721088 | Valid F1: 0.588906 | LR: 8.43e-06\n"
     ]
    },
    {
     "name": "stderr",
     "output_type": "stream",
     "text": [
      "                                                                                           \r"
     ]
    },
    {
     "name": "stdout",
     "output_type": "stream",
     "text": [
      "Epoch: 221 | Train Loss: 0.001571 | Train Acc: 1.000000 | Train F1: 1.000000 | Valid Loss: 0.909916 | Valid Acc: 0.721088 | Valid F1: 0.585424 | LR: 8.22e-06\n"
     ]
    },
    {
     "name": "stderr",
     "output_type": "stream",
     "text": [
      "                                                                                           \r"
     ]
    },
    {
     "name": "stdout",
     "output_type": "stream",
     "text": [
      "Epoch: 222 | Train Loss: 0.002269 | Train Acc: 1.000000 | Train F1: 1.000000 | Valid Loss: 1.097241 | Valid Acc: 0.727891 | Valid F1: 0.589418 | LR: 8.02e-06\n"
     ]
    },
    {
     "name": "stderr",
     "output_type": "stream",
     "text": [
      "                                                                                           \r"
     ]
    },
    {
     "name": "stdout",
     "output_type": "stream",
     "text": [
      "Epoch: 223 | Train Loss: 0.001227 | Train Acc: 1.000000 | Train F1: 1.000000 | Valid Loss: 1.049861 | Valid Acc: 0.741497 | Valid F1: 0.669274 | LR: 7.82e-06\n"
     ]
    },
    {
     "name": "stderr",
     "output_type": "stream",
     "text": [
      "                                                                                           \r"
     ]
    },
    {
     "name": "stdout",
     "output_type": "stream",
     "text": [
      "Epoch: 224 | Train Loss: 0.001203 | Train Acc: 1.000000 | Train F1: 1.000000 | Valid Loss: 1.001683 | Valid Acc: 0.721088 | Valid F1: 0.583723 | LR: 7.62e-06\n"
     ]
    },
    {
     "name": "stderr",
     "output_type": "stream",
     "text": [
      "                                                                                           \r"
     ]
    },
    {
     "name": "stdout",
     "output_type": "stream",
     "text": [
      "Epoch: 225 | Train Loss: 0.001466 | Train Acc: 1.000000 | Train F1: 1.000000 | Valid Loss: 1.043240 | Valid Acc: 0.727891 | Valid F1: 0.579973 | LR: 7.42e-06\n"
     ]
    },
    {
     "name": "stderr",
     "output_type": "stream",
     "text": [
      "                                                                                           \r"
     ]
    },
    {
     "name": "stdout",
     "output_type": "stream",
     "text": [
      "Epoch: 226 | Train Loss: 0.000834 | Train Acc: 1.000000 | Train F1: 1.000000 | Valid Loss: 1.194699 | Valid Acc: 0.700680 | Valid F1: 0.577381 | LR: 7.22e-06\n"
     ]
    },
    {
     "name": "stderr",
     "output_type": "stream",
     "text": [
      "                                                                                           \r"
     ]
    },
    {
     "name": "stdout",
     "output_type": "stream",
     "text": [
      "Epoch: 227 | Train Loss: 0.001224 | Train Acc: 1.000000 | Train F1: 1.000000 | Valid Loss: 1.192836 | Valid Acc: 0.707483 | Valid F1: 0.629329 | LR: 7.02e-06\n"
     ]
    },
    {
     "name": "stderr",
     "output_type": "stream",
     "text": [
      "                                                                                           \r"
     ]
    },
    {
     "name": "stdout",
     "output_type": "stream",
     "text": [
      "Epoch: 228 | Train Loss: 0.000834 | Train Acc: 1.000000 | Train F1: 1.000000 | Valid Loss: 1.142179 | Valid Acc: 0.707483 | Valid F1: 0.614757 | LR: 6.83e-06\n"
     ]
    },
    {
     "name": "stderr",
     "output_type": "stream",
     "text": [
      "                                                                                           \r"
     ]
    },
    {
     "name": "stdout",
     "output_type": "stream",
     "text": [
      "Epoch: 229 | Train Loss: 0.000897 | Train Acc: 1.000000 | Train F1: 1.000000 | Valid Loss: 0.927242 | Valid Acc: 0.721088 | Valid F1: 0.638243 | LR: 6.63e-06\n"
     ]
    },
    {
     "name": "stderr",
     "output_type": "stream",
     "text": [
      "                                                                                           \r"
     ]
    },
    {
     "name": "stdout",
     "output_type": "stream",
     "text": [
      "Epoch: 230 | Train Loss: 0.001685 | Train Acc: 1.000000 | Train F1: 1.000000 | Valid Loss: 1.206314 | Valid Acc: 0.673469 | Valid F1: 0.566198 | LR: 6.44e-06\n"
     ]
    },
    {
     "name": "stderr",
     "output_type": "stream",
     "text": [
      "                                                                                           \r"
     ]
    },
    {
     "name": "stdout",
     "output_type": "stream",
     "text": [
      "Epoch: 231 | Train Loss: 0.001127 | Train Acc: 1.000000 | Train F1: 1.000000 | Valid Loss: 1.127649 | Valid Acc: 0.714286 | Valid F1: 0.641717 | LR: 6.25e-06\n"
     ]
    },
    {
     "name": "stderr",
     "output_type": "stream",
     "text": [
      "                                                                                           \r"
     ]
    },
    {
     "name": "stdout",
     "output_type": "stream",
     "text": [
      "Epoch: 232 | Train Loss: 0.002697 | Train Acc: 1.000000 | Train F1: 1.000000 | Valid Loss: 0.955677 | Valid Acc: 0.707483 | Valid F1: 0.586995 | LR: 6.06e-06\n"
     ]
    },
    {
     "name": "stderr",
     "output_type": "stream",
     "text": [
      "                                                                                           \r"
     ]
    },
    {
     "name": "stdout",
     "output_type": "stream",
     "text": [
      "Epoch: 233 | Train Loss: 0.002361 | Train Acc: 1.000000 | Train F1: 1.000000 | Valid Loss: 0.975237 | Valid Acc: 0.707483 | Valid F1: 0.580610 | LR: 5.88e-06\n"
     ]
    },
    {
     "name": "stderr",
     "output_type": "stream",
     "text": [
      "                                                                                           \r"
     ]
    },
    {
     "name": "stdout",
     "output_type": "stream",
     "text": [
      "Epoch: 234 | Train Loss: 0.001621 | Train Acc: 1.000000 | Train F1: 1.000000 | Valid Loss: 0.912043 | Valid Acc: 0.714286 | Valid F1: 0.585336 | LR: 5.69e-06\n"
     ]
    },
    {
     "name": "stderr",
     "output_type": "stream",
     "text": [
      "                                                                                           \r"
     ]
    },
    {
     "name": "stdout",
     "output_type": "stream",
     "text": [
      "Epoch: 235 | Train Loss: 0.001576 | Train Acc: 1.000000 | Train F1: 1.000000 | Valid Loss: 0.921176 | Valid Acc: 0.707483 | Valid F1: 0.585810 | LR: 5.51e-06\n"
     ]
    },
    {
     "name": "stderr",
     "output_type": "stream",
     "text": [
      "                                                                                           \r"
     ]
    },
    {
     "name": "stdout",
     "output_type": "stream",
     "text": [
      "Epoch: 236 | Train Loss: 0.001003 | Train Acc: 1.000000 | Train F1: 1.000000 | Valid Loss: 1.028905 | Valid Acc: 0.727891 | Valid F1: 0.643857 | LR: 5.33e-06\n"
     ]
    },
    {
     "name": "stderr",
     "output_type": "stream",
     "text": [
      "                                                                                           \r"
     ]
    },
    {
     "name": "stdout",
     "output_type": "stream",
     "text": [
      "Epoch: 237 | Train Loss: 0.000986 | Train Acc: 1.000000 | Train F1: 1.000000 | Valid Loss: 1.058549 | Valid Acc: 0.693878 | Valid F1: 0.615604 | LR: 5.15e-06\n"
     ]
    },
    {
     "name": "stderr",
     "output_type": "stream",
     "text": [
      "                                                                                           \r"
     ]
    },
    {
     "name": "stdout",
     "output_type": "stream",
     "text": [
      "Epoch: 238 | Train Loss: 0.002126 | Train Acc: 1.000000 | Train F1: 1.000000 | Valid Loss: 0.926444 | Valid Acc: 0.700680 | Valid F1: 0.575926 | LR: 4.98e-06\n"
     ]
    },
    {
     "name": "stderr",
     "output_type": "stream",
     "text": [
      "                                                                                           \r"
     ]
    },
    {
     "name": "stdout",
     "output_type": "stream",
     "text": [
      "Epoch: 239 | Train Loss: 0.001106 | Train Acc: 1.000000 | Train F1: 1.000000 | Valid Loss: 0.844884 | Valid Acc: 0.707483 | Valid F1: 0.614815 | LR: 4.80e-06\n"
     ]
    },
    {
     "name": "stderr",
     "output_type": "stream",
     "text": [
      "                                                                                           \r"
     ]
    },
    {
     "name": "stdout",
     "output_type": "stream",
     "text": [
      "Epoch: 240 | Train Loss: 0.001067 | Train Acc: 1.000000 | Train F1: 1.000000 | Valid Loss: 1.050141 | Valid Acc: 0.707483 | Valid F1: 0.581973 | LR: 4.63e-06\n"
     ]
    },
    {
     "name": "stderr",
     "output_type": "stream",
     "text": [
      "                                                                                           \r"
     ]
    },
    {
     "name": "stdout",
     "output_type": "stream",
     "text": [
      "Epoch: 241 | Train Loss: 0.001805 | Train Acc: 1.000000 | Train F1: 1.000000 | Valid Loss: 1.069548 | Valid Acc: 0.714286 | Valid F1: 0.574527 | LR: 4.47e-06\n"
     ]
    },
    {
     "name": "stderr",
     "output_type": "stream",
     "text": [
      "                                                                                           \r"
     ]
    },
    {
     "name": "stdout",
     "output_type": "stream",
     "text": [
      "Epoch: 242 | Train Loss: 0.001478 | Train Acc: 1.000000 | Train F1: 1.000000 | Valid Loss: 1.009189 | Valid Acc: 0.714286 | Valid F1: 0.634620 | LR: 4.30e-06\n"
     ]
    },
    {
     "name": "stderr",
     "output_type": "stream",
     "text": [
      "                                                                                           \r"
     ]
    },
    {
     "name": "stdout",
     "output_type": "stream",
     "text": [
      "Epoch: 243 | Train Loss: 0.001280 | Train Acc: 1.000000 | Train F1: 1.000000 | Valid Loss: 1.032405 | Valid Acc: 0.707483 | Valid F1: 0.584311 | LR: 4.14e-06\n"
     ]
    },
    {
     "name": "stderr",
     "output_type": "stream",
     "text": [
      "                                                                                           \r"
     ]
    },
    {
     "name": "stdout",
     "output_type": "stream",
     "text": [
      "Epoch: 244 | Train Loss: 0.001491 | Train Acc: 1.000000 | Train F1: 1.000000 | Valid Loss: 1.128888 | Valid Acc: 0.693878 | Valid F1: 0.609605 | LR: 3.98e-06\n"
     ]
    },
    {
     "name": "stderr",
     "output_type": "stream",
     "text": [
      "                                                                                           \r"
     ]
    },
    {
     "name": "stdout",
     "output_type": "stream",
     "text": [
      "Epoch: 245 | Train Loss: 0.001095 | Train Acc: 1.000000 | Train F1: 1.000000 | Valid Loss: 0.779551 | Valid Acc: 0.707483 | Valid F1: 0.580644 | LR: 3.82e-06\n"
     ]
    },
    {
     "name": "stderr",
     "output_type": "stream",
     "text": [
      "                                                                                           \r"
     ]
    },
    {
     "name": "stdout",
     "output_type": "stream",
     "text": [
      "Epoch: 246 | Train Loss: 0.003257 | Train Acc: 1.000000 | Train F1: 1.000000 | Valid Loss: 0.919840 | Valid Acc: 0.721088 | Valid F1: 0.590698 | LR: 3.66e-06\n"
     ]
    },
    {
     "name": "stderr",
     "output_type": "stream",
     "text": [
      "                                                                                           \r"
     ]
    },
    {
     "name": "stdout",
     "output_type": "stream",
     "text": [
      "Epoch: 247 | Train Loss: 0.001801 | Train Acc: 1.000000 | Train F1: 1.000000 | Valid Loss: 1.138251 | Valid Acc: 0.687075 | Valid F1: 0.604592 | LR: 3.51e-06\n"
     ]
    },
    {
     "name": "stderr",
     "output_type": "stream",
     "text": [
      "                                                                                           \r"
     ]
    },
    {
     "name": "stdout",
     "output_type": "stream",
     "text": [
      "Epoch: 248 | Train Loss: 0.000940 | Train Acc: 1.000000 | Train F1: 1.000000 | Valid Loss: 1.051950 | Valid Acc: 0.707483 | Valid F1: 0.575138 | LR: 3.36e-06\n"
     ]
    },
    {
     "name": "stderr",
     "output_type": "stream",
     "text": [
      "                                                                                           \r"
     ]
    },
    {
     "name": "stdout",
     "output_type": "stream",
     "text": [
      "Epoch: 249 | Train Loss: 0.001224 | Train Acc: 1.000000 | Train F1: 1.000000 | Valid Loss: 1.081435 | Valid Acc: 0.693878 | Valid F1: 0.560684 | LR: 3.21e-06\n"
     ]
    },
    {
     "name": "stderr",
     "output_type": "stream",
     "text": [
      "                                                                                           \r"
     ]
    },
    {
     "name": "stdout",
     "output_type": "stream",
     "text": [
      "Epoch: 250 | Train Loss: 0.001947 | Train Acc: 1.000000 | Train F1: 1.000000 | Valid Loss: 1.065280 | Valid Acc: 0.687075 | Valid F1: 0.575430 | LR: 3.07e-06\n"
     ]
    },
    {
     "name": "stderr",
     "output_type": "stream",
     "text": [
      "                                                                                           \r"
     ]
    },
    {
     "name": "stdout",
     "output_type": "stream",
     "text": [
      "Epoch: 251 | Train Loss: 0.001560 | Train Acc: 1.000000 | Train F1: 1.000000 | Valid Loss: 1.054593 | Valid Acc: 0.700680 | Valid F1: 0.574572 | LR: 2.92e-06\n"
     ]
    },
    {
     "name": "stderr",
     "output_type": "stream",
     "text": [
      "                                                                                           \r"
     ]
    },
    {
     "name": "stdout",
     "output_type": "stream",
     "text": [
      "Epoch: 252 | Train Loss: 0.002036 | Train Acc: 1.000000 | Train F1: 1.000000 | Valid Loss: 0.982571 | Valid Acc: 0.700680 | Valid F1: 0.577799 | LR: 2.79e-06\n"
     ]
    },
    {
     "name": "stderr",
     "output_type": "stream",
     "text": [
      "                                                                                           \r"
     ]
    },
    {
     "name": "stdout",
     "output_type": "stream",
     "text": [
      "Epoch: 253 | Train Loss: 0.002685 | Train Acc: 1.000000 | Train F1: 1.000000 | Valid Loss: 1.069306 | Valid Acc: 0.714286 | Valid F1: 0.584405 | LR: 2.65e-06\n"
     ]
    },
    {
     "name": "stderr",
     "output_type": "stream",
     "text": [
      "                                                                                           \r"
     ]
    },
    {
     "name": "stdout",
     "output_type": "stream",
     "text": [
      "Epoch: 254 | Train Loss: 0.000975 | Train Acc: 1.000000 | Train F1: 1.000000 | Valid Loss: 0.993645 | Valid Acc: 0.707483 | Valid F1: 0.578740 | LR: 2.52e-06\n"
     ]
    },
    {
     "name": "stderr",
     "output_type": "stream",
     "text": [
      "                                                                                           \r"
     ]
    },
    {
     "name": "stdout",
     "output_type": "stream",
     "text": [
      "Epoch: 255 | Train Loss: 0.001241 | Train Acc: 1.000000 | Train F1: 1.000000 | Valid Loss: 0.799934 | Valid Acc: 0.707483 | Valid F1: 0.623432 | LR: 2.39e-06\n"
     ]
    },
    {
     "name": "stderr",
     "output_type": "stream",
     "text": [
      "                                                                                           \r"
     ]
    },
    {
     "name": "stdout",
     "output_type": "stream",
     "text": [
      "Epoch: 256 | Train Loss: 0.001358 | Train Acc: 1.000000 | Train F1: 1.000000 | Valid Loss: 1.046901 | Valid Acc: 0.721088 | Valid F1: 0.582928 | LR: 2.26e-06\n"
     ]
    },
    {
     "name": "stderr",
     "output_type": "stream",
     "text": [
      "                                                                                           \r"
     ]
    },
    {
     "name": "stdout",
     "output_type": "stream",
     "text": [
      "Epoch: 257 | Train Loss: 0.001013 | Train Acc: 1.000000 | Train F1: 1.000000 | Valid Loss: 1.030780 | Valid Acc: 0.721088 | Valid F1: 0.637219 | LR: 2.14e-06\n"
     ]
    },
    {
     "name": "stderr",
     "output_type": "stream",
     "text": [
      "                                                                                           \r"
     ]
    },
    {
     "name": "stdout",
     "output_type": "stream",
     "text": [
      "Epoch: 258 | Train Loss: 0.001218 | Train Acc: 1.000000 | Train F1: 1.000000 | Valid Loss: 0.922782 | Valid Acc: 0.693878 | Valid F1: 0.569300 | LR: 2.02e-06\n"
     ]
    },
    {
     "name": "stderr",
     "output_type": "stream",
     "text": [
      "                                                                                           \r"
     ]
    },
    {
     "name": "stdout",
     "output_type": "stream",
     "text": [
      "Epoch: 259 | Train Loss: 0.000748 | Train Acc: 1.000000 | Train F1: 1.000000 | Valid Loss: 0.848750 | Valid Acc: 0.714286 | Valid F1: 0.628426 | LR: 1.90e-06\n"
     ]
    },
    {
     "name": "stderr",
     "output_type": "stream",
     "text": [
      "                                                                                           \r"
     ]
    },
    {
     "name": "stdout",
     "output_type": "stream",
     "text": [
      "Epoch: 260 | Train Loss: 0.002226 | Train Acc: 1.000000 | Train F1: 1.000000 | Valid Loss: 1.160909 | Valid Acc: 0.693878 | Valid F1: 0.559940 | LR: 1.79e-06\n"
     ]
    },
    {
     "name": "stderr",
     "output_type": "stream",
     "text": [
      "                                                                                           \r"
     ]
    },
    {
     "name": "stdout",
     "output_type": "stream",
     "text": [
      "Epoch: 261 | Train Loss: 0.000836 | Train Acc: 1.000000 | Train F1: 1.000000 | Valid Loss: 1.033376 | Valid Acc: 0.727891 | Valid F1: 0.581815 | LR: 1.67e-06\n"
     ]
    },
    {
     "name": "stderr",
     "output_type": "stream",
     "text": [
      "                                                                                           \r"
     ]
    },
    {
     "name": "stdout",
     "output_type": "stream",
     "text": [
      "Epoch: 262 | Train Loss: 0.001849 | Train Acc: 1.000000 | Train F1: 1.000000 | Valid Loss: 0.987865 | Valid Acc: 0.714286 | Valid F1: 0.578987 | LR: 1.57e-06\n"
     ]
    },
    {
     "name": "stderr",
     "output_type": "stream",
     "text": [
      "                                                                                           \r"
     ]
    },
    {
     "name": "stdout",
     "output_type": "stream",
     "text": [
      "Epoch: 263 | Train Loss: 0.000918 | Train Acc: 1.000000 | Train F1: 1.000000 | Valid Loss: 1.013910 | Valid Acc: 0.707483 | Valid F1: 0.587357 | LR: 1.46e-06\n"
     ]
    },
    {
     "name": "stderr",
     "output_type": "stream",
     "text": [
      "                                                                                           \r"
     ]
    },
    {
     "name": "stdout",
     "output_type": "stream",
     "text": [
      "Epoch: 264 | Train Loss: 0.000912 | Train Acc: 1.000000 | Train F1: 1.000000 | Valid Loss: 0.868411 | Valid Acc: 0.734694 | Valid F1: 0.593866 | LR: 1.36e-06\n"
     ]
    },
    {
     "name": "stderr",
     "output_type": "stream",
     "text": [
      "                                                                                           \r"
     ]
    },
    {
     "name": "stdout",
     "output_type": "stream",
     "text": [
      "Epoch: 265 | Train Loss: 0.001240 | Train Acc: 1.000000 | Train F1: 1.000000 | Valid Loss: 1.028761 | Valid Acc: 0.714286 | Valid F1: 0.586535 | LR: 1.27e-06\n"
     ]
    },
    {
     "name": "stderr",
     "output_type": "stream",
     "text": [
      "                                                                                           \r"
     ]
    },
    {
     "name": "stdout",
     "output_type": "stream",
     "text": [
      "Epoch: 266 | Train Loss: 0.001071 | Train Acc: 1.000000 | Train F1: 1.000000 | Valid Loss: 0.996886 | Valid Acc: 0.714286 | Valid F1: 0.578193 | LR: 1.17e-06\n"
     ]
    },
    {
     "name": "stderr",
     "output_type": "stream",
     "text": [
      "                                                                                           \r"
     ]
    },
    {
     "name": "stdout",
     "output_type": "stream",
     "text": [
      "Epoch: 267 | Train Loss: 0.000757 | Train Acc: 1.000000 | Train F1: 1.000000 | Valid Loss: 0.936010 | Valid Acc: 0.700680 | Valid F1: 0.573792 | LR: 1.08e-06\n"
     ]
    },
    {
     "name": "stderr",
     "output_type": "stream",
     "text": [
      "                                                                                           \r"
     ]
    },
    {
     "name": "stdout",
     "output_type": "stream",
     "text": [
      "Epoch: 268 | Train Loss: 0.002520 | Train Acc: 1.000000 | Train F1: 1.000000 | Valid Loss: 0.930165 | Valid Acc: 0.707483 | Valid F1: 0.625684 | LR: 9.94e-07\n"
     ]
    },
    {
     "name": "stderr",
     "output_type": "stream",
     "text": [
      "                                                                                           \r"
     ]
    },
    {
     "name": "stdout",
     "output_type": "stream",
     "text": [
      "Epoch: 269 | Train Loss: 0.003573 | Train Acc: 1.000000 | Train F1: 1.000000 | Valid Loss: 0.902328 | Valid Acc: 0.721088 | Valid F1: 0.588252 | LR: 9.10e-07\n"
     ]
    },
    {
     "name": "stderr",
     "output_type": "stream",
     "text": [
      "                                                                                           \r"
     ]
    },
    {
     "name": "stdout",
     "output_type": "stream",
     "text": [
      "Epoch: 270 | Train Loss: 0.001959 | Train Acc: 1.000000 | Train F1: 1.000000 | Valid Loss: 0.937814 | Valid Acc: 0.721088 | Valid F1: 0.589600 | LR: 8.30e-07\n"
     ]
    },
    {
     "name": "stderr",
     "output_type": "stream",
     "text": [
      "                                                                                           \r"
     ]
    },
    {
     "name": "stdout",
     "output_type": "stream",
     "text": [
      "Epoch: 271 | Train Loss: 0.001131 | Train Acc: 1.000000 | Train F1: 1.000000 | Valid Loss: 1.055193 | Valid Acc: 0.714286 | Valid F1: 0.583329 | LR: 7.54e-07\n"
     ]
    },
    {
     "name": "stderr",
     "output_type": "stream",
     "text": [
      "                                                                                           \r"
     ]
    },
    {
     "name": "stdout",
     "output_type": "stream",
     "text": [
      "Epoch: 272 | Train Loss: 0.001016 | Train Acc: 1.000000 | Train F1: 1.000000 | Valid Loss: 0.903984 | Valid Acc: 0.714286 | Valid F1: 0.622440 | LR: 6.81e-07\n"
     ]
    },
    {
     "name": "stderr",
     "output_type": "stream",
     "text": [
      "                                                                                           \r"
     ]
    },
    {
     "name": "stdout",
     "output_type": "stream",
     "text": [
      "Epoch: 273 | Train Loss: 0.000943 | Train Acc: 1.000000 | Train F1: 1.000000 | Valid Loss: 0.896765 | Valid Acc: 0.727891 | Valid F1: 0.645183 | LR: 6.12e-07\n"
     ]
    },
    {
     "name": "stderr",
     "output_type": "stream",
     "text": [
      "                                                                                           \r"
     ]
    },
    {
     "name": "stdout",
     "output_type": "stream",
     "text": [
      "Epoch: 274 | Train Loss: 0.003977 | Train Acc: 1.000000 | Train F1: 1.000000 | Valid Loss: 0.904819 | Valid Acc: 0.680272 | Valid F1: 0.570061 | LR: 5.46e-07\n"
     ]
    },
    {
     "name": "stderr",
     "output_type": "stream",
     "text": [
      "                                                                                           \r"
     ]
    },
    {
     "name": "stdout",
     "output_type": "stream",
     "text": [
      "Epoch: 275 | Train Loss: 0.001037 | Train Acc: 1.000000 | Train F1: 1.000000 | Valid Loss: 1.075399 | Valid Acc: 0.714286 | Valid F1: 0.632196 | LR: 4.84e-07\n"
     ]
    },
    {
     "name": "stderr",
     "output_type": "stream",
     "text": [
      "                                                                                           \r"
     ]
    },
    {
     "name": "stdout",
     "output_type": "stream",
     "text": [
      "Epoch: 276 | Train Loss: 0.001085 | Train Acc: 1.000000 | Train F1: 1.000000 | Valid Loss: 0.862298 | Valid Acc: 0.714286 | Valid F1: 0.584256 | LR: 4.26e-07\n"
     ]
    },
    {
     "name": "stderr",
     "output_type": "stream",
     "text": [
      "                                                                                           \r"
     ]
    },
    {
     "name": "stdout",
     "output_type": "stream",
     "text": [
      "Epoch: 277 | Train Loss: 0.001120 | Train Acc: 1.000000 | Train F1: 1.000000 | Valid Loss: 0.778486 | Valid Acc: 0.721088 | Valid F1: 0.634640 | LR: 3.71e-07\n"
     ]
    },
    {
     "name": "stderr",
     "output_type": "stream",
     "text": [
      "                                                                                           \r"
     ]
    },
    {
     "name": "stdout",
     "output_type": "stream",
     "text": [
      "Epoch: 278 | Train Loss: 0.001026 | Train Acc: 1.000000 | Train F1: 1.000000 | Valid Loss: 1.050147 | Valid Acc: 0.707483 | Valid F1: 0.579123 | LR: 3.20e-07\n"
     ]
    },
    {
     "name": "stderr",
     "output_type": "stream",
     "text": [
      "                                                                                           \r"
     ]
    },
    {
     "name": "stdout",
     "output_type": "stream",
     "text": [
      "Epoch: 279 | Train Loss: 0.000916 | Train Acc: 1.000000 | Train F1: 1.000000 | Valid Loss: 1.042544 | Valid Acc: 0.714286 | Valid F1: 0.628068 | LR: 2.73e-07\n"
     ]
    },
    {
     "name": "stderr",
     "output_type": "stream",
     "text": [
      "                                                                                           \r"
     ]
    },
    {
     "name": "stdout",
     "output_type": "stream",
     "text": [
      "Epoch: 280 | Train Loss: 0.000784 | Train Acc: 1.000000 | Train F1: 1.000000 | Valid Loss: 0.989510 | Valid Acc: 0.727891 | Valid F1: 0.633700 | LR: 2.30e-07\n"
     ]
    },
    {
     "name": "stderr",
     "output_type": "stream",
     "text": [
      "                                                                                           \r"
     ]
    },
    {
     "name": "stdout",
     "output_type": "stream",
     "text": [
      "Epoch: 281 | Train Loss: 0.000941 | Train Acc: 1.000000 | Train F1: 1.000000 | Valid Loss: 0.935303 | Valid Acc: 0.721088 | Valid F1: 0.581388 | LR: 1.90e-07\n"
     ]
    },
    {
     "name": "stderr",
     "output_type": "stream",
     "text": [
      "                                                                                           \r"
     ]
    },
    {
     "name": "stdout",
     "output_type": "stream",
     "text": [
      "Epoch: 282 | Train Loss: 0.001525 | Train Acc: 1.000000 | Train F1: 1.000000 | Valid Loss: 1.115572 | Valid Acc: 0.727891 | Valid F1: 0.589277 | LR: 1.54e-07\n"
     ]
    },
    {
     "name": "stderr",
     "output_type": "stream",
     "text": [
      "                                                                                           \r"
     ]
    },
    {
     "name": "stdout",
     "output_type": "stream",
     "text": [
      "Epoch: 283 | Train Loss: 0.001738 | Train Acc: 1.000000 | Train F1: 1.000000 | Valid Loss: 1.006104 | Valid Acc: 0.727891 | Valid F1: 0.643661 | LR: 1.22e-07\n"
     ]
    },
    {
     "name": "stderr",
     "output_type": "stream",
     "text": [
      "                                                                                           \r"
     ]
    },
    {
     "name": "stdout",
     "output_type": "stream",
     "text": [
      "Epoch: 284 | Train Loss: 0.001341 | Train Acc: 1.000000 | Train F1: 1.000000 | Valid Loss: 0.852229 | Valid Acc: 0.721088 | Valid F1: 0.635883 | LR: 9.32e-08\n"
     ]
    },
    {
     "name": "stderr",
     "output_type": "stream",
     "text": [
      "                                                                                           \r"
     ]
    },
    {
     "name": "stdout",
     "output_type": "stream",
     "text": [
      "Epoch: 285 | Train Loss: 0.001617 | Train Acc: 1.000000 | Train F1: 1.000000 | Valid Loss: 0.819668 | Valid Acc: 0.721088 | Valid F1: 0.628025 | LR: 6.85e-08\n"
     ]
    },
    {
     "name": "stderr",
     "output_type": "stream",
     "text": [
      "                                                                                           \r"
     ]
    },
    {
     "name": "stdout",
     "output_type": "stream",
     "text": [
      "Epoch: 286 | Train Loss: 0.000905 | Train Acc: 1.000000 | Train F1: 1.000000 | Valid Loss: 0.943207 | Valid Acc: 0.700680 | Valid F1: 0.574261 | LR: 4.76e-08\n"
     ]
    },
    {
     "name": "stderr",
     "output_type": "stream",
     "text": [
      "                                                                                           \r"
     ]
    },
    {
     "name": "stdout",
     "output_type": "stream",
     "text": [
      "Epoch: 287 | Train Loss: 0.001173 | Train Acc: 1.000000 | Train F1: 1.000000 | Valid Loss: 0.913887 | Valid Acc: 0.714286 | Valid F1: 0.581752 | LR: 3.04e-08\n"
     ]
    },
    {
     "name": "stderr",
     "output_type": "stream",
     "text": [
      "                                                                                           \r"
     ]
    },
    {
     "name": "stdout",
     "output_type": "stream",
     "text": [
      "Epoch: 288 | Train Loss: 0.000872 | Train Acc: 1.000000 | Train F1: 1.000000 | Valid Loss: 1.020269 | Valid Acc: 0.714286 | Valid F1: 0.583842 | LR: 1.71e-08\n"
     ]
    },
    {
     "name": "stderr",
     "output_type": "stream",
     "text": [
      "                                                                                           \r"
     ]
    },
    {
     "name": "stdout",
     "output_type": "stream",
     "text": [
      "Epoch: 289 | Train Loss: 0.003719 | Train Acc: 1.000000 | Train F1: 1.000000 | Valid Loss: 0.949036 | Valid Acc: 0.700680 | Valid F1: 0.564096 | LR: 7.61e-09\n"
     ]
    },
    {
     "name": "stderr",
     "output_type": "stream",
     "text": [
      "                                                                                           \r"
     ]
    },
    {
     "name": "stdout",
     "output_type": "stream",
     "text": [
      "Epoch: 290 | Train Loss: 0.001062 | Train Acc: 1.000000 | Train F1: 1.000000 | Valid Loss: 1.142710 | Valid Acc: 0.721088 | Valid F1: 0.580416 | LR: 1.90e-09\n"
     ]
    },
    {
     "name": "stderr",
     "output_type": "stream",
     "text": [
      "                                                                                           \r"
     ]
    },
    {
     "name": "stdout",
     "output_type": "stream",
     "text": [
      "Epoch: 291 | Train Loss: 0.000784 | Train Acc: 1.000000 | Train F1: 1.000000 | Valid Loss: 1.102974 | Valid Acc: 0.693878 | Valid F1: 0.571590 | LR: 0.00e+00\n"
     ]
    },
    {
     "name": "stderr",
     "output_type": "stream",
     "text": [
      "                                                                                           \r"
     ]
    },
    {
     "name": "stdout",
     "output_type": "stream",
     "text": [
      "Epoch: 292 | Train Loss: 0.002682 | Train Acc: 1.000000 | Train F1: 1.000000 | Valid Loss: 1.022425 | Valid Acc: 0.680272 | Valid F1: 0.595999 | LR: 1.25e-06\n"
     ]
    },
    {
     "name": "stderr",
     "output_type": "stream",
     "text": [
      "                                                                                           \r"
     ]
    },
    {
     "name": "stdout",
     "output_type": "stream",
     "text": [
      "Epoch: 293 | Train Loss: 0.000924 | Train Acc: 1.000000 | Train F1: 1.000000 | Valid Loss: 0.986429 | Valid Acc: 0.687075 | Valid F1: 0.565078 | LR: 2.50e-06\n"
     ]
    },
    {
     "name": "stderr",
     "output_type": "stream",
     "text": [
      "                                                                                           \r"
     ]
    },
    {
     "name": "stdout",
     "output_type": "stream",
     "text": [
      "Epoch: 294 | Train Loss: 0.000740 | Train Acc: 1.000000 | Train F1: 1.000000 | Valid Loss: 1.222281 | Valid Acc: 0.714286 | Valid F1: 0.586681 | LR: 3.75e-06\n"
     ]
    },
    {
     "name": "stderr",
     "output_type": "stream",
     "text": [
      "                                                                                           \r"
     ]
    },
    {
     "name": "stdout",
     "output_type": "stream",
     "text": [
      "Epoch: 295 | Train Loss: 0.001098 | Train Acc: 1.000000 | Train F1: 1.000000 | Valid Loss: 0.873386 | Valid Acc: 0.714286 | Valid F1: 0.590745 | LR: 5.00e-06\n"
     ]
    },
    {
     "name": "stderr",
     "output_type": "stream",
     "text": [
      "                                                                                           \r"
     ]
    },
    {
     "name": "stdout",
     "output_type": "stream",
     "text": [
      "Epoch: 296 | Train Loss: 0.004827 | Train Acc: 1.000000 | Train F1: 1.000000 | Valid Loss: 1.058526 | Valid Acc: 0.707483 | Valid F1: 0.625603 | LR: 6.25e-06\n"
     ]
    },
    {
     "name": "stderr",
     "output_type": "stream",
     "text": [
      "                                                                                           \r"
     ]
    },
    {
     "name": "stdout",
     "output_type": "stream",
     "text": [
      "Epoch: 297 | Train Loss: 0.000784 | Train Acc: 1.000000 | Train F1: 1.000000 | Valid Loss: 1.235735 | Valid Acc: 0.734694 | Valid F1: 0.593866 | LR: 7.50e-06\n"
     ]
    },
    {
     "name": "stderr",
     "output_type": "stream",
     "text": [
      "                                                                                           \r"
     ]
    },
    {
     "name": "stdout",
     "output_type": "stream",
     "text": [
      "Epoch: 298 | Train Loss: 0.001509 | Train Acc: 1.000000 | Train F1: 1.000000 | Valid Loss: 0.927070 | Valid Acc: 0.700680 | Valid F1: 0.618019 | LR: 8.75e-06\n"
     ]
    },
    {
     "name": "stderr",
     "output_type": "stream",
     "text": [
      "                                                                                           \r"
     ]
    },
    {
     "name": "stdout",
     "output_type": "stream",
     "text": [
      "Epoch: 299 | Train Loss: 0.000902 | Train Acc: 1.000000 | Train F1: 1.000000 | Valid Loss: 0.974460 | Valid Acc: 0.693878 | Valid F1: 0.573076 | LR: 1.00e-05\n"
     ]
    },
    {
     "name": "stderr",
     "output_type": "stream",
     "text": [
      "                                                                                           \r"
     ]
    },
    {
     "name": "stdout",
     "output_type": "stream",
     "text": [
      "Epoch: 300 | Train Loss: 0.000746 | Train Acc: 1.000000 | Train F1: 1.000000 | Valid Loss: 0.962093 | Valid Acc: 0.721088 | Valid F1: 0.635127 | LR: 1.13e-05\n"
     ]
    },
    {
     "name": "stderr",
     "output_type": "stream",
     "text": [
      "                                                                                           \r"
     ]
    },
    {
     "name": "stdout",
     "output_type": "stream",
     "text": [
      "Epoch: 301 | Train Loss: 0.001261 | Train Acc: 1.000000 | Train F1: 1.000000 | Valid Loss: 0.839316 | Valid Acc: 0.700680 | Valid F1: 0.579298 | LR: 1.25e-05\n"
     ]
    },
    {
     "name": "stderr",
     "output_type": "stream",
     "text": [
      "                                                                                           \r"
     ]
    },
    {
     "name": "stdout",
     "output_type": "stream",
     "text": [
      "Epoch: 302 | Train Loss: 0.003302 | Train Acc: 1.000000 | Train F1: 1.000000 | Valid Loss: 1.153898 | Valid Acc: 0.721088 | Valid F1: 0.594310 | LR: 1.25e-05\n"
     ]
    },
    {
     "name": "stderr",
     "output_type": "stream",
     "text": [
      "                                                                                           \r"
     ]
    },
    {
     "name": "stdout",
     "output_type": "stream",
     "text": [
      "Epoch: 303 | Train Loss: 0.002172 | Train Acc: 1.000000 | Train F1: 1.000000 | Valid Loss: 0.969219 | Valid Acc: 0.734694 | Valid F1: 0.598291 | LR: 1.25e-05\n"
     ]
    },
    {
     "name": "stderr",
     "output_type": "stream",
     "text": [
      "                                                                                           \r"
     ]
    },
    {
     "name": "stdout",
     "output_type": "stream",
     "text": [
      "Epoch: 304 | Train Loss: 0.003133 | Train Acc: 1.000000 | Train F1: 1.000000 | Valid Loss: 0.880505 | Valid Acc: 0.693878 | Valid F1: 0.562271 | LR: 1.25e-05\n"
     ]
    },
    {
     "name": "stderr",
     "output_type": "stream",
     "text": [
      "                                                                                           \r"
     ]
    },
    {
     "name": "stdout",
     "output_type": "stream",
     "text": [
      "Epoch: 305 | Train Loss: 0.001418 | Train Acc: 1.000000 | Train F1: 1.000000 | Valid Loss: 1.103267 | Valid Acc: 0.721088 | Valid F1: 0.636018 | LR: 1.25e-05\n"
     ]
    },
    {
     "name": "stderr",
     "output_type": "stream",
     "text": [
      "                                                                                           \r"
     ]
    },
    {
     "name": "stdout",
     "output_type": "stream",
     "text": [
      "Epoch: 306 | Train Loss: 0.001378 | Train Acc: 1.000000 | Train F1: 1.000000 | Valid Loss: 1.114569 | Valid Acc: 0.741497 | Valid F1: 0.667802 | LR: 1.25e-05\n"
     ]
    },
    {
     "name": "stderr",
     "output_type": "stream",
     "text": [
      "                                                                                           \r"
     ]
    },
    {
     "name": "stdout",
     "output_type": "stream",
     "text": [
      "Epoch: 307 | Train Loss: 0.001296 | Train Acc: 1.000000 | Train F1: 1.000000 | Valid Loss: 0.884767 | Valid Acc: 0.687075 | Valid F1: 0.604561 | LR: 1.25e-05\n"
     ]
    },
    {
     "name": "stderr",
     "output_type": "stream",
     "text": [
      "                                                                                           \r"
     ]
    },
    {
     "name": "stdout",
     "output_type": "stream",
     "text": [
      "Epoch: 308 | Train Loss: 0.001033 | Train Acc: 1.000000 | Train F1: 1.000000 | Valid Loss: 0.972285 | Valid Acc: 0.673469 | Valid F1: 0.586008 | LR: 1.25e-05\n"
     ]
    },
    {
     "name": "stderr",
     "output_type": "stream",
     "text": [
      "                                                                                           \r"
     ]
    },
    {
     "name": "stdout",
     "output_type": "stream",
     "text": [
      "Epoch: 309 | Train Loss: 0.001277 | Train Acc: 1.000000 | Train F1: 1.000000 | Valid Loss: 0.980065 | Valid Acc: 0.693878 | Valid F1: 0.561730 | LR: 1.25e-05\n"
     ]
    },
    {
     "name": "stderr",
     "output_type": "stream",
     "text": [
      "                                                                                           \r"
     ]
    },
    {
     "name": "stdout",
     "output_type": "stream",
     "text": [
      "Epoch: 310 | Train Loss: 0.001964 | Train Acc: 1.000000 | Train F1: 1.000000 | Valid Loss: 0.959895 | Valid Acc: 0.727891 | Valid F1: 0.596259 | LR: 1.25e-05\n"
     ]
    },
    {
     "name": "stderr",
     "output_type": "stream",
     "text": [
      "                                                                                           \r"
     ]
    },
    {
     "name": "stdout",
     "output_type": "stream",
     "text": [
      "Epoch: 311 | Train Loss: 0.002202 | Train Acc: 1.000000 | Train F1: 1.000000 | Valid Loss: 1.266125 | Valid Acc: 0.693878 | Valid F1: 0.569282 | LR: 1.25e-05\n"
     ]
    },
    {
     "name": "stderr",
     "output_type": "stream",
     "text": [
      "                                                                                           \r"
     ]
    },
    {
     "name": "stdout",
     "output_type": "stream",
     "text": [
      "Epoch: 312 | Train Loss: 0.000658 | Train Acc: 1.000000 | Train F1: 1.000000 | Valid Loss: 1.115827 | Valid Acc: 0.707483 | Valid F1: 0.583537 | LR: 1.25e-05\n"
     ]
    },
    {
     "name": "stderr",
     "output_type": "stream",
     "text": [
      "                                                                                           \r"
     ]
    },
    {
     "name": "stdout",
     "output_type": "stream",
     "text": [
      "Epoch: 313 | Train Loss: 0.002454 | Train Acc: 1.000000 | Train F1: 1.000000 | Valid Loss: 0.802392 | Valid Acc: 0.727891 | Valid F1: 0.593110 | LR: 1.25e-05\n"
     ]
    },
    {
     "name": "stderr",
     "output_type": "stream",
     "text": [
      "                                                                                           \r"
     ]
    },
    {
     "name": "stdout",
     "output_type": "stream",
     "text": [
      "Epoch: 314 | Train Loss: 0.001320 | Train Acc: 1.000000 | Train F1: 1.000000 | Valid Loss: 1.119693 | Valid Acc: 0.707483 | Valid F1: 0.572878 | LR: 1.25e-05\n"
     ]
    },
    {
     "name": "stderr",
     "output_type": "stream",
     "text": [
      "                                                                                           \r"
     ]
    },
    {
     "name": "stdout",
     "output_type": "stream",
     "text": [
      "Epoch: 315 | Train Loss: 0.002028 | Train Acc: 1.000000 | Train F1: 1.000000 | Valid Loss: 1.042166 | Valid Acc: 0.693878 | Valid F1: 0.590749 | LR: 1.25e-05\n"
     ]
    },
    {
     "name": "stderr",
     "output_type": "stream",
     "text": [
      "                                                                                           \r"
     ]
    },
    {
     "name": "stdout",
     "output_type": "stream",
     "text": [
      "Epoch: 316 | Train Loss: 0.001346 | Train Acc: 1.000000 | Train F1: 1.000000 | Valid Loss: 0.868120 | Valid Acc: 0.693878 | Valid F1: 0.608880 | LR: 1.24e-05\n"
     ]
    },
    {
     "name": "stderr",
     "output_type": "stream",
     "text": [
      "                                                                                           \r"
     ]
    },
    {
     "name": "stdout",
     "output_type": "stream",
     "text": [
      "Epoch: 317 | Train Loss: 0.001565 | Train Acc: 1.000000 | Train F1: 1.000000 | Valid Loss: 0.976447 | Valid Acc: 0.721088 | Valid F1: 0.624846 | LR: 1.24e-05\n"
     ]
    },
    {
     "name": "stderr",
     "output_type": "stream",
     "text": [
      "                                                                                           \r"
     ]
    },
    {
     "name": "stdout",
     "output_type": "stream",
     "text": [
      "Epoch: 318 | Train Loss: 0.001225 | Train Acc: 1.000000 | Train F1: 1.000000 | Valid Loss: 1.011718 | Valid Acc: 0.687075 | Valid F1: 0.597583 | LR: 1.24e-05\n"
     ]
    },
    {
     "name": "stderr",
     "output_type": "stream",
     "text": [
      "                                                                                           \r"
     ]
    },
    {
     "name": "stdout",
     "output_type": "stream",
     "text": [
      "Epoch: 319 | Train Loss: 0.000962 | Train Acc: 1.000000 | Train F1: 1.000000 | Valid Loss: 1.092080 | Valid Acc: 0.687075 | Valid F1: 0.553818 | LR: 1.24e-05\n"
     ]
    },
    {
     "name": "stderr",
     "output_type": "stream",
     "text": [
      "                                                                                           \r"
     ]
    },
    {
     "name": "stdout",
     "output_type": "stream",
     "text": [
      "Epoch: 320 | Train Loss: 0.000954 | Train Acc: 1.000000 | Train F1: 1.000000 | Valid Loss: 1.061110 | Valid Acc: 0.700680 | Valid F1: 0.565096 | LR: 1.24e-05\n"
     ]
    },
    {
     "name": "stderr",
     "output_type": "stream",
     "text": [
      "                                                                                           \r"
     ]
    },
    {
     "name": "stdout",
     "output_type": "stream",
     "text": [
      "Epoch: 321 | Train Loss: 0.001025 | Train Acc: 1.000000 | Train F1: 1.000000 | Valid Loss: 1.062674 | Valid Acc: 0.707483 | Valid F1: 0.615484 | LR: 1.24e-05\n"
     ]
    },
    {
     "name": "stderr",
     "output_type": "stream",
     "text": [
      "                                                                                           \r"
     ]
    },
    {
     "name": "stdout",
     "output_type": "stream",
     "text": [
      "Epoch: 322 | Train Loss: 0.000676 | Train Acc: 1.000000 | Train F1: 1.000000 | Valid Loss: 1.102842 | Valid Acc: 0.680272 | Valid F1: 0.594881 | LR: 1.24e-05\n"
     ]
    },
    {
     "name": "stderr",
     "output_type": "stream",
     "text": [
      "                                                                                           \r"
     ]
    },
    {
     "name": "stdout",
     "output_type": "stream",
     "text": [
      "Epoch: 323 | Train Loss: 0.001201 | Train Acc: 1.000000 | Train F1: 1.000000 | Valid Loss: 1.461375 | Valid Acc: 0.687075 | Valid F1: 0.610591 | LR: 1.24e-05\n"
     ]
    },
    {
     "name": "stderr",
     "output_type": "stream",
     "text": [
      "                                                                                           \r"
     ]
    },
    {
     "name": "stdout",
     "output_type": "stream",
     "text": [
      "Epoch: 324 | Train Loss: 0.001142 | Train Acc: 1.000000 | Train F1: 1.000000 | Valid Loss: 0.933379 | Valid Acc: 0.687075 | Valid F1: 0.567858 | LR: 1.24e-05\n"
     ]
    },
    {
     "name": "stderr",
     "output_type": "stream",
     "text": [
      "                                                                                           \r"
     ]
    },
    {
     "name": "stdout",
     "output_type": "stream",
     "text": [
      "Epoch: 325 | Train Loss: 0.000818 | Train Acc: 1.000000 | Train F1: 1.000000 | Valid Loss: 0.983383 | Valid Acc: 0.721088 | Valid F1: 0.635841 | LR: 1.24e-05\n"
     ]
    },
    {
     "name": "stderr",
     "output_type": "stream",
     "text": [
      "                                                                                           \r"
     ]
    },
    {
     "name": "stdout",
     "output_type": "stream",
     "text": [
      "Epoch: 326 | Train Loss: 0.000853 | Train Acc: 1.000000 | Train F1: 1.000000 | Valid Loss: 1.113430 | Valid Acc: 0.659864 | Valid F1: 0.550318 | LR: 1.24e-05\n"
     ]
    },
    {
     "name": "stderr",
     "output_type": "stream",
     "text": [
      "                                                                                           \r"
     ]
    },
    {
     "name": "stdout",
     "output_type": "stream",
     "text": [
      "Epoch: 327 | Train Loss: 0.000688 | Train Acc: 1.000000 | Train F1: 1.000000 | Valid Loss: 0.773301 | Valid Acc: 0.714286 | Valid F1: 0.632196 | LR: 1.23e-05\n"
     ]
    },
    {
     "name": "stderr",
     "output_type": "stream",
     "text": [
      "                                                                                           \r"
     ]
    },
    {
     "name": "stdout",
     "output_type": "stream",
     "text": [
      "Epoch: 328 | Train Loss: 0.002416 | Train Acc: 1.000000 | Train F1: 1.000000 | Valid Loss: 0.980777 | Valid Acc: 0.687075 | Valid F1: 0.578328 | LR: 1.23e-05\n"
     ]
    },
    {
     "name": "stderr",
     "output_type": "stream",
     "text": [
      "                                                                                           \r"
     ]
    },
    {
     "name": "stdout",
     "output_type": "stream",
     "text": [
      "Epoch: 329 | Train Loss: 0.000784 | Train Acc: 1.000000 | Train F1: 1.000000 | Valid Loss: 1.134180 | Valid Acc: 0.680272 | Valid F1: 0.604574 | LR: 1.23e-05\n"
     ]
    },
    {
     "name": "stderr",
     "output_type": "stream",
     "text": [
      "                                                                                           \r"
     ]
    },
    {
     "name": "stdout",
     "output_type": "stream",
     "text": [
      "Epoch: 330 | Train Loss: 0.000841 | Train Acc: 1.000000 | Train F1: 1.000000 | Valid Loss: 1.223386 | Valid Acc: 0.680272 | Valid F1: 0.558068 | LR: 1.23e-05\n"
     ]
    },
    {
     "name": "stderr",
     "output_type": "stream",
     "text": [
      "                                                                                           \r"
     ]
    },
    {
     "name": "stdout",
     "output_type": "stream",
     "text": [
      "Epoch: 331 | Train Loss: 0.001566 | Train Acc: 1.000000 | Train F1: 1.000000 | Valid Loss: 1.006068 | Valid Acc: 0.700680 | Valid F1: 0.624249 | LR: 1.23e-05\n"
     ]
    },
    {
     "name": "stderr",
     "output_type": "stream",
     "text": [
      "                                                                                           \r"
     ]
    },
    {
     "name": "stdout",
     "output_type": "stream",
     "text": [
      "Epoch: 332 | Train Loss: 0.000885 | Train Acc: 1.000000 | Train F1: 1.000000 | Valid Loss: 1.080132 | Valid Acc: 0.680272 | Valid F1: 0.555808 | LR: 1.23e-05\n"
     ]
    },
    {
     "name": "stderr",
     "output_type": "stream",
     "text": [
      "                                                                                           \r"
     ]
    },
    {
     "name": "stdout",
     "output_type": "stream",
     "text": [
      "Epoch: 333 | Train Loss: 0.000690 | Train Acc: 1.000000 | Train F1: 1.000000 | Valid Loss: 1.075476 | Valid Acc: 0.700680 | Valid F1: 0.570241 | LR: 1.23e-05\n"
     ]
    },
    {
     "name": "stderr",
     "output_type": "stream",
     "text": [
      "                                                                                           \r"
     ]
    },
    {
     "name": "stdout",
     "output_type": "stream",
     "text": [
      "Epoch: 334 | Train Loss: 0.002030 | Train Acc: 1.000000 | Train F1: 1.000000 | Valid Loss: 0.930784 | Valid Acc: 0.687075 | Valid F1: 0.564985 | LR: 1.22e-05\n"
     ]
    },
    {
     "name": "stderr",
     "output_type": "stream",
     "text": [
      "                                                                                           \r"
     ]
    },
    {
     "name": "stdout",
     "output_type": "stream",
     "text": [
      "Epoch: 335 | Train Loss: 0.000557 | Train Acc: 1.000000 | Train F1: 1.000000 | Valid Loss: 1.197996 | Valid Acc: 0.721088 | Valid F1: 0.583069 | LR: 1.22e-05\n"
     ]
    },
    {
     "name": "stderr",
     "output_type": "stream",
     "text": [
      "                                                                                           \r"
     ]
    },
    {
     "name": "stdout",
     "output_type": "stream",
     "text": [
      "Epoch: 336 | Train Loss: 0.001488 | Train Acc: 1.000000 | Train F1: 1.000000 | Valid Loss: 0.955601 | Valid Acc: 0.700680 | Valid F1: 0.565368 | LR: 1.22e-05\n"
     ]
    },
    {
     "name": "stderr",
     "output_type": "stream",
     "text": [
      "                                                                                           \r"
     ]
    },
    {
     "name": "stdout",
     "output_type": "stream",
     "text": [
      "Epoch: 337 | Train Loss: 0.001849 | Train Acc: 1.000000 | Train F1: 1.000000 | Valid Loss: 1.425042 | Valid Acc: 0.666667 | Valid F1: 0.556229 | LR: 1.22e-05\n"
     ]
    },
    {
     "name": "stderr",
     "output_type": "stream",
     "text": [
      "                                                                                           \r"
     ]
    },
    {
     "name": "stdout",
     "output_type": "stream",
     "text": [
      "Epoch: 338 | Train Loss: 0.000815 | Train Acc: 1.000000 | Train F1: 1.000000 | Valid Loss: 0.878940 | Valid Acc: 0.714286 | Valid F1: 0.592887 | LR: 1.22e-05\n"
     ]
    },
    {
     "name": "stderr",
     "output_type": "stream",
     "text": [
      "                                                                                           \r"
     ]
    },
    {
     "name": "stdout",
     "output_type": "stream",
     "text": [
      "Epoch: 339 | Train Loss: 0.000758 | Train Acc: 1.000000 | Train F1: 1.000000 | Valid Loss: 1.208243 | Valid Acc: 0.707483 | Valid F1: 0.579382 | LR: 1.22e-05\n"
     ]
    },
    {
     "name": "stderr",
     "output_type": "stream",
     "text": [
      "                                                                                           \r"
     ]
    },
    {
     "name": "stdout",
     "output_type": "stream",
     "text": [
      "Epoch: 340 | Train Loss: 0.000983 | Train Acc: 1.000000 | Train F1: 1.000000 | Valid Loss: 1.008536 | Valid Acc: 0.700680 | Valid F1: 0.618523 | LR: 1.21e-05\n"
     ]
    },
    {
     "name": "stderr",
     "output_type": "stream",
     "text": [
      "                                                                                           \r"
     ]
    },
    {
     "name": "stdout",
     "output_type": "stream",
     "text": [
      "Epoch: 341 | Train Loss: 0.000546 | Train Acc: 1.000000 | Train F1: 1.000000 | Valid Loss: 1.215569 | Valid Acc: 0.693878 | Valid F1: 0.554319 | LR: 1.21e-05\n"
     ]
    },
    {
     "name": "stderr",
     "output_type": "stream",
     "text": [
      "                                                                                           \r"
     ]
    },
    {
     "name": "stdout",
     "output_type": "stream",
     "text": [
      "Epoch: 342 | Train Loss: 0.000568 | Train Acc: 1.000000 | Train F1: 1.000000 | Valid Loss: 1.128181 | Valid Acc: 0.707483 | Valid F1: 0.569066 | LR: 1.21e-05\n"
     ]
    },
    {
     "name": "stderr",
     "output_type": "stream",
     "text": [
      "                                                                                           \r"
     ]
    },
    {
     "name": "stdout",
     "output_type": "stream",
     "text": [
      "Epoch: 343 | Train Loss: 0.000650 | Train Acc: 1.000000 | Train F1: 1.000000 | Valid Loss: 1.129658 | Valid Acc: 0.680272 | Valid F1: 0.567858 | LR: 1.21e-05\n"
     ]
    },
    {
     "name": "stderr",
     "output_type": "stream",
     "text": [
      "                                                                                           \r"
     ]
    },
    {
     "name": "stdout",
     "output_type": "stream",
     "text": [
      "Epoch: 344 | Train Loss: 0.001085 | Train Acc: 1.000000 | Train F1: 1.000000 | Valid Loss: 0.891252 | Valid Acc: 0.700680 | Valid F1: 0.571590 | LR: 1.21e-05\n"
     ]
    },
    {
     "name": "stderr",
     "output_type": "stream",
     "text": [
      "                                                                                           \r"
     ]
    },
    {
     "name": "stdout",
     "output_type": "stream",
     "text": [
      "Epoch: 345 | Train Loss: 0.000440 | Train Acc: 1.000000 | Train F1: 1.000000 | Valid Loss: 1.200162 | Valid Acc: 0.714286 | Valid F1: 0.635485 | LR: 1.20e-05\n"
     ]
    },
    {
     "name": "stderr",
     "output_type": "stream",
     "text": [
      "                                                                                           \r"
     ]
    },
    {
     "name": "stdout",
     "output_type": "stream",
     "text": [
      "Epoch: 346 | Train Loss: 0.001251 | Train Acc: 1.000000 | Train F1: 1.000000 | Valid Loss: 1.082375 | Valid Acc: 0.700680 | Valid F1: 0.561045 | LR: 1.20e-05\n"
     ]
    },
    {
     "name": "stderr",
     "output_type": "stream",
     "text": [
      "                                                                                           \r"
     ]
    },
    {
     "name": "stdout",
     "output_type": "stream",
     "text": [
      "Epoch: 347 | Train Loss: 0.011995 | Train Acc: 0.998299 | Train F1: 0.998279 | Valid Loss: 1.275874 | Valid Acc: 0.680272 | Valid F1: 0.563028 | LR: 1.20e-05\n"
     ]
    },
    {
     "name": "stderr",
     "output_type": "stream",
     "text": [
      "                                                                                           \r"
     ]
    },
    {
     "name": "stdout",
     "output_type": "stream",
     "text": [
      "Epoch: 348 | Train Loss: 0.001787 | Train Acc: 1.000000 | Train F1: 1.000000 | Valid Loss: 1.293776 | Valid Acc: 0.693878 | Valid F1: 0.600827 | LR: 1.20e-05\n"
     ]
    },
    {
     "name": "stderr",
     "output_type": "stream",
     "text": [
      "                                                                                           \r"
     ]
    },
    {
     "name": "stdout",
     "output_type": "stream",
     "text": [
      "Epoch: 349 | Train Loss: 0.013186 | Train Acc: 0.994898 | Train F1: 0.994869 | Valid Loss: 1.218784 | Valid Acc: 0.659864 | Valid F1: 0.623005 | LR: 1.20e-05\n"
     ]
    },
    {
     "name": "stderr",
     "output_type": "stream",
     "text": [
      "                                                                                           \r"
     ]
    },
    {
     "name": "stdout",
     "output_type": "stream",
     "text": [
      "Epoch: 350 | Train Loss: 0.016192 | Train Acc: 0.998299 | Train F1: 0.998279 | Valid Loss: 1.027930 | Valid Acc: 0.659864 | Valid F1: 0.571462 | LR: 1.19e-05\n"
     ]
    },
    {
     "name": "stderr",
     "output_type": "stream",
     "text": [
      "                                                                                           \r"
     ]
    },
    {
     "name": "stdout",
     "output_type": "stream",
     "text": [
      "Epoch: 351 | Train Loss: 0.006772 | Train Acc: 0.998299 | Train F1: 0.998192 | Valid Loss: 1.055084 | Valid Acc: 0.693878 | Valid F1: 0.629100 | LR: 1.19e-05\n"
     ]
    },
    {
     "name": "stderr",
     "output_type": "stream",
     "text": [
      "                                                                                           \r"
     ]
    },
    {
     "name": "stdout",
     "output_type": "stream",
     "text": [
      "Epoch: 352 | Train Loss: 0.008327 | Train Acc: 0.998299 | Train F1: 0.998319 | Valid Loss: 0.876618 | Valid Acc: 0.680272 | Valid F1: 0.634626 | LR: 1.19e-05\n"
     ]
    },
    {
     "name": "stderr",
     "output_type": "stream",
     "text": [
      "                                                                                           \r"
     ]
    },
    {
     "name": "stdout",
     "output_type": "stream",
     "text": [
      "Epoch: 353 | Train Loss: 0.003254 | Train Acc: 1.000000 | Train F1: 1.000000 | Valid Loss: 0.986951 | Valid Acc: 0.700680 | Valid F1: 0.636533 | LR: 1.19e-05\n"
     ]
    },
    {
     "name": "stderr",
     "output_type": "stream",
     "text": [
      "                                                                                           \r"
     ]
    },
    {
     "name": "stdout",
     "output_type": "stream",
     "text": [
      "Epoch: 354 | Train Loss: 0.002386 | Train Acc: 1.000000 | Train F1: 1.000000 | Valid Loss: 0.975046 | Valid Acc: 0.680272 | Valid F1: 0.553446 | LR: 1.18e-05\n"
     ]
    },
    {
     "name": "stderr",
     "output_type": "stream",
     "text": [
      "                                                                                           \r"
     ]
    },
    {
     "name": "stdout",
     "output_type": "stream",
     "text": [
      "Epoch: 355 | Train Loss: 0.002562 | Train Acc: 1.000000 | Train F1: 1.000000 | Valid Loss: 0.969101 | Valid Acc: 0.653061 | Valid F1: 0.536077 | LR: 1.18e-05\n"
     ]
    },
    {
     "name": "stderr",
     "output_type": "stream",
     "text": [
      "                                                                                           \r"
     ]
    },
    {
     "name": "stdout",
     "output_type": "stream",
     "text": [
      "Epoch: 356 | Train Loss: 0.001930 | Train Acc: 1.000000 | Train F1: 1.000000 | Valid Loss: 1.086022 | Valid Acc: 0.693878 | Valid F1: 0.566851 | LR: 1.18e-05\n"
     ]
    },
    {
     "name": "stderr",
     "output_type": "stream",
     "text": [
      "                                                                                           \r"
     ]
    },
    {
     "name": "stdout",
     "output_type": "stream",
     "text": [
      "Epoch: 357 | Train Loss: 0.002139 | Train Acc: 1.000000 | Train F1: 1.000000 | Valid Loss: 0.862609 | Valid Acc: 0.700680 | Valid F1: 0.565517 | LR: 1.18e-05\n"
     ]
    },
    {
     "name": "stderr",
     "output_type": "stream",
     "text": [
      "                                                                                           \r"
     ]
    },
    {
     "name": "stdout",
     "output_type": "stream",
     "text": [
      "Epoch: 358 | Train Loss: 0.002015 | Train Acc: 1.000000 | Train F1: 1.000000 | Valid Loss: 0.973752 | Valid Acc: 0.666667 | Valid F1: 0.550014 | LR: 1.17e-05\n"
     ]
    },
    {
     "name": "stderr",
     "output_type": "stream",
     "text": [
      "                                                                                           \r"
     ]
    },
    {
     "name": "stdout",
     "output_type": "stream",
     "text": [
      "Epoch: 359 | Train Loss: 0.002432 | Train Acc: 1.000000 | Train F1: 1.000000 | Valid Loss: 1.065617 | Valid Acc: 0.673469 | Valid F1: 0.547644 | LR: 1.17e-05\n"
     ]
    },
    {
     "name": "stderr",
     "output_type": "stream",
     "text": [
      "                                                                                           \r"
     ]
    },
    {
     "name": "stdout",
     "output_type": "stream",
     "text": [
      "Epoch: 360 | Train Loss: 0.002407 | Train Acc: 1.000000 | Train F1: 1.000000 | Valid Loss: 1.129603 | Valid Acc: 0.653061 | Valid F1: 0.540936 | LR: 1.17e-05\n"
     ]
    },
    {
     "name": "stderr",
     "output_type": "stream",
     "text": [
      "                                                                                           \r"
     ]
    },
    {
     "name": "stdout",
     "output_type": "stream",
     "text": [
      "Epoch: 361 | Train Loss: 0.001604 | Train Acc: 1.000000 | Train F1: 1.000000 | Valid Loss: 0.994182 | Valid Acc: 0.673469 | Valid F1: 0.549157 | LR: 1.17e-05\n"
     ]
    },
    {
     "name": "stderr",
     "output_type": "stream",
     "text": [
      "                                                                                           \r"
     ]
    },
    {
     "name": "stdout",
     "output_type": "stream",
     "text": [
      "Epoch: 362 | Train Loss: 0.001146 | Train Acc: 1.000000 | Train F1: 1.000000 | Valid Loss: 1.168552 | Valid Acc: 0.693878 | Valid F1: 0.575813 | LR: 1.16e-05\n"
     ]
    },
    {
     "name": "stderr",
     "output_type": "stream",
     "text": [
      "                                                                                           \r"
     ]
    },
    {
     "name": "stdout",
     "output_type": "stream",
     "text": [
      "Epoch: 363 | Train Loss: 0.002381 | Train Acc: 1.000000 | Train F1: 1.000000 | Valid Loss: 1.130312 | Valid Acc: 0.680272 | Valid F1: 0.567910 | LR: 1.16e-05\n"
     ]
    },
    {
     "name": "stderr",
     "output_type": "stream",
     "text": [
      "                                                                                           \r"
     ]
    },
    {
     "name": "stdout",
     "output_type": "stream",
     "text": [
      "Epoch: 364 | Train Loss: 0.001364 | Train Acc: 1.000000 | Train F1: 1.000000 | Valid Loss: 0.989994 | Valid Acc: 0.707483 | Valid F1: 0.588254 | LR: 1.16e-05\n"
     ]
    },
    {
     "name": "stderr",
     "output_type": "stream",
     "text": [
      "                                                                                           \r"
     ]
    },
    {
     "name": "stdout",
     "output_type": "stream",
     "text": [
      "Epoch: 365 | Train Loss: 0.012417 | Train Acc: 0.998299 | Train F1: 0.996139 | Valid Loss: 1.088988 | Valid Acc: 0.707483 | Valid F1: 0.633028 | LR: 1.16e-05\n"
     ]
    },
    {
     "name": "stderr",
     "output_type": "stream",
     "text": [
      "                                                                                           \r"
     ]
    },
    {
     "name": "stdout",
     "output_type": "stream",
     "text": [
      "Epoch: 366 | Train Loss: 0.001585 | Train Acc: 1.000000 | Train F1: 1.000000 | Valid Loss: 1.079515 | Valid Acc: 0.646259 | Valid F1: 0.531368 | LR: 1.15e-05\n"
     ]
    },
    {
     "name": "stderr",
     "output_type": "stream",
     "text": [
      "                                                                                           \r"
     ]
    },
    {
     "name": "stdout",
     "output_type": "stream",
     "text": [
      "Epoch: 367 | Train Loss: 0.008477 | Train Acc: 1.000000 | Train F1: 1.000000 | Valid Loss: 1.078772 | Valid Acc: 0.659864 | Valid F1: 0.550683 | LR: 1.15e-05\n"
     ]
    },
    {
     "name": "stderr",
     "output_type": "stream",
     "text": [
      "                                                                                           \r"
     ]
    },
    {
     "name": "stdout",
     "output_type": "stream",
     "text": [
      "Epoch: 368 | Train Loss: 0.003212 | Train Acc: 1.000000 | Train F1: 1.000000 | Valid Loss: 0.948225 | Valid Acc: 0.659864 | Valid F1: 0.545283 | LR: 1.15e-05\n"
     ]
    },
    {
     "name": "stderr",
     "output_type": "stream",
     "text": [
      "                                                                                           \r"
     ]
    },
    {
     "name": "stdout",
     "output_type": "stream",
     "text": [
      "Epoch: 369 | Train Loss: 0.004925 | Train Acc: 1.000000 | Train F1: 1.000000 | Valid Loss: 1.047324 | Valid Acc: 0.646259 | Valid F1: 0.535037 | LR: 1.14e-05\n"
     ]
    },
    {
     "name": "stderr",
     "output_type": "stream",
     "text": [
      "                                                                                           \r"
     ]
    },
    {
     "name": "stdout",
     "output_type": "stream",
     "text": [
      "Epoch: 370 | Train Loss: 0.001816 | Train Acc: 1.000000 | Train F1: 1.000000 | Valid Loss: 1.002925 | Valid Acc: 0.659864 | Valid F1: 0.544506 | LR: 1.14e-05\n"
     ]
    },
    {
     "name": "stderr",
     "output_type": "stream",
     "text": [
      "                                                                                           \r"
     ]
    },
    {
     "name": "stdout",
     "output_type": "stream",
     "text": [
      "Epoch: 371 | Train Loss: 0.004482 | Train Acc: 1.000000 | Train F1: 1.000000 | Valid Loss: 1.163466 | Valid Acc: 0.687075 | Valid F1: 0.589791 | LR: 1.14e-05\n"
     ]
    },
    {
     "name": "stderr",
     "output_type": "stream",
     "text": [
      "                                                                                           \r"
     ]
    },
    {
     "name": "stdout",
     "output_type": "stream",
     "text": [
      "Epoch: 372 | Train Loss: 0.001512 | Train Acc: 1.000000 | Train F1: 1.000000 | Valid Loss: 1.047515 | Valid Acc: 0.666667 | Valid F1: 0.540247 | LR: 1.13e-05\n"
     ]
    },
    {
     "name": "stderr",
     "output_type": "stream",
     "text": [
      "                                                                                           \r"
     ]
    },
    {
     "name": "stdout",
     "output_type": "stream",
     "text": [
      "Epoch: 373 | Train Loss: 0.002904 | Train Acc: 1.000000 | Train F1: 1.000000 | Valid Loss: 1.196755 | Valid Acc: 0.666667 | Valid F1: 0.546983 | LR: 1.13e-05\n"
     ]
    },
    {
     "name": "stderr",
     "output_type": "stream",
     "text": [
      "                                                                                           \r"
     ]
    },
    {
     "name": "stdout",
     "output_type": "stream",
     "text": [
      "Epoch: 374 | Train Loss: 0.001800 | Train Acc: 1.000000 | Train F1: 1.000000 | Valid Loss: 1.299807 | Valid Acc: 0.653061 | Valid F1: 0.534934 | LR: 1.13e-05\n"
     ]
    },
    {
     "name": "stderr",
     "output_type": "stream",
     "text": [
      "                                                                                           \r"
     ]
    },
    {
     "name": "stdout",
     "output_type": "stream",
     "text": [
      "Epoch: 375 | Train Loss: 0.001373 | Train Acc: 1.000000 | Train F1: 1.000000 | Valid Loss: 0.996727 | Valid Acc: 0.700680 | Valid F1: 0.627460 | LR: 1.12e-05\n"
     ]
    },
    {
     "name": "stderr",
     "output_type": "stream",
     "text": [
      "                                                                                           \r"
     ]
    },
    {
     "name": "stdout",
     "output_type": "stream",
     "text": [
      "Epoch: 376 | Train Loss: 0.002534 | Train Acc: 1.000000 | Train F1: 1.000000 | Valid Loss: 1.055926 | Valid Acc: 0.687075 | Valid F1: 0.597813 | LR: 1.12e-05\n"
     ]
    },
    {
     "name": "stderr",
     "output_type": "stream",
     "text": [
      "                                                                                           \r"
     ]
    },
    {
     "name": "stdout",
     "output_type": "stream",
     "text": [
      "Epoch: 377 | Train Loss: 0.001533 | Train Acc: 1.000000 | Train F1: 1.000000 | Valid Loss: 1.018488 | Valid Acc: 0.680272 | Valid F1: 0.570277 | LR: 1.12e-05\n"
     ]
    },
    {
     "name": "stderr",
     "output_type": "stream",
     "text": [
      "                                                                                           \r"
     ]
    },
    {
     "name": "stdout",
     "output_type": "stream",
     "text": [
      "Epoch: 378 | Train Loss: 0.001224 | Train Acc: 1.000000 | Train F1: 1.000000 | Valid Loss: 1.011469 | Valid Acc: 0.707483 | Valid F1: 0.593361 | LR: 1.11e-05\n"
     ]
    },
    {
     "name": "stderr",
     "output_type": "stream",
     "text": [
      "                                                                                           \r"
     ]
    },
    {
     "name": "stdout",
     "output_type": "stream",
     "text": [
      "Epoch: 379 | Train Loss: 0.001971 | Train Acc: 1.000000 | Train F1: 1.000000 | Valid Loss: 1.211846 | Valid Acc: 0.666667 | Valid F1: 0.611000 | LR: 1.11e-05\n"
     ]
    },
    {
     "name": "stderr",
     "output_type": "stream",
     "text": [
      "                                                                                           \r"
     ]
    },
    {
     "name": "stdout",
     "output_type": "stream",
     "text": [
      "Epoch: 380 | Train Loss: 0.001781 | Train Acc: 1.000000 | Train F1: 1.000000 | Valid Loss: 1.004072 | Valid Acc: 0.673469 | Valid F1: 0.556490 | LR: 1.11e-05\n"
     ]
    },
    {
     "name": "stderr",
     "output_type": "stream",
     "text": [
      "                                                                                           \r"
     ]
    },
    {
     "name": "stdout",
     "output_type": "stream",
     "text": [
      "Epoch: 381 | Train Loss: 0.001021 | Train Acc: 1.000000 | Train F1: 1.000000 | Valid Loss: 0.975016 | Valid Acc: 0.653061 | Valid F1: 0.520599 | LR: 1.10e-05\n"
     ]
    },
    {
     "name": "stderr",
     "output_type": "stream",
     "text": [
      "                                                                                           \r"
     ]
    },
    {
     "name": "stdout",
     "output_type": "stream",
     "text": [
      "Epoch: 382 | Train Loss: 0.001258 | Train Acc: 1.000000 | Train F1: 1.000000 | Valid Loss: 1.067512 | Valid Acc: 0.659864 | Valid F1: 0.539922 | LR: 1.10e-05\n"
     ]
    },
    {
     "name": "stderr",
     "output_type": "stream",
     "text": [
      "                                                                                           \r"
     ]
    },
    {
     "name": "stdout",
     "output_type": "stream",
     "text": [
      "Epoch: 383 | Train Loss: 0.000882 | Train Acc: 1.000000 | Train F1: 1.000000 | Valid Loss: 0.965278 | Valid Acc: 0.680272 | Valid F1: 0.558279 | LR: 1.10e-05\n"
     ]
    },
    {
     "name": "stderr",
     "output_type": "stream",
     "text": [
      "                                                                                           \r"
     ]
    },
    {
     "name": "stdout",
     "output_type": "stream",
     "text": [
      "Epoch: 384 | Train Loss: 0.001329 | Train Acc: 1.000000 | Train F1: 1.000000 | Valid Loss: 0.950720 | Valid Acc: 0.673469 | Valid F1: 0.548767 | LR: 1.09e-05\n"
     ]
    },
    {
     "name": "stderr",
     "output_type": "stream",
     "text": [
      "                                                                                           \r"
     ]
    },
    {
     "name": "stdout",
     "output_type": "stream",
     "text": [
      "Epoch: 385 | Train Loss: 0.001355 | Train Acc: 1.000000 | Train F1: 1.000000 | Valid Loss: 1.074280 | Valid Acc: 0.666667 | Valid F1: 0.562980 | LR: 1.09e-05\n"
     ]
    },
    {
     "name": "stderr",
     "output_type": "stream",
     "text": [
      "                                                                                           \r"
     ]
    },
    {
     "name": "stdout",
     "output_type": "stream",
     "text": [
      "Epoch: 386 | Train Loss: 0.001538 | Train Acc: 1.000000 | Train F1: 1.000000 | Valid Loss: 1.213209 | Valid Acc: 0.680272 | Valid F1: 0.562178 | LR: 1.09e-05\n"
     ]
    },
    {
     "name": "stderr",
     "output_type": "stream",
     "text": [
      "                                                                                           \r"
     ]
    },
    {
     "name": "stdout",
     "output_type": "stream",
     "text": [
      "Epoch: 387 | Train Loss: 0.001070 | Train Acc: 1.000000 | Train F1: 1.000000 | Valid Loss: 0.868795 | Valid Acc: 0.700680 | Valid F1: 0.572776 | LR: 1.08e-05\n"
     ]
    },
    {
     "name": "stderr",
     "output_type": "stream",
     "text": [
      "                                                                                           \r"
     ]
    },
    {
     "name": "stdout",
     "output_type": "stream",
     "text": [
      "Epoch: 388 | Train Loss: 0.000980 | Train Acc: 1.000000 | Train F1: 1.000000 | Valid Loss: 1.152257 | Valid Acc: 0.680272 | Valid F1: 0.544099 | LR: 1.08e-05\n"
     ]
    },
    {
     "name": "stderr",
     "output_type": "stream",
     "text": [
      "                                                                                           \r"
     ]
    },
    {
     "name": "stdout",
     "output_type": "stream",
     "text": [
      "Epoch: 389 | Train Loss: 0.000762 | Train Acc: 1.000000 | Train F1: 1.000000 | Valid Loss: 0.943874 | Valid Acc: 0.666667 | Valid F1: 0.547112 | LR: 1.07e-05\n"
     ]
    },
    {
     "name": "stderr",
     "output_type": "stream",
     "text": [
      "                                                                                           \r"
     ]
    },
    {
     "name": "stdout",
     "output_type": "stream",
     "text": [
      "Epoch: 390 | Train Loss: 0.000947 | Train Acc: 1.000000 | Train F1: 1.000000 | Valid Loss: 1.024478 | Valid Acc: 0.659864 | Valid F1: 0.540669 | LR: 1.07e-05\n"
     ]
    },
    {
     "name": "stderr",
     "output_type": "stream",
     "text": [
      "                                                                                           \r"
     ]
    },
    {
     "name": "stdout",
     "output_type": "stream",
     "text": [
      "Epoch: 391 | Train Loss: 0.000887 | Train Acc: 1.000000 | Train F1: 1.000000 | Valid Loss: 1.072077 | Valid Acc: 0.673469 | Valid F1: 0.556755 | LR: 1.07e-05\n"
     ]
    },
    {
     "name": "stderr",
     "output_type": "stream",
     "text": [
      "                                                                                           \r"
     ]
    },
    {
     "name": "stdout",
     "output_type": "stream",
     "text": [
      "Epoch: 392 | Train Loss: 0.001208 | Train Acc: 1.000000 | Train F1: 1.000000 | Valid Loss: 1.246351 | Valid Acc: 0.673469 | Valid F1: 0.561737 | LR: 1.06e-05\n"
     ]
    },
    {
     "name": "stderr",
     "output_type": "stream",
     "text": [
      "                                                                                           \r"
     ]
    },
    {
     "name": "stdout",
     "output_type": "stream",
     "text": [
      "Epoch: 393 | Train Loss: 0.001559 | Train Acc: 1.000000 | Train F1: 1.000000 | Valid Loss: 1.155020 | Valid Acc: 0.680272 | Valid F1: 0.567126 | LR: 1.06e-05\n"
     ]
    },
    {
     "name": "stderr",
     "output_type": "stream",
     "text": [
      "                                                                                           \r"
     ]
    },
    {
     "name": "stdout",
     "output_type": "stream",
     "text": [
      "Epoch: 394 | Train Loss: 0.001370 | Train Acc: 1.000000 | Train F1: 1.000000 | Valid Loss: 0.948091 | Valid Acc: 0.666667 | Valid F1: 0.525715 | LR: 1.06e-05\n"
     ]
    },
    {
     "name": "stderr",
     "output_type": "stream",
     "text": [
      "                                                                                           \r"
     ]
    },
    {
     "name": "stdout",
     "output_type": "stream",
     "text": [
      "Epoch: 395 | Train Loss: 0.000715 | Train Acc: 1.000000 | Train F1: 1.000000 | Valid Loss: 0.870682 | Valid Acc: 0.693878 | Valid F1: 0.564924 | LR: 1.05e-05\n"
     ]
    },
    {
     "name": "stderr",
     "output_type": "stream",
     "text": [
      "                                                                                           \r"
     ]
    },
    {
     "name": "stdout",
     "output_type": "stream",
     "text": [
      "Epoch: 396 | Train Loss: 0.001994 | Train Acc: 1.000000 | Train F1: 1.000000 | Valid Loss: 1.116437 | Valid Acc: 0.680272 | Valid F1: 0.542305 | LR: 1.05e-05\n"
     ]
    },
    {
     "name": "stderr",
     "output_type": "stream",
     "text": [
      "                                                                                           \r"
     ]
    },
    {
     "name": "stdout",
     "output_type": "stream",
     "text": [
      "Epoch: 397 | Train Loss: 0.000946 | Train Acc: 1.000000 | Train F1: 1.000000 | Valid Loss: 0.979589 | Valid Acc: 0.666667 | Valid F1: 0.553388 | LR: 1.04e-05\n"
     ]
    },
    {
     "name": "stderr",
     "output_type": "stream",
     "text": [
      "                                                                                           \r"
     ]
    },
    {
     "name": "stdout",
     "output_type": "stream",
     "text": [
      "Epoch: 398 | Train Loss: 0.000874 | Train Acc: 1.000000 | Train F1: 1.000000 | Valid Loss: 1.158599 | Valid Acc: 0.707483 | Valid F1: 0.598134 | LR: 1.04e-05\n"
     ]
    },
    {
     "name": "stderr",
     "output_type": "stream",
     "text": [
      "                                                                                           \r"
     ]
    },
    {
     "name": "stdout",
     "output_type": "stream",
     "text": [
      "Epoch: 399 | Train Loss: 0.001060 | Train Acc: 1.000000 | Train F1: 1.000000 | Valid Loss: 1.073772 | Valid Acc: 0.693878 | Valid F1: 0.576113 | LR: 1.04e-05\n"
     ]
    },
    {
     "name": "stderr",
     "output_type": "stream",
     "text": [
      "                                                                                           \r"
     ]
    },
    {
     "name": "stdout",
     "output_type": "stream",
     "text": [
      "Epoch: 400 | Train Loss: 0.001644 | Train Acc: 1.000000 | Train F1: 1.000000 | Valid Loss: 1.169333 | Valid Acc: 0.653061 | Valid F1: 0.529214 | LR: 1.03e-05\n"
     ]
    },
    {
     "name": "stderr",
     "output_type": "stream",
     "text": [
      "                                                                                           \r"
     ]
    },
    {
     "name": "stdout",
     "output_type": "stream",
     "text": [
      "Epoch: 401 | Train Loss: 0.000769 | Train Acc: 1.000000 | Train F1: 1.000000 | Valid Loss: 1.335211 | Valid Acc: 0.673469 | Valid F1: 0.578824 | LR: 1.03e-05\n"
     ]
    },
    {
     "name": "stderr",
     "output_type": "stream",
     "text": [
      "                                                                                           \r"
     ]
    },
    {
     "name": "stdout",
     "output_type": "stream",
     "text": [
      "Epoch: 402 | Train Loss: 0.000557 | Train Acc: 1.000000 | Train F1: 1.000000 | Valid Loss: 1.139644 | Valid Acc: 0.659864 | Valid F1: 0.539848 | LR: 1.02e-05\n"
     ]
    },
    {
     "name": "stderr",
     "output_type": "stream",
     "text": [
      "                                                                                           \r"
     ]
    },
    {
     "name": "stdout",
     "output_type": "stream",
     "text": [
      "Epoch: 403 | Train Loss: 0.000772 | Train Acc: 1.000000 | Train F1: 1.000000 | Valid Loss: 1.111982 | Valid Acc: 0.673469 | Valid F1: 0.566297 | LR: 1.02e-05\n"
     ]
    },
    {
     "name": "stderr",
     "output_type": "stream",
     "text": [
      "                                                                                           \r"
     ]
    },
    {
     "name": "stdout",
     "output_type": "stream",
     "text": [
      "Epoch: 404 | Train Loss: 0.000648 | Train Acc: 1.000000 | Train F1: 1.000000 | Valid Loss: 1.043655 | Valid Acc: 0.693878 | Valid F1: 0.622785 | LR: 1.01e-05\n"
     ]
    },
    {
     "name": "stderr",
     "output_type": "stream",
     "text": [
      "                                                                                           \r"
     ]
    },
    {
     "name": "stdout",
     "output_type": "stream",
     "text": [
      "Epoch: 405 | Train Loss: 0.001007 | Train Acc: 1.000000 | Train F1: 1.000000 | Valid Loss: 1.031541 | Valid Acc: 0.673469 | Valid F1: 0.577976 | LR: 1.01e-05\n"
     ]
    },
    {
     "name": "stderr",
     "output_type": "stream",
     "text": [
      "                                                                                           \r"
     ]
    },
    {
     "name": "stdout",
     "output_type": "stream",
     "text": [
      "Epoch: 406 | Train Loss: 0.000385 | Train Acc: 1.000000 | Train F1: 1.000000 | Valid Loss: 1.135957 | Valid Acc: 0.680272 | Valid F1: 0.553310 | LR: 1.01e-05\n"
     ]
    },
    {
     "name": "stderr",
     "output_type": "stream",
     "text": [
      "                                                                                           \r"
     ]
    },
    {
     "name": "stdout",
     "output_type": "stream",
     "text": [
      "Epoch: 407 | Train Loss: 0.000427 | Train Acc: 1.000000 | Train F1: 1.000000 | Valid Loss: 0.986578 | Valid Acc: 0.659864 | Valid F1: 0.536134 | LR: 1.00e-05\n"
     ]
    },
    {
     "name": "stderr",
     "output_type": "stream",
     "text": [
      "                                                                                           \r"
     ]
    },
    {
     "name": "stdout",
     "output_type": "stream",
     "text": [
      "Epoch: 408 | Train Loss: 0.002226 | Train Acc: 1.000000 | Train F1: 1.000000 | Valid Loss: 1.097165 | Valid Acc: 0.666667 | Valid F1: 0.553161 | LR: 9.97e-06\n"
     ]
    },
    {
     "name": "stderr",
     "output_type": "stream",
     "text": [
      "                                                                                           \r"
     ]
    },
    {
     "name": "stdout",
     "output_type": "stream",
     "text": [
      "Epoch: 409 | Train Loss: 0.000969 | Train Acc: 1.000000 | Train F1: 1.000000 | Valid Loss: 1.045605 | Valid Acc: 0.666667 | Valid F1: 0.548180 | LR: 9.92e-06\n"
     ]
    },
    {
     "name": "stderr",
     "output_type": "stream",
     "text": [
      "                                                                                           \r"
     ]
    },
    {
     "name": "stdout",
     "output_type": "stream",
     "text": [
      "Epoch: 410 | Train Loss: 0.000521 | Train Acc: 1.000000 | Train F1: 1.000000 | Valid Loss: 1.170036 | Valid Acc: 0.680272 | Valid F1: 0.564804 | LR: 9.88e-06\n"
     ]
    },
    {
     "name": "stderr",
     "output_type": "stream",
     "text": [
      "                                                                                           \r"
     ]
    },
    {
     "name": "stdout",
     "output_type": "stream",
     "text": [
      "Epoch: 411 | Train Loss: 0.000689 | Train Acc: 1.000000 | Train F1: 1.000000 | Valid Loss: 1.044401 | Valid Acc: 0.653061 | Valid F1: 0.528378 | LR: 9.83e-06\n"
     ]
    },
    {
     "name": "stderr",
     "output_type": "stream",
     "text": [
      "                                                                                           \r"
     ]
    },
    {
     "name": "stdout",
     "output_type": "stream",
     "text": [
      "Epoch: 412 | Train Loss: 0.001184 | Train Acc: 1.000000 | Train F1: 1.000000 | Valid Loss: 0.992068 | Valid Acc: 0.653061 | Valid F1: 0.548362 | LR: 9.79e-06\n"
     ]
    },
    {
     "name": "stderr",
     "output_type": "stream",
     "text": [
      "                                                                                           \r"
     ]
    },
    {
     "name": "stdout",
     "output_type": "stream",
     "text": [
      "Epoch: 413 | Train Loss: 0.001634 | Train Acc: 1.000000 | Train F1: 1.000000 | Valid Loss: 1.131248 | Valid Acc: 0.646259 | Valid F1: 0.533698 | LR: 9.74e-06\n"
     ]
    },
    {
     "name": "stderr",
     "output_type": "stream",
     "text": [
      "                                                                                           \r"
     ]
    },
    {
     "name": "stdout",
     "output_type": "stream",
     "text": [
      "Epoch: 414 | Train Loss: 0.000724 | Train Acc: 1.000000 | Train F1: 1.000000 | Valid Loss: 1.104856 | Valid Acc: 0.646259 | Valid F1: 0.546795 | LR: 9.70e-06\n"
     ]
    },
    {
     "name": "stderr",
     "output_type": "stream",
     "text": [
      "                                                                                           \r"
     ]
    },
    {
     "name": "stdout",
     "output_type": "stream",
     "text": [
      "Epoch: 415 | Train Loss: 0.001442 | Train Acc: 1.000000 | Train F1: 1.000000 | Valid Loss: 1.157563 | Valid Acc: 0.646259 | Valid F1: 0.536974 | LR: 9.65e-06\n"
     ]
    },
    {
     "name": "stderr",
     "output_type": "stream",
     "text": [
      "                                                                                           \r"
     ]
    },
    {
     "name": "stdout",
     "output_type": "stream",
     "text": [
      "Epoch: 416 | Train Loss: 0.000927 | Train Acc: 1.000000 | Train F1: 1.000000 | Valid Loss: 0.964730 | Valid Acc: 0.666667 | Valid F1: 0.566741 | LR: 9.61e-06\n"
     ]
    },
    {
     "name": "stderr",
     "output_type": "stream",
     "text": [
      "                                                                                           \r"
     ]
    },
    {
     "name": "stdout",
     "output_type": "stream",
     "text": [
      "Epoch: 417 | Train Loss: 0.000972 | Train Acc: 1.000000 | Train F1: 1.000000 | Valid Loss: 1.183819 | Valid Acc: 0.666667 | Valid F1: 0.594590 | LR: 9.56e-06\n"
     ]
    },
    {
     "name": "stderr",
     "output_type": "stream",
     "text": [
      "                                                                                           \r"
     ]
    },
    {
     "name": "stdout",
     "output_type": "stream",
     "text": [
      "Epoch: 418 | Train Loss: 0.002147 | Train Acc: 1.000000 | Train F1: 1.000000 | Valid Loss: 1.115025 | Valid Acc: 0.666667 | Valid F1: 0.562604 | LR: 9.52e-06\n"
     ]
    },
    {
     "name": "stderr",
     "output_type": "stream",
     "text": [
      "                                                                                           \r"
     ]
    },
    {
     "name": "stdout",
     "output_type": "stream",
     "text": [
      "Epoch: 419 | Train Loss: 0.000763 | Train Acc: 1.000000 | Train F1: 1.000000 | Valid Loss: 1.192238 | Valid Acc: 0.666667 | Valid F1: 0.541564 | LR: 9.47e-06\n"
     ]
    },
    {
     "name": "stderr",
     "output_type": "stream",
     "text": [
      "                                                                                           \r"
     ]
    },
    {
     "name": "stdout",
     "output_type": "stream",
     "text": [
      "Epoch: 420 | Train Loss: 0.000581 | Train Acc: 1.000000 | Train F1: 1.000000 | Valid Loss: 1.252811 | Valid Acc: 0.639456 | Valid F1: 0.537894 | LR: 9.42e-06\n"
     ]
    },
    {
     "name": "stderr",
     "output_type": "stream",
     "text": [
      "                                                                                           \r"
     ]
    },
    {
     "name": "stdout",
     "output_type": "stream",
     "text": [
      "Epoch: 421 | Train Loss: 0.000771 | Train Acc: 1.000000 | Train F1: 1.000000 | Valid Loss: 1.098871 | Valid Acc: 0.673469 | Valid F1: 0.575565 | LR: 9.38e-06\n"
     ]
    },
    {
     "name": "stderr",
     "output_type": "stream",
     "text": [
      "                                                                                           \r"
     ]
    },
    {
     "name": "stdout",
     "output_type": "stream",
     "text": [
      "Epoch: 422 | Train Loss: 0.000991 | Train Acc: 1.000000 | Train F1: 1.000000 | Valid Loss: 1.210063 | Valid Acc: 0.659864 | Valid F1: 0.575748 | LR: 9.33e-06\n"
     ]
    },
    {
     "name": "stderr",
     "output_type": "stream",
     "text": [
      "                                                                                           \r"
     ]
    },
    {
     "name": "stdout",
     "output_type": "stream",
     "text": [
      "Epoch: 423 | Train Loss: 0.000481 | Train Acc: 1.000000 | Train F1: 1.000000 | Valid Loss: 1.261666 | Valid Acc: 0.666667 | Valid F1: 0.558444 | LR: 9.28e-06\n"
     ]
    },
    {
     "name": "stderr",
     "output_type": "stream",
     "text": [
      "                                                                                           \r"
     ]
    },
    {
     "name": "stdout",
     "output_type": "stream",
     "text": [
      "Epoch: 424 | Train Loss: 0.000801 | Train Acc: 1.000000 | Train F1: 1.000000 | Valid Loss: 1.282734 | Valid Acc: 0.659864 | Valid F1: 0.550476 | LR: 9.23e-06\n"
     ]
    },
    {
     "name": "stderr",
     "output_type": "stream",
     "text": [
      "                                                                                           \r"
     ]
    },
    {
     "name": "stdout",
     "output_type": "stream",
     "text": [
      "Epoch: 425 | Train Loss: 0.001956 | Train Acc: 1.000000 | Train F1: 1.000000 | Valid Loss: 1.035262 | Valid Acc: 0.659864 | Valid F1: 0.563418 | LR: 9.18e-06\n"
     ]
    },
    {
     "name": "stderr",
     "output_type": "stream",
     "text": [
      "                                                                                           \r"
     ]
    },
    {
     "name": "stdout",
     "output_type": "stream",
     "text": [
      "Epoch: 426 | Train Loss: 0.000750 | Train Acc: 1.000000 | Train F1: 1.000000 | Valid Loss: 1.163028 | Valid Acc: 0.680272 | Valid F1: 0.570949 | LR: 9.14e-06\n"
     ]
    },
    {
     "name": "stderr",
     "output_type": "stream",
     "text": [
      "                                                                                           \r"
     ]
    },
    {
     "name": "stdout",
     "output_type": "stream",
     "text": [
      "Epoch: 427 | Train Loss: 0.000862 | Train Acc: 1.000000 | Train F1: 1.000000 | Valid Loss: 1.136268 | Valid Acc: 0.666667 | Valid F1: 0.574698 | LR: 9.09e-06\n"
     ]
    },
    {
     "name": "stderr",
     "output_type": "stream",
     "text": [
      "                                                                                           \r"
     ]
    },
    {
     "name": "stdout",
     "output_type": "stream",
     "text": [
      "Epoch: 428 | Train Loss: 0.000598 | Train Acc: 1.000000 | Train F1: 1.000000 | Valid Loss: 1.046446 | Valid Acc: 0.659864 | Valid F1: 0.551749 | LR: 9.04e-06\n"
     ]
    },
    {
     "name": "stderr",
     "output_type": "stream",
     "text": [
      "                                                                                           \r"
     ]
    },
    {
     "name": "stdout",
     "output_type": "stream",
     "text": [
      "Epoch: 429 | Train Loss: 0.002081 | Train Acc: 1.000000 | Train F1: 1.000000 | Valid Loss: 1.070402 | Valid Acc: 0.659864 | Valid F1: 0.558789 | LR: 8.99e-06\n"
     ]
    },
    {
     "name": "stderr",
     "output_type": "stream",
     "text": [
      "                                                                                           \r"
     ]
    },
    {
     "name": "stdout",
     "output_type": "stream",
     "text": [
      "Epoch: 430 | Train Loss: 0.000672 | Train Acc: 1.000000 | Train F1: 1.000000 | Valid Loss: 1.050600 | Valid Acc: 0.673469 | Valid F1: 0.564924 | LR: 8.94e-06\n"
     ]
    },
    {
     "name": "stderr",
     "output_type": "stream",
     "text": [
      "                                                                                           \r"
     ]
    },
    {
     "name": "stdout",
     "output_type": "stream",
     "text": [
      "Epoch: 431 | Train Loss: 0.000525 | Train Acc: 1.000000 | Train F1: 1.000000 | Valid Loss: 1.182232 | Valid Acc: 0.646259 | Valid F1: 0.552232 | LR: 8.89e-06\n"
     ]
    },
    {
     "name": "stderr",
     "output_type": "stream",
     "text": [
      "                                                                                           \r"
     ]
    },
    {
     "name": "stdout",
     "output_type": "stream",
     "text": [
      "Epoch: 432 | Train Loss: 0.000608 | Train Acc: 1.000000 | Train F1: 1.000000 | Valid Loss: 1.183615 | Valid Acc: 0.659864 | Valid F1: 0.564891 | LR: 8.84e-06\n"
     ]
    },
    {
     "name": "stderr",
     "output_type": "stream",
     "text": [
      "                                                                                           \r"
     ]
    },
    {
     "name": "stdout",
     "output_type": "stream",
     "text": [
      "Epoch: 433 | Train Loss: 0.000809 | Train Acc: 1.000000 | Train F1: 1.000000 | Valid Loss: 1.239014 | Valid Acc: 0.666667 | Valid F1: 0.570212 | LR: 8.79e-06\n"
     ]
    },
    {
     "name": "stderr",
     "output_type": "stream",
     "text": [
      "                                                                                           \r"
     ]
    },
    {
     "name": "stdout",
     "output_type": "stream",
     "text": [
      "Epoch: 434 | Train Loss: 0.000585 | Train Acc: 1.000000 | Train F1: 1.000000 | Valid Loss: 1.125164 | Valid Acc: 0.666667 | Valid F1: 0.555927 | LR: 8.74e-06\n"
     ]
    },
    {
     "name": "stderr",
     "output_type": "stream",
     "text": [
      "                                                                                           \r"
     ]
    },
    {
     "name": "stdout",
     "output_type": "stream",
     "text": [
      "Epoch: 435 | Train Loss: 0.000536 | Train Acc: 1.000000 | Train F1: 1.000000 | Valid Loss: 1.290590 | Valid Acc: 0.659864 | Valid F1: 0.546432 | LR: 8.69e-06\n"
     ]
    },
    {
     "name": "stderr",
     "output_type": "stream",
     "text": [
      "                                                                                           \r"
     ]
    },
    {
     "name": "stdout",
     "output_type": "stream",
     "text": [
      "Epoch: 436 | Train Loss: 0.000892 | Train Acc: 1.000000 | Train F1: 1.000000 | Valid Loss: 1.061667 | Valid Acc: 0.673469 | Valid F1: 0.558678 | LR: 8.64e-06\n"
     ]
    },
    {
     "name": "stderr",
     "output_type": "stream",
     "text": [
      "                                                                                           \r"
     ]
    },
    {
     "name": "stdout",
     "output_type": "stream",
     "text": [
      "Epoch: 437 | Train Loss: 0.002847 | Train Acc: 1.000000 | Train F1: 1.000000 | Valid Loss: 1.070120 | Valid Acc: 0.659864 | Valid F1: 0.526865 | LR: 8.59e-06\n"
     ]
    },
    {
     "name": "stderr",
     "output_type": "stream",
     "text": [
      "                                                                                           \r"
     ]
    },
    {
     "name": "stdout",
     "output_type": "stream",
     "text": [
      "Epoch: 438 | Train Loss: 0.000775 | Train Acc: 1.000000 | Train F1: 1.000000 | Valid Loss: 1.061224 | Valid Acc: 0.653061 | Valid F1: 0.584810 | LR: 8.54e-06\n"
     ]
    },
    {
     "name": "stderr",
     "output_type": "stream",
     "text": [
      "                                                                                           \r"
     ]
    },
    {
     "name": "stdout",
     "output_type": "stream",
     "text": [
      "Epoch: 439 | Train Loss: 0.000489 | Train Acc: 1.000000 | Train F1: 1.000000 | Valid Loss: 1.176934 | Valid Acc: 0.680272 | Valid F1: 0.580453 | LR: 8.49e-06\n"
     ]
    },
    {
     "name": "stderr",
     "output_type": "stream",
     "text": [
      "                                                                                           \r"
     ]
    },
    {
     "name": "stdout",
     "output_type": "stream",
     "text": [
      "Epoch: 440 | Train Loss: 0.000687 | Train Acc: 1.000000 | Train F1: 1.000000 | Valid Loss: 1.238806 | Valid Acc: 0.666667 | Valid F1: 0.579860 | LR: 8.44e-06\n"
     ]
    },
    {
     "name": "stderr",
     "output_type": "stream",
     "text": [
      "                                                                                           \r"
     ]
    },
    {
     "name": "stdout",
     "output_type": "stream",
     "text": [
      "Epoch: 441 | Train Loss: 0.000651 | Train Acc: 1.000000 | Train F1: 1.000000 | Valid Loss: 1.265020 | Valid Acc: 0.659864 | Valid F1: 0.551786 | LR: 8.39e-06\n"
     ]
    },
    {
     "name": "stderr",
     "output_type": "stream",
     "text": [
      "                                                                                           \r"
     ]
    },
    {
     "name": "stdout",
     "output_type": "stream",
     "text": [
      "Epoch: 442 | Train Loss: 0.000400 | Train Acc: 1.000000 | Train F1: 1.000000 | Valid Loss: 1.200582 | Valid Acc: 0.673469 | Valid F1: 0.562359 | LR: 8.34e-06\n"
     ]
    },
    {
     "name": "stderr",
     "output_type": "stream",
     "text": [
      "                                                                                           \r"
     ]
    },
    {
     "name": "stdout",
     "output_type": "stream",
     "text": [
      "Epoch: 443 | Train Loss: 0.000459 | Train Acc: 1.000000 | Train F1: 1.000000 | Valid Loss: 1.115438 | Valid Acc: 0.646259 | Valid F1: 0.539881 | LR: 8.28e-06\n"
     ]
    },
    {
     "name": "stderr",
     "output_type": "stream",
     "text": [
      "                                                                                           \r"
     ]
    },
    {
     "name": "stdout",
     "output_type": "stream",
     "text": [
      "Epoch: 444 | Train Loss: 0.000569 | Train Acc: 1.000000 | Train F1: 1.000000 | Valid Loss: 1.438334 | Valid Acc: 0.666667 | Valid F1: 0.615004 | LR: 8.23e-06\n"
     ]
    },
    {
     "name": "stderr",
     "output_type": "stream",
     "text": [
      "                                                                                           \r"
     ]
    },
    {
     "name": "stdout",
     "output_type": "stream",
     "text": [
      "Epoch: 445 | Train Loss: 0.001366 | Train Acc: 1.000000 | Train F1: 1.000000 | Valid Loss: 0.971168 | Valid Acc: 0.666667 | Valid F1: 0.556262 | LR: 8.18e-06\n"
     ]
    },
    {
     "name": "stderr",
     "output_type": "stream",
     "text": [
      "                                                                                           \r"
     ]
    },
    {
     "name": "stdout",
     "output_type": "stream",
     "text": [
      "Epoch: 446 | Train Loss: 0.000453 | Train Acc: 1.000000 | Train F1: 1.000000 | Valid Loss: 1.231815 | Valid Acc: 0.653061 | Valid F1: 0.562108 | LR: 8.13e-06\n"
     ]
    },
    {
     "name": "stderr",
     "output_type": "stream",
     "text": [
      "                                                                                           \r"
     ]
    },
    {
     "name": "stdout",
     "output_type": "stream",
     "text": [
      "Epoch: 447 | Train Loss: 0.000777 | Train Acc: 1.000000 | Train F1: 1.000000 | Valid Loss: 1.389075 | Valid Acc: 0.653061 | Valid F1: 0.554706 | LR: 8.08e-06\n"
     ]
    },
    {
     "name": "stderr",
     "output_type": "stream",
     "text": [
      "                                                                                           \r"
     ]
    },
    {
     "name": "stdout",
     "output_type": "stream",
     "text": [
      "Epoch: 448 | Train Loss: 0.001845 | Train Acc: 1.000000 | Train F1: 1.000000 | Valid Loss: 1.293674 | Valid Acc: 0.659864 | Valid F1: 0.567316 | LR: 8.03e-06\n"
     ]
    },
    {
     "name": "stderr",
     "output_type": "stream",
     "text": [
      "                                                                                           \r"
     ]
    },
    {
     "name": "stdout",
     "output_type": "stream",
     "text": [
      "Epoch: 449 | Train Loss: 0.000665 | Train Acc: 1.000000 | Train F1: 1.000000 | Valid Loss: 1.212789 | Valid Acc: 0.653061 | Valid F1: 0.543322 | LR: 7.97e-06\n"
     ]
    },
    {
     "name": "stderr",
     "output_type": "stream",
     "text": [
      "                                                                                           \r"
     ]
    },
    {
     "name": "stdout",
     "output_type": "stream",
     "text": [
      "Epoch: 450 | Train Loss: 0.000453 | Train Acc: 1.000000 | Train F1: 1.000000 | Valid Loss: 1.147816 | Valid Acc: 0.653061 | Valid F1: 0.559647 | LR: 7.92e-06\n"
     ]
    },
    {
     "name": "stderr",
     "output_type": "stream",
     "text": [
      "                                                                                           \r"
     ]
    },
    {
     "name": "stdout",
     "output_type": "stream",
     "text": [
      "Epoch: 451 | Train Loss: 0.000866 | Train Acc: 1.000000 | Train F1: 1.000000 | Valid Loss: 1.280395 | Valid Acc: 0.653061 | Valid F1: 0.546467 | LR: 7.87e-06\n"
     ]
    },
    {
     "name": "stderr",
     "output_type": "stream",
     "text": [
      "                                                                                           \r"
     ]
    },
    {
     "name": "stdout",
     "output_type": "stream",
     "text": [
      "Epoch: 452 | Train Loss: 0.000468 | Train Acc: 1.000000 | Train F1: 1.000000 | Valid Loss: 1.330262 | Valid Acc: 0.659864 | Valid F1: 0.546710 | LR: 7.81e-06\n"
     ]
    },
    {
     "name": "stderr",
     "output_type": "stream",
     "text": [
      "                                                                                           \r"
     ]
    },
    {
     "name": "stdout",
     "output_type": "stream",
     "text": [
      "Epoch: 453 | Train Loss: 0.000577 | Train Acc: 1.000000 | Train F1: 1.000000 | Valid Loss: 1.165763 | Valid Acc: 0.673469 | Valid F1: 0.557833 | LR: 7.76e-06\n"
     ]
    },
    {
     "name": "stderr",
     "output_type": "stream",
     "text": [
      "                                                                                           \r"
     ]
    },
    {
     "name": "stdout",
     "output_type": "stream",
     "text": [
      "Epoch: 454 | Train Loss: 0.000922 | Train Acc: 1.000000 | Train F1: 1.000000 | Valid Loss: 1.263463 | Valid Acc: 0.659864 | Valid F1: 0.562108 | LR: 7.71e-06\n"
     ]
    },
    {
     "name": "stderr",
     "output_type": "stream",
     "text": [
      "                                                                                           \r"
     ]
    },
    {
     "name": "stdout",
     "output_type": "stream",
     "text": [
      "Epoch: 455 | Train Loss: 0.000532 | Train Acc: 1.000000 | Train F1: 1.000000 | Valid Loss: 1.135837 | Valid Acc: 0.653061 | Valid F1: 0.540414 | LR: 7.66e-06\n"
     ]
    },
    {
     "name": "stderr",
     "output_type": "stream",
     "text": [
      "                                                                                           \r"
     ]
    },
    {
     "name": "stdout",
     "output_type": "stream",
     "text": [
      "Epoch: 456 | Train Loss: 0.000483 | Train Acc: 1.000000 | Train F1: 1.000000 | Valid Loss: 1.270749 | Valid Acc: 0.659864 | Valid F1: 0.546697 | LR: 7.60e-06\n"
     ]
    },
    {
     "name": "stderr",
     "output_type": "stream",
     "text": [
      "                                                                                           \r"
     ]
    },
    {
     "name": "stdout",
     "output_type": "stream",
     "text": [
      "Epoch: 457 | Train Loss: 0.002495 | Train Acc: 1.000000 | Train F1: 1.000000 | Valid Loss: 1.036088 | Valid Acc: 0.666667 | Valid F1: 0.547307 | LR: 7.55e-06\n"
     ]
    },
    {
     "name": "stderr",
     "output_type": "stream",
     "text": [
      "                                                                                           \r"
     ]
    },
    {
     "name": "stdout",
     "output_type": "stream",
     "text": [
      "Epoch: 458 | Train Loss: 0.000512 | Train Acc: 1.000000 | Train F1: 1.000000 | Valid Loss: 1.138902 | Valid Acc: 0.673469 | Valid F1: 0.574857 | LR: 7.50e-06\n"
     ]
    },
    {
     "name": "stderr",
     "output_type": "stream",
     "text": [
      "                                                                                           \r"
     ]
    },
    {
     "name": "stdout",
     "output_type": "stream",
     "text": [
      "Epoch: 459 | Train Loss: 0.000889 | Train Acc: 1.000000 | Train F1: 1.000000 | Valid Loss: 1.098143 | Valid Acc: 0.666667 | Valid F1: 0.543452 | LR: 7.44e-06\n"
     ]
    },
    {
     "name": "stderr",
     "output_type": "stream",
     "text": [
      "                                                                                           \r"
     ]
    },
    {
     "name": "stdout",
     "output_type": "stream",
     "text": [
      "Epoch: 460 | Train Loss: 0.000398 | Train Acc: 1.000000 | Train F1: 1.000000 | Valid Loss: 1.243957 | Valid Acc: 0.666667 | Valid F1: 0.547029 | LR: 7.39e-06\n"
     ]
    },
    {
     "name": "stderr",
     "output_type": "stream",
     "text": [
      "                                                                                           \r"
     ]
    },
    {
     "name": "stdout",
     "output_type": "stream",
     "text": [
      "Epoch: 461 | Train Loss: 0.000752 | Train Acc: 1.000000 | Train F1: 1.000000 | Valid Loss: 1.129937 | Valid Acc: 0.687075 | Valid F1: 0.563664 | LR: 7.34e-06\n"
     ]
    },
    {
     "name": "stderr",
     "output_type": "stream",
     "text": [
      "                                                                                           \r"
     ]
    },
    {
     "name": "stdout",
     "output_type": "stream",
     "text": [
      "Epoch: 462 | Train Loss: 0.000676 | Train Acc: 1.000000 | Train F1: 1.000000 | Valid Loss: 1.108426 | Valid Acc: 0.680272 | Valid F1: 0.578435 | LR: 7.28e-06\n"
     ]
    },
    {
     "name": "stderr",
     "output_type": "stream",
     "text": [
      "                                                                                           \r"
     ]
    },
    {
     "name": "stdout",
     "output_type": "stream",
     "text": [
      "Epoch: 463 | Train Loss: 0.001199 | Train Acc: 1.000000 | Train F1: 1.000000 | Valid Loss: 1.126552 | Valid Acc: 0.666667 | Valid F1: 0.550214 | LR: 7.23e-06\n"
     ]
    },
    {
     "name": "stderr",
     "output_type": "stream",
     "text": [
      "                                                                                           \r"
     ]
    },
    {
     "name": "stdout",
     "output_type": "stream",
     "text": [
      "Epoch: 464 | Train Loss: 0.000758 | Train Acc: 1.000000 | Train F1: 1.000000 | Valid Loss: 1.398092 | Valid Acc: 0.639456 | Valid F1: 0.532146 | LR: 7.17e-06\n"
     ]
    },
    {
     "name": "stderr",
     "output_type": "stream",
     "text": [
      "                                                                                           \r"
     ]
    },
    {
     "name": "stdout",
     "output_type": "stream",
     "text": [
      "Epoch: 465 | Train Loss: 0.000437 | Train Acc: 1.000000 | Train F1: 1.000000 | Valid Loss: 1.372464 | Valid Acc: 0.659864 | Valid F1: 0.563324 | LR: 7.12e-06\n"
     ]
    },
    {
     "name": "stderr",
     "output_type": "stream",
     "text": [
      "                                                                                           \r"
     ]
    },
    {
     "name": "stdout",
     "output_type": "stream",
     "text": [
      "Epoch: 466 | Train Loss: 0.000588 | Train Acc: 1.000000 | Train F1: 1.000000 | Valid Loss: 1.221858 | Valid Acc: 0.666667 | Valid F1: 0.576102 | LR: 7.07e-06\n"
     ]
    },
    {
     "name": "stderr",
     "output_type": "stream",
     "text": [
      "                                                                                           \r"
     ]
    },
    {
     "name": "stdout",
     "output_type": "stream",
     "text": [
      "Epoch: 467 | Train Loss: 0.000443 | Train Acc: 1.000000 | Train F1: 1.000000 | Valid Loss: 1.379233 | Valid Acc: 0.659864 | Valid F1: 0.552361 | LR: 7.01e-06\n"
     ]
    },
    {
     "name": "stderr",
     "output_type": "stream",
     "text": [
      "                                                                                           \r"
     ]
    },
    {
     "name": "stdout",
     "output_type": "stream",
     "text": [
      "Epoch: 468 | Train Loss: 0.001280 | Train Acc: 1.000000 | Train F1: 1.000000 | Valid Loss: 1.504429 | Valid Acc: 0.659864 | Valid F1: 0.548738 | LR: 6.96e-06\n"
     ]
    },
    {
     "name": "stderr",
     "output_type": "stream",
     "text": [
      "                                                                                           \r"
     ]
    },
    {
     "name": "stdout",
     "output_type": "stream",
     "text": [
      "Epoch: 469 | Train Loss: 0.000361 | Train Acc: 1.000000 | Train F1: 1.000000 | Valid Loss: 1.247800 | Valid Acc: 0.673469 | Valid F1: 0.574773 | LR: 6.90e-06\n"
     ]
    },
    {
     "name": "stderr",
     "output_type": "stream",
     "text": [
      "                                                                                           \r"
     ]
    },
    {
     "name": "stdout",
     "output_type": "stream",
     "text": [
      "Epoch: 470 | Train Loss: 0.000331 | Train Acc: 1.000000 | Train F1: 1.000000 | Valid Loss: 1.152940 | Valid Acc: 0.659864 | Valid F1: 0.538272 | LR: 6.85e-06\n"
     ]
    },
    {
     "name": "stderr",
     "output_type": "stream",
     "text": [
      "                                                                                           \r"
     ]
    },
    {
     "name": "stdout",
     "output_type": "stream",
     "text": [
      "Epoch: 471 | Train Loss: 0.000800 | Train Acc: 1.000000 | Train F1: 1.000000 | Valid Loss: 1.202813 | Valid Acc: 0.666667 | Valid F1: 0.566787 | LR: 6.79e-06\n"
     ]
    },
    {
     "name": "stderr",
     "output_type": "stream",
     "text": [
      "                                                                                           \r"
     ]
    },
    {
     "name": "stdout",
     "output_type": "stream",
     "text": [
      "Epoch: 472 | Train Loss: 0.000733 | Train Acc: 1.000000 | Train F1: 1.000000 | Valid Loss: 0.884692 | Valid Acc: 0.666667 | Valid F1: 0.562039 | LR: 6.74e-06\n"
     ]
    },
    {
     "name": "stderr",
     "output_type": "stream",
     "text": [
      "                                                                                           \r"
     ]
    },
    {
     "name": "stdout",
     "output_type": "stream",
     "text": [
      "Epoch: 473 | Train Loss: 0.000402 | Train Acc: 1.000000 | Train F1: 1.000000 | Valid Loss: 1.179105 | Valid Acc: 0.659864 | Valid F1: 0.551799 | LR: 6.69e-06\n"
     ]
    },
    {
     "name": "stderr",
     "output_type": "stream",
     "text": [
      "                                                                                           \r"
     ]
    },
    {
     "name": "stdout",
     "output_type": "stream",
     "text": [
      "Epoch: 474 | Train Loss: 0.000825 | Train Acc: 1.000000 | Train F1: 1.000000 | Valid Loss: 1.023079 | Valid Acc: 0.666667 | Valid F1: 0.591641 | LR: 6.63e-06\n"
     ]
    },
    {
     "name": "stderr",
     "output_type": "stream",
     "text": [
      "                                                                                           \r"
     ]
    },
    {
     "name": "stdout",
     "output_type": "stream",
     "text": [
      "Epoch: 475 | Train Loss: 0.000519 | Train Acc: 1.000000 | Train F1: 1.000000 | Valid Loss: 1.118623 | Valid Acc: 0.673469 | Valid F1: 0.588610 | LR: 6.58e-06\n"
     ]
    },
    {
     "name": "stderr",
     "output_type": "stream",
     "text": [
      "                                                                                           \r"
     ]
    },
    {
     "name": "stdout",
     "output_type": "stream",
     "text": [
      "Epoch: 476 | Train Loss: 0.000447 | Train Acc: 1.000000 | Train F1: 1.000000 | Valid Loss: 1.266963 | Valid Acc: 0.673469 | Valid F1: 0.560507 | LR: 6.52e-06\n"
     ]
    },
    {
     "name": "stderr",
     "output_type": "stream",
     "text": [
      "                                                                                           \r"
     ]
    },
    {
     "name": "stdout",
     "output_type": "stream",
     "text": [
      "Epoch: 477 | Train Loss: 0.000312 | Train Acc: 1.000000 | Train F1: 1.000000 | Valid Loss: 1.200273 | Valid Acc: 0.639456 | Valid F1: 0.517666 | LR: 6.47e-06\n"
     ]
    },
    {
     "name": "stderr",
     "output_type": "stream",
     "text": [
      "                                                                                           \r"
     ]
    },
    {
     "name": "stdout",
     "output_type": "stream",
     "text": [
      "Epoch: 478 | Train Loss: 0.000966 | Train Acc: 1.000000 | Train F1: 1.000000 | Valid Loss: 1.417527 | Valid Acc: 0.666667 | Valid F1: 0.580688 | LR: 6.41e-06\n"
     ]
    },
    {
     "name": "stderr",
     "output_type": "stream",
     "text": [
      "                                                                                           \r"
     ]
    },
    {
     "name": "stdout",
     "output_type": "stream",
     "text": [
      "Epoch: 479 | Train Loss: 0.000555 | Train Acc: 1.000000 | Train F1: 1.000000 | Valid Loss: 1.117661 | Valid Acc: 0.673469 | Valid F1: 0.578418 | LR: 6.36e-06\n"
     ]
    },
    {
     "name": "stderr",
     "output_type": "stream",
     "text": [
      "                                                                                           \r"
     ]
    },
    {
     "name": "stdout",
     "output_type": "stream",
     "text": [
      "Epoch: 480 | Train Loss: 0.000726 | Train Acc: 1.000000 | Train F1: 1.000000 | Valid Loss: 1.257309 | Valid Acc: 0.666667 | Valid F1: 0.568279 | LR: 6.30e-06\n"
     ]
    },
    {
     "name": "stderr",
     "output_type": "stream",
     "text": [
      "                                                                                           \r"
     ]
    },
    {
     "name": "stdout",
     "output_type": "stream",
     "text": [
      "Epoch: 481 | Train Loss: 0.000405 | Train Acc: 1.000000 | Train F1: 1.000000 | Valid Loss: 1.147764 | Valid Acc: 0.666667 | Valid F1: 0.572671 | LR: 6.25e-06\n"
     ]
    },
    {
     "name": "stderr",
     "output_type": "stream",
     "text": [
      "                                                                                           \r"
     ]
    },
    {
     "name": "stdout",
     "output_type": "stream",
     "text": [
      "Epoch: 482 | Train Loss: 0.000513 | Train Acc: 1.000000 | Train F1: 1.000000 | Valid Loss: 1.367135 | Valid Acc: 0.653061 | Valid F1: 0.550234 | LR: 6.20e-06\n"
     ]
    },
    {
     "name": "stderr",
     "output_type": "stream",
     "text": [
      "                                                                                           \r"
     ]
    },
    {
     "name": "stdout",
     "output_type": "stream",
     "text": [
      "Epoch: 483 | Train Loss: 0.000298 | Train Acc: 1.000000 | Train F1: 1.000000 | Valid Loss: 1.252452 | Valid Acc: 0.646259 | Valid F1: 0.539938 | LR: 6.14e-06\n"
     ]
    },
    {
     "name": "stderr",
     "output_type": "stream",
     "text": [
      "                                                                                           \r"
     ]
    },
    {
     "name": "stdout",
     "output_type": "stream",
     "text": [
      "Epoch: 484 | Train Loss: 0.000468 | Train Acc: 1.000000 | Train F1: 1.000000 | Valid Loss: 0.956199 | Valid Acc: 0.673469 | Valid F1: 0.557012 | LR: 6.09e-06\n"
     ]
    },
    {
     "name": "stderr",
     "output_type": "stream",
     "text": [
      "                                                                                           \r"
     ]
    },
    {
     "name": "stdout",
     "output_type": "stream",
     "text": [
      "Epoch: 485 | Train Loss: 0.000435 | Train Acc: 1.000000 | Train F1: 1.000000 | Valid Loss: 1.246537 | Valid Acc: 0.666667 | Valid F1: 0.554051 | LR: 6.03e-06\n"
     ]
    },
    {
     "name": "stderr",
     "output_type": "stream",
     "text": [
      "                                                                                           \r"
     ]
    },
    {
     "name": "stdout",
     "output_type": "stream",
     "text": [
      "Epoch: 486 | Train Loss: 0.000307 | Train Acc: 1.000000 | Train F1: 1.000000 | Valid Loss: 1.280554 | Valid Acc: 0.666667 | Valid F1: 0.591176 | LR: 5.98e-06\n"
     ]
    },
    {
     "name": "stderr",
     "output_type": "stream",
     "text": [
      "                                                                                           \r"
     ]
    },
    {
     "name": "stdout",
     "output_type": "stream",
     "text": [
      "Epoch: 487 | Train Loss: 0.000776 | Train Acc: 1.000000 | Train F1: 1.000000 | Valid Loss: 1.022234 | Valid Acc: 0.666667 | Valid F1: 0.559188 | LR: 5.92e-06\n"
     ]
    },
    {
     "name": "stderr",
     "output_type": "stream",
     "text": [
      "                                                                                           \r"
     ]
    },
    {
     "name": "stdout",
     "output_type": "stream",
     "text": [
      "Epoch: 488 | Train Loss: 0.000321 | Train Acc: 1.000000 | Train F1: 1.000000 | Valid Loss: 1.514117 | Valid Acc: 0.666667 | Valid F1: 0.554099 | LR: 5.87e-06\n"
     ]
    },
    {
     "name": "stderr",
     "output_type": "stream",
     "text": [
      "                                                                                           \r"
     ]
    },
    {
     "name": "stdout",
     "output_type": "stream",
     "text": [
      "Epoch: 489 | Train Loss: 0.000545 | Train Acc: 1.000000 | Train F1: 1.000000 | Valid Loss: 1.185984 | Valid Acc: 0.673469 | Valid F1: 0.563234 | LR: 5.81e-06\n"
     ]
    },
    {
     "name": "stderr",
     "output_type": "stream",
     "text": [
      "                                                                                           \r"
     ]
    },
    {
     "name": "stdout",
     "output_type": "stream",
     "text": [
      "Epoch: 490 | Train Loss: 0.000285 | Train Acc: 1.000000 | Train F1: 1.000000 | Valid Loss: 1.310283 | Valid Acc: 0.659864 | Valid F1: 0.585626 | LR: 5.76e-06\n"
     ]
    },
    {
     "name": "stderr",
     "output_type": "stream",
     "text": [
      "                                                                                           \r"
     ]
    },
    {
     "name": "stdout",
     "output_type": "stream",
     "text": [
      "Epoch: 491 | Train Loss: 0.000483 | Train Acc: 1.000000 | Train F1: 1.000000 | Valid Loss: 1.297102 | Valid Acc: 0.659864 | Valid F1: 0.578807 | LR: 5.71e-06\n"
     ]
    },
    {
     "name": "stderr",
     "output_type": "stream",
     "text": [
      "                                                                                           \r"
     ]
    },
    {
     "name": "stdout",
     "output_type": "stream",
     "text": [
      "Epoch: 492 | Train Loss: 0.000445 | Train Acc: 1.000000 | Train F1: 1.000000 | Valid Loss: 1.249084 | Valid Acc: 0.653061 | Valid F1: 0.576085 | LR: 5.65e-06\n"
     ]
    },
    {
     "name": "stderr",
     "output_type": "stream",
     "text": [
      "                                                                                           \r"
     ]
    },
    {
     "name": "stdout",
     "output_type": "stream",
     "text": [
      "Epoch: 493 | Train Loss: 0.000590 | Train Acc: 1.000000 | Train F1: 1.000000 | Valid Loss: 1.248998 | Valid Acc: 0.666667 | Valid F1: 0.553994 | LR: 5.60e-06\n"
     ]
    },
    {
     "name": "stderr",
     "output_type": "stream",
     "text": [
      "                                                                                           \r"
     ]
    },
    {
     "name": "stdout",
     "output_type": "stream",
     "text": [
      "Epoch: 494 | Train Loss: 0.000456 | Train Acc: 1.000000 | Train F1: 1.000000 | Valid Loss: 1.400756 | Valid Acc: 0.659864 | Valid F1: 0.555312 | LR: 5.54e-06\n"
     ]
    },
    {
     "name": "stderr",
     "output_type": "stream",
     "text": [
      "                                                                                           \r"
     ]
    },
    {
     "name": "stdout",
     "output_type": "stream",
     "text": [
      "Epoch: 495 | Train Loss: 0.000397 | Train Acc: 1.000000 | Train F1: 1.000000 | Valid Loss: 1.374696 | Valid Acc: 0.653061 | Valid F1: 0.535052 | LR: 5.49e-06\n"
     ]
    },
    {
     "name": "stderr",
     "output_type": "stream",
     "text": [
      "                                                                                           \r"
     ]
    },
    {
     "name": "stdout",
     "output_type": "stream",
     "text": [
      "Epoch: 496 | Train Loss: 0.000538 | Train Acc: 1.000000 | Train F1: 1.000000 | Valid Loss: 1.122304 | Valid Acc: 0.673469 | Valid F1: 0.558505 | LR: 5.43e-06\n"
     ]
    },
    {
     "name": "stderr",
     "output_type": "stream",
     "text": [
      "                                                                                           \r"
     ]
    },
    {
     "name": "stdout",
     "output_type": "stream",
     "text": [
      "Epoch: 497 | Train Loss: 0.000498 | Train Acc: 1.000000 | Train F1: 1.000000 | Valid Loss: 1.343566 | Valid Acc: 0.653061 | Valid F1: 0.554303 | LR: 5.38e-06\n"
     ]
    },
    {
     "name": "stderr",
     "output_type": "stream",
     "text": [
      "                                                                                           \r"
     ]
    },
    {
     "name": "stdout",
     "output_type": "stream",
     "text": [
      "Epoch: 498 | Train Loss: 0.000368 | Train Acc: 1.000000 | Train F1: 1.000000 | Valid Loss: 1.457378 | Valid Acc: 0.646259 | Valid F1: 0.545281 | LR: 5.33e-06\n"
     ]
    },
    {
     "name": "stderr",
     "output_type": "stream",
     "text": [
      "                                                                                           \r"
     ]
    },
    {
     "name": "stdout",
     "output_type": "stream",
     "text": [
      "Epoch: 499 | Train Loss: 0.000909 | Train Acc: 1.000000 | Train F1: 1.000000 | Valid Loss: 1.221058 | Valid Acc: 0.659864 | Valid F1: 0.550273 | LR: 5.27e-06\n"
     ]
    },
    {
     "name": "stderr",
     "output_type": "stream",
     "text": [
      "                                                                                           \r"
     ]
    },
    {
     "name": "stdout",
     "output_type": "stream",
     "text": [
      "Epoch: 500 | Train Loss: 0.000574 | Train Acc: 1.000000 | Train F1: 1.000000 | Valid Loss: 1.269186 | Valid Acc: 0.693878 | Valid F1: 0.613690 | LR: 5.22e-06\n",
      "Fold 2\n"
     ]
    },
    {
     "name": "stderr",
     "output_type": "stream",
     "text": [
      "                                                                                         \r"
     ]
    },
    {
     "name": "stdout",
     "output_type": "stream",
     "text": [
      "Epoch: 1 | Train Loss: 0.709540 | Train Acc: 0.513605 | Train F1: 0.407128 | Valid Loss: 0.702606 | Valid Acc: 0.530612 | Valid F1: 0.368017 | LR: 0.00e+00\n",
      "Epoch 0: New best F1-score 0.3680 in fold 2, model saved.\n"
     ]
    },
    {
     "name": "stderr",
     "output_type": "stream",
     "text": [
      "                                                                                         \r"
     ]
    },
    {
     "name": "stdout",
     "output_type": "stream",
     "text": [
      "Epoch: 2 | Train Loss: 0.670844 | Train Acc: 0.579932 | Train F1: 0.514958 | Valid Loss: 0.774526 | Valid Acc: 0.462585 | Valid F1: 0.254701 | LR: 5.00e-06\n"
     ]
    },
    {
     "name": "stderr",
     "output_type": "stream",
     "text": [
      "                                                                                         \r"
     ]
    },
    {
     "name": "stdout",
     "output_type": "stream",
     "text": [
      "Epoch: 3 | Train Loss: 0.569386 | Train Acc: 0.753401 | Train F1: 0.712438 | Valid Loss: 1.210224 | Valid Acc: 0.421769 | Valid F1: 0.161706 | LR: 1.00e-05\n"
     ]
    },
    {
     "name": "stderr",
     "output_type": "stream",
     "text": [
      "                                                                                         \r"
     ]
    },
    {
     "name": "stdout",
     "output_type": "stream",
     "text": [
      "Epoch: 4 | Train Loss: 0.472641 | Train Acc: 0.775510 | Train F1: 0.685540 | Valid Loss: 1.522393 | Valid Acc: 0.428571 | Valid F1: 0.161706 | LR: 1.50e-05\n"
     ]
    },
    {
     "name": "stderr",
     "output_type": "stream",
     "text": [
      "                                                                                         \r"
     ]
    },
    {
     "name": "stdout",
     "output_type": "stream",
     "text": [
      "Epoch: 5 | Train Loss: 0.438555 | Train Acc: 0.811224 | Train F1: 0.788392 | Valid Loss: 1.431922 | Valid Acc: 0.428571 | Valid F1: 0.161706 | LR: 2.00e-05\n"
     ]
    },
    {
     "name": "stderr",
     "output_type": "stream",
     "text": [
      "                                                                                         \r"
     ]
    },
    {
     "name": "stdout",
     "output_type": "stream",
     "text": [
      "Epoch: 6 | Train Loss: 0.391737 | Train Acc: 0.862245 | Train F1: 0.848935 | Valid Loss: 1.671494 | Valid Acc: 0.408163 | Valid F1: 0.202523 | LR: 2.50e-05\n"
     ]
    },
    {
     "name": "stderr",
     "output_type": "stream",
     "text": [
      "                                                                                         \r"
     ]
    },
    {
     "name": "stdout",
     "output_type": "stream",
     "text": [
      "Epoch: 7 | Train Loss: 0.348680 | Train Acc: 0.853741 | Train F1: 0.820006 | Valid Loss: 1.675681 | Valid Acc: 0.442177 | Valid F1: 0.368254 | LR: 3.00e-05\n",
      "Epoch 6: New best F1-score 0.3683 in fold 2, model saved.\n"
     ]
    },
    {
     "name": "stderr",
     "output_type": "stream",
     "text": [
      "                                                                                         \r"
     ]
    },
    {
     "name": "stdout",
     "output_type": "stream",
     "text": [
      "Epoch: 8 | Train Loss: 0.285672 | Train Acc: 0.916667 | Train F1: 0.904623 | Valid Loss: 1.771075 | Valid Acc: 0.455782 | Valid F1: 0.429053 | LR: 3.50e-05\n",
      "Epoch 7: New best F1-score 0.4291 in fold 2, model saved.\n"
     ]
    },
    {
     "name": "stderr",
     "output_type": "stream",
     "text": [
      "                                                                                         \r"
     ]
    },
    {
     "name": "stdout",
     "output_type": "stream",
     "text": [
      "Epoch: 9 | Train Loss: 0.256789 | Train Acc: 0.925170 | Train F1: 0.922796 | Valid Loss: 1.380310 | Valid Acc: 0.442177 | Valid F1: 0.521097 | LR: 4.00e-05\n",
      "Epoch 8: New best F1-score 0.5211 in fold 2, model saved.\n"
     ]
    },
    {
     "name": "stderr",
     "output_type": "stream",
     "text": [
      "                                                                                         \r"
     ]
    },
    {
     "name": "stdout",
     "output_type": "stream",
     "text": [
      "Epoch: 10 | Train Loss: 0.262729 | Train Acc: 0.918367 | Train F1: 0.925250 | Valid Loss: 1.030098 | Valid Acc: 0.462585 | Valid F1: 0.453473 | LR: 4.50e-05\n"
     ]
    },
    {
     "name": "stderr",
     "output_type": "stream",
     "text": [
      "                                                                                          \r"
     ]
    },
    {
     "name": "stdout",
     "output_type": "stream",
     "text": [
      "Epoch: 11 | Train Loss: 0.255162 | Train Acc: 0.911565 | Train F1: 0.892508 | Valid Loss: 1.234121 | Valid Acc: 0.462585 | Valid F1: 0.357287 | LR: 5.00e-05\n"
     ]
    },
    {
     "name": "stderr",
     "output_type": "stream",
     "text": [
      "                                                                                          \r"
     ]
    },
    {
     "name": "stdout",
     "output_type": "stream",
     "text": [
      "Epoch: 12 | Train Loss: 0.248181 | Train Acc: 0.923469 | Train F1: 0.905453 | Valid Loss: 0.896218 | Valid Acc: 0.530612 | Valid F1: 0.424139 | LR: 5.00e-05\n"
     ]
    },
    {
     "name": "stderr",
     "output_type": "stream",
     "text": [
      "                                                                                          \r"
     ]
    },
    {
     "name": "stdout",
     "output_type": "stream",
     "text": [
      "Epoch: 13 | Train Loss: 0.172529 | Train Acc: 0.942177 | Train F1: 0.941220 | Valid Loss: 0.829335 | Valid Acc: 0.598639 | Valid F1: 0.474828 | LR: 4.99e-05\n"
     ]
    },
    {
     "name": "stderr",
     "output_type": "stream",
     "text": [
      "                                                                                          \r"
     ]
    },
    {
     "name": "stdout",
     "output_type": "stream",
     "text": [
      "Epoch: 14 | Train Loss: 0.163469 | Train Acc: 0.954082 | Train F1: 0.950186 | Valid Loss: 0.852460 | Valid Acc: 0.591837 | Valid F1: 0.502939 | LR: 4.99e-05\n"
     ]
    },
    {
     "name": "stderr",
     "output_type": "stream",
     "text": [
      "                                                                                          \r"
     ]
    },
    {
     "name": "stdout",
     "output_type": "stream",
     "text": [
      "Epoch: 15 | Train Loss: 0.130527 | Train Acc: 0.969388 | Train F1: 0.973401 | Valid Loss: 0.670051 | Valid Acc: 0.666667 | Valid F1: 0.606306 | LR: 4.98e-05\n",
      "Epoch 14: New best F1-score 0.6063 in fold 2, model saved.\n"
     ]
    },
    {
     "name": "stderr",
     "output_type": "stream",
     "text": [
      "                                                                                          \r"
     ]
    },
    {
     "name": "stdout",
     "output_type": "stream",
     "text": [
      "Epoch: 16 | Train Loss: 0.167283 | Train Acc: 0.962585 | Train F1: 0.968837 | Valid Loss: 0.819596 | Valid Acc: 0.673469 | Valid F1: 0.691392 | LR: 4.96e-05\n",
      "Epoch 15: New best F1-score 0.6914 in fold 2, model saved.\n"
     ]
    },
    {
     "name": "stderr",
     "output_type": "stream",
     "text": [
      "                                                                                          \r"
     ]
    },
    {
     "name": "stdout",
     "output_type": "stream",
     "text": [
      "Epoch: 17 | Train Loss: 0.141915 | Train Acc: 0.960884 | Train F1: 0.955069 | Valid Loss: 0.849283 | Valid Acc: 0.687075 | Valid F1: 0.644385 | LR: 4.95e-05\n"
     ]
    },
    {
     "name": "stderr",
     "output_type": "stream",
     "text": [
      "                                                                                          \r"
     ]
    },
    {
     "name": "stdout",
     "output_type": "stream",
     "text": [
      "Epoch: 18 | Train Loss: 0.139697 | Train Acc: 0.977891 | Train F1: 0.981098 | Valid Loss: 0.781550 | Valid Acc: 0.687075 | Valid F1: 0.685459 | LR: 4.93e-05\n"
     ]
    },
    {
     "name": "stderr",
     "output_type": "stream",
     "text": [
      "                                                                                          \r"
     ]
    },
    {
     "name": "stdout",
     "output_type": "stream",
     "text": [
      "Epoch: 19 | Train Loss: 0.115616 | Train Acc: 0.976190 | Train F1: 0.971842 | Valid Loss: 0.797667 | Valid Acc: 0.687075 | Valid F1: 0.596137 | LR: 4.90e-05\n"
     ]
    },
    {
     "name": "stderr",
     "output_type": "stream",
     "text": [
      "                                                                                          \r"
     ]
    },
    {
     "name": "stdout",
     "output_type": "stream",
     "text": [
      "Epoch: 20 | Train Loss: 0.098778 | Train Acc: 0.988095 | Train F1: 0.989436 | Valid Loss: 0.784696 | Valid Acc: 0.673469 | Valid F1: 0.589168 | LR: 4.88e-05\n"
     ]
    },
    {
     "name": "stderr",
     "output_type": "stream",
     "text": [
      "                                                                                          \r"
     ]
    },
    {
     "name": "stdout",
     "output_type": "stream",
     "text": [
      "Epoch: 21 | Train Loss: 0.098244 | Train Acc: 0.984694 | Train F1: 0.984351 | Valid Loss: 0.890245 | Valid Acc: 0.687075 | Valid F1: 0.563926 | LR: 4.85e-05\n"
     ]
    },
    {
     "name": "stderr",
     "output_type": "stream",
     "text": [
      "                                                                                          \r"
     ]
    },
    {
     "name": "stdout",
     "output_type": "stream",
     "text": [
      "Epoch: 22 | Train Loss: 0.100440 | Train Acc: 0.979592 | Train F1: 0.979626 | Valid Loss: 0.939546 | Valid Acc: 0.673469 | Valid F1: 0.565429 | LR: 4.82e-05\n"
     ]
    },
    {
     "name": "stderr",
     "output_type": "stream",
     "text": [
      "                                                                                          \r"
     ]
    },
    {
     "name": "stdout",
     "output_type": "stream",
     "text": [
      "Epoch: 23 | Train Loss: 0.073767 | Train Acc: 0.988095 | Train F1: 0.989529 | Valid Loss: 1.264957 | Valid Acc: 0.591837 | Valid F1: 0.539505 | LR: 4.78e-05\n"
     ]
    },
    {
     "name": "stderr",
     "output_type": "stream",
     "text": [
      "                                                                                          \r"
     ]
    },
    {
     "name": "stdout",
     "output_type": "stream",
     "text": [
      "Epoch: 24 | Train Loss: 0.070010 | Train Acc: 0.979592 | Train F1: 0.980294 | Valid Loss: 1.138568 | Valid Acc: 0.632653 | Valid F1: 0.558633 | LR: 4.75e-05\n"
     ]
    },
    {
     "name": "stderr",
     "output_type": "stream",
     "text": [
      "                                                                                          \r"
     ]
    },
    {
     "name": "stdout",
     "output_type": "stream",
     "text": [
      "Epoch: 25 | Train Loss: 0.058145 | Train Acc: 0.993197 | Train F1: 0.992907 | Valid Loss: 0.884294 | Valid Acc: 0.646259 | Valid F1: 0.600724 | LR: 4.71e-05\n"
     ]
    },
    {
     "name": "stderr",
     "output_type": "stream",
     "text": [
      "                                                                                          \r"
     ]
    },
    {
     "name": "stdout",
     "output_type": "stream",
     "text": [
      "Epoch: 26 | Train Loss: 0.060410 | Train Acc: 0.977891 | Train F1: 0.977785 | Valid Loss: 0.846769 | Valid Acc: 0.653061 | Valid F1: 0.583831 | LR: 4.67e-05\n"
     ]
    },
    {
     "name": "stderr",
     "output_type": "stream",
     "text": [
      "                                                                                          \r"
     ]
    },
    {
     "name": "stdout",
     "output_type": "stream",
     "text": [
      "Epoch: 27 | Train Loss: 0.050082 | Train Acc: 0.988095 | Train F1: 0.989216 | Valid Loss: 0.934548 | Valid Acc: 0.687075 | Valid F1: 0.632309 | LR: 4.62e-05\n"
     ]
    },
    {
     "name": "stderr",
     "output_type": "stream",
     "text": [
      "                                                                                          \r"
     ]
    },
    {
     "name": "stdout",
     "output_type": "stream",
     "text": [
      "Epoch: 28 | Train Loss: 0.026527 | Train Acc: 0.994898 | Train F1: 0.994790 | Valid Loss: 0.740586 | Valid Acc: 0.700680 | Valid F1: 0.598863 | LR: 4.57e-05\n"
     ]
    },
    {
     "name": "stderr",
     "output_type": "stream",
     "text": [
      "                                                                                          \r"
     ]
    },
    {
     "name": "stdout",
     "output_type": "stream",
     "text": [
      "Epoch: 29 | Train Loss: 0.049244 | Train Acc: 0.993197 | Train F1: 0.993099 | Valid Loss: 0.759959 | Valid Acc: 0.727891 | Valid F1: 0.639472 | LR: 4.52e-05\n"
     ]
    },
    {
     "name": "stderr",
     "output_type": "stream",
     "text": [
      "                                                                                          \r"
     ]
    },
    {
     "name": "stdout",
     "output_type": "stream",
     "text": [
      "Epoch: 30 | Train Loss: 0.058587 | Train Acc: 0.991497 | Train F1: 0.992905 | Valid Loss: 0.750671 | Valid Acc: 0.768707 | Valid F1: 0.756481 | LR: 4.47e-05\n",
      "Epoch 29: New best F1-score 0.7565 in fold 2, model saved.\n"
     ]
    },
    {
     "name": "stderr",
     "output_type": "stream",
     "text": [
      "                                                                                          \r"
     ]
    },
    {
     "name": "stdout",
     "output_type": "stream",
     "text": [
      "Epoch: 31 | Train Loss: 0.039922 | Train Acc: 0.994898 | Train F1: 0.996064 | Valid Loss: 0.930322 | Valid Acc: 0.727891 | Valid F1: 0.668141 | LR: 4.42e-05\n"
     ]
    },
    {
     "name": "stderr",
     "output_type": "stream",
     "text": [
      "                                                                                          \r"
     ]
    },
    {
     "name": "stdout",
     "output_type": "stream",
     "text": [
      "Epoch: 32 | Train Loss: 0.072796 | Train Acc: 0.988095 | Train F1: 0.988189 | Valid Loss: 0.954011 | Valid Acc: 0.680272 | Valid F1: 0.616225 | LR: 4.36e-05\n"
     ]
    },
    {
     "name": "stderr",
     "output_type": "stream",
     "text": [
      "                                                                                          \r"
     ]
    },
    {
     "name": "stdout",
     "output_type": "stream",
     "text": [
      "Epoch: 33 | Train Loss: 0.046434 | Train Acc: 0.993197 | Train F1: 0.994217 | Valid Loss: 1.134426 | Valid Acc: 0.673469 | Valid F1: 0.541375 | LR: 4.30e-05\n"
     ]
    },
    {
     "name": "stderr",
     "output_type": "stream",
     "text": [
      "                                                                                          \r"
     ]
    },
    {
     "name": "stdout",
     "output_type": "stream",
     "text": [
      "Epoch: 34 | Train Loss: 0.031736 | Train Acc: 0.998299 | Train F1: 0.998736 | Valid Loss: 0.849654 | Valid Acc: 0.646259 | Valid F1: 0.547155 | LR: 4.24e-05\n"
     ]
    },
    {
     "name": "stderr",
     "output_type": "stream",
     "text": [
      "                                                                                          \r"
     ]
    },
    {
     "name": "stdout",
     "output_type": "stream",
     "text": [
      "Epoch: 35 | Train Loss: 0.035756 | Train Acc: 0.996599 | Train F1: 0.996677 | Valid Loss: 0.863904 | Valid Acc: 0.687075 | Valid F1: 0.627438 | LR: 4.17e-05\n"
     ]
    },
    {
     "name": "stderr",
     "output_type": "stream",
     "text": [
      "                                                                                          \r"
     ]
    },
    {
     "name": "stdout",
     "output_type": "stream",
     "text": [
      "Epoch: 36 | Train Loss: 0.030459 | Train Acc: 0.991497 | Train F1: 0.989864 | Valid Loss: 0.951725 | Valid Acc: 0.700680 | Valid F1: 0.649506 | LR: 4.11e-05\n"
     ]
    },
    {
     "name": "stderr",
     "output_type": "stream",
     "text": [
      "                                                                                          \r"
     ]
    },
    {
     "name": "stdout",
     "output_type": "stream",
     "text": [
      "Epoch: 37 | Train Loss: 0.059699 | Train Acc: 0.991497 | Train F1: 0.990105 | Valid Loss: 0.926240 | Valid Acc: 0.700680 | Valid F1: 0.659017 | LR: 4.04e-05\n"
     ]
    },
    {
     "name": "stderr",
     "output_type": "stream",
     "text": [
      "                                                                                          \r"
     ]
    },
    {
     "name": "stdout",
     "output_type": "stream",
     "text": [
      "Epoch: 38 | Train Loss: 0.047083 | Train Acc: 0.998299 | Train F1: 0.997988 | Valid Loss: 0.980720 | Valid Acc: 0.666667 | Valid F1: 0.569416 | LR: 3.97e-05\n"
     ]
    },
    {
     "name": "stderr",
     "output_type": "stream",
     "text": [
      "                                                                                          \r"
     ]
    },
    {
     "name": "stdout",
     "output_type": "stream",
     "text": [
      "Epoch: 39 | Train Loss: 0.037632 | Train Acc: 0.989796 | Train F1: 0.991932 | Valid Loss: 0.878397 | Valid Acc: 0.700680 | Valid F1: 0.657194 | LR: 3.90e-05\n"
     ]
    },
    {
     "name": "stderr",
     "output_type": "stream",
     "text": [
      "                                                                                          \r"
     ]
    },
    {
     "name": "stdout",
     "output_type": "stream",
     "text": [
      "Epoch: 40 | Train Loss: 0.048050 | Train Acc: 0.991497 | Train F1: 0.991204 | Valid Loss: 0.688935 | Valid Acc: 0.707483 | Valid F1: 0.659532 | LR: 3.82e-05\n"
     ]
    },
    {
     "name": "stderr",
     "output_type": "stream",
     "text": [
      "                                                                                          \r"
     ]
    },
    {
     "name": "stdout",
     "output_type": "stream",
     "text": [
      "Epoch: 41 | Train Loss: 0.028144 | Train Acc: 0.993197 | Train F1: 0.992813 | Valid Loss: 0.649290 | Valid Acc: 0.693878 | Valid F1: 0.628439 | LR: 3.75e-05\n"
     ]
    },
    {
     "name": "stderr",
     "output_type": "stream",
     "text": [
      "                                                                                          \r"
     ]
    },
    {
     "name": "stdout",
     "output_type": "stream",
     "text": [
      "Epoch: 42 | Train Loss: 0.026778 | Train Acc: 0.996599 | Train F1: 0.997494 | Valid Loss: 0.739794 | Valid Acc: 0.727891 | Valid F1: 0.646931 | LR: 3.67e-05\n"
     ]
    },
    {
     "name": "stderr",
     "output_type": "stream",
     "text": [
      "                                                                                          \r"
     ]
    },
    {
     "name": "stdout",
     "output_type": "stream",
     "text": [
      "Epoch: 43 | Train Loss: 0.048756 | Train Acc: 0.994898 | Train F1: 0.995990 | Valid Loss: 0.866117 | Valid Acc: 0.707483 | Valid F1: 0.603952 | LR: 3.60e-05\n"
     ]
    },
    {
     "name": "stderr",
     "output_type": "stream",
     "text": [
      "                                                                                          \r"
     ]
    },
    {
     "name": "stdout",
     "output_type": "stream",
     "text": [
      "Epoch: 44 | Train Loss: 0.013590 | Train Acc: 1.000000 | Train F1: 1.000000 | Valid Loss: 0.754631 | Valid Acc: 0.721088 | Valid F1: 0.650480 | LR: 3.52e-05\n"
     ]
    },
    {
     "name": "stderr",
     "output_type": "stream",
     "text": [
      "                                                                                          \r"
     ]
    },
    {
     "name": "stdout",
     "output_type": "stream",
     "text": [
      "Epoch: 45 | Train Loss: 0.037178 | Train Acc: 0.996599 | Train F1: 0.997285 | Valid Loss: 0.826580 | Valid Acc: 0.707483 | Valid F1: 0.641194 | LR: 3.44e-05\n"
     ]
    },
    {
     "name": "stderr",
     "output_type": "stream",
     "text": [
      "                                                                                          \r"
     ]
    },
    {
     "name": "stdout",
     "output_type": "stream",
     "text": [
      "Epoch: 46 | Train Loss: 0.023795 | Train Acc: 0.998299 | Train F1: 0.998527 | Valid Loss: 0.771003 | Valid Acc: 0.700680 | Valid F1: 0.657747 | LR: 3.36e-05\n"
     ]
    },
    {
     "name": "stderr",
     "output_type": "stream",
     "text": [
      "                                                                                          \r"
     ]
    },
    {
     "name": "stdout",
     "output_type": "stream",
     "text": [
      "Epoch: 47 | Train Loss: 0.036144 | Train Acc: 0.991497 | Train F1: 0.990379 | Valid Loss: 0.759972 | Valid Acc: 0.693878 | Valid F1: 0.657172 | LR: 3.27e-05\n"
     ]
    },
    {
     "name": "stderr",
     "output_type": "stream",
     "text": [
      "                                                                                          \r"
     ]
    },
    {
     "name": "stdout",
     "output_type": "stream",
     "text": [
      "Epoch: 48 | Train Loss: 0.024343 | Train Acc: 0.998299 | Train F1: 0.998145 | Valid Loss: 0.811984 | Valid Acc: 0.721088 | Valid F1: 0.685161 | LR: 3.19e-05\n"
     ]
    },
    {
     "name": "stderr",
     "output_type": "stream",
     "text": [
      "                                                                                          \r"
     ]
    },
    {
     "name": "stdout",
     "output_type": "stream",
     "text": [
      "Epoch: 49 | Train Loss: 0.013840 | Train Acc: 0.996599 | Train F1: 0.997186 | Valid Loss: 0.873953 | Valid Acc: 0.734694 | Valid F1: 0.676160 | LR: 3.10e-05\n"
     ]
    },
    {
     "name": "stderr",
     "output_type": "stream",
     "text": [
      "                                                                                          \r"
     ]
    },
    {
     "name": "stdout",
     "output_type": "stream",
     "text": [
      "Epoch: 50 | Train Loss: 0.016469 | Train Acc: 0.998299 | Train F1: 0.998095 | Valid Loss: 0.840959 | Valid Acc: 0.721088 | Valid F1: 0.646267 | LR: 3.02e-05\n"
     ]
    },
    {
     "name": "stderr",
     "output_type": "stream",
     "text": [
      "                                                                                          \r"
     ]
    },
    {
     "name": "stdout",
     "output_type": "stream",
     "text": [
      "Epoch: 51 | Train Loss: 0.014489 | Train Acc: 1.000000 | Train F1: 1.000000 | Valid Loss: 0.639251 | Valid Acc: 0.755102 | Valid F1: 0.696162 | LR: 2.93e-05\n"
     ]
    },
    {
     "name": "stderr",
     "output_type": "stream",
     "text": [
      "                                                                                          \r"
     ]
    },
    {
     "name": "stdout",
     "output_type": "stream",
     "text": [
      "Epoch: 52 | Train Loss: 0.016157 | Train Acc: 1.000000 | Train F1: 1.000000 | Valid Loss: 0.681935 | Valid Acc: 0.734694 | Valid F1: 0.679294 | LR: 2.85e-05\n"
     ]
    },
    {
     "name": "stderr",
     "output_type": "stream",
     "text": [
      "                                                                                          \r"
     ]
    },
    {
     "name": "stdout",
     "output_type": "stream",
     "text": [
      "Epoch: 53 | Train Loss: 0.009328 | Train Acc: 0.998299 | Train F1: 0.998736 | Valid Loss: 0.685381 | Valid Acc: 0.748299 | Valid F1: 0.700940 | LR: 2.76e-05\n"
     ]
    },
    {
     "name": "stderr",
     "output_type": "stream",
     "text": [
      "                                                                                          \r"
     ]
    },
    {
     "name": "stdout",
     "output_type": "stream",
     "text": [
      "Epoch: 54 | Train Loss: 0.015067 | Train Acc: 1.000000 | Train F1: 1.000000 | Valid Loss: 0.836030 | Valid Acc: 0.721088 | Valid F1: 0.683450 | LR: 2.67e-05\n"
     ]
    },
    {
     "name": "stderr",
     "output_type": "stream",
     "text": [
      "                                                                                          \r"
     ]
    },
    {
     "name": "stdout",
     "output_type": "stream",
     "text": [
      "Epoch: 55 | Train Loss: 0.009941 | Train Acc: 1.000000 | Train F1: 1.000000 | Valid Loss: 0.950681 | Valid Acc: 0.727891 | Valid F1: 0.677176 | LR: 2.59e-05\n"
     ]
    },
    {
     "name": "stderr",
     "output_type": "stream",
     "text": [
      "                                                                                          \r"
     ]
    },
    {
     "name": "stdout",
     "output_type": "stream",
     "text": [
      "Epoch: 56 | Train Loss: 0.021312 | Train Acc: 0.996599 | Train F1: 0.995918 | Valid Loss: 0.775701 | Valid Acc: 0.714286 | Valid F1: 0.643293 | LR: 2.50e-05\n"
     ]
    },
    {
     "name": "stderr",
     "output_type": "stream",
     "text": [
      "                                                                                          \r"
     ]
    },
    {
     "name": "stdout",
     "output_type": "stream",
     "text": [
      "Epoch: 57 | Train Loss: 0.013037 | Train Acc: 0.996599 | Train F1: 0.996539 | Valid Loss: 0.776298 | Valid Acc: 0.714286 | Valid F1: 0.668202 | LR: 2.41e-05\n"
     ]
    },
    {
     "name": "stderr",
     "output_type": "stream",
     "text": [
      "                                                                                          \r"
     ]
    },
    {
     "name": "stdout",
     "output_type": "stream",
     "text": [
      "Epoch: 58 | Train Loss: 0.011306 | Train Acc: 1.000000 | Train F1: 1.000000 | Valid Loss: 0.816317 | Valid Acc: 0.734694 | Valid F1: 0.695183 | LR: 2.33e-05\n"
     ]
    },
    {
     "name": "stderr",
     "output_type": "stream",
     "text": [
      "                                                                                          \r"
     ]
    },
    {
     "name": "stdout",
     "output_type": "stream",
     "text": [
      "Epoch: 59 | Train Loss: 0.015589 | Train Acc: 1.000000 | Train F1: 1.000000 | Valid Loss: 0.696781 | Valid Acc: 0.721088 | Valid F1: 0.678315 | LR: 2.24e-05\n"
     ]
    },
    {
     "name": "stderr",
     "output_type": "stream",
     "text": [
      "                                                                                          \r"
     ]
    },
    {
     "name": "stdout",
     "output_type": "stream",
     "text": [
      "Epoch: 60 | Train Loss: 0.014965 | Train Acc: 1.000000 | Train F1: 1.000000 | Valid Loss: 0.789788 | Valid Acc: 0.741497 | Valid F1: 0.681162 | LR: 2.15e-05\n"
     ]
    },
    {
     "name": "stderr",
     "output_type": "stream",
     "text": [
      "                                                                                          \r"
     ]
    },
    {
     "name": "stdout",
     "output_type": "stream",
     "text": [
      "Epoch: 61 | Train Loss: 0.024830 | Train Acc: 1.000000 | Train F1: 1.000000 | Valid Loss: 0.735841 | Valid Acc: 0.755102 | Valid F1: 0.722532 | LR: 2.07e-05\n"
     ]
    },
    {
     "name": "stderr",
     "output_type": "stream",
     "text": [
      "                                                                                          \r"
     ]
    },
    {
     "name": "stdout",
     "output_type": "stream",
     "text": [
      "Epoch: 62 | Train Loss: 0.011074 | Train Acc: 1.000000 | Train F1: 1.000000 | Valid Loss: 0.828053 | Valid Acc: 0.714286 | Valid F1: 0.655499 | LR: 1.98e-05\n"
     ]
    },
    {
     "name": "stderr",
     "output_type": "stream",
     "text": [
      "                                                                                          \r"
     ]
    },
    {
     "name": "stdout",
     "output_type": "stream",
     "text": [
      "Epoch: 63 | Train Loss: 0.017406 | Train Acc: 0.998299 | Train F1: 0.998527 | Valid Loss: 0.717792 | Valid Acc: 0.707483 | Valid F1: 0.656135 | LR: 1.90e-05\n"
     ]
    },
    {
     "name": "stderr",
     "output_type": "stream",
     "text": [
      "                                                                                          \r"
     ]
    },
    {
     "name": "stdout",
     "output_type": "stream",
     "text": [
      "Epoch: 64 | Train Loss: 0.007890 | Train Acc: 1.000000 | Train F1: 1.000000 | Valid Loss: 0.760745 | Valid Acc: 0.700680 | Valid F1: 0.646488 | LR: 1.81e-05\n"
     ]
    },
    {
     "name": "stderr",
     "output_type": "stream",
     "text": [
      "                                                                                          \r"
     ]
    },
    {
     "name": "stdout",
     "output_type": "stream",
     "text": [
      "Epoch: 65 | Train Loss: 0.012601 | Train Acc: 1.000000 | Train F1: 1.000000 | Valid Loss: 0.874409 | Valid Acc: 0.707483 | Valid F1: 0.642121 | LR: 1.73e-05\n"
     ]
    },
    {
     "name": "stderr",
     "output_type": "stream",
     "text": [
      "                                                                                          \r"
     ]
    },
    {
     "name": "stdout",
     "output_type": "stream",
     "text": [
      "Epoch: 66 | Train Loss: 0.006545 | Train Acc: 1.000000 | Train F1: 1.000000 | Valid Loss: 0.835974 | Valid Acc: 0.714286 | Valid F1: 0.670761 | LR: 1.64e-05\n"
     ]
    },
    {
     "name": "stderr",
     "output_type": "stream",
     "text": [
      "                                                                                          \r"
     ]
    },
    {
     "name": "stdout",
     "output_type": "stream",
     "text": [
      "Epoch: 67 | Train Loss: 0.014208 | Train Acc: 1.000000 | Train F1: 1.000000 | Valid Loss: 0.940558 | Valid Acc: 0.687075 | Valid F1: 0.606205 | LR: 1.56e-05\n"
     ]
    },
    {
     "name": "stderr",
     "output_type": "stream",
     "text": [
      "                                                                                          \r"
     ]
    },
    {
     "name": "stdout",
     "output_type": "stream",
     "text": [
      "Epoch: 68 | Train Loss: 0.006600 | Train Acc: 1.000000 | Train F1: 1.000000 | Valid Loss: 0.805978 | Valid Acc: 0.721088 | Valid F1: 0.655944 | LR: 1.48e-05\n"
     ]
    },
    {
     "name": "stderr",
     "output_type": "stream",
     "text": [
      "                                                                                          \r"
     ]
    },
    {
     "name": "stdout",
     "output_type": "stream",
     "text": [
      "Epoch: 69 | Train Loss: 0.009173 | Train Acc: 1.000000 | Train F1: 1.000000 | Valid Loss: 1.081831 | Valid Acc: 0.680272 | Valid F1: 0.618012 | LR: 1.40e-05\n"
     ]
    },
    {
     "name": "stderr",
     "output_type": "stream",
     "text": [
      "                                                                                          \r"
     ]
    },
    {
     "name": "stdout",
     "output_type": "stream",
     "text": [
      "Epoch: 70 | Train Loss: 0.005022 | Train Acc: 1.000000 | Train F1: 1.000000 | Valid Loss: 0.865550 | Valid Acc: 0.700680 | Valid F1: 0.641967 | LR: 1.33e-05\n"
     ]
    },
    {
     "name": "stderr",
     "output_type": "stream",
     "text": [
      "                                                                                          \r"
     ]
    },
    {
     "name": "stdout",
     "output_type": "stream",
     "text": [
      "Epoch: 71 | Train Loss: 0.011366 | Train Acc: 1.000000 | Train F1: 1.000000 | Valid Loss: 0.850803 | Valid Acc: 0.707483 | Valid F1: 0.657591 | LR: 1.25e-05\n"
     ]
    },
    {
     "name": "stderr",
     "output_type": "stream",
     "text": [
      "                                                                                          \r"
     ]
    },
    {
     "name": "stdout",
     "output_type": "stream",
     "text": [
      "Epoch: 72 | Train Loss: 0.005750 | Train Acc: 1.000000 | Train F1: 1.000000 | Valid Loss: 0.827521 | Valid Acc: 0.680272 | Valid F1: 0.610075 | LR: 1.18e-05\n"
     ]
    },
    {
     "name": "stderr",
     "output_type": "stream",
     "text": [
      "                                                                                          \r"
     ]
    },
    {
     "name": "stdout",
     "output_type": "stream",
     "text": [
      "Epoch: 73 | Train Loss: 0.004662 | Train Acc: 1.000000 | Train F1: 1.000000 | Valid Loss: 0.900509 | Valid Acc: 0.693878 | Valid F1: 0.624531 | LR: 1.10e-05\n"
     ]
    },
    {
     "name": "stderr",
     "output_type": "stream",
     "text": [
      "                                                                                          \r"
     ]
    },
    {
     "name": "stdout",
     "output_type": "stream",
     "text": [
      "Epoch: 74 | Train Loss: 0.012428 | Train Acc: 1.000000 | Train F1: 1.000000 | Valid Loss: 0.786799 | Valid Acc: 0.700680 | Valid F1: 0.651793 | LR: 1.03e-05\n"
     ]
    },
    {
     "name": "stderr",
     "output_type": "stream",
     "text": [
      "                                                                                          \r"
     ]
    },
    {
     "name": "stdout",
     "output_type": "stream",
     "text": [
      "Epoch: 75 | Train Loss: 0.003987 | Train Acc: 1.000000 | Train F1: 1.000000 | Valid Loss: 0.812697 | Valid Acc: 0.714286 | Valid F1: 0.667690 | LR: 9.61e-06\n"
     ]
    },
    {
     "name": "stderr",
     "output_type": "stream",
     "text": [
      "                                                                                          \r"
     ]
    },
    {
     "name": "stdout",
     "output_type": "stream",
     "text": [
      "Epoch: 76 | Train Loss: 0.004865 | Train Acc: 1.000000 | Train F1: 1.000000 | Valid Loss: 0.756227 | Valid Acc: 0.721088 | Valid F1: 0.675864 | LR: 8.93e-06\n"
     ]
    },
    {
     "name": "stderr",
     "output_type": "stream",
     "text": [
      "                                                                                          \r"
     ]
    },
    {
     "name": "stdout",
     "output_type": "stream",
     "text": [
      "Epoch: 77 | Train Loss: 0.006717 | Train Acc: 1.000000 | Train F1: 1.000000 | Valid Loss: 0.915642 | Valid Acc: 0.693878 | Valid F1: 0.649110 | LR: 8.27e-06\n"
     ]
    },
    {
     "name": "stderr",
     "output_type": "stream",
     "text": [
      "                                                                                          \r"
     ]
    },
    {
     "name": "stdout",
     "output_type": "stream",
     "text": [
      "Epoch: 78 | Train Loss: 0.003511 | Train Acc: 1.000000 | Train F1: 1.000000 | Valid Loss: 0.962281 | Valid Acc: 0.707483 | Valid F1: 0.662080 | LR: 7.63e-06\n"
     ]
    },
    {
     "name": "stderr",
     "output_type": "stream",
     "text": [
      "                                                                                          \r"
     ]
    },
    {
     "name": "stdout",
     "output_type": "stream",
     "text": [
      "Epoch: 79 | Train Loss: 0.005114 | Train Acc: 1.000000 | Train F1: 1.000000 | Valid Loss: 0.913666 | Valid Acc: 0.687075 | Valid F1: 0.645045 | LR: 7.02e-06\n"
     ]
    },
    {
     "name": "stderr",
     "output_type": "stream",
     "text": [
      "                                                                                          \r"
     ]
    },
    {
     "name": "stdout",
     "output_type": "stream",
     "text": [
      "Epoch: 80 | Train Loss: 0.005733 | Train Acc: 1.000000 | Train F1: 1.000000 | Valid Loss: 0.867430 | Valid Acc: 0.727891 | Valid F1: 0.692049 | LR: 6.42e-06\n"
     ]
    },
    {
     "name": "stderr",
     "output_type": "stream",
     "text": [
      "                                                                                          \r"
     ]
    },
    {
     "name": "stdout",
     "output_type": "stream",
     "text": [
      "Epoch: 81 | Train Loss: 0.003311 | Train Acc: 1.000000 | Train F1: 1.000000 | Valid Loss: 0.810524 | Valid Acc: 0.700680 | Valid F1: 0.655487 | LR: 5.85e-06\n"
     ]
    },
    {
     "name": "stderr",
     "output_type": "stream",
     "text": [
      "                                                                                          \r"
     ]
    },
    {
     "name": "stdout",
     "output_type": "stream",
     "text": [
      "Epoch: 82 | Train Loss: 0.008646 | Train Acc: 1.000000 | Train F1: 1.000000 | Valid Loss: 0.773090 | Valid Acc: 0.727891 | Valid F1: 0.682191 | LR: 5.30e-06\n"
     ]
    },
    {
     "name": "stderr",
     "output_type": "stream",
     "text": [
      "                                                                                          \r"
     ]
    },
    {
     "name": "stdout",
     "output_type": "stream",
     "text": [
      "Epoch: 83 | Train Loss: 0.009763 | Train Acc: 1.000000 | Train F1: 1.000000 | Valid Loss: 0.851646 | Valid Acc: 0.741497 | Valid F1: 0.683997 | LR: 4.77e-06\n"
     ]
    },
    {
     "name": "stderr",
     "output_type": "stream",
     "text": [
      "                                                                                          \r"
     ]
    },
    {
     "name": "stdout",
     "output_type": "stream",
     "text": [
      "Epoch: 84 | Train Loss: 0.004536 | Train Acc: 1.000000 | Train F1: 1.000000 | Valid Loss: 0.958615 | Valid Acc: 0.714286 | Valid F1: 0.660263 | LR: 4.27e-06\n"
     ]
    },
    {
     "name": "stderr",
     "output_type": "stream",
     "text": [
      "                                                                                          \r"
     ]
    },
    {
     "name": "stdout",
     "output_type": "stream",
     "text": [
      "Epoch: 85 | Train Loss: 0.003819 | Train Acc: 1.000000 | Train F1: 1.000000 | Valid Loss: 0.825908 | Valid Acc: 0.666667 | Valid F1: 0.605820 | LR: 3.80e-06\n"
     ]
    },
    {
     "name": "stderr",
     "output_type": "stream",
     "text": [
      "                                                                                          \r"
     ]
    },
    {
     "name": "stdout",
     "output_type": "stream",
     "text": [
      "Epoch: 86 | Train Loss: 0.007120 | Train Acc: 1.000000 | Train F1: 1.000000 | Valid Loss: 0.885615 | Valid Acc: 0.687075 | Valid F1: 0.617509 | LR: 3.35e-06\n"
     ]
    },
    {
     "name": "stderr",
     "output_type": "stream",
     "text": [
      "                                                                                          \r"
     ]
    },
    {
     "name": "stdout",
     "output_type": "stream",
     "text": [
      "Epoch: 87 | Train Loss: 0.003822 | Train Acc: 1.000000 | Train F1: 1.000000 | Valid Loss: 0.781836 | Valid Acc: 0.721088 | Valid F1: 0.677009 | LR: 2.93e-06\n"
     ]
    },
    {
     "name": "stderr",
     "output_type": "stream",
     "text": [
      "                                                                                          \r"
     ]
    },
    {
     "name": "stdout",
     "output_type": "stream",
     "text": [
      "Epoch: 88 | Train Loss: 0.005433 | Train Acc: 1.000000 | Train F1: 1.000000 | Valid Loss: 0.831005 | Valid Acc: 0.727891 | Valid F1: 0.664912 | LR: 2.53e-06\n"
     ]
    },
    {
     "name": "stderr",
     "output_type": "stream",
     "text": [
      "                                                                                          \r"
     ]
    },
    {
     "name": "stdout",
     "output_type": "stream",
     "text": [
      "Epoch: 89 | Train Loss: 0.003986 | Train Acc: 1.000000 | Train F1: 1.000000 | Valid Loss: 0.814473 | Valid Acc: 0.727891 | Valid F1: 0.681401 | LR: 2.16e-06\n"
     ]
    },
    {
     "name": "stderr",
     "output_type": "stream",
     "text": [
      "                                                                                          \r"
     ]
    },
    {
     "name": "stdout",
     "output_type": "stream",
     "text": [
      "Epoch: 90 | Train Loss: 0.008350 | Train Acc: 1.000000 | Train F1: 1.000000 | Valid Loss: 0.931607 | Valid Acc: 0.687075 | Valid F1: 0.632958 | LR: 1.82e-06\n"
     ]
    },
    {
     "name": "stderr",
     "output_type": "stream",
     "text": [
      "                                                                                          \r"
     ]
    },
    {
     "name": "stdout",
     "output_type": "stream",
     "text": [
      "Epoch: 91 | Train Loss: 0.007569 | Train Acc: 1.000000 | Train F1: 1.000000 | Valid Loss: 0.833572 | Valid Acc: 0.727891 | Valid F1: 0.684085 | LR: 1.51e-06\n"
     ]
    },
    {
     "name": "stderr",
     "output_type": "stream",
     "text": [
      "                                                                                          \r"
     ]
    },
    {
     "name": "stdout",
     "output_type": "stream",
     "text": [
      "Epoch: 92 | Train Loss: 0.007033 | Train Acc: 1.000000 | Train F1: 1.000000 | Valid Loss: 0.952338 | Valid Acc: 0.687075 | Valid F1: 0.631213 | LR: 1.22e-06\n"
     ]
    },
    {
     "name": "stderr",
     "output_type": "stream",
     "text": [
      "                                                                                          \r"
     ]
    },
    {
     "name": "stdout",
     "output_type": "stream",
     "text": [
      "Epoch: 93 | Train Loss: 0.004081 | Train Acc: 1.000000 | Train F1: 1.000000 | Valid Loss: 0.852559 | Valid Acc: 0.693878 | Valid F1: 0.628896 | LR: 9.68e-07\n"
     ]
    },
    {
     "name": "stderr",
     "output_type": "stream",
     "text": [
      "                                                                                          \r"
     ]
    },
    {
     "name": "stdout",
     "output_type": "stream",
     "text": [
      "Epoch: 94 | Train Loss: 0.007402 | Train Acc: 1.000000 | Train F1: 1.000000 | Valid Loss: 0.889092 | Valid Acc: 0.707483 | Valid F1: 0.673756 | LR: 7.43e-07\n"
     ]
    },
    {
     "name": "stderr",
     "output_type": "stream",
     "text": [
      "                                                                                          \r"
     ]
    },
    {
     "name": "stdout",
     "output_type": "stream",
     "text": [
      "Epoch: 95 | Train Loss: 0.013447 | Train Acc: 0.998299 | Train F1: 0.998689 | Valid Loss: 0.858686 | Valid Acc: 0.693878 | Valid F1: 0.640080 | LR: 5.46e-07\n"
     ]
    },
    {
     "name": "stderr",
     "output_type": "stream",
     "text": [
      "                                                                                          \r"
     ]
    },
    {
     "name": "stdout",
     "output_type": "stream",
     "text": [
      "Epoch: 96 | Train Loss: 0.007792 | Train Acc: 1.000000 | Train F1: 1.000000 | Valid Loss: 1.022735 | Valid Acc: 0.734694 | Valid F1: 0.688541 | LR: 3.80e-07\n"
     ]
    },
    {
     "name": "stderr",
     "output_type": "stream",
     "text": [
      "                                                                                          \r"
     ]
    },
    {
     "name": "stdout",
     "output_type": "stream",
     "text": [
      "Epoch: 97 | Train Loss: 0.007114 | Train Acc: 1.000000 | Train F1: 1.000000 | Valid Loss: 0.954990 | Valid Acc: 0.707483 | Valid F1: 0.643912 | LR: 2.43e-07\n"
     ]
    },
    {
     "name": "stderr",
     "output_type": "stream",
     "text": [
      "                                                                                          \r"
     ]
    },
    {
     "name": "stdout",
     "output_type": "stream",
     "text": [
      "Epoch: 98 | Train Loss: 0.008706 | Train Acc: 1.000000 | Train F1: 1.000000 | Valid Loss: 0.948328 | Valid Acc: 0.673469 | Valid F1: 0.603239 | LR: 1.37e-07\n"
     ]
    },
    {
     "name": "stderr",
     "output_type": "stream",
     "text": [
      "                                                                                          \r"
     ]
    },
    {
     "name": "stdout",
     "output_type": "stream",
     "text": [
      "Epoch: 99 | Train Loss: 0.006175 | Train Acc: 1.000000 | Train F1: 1.000000 | Valid Loss: 0.756741 | Valid Acc: 0.693878 | Valid F1: 0.631467 | LR: 6.09e-08\n"
     ]
    },
    {
     "name": "stderr",
     "output_type": "stream",
     "text": [
      "                                                                                          \r"
     ]
    },
    {
     "name": "stdout",
     "output_type": "stream",
     "text": [
      "Epoch: 100 | Train Loss: 0.004086 | Train Acc: 1.000000 | Train F1: 1.000000 | Valid Loss: 0.793072 | Valid Acc: 0.714286 | Valid F1: 0.652084 | LR: 1.52e-08\n"
     ]
    },
    {
     "name": "stderr",
     "output_type": "stream",
     "text": [
      "                                                                                           \r"
     ]
    },
    {
     "name": "stdout",
     "output_type": "stream",
     "text": [
      "Epoch: 101 | Train Loss: 0.008735 | Train Acc: 1.000000 | Train F1: 1.000000 | Valid Loss: 0.866602 | Valid Acc: 0.727891 | Valid F1: 0.674153 | LR: 0.00e+00\n"
     ]
    },
    {
     "name": "stderr",
     "output_type": "stream",
     "text": [
      "                                                                                           \r"
     ]
    },
    {
     "name": "stdout",
     "output_type": "stream",
     "text": [
      "Epoch: 102 | Train Loss: 0.004233 | Train Acc: 1.000000 | Train F1: 1.000000 | Valid Loss: 0.845772 | Valid Acc: 0.693878 | Valid F1: 0.650333 | LR: 2.50e-06\n"
     ]
    },
    {
     "name": "stderr",
     "output_type": "stream",
     "text": [
      "                                                                                           \r"
     ]
    },
    {
     "name": "stdout",
     "output_type": "stream",
     "text": [
      "Epoch: 103 | Train Loss: 0.004775 | Train Acc: 1.000000 | Train F1: 1.000000 | Valid Loss: 0.863562 | Valid Acc: 0.741497 | Valid F1: 0.685766 | LR: 5.00e-06\n"
     ]
    },
    {
     "name": "stderr",
     "output_type": "stream",
     "text": [
      "                                                                                           \r"
     ]
    },
    {
     "name": "stdout",
     "output_type": "stream",
     "text": [
      "Epoch: 104 | Train Loss: 0.005732 | Train Acc: 1.000000 | Train F1: 1.000000 | Valid Loss: 0.831035 | Valid Acc: 0.707483 | Valid F1: 0.641283 | LR: 7.50e-06\n"
     ]
    },
    {
     "name": "stderr",
     "output_type": "stream",
     "text": [
      "                                                                                           \r"
     ]
    },
    {
     "name": "stdout",
     "output_type": "stream",
     "text": [
      "Epoch: 105 | Train Loss: 0.003207 | Train Acc: 1.000000 | Train F1: 1.000000 | Valid Loss: 0.920425 | Valid Acc: 0.714286 | Valid F1: 0.666361 | LR: 1.00e-05\n"
     ]
    },
    {
     "name": "stderr",
     "output_type": "stream",
     "text": [
      "                                                                                           \r"
     ]
    },
    {
     "name": "stdout",
     "output_type": "stream",
     "text": [
      "Epoch: 106 | Train Loss: 0.004933 | Train Acc: 1.000000 | Train F1: 1.000000 | Valid Loss: 0.859722 | Valid Acc: 0.734694 | Valid F1: 0.682267 | LR: 1.25e-05\n"
     ]
    },
    {
     "name": "stderr",
     "output_type": "stream",
     "text": [
      "                                                                                           \r"
     ]
    },
    {
     "name": "stdout",
     "output_type": "stream",
     "text": [
      "Epoch: 107 | Train Loss: 0.003752 | Train Acc: 1.000000 | Train F1: 1.000000 | Valid Loss: 0.736809 | Valid Acc: 0.741497 | Valid F1: 0.683311 | LR: 1.50e-05\n"
     ]
    },
    {
     "name": "stderr",
     "output_type": "stream",
     "text": [
      "                                                                                           \r"
     ]
    },
    {
     "name": "stdout",
     "output_type": "stream",
     "text": [
      "Epoch: 108 | Train Loss: 0.003862 | Train Acc: 1.000000 | Train F1: 1.000000 | Valid Loss: 0.853210 | Valid Acc: 0.700680 | Valid F1: 0.657151 | LR: 1.75e-05\n"
     ]
    },
    {
     "name": "stderr",
     "output_type": "stream",
     "text": [
      "                                                                                           \r"
     ]
    },
    {
     "name": "stdout",
     "output_type": "stream",
     "text": [
      "Epoch: 109 | Train Loss: 0.010136 | Train Acc: 0.998299 | Train F1: 0.998145 | Valid Loss: 0.822073 | Valid Acc: 0.707483 | Valid F1: 0.657210 | LR: 2.00e-05\n"
     ]
    },
    {
     "name": "stderr",
     "output_type": "stream",
     "text": [
      "                                                                                           \r"
     ]
    },
    {
     "name": "stdout",
     "output_type": "stream",
     "text": [
      "Epoch: 110 | Train Loss: 0.008976 | Train Acc: 1.000000 | Train F1: 1.000000 | Valid Loss: 0.961551 | Valid Acc: 0.707483 | Valid F1: 0.643506 | LR: 2.25e-05\n"
     ]
    },
    {
     "name": "stderr",
     "output_type": "stream",
     "text": [
      "                                                                                           \r"
     ]
    },
    {
     "name": "stdout",
     "output_type": "stream",
     "text": [
      "Epoch: 111 | Train Loss: 0.021082 | Train Acc: 0.996599 | Train F1: 0.996139 | Valid Loss: 0.954489 | Valid Acc: 0.721088 | Valid F1: 0.663763 | LR: 2.50e-05\n"
     ]
    },
    {
     "name": "stderr",
     "output_type": "stream",
     "text": [
      "                                                                                           \r"
     ]
    },
    {
     "name": "stdout",
     "output_type": "stream",
     "text": [
      "Epoch: 112 | Train Loss: 0.014038 | Train Acc: 1.000000 | Train F1: 1.000000 | Valid Loss: 0.733192 | Valid Acc: 0.775510 | Valid F1: 0.703631 | LR: 2.50e-05\n"
     ]
    },
    {
     "name": "stderr",
     "output_type": "stream",
     "text": [
      "                                                                                           \r"
     ]
    },
    {
     "name": "stdout",
     "output_type": "stream",
     "text": [
      "Epoch: 113 | Train Loss: 0.011198 | Train Acc: 0.998299 | Train F1: 0.995392 | Valid Loss: 0.648326 | Valid Acc: 0.775510 | Valid F1: 0.735806 | LR: 2.50e-05\n"
     ]
    },
    {
     "name": "stderr",
     "output_type": "stream",
     "text": [
      "                                                                                           \r"
     ]
    },
    {
     "name": "stdout",
     "output_type": "stream",
     "text": [
      "Epoch: 114 | Train Loss: 0.009121 | Train Acc: 0.998299 | Train F1: 0.995392 | Valid Loss: 0.752448 | Valid Acc: 0.741497 | Valid F1: 0.683782 | LR: 2.50e-05\n"
     ]
    },
    {
     "name": "stderr",
     "output_type": "stream",
     "text": [
      "                                                                                           \r"
     ]
    },
    {
     "name": "stdout",
     "output_type": "stream",
     "text": [
      "Epoch: 115 | Train Loss: 0.004985 | Train Acc: 1.000000 | Train F1: 1.000000 | Valid Loss: 0.815517 | Valid Acc: 0.748299 | Valid F1: 0.688630 | LR: 2.50e-05\n"
     ]
    },
    {
     "name": "stderr",
     "output_type": "stream",
     "text": [
      "                                                                                           \r"
     ]
    },
    {
     "name": "stdout",
     "output_type": "stream",
     "text": [
      "Epoch: 116 | Train Loss: 0.006602 | Train Acc: 1.000000 | Train F1: 1.000000 | Valid Loss: 0.794413 | Valid Acc: 0.734694 | Valid F1: 0.671041 | LR: 2.50e-05\n"
     ]
    },
    {
     "name": "stderr",
     "output_type": "stream",
     "text": [
      "                                                                                           \r"
     ]
    },
    {
     "name": "stdout",
     "output_type": "stream",
     "text": [
      "Epoch: 117 | Train Loss: 0.002934 | Train Acc: 1.000000 | Train F1: 1.000000 | Valid Loss: 0.705612 | Valid Acc: 0.768707 | Valid F1: 0.714075 | LR: 2.49e-05\n"
     ]
    },
    {
     "name": "stderr",
     "output_type": "stream",
     "text": [
      "                                                                                           \r"
     ]
    },
    {
     "name": "stdout",
     "output_type": "stream",
     "text": [
      "Epoch: 118 | Train Loss: 0.011181 | Train Acc: 0.998299 | Train F1: 0.998758 | Valid Loss: 0.811636 | Valid Acc: 0.741497 | Valid F1: 0.681339 | LR: 2.49e-05\n"
     ]
    },
    {
     "name": "stderr",
     "output_type": "stream",
     "text": [
      "                                                                                           \r"
     ]
    },
    {
     "name": "stdout",
     "output_type": "stream",
     "text": [
      "Epoch: 119 | Train Loss: 0.005646 | Train Acc: 1.000000 | Train F1: 1.000000 | Valid Loss: 1.000796 | Valid Acc: 0.748299 | Valid F1: 0.692240 | LR: 2.49e-05\n"
     ]
    },
    {
     "name": "stderr",
     "output_type": "stream",
     "text": [
      "                                                                                           \r"
     ]
    },
    {
     "name": "stdout",
     "output_type": "stream",
     "text": [
      "Epoch: 120 | Train Loss: 0.008634 | Train Acc: 1.000000 | Train F1: 1.000000 | Valid Loss: 0.765335 | Valid Acc: 0.768707 | Valid F1: 0.702057 | LR: 2.48e-05\n"
     ]
    },
    {
     "name": "stderr",
     "output_type": "stream",
     "text": [
      "                                                                                           \r"
     ]
    },
    {
     "name": "stdout",
     "output_type": "stream",
     "text": [
      "Epoch: 121 | Train Loss: 0.006134 | Train Acc: 1.000000 | Train F1: 1.000000 | Valid Loss: 0.761944 | Valid Acc: 0.734694 | Valid F1: 0.660655 | LR: 2.48e-05\n"
     ]
    },
    {
     "name": "stderr",
     "output_type": "stream",
     "text": [
      "                                                                                           \r"
     ]
    },
    {
     "name": "stdout",
     "output_type": "stream",
     "text": [
      "Epoch: 122 | Train Loss: 0.005749 | Train Acc: 1.000000 | Train F1: 1.000000 | Valid Loss: 0.856008 | Valid Acc: 0.727891 | Valid F1: 0.677572 | LR: 2.48e-05\n"
     ]
    },
    {
     "name": "stderr",
     "output_type": "stream",
     "text": [
      "                                                                                           \r"
     ]
    },
    {
     "name": "stdout",
     "output_type": "stream",
     "text": [
      "Epoch: 123 | Train Loss: 0.006663 | Train Acc: 0.998299 | Train F1: 0.998736 | Valid Loss: 0.857112 | Valid Acc: 0.748299 | Valid F1: 0.726806 | LR: 2.47e-05\n"
     ]
    },
    {
     "name": "stderr",
     "output_type": "stream",
     "text": [
      "                                                                                           \r"
     ]
    },
    {
     "name": "stdout",
     "output_type": "stream",
     "text": [
      "Epoch: 124 | Train Loss: 0.003721 | Train Acc: 1.000000 | Train F1: 1.000000 | Valid Loss: 0.749047 | Valid Acc: 0.741497 | Valid F1: 0.725982 | LR: 2.47e-05\n"
     ]
    },
    {
     "name": "stderr",
     "output_type": "stream",
     "text": [
      "                                                                                           \r"
     ]
    },
    {
     "name": "stdout",
     "output_type": "stream",
     "text": [
      "Epoch: 125 | Train Loss: 0.005788 | Train Acc: 0.998299 | Train F1: 0.998758 | Valid Loss: 0.813881 | Valid Acc: 0.748299 | Valid F1: 0.720354 | LR: 2.46e-05\n"
     ]
    },
    {
     "name": "stderr",
     "output_type": "stream",
     "text": [
      "                                                                                           \r"
     ]
    },
    {
     "name": "stdout",
     "output_type": "stream",
     "text": [
      "Epoch: 126 | Train Loss: 0.003751 | Train Acc: 1.000000 | Train F1: 1.000000 | Valid Loss: 0.955041 | Valid Acc: 0.734694 | Valid F1: 0.670624 | LR: 2.46e-05\n"
     ]
    },
    {
     "name": "stderr",
     "output_type": "stream",
     "text": [
      "                                                                                           \r"
     ]
    },
    {
     "name": "stdout",
     "output_type": "stream",
     "text": [
      "Epoch: 127 | Train Loss: 0.004731 | Train Acc: 1.000000 | Train F1: 1.000000 | Valid Loss: 0.924702 | Valid Acc: 0.727891 | Valid F1: 0.693435 | LR: 2.45e-05\n"
     ]
    },
    {
     "name": "stderr",
     "output_type": "stream",
     "text": [
      "                                                                                           \r"
     ]
    },
    {
     "name": "stdout",
     "output_type": "stream",
     "text": [
      "Epoch: 128 | Train Loss: 0.003966 | Train Acc: 1.000000 | Train F1: 1.000000 | Valid Loss: 0.916783 | Valid Acc: 0.707483 | Valid F1: 0.647192 | LR: 2.45e-05\n"
     ]
    },
    {
     "name": "stderr",
     "output_type": "stream",
     "text": [
      "                                                                                           \r"
     ]
    },
    {
     "name": "stdout",
     "output_type": "stream",
     "text": [
      "Epoch: 129 | Train Loss: 0.003997 | Train Acc: 1.000000 | Train F1: 1.000000 | Valid Loss: 0.871695 | Valid Acc: 0.721088 | Valid F1: 0.644765 | LR: 2.44e-05\n"
     ]
    },
    {
     "name": "stderr",
     "output_type": "stream",
     "text": [
      "                                                                                           \r"
     ]
    },
    {
     "name": "stdout",
     "output_type": "stream",
     "text": [
      "Epoch: 130 | Train Loss: 0.006107 | Train Acc: 1.000000 | Train F1: 1.000000 | Valid Loss: 0.872509 | Valid Acc: 0.734694 | Valid F1: 0.693564 | LR: 2.43e-05\n"
     ]
    },
    {
     "name": "stderr",
     "output_type": "stream",
     "text": [
      "                                                                                           \r"
     ]
    },
    {
     "name": "stdout",
     "output_type": "stream",
     "text": [
      "Epoch: 131 | Train Loss: 0.002845 | Train Acc: 1.000000 | Train F1: 1.000000 | Valid Loss: 0.997524 | Valid Acc: 0.727891 | Valid F1: 0.671577 | LR: 2.42e-05\n"
     ]
    },
    {
     "name": "stderr",
     "output_type": "stream",
     "text": [
      "                                                                                           \r"
     ]
    },
    {
     "name": "stdout",
     "output_type": "stream",
     "text": [
      "Epoch: 132 | Train Loss: 0.006176 | Train Acc: 0.998299 | Train F1: 0.998689 | Valid Loss: 0.896235 | Valid Acc: 0.714286 | Valid F1: 0.670414 | LR: 2.42e-05\n"
     ]
    },
    {
     "name": "stderr",
     "output_type": "stream",
     "text": [
      "                                                                                           \r"
     ]
    },
    {
     "name": "stdout",
     "output_type": "stream",
     "text": [
      "Epoch: 133 | Train Loss: 0.005762 | Train Acc: 1.000000 | Train F1: 1.000000 | Valid Loss: 0.888253 | Valid Acc: 0.727891 | Valid F1: 0.679971 | LR: 2.41e-05\n"
     ]
    },
    {
     "name": "stderr",
     "output_type": "stream",
     "text": [
      "                                                                                           \r"
     ]
    },
    {
     "name": "stdout",
     "output_type": "stream",
     "text": [
      "Epoch: 134 | Train Loss: 0.002539 | Train Acc: 1.000000 | Train F1: 1.000000 | Valid Loss: 0.948869 | Valid Acc: 0.721088 | Valid F1: 0.676322 | LR: 2.40e-05\n"
     ]
    },
    {
     "name": "stderr",
     "output_type": "stream",
     "text": [
      "                                                                                           \r"
     ]
    },
    {
     "name": "stdout",
     "output_type": "stream",
     "text": [
      "Epoch: 135 | Train Loss: 0.020776 | Train Acc: 0.998299 | Train F1: 0.998736 | Valid Loss: 0.818059 | Valid Acc: 0.707483 | Valid F1: 0.672527 | LR: 2.39e-05\n"
     ]
    },
    {
     "name": "stderr",
     "output_type": "stream",
     "text": [
      "                                                                                           \r"
     ]
    },
    {
     "name": "stdout",
     "output_type": "stream",
     "text": [
      "Epoch: 136 | Train Loss: 0.008659 | Train Acc: 0.998299 | Train F1: 0.998713 | Valid Loss: 0.743242 | Valid Acc: 0.734694 | Valid F1: 0.679637 | LR: 2.38e-05\n"
     ]
    },
    {
     "name": "stderr",
     "output_type": "stream",
     "text": [
      "                                                                                           \r"
     ]
    },
    {
     "name": "stdout",
     "output_type": "stream",
     "text": [
      "Epoch: 137 | Train Loss: 0.009280 | Train Acc: 1.000000 | Train F1: 1.000000 | Valid Loss: 0.812938 | Valid Acc: 0.707483 | Valid F1: 0.635639 | LR: 2.37e-05\n"
     ]
    },
    {
     "name": "stderr",
     "output_type": "stream",
     "text": [
      "                                                                                           \r"
     ]
    },
    {
     "name": "stdout",
     "output_type": "stream",
     "text": [
      "Epoch: 138 | Train Loss: 0.006683 | Train Acc: 1.000000 | Train F1: 1.000000 | Valid Loss: 0.764889 | Valid Acc: 0.748299 | Valid F1: 0.698180 | LR: 2.36e-05\n"
     ]
    },
    {
     "name": "stderr",
     "output_type": "stream",
     "text": [
      "                                                                                           \r"
     ]
    },
    {
     "name": "stdout",
     "output_type": "stream",
     "text": [
      "Epoch: 139 | Train Loss: 0.007344 | Train Acc: 1.000000 | Train F1: 1.000000 | Valid Loss: 0.843315 | Valid Acc: 0.727891 | Valid F1: 0.667388 | LR: 2.35e-05\n"
     ]
    },
    {
     "name": "stderr",
     "output_type": "stream",
     "text": [
      "                                                                                           \r"
     ]
    },
    {
     "name": "stdout",
     "output_type": "stream",
     "text": [
      "Epoch: 140 | Train Loss: 0.007159 | Train Acc: 1.000000 | Train F1: 1.000000 | Valid Loss: 0.960068 | Valid Acc: 0.707483 | Valid F1: 0.658320 | LR: 2.34e-05\n"
     ]
    },
    {
     "name": "stderr",
     "output_type": "stream",
     "text": [
      "                                                                                           \r"
     ]
    },
    {
     "name": "stdout",
     "output_type": "stream",
     "text": [
      "Epoch: 141 | Train Loss: 0.003465 | Train Acc: 1.000000 | Train F1: 1.000000 | Valid Loss: 0.909384 | Valid Acc: 0.700680 | Valid F1: 0.651281 | LR: 2.33e-05\n"
     ]
    },
    {
     "name": "stderr",
     "output_type": "stream",
     "text": [
      "                                                                                           \r"
     ]
    },
    {
     "name": "stdout",
     "output_type": "stream",
     "text": [
      "Epoch: 142 | Train Loss: 0.005206 | Train Acc: 0.998299 | Train F1: 0.998736 | Valid Loss: 0.692214 | Valid Acc: 0.714286 | Valid F1: 0.657231 | LR: 2.32e-05\n"
     ]
    },
    {
     "name": "stderr",
     "output_type": "stream",
     "text": [
      "                                                                                           \r"
     ]
    },
    {
     "name": "stdout",
     "output_type": "stream",
     "text": [
      "Epoch: 143 | Train Loss: 0.004342 | Train Acc: 1.000000 | Train F1: 1.000000 | Valid Loss: 0.911270 | Valid Acc: 0.687075 | Valid F1: 0.624640 | LR: 2.31e-05\n"
     ]
    },
    {
     "name": "stderr",
     "output_type": "stream",
     "text": [
      "                                                                                           \r"
     ]
    },
    {
     "name": "stdout",
     "output_type": "stream",
     "text": [
      "Epoch: 144 | Train Loss: 0.041217 | Train Acc: 0.994898 | Train F1: 0.996021 | Valid Loss: 0.906772 | Valid Acc: 0.687075 | Valid F1: 0.634666 | LR: 2.30e-05\n"
     ]
    },
    {
     "name": "stderr",
     "output_type": "stream",
     "text": [
      "                                                                                           \r"
     ]
    },
    {
     "name": "stdout",
     "output_type": "stream",
     "text": [
      "Epoch: 145 | Train Loss: 0.020593 | Train Acc: 0.996599 | Train F1: 0.997403 | Valid Loss: 0.851306 | Valid Acc: 0.639456 | Valid F1: 0.532800 | LR: 2.29e-05\n"
     ]
    },
    {
     "name": "stderr",
     "output_type": "stream",
     "text": [
      "                                                                                           \r"
     ]
    },
    {
     "name": "stdout",
     "output_type": "stream",
     "text": [
      "Epoch: 146 | Train Loss: 0.029321 | Train Acc: 0.991497 | Train F1: 0.990311 | Valid Loss: 0.710076 | Valid Acc: 0.700680 | Valid F1: 0.634593 | LR: 2.27e-05\n"
     ]
    },
    {
     "name": "stderr",
     "output_type": "stream",
     "text": [
      "                                                                                           \r"
     ]
    },
    {
     "name": "stdout",
     "output_type": "stream",
     "text": [
      "Epoch: 147 | Train Loss: 0.017619 | Train Acc: 0.996599 | Train F1: 0.997401 | Valid Loss: 0.733465 | Valid Acc: 0.707483 | Valid F1: 0.681641 | LR: 2.26e-05\n"
     ]
    },
    {
     "name": "stderr",
     "output_type": "stream",
     "text": [
      "                                                                                           \r"
     ]
    },
    {
     "name": "stdout",
     "output_type": "stream",
     "text": [
      "Epoch: 148 | Train Loss: 0.014254 | Train Acc: 0.996599 | Train F1: 0.997305 | Valid Loss: 0.643537 | Valid Acc: 0.687075 | Valid F1: 0.646228 | LR: 2.25e-05\n"
     ]
    },
    {
     "name": "stderr",
     "output_type": "stream",
     "text": [
      "                                                                                           \r"
     ]
    },
    {
     "name": "stdout",
     "output_type": "stream",
     "text": [
      "Epoch: 149 | Train Loss: 0.008599 | Train Acc: 0.998299 | Train F1: 0.998689 | Valid Loss: 0.732599 | Valid Acc: 0.673469 | Valid F1: 0.628308 | LR: 2.24e-05\n"
     ]
    },
    {
     "name": "stderr",
     "output_type": "stream",
     "text": [
      "                                                                                           \r"
     ]
    },
    {
     "name": "stdout",
     "output_type": "stream",
     "text": [
      "Epoch: 150 | Train Loss: 0.004928 | Train Acc: 1.000000 | Train F1: 1.000000 | Valid Loss: 0.835199 | Valid Acc: 0.659864 | Valid F1: 0.587338 | LR: 2.22e-05\n"
     ]
    },
    {
     "name": "stderr",
     "output_type": "stream",
     "text": [
      "                                                                                           \r"
     ]
    },
    {
     "name": "stdout",
     "output_type": "stream",
     "text": [
      "Epoch: 151 | Train Loss: 0.018902 | Train Acc: 0.998299 | Train F1: 0.998736 | Valid Loss: 0.815848 | Valid Acc: 0.700680 | Valid F1: 0.666406 | LR: 2.21e-05\n"
     ]
    },
    {
     "name": "stderr",
     "output_type": "stream",
     "text": [
      "                                                                                           \r"
     ]
    },
    {
     "name": "stdout",
     "output_type": "stream",
     "text": [
      "Epoch: 152 | Train Loss: 0.006047 | Train Acc: 1.000000 | Train F1: 1.000000 | Valid Loss: 0.882255 | Valid Acc: 0.646259 | Valid F1: 0.601234 | LR: 2.19e-05\n"
     ]
    },
    {
     "name": "stderr",
     "output_type": "stream",
     "text": [
      "                                                                                           \r"
     ]
    },
    {
     "name": "stdout",
     "output_type": "stream",
     "text": [
      "Epoch: 153 | Train Loss: 0.009358 | Train Acc: 0.996599 | Train F1: 0.997402 | Valid Loss: 0.784928 | Valid Acc: 0.639456 | Valid F1: 0.557977 | LR: 2.18e-05\n"
     ]
    },
    {
     "name": "stderr",
     "output_type": "stream",
     "text": [
      "                                                                                           \r"
     ]
    },
    {
     "name": "stdout",
     "output_type": "stream",
     "text": [
      "Epoch: 154 | Train Loss: 0.007720 | Train Acc: 0.998299 | Train F1: 0.998736 | Valid Loss: 0.676785 | Valid Acc: 0.666667 | Valid F1: 0.584855 | LR: 2.16e-05\n"
     ]
    },
    {
     "name": "stderr",
     "output_type": "stream",
     "text": [
      "                                                                                           \r"
     ]
    },
    {
     "name": "stdout",
     "output_type": "stream",
     "text": [
      "Epoch: 155 | Train Loss: 0.006339 | Train Acc: 1.000000 | Train F1: 1.000000 | Valid Loss: 0.772898 | Valid Acc: 0.673469 | Valid F1: 0.600575 | LR: 2.15e-05\n"
     ]
    },
    {
     "name": "stderr",
     "output_type": "stream",
     "text": [
      "                                                                                           \r"
     ]
    },
    {
     "name": "stdout",
     "output_type": "stream",
     "text": [
      "Epoch: 156 | Train Loss: 0.004705 | Train Acc: 1.000000 | Train F1: 1.000000 | Valid Loss: 0.806494 | Valid Acc: 0.693878 | Valid F1: 0.644948 | LR: 2.13e-05\n"
     ]
    },
    {
     "name": "stderr",
     "output_type": "stream",
     "text": [
      "                                                                                           \r"
     ]
    },
    {
     "name": "stdout",
     "output_type": "stream",
     "text": [
      "Epoch: 157 | Train Loss: 0.005062 | Train Acc: 1.000000 | Train F1: 1.000000 | Valid Loss: 0.652011 | Valid Acc: 0.693878 | Valid F1: 0.658511 | LR: 2.12e-05\n"
     ]
    },
    {
     "name": "stderr",
     "output_type": "stream",
     "text": [
      "                                                                                           \r"
     ]
    },
    {
     "name": "stdout",
     "output_type": "stream",
     "text": [
      "Epoch: 158 | Train Loss: 0.016882 | Train Acc: 0.998299 | Train F1: 0.998689 | Valid Loss: 0.736101 | Valid Acc: 0.714286 | Valid F1: 0.653621 | LR: 2.10e-05\n"
     ]
    },
    {
     "name": "stderr",
     "output_type": "stream",
     "text": [
      "                                                                                           \r"
     ]
    },
    {
     "name": "stdout",
     "output_type": "stream",
     "text": [
      "Epoch: 159 | Train Loss: 0.020403 | Train Acc: 0.998299 | Train F1: 0.998665 | Valid Loss: 0.881918 | Valid Acc: 0.714286 | Valid F1: 0.671525 | LR: 2.09e-05\n"
     ]
    },
    {
     "name": "stderr",
     "output_type": "stream",
     "text": [
      "                                                                                           \r"
     ]
    },
    {
     "name": "stdout",
     "output_type": "stream",
     "text": [
      "Epoch: 160 | Train Loss: 0.011236 | Train Acc: 0.998299 | Train F1: 0.998665 | Valid Loss: 0.862892 | Valid Acc: 0.653061 | Valid F1: 0.560301 | LR: 2.07e-05\n"
     ]
    },
    {
     "name": "stderr",
     "output_type": "stream",
     "text": [
      "                                                                                           \r"
     ]
    },
    {
     "name": "stdout",
     "output_type": "stream",
     "text": [
      "Epoch: 161 | Train Loss: 0.040805 | Train Acc: 0.989796 | Train F1: 0.991493 | Valid Loss: 0.690928 | Valid Acc: 0.673469 | Valid F1: 0.572482 | LR: 2.05e-05\n"
     ]
    },
    {
     "name": "stderr",
     "output_type": "stream",
     "text": [
      "                                                                                           \r"
     ]
    },
    {
     "name": "stdout",
     "output_type": "stream",
     "text": [
      "Epoch: 162 | Train Loss: 0.037271 | Train Acc: 0.988095 | Train F1: 0.989259 | Valid Loss: 0.764552 | Valid Acc: 0.721088 | Valid F1: 0.610212 | LR: 2.04e-05\n"
     ]
    },
    {
     "name": "stderr",
     "output_type": "stream",
     "text": [
      "                                                                                           \r"
     ]
    },
    {
     "name": "stdout",
     "output_type": "stream",
     "text": [
      "Epoch: 163 | Train Loss: 0.025193 | Train Acc: 0.994898 | Train F1: 0.991696 | Valid Loss: 0.748006 | Valid Acc: 0.714286 | Valid F1: 0.636472 | LR: 2.02e-05\n"
     ]
    },
    {
     "name": "stderr",
     "output_type": "stream",
     "text": [
      "                                                                                           \r"
     ]
    },
    {
     "name": "stdout",
     "output_type": "stream",
     "text": [
      "Epoch: 164 | Train Loss: 0.011765 | Train Acc: 1.000000 | Train F1: 1.000000 | Valid Loss: 0.710526 | Valid Acc: 0.741497 | Valid F1: 0.698074 | LR: 2.00e-05\n"
     ]
    },
    {
     "name": "stderr",
     "output_type": "stream",
     "text": [
      "                                                                                           \r"
     ]
    },
    {
     "name": "stdout",
     "output_type": "stream",
     "text": [
      "Epoch: 165 | Train Loss: 0.031026 | Train Acc: 0.994898 | Train F1: 0.992064 | Valid Loss: 0.803733 | Valid Acc: 0.734694 | Valid F1: 0.697375 | LR: 1.98e-05\n"
     ]
    },
    {
     "name": "stderr",
     "output_type": "stream",
     "text": [
      "                                                                                           \r"
     ]
    },
    {
     "name": "stdout",
     "output_type": "stream",
     "text": [
      "Epoch: 166 | Train Loss: 0.010972 | Train Acc: 1.000000 | Train F1: 1.000000 | Valid Loss: 0.808890 | Valid Acc: 0.707483 | Valid F1: 0.638924 | LR: 1.97e-05\n"
     ]
    },
    {
     "name": "stderr",
     "output_type": "stream",
     "text": [
      "                                                                                           \r"
     ]
    },
    {
     "name": "stdout",
     "output_type": "stream",
     "text": [
      "Epoch: 167 | Train Loss: 0.020055 | Train Acc: 0.998299 | Train F1: 0.998496 | Valid Loss: 0.840879 | Valid Acc: 0.687075 | Valid F1: 0.602764 | LR: 1.95e-05\n"
     ]
    },
    {
     "name": "stderr",
     "output_type": "stream",
     "text": [
      "                                                                                           \r"
     ]
    },
    {
     "name": "stdout",
     "output_type": "stream",
     "text": [
      "Epoch: 168 | Train Loss: 0.010661 | Train Acc: 0.998299 | Train F1: 0.995074 | Valid Loss: 0.703618 | Valid Acc: 0.714286 | Valid F1: 0.627969 | LR: 1.93e-05\n"
     ]
    },
    {
     "name": "stderr",
     "output_type": "stream",
     "text": [
      "                                                                                           \r"
     ]
    },
    {
     "name": "stdout",
     "output_type": "stream",
     "text": [
      "Epoch: 169 | Train Loss: 0.007456 | Train Acc: 1.000000 | Train F1: 1.000000 | Valid Loss: 0.674867 | Valid Acc: 0.693878 | Valid F1: 0.612751 | LR: 1.91e-05\n"
     ]
    },
    {
     "name": "stderr",
     "output_type": "stream",
     "text": [
      "                                                                                           \r"
     ]
    },
    {
     "name": "stdout",
     "output_type": "stream",
     "text": [
      "Epoch: 170 | Train Loss: 0.009394 | Train Acc: 0.998299 | Train F1: 0.998496 | Valid Loss: 0.736936 | Valid Acc: 0.714286 | Valid F1: 0.633646 | LR: 1.89e-05\n"
     ]
    },
    {
     "name": "stderr",
     "output_type": "stream",
     "text": [
      "                                                                                           \r"
     ]
    },
    {
     "name": "stdout",
     "output_type": "stream",
     "text": [
      "Epoch: 171 | Train Loss: 0.004800 | Train Acc: 1.000000 | Train F1: 1.000000 | Valid Loss: 0.714301 | Valid Acc: 0.734694 | Valid F1: 0.653953 | LR: 1.88e-05\n"
     ]
    },
    {
     "name": "stderr",
     "output_type": "stream",
     "text": [
      "                                                                                           \r"
     ]
    },
    {
     "name": "stdout",
     "output_type": "stream",
     "text": [
      "Epoch: 172 | Train Loss: 0.004377 | Train Acc: 1.000000 | Train F1: 1.000000 | Valid Loss: 0.768006 | Valid Acc: 0.707483 | Valid F1: 0.623637 | LR: 1.86e-05\n"
     ]
    },
    {
     "name": "stderr",
     "output_type": "stream",
     "text": [
      "                                                                                           \r"
     ]
    },
    {
     "name": "stdout",
     "output_type": "stream",
     "text": [
      "Epoch: 173 | Train Loss: 0.004680 | Train Acc: 1.000000 | Train F1: 1.000000 | Valid Loss: 0.713278 | Valid Acc: 0.721088 | Valid F1: 0.668081 | LR: 1.84e-05\n"
     ]
    },
    {
     "name": "stderr",
     "output_type": "stream",
     "text": [
      "                                                                                           \r"
     ]
    },
    {
     "name": "stdout",
     "output_type": "stream",
     "text": [
      "Epoch: 174 | Train Loss: 0.007789 | Train Acc: 1.000000 | Train F1: 1.000000 | Valid Loss: 0.822845 | Valid Acc: 0.727891 | Valid F1: 0.639500 | LR: 1.82e-05\n"
     ]
    },
    {
     "name": "stderr",
     "output_type": "stream",
     "text": [
      "                                                                                           \r"
     ]
    },
    {
     "name": "stdout",
     "output_type": "stream",
     "text": [
      "Epoch: 175 | Train Loss: 0.004134 | Train Acc: 1.000000 | Train F1: 1.000000 | Valid Loss: 0.777152 | Valid Acc: 0.714286 | Valid F1: 0.639235 | LR: 1.80e-05\n"
     ]
    },
    {
     "name": "stderr",
     "output_type": "stream",
     "text": [
      "                                                                                           \r"
     ]
    },
    {
     "name": "stdout",
     "output_type": "stream",
     "text": [
      "Epoch: 176 | Train Loss: 0.005764 | Train Acc: 1.000000 | Train F1: 1.000000 | Valid Loss: 0.736935 | Valid Acc: 0.707483 | Valid F1: 0.624436 | LR: 1.78e-05\n"
     ]
    },
    {
     "name": "stderr",
     "output_type": "stream",
     "text": [
      "                                                                                           \r"
     ]
    },
    {
     "name": "stdout",
     "output_type": "stream",
     "text": [
      "Epoch: 177 | Train Loss: 0.003821 | Train Acc: 1.000000 | Train F1: 1.000000 | Valid Loss: 0.774719 | Valid Acc: 0.693878 | Valid F1: 0.609076 | LR: 1.76e-05\n"
     ]
    },
    {
     "name": "stderr",
     "output_type": "stream",
     "text": [
      "                                                                                           \r"
     ]
    },
    {
     "name": "stdout",
     "output_type": "stream",
     "text": [
      "Epoch: 178 | Train Loss: 0.003544 | Train Acc: 1.000000 | Train F1: 1.000000 | Valid Loss: 0.849095 | Valid Acc: 0.721088 | Valid F1: 0.637928 | LR: 1.74e-05\n"
     ]
    },
    {
     "name": "stderr",
     "output_type": "stream",
     "text": [
      "                                                                                           \r"
     ]
    },
    {
     "name": "stdout",
     "output_type": "stream",
     "text": [
      "Epoch: 179 | Train Loss: 0.003889 | Train Acc: 1.000000 | Train F1: 1.000000 | Valid Loss: 0.896835 | Valid Acc: 0.680272 | Valid F1: 0.593612 | LR: 1.72e-05\n"
     ]
    },
    {
     "name": "stderr",
     "output_type": "stream",
     "text": [
      "                                                                                           \r"
     ]
    },
    {
     "name": "stdout",
     "output_type": "stream",
     "text": [
      "Epoch: 180 | Train Loss: 0.006100 | Train Acc: 1.000000 | Train F1: 1.000000 | Valid Loss: 0.654507 | Valid Acc: 0.748299 | Valid F1: 0.704128 | LR: 1.70e-05\n"
     ]
    },
    {
     "name": "stderr",
     "output_type": "stream",
     "text": [
      "                                                                                           \r"
     ]
    },
    {
     "name": "stdout",
     "output_type": "stream",
     "text": [
      "Epoch: 181 | Train Loss: 0.003278 | Train Acc: 1.000000 | Train F1: 1.000000 | Valid Loss: 0.738239 | Valid Acc: 0.714286 | Valid F1: 0.648954 | LR: 1.68e-05\n"
     ]
    },
    {
     "name": "stderr",
     "output_type": "stream",
     "text": [
      "                                                                                           \r"
     ]
    },
    {
     "name": "stdout",
     "output_type": "stream",
     "text": [
      "Epoch: 182 | Train Loss: 0.005359 | Train Acc: 1.000000 | Train F1: 1.000000 | Valid Loss: 0.778656 | Valid Acc: 0.741497 | Valid F1: 0.695484 | LR: 1.66e-05\n"
     ]
    },
    {
     "name": "stderr",
     "output_type": "stream",
     "text": [
      "                                                                                           \r"
     ]
    },
    {
     "name": "stdout",
     "output_type": "stream",
     "text": [
      "Epoch: 183 | Train Loss: 0.005116 | Train Acc: 1.000000 | Train F1: 1.000000 | Valid Loss: 0.844446 | Valid Acc: 0.714286 | Valid F1: 0.651260 | LR: 1.64e-05\n"
     ]
    },
    {
     "name": "stderr",
     "output_type": "stream",
     "text": [
      "                                                                                           \r"
     ]
    },
    {
     "name": "stdout",
     "output_type": "stream",
     "text": [
      "Epoch: 184 | Train Loss: 0.001887 | Train Acc: 1.000000 | Train F1: 1.000000 | Valid Loss: 0.777344 | Valid Acc: 0.707483 | Valid F1: 0.670810 | LR: 1.62e-05\n"
     ]
    },
    {
     "name": "stderr",
     "output_type": "stream",
     "text": [
      "                                                                                           \r"
     ]
    },
    {
     "name": "stdout",
     "output_type": "stream",
     "text": [
      "Epoch: 185 | Train Loss: 0.006219 | Train Acc: 1.000000 | Train F1: 1.000000 | Valid Loss: 0.730620 | Valid Acc: 0.748299 | Valid F1: 0.710423 | LR: 1.59e-05\n"
     ]
    },
    {
     "name": "stderr",
     "output_type": "stream",
     "text": [
      "                                                                                           \r"
     ]
    },
    {
     "name": "stdout",
     "output_type": "stream",
     "text": [
      "Epoch: 186 | Train Loss: 0.008443 | Train Acc: 1.000000 | Train F1: 1.000000 | Valid Loss: 0.833748 | Valid Acc: 0.700680 | Valid F1: 0.640200 | LR: 1.57e-05\n"
     ]
    },
    {
     "name": "stderr",
     "output_type": "stream",
     "text": [
      "                                                                                           \r"
     ]
    },
    {
     "name": "stdout",
     "output_type": "stream",
     "text": [
      "Epoch: 187 | Train Loss: 0.003881 | Train Acc: 1.000000 | Train F1: 1.000000 | Valid Loss: 0.863392 | Valid Acc: 0.721088 | Valid F1: 0.684838 | LR: 1.55e-05\n"
     ]
    },
    {
     "name": "stderr",
     "output_type": "stream",
     "text": [
      "                                                                                           \r"
     ]
    },
    {
     "name": "stdout",
     "output_type": "stream",
     "text": [
      "Epoch: 188 | Train Loss: 0.001899 | Train Acc: 1.000000 | Train F1: 1.000000 | Valid Loss: 0.723767 | Valid Acc: 0.700680 | Valid F1: 0.662998 | LR: 1.53e-05\n"
     ]
    },
    {
     "name": "stderr",
     "output_type": "stream",
     "text": [
      "                                                                                           \r"
     ]
    },
    {
     "name": "stdout",
     "output_type": "stream",
     "text": [
      "Epoch: 189 | Train Loss: 0.004209 | Train Acc: 1.000000 | Train F1: 1.000000 | Valid Loss: 0.792454 | Valid Acc: 0.734694 | Valid F1: 0.704834 | LR: 1.51e-05\n"
     ]
    },
    {
     "name": "stderr",
     "output_type": "stream",
     "text": [
      "                                                                                           \r"
     ]
    },
    {
     "name": "stdout",
     "output_type": "stream",
     "text": [
      "Epoch: 190 | Train Loss: 0.002822 | Train Acc: 1.000000 | Train F1: 1.000000 | Valid Loss: 0.735984 | Valid Acc: 0.693878 | Valid F1: 0.661489 | LR: 1.49e-05\n"
     ]
    },
    {
     "name": "stderr",
     "output_type": "stream",
     "text": [
      "                                                                                           \r"
     ]
    },
    {
     "name": "stdout",
     "output_type": "stream",
     "text": [
      "Epoch: 191 | Train Loss: 0.003240 | Train Acc: 1.000000 | Train F1: 1.000000 | Valid Loss: 0.757688 | Valid Acc: 0.700680 | Valid F1: 0.662998 | LR: 1.47e-05\n"
     ]
    },
    {
     "name": "stderr",
     "output_type": "stream",
     "text": [
      "                                                                                           \r"
     ]
    },
    {
     "name": "stdout",
     "output_type": "stream",
     "text": [
      "Epoch: 192 | Train Loss: 0.020047 | Train Acc: 0.994898 | Train F1: 0.995696 | Valid Loss: 0.647943 | Valid Acc: 0.700680 | Valid F1: 0.663100 | LR: 1.45e-05\n"
     ]
    },
    {
     "name": "stderr",
     "output_type": "stream",
     "text": [
      "                                                                                           \r"
     ]
    },
    {
     "name": "stdout",
     "output_type": "stream",
     "text": [
      "Epoch: 193 | Train Loss: 0.006420 | Train Acc: 1.000000 | Train F1: 1.000000 | Valid Loss: 0.836177 | Valid Acc: 0.721088 | Valid F1: 0.674502 | LR: 1.42e-05\n"
     ]
    },
    {
     "name": "stderr",
     "output_type": "stream",
     "text": [
      "                                                                                           \r"
     ]
    },
    {
     "name": "stdout",
     "output_type": "stream",
     "text": [
      "Epoch: 194 | Train Loss: 0.007448 | Train Acc: 0.998299 | Train F1: 0.998758 | Valid Loss: 0.754260 | Valid Acc: 0.727891 | Valid F1: 0.699791 | LR: 1.40e-05\n"
     ]
    },
    {
     "name": "stderr",
     "output_type": "stream",
     "text": [
      "                                                                                           \r"
     ]
    },
    {
     "name": "stdout",
     "output_type": "stream",
     "text": [
      "Epoch: 195 | Train Loss: 0.007273 | Train Acc: 1.000000 | Train F1: 1.000000 | Valid Loss: 0.779767 | Valid Acc: 0.734694 | Valid F1: 0.684338 | LR: 1.38e-05\n"
     ]
    },
    {
     "name": "stderr",
     "output_type": "stream",
     "text": [
      "                                                                                           \r"
     ]
    },
    {
     "name": "stdout",
     "output_type": "stream",
     "text": [
      "Epoch: 196 | Train Loss: 0.005262 | Train Acc: 1.000000 | Train F1: 1.000000 | Valid Loss: 0.707677 | Valid Acc: 0.721088 | Valid F1: 0.662897 | LR: 1.36e-05\n"
     ]
    },
    {
     "name": "stderr",
     "output_type": "stream",
     "text": [
      "                                                                                           \r"
     ]
    },
    {
     "name": "stdout",
     "output_type": "stream",
     "text": [
      "Epoch: 197 | Train Loss: 0.005104 | Train Acc: 1.000000 | Train F1: 1.000000 | Valid Loss: 0.820613 | Valid Acc: 0.727891 | Valid F1: 0.676871 | LR: 1.34e-05\n"
     ]
    },
    {
     "name": "stderr",
     "output_type": "stream",
     "text": [
      "                                                                                           \r"
     ]
    },
    {
     "name": "stdout",
     "output_type": "stream",
     "text": [
      "Epoch: 198 | Train Loss: 0.003551 | Train Acc: 1.000000 | Train F1: 1.000000 | Valid Loss: 0.741296 | Valid Acc: 0.741497 | Valid F1: 0.687538 | LR: 1.32e-05\n"
     ]
    },
    {
     "name": "stderr",
     "output_type": "stream",
     "text": [
      "                                                                                           \r"
     ]
    },
    {
     "name": "stdout",
     "output_type": "stream",
     "text": [
      "Epoch: 199 | Train Loss: 0.003883 | Train Acc: 1.000000 | Train F1: 1.000000 | Valid Loss: 0.791817 | Valid Acc: 0.693878 | Valid F1: 0.628219 | LR: 1.29e-05\n"
     ]
    },
    {
     "name": "stderr",
     "output_type": "stream",
     "text": [
      "                                                                                           \r"
     ]
    },
    {
     "name": "stdout",
     "output_type": "stream",
     "text": [
      "Epoch: 200 | Train Loss: 0.009681 | Train Acc: 0.998299 | Train F1: 0.997988 | Valid Loss: 0.827769 | Valid Acc: 0.721088 | Valid F1: 0.674682 | LR: 1.27e-05\n"
     ]
    },
    {
     "name": "stderr",
     "output_type": "stream",
     "text": [
      "                                                                                           \r"
     ]
    },
    {
     "name": "stdout",
     "output_type": "stream",
     "text": [
      "Epoch: 201 | Train Loss: 0.009114 | Train Acc: 1.000000 | Train F1: 1.000000 | Valid Loss: 0.672416 | Valid Acc: 0.741497 | Valid F1: 0.680525 | LR: 1.25e-05\n"
     ]
    },
    {
     "name": "stderr",
     "output_type": "stream",
     "text": [
      "                                                                                           \r"
     ]
    },
    {
     "name": "stdout",
     "output_type": "stream",
     "text": [
      "Epoch: 202 | Train Loss: 0.003487 | Train Acc: 1.000000 | Train F1: 1.000000 | Valid Loss: 0.661343 | Valid Acc: 0.714286 | Valid F1: 0.660331 | LR: 1.23e-05\n"
     ]
    },
    {
     "name": "stderr",
     "output_type": "stream",
     "text": [
      "                                                                                           \r"
     ]
    },
    {
     "name": "stdout",
     "output_type": "stream",
     "text": [
      "Epoch: 203 | Train Loss: 0.004010 | Train Acc: 1.000000 | Train F1: 1.000000 | Valid Loss: 0.703228 | Valid Acc: 0.700680 | Valid F1: 0.616628 | LR: 1.21e-05\n"
     ]
    },
    {
     "name": "stderr",
     "output_type": "stream",
     "text": [
      "                                                                                           \r"
     ]
    },
    {
     "name": "stdout",
     "output_type": "stream",
     "text": [
      "Epoch: 204 | Train Loss: 0.003518 | Train Acc: 1.000000 | Train F1: 1.000000 | Valid Loss: 0.796411 | Valid Acc: 0.721088 | Valid F1: 0.663152 | LR: 1.18e-05\n"
     ]
    },
    {
     "name": "stderr",
     "output_type": "stream",
     "text": [
      "                                                                                           \r"
     ]
    },
    {
     "name": "stdout",
     "output_type": "stream",
     "text": [
      "Epoch: 205 | Train Loss: 0.003884 | Train Acc: 1.000000 | Train F1: 1.000000 | Valid Loss: 0.737690 | Valid Acc: 0.693878 | Valid F1: 0.638929 | LR: 1.16e-05\n"
     ]
    },
    {
     "name": "stderr",
     "output_type": "stream",
     "text": [
      "                                                                                           \r"
     ]
    },
    {
     "name": "stdout",
     "output_type": "stream",
     "text": [
      "Epoch: 206 | Train Loss: 0.003419 | Train Acc: 1.000000 | Train F1: 1.000000 | Valid Loss: 0.649362 | Valid Acc: 0.700680 | Valid F1: 0.653594 | LR: 1.14e-05\n"
     ]
    },
    {
     "name": "stderr",
     "output_type": "stream",
     "text": [
      "                                                                                           \r"
     ]
    },
    {
     "name": "stdout",
     "output_type": "stream",
     "text": [
      "Epoch: 207 | Train Loss: 0.002504 | Train Acc: 1.000000 | Train F1: 1.000000 | Valid Loss: 0.985271 | Valid Acc: 0.700680 | Valid F1: 0.647319 | LR: 1.12e-05\n"
     ]
    },
    {
     "name": "stderr",
     "output_type": "stream",
     "text": [
      "                                                                                           \r"
     ]
    },
    {
     "name": "stdout",
     "output_type": "stream",
     "text": [
      "Epoch: 208 | Train Loss: 0.004747 | Train Acc: 1.000000 | Train F1: 1.000000 | Valid Loss: 0.833559 | Valid Acc: 0.693878 | Valid F1: 0.649281 | LR: 1.10e-05\n"
     ]
    },
    {
     "name": "stderr",
     "output_type": "stream",
     "text": [
      "                                                                                           \r"
     ]
    },
    {
     "name": "stdout",
     "output_type": "stream",
     "text": [
      "Epoch: 209 | Train Loss: 0.005083 | Train Acc: 1.000000 | Train F1: 1.000000 | Valid Loss: 0.792174 | Valid Acc: 0.714286 | Valid F1: 0.664270 | LR: 1.08e-05\n"
     ]
    },
    {
     "name": "stderr",
     "output_type": "stream",
     "text": [
      "                                                                                           \r"
     ]
    },
    {
     "name": "stdout",
     "output_type": "stream",
     "text": [
      "Epoch: 210 | Train Loss: 0.002610 | Train Acc: 1.000000 | Train F1: 1.000000 | Valid Loss: 0.876548 | Valid Acc: 0.734694 | Valid F1: 0.681561 | LR: 1.05e-05\n"
     ]
    },
    {
     "name": "stderr",
     "output_type": "stream",
     "text": [
      "                                                                                           \r"
     ]
    },
    {
     "name": "stdout",
     "output_type": "stream",
     "text": [
      "Epoch: 211 | Train Loss: 0.002448 | Train Acc: 1.000000 | Train F1: 1.000000 | Valid Loss: 0.811945 | Valid Acc: 0.734694 | Valid F1: 0.687626 | LR: 1.03e-05\n"
     ]
    },
    {
     "name": "stderr",
     "output_type": "stream",
     "text": [
      "                                                                                           \r"
     ]
    },
    {
     "name": "stdout",
     "output_type": "stream",
     "text": [
      "Epoch: 212 | Train Loss: 0.003233 | Train Acc: 1.000000 | Train F1: 1.000000 | Valid Loss: 0.815308 | Valid Acc: 0.727891 | Valid F1: 0.674750 | LR: 1.01e-05\n"
     ]
    },
    {
     "name": "stderr",
     "output_type": "stream",
     "text": [
      "                                                                                           \r"
     ]
    },
    {
     "name": "stdout",
     "output_type": "stream",
     "text": [
      "Epoch: 213 | Train Loss: 0.002095 | Train Acc: 1.000000 | Train F1: 1.000000 | Valid Loss: 0.904792 | Valid Acc: 0.714286 | Valid F1: 0.659383 | LR: 9.90e-06\n"
     ]
    },
    {
     "name": "stderr",
     "output_type": "stream",
     "text": [
      "                                                                                           \r"
     ]
    },
    {
     "name": "stdout",
     "output_type": "stream",
     "text": [
      "Epoch: 214 | Train Loss: 0.019890 | Train Acc: 0.998299 | Train F1: 0.997988 | Valid Loss: 0.736199 | Valid Acc: 0.727891 | Valid F1: 0.676529 | LR: 9.69e-06\n"
     ]
    },
    {
     "name": "stderr",
     "output_type": "stream",
     "text": [
      "                                                                                           \r"
     ]
    },
    {
     "name": "stdout",
     "output_type": "stream",
     "text": [
      "Epoch: 215 | Train Loss: 0.002324 | Train Acc: 1.000000 | Train F1: 1.000000 | Valid Loss: 0.735387 | Valid Acc: 0.748299 | Valid F1: 0.688256 | LR: 9.48e-06\n"
     ]
    },
    {
     "name": "stderr",
     "output_type": "stream",
     "text": [
      "                                                                                           \r"
     ]
    },
    {
     "name": "stdout",
     "output_type": "stream",
     "text": [
      "Epoch: 216 | Train Loss: 0.002167 | Train Acc: 1.000000 | Train F1: 1.000000 | Valid Loss: 0.888476 | Valid Acc: 0.707483 | Valid F1: 0.658601 | LR: 9.26e-06\n"
     ]
    },
    {
     "name": "stderr",
     "output_type": "stream",
     "text": [
      "                                                                                           \r"
     ]
    },
    {
     "name": "stdout",
     "output_type": "stream",
     "text": [
      "Epoch: 217 | Train Loss: 0.002131 | Train Acc: 1.000000 | Train F1: 1.000000 | Valid Loss: 0.811685 | Valid Acc: 0.727891 | Valid F1: 0.679819 | LR: 9.05e-06\n"
     ]
    },
    {
     "name": "stderr",
     "output_type": "stream",
     "text": [
      "                                                                                           \r"
     ]
    },
    {
     "name": "stdout",
     "output_type": "stream",
     "text": [
      "Epoch: 218 | Train Loss: 0.002271 | Train Acc: 1.000000 | Train F1: 1.000000 | Valid Loss: 0.685003 | Valid Acc: 0.721088 | Valid F1: 0.674803 | LR: 8.85e-06\n"
     ]
    },
    {
     "name": "stderr",
     "output_type": "stream",
     "text": [
      "                                                                                           \r"
     ]
    },
    {
     "name": "stdout",
     "output_type": "stream",
     "text": [
      "Epoch: 219 | Train Loss: 0.007118 | Train Acc: 0.998299 | Train F1: 0.998689 | Valid Loss: 0.745629 | Valid Acc: 0.714286 | Valid F1: 0.665000 | LR: 8.64e-06\n"
     ]
    },
    {
     "name": "stderr",
     "output_type": "stream",
     "text": [
      "                                                                                           \r"
     ]
    },
    {
     "name": "stdout",
     "output_type": "stream",
     "text": [
      "Epoch: 220 | Train Loss: 0.002778 | Train Acc: 1.000000 | Train F1: 1.000000 | Valid Loss: 0.853663 | Valid Acc: 0.693878 | Valid F1: 0.646924 | LR: 8.43e-06\n"
     ]
    },
    {
     "name": "stderr",
     "output_type": "stream",
     "text": [
      "                                                                                           \r"
     ]
    },
    {
     "name": "stdout",
     "output_type": "stream",
     "text": [
      "Epoch: 221 | Train Loss: 0.001752 | Train Acc: 1.000000 | Train F1: 1.000000 | Valid Loss: 0.779735 | Valid Acc: 0.714286 | Valid F1: 0.662793 | LR: 8.22e-06\n"
     ]
    },
    {
     "name": "stderr",
     "output_type": "stream",
     "text": [
      "                                                                                           \r"
     ]
    },
    {
     "name": "stdout",
     "output_type": "stream",
     "text": [
      "Epoch: 222 | Train Loss: 0.001603 | Train Acc: 1.000000 | Train F1: 1.000000 | Valid Loss: 0.775185 | Valid Acc: 0.687075 | Valid F1: 0.638266 | LR: 8.02e-06\n"
     ]
    },
    {
     "name": "stderr",
     "output_type": "stream",
     "text": [
      "                                                                                           \r"
     ]
    },
    {
     "name": "stdout",
     "output_type": "stream",
     "text": [
      "Epoch: 223 | Train Loss: 0.002230 | Train Acc: 1.000000 | Train F1: 1.000000 | Valid Loss: 0.818409 | Valid Acc: 0.707483 | Valid F1: 0.654233 | LR: 7.82e-06\n"
     ]
    },
    {
     "name": "stderr",
     "output_type": "stream",
     "text": [
      "                                                                                           \r"
     ]
    },
    {
     "name": "stdout",
     "output_type": "stream",
     "text": [
      "Epoch: 224 | Train Loss: 0.002934 | Train Acc: 1.000000 | Train F1: 1.000000 | Valid Loss: 0.724383 | Valid Acc: 0.721088 | Valid F1: 0.669426 | LR: 7.62e-06\n"
     ]
    },
    {
     "name": "stderr",
     "output_type": "stream",
     "text": [
      "                                                                                           \r"
     ]
    },
    {
     "name": "stdout",
     "output_type": "stream",
     "text": [
      "Epoch: 225 | Train Loss: 0.002140 | Train Acc: 1.000000 | Train F1: 1.000000 | Valid Loss: 0.820337 | Valid Acc: 0.693878 | Valid F1: 0.643935 | LR: 7.42e-06\n"
     ]
    },
    {
     "name": "stderr",
     "output_type": "stream",
     "text": [
      "                                                                                           \r"
     ]
    },
    {
     "name": "stdout",
     "output_type": "stream",
     "text": [
      "Epoch: 226 | Train Loss: 0.003614 | Train Acc: 1.000000 | Train F1: 1.000000 | Valid Loss: 0.788304 | Valid Acc: 0.721088 | Valid F1: 0.668581 | LR: 7.22e-06\n"
     ]
    },
    {
     "name": "stderr",
     "output_type": "stream",
     "text": [
      "                                                                                           \r"
     ]
    },
    {
     "name": "stdout",
     "output_type": "stream",
     "text": [
      "Epoch: 227 | Train Loss: 0.001574 | Train Acc: 1.000000 | Train F1: 1.000000 | Valid Loss: 0.841718 | Valid Acc: 0.700680 | Valid F1: 0.649187 | LR: 7.02e-06\n"
     ]
    },
    {
     "name": "stderr",
     "output_type": "stream",
     "text": [
      "                                                                                           \r"
     ]
    },
    {
     "name": "stdout",
     "output_type": "stream",
     "text": [
      "Epoch: 228 | Train Loss: 0.001226 | Train Acc: 1.000000 | Train F1: 1.000000 | Valid Loss: 0.770739 | Valid Acc: 0.700680 | Valid F1: 0.652177 | LR: 6.83e-06\n"
     ]
    },
    {
     "name": "stderr",
     "output_type": "stream",
     "text": [
      "                                                                                           \r"
     ]
    },
    {
     "name": "stdout",
     "output_type": "stream",
     "text": [
      "Epoch: 229 | Train Loss: 0.002299 | Train Acc: 1.000000 | Train F1: 1.000000 | Valid Loss: 0.802230 | Valid Acc: 0.714286 | Valid F1: 0.667065 | LR: 6.63e-06\n"
     ]
    },
    {
     "name": "stderr",
     "output_type": "stream",
     "text": [
      "                                                                                           \r"
     ]
    },
    {
     "name": "stdout",
     "output_type": "stream",
     "text": [
      "Epoch: 230 | Train Loss: 0.005864 | Train Acc: 1.000000 | Train F1: 1.000000 | Valid Loss: 1.008896 | Valid Acc: 0.700680 | Valid F1: 0.652177 | LR: 6.44e-06\n"
     ]
    },
    {
     "name": "stderr",
     "output_type": "stream",
     "text": [
      "                                                                                           \r"
     ]
    },
    {
     "name": "stdout",
     "output_type": "stream",
     "text": [
      "Epoch: 231 | Train Loss: 0.001956 | Train Acc: 1.000000 | Train F1: 1.000000 | Valid Loss: 0.858526 | Valid Acc: 0.721088 | Valid F1: 0.668166 | LR: 6.25e-06\n"
     ]
    },
    {
     "name": "stderr",
     "output_type": "stream",
     "text": [
      "                                                                                           \r"
     ]
    },
    {
     "name": "stdout",
     "output_type": "stream",
     "text": [
      "Epoch: 232 | Train Loss: 0.004407 | Train Acc: 1.000000 | Train F1: 1.000000 | Valid Loss: 0.786282 | Valid Acc: 0.700680 | Valid F1: 0.649471 | LR: 6.06e-06\n"
     ]
    },
    {
     "name": "stderr",
     "output_type": "stream",
     "text": [
      "                                                                                           \r"
     ]
    },
    {
     "name": "stdout",
     "output_type": "stream",
     "text": [
      "Epoch: 233 | Train Loss: 0.001956 | Train Acc: 1.000000 | Train F1: 1.000000 | Valid Loss: 0.810886 | Valid Acc: 0.687075 | Valid F1: 0.632992 | LR: 5.88e-06\n"
     ]
    },
    {
     "name": "stderr",
     "output_type": "stream",
     "text": [
      "                                                                                           \r"
     ]
    },
    {
     "name": "stdout",
     "output_type": "stream",
     "text": [
      "Epoch: 234 | Train Loss: 0.001949 | Train Acc: 1.000000 | Train F1: 1.000000 | Valid Loss: 0.828473 | Valid Acc: 0.693878 | Valid F1: 0.639947 | LR: 5.69e-06\n"
     ]
    },
    {
     "name": "stderr",
     "output_type": "stream",
     "text": [
      "                                                                                           \r"
     ]
    },
    {
     "name": "stdout",
     "output_type": "stream",
     "text": [
      "Epoch: 235 | Train Loss: 0.001585 | Train Acc: 1.000000 | Train F1: 1.000000 | Valid Loss: 0.857866 | Valid Acc: 0.707483 | Valid F1: 0.646404 | LR: 5.51e-06\n"
     ]
    },
    {
     "name": "stderr",
     "output_type": "stream",
     "text": [
      "                                                                                           \r"
     ]
    },
    {
     "name": "stdout",
     "output_type": "stream",
     "text": [
      "Epoch: 236 | Train Loss: 0.001881 | Train Acc: 1.000000 | Train F1: 1.000000 | Valid Loss: 0.873242 | Valid Acc: 0.714286 | Valid F1: 0.650171 | LR: 5.33e-06\n"
     ]
    },
    {
     "name": "stderr",
     "output_type": "stream",
     "text": [
      "                                                                                           \r"
     ]
    },
    {
     "name": "stdout",
     "output_type": "stream",
     "text": [
      "Epoch: 237 | Train Loss: 0.005069 | Train Acc: 1.000000 | Train F1: 1.000000 | Valid Loss: 0.891830 | Valid Acc: 0.680272 | Valid F1: 0.622465 | LR: 5.15e-06\n"
     ]
    },
    {
     "name": "stderr",
     "output_type": "stream",
     "text": [
      "                                                                                           \r"
     ]
    },
    {
     "name": "stdout",
     "output_type": "stream",
     "text": [
      "Epoch: 238 | Train Loss: 0.001828 | Train Acc: 1.000000 | Train F1: 1.000000 | Valid Loss: 0.805917 | Valid Acc: 0.693878 | Valid F1: 0.633932 | LR: 4.98e-06\n"
     ]
    },
    {
     "name": "stderr",
     "output_type": "stream",
     "text": [
      "                                                                                           \r"
     ]
    },
    {
     "name": "stdout",
     "output_type": "stream",
     "text": [
      "Epoch: 239 | Train Loss: 0.001472 | Train Acc: 1.000000 | Train F1: 1.000000 | Valid Loss: 0.824049 | Valid Acc: 0.693878 | Valid F1: 0.639282 | LR: 4.80e-06\n"
     ]
    },
    {
     "name": "stderr",
     "output_type": "stream",
     "text": [
      "                                                                                           \r"
     ]
    },
    {
     "name": "stdout",
     "output_type": "stream",
     "text": [
      "Epoch: 240 | Train Loss: 0.004493 | Train Acc: 1.000000 | Train F1: 1.000000 | Valid Loss: 0.823102 | Valid Acc: 0.700680 | Valid F1: 0.649943 | LR: 4.63e-06\n"
     ]
    },
    {
     "name": "stderr",
     "output_type": "stream",
     "text": [
      "                                                                                           \r"
     ]
    },
    {
     "name": "stdout",
     "output_type": "stream",
     "text": [
      "Epoch: 241 | Train Loss: 0.002037 | Train Acc: 1.000000 | Train F1: 1.000000 | Valid Loss: 0.750199 | Valid Acc: 0.714286 | Valid F1: 0.655985 | LR: 4.47e-06\n"
     ]
    },
    {
     "name": "stderr",
     "output_type": "stream",
     "text": [
      "                                                                                           \r"
     ]
    },
    {
     "name": "stdout",
     "output_type": "stream",
     "text": [
      "Epoch: 242 | Train Loss: 0.001589 | Train Acc: 1.000000 | Train F1: 1.000000 | Valid Loss: 0.835023 | Valid Acc: 0.707483 | Valid F1: 0.646026 | LR: 4.30e-06\n"
     ]
    },
    {
     "name": "stderr",
     "output_type": "stream",
     "text": [
      "                                                                                           \r"
     ]
    },
    {
     "name": "stdout",
     "output_type": "stream",
     "text": [
      "Epoch: 243 | Train Loss: 0.001570 | Train Acc: 1.000000 | Train F1: 1.000000 | Valid Loss: 0.866117 | Valid Acc: 0.707483 | Valid F1: 0.644095 | LR: 4.14e-06\n"
     ]
    },
    {
     "name": "stderr",
     "output_type": "stream",
     "text": [
      "                                                                                           \r"
     ]
    },
    {
     "name": "stdout",
     "output_type": "stream",
     "text": [
      "Epoch: 244 | Train Loss: 0.001347 | Train Acc: 1.000000 | Train F1: 1.000000 | Valid Loss: 0.903923 | Valid Acc: 0.666667 | Valid F1: 0.609763 | LR: 3.98e-06\n"
     ]
    },
    {
     "name": "stderr",
     "output_type": "stream",
     "text": [
      "                                                                                           \r"
     ]
    },
    {
     "name": "stdout",
     "output_type": "stream",
     "text": [
      "Epoch: 245 | Train Loss: 0.002937 | Train Acc: 1.000000 | Train F1: 1.000000 | Valid Loss: 0.838094 | Valid Acc: 0.700680 | Valid F1: 0.646221 | LR: 3.82e-06\n"
     ]
    },
    {
     "name": "stderr",
     "output_type": "stream",
     "text": [
      "                                                                                           \r"
     ]
    },
    {
     "name": "stdout",
     "output_type": "stream",
     "text": [
      "Epoch: 246 | Train Loss: 0.002573 | Train Acc: 1.000000 | Train F1: 1.000000 | Valid Loss: 0.773970 | Valid Acc: 0.700680 | Valid F1: 0.644778 | LR: 3.66e-06\n"
     ]
    },
    {
     "name": "stderr",
     "output_type": "stream",
     "text": [
      "                                                                                           \r"
     ]
    },
    {
     "name": "stdout",
     "output_type": "stream",
     "text": [
      "Epoch: 247 | Train Loss: 0.001216 | Train Acc: 1.000000 | Train F1: 1.000000 | Valid Loss: 0.882394 | Valid Acc: 0.693878 | Valid F1: 0.639999 | LR: 3.51e-06\n"
     ]
    },
    {
     "name": "stderr",
     "output_type": "stream",
     "text": [
      "                                                                                           \r"
     ]
    },
    {
     "name": "stdout",
     "output_type": "stream",
     "text": [
      "Epoch: 248 | Train Loss: 0.001622 | Train Acc: 1.000000 | Train F1: 1.000000 | Valid Loss: 0.894466 | Valid Acc: 0.693878 | Valid F1: 0.637018 | LR: 3.36e-06\n"
     ]
    },
    {
     "name": "stderr",
     "output_type": "stream",
     "text": [
      "                                                                                           \r"
     ]
    },
    {
     "name": "stdout",
     "output_type": "stream",
     "text": [
      "Epoch: 249 | Train Loss: 0.002181 | Train Acc: 1.000000 | Train F1: 1.000000 | Valid Loss: 0.890613 | Valid Acc: 0.700680 | Valid F1: 0.645014 | LR: 3.21e-06\n"
     ]
    },
    {
     "name": "stderr",
     "output_type": "stream",
     "text": [
      "                                                                                           \r"
     ]
    },
    {
     "name": "stdout",
     "output_type": "stream",
     "text": [
      "Epoch: 250 | Train Loss: 0.003392 | Train Acc: 1.000000 | Train F1: 1.000000 | Valid Loss: 0.761291 | Valid Acc: 0.700680 | Valid F1: 0.646601 | LR: 3.07e-06\n"
     ]
    },
    {
     "name": "stderr",
     "output_type": "stream",
     "text": [
      "                                                                                           \r"
     ]
    },
    {
     "name": "stdout",
     "output_type": "stream",
     "text": [
      "Epoch: 251 | Train Loss: 0.001361 | Train Acc: 1.000000 | Train F1: 1.000000 | Valid Loss: 0.813777 | Valid Acc: 0.700680 | Valid F1: 0.642624 | LR: 2.92e-06\n"
     ]
    },
    {
     "name": "stderr",
     "output_type": "stream",
     "text": [
      "                                                                                           \r"
     ]
    },
    {
     "name": "stdout",
     "output_type": "stream",
     "text": [
      "Epoch: 252 | Train Loss: 0.002756 | Train Acc: 1.000000 | Train F1: 1.000000 | Valid Loss: 0.829603 | Valid Acc: 0.714286 | Valid F1: 0.658159 | LR: 2.79e-06\n"
     ]
    },
    {
     "name": "stderr",
     "output_type": "stream",
     "text": [
      "                                                                                           \r"
     ]
    },
    {
     "name": "stdout",
     "output_type": "stream",
     "text": [
      "Epoch: 253 | Train Loss: 0.001467 | Train Acc: 1.000000 | Train F1: 1.000000 | Valid Loss: 0.840896 | Valid Acc: 0.707483 | Valid F1: 0.649579 | LR: 2.65e-06\n"
     ]
    },
    {
     "name": "stderr",
     "output_type": "stream",
     "text": [
      "                                                                                           \r"
     ]
    },
    {
     "name": "stdout",
     "output_type": "stream",
     "text": [
      "Epoch: 254 | Train Loss: 0.001253 | Train Acc: 1.000000 | Train F1: 1.000000 | Valid Loss: 0.856009 | Valid Acc: 0.693878 | Valid F1: 0.635279 | LR: 2.52e-06\n"
     ]
    },
    {
     "name": "stderr",
     "output_type": "stream",
     "text": [
      "                                                                                           \r"
     ]
    },
    {
     "name": "stdout",
     "output_type": "stream",
     "text": [
      "Epoch: 255 | Train Loss: 0.001646 | Train Acc: 1.000000 | Train F1: 1.000000 | Valid Loss: 0.826146 | Valid Acc: 0.721088 | Valid F1: 0.660634 | LR: 2.39e-06\n"
     ]
    },
    {
     "name": "stderr",
     "output_type": "stream",
     "text": [
      "                                                                                           \r"
     ]
    },
    {
     "name": "stdout",
     "output_type": "stream",
     "text": [
      "Epoch: 256 | Train Loss: 0.001193 | Train Acc: 1.000000 | Train F1: 1.000000 | Valid Loss: 0.816208 | Valid Acc: 0.707483 | Valid F1: 0.654066 | LR: 2.26e-06\n"
     ]
    },
    {
     "name": "stderr",
     "output_type": "stream",
     "text": [
      "                                                                                           \r"
     ]
    },
    {
     "name": "stdout",
     "output_type": "stream",
     "text": [
      "Epoch: 257 | Train Loss: 0.001611 | Train Acc: 1.000000 | Train F1: 1.000000 | Valid Loss: 0.777993 | Valid Acc: 0.700680 | Valid F1: 0.639786 | LR: 2.14e-06\n"
     ]
    },
    {
     "name": "stderr",
     "output_type": "stream",
     "text": [
      "                                                                                           \r"
     ]
    },
    {
     "name": "stdout",
     "output_type": "stream",
     "text": [
      "Epoch: 258 | Train Loss: 0.001335 | Train Acc: 1.000000 | Train F1: 1.000000 | Valid Loss: 0.887547 | Valid Acc: 0.727891 | Valid F1: 0.659212 | LR: 2.02e-06\n"
     ]
    },
    {
     "name": "stderr",
     "output_type": "stream",
     "text": [
      "                                                                                           \r"
     ]
    },
    {
     "name": "stdout",
     "output_type": "stream",
     "text": [
      "Epoch: 259 | Train Loss: 0.002136 | Train Acc: 1.000000 | Train F1: 1.000000 | Valid Loss: 0.862839 | Valid Acc: 0.721088 | Valid F1: 0.656441 | LR: 1.90e-06\n"
     ]
    },
    {
     "name": "stderr",
     "output_type": "stream",
     "text": [
      "                                                                                           \r"
     ]
    },
    {
     "name": "stdout",
     "output_type": "stream",
     "text": [
      "Epoch: 260 | Train Loss: 0.001212 | Train Acc: 1.000000 | Train F1: 1.000000 | Valid Loss: 0.752635 | Valid Acc: 0.707483 | Valid F1: 0.644888 | LR: 1.79e-06\n"
     ]
    },
    {
     "name": "stderr",
     "output_type": "stream",
     "text": [
      "                                                                                           \r"
     ]
    },
    {
     "name": "stdout",
     "output_type": "stream",
     "text": [
      "Epoch: 261 | Train Loss: 0.001202 | Train Acc: 1.000000 | Train F1: 1.000000 | Valid Loss: 0.784330 | Valid Acc: 0.714286 | Valid F1: 0.650018 | LR: 1.67e-06\n"
     ]
    },
    {
     "name": "stderr",
     "output_type": "stream",
     "text": [
      "                                                                                           \r"
     ]
    },
    {
     "name": "stdout",
     "output_type": "stream",
     "text": [
      "Epoch: 262 | Train Loss: 0.001324 | Train Acc: 1.000000 | Train F1: 1.000000 | Valid Loss: 0.796087 | Valid Acc: 0.700680 | Valid F1: 0.634278 | LR: 1.57e-06\n"
     ]
    },
    {
     "name": "stderr",
     "output_type": "stream",
     "text": [
      "                                                                                           \r"
     ]
    },
    {
     "name": "stdout",
     "output_type": "stream",
     "text": [
      "Epoch: 263 | Train Loss: 0.001468 | Train Acc: 1.000000 | Train F1: 1.000000 | Valid Loss: 0.861725 | Valid Acc: 0.693878 | Valid F1: 0.625087 | LR: 1.46e-06\n"
     ]
    },
    {
     "name": "stderr",
     "output_type": "stream",
     "text": [
      "                                                                                           \r"
     ]
    },
    {
     "name": "stdout",
     "output_type": "stream",
     "text": [
      "Epoch: 264 | Train Loss: 0.003698 | Train Acc: 1.000000 | Train F1: 1.000000 | Valid Loss: 0.934018 | Valid Acc: 0.714286 | Valid F1: 0.645726 | LR: 1.36e-06\n"
     ]
    },
    {
     "name": "stderr",
     "output_type": "stream",
     "text": [
      "                                                                                           \r"
     ]
    },
    {
     "name": "stdout",
     "output_type": "stream",
     "text": [
      "Epoch: 265 | Train Loss: 0.001325 | Train Acc: 1.000000 | Train F1: 1.000000 | Valid Loss: 0.989880 | Valid Acc: 0.707483 | Valid F1: 0.646902 | LR: 1.27e-06\n"
     ]
    },
    {
     "name": "stderr",
     "output_type": "stream",
     "text": [
      "                                                                                           \r"
     ]
    },
    {
     "name": "stdout",
     "output_type": "stream",
     "text": [
      "Epoch: 266 | Train Loss: 0.001476 | Train Acc: 1.000000 | Train F1: 1.000000 | Valid Loss: 0.807951 | Valid Acc: 0.700680 | Valid F1: 0.638168 | LR: 1.17e-06\n"
     ]
    },
    {
     "name": "stderr",
     "output_type": "stream",
     "text": [
      "                                                                                           \r"
     ]
    },
    {
     "name": "stdout",
     "output_type": "stream",
     "text": [
      "Epoch: 267 | Train Loss: 0.001686 | Train Acc: 1.000000 | Train F1: 1.000000 | Valid Loss: 0.803065 | Valid Acc: 0.734694 | Valid F1: 0.666204 | LR: 1.08e-06\n"
     ]
    },
    {
     "name": "stderr",
     "output_type": "stream",
     "text": [
      "                                                                                           \r"
     ]
    },
    {
     "name": "stdout",
     "output_type": "stream",
     "text": [
      "Epoch: 268 | Train Loss: 0.003289 | Train Acc: 1.000000 | Train F1: 1.000000 | Valid Loss: 0.806053 | Valid Acc: 0.714286 | Valid F1: 0.655354 | LR: 9.94e-07\n"
     ]
    },
    {
     "name": "stderr",
     "output_type": "stream",
     "text": [
      "                                                                                           \r"
     ]
    },
    {
     "name": "stdout",
     "output_type": "stream",
     "text": [
      "Epoch: 269 | Train Loss: 0.001696 | Train Acc: 1.000000 | Train F1: 1.000000 | Valid Loss: 0.941237 | Valid Acc: 0.714286 | Valid F1: 0.648866 | LR: 9.10e-07\n"
     ]
    },
    {
     "name": "stderr",
     "output_type": "stream",
     "text": [
      "                                                                                           \r"
     ]
    },
    {
     "name": "stdout",
     "output_type": "stream",
     "text": [
      "Epoch: 270 | Train Loss: 0.001798 | Train Acc: 1.000000 | Train F1: 1.000000 | Valid Loss: 0.763207 | Valid Acc: 0.700680 | Valid F1: 0.639507 | LR: 8.30e-07\n"
     ]
    },
    {
     "name": "stderr",
     "output_type": "stream",
     "text": [
      "                                                                                           \r"
     ]
    },
    {
     "name": "stdout",
     "output_type": "stream",
     "text": [
      "Epoch: 271 | Train Loss: 0.001442 | Train Acc: 1.000000 | Train F1: 1.000000 | Valid Loss: 0.838620 | Valid Acc: 0.721088 | Valid F1: 0.651739 | LR: 7.54e-07\n"
     ]
    },
    {
     "name": "stderr",
     "output_type": "stream",
     "text": [
      "                                                                                           \r"
     ]
    },
    {
     "name": "stdout",
     "output_type": "stream",
     "text": [
      "Epoch: 272 | Train Loss: 0.001079 | Train Acc: 1.000000 | Train F1: 1.000000 | Valid Loss: 0.874021 | Valid Acc: 0.707483 | Valid F1: 0.643305 | LR: 6.81e-07\n"
     ]
    },
    {
     "name": "stderr",
     "output_type": "stream",
     "text": [
      "                                                                                           \r"
     ]
    },
    {
     "name": "stdout",
     "output_type": "stream",
     "text": [
      "Epoch: 273 | Train Loss: 0.002787 | Train Acc: 1.000000 | Train F1: 1.000000 | Valid Loss: 0.767854 | Valid Acc: 0.727891 | Valid F1: 0.666060 | LR: 6.12e-07\n"
     ]
    },
    {
     "name": "stderr",
     "output_type": "stream",
     "text": [
      "                                                                                           \r"
     ]
    },
    {
     "name": "stdout",
     "output_type": "stream",
     "text": [
      "Epoch: 274 | Train Loss: 0.001005 | Train Acc: 1.000000 | Train F1: 1.000000 | Valid Loss: 0.833303 | Valid Acc: 0.714286 | Valid F1: 0.653175 | LR: 5.46e-07\n"
     ]
    },
    {
     "name": "stderr",
     "output_type": "stream",
     "text": [
      "                                                                                           \r"
     ]
    },
    {
     "name": "stdout",
     "output_type": "stream",
     "text": [
      "Epoch: 275 | Train Loss: 0.001361 | Train Acc: 1.000000 | Train F1: 1.000000 | Valid Loss: 0.903780 | Valid Acc: 0.721088 | Valid F1: 0.665161 | LR: 4.84e-07\n"
     ]
    },
    {
     "name": "stderr",
     "output_type": "stream",
     "text": [
      "                                                                                           \r"
     ]
    },
    {
     "name": "stdout",
     "output_type": "stream",
     "text": [
      "Epoch: 276 | Train Loss: 0.001884 | Train Acc: 1.000000 | Train F1: 1.000000 | Valid Loss: 0.858014 | Valid Acc: 0.700680 | Valid F1: 0.645021 | LR: 4.26e-07\n"
     ]
    },
    {
     "name": "stderr",
     "output_type": "stream",
     "text": [
      "                                                                                           \r"
     ]
    },
    {
     "name": "stdout",
     "output_type": "stream",
     "text": [
      "Epoch: 277 | Train Loss: 0.004157 | Train Acc: 1.000000 | Train F1: 1.000000 | Valid Loss: 0.989222 | Valid Acc: 0.693878 | Valid F1: 0.627342 | LR: 3.71e-07\n"
     ]
    },
    {
     "name": "stderr",
     "output_type": "stream",
     "text": [
      "                                                                                           \r"
     ]
    },
    {
     "name": "stdout",
     "output_type": "stream",
     "text": [
      "Epoch: 278 | Train Loss: 0.002416 | Train Acc: 1.000000 | Train F1: 1.000000 | Valid Loss: 0.767835 | Valid Acc: 0.707483 | Valid F1: 0.646589 | LR: 3.20e-07\n"
     ]
    },
    {
     "name": "stderr",
     "output_type": "stream",
     "text": [
      "Epoch 278 Train - Loss: 0.0010, Smooth Loss: 0.0010:  17% 1/6 [00:01<00:05,  1.12s/it]"
     ]
    }
   ],
   "source": [
    "import logging\n",
    "# 데이터셋 클래스와 변환, 모델, 손실 함수, 최적화 기법을 그대로 사용\n",
    "# 위 코드에서 정의한 CustomDataset, train_transforms, test_transforms 등을 사용\n",
    "\n",
    "# 전체 데이터셋 준비\n",
    "full_dataset = CustomDataset(full_df, train_transforms)  # full_df는 전체 데이터프레임을 나타냅니다.\n",
    "\n",
    "# KFold 설정\n",
    "k_folds = 5\n",
    "kf = KFold(n_splits=k_folds, shuffle=True, random_state=1020)\n",
    "\n",
    "# K-fold 교차 검증 시작\n",
    "fold_perf = {}\n",
    "\n",
    "for fold, (train_idx, valid_idx) in enumerate(kf.split(full_dataset)):\n",
    "    print(f\"Fold {fold+1}\")\n",
    "    \n",
    "    # 데이터셋 분할\n",
    "    train_subsampler = torch.utils.data.SubsetRandomSampler(train_idx)\n",
    "    valid_subsampler = torch.utils.data.SubsetRandomSampler(valid_idx)\n",
    "    \n",
    "    # 데이터 로더 설정\n",
    "    train_loader = DataLoader(full_dataset, batch_size=16, sampler=train_subsampler, num_workers=12)\n",
    "    valid_loader = DataLoader(full_dataset, batch_size=16, sampler=valid_subsampler, num_workers=12)\n",
    "    \n",
    "    # 모델 초기화 및 이동\n",
    "    model = timm.create_model('resnext101_32x32d', pretrained=True, num_classes=7)\n",
    "    model = model.to('cuda')\n",
    "    \n",
    "    # 손실 함수, 최적화, 스케줄러 설정\n",
    "    criterion = nn.BCELoss()\n",
    "    optimizer = optim.AdamW(model.parameters(), lr=0)\n",
    "    scheduler = CosineAnnealingWarmUpRestarts(optimizer, T_0=100, T_mult=2, eta_max=5e-5,  T_up=10, gamma=0.5)\n",
    "    \n",
    "    best_f1 = -float('inf')  # 이 fold에서 최고 F1-score 초기화\n",
    "    best_loss = 0\n",
    "    # 학습 및 검증\n",
    "    for epoch in range(epochs):\n",
    "        train_loss, train_acc, train_f1 = run_model(model, train_loader, criterion, optimizer, is_training=True, epoch=epoch)\n",
    "        valid_loss, valid_acc, valid_f1 = run_model(model, valid_loader, criterion, optimizer, is_training=False, epoch=epoch)\n",
    "        print(f'Epoch: {epoch+1} | Train Loss: {train_loss:.6f} | Train Acc: {train_acc:.6f} | Train F1: {train_f1:.6f} | Valid Loss: {valid_loss:.6f} | Valid Acc: {valid_acc:.6f} | Valid F1: {valid_f1:.6f} | LR: {optimizer.param_groups[0][\"lr\"]:.2e}')\n",
    "        # F1-score를 기준으로 모델 저장\n",
    "        if valid_f1 > best_f1:\n",
    "            logging.info(f'Epoch {epoch}: New best F1-score {valid_f1:.4f} in fold {fold+1}')\n",
    "            best_f1 = valid_f1\n",
    "            best_loss = valid_loss\n",
    "            print(f'Epoch {epoch}: New best F1-score {valid_f1:.4f} in fold {fold+1}, model saved.')\n",
    "        \n",
    "        scheduler.step()\n",
    "    model_path = f'model_fold_{fold}_f1-{best_f1:.3f}_loss-{best_loss:.3f}_reverseQ3.pt'\n",
    "    torch.save(model.state_dict(), model_path)\n",
    "    logging.info(f'Model saved: {model_path}')\n",
    "    # 각 fold의 성능 기록\n",
    "    fold_perf[fold] = {\n",
    "        'train_loss': train_loss,\n",
    "        'train_acc': train_acc,\n",
    "        'train_f1': train_f1,\n",
    "        'valid_loss': valid_loss,\n",
    "        'valid_acc': valid_acc,\n",
    "        'valid_f1': valid_f1\n",
    "    }\n"
   ]
  },
  {
   "cell_type": "code",
   "execution_count": null,
   "metadata": {},
   "outputs": [],
   "source": []
  },
  {
   "cell_type": "code",
   "execution_count": null,
   "metadata": {},
   "outputs": [],
   "source": [
    "import timm\n",
    "\n",
    "resnet_models = timm.list_models()\n",
    "\n",
    "for model_name in resnet_models:\n",
    "    print(model_name)"
   ]
  },
  {
   "cell_type": "code",
   "execution_count": null,
   "metadata": {},
   "outputs": [],
   "source": []
  },
  {
   "cell_type": "code",
   "execution_count": null,
   "metadata": {},
   "outputs": [],
   "source": []
  }
 ],
 "metadata": {
  "kernelspec": {
   "display_name": "PyTorch 2.1 (NGC 23.07/Python 3.10) on Backend.AI",
   "language": "python",
   "name": "python3"
  },
  "language_info": {
   "codemirror_mode": {
    "name": "ipython",
    "version": 3
   },
   "file_extension": ".py",
   "mimetype": "text/x-python",
   "name": "python",
   "nbconvert_exporter": "python",
   "pygments_lexer": "ipython3",
   "version": "3.10.6"
  }
 },
 "nbformat": 4,
 "nbformat_minor": 4
}
