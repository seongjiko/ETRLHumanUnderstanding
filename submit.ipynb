{
 "cells": [
  {
   "cell_type": "code",
   "execution_count": 5,
   "id": "48f86a62",
   "metadata": {},
   "outputs": [
    {
     "name": "stdout",
     "output_type": "stream",
     "text": [
      "     subject_id        date  Q1  Q2  Q3  S1  S2  S3  S4\n",
      "0             5  2023-11-05   0   1   1   1   0   0   0\n",
      "1             5  2023-11-06   0   1   1   1   0   0   0\n",
      "2             5  2023-11-07   1   1   1   1   0   0   0\n",
      "3             5  2023-11-08   0   1   1   1   0   0   0\n",
      "4             5  2023-11-09   0   1   1   0   0   0   0\n",
      "5             5  2023-11-10   0   1   1   1   0   0   0\n",
      "6             5  2023-11-11   0   0   1   1   0   0   0\n",
      "7             5  2023-11-12   0   1   1   1   0   0   0\n",
      "8             5  2023-11-13   1   1   1   1   0   0   0\n",
      "9             5  2023-11-14   1   1   1   1   0   0   0\n",
      "10            5  2023-11-15   0   1   1   1   0   0   0\n",
      "11            5  2023-11-16   0   0   1   1   0   0   0\n",
      "12            5  2023-11-17   0   1   1   0   0   0   0\n",
      "13            5  2023-11-18   0   1   1   0   0   0   0\n",
      "14            5  2023-11-19   0   1   1   0   0   0   0\n",
      "15            5  2023-11-20   0   1   1   0   0   0   0\n",
      "16            5  2023-11-21   0   1   1   0   0   0   0\n",
      "17            5  2023-11-22   0   1   1   1   0   0   0\n",
      "18            5  2023-11-23   0   1   1   1   0   0   0\n",
      "19            5  2023-11-24   0   0   1   1   0   0   0\n",
      "20            6  2023-10-06   1   1   1   0   0   1   0\n",
      "21            6  2023-10-07   1   1   0   0   0   1   0\n",
      "22            6  2023-10-08   0   1   0   0   1   1   0\n",
      "23            6  2023-10-09   0   1   0   0   1   1   1\n",
      "24            6  2023-10-10   1   1   0   0   0   1   0\n",
      "25            6  2023-10-11   0   1   0   0   0   1   0\n",
      "26            6  2023-10-12   0   1   0   0   0   1   0\n",
      "27            6  2023-10-13   1   1   0   0   0   0   0\n",
      "28            6  2023-10-14   0   1   0   0   1   1   0\n",
      "29            6  2023-10-15   0   1   0   0   0   1   0\n",
      "30            6  2023-10-16   1   1   0   0   0   1   0\n",
      "31            6  2023-10-17   0   1   0   0   0   1   0\n",
      "32            6  2023-10-18   1   1   0   0   0   1   0\n",
      "33            6  2023-10-19   1   1   0   1   0   1   0\n",
      "34            6  2023-10-20   1   1   1   1   0   0   0\n",
      "35            6  2023-10-21   1   1   0   1   0   1   0\n",
      "36            6  2023-10-22   0   1   0   0   0   1   0\n",
      "37            6  2023-10-23   1   1   0   0   0   1   0\n",
      "38            6  2023-10-24   1   1   1   1   0   0   0\n",
      "39            6  2023-10-25   0   1   0   0   0   1   0\n",
      "40            6  2023-10-26   0   1   0   0   0   1   0\n",
      "41            6  2023-10-27   0   1   0   0   0   1   0\n",
      "42            6  2023-10-28   1   1   0   1   0   1   0\n",
      "43            6  2023-10-29   0   1   0   0   0   1   0\n",
      "44            6  2023-10-30   0   1   1   0   0   0   0\n",
      "45            6  2023-10-31   0   1   1   0   0   1   0\n",
      "46            6  2023-11-01   0   1   0   0   0   1   0\n",
      "47            6  2023-11-02   1   1   0   1   0   0   0\n",
      "48            6  2023-11-03   0   1   0   0   0   0   0\n",
      "49            6  2023-11-04   0   1   0   1   0   1   0\n",
      "50            6  2023-11-05   0   1   1   0   0   1   0\n",
      "51            6  2023-11-06   0   1   1   0   0   1   0\n",
      "52            6  2023-11-07   0   1   0   0   0   1   0\n",
      "53            7  2023-11-02   1   1   1   0   1   1   1\n",
      "54            7  2023-11-03   0   1   1   0   1   1   1\n",
      "55            7  2023-11-04   0   1   1   0   1   1   1\n",
      "56            7  2023-11-05   1   1   1   0   1   1   1\n",
      "57            7  2023-11-06   0   1   0   0   1   1   1\n",
      "58            7  2023-11-07   0   0   1   0   1   1   1\n",
      "59            7  2023-11-08   0   1   1   0   1   1   1\n",
      "60            7  2023-11-09   0   1   1   0   1   1   1\n",
      "61            7  2023-11-10   1   1   1   0   1   1   1\n",
      "62            7  2023-11-12   1   1   1   1   1   1   1\n",
      "63            7  2023-11-13   1   1   1   1   1   1   1\n",
      "64            7  2023-11-14   0   1   1   0   1   1   1\n",
      "65            7  2023-11-15   0   1   0   0   1   1   1\n",
      "66            7  2023-11-16   0   1   1   0   1   1   1\n",
      "67            7  2023-11-18   0   1   0   1   1   0   1\n",
      "68            7  2023-11-19   0   1   1   0   0   1   1\n",
      "69            7  2023-11-20   0   1   1   0   1   1   1\n",
      "70            7  2023-11-21   0   1   1   0   1   1   1\n",
      "71            7  2023-11-22   0   1   0   0   1   1   1\n",
      "72            7  2023-11-23   0   1   1   0   1   1   1\n",
      "73            7  2023-11-24   0   1   0   1   1   1   1\n",
      "74            7  2023-11-25   0   1   1   0   1   1   1\n",
      "75            7  2023-11-26   1   1   1   0   0   0   0\n",
      "76            7  2023-11-27   0   1   1   1   1   1   1\n",
      "77            7  2023-11-28   0   1   1   1   1   1   1\n",
      "78            7  2023-11-29   0   1   1   1   1   1   1\n",
      "79            7  2023-11-30   0   1   1   0   1   1   1\n",
      "80            7  2023-12-01   0   1   1   0   0   0   0\n",
      "81            7  2023-12-02   0   1   1   0   1   1   1\n",
      "82            7  2023-12-03   0   1   1   1   1   1   1\n",
      "83            7  2023-12-04   0   1   1   0   1   1   1\n",
      "84            7  2023-12-05   0   1   1   0   0   1   0\n",
      "85            7  2023-12-06   1   1   1   1   1   1   1\n",
      "86            8  2023-10-08   1   0   1   1   0   0   0\n",
      "87            8  2023-10-09   1   1   1   0   0   0   0\n",
      "88            8  2023-10-10   1   1   1   1   0   0   1\n",
      "89            8  2023-10-11   1   1   1   0   0   0   0\n",
      "90            8  2023-10-13   0   0   1   1   0   0   0\n",
      "91            8  2023-10-15   1   1   0   1   1   0   1\n",
      "92            8  2023-10-16   1   1   1   1   0   0   0\n",
      "93            8  2023-10-17   1   1   1   0   0   0   0\n",
      "94            8  2023-10-19   1   1   1   1   0   0   0\n",
      "95            8  2023-10-20   1   1   1   0   0   1   0\n",
      "96            8  2023-10-22   1   1   1   1   0   0   1\n",
      "97            8  2023-10-23   1   1   1   1   0   1   0\n",
      "98            8  2023-10-24   1   1   1   0   0   0   0\n",
      "99            8  2023-10-25   0   1   1   0   0   0   1\n",
      "100           8  2023-10-26   1   1   1   1   0   1   0\n",
      "101           8  2023-10-27   1   1   1   1   0   0   0\n",
      "102           8  2023-10-28   1   1   1   0   0   0   0\n",
      "103           8  2023-10-29   1   1   0   0   0   0   0\n",
      "104           8  2023-10-30   1   1   0   1   0   0   0\n",
      "105           8  2023-10-31   1   1   1   1   0   0   0\n",
      "106           8  2023-11-01   0   1   1   0   0   0   0\n",
      "107           8  2023-11-02   1   1   1   0   0   0   0\n",
      "108           8  2023-11-03   1   1   1   1   0   0   0\n",
      "109           8  2023-11-04   1   1   1   0   0   0   0\n",
      "110           8  2023-11-05   1   1   1   0   0   0   0\n",
      "111           8  2023-11-06   1   1   0   0   0   0   0\n",
      "112           8  2023-11-07   0   1   1   1   0   0   0\n",
      "113           8  2023-11-08   1   1   1   0   0   0   0\n",
      "114           8  2023-11-09   1   0   1   1   0   0   0\n"
     ]
    }
   ],
   "source": [
    "import pandas as pd\n",
    "import numpy as np\n",
    "\n",
    "resnext = pd.read_csv('result/resnext101_32x32d.csv')\n",
    "seresnext = pd.read_csv('result/seresnext101_32x4d.csv') # 6.12\n",
    "\n",
    "test_df = pd.read_csv('datasets/answer_sample.csv')\n",
    "test_df['Q1'] = 0\n",
    "test_df['Q2'] = 1\n",
    "test_df['Q3'] = 0\n",
    "test_df['S1'] = 1\n",
    "test_df['S2'] = 0\n",
    "test_df['S3'] = 0\n",
    "test_df['S4'] = 0\n",
    "\n",
    "weight = test_df\n",
    "\n",
    "# 각 데이터프레임에서 필요한 열만 추출하여 새로운 데이터프레임 생성\n",
    "columns = ['Q1', 'Q2', 'Q3', 'S1', 'S2', 'S3', 'S4']\n",
    "predictions_resnext = resnext[columns]\n",
    "predictions_seresnext = seresnext[columns]\n",
    "predictions_weight = weight[columns]\n",
    "\n",
    "# 하드 보팅을 위한 데이터프레임 생성\n",
    "final_predictions = pd.DataFrame()\n",
    "for col in columns:\n",
    "    combined = pd.concat([predictions_resnext[col], predictions_seresnext[col], predictions_weight[col]], axis=1)\n",
    "    final_predictions[col] = combined.mode(axis=1)[0].astype(int)  # 최빈값 선택, 첫번째 결과 사용\n",
    "\n",
    "# 최종 데이터프레임 생성: test_df의 'subject_id'와 'date' 열을 유지하고, 예측 결과를 추가\n",
    "final_df = pd.concat([test_df[['subject_id', 'date']], final_predictions], axis=1)\n",
    "\n",
    "# 데이터프레임 저장\n",
    "final_df.to_csv('submit.csv', index=False)\n",
    "\n",
    "# 데이터프레임 출력\n",
    "pd.set_option('display.max_rows', None)\n",
    "print(final_df)"
   ]
  },
  {
   "cell_type": "code",
   "execution_count": 8,
   "id": "252fff5c",
   "metadata": {},
   "outputs": [
    {
     "data": {
      "text/plain": [
       "0    67\n",
       "1    48\n",
       "Name: Q1, dtype: int64"
      ]
     },
     "metadata": {},
     "output_type": "display_data"
    },
    {
     "data": {
      "text/plain": [
       "1    108\n",
       "0      7\n",
       "Name: Q2, dtype: int64"
      ]
     },
     "metadata": {},
     "output_type": "display_data"
    },
    {
     "data": {
      "text/plain": [
       "1    80\n",
       "0    35\n",
       "Name: Q3, dtype: int64"
      ]
     },
     "metadata": {},
     "output_type": "display_data"
    },
    {
     "data": {
      "text/plain": [
       "0    70\n",
       "1    45\n",
       "Name: S1, dtype: int64"
      ]
     },
     "metadata": {},
     "output_type": "display_data"
    },
    {
     "data": {
      "text/plain": [
       "0    82\n",
       "1    33\n",
       "Name: S2, dtype: int64"
      ]
     },
     "metadata": {},
     "output_type": "display_data"
    },
    {
     "data": {
      "text/plain": [
       "1    60\n",
       "0    55\n",
       "Name: S3, dtype: int64"
      ]
     },
     "metadata": {},
     "output_type": "display_data"
    },
    {
     "data": {
      "text/plain": [
       "0    80\n",
       "1    35\n",
       "Name: S4, dtype: int64"
      ]
     },
     "metadata": {},
     "output_type": "display_data"
    }
   ],
   "source": [
    "display(final_df['Q1'].value_counts())\n",
    "display(final_df['Q2'].value_counts())\n",
    "display(final_df['Q3'].value_counts())\n",
    "display(final_df['S1'].value_counts())\n",
    "display(final_df['S2'].value_counts())\n",
    "display(final_df['S3'].value_counts())\n",
    "display(final_df['S4'].value_counts())"
   ]
  }
 ],
 "metadata": {
  "kernelspec": {
   "display_name": "PyTorch 2.1 (NGC 23.07/Python 3.10) on Backend.AI",
   "language": "python",
   "name": "python3"
  },
  "language_info": {
   "codemirror_mode": {
    "name": "ipython",
    "version": 3
   },
   "file_extension": ".py",
   "mimetype": "text/x-python",
   "name": "python",
   "nbconvert_exporter": "python",
   "pygments_lexer": "ipython3",
   "version": "3.10.6"
  }
 },
 "nbformat": 4,
 "nbformat_minor": 5
}
